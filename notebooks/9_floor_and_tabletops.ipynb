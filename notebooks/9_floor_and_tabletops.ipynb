{
 "cells": [
  {
   "cell_type": "markdown",
   "metadata": {
    "lang": "en"
   },
   "source": [
    "## Setup"
   ]
  },
  {
   "cell_type": "markdown",
   "metadata": {
    "lang": "ja"
   },
   "source": [
    "必要なライブラリをインポートして、初期化を行います。"
   ]
  },
  {
   "cell_type": "markdown",
   "metadata": {
    "lang": "en"
   },
   "source": [
    "Import the required libraries and initialize them:"
   ]
  },
  {
   "cell_type": "code",
   "execution_count": 1,
   "metadata": {},
   "outputs": [],
   "source": [
    "%matplotlib inline\n",
    "import matplotlib.pyplot as plt\n",
    "import numpy as np\n",
    "import ros_numpy\n",
    "import rospy\n",
    "import tf\n",
    "from gazebo_ros import gazebo_interface\n",
    "from sensor_msgs.msg import LaserScan, PointCloud2\n",
    "from geometry_msgs.msg import Pose, Quaternion ,TransformStamped\n",
    "\n",
    "import sys\n",
    "\n",
    "from utils_notebooks import *\n",
    "import cv2\n",
    "import os\n"
   ]
  },
  {
   "cell_type": "code",
   "execution_count": 2,
   "metadata": {},
   "outputs": [],
   "source": [
    "## THIS PATH MUST BE SET BY USER ()\n",
    "\n",
    "#_path_xml = \"/home/oscar/Codes/ycb_ws/src/robot_object_views/robotobject/models/MODEL_NAME/model-1_4.sdf\"\n",
    "#_path_model = \"/home/oscar/Codes/ycb_ws/src/robot_object_views/robotobject/models\"   Tenshi Version\n",
    "\n",
    "\n",
    "_path_model = \"/home/oscar/Codes/catkin_mio_ws/src/tmc_wrs_gazebo_world/models\"     #Catkin mio version \n",
    "_path_xml = _path_model+\"/MODEL_NAME/model-1_4.sdf\"  #Catkin mio version\n",
    "\n",
    "\n",
    "model_database_template = \"\"\"<sdf version=\"1.4\">\n",
    "  <world name=\"default\">\n",
    "    <include>\n",
    "      <uri>model://MODEL_NAME</uri>\n",
    "    </include>\n",
    "  </world>\n",
    "</sdf>\"\"\"\n",
    "\n",
    "objs=os.listdir(_path_model)\n",
    "objs.sort()\n",
    "\n"
   ]
  },
  {
   "cell_type": "markdown",
   "metadata": {
    "lang": "ja"
   },
   "source": [
    "rvizを起動します．ロボットモデル、カメラ映像、ポイントクラウドが表示されています。"
   ]
  },
  {
   "cell_type": "code",
   "execution_count": 3,
   "metadata": {},
   "outputs": [],
   "source": [
    "\n",
    "rospy.init_node(\"recognition\")\n"
   ]
  },
  {
   "cell_type": "code",
   "execution_count": 4,
   "metadata": {},
   "outputs": [],
   "source": [
    "rgbd = RGBD()"
   ]
  },
  {
   "cell_type": "code",
   "execution_count": 5,
   "metadata": {},
   "outputs": [],
   "source": [
    "listener = tf.TransformListener()\n",
    "broadcaster= tf.TransformBroadcaster()\n",
    "import moveit_commander\n",
    "import moveit_msgs.msg\n",
    "\n",
    "head = moveit_commander.MoveGroupCommander('head')"
   ]
  },
  {
   "cell_type": "markdown",
   "metadata": {
    "lang": "en"
   },
   "source": [
    "Launch RViz. The robot model, camera image, and point cloud are displayed:"
   ]
  },
  {
   "cell_type": "code",
   "execution_count": 6,
   "metadata": {},
   "outputs": [],
   "source": [
    "pub = rospy.Publisher('goal', PoseStamped, queue_size=10)\n",
    "\n",
    "# wait to establish connection between the navigation interface\n",
    "# move_base and navigation_log_recorder node\n",
    "\n"
   ]
  },
  {
   "cell_type": "code",
   "execution_count": 7,
   "metadata": {},
   "outputs": [],
   "source": [
    "def move_base(x,y,th, ref='map'):\n",
    "    # input goal pose\n",
    "    goal_x = x\n",
    "    goal_y = y\n",
    "    goal_yaw =th\n",
    "\n",
    "    # fill ROS message\n",
    "    goal = PoseStamped()\n",
    "    goal.header.stamp = rospy.Time.now()\n",
    "    goal.header.frame_id = ref\n",
    "    goal.pose.position = Point(goal_x, goal_y, 0)\n",
    "    quat = tf.transformations.quaternion_from_euler(0, 0, goal_yaw)\n",
    "    goal.pose.orientation = Quaternion(*quat)\n",
    "    # publish ROS message\n",
    "    pub.publish(goal)\n",
    "    "
   ]
  },
  {
   "cell_type": "code",
   "execution_count": 8,
   "metadata": {},
   "outputs": [],
   "source": [
    "move_base(1.14,0.86,1.57)"
   ]
  },
  {
   "cell_type": "code",
   "execution_count": 122,
   "metadata": {},
   "outputs": [
    {
     "data": {
      "text/plain": [
       "([0.9716917583183499, 0.5746324309287307, 0.9858022110030429],\n",
       " (-4.8965811411141055e-12, 0.7830089697521297, 1.5149871445520837))"
      ]
     },
     "execution_count": 122,
     "metadata": {},
     "output_type": "execute_result"
    }
   ],
   "source": [
    "#moveit\n",
    "#MOVE IT MUST BE RUNNING. DECLARE A HEAD POSE\n",
    "head_val=head.get_current_joint_values()\n",
    "head_val[0]=np.deg2rad(0)\n",
    "head_val[1]=np.deg2rad(-45)\n",
    "#WATCH OUT FOR JOINTS LIMITS (exorcist joke)\n",
    "#plan and execute target pose\n",
    "head.set_joint_value_target(head_val)\n",
    "head.go()\n",
    "\n",
    "trans , rot = listener.lookupTransform('/map', '/head_rgbd_sensor_gazebo_frame', rospy.Time(0))\n",
    "#trans , rot = listener.lookupTransform('/map', '/head_rgbd_sensor_link', rospy.Time(0))\n",
    "euler=tf.transformations.euler_from_quaternion(rot)\n",
    "\n",
    "trans, euler"
   ]
  },
  {
   "cell_type": "code",
   "execution_count": 123,
   "metadata": {},
   "outputs": [
    {
     "data": {
      "text/plain": [
       "([0.9716917583183499, 0.5746324309287307, 0.9858022110030429],\n",
       " array([-2.80553433e-10,  4.48631093e+01,  8.68023694e+01]))"
      ]
     },
     "execution_count": 123,
     "metadata": {},
     "output_type": "execute_result"
    }
   ],
   "source": [
    "trans , rot = listener.lookupTransform('/map', '/head_rgbd_sensor_gazebo_frame', rospy.Time(0))\n",
    "#trans , rot = listener.lookupTransform('/map', '/head_rgbd_sensor_link', rospy.Time(0))\n",
    "euler=tf.transformations.euler_from_quaternion(rot)\n",
    "\n",
    "\n",
    "trans, np.rad2deg(euler)"
   ]
  },
  {
   "cell_type": "code",
   "execution_count": 124,
   "metadata": {},
   "outputs": [],
   "source": [
    "def cart2spher(x,y,z):\n",
    "    ro= np.sqrt(x**2+y**2+z**2)\n",
    "    th=np.arctan2(y,x)\n",
    "    phi=np.arctan2((np.sqrt(x**2+y**2)),z)\n",
    "    return np.asarray((ro,th,phi))\n",
    "def spher2cart(ro,th,phi):\n",
    "    x= ro * np.cos(th)* np.sin(phi)\n",
    "    y= ro * np.sin(th)* np.sin(phi)\n",
    "    z= ro*  np.cos(th)\n",
    "    return np.asarray((x,y,z))"
   ]
  },
  {
   "cell_type": "code",
   "execution_count": 125,
   "metadata": {},
   "outputs": [
    {
     "data": {
      "text/plain": [
       "<matplotlib.image.AxesImage at 0x7f07927f06d0>"
      ]
     },
     "execution_count": 125,
     "metadata": {},
     "output_type": "execute_result"
    },
    {
     "data": {
      "image/png": "[encoded data removed]",
      "text/plain": [
       "<matplotlib.figure.Figure at 0x7f0792c72090>"
      ]
     },
     "metadata": {
      "needs_background": "light"
     },
     "output_type": "display_data"
    }
   ],
   "source": [
    "# ポイントクラウドを取得します Get point cloud information\n",
    "points_data = rgbd.get_points()\n",
    "# ポイントクラウドの深度情報を表示してみます Display the depth value of the point cloud information\n",
    "plt.imshow(points_data['z'], cmap='prism')"
   ]
  },
  {
   "cell_type": "code",
   "execution_count": 135,
   "metadata": {},
   "outputs": [
    {
     "data": {
      "text/plain": [
       "(array([0.20977442, 0.41693753, 0.9651063 ], dtype=float32),\n",
       " array([-0.2080138 ,  0.41689795,  0.9650147 ], dtype=float32),\n",
       " array([1.0712785e-03, 1.9390139e-01, 1.1877965e+00], dtype=float32),\n",
       " array([ 1.2905828e-03, -6.1560804e-01,  1.4309536e+00], dtype=float32))"
      ]
     },
     "execution_count": 135,
     "metadata": {},
     "output_type": "execute_result"
    }
   ],
   "source": [
    "px_y,px_x=-1,-200\n",
    "P1= np.asarray((points_data[px_y,px_x]['x'],points_data[px_y,px_x]['y'],points_data[px_y,px_x]['z'] ))\n",
    "\n",
    "px_y,px_x=-1,200\n",
    "P2= np.asarray((points_data[px_y,px_x]['x'],points_data[px_y,px_x]['y'],points_data[px_y,px_x]['z'] ))\n",
    "\n",
    "px_y,px_x=-150,320\n",
    "P3= np.asarray((points_data[px_y,px_x]['x'],points_data[px_y,px_x]['y'],points_data[px_y,px_x]['z'] ))\n",
    "\n",
    "px_y,px_x=1,320\n",
    "P4= np.asarray((points_data[px_y,px_x]['x'],points_data[px_y,px_x]['y'],points_data[px_y,px_x]['z'] ))\n",
    "P1,P2,P3 , P4"
   ]
  },
  {
   "cell_type": "code",
   "execution_count": 136,
   "metadata": {},
   "outputs": [
    {
     "name": "stdout",
     "output_type": "stream",
     "text": [
      "('look at the phi angle  in normal vector', -45.03604658785134)\n",
      "('cartesian Normal floor', -2.924638e-05, 0.09305644, 0.09317361)\n"
     ]
    },
    {
     "data": {
      "text/plain": [
       "44.86310928768377"
      ]
     },
     "execution_count": 136,
     "metadata": {},
     "output_type": "execute_result"
    }
   ],
   "source": [
    "V1 =P1 - P2\n",
    "V2= P3-P2\n",
    "nx,ny,nz=np.cross(V2,V1)\n",
    "print('look at the phi angle  in normal vector', np.rad2deg(cart2spher(nx,ny,nz))[2]-90)\n",
    "print ('cartesian Normal floor',nx,ny,nz)\n",
    "#plane angle to be found is same slope as the camera \n",
    "\n",
    "np.rad2deg(euler)[1]\n",
    "\n",
    "#OR ELSE"
   ]
  },
  {
   "cell_type": "code",
   "execution_count": 138,
   "metadata": {},
   "outputs": [
    {
     "data": {
      "text/plain": [
       "-0.052674238"
      ]
     },
     "execution_count": 138,
     "metadata": {},
     "output_type": "execute_result"
    }
   ],
   "source": [
    "#check if P4  its in floor plane\n",
    "#normal vector = np.cross(V2,V1)\n",
    "##vectors from known floor points\n",
    "##P0= P1\n",
    "## 0 = \\vec{n} \\dot \\vec{P_0P}\n",
    "np.dot(np.asarray((nx,ny,nz,)),P4-P1)\n",
    "## if not 0 (or almost )"
   ]
  },
  {
   "cell_type": "code",
   "execution_count": 139,
   "metadata": {},
   "outputs": [],
   "source": [
    "\n",
    "\n",
    "\n",
    "\n",
    "ind=0\n",
    "quat=rot\n"
   ]
  },
  {
   "cell_type": "code",
   "execution_count": 140,
   "metadata": {},
   "outputs": [],
   "source": [
    "x,y,z=P1\n",
    "broadcaster.sendTransform((x,y,z),rot, rospy.Time.now(), 'P1',\"head_rgbd_sensor_link\")\n",
    "x,y,z=P2\n",
    "broadcaster.sendTransform((x,y,z),rot, rospy.Time.now(), 'P2',\"head_rgbd_sensor_link\")\n",
    "x,y,z=P3\n",
    "broadcaster.sendTransform((x,y,z),rot, rospy.Time.now(), 'P3',\"head_rgbd_sensor_link\")\n",
    "x,y,z=P4\n",
    "broadcaster.sendTransform((x,y,z),rot, rospy.Time.now(), 'P4',\"head_rgbd_sensor_link\")"
   ]
  },
  {
   "cell_type": "code",
   "execution_count": 141,
   "metadata": {},
   "outputs": [
    {
     "name": "stdout",
     "output_type": "stream",
     "text": [
      "('point 1 wrt map', [1.0626616655693117, 1.0070518955344254, 0.007936652331692716], array([-1.77741323e+02,  4.65614579e-02, -9.14224728e+01]))\n",
      "('point 2 wrt map', [0.6457294936294888, 1.0338940934692211, 0.008029439684152371], array([-1.77741323e+02,  4.65621687e-02, -9.14224678e+01]))\n",
      "('point 3 wrt map', [0.8746589303291513, 1.3350038104618607, 0.007930144699715534], array([-1.77741323e+02,  4.65621687e-02, -9.14224678e+01]))\n",
      "('point 4 wrt map', [0.9227816637429813, 2.078113838324908, 0.4078084352706102], array([-1.77741323e+02,  4.65621687e-02, -9.14224678e+01]))\n"
     ]
    },
    {
     "data": {
      "text/plain": [
       "<function utils_notebooks.gazebo_2_world>"
      ]
     },
     "execution_count": 141,
     "metadata": {},
     "output_type": "execute_result"
    }
   ],
   "source": [
    "\n",
    "trans , rot = listener.lookupTransform('/map', '/P1', rospy.Time(0))\n",
    "euler=tf.transformations.euler_from_quaternion(rot)\n",
    "\n",
    "print('point 1 wrt map',trans, np.rad2deg(euler))\n",
    "trans , rot = listener.lookupTransform('/map', '/P2', rospy.Time(0))\n",
    "euler=tf.transformations.euler_from_quaternion(rot)\n",
    "\n",
    "print('point 2 wrt map',trans, np.rad2deg(euler))\n",
    "trans , rot = listener.lookupTransform('/map', '/P3', rospy.Time(0))\n",
    "euler=tf.transformations.euler_from_quaternion(rot)\n",
    "\n",
    "print('point 3 wrt map',trans, np.rad2deg(euler))\n",
    "trans , rot = listener.lookupTransform('/map', '/P4', rospy.Time(0))\n",
    "euler=tf.transformations.euler_from_quaternion(rot)\n",
    "\n",
    "print('point 4 wrt map',trans, np.rad2deg(euler))\n",
    "gazebo_2_world"
   ]
  },
  {
   "cell_type": "code",
   "execution_count": 142,
   "metadata": {},
   "outputs": [
    {
     "data": {
      "text/plain": [
       "([0.8263126920519096, 0.6353606777981271, 0.9855020955134223],\n",
       " (-4.89655270381172e-12, 0.7861481192109993, 1.5063592764391114))"
      ]
     },
     "execution_count": 142,
     "metadata": {},
     "output_type": "execute_result"
    }
   ],
   "source": [
    "#moveit\n",
    "#MOVE IT MUST BE RUNNING. DECLARE A HEAD POSE\n",
    "head_val=head.get_current_joint_values()\n",
    "head_val[0]=np.deg2rad(0)###Might be usefull to play this numbers\n",
    "head_val[1]=np.deg2rad(-45)\n",
    "#WATCH OUT FOR JOINTS LIMITS (exorcist joke)\n",
    "#plan and execute target pose\n",
    "head.set_joint_value_target(head_val)\n",
    "head.go()\n",
    "\n",
    "trans , rot = listener.lookupTransform('/map', '/head_rgbd_sensor_gazebo_frame', rospy.Time(0))\n",
    "#trans , rot = listener.lookupTransform('/map', '/head_rgbd_sensor_link', rospy.Time(0))\n",
    "euler=tf.transformations.euler_from_quaternion(rot)\n",
    "\n",
    "trans, euler"
   ]
  },
  {
   "cell_type": "code",
   "execution_count": 143,
   "metadata": {},
   "outputs": [],
   "source": [
    "mask=np.zeros((image_data.shape))\n",
    "plane_mask=np.zeros((image_data.shape[0],image_data.shape[1]))\n"
   ]
  },
  {
   "cell_type": "code",
   "execution_count": 144,
   "metadata": {},
   "outputs": [],
   "source": [
    "mask[:,:,0]=points_data['x'] - P1[0]\n",
    "mask[:,:,1]=points_data['y'] - P1[1]\n",
    "mask[:,:,2]=points_data['z'] - P1[2]"
   ]
  },
  {
   "cell_type": "code",
   "execution_count": null,
   "metadata": {},
   "outputs": [],
   "source": []
  },
  {
   "cell_type": "code",
   "execution_count": 145,
   "metadata": {},
   "outputs": [],
   "source": [
    "for i in range (image_data.shape[0]):\n",
    "    for j in range (image_data.shape[1]):\n",
    "        plane_mask[i,j]=-np.dot(np.asarray((nx,ny,nz,)),mask[i,j])"
   ]
  },
  {
   "cell_type": "code",
   "execution_count": 146,
   "metadata": {},
   "outputs": [
    {
     "data": {
      "text/plain": [
       "(480, 640)"
      ]
     },
     "execution_count": 146,
     "metadata": {},
     "output_type": "execute_result"
    }
   ],
   "source": [
    "plane_mask=plane_mask-np.min(plane_mask)\n",
    "plane_mask=plane_mask*256/np.max(plane_mask)\n",
    "plane_mask.shape"
   ]
  },
  {
   "cell_type": "code",
   "execution_count": 147,
   "metadata": {},
   "outputs": [
    {
     "data": {
      "text/plain": [
       "(480, 640)"
      ]
     },
     "execution_count": 147,
     "metadata": {},
     "output_type": "execute_result"
    }
   ],
   "source": [
    "plane_mask.astype('uint8')\n",
    "plane_mask.shape"
   ]
  },
  {
   "cell_type": "code",
   "execution_count": 148,
   "metadata": {},
   "outputs": [
    {
     "data": {
      "text/plain": [
       "<matplotlib.image.AxesImage at 0x7f0792bf75d0>"
      ]
     },
     "execution_count": 148,
     "metadata": {},
     "output_type": "execute_result"
    },
    {
     "data": {
      "image/png": "[encoded data removed]",
      "text/plain": [
       "<matplotlib.figure.Figure at 0x7f0792ddde50>"
      ]
     },
     "metadata": {
      "needs_background": "light"
     },
     "output_type": "display_data"
    }
   ],
   "source": [
    "plt.imshow(plane_mask , cmap='prism')"
   ]
  },
  {
   "cell_type": "code",
   "execution_count": 149,
   "metadata": {},
   "outputs": [
    {
     "data": {
      "text/plain": [
       "(0.00010497560008429404, 0.00022430190680130496, 206.84646420878704)"
      ]
     },
     "execution_count": 149,
     "metadata": {},
     "output_type": "execute_result"
    }
   ],
   "source": [
    "plane_mask[200,1], plane_mask[-1,1],plane_mask[1,1]"
   ]
  },
  {
   "cell_type": "code",
   "execution_count": 150,
   "metadata": {},
   "outputs": [
    {
     "data": {
      "text/plain": [
       "(480, 640)"
      ]
     },
     "execution_count": 150,
     "metadata": {},
     "output_type": "execute_result"
    }
   ],
   "source": [
    "plane_mask.shape\n"
   ]
  },
  {
   "cell_type": "code",
   "execution_count": 151,
   "metadata": {},
   "outputs": [],
   "source": [
    "ret,thresh = cv2.threshold(plane_mask,3,255,0)\n"
   ]
  },
  {
   "cell_type": "code",
   "execution_count": 152,
   "metadata": {},
   "outputs": [
    {
     "data": {
      "text/plain": [
       "<matplotlib.image.AxesImage at 0x7f0792b288d0>"
      ]
     },
     "execution_count": 152,
     "metadata": {},
     "output_type": "execute_result"
    },
    {
     "data": {
      "image/png": "[encoded data removed]",
      "text/plain": [
       "<matplotlib.figure.Figure at 0x7f0792d35290>"
      ]
     },
     "metadata": {
      "needs_background": "light"
     },
     "output_type": "display_data"
    }
   ],
   "source": [
    "#FLOOR MASK\n",
    "plt.imshow(thresh) "
   ]
  },
  {
   "cell_type": "code",
   "execution_count": 153,
   "metadata": {},
   "outputs": [],
   "source": [
    "move_base(0,0,1.57)"
   ]
  },
  {
   "cell_type": "code",
   "execution_count": 98,
   "metadata": {},
   "outputs": [],
   "source": [
    "###Run again the appropriate blocks to try to look for legos on the way\n",
    "\n",
    "\n",
    "###CAn you navigate through?\n",
    "\n",
    "### Can we pick em up?\n",
    "\n",
    "\n",
    "#PLEASE TRY THINGS HERE"
   ]
  },
  {
   "cell_type": "code",
   "execution_count": null,
   "metadata": {},
   "outputs": [],
   "source": []
  },
  {
   "cell_type": "code",
   "execution_count": null,
   "metadata": {},
   "outputs": [],
   "source": []
  },
  {
   "cell_type": "code",
   "execution_count": null,
   "metadata": {},
   "outputs": [],
   "source": []
  },
  {
   "cell_type": "code",
   "execution_count": null,
   "metadata": {},
   "outputs": [],
   "source": []
  },
  {
   "cell_type": "code",
   "execution_count": null,
   "metadata": {},
   "outputs": [],
   "source": []
  },
  {
   "cell_type": "code",
   "execution_count": null,
   "metadata": {},
   "outputs": [],
   "source": []
  },
  {
   "cell_type": "code",
   "execution_count": null,
   "metadata": {},
   "outputs": [],
   "source": []
  }
 ],
 "metadata": {
  "kernelspec": {
   "display_name": "Python 2",
   "language": "python",
   "name": "python2"
  },
  "language_info": {
   "codemirror_mode": {
    "name": "ipython",
    "version": 2
   },
   "file_extension": ".py",
   "mimetype": "text/x-python",
   "name": "python",
   "nbconvert_exporter": "python",
   "pygments_lexer": "ipython2",
   "version": "2.7.17"
  },
  "nbTranslate": {
   "displayLangs": [
    "ja"
   ],
   "hotkey": "alt-t",
   "langInMainMenu": true,
   "sourceLang": "ja",
   "targetLang": "en",
   "useGoogleTranslate": true
  },
  "toc": {
   "base_numbering": 1,
   "nav_menu": {},
   "number_sections": true,
   "sideBar": true,
   "skip_h1_title": false,
   "title_cell": "Table of Contents",
   "title_sidebar": "Contents",
   "toc_cell": false,
   "toc_position": {},
   "toc_section_display": true,
   "toc_window_display": true
  }
 },
 "nbformat": 4,
 "nbformat_minor": 2
}
