{
 "cells": [
  {
   "cell_type": "code",
   "execution_count": 1,
   "metadata": {},
   "outputs": [],
   "source": [
    "import sys\n",
    "import os\n",
    "import math\n",
    "import moveit_commander\n",
    "import moveit_msgs.msg\n",
    "import rospy\n",
    "import numpy as np\n",
    "import trajectory_msgs.msg\n",
    "from geometry_msgs.msg import PoseStamped\n",
    "import tf\n",
    "import actionlib\n",
    "import subprocess\n",
    "\n",
    "### ALL OF THESE IMPORTS MUST BE HANDLeD BY TAKESHI INSTALL"
   ]
  },
  {
   "cell_type": "code",
   "execution_count": 2,
   "metadata": {},
   "outputs": [],
   "source": [
    "rospy.init_node('moveiteando')"
   ]
  },
  {
   "cell_type": "code",
   "execution_count": 3,
   "metadata": {},
   "outputs": [],
   "source": [
    "listener = tf.TransformListener()"
   ]
  },
  {
   "cell_type": "code",
   "execution_count": 5,
   "metadata": {},
   "outputs": [],
   "source": [
    "arm = moveit_commander.MoveGroupCommander('arm')\n",
    "base=  moveit_commander.MoveGroupCommander('base')\n",
    "gripper = moveit_commander.MoveGroupCommander('gripper')\n",
    "head = moveit_commander.MoveGroupCommander('head')"
   ]
  },
  {
   "cell_type": "code",
   "execution_count": 6,
   "metadata": {},
   "outputs": [],
   "source": [
    "def delete_object(name):\n",
    "    u\"\"\"Gazeboの物体を消す関数\n",
    "\n",
    "    引数:\n",
    "        name (str): 物体の名前\n",
    "\n",
    "    \"\"\"\n",
    "\n",
    "    cmd = ['rosservice', 'call', 'gazebo/delete_model',\n",
    "           '{model_name: ' + str(name) + '}']\n",
    "    subprocess.call(cmd)\n",
    "\n",
    "    \n",
    "\n"
   ]
  },
  {
   "cell_type": "code",
   "execution_count": 7,
   "metadata": {},
   "outputs": [],
   "source": [
    "#####SPAWN OBJECTS\n",
    "from gazebo_ros import gazebo_interface\n",
    "from geometry_msgs.msg import Pose, Quaternion\n",
    "def spawn_object(gazebo_name, name, x, y, z, yaw):\n",
    "    rospy.loginfo('Spawn: {0}'.format(name))\n",
    "    initial_pose = Pose()\n",
    "    initial_pose.position.x = x\n",
    "    initial_pose.position.y = y\n",
    "    initial_pose.position.z = z\n",
    "    roll = 0.0\n",
    "    pitch = 0.0\n",
    "\n",
    "    q = tf.transformations.quaternion_from_euler(roll, pitch, yaw)\n",
    "    initial_pose.orientation = Quaternion(q[0], q[1], q[2], q[3])\n",
    "\n",
    "    path_xml = _path_xml.replace('MODEL_NAME', name)\n",
    "\n",
    "    with open(path_xml, \"r\") as f:\n",
    "        model_xml = f.read()\n",
    "\n",
    "    model_xml = model_xml.replace('PATH_TO_MODEL', _path_model)\n",
    "\n",
    "    gazebo_interface.spawn_sdf_model_client(gazebo_name, model_xml, rospy.get_namespace(),\n",
    "                                            initial_pose, \"\", \"/gazebo\")\n"
   ]
  },
  {
   "cell_type": "code",
   "execution_count": 8,
   "metadata": {},
   "outputs": [
    {
     "name": "stdout",
     "output_type": "stream",
     "text": [
      "['ycb_021_bleach_cleanser', 'ycb_065-e_cups', 'wrc_bin_black', 'ycb_057_racquetball', 'wrc_tray', 'ycb_043_phillips_screwdriver', 'wrc_bin_green', 'ycb_073-b_lego_duplo', 'ycb_009_gelatin_box', 'ycb_072-e_toy_airplane', 'ycb_004_sugar_box', 'ycb_073-d_lego_duplo', 'ycb_061_foam_brick', 'ycb_016_pear', 'ycb_065-a_cups', 'wrc_ground_plane', 'wrc_bookshelf', 'ycb_072-b_toy_airplane', 'trofast', 'ycb_026_sponge', 'ycb_012_strawberry', 'ycb_013_apple', 'ycb_051_large_clamp', 'ycb_022_windex_bottle', 'ycb_065-h_cups', 'ycb_025_mug', 'ycb_036_wood_block', 'ycb_056_tennis_ball', 'ycb_044_flat_screwdriver', 'ycb_031_spoon', 'ycb_072-c_toy_airplane', 'wrc_frame', 'ycb_010_potted_meat_can', 'ycb_073-f_lego_duplo', 'ycb_072-d_toy_airplane', 'ycb_053_mini_soccer_ball', 'ycb_033_spatula', 'ycb_040_large_marker', 'ycb_027_skillet', 'ycb_052_extra_large_clamp', 'wrc_container_b', 'ycb_073-a_lego_duplo', 'ycb_070-a_colored_wood_blocks', 'wrc_stair_like_drawer', 'ycb_032_knife', 'wrc_long_table', 'ycb_063-a_marbles', 'ycb_058_golf_ball', 'ycb_003_cracker_box', 'ycb_070-b_colored_wood_blocks', 'ycb_002_master_chef_can', 'ycb_055_baseball', 'ycb_073-e_lego_duplo', 'wrc_tall_table', 'ycb_065-d_cups', 'ycb_029_plate', 'ycb_071_nine_hole_peg_test', 'ycb_018_plum', 'ycb_054_softball', 'ycb_050_medium_clamp', 'ycb_006_mustard_bottle', 'ycb_007_tuna_fish_can', 'ycb_042_adjustable_wrench', 'ycb_065-j_cups', 'ycb_024_bowl', 'ycb_038_padlock', 'ycb_065-b_cups', 'ycb_005_tomato_soup_can', 'ycb_062_dice', 'ycb_015_peach', 'ycb_028_skillet_lid', 'ycb_065-f_cups', 'ycb_048_hammer', 'ycb_008_pudding_box', 'wrc_container_a', 'ycb_063-b_marbles', 'person_standing', 'ycb_073-g_lego_duplo', 'ycb_017_orange', 'ycb_014_lemon', 'ycb_035_power_drill', 'ycb_072-a_toy_airplane', 'ycb_065-i_cups', 'ycb_065-c_cups', 'ycb_011_banana', 'ycb_030_fork', 'ycb_065-g_cups', 'ycb_037_scissors', 'ycb_077_rubiks_cube', 'ycb_019_pitcher_base', 'ycb_073-c_lego_duplo', 'ycb_059_chain']\n"
     ]
    }
   ],
   "source": [
    "## THIS PATH MUST BE SET BY USER ()\n",
    "\n",
    "#_path_xml = \"/home/oscar/Codes/ycb_ws/src/robot_object_views/robotobject/models/MODEL_NAME/model-1_4.sdf\"\n",
    "#_path_model = \"/home/oscar/Codes/ycb_ws/src/robot_object_views/robotobject/models\"   Tenshi Version\n",
    "\n",
    "\n",
    "_path_model = \"/home/oscar/Codes/catkin_mio_ws/src/tmc_wrs_gazebo_world/models\"     #Catkin mio version \n",
    "_path_xml = _path_model+\"/MODEL_NAME/model-1_4.sdf\"  #Catkin mio version\n",
    "\n",
    "\n",
    "model_database_template = \"\"\"<sdf version=\"1.4\">\n",
    "  <world name=\"default\">\n",
    "    <include>\n",
    "      <uri>model://MODEL_NAME</uri>\n",
    "    </include>\n",
    "  </world>\n",
    "</sdf>\"\"\"\n",
    "\n",
    "objs=os.listdir(_path_model)\n",
    "print (objs)"
   ]
  },
  {
   "cell_type": "code",
   "execution_count": 9,
   "metadata": {},
   "outputs": [],
   "source": [
    "def gazebo_2_world(x,y):\n",
    "\n",
    "    x_world= x+2.5\n",
    "    y_world= -(y-1.5)\n",
    "    return (x_world,y_world)\n",
    "\n",
    "def world_2_gazebo(x_world,y_world):\n",
    "\n",
    "    x= ( x_world - 2.5)\n",
    "    y= (-y_world + 1.5) \n",
    "    return (x , y)"
   ]
  },
  {
   "cell_type": "code",
   "execution_count": 10,
   "metadata": {},
   "outputs": [
    {
     "name": "stdout",
     "output_type": "stream",
     "text": [
      "('x,y', 1085.8917432755325, -1.8563359726531614)\n"
     ]
    }
   ],
   "source": [
    "z= 0 ## QUERY given Z where does the gaze ponits to wrt map\n",
    "\n",
    "\n",
    "(trans,rot) = listener.lookupTransform('/map', '/head_rgbd_sensor_rgb_frame', rospy.Time(0))\n",
    "e = np.rad2deg(tf.transformations.euler_from_quaternion(rot))\n",
    "D_map=np.abs(trans[2]-z)/np.tan(np.deg2rad(e[0]-(-90)))\n",
    "print ('x,y',D_map*-1* np.sin(np.deg2rad(e[2])), D_map* np.cos(np.deg2rad(e[2]))  )\n",
    "\n"
   ]
  },
  {
   "cell_type": "code",
   "execution_count": 11,
   "metadata": {},
   "outputs": [],
   "source": [
    "## WATCH YOUR GAZEBO WINDOW.. DID SOMETHING DROP ON THE ROTATING TABLE IN THE TRAIN WORLD?\n",
    "## play around, try to drop and object and get close to it\n",
    "## You might need to use the navigation funcions"
   ]
  },
  {
   "cell_type": "code",
   "execution_count": 13,
   "metadata": {},
   "outputs": [
    {
     "name": "stdout",
     "output_type": "stream",
     "text": [
      "ycb_073-c_lego_duplo\n",
      "[INFO] [1615934924.054719, 174.218000]: Spawn: ycb_073-c_lego_duplo\n",
      "[INFO] [1615934924.058993, 174.219000]: Waiting for service /gazebo/spawn_sdf_model\n",
      "[INFO] [1615934924.076897, 174.220000]: Calling service /gazebo/spawn_sdf_model\n",
      "[INFO] [1615934924.092670, 174.221000]: Spawn status: SpawnModel: Failure - entity already exists.\n"
     ]
    }
   ],
   "source": [
    "model_name= objs[-2]#\"073-g_lego_duplo\"\n",
    "print (model_name)\n",
    "\n",
    "\n",
    "\n",
    "\n",
    "\n",
    "x_gaz,y_gaz=world_2_gazebo(1,1)\n",
    "\n",
    "\n",
    "spawn_object(model_name, model_name, x_gaz,  y_gaz, .21, 0)  ### ORigin in gazebo world is in (-2, 1 ) map coords\n",
    "#print (x_gaz,y_gaz)\n",
    "\n",
    "#spawn_object(\"073-g_lego_duplo\", \"073-g_lego_duplo\", x_gaz, y_gaz, .51, 0)\n",
    "\n"
   ]
  },
  {
   "cell_type": "code",
   "execution_count": 14,
   "metadata": {},
   "outputs": [],
   "source": [
    "#CLEAN YOUR MESS ;)"
   ]
  },
  {
   "cell_type": "code",
   "execution_count": 14,
   "metadata": {},
   "outputs": [
    {
     "ename": "NameError",
     "evalue": "name 'delete_object' is not defined",
     "output_type": "error",
     "traceback": [
      "\u001b[0;31m---------------------------------------------------------------------------\u001b[0m",
      "\u001b[0;31mNameError\u001b[0m                                 Traceback (most recent call last)",
      "\u001b[0;32m<ipython-input-14-23439af86ec9>\u001b[0m in \u001b[0;36m<module>\u001b[0;34m()\u001b[0m\n\u001b[0;32m----> 1\u001b[0;31m \u001b[0mdelete_object\u001b[0m\u001b[0;34m(\u001b[0m\u001b[0mmodel_name\u001b[0m\u001b[0;34m)\u001b[0m\u001b[0;34m\u001b[0m\u001b[0m\n\u001b[0m",
      "\u001b[0;31mNameError\u001b[0m: name 'delete_object' is not defined"
     ]
    }
   ],
   "source": [
    "delete_object(model_name)"
   ]
  },
  {
   "cell_type": "code",
   "execution_count": 15,
   "metadata": {},
   "outputs": [],
   "source": [
    "def gaze_point_floor(x,y):\n",
    "    ## FUNCTION that points robot gaze to specific coordinates on the floor (z=0) retalive to the 'map' frame\n",
    "    \n",
    "    arm_pose=arm.get_current_joint_values()\n",
    "    arm_pose[0]=.1\n",
    "    arm_pose[1]= -0.3\n",
    "    arm.set_joint_value_target(arm_pose)\n",
    "    arm.go()\n",
    "    head_pose = head.get_current_joint_values()\n",
    "    head_pose[0]=0.0\n",
    "    head_pose[1]=0.0\n",
    "    head.set_joint_value_target(head_pose)\n",
    "    head.go()\n",
    "    trans , rot = listener.lookupTransform('/map', '/head_rgbd_sensor_gazebo_frame', rospy.Time(0)) #\n",
    "    np.rad2deg(head_pose)\n",
    "    e =tf.transformations.euler_from_quaternion(rot)\n",
    "    print('i am at',trans[:2],np.rad2deg(e)[2])\n",
    "    print('gaze goal',x,y)\n",
    "    #tf.transformations.euler_from_quaternion(rot)\n",
    "\n",
    "\n",
    "    x_rob,y_rob,th_rob= trans[0], trans[1] ,  e[2]\n",
    "\n",
    "\n",
    "    D_x=x_rob-x\n",
    "    D_y=y_rob-y\n",
    "    D_th= np.arctan2(D_y,D_x)\n",
    "    print('relative to robot',(D_x,D_y,np.rad2deg(D_th)))\n",
    "\n",
    "    pan_correct= (- th_rob + D_th + np.pi) % (2*np.pi)\n",
    "\n",
    "    if(pan_correct > np.pi):\n",
    "        pan_correct=-2*np.pi+pan_correct\n",
    "    if(pan_correct < -np.pi):\n",
    "        pan_correct=2*np.pi+pan_correct\n",
    "\n",
    "    if ((pan_correct) > .5 * np.pi):\n",
    "        print ('Exorcist alert')\n",
    "        pan_correct=.5*np.pi\n",
    "    head_pose[0]=pan_correct\n",
    "    tilt_correct=np.arctan2(trans[2],np.linalg.norm((D_x,D_y)))\n",
    "\n",
    "    head_pose [1]=-tilt_correct\n",
    "    \n",
    "    \n",
    "    \n",
    "    head.set_joint_value_target(head_pose)\n",
    "    head.go()"
   ]
  },
  {
   "cell_type": "code",
   "execution_count": 18,
   "metadata": {},
   "outputs": [
    {
     "name": "stdout",
     "output_type": "stream",
     "text": [
      "('i am at', [-0.060387614789903135, 0.02153245901164869], -0.5154540657911104)\n",
      "('gaze goal', 1, 1)\n",
      "('relative to robot', (-1.0603876147899032, -0.9784675409883513, -137.30087513218476))\n"
     ]
    }
   ],
   "source": [
    "## Check both  moveit rviz and gazebo\n",
    "## Takeshi is staring at rotating table  ... at least it should be. \n",
    "\n",
    "#gaze_point_floor(*gazebo_2_world(-1.5,1))\n",
    "gaze_point_floor(*(1,1))"
   ]
  },
  {
   "cell_type": "code",
   "execution_count": 22,
   "metadata": {},
   "outputs": [],
   "source": [
    "#gaze_point_floor(x_world,y_world)"
   ]
  },
  {
   "cell_type": "code",
   "execution_count": 34,
   "metadata": {},
   "outputs": [
    {
     "name": "stdout",
     "output_type": "stream",
     "text": [
      "('i am at', [-0.06008907449928854, 0.020884727133158934], -1.183550858187017)\n",
      "('gaze goal', 2.2, 1.1)\n",
      "('relative to robot', (-2.2600890744992888, -1.0791152728668412, -154.47711963433932))\n"
     ]
    }
   ],
   "source": [
    "gaze_point_floor(*gazebo_2_world(-0.3,0.4))"
   ]
  },
  {
   "cell_type": "code",
   "execution_count": 23,
   "metadata": {},
   "outputs": [
    {
     "data": {
      "text/plain": [
       "(1.5, 1.1)"
      ]
     },
     "execution_count": 23,
     "metadata": {},
     "output_type": "execute_result"
    }
   ],
   "source": [
    "gazebo_2_world(-1,.4)"
   ]
  },
  {
   "cell_type": "code",
   "execution_count": 24,
   "metadata": {},
   "outputs": [
    {
     "name": "stdout",
     "output_type": "stream",
     "text": [
      "('i am at', [-0.06028384601783287, 0.02097001654934502], -1.2197839232187548)\n",
      "('gaze goal', 1.5, 1.1)\n",
      "('relative to robot', (-1.5602838460178328, -1.0790299834506552, -145.33381402352768))\n"
     ]
    }
   ],
   "source": [
    "gaze_point_floor(*gazebo_2_world(-1,.4))"
   ]
  },
  {
   "cell_type": "code",
   "execution_count": 26,
   "metadata": {},
   "outputs": [
    {
     "name": "stdout",
     "output_type": "stream",
     "text": [
      "('i am at', [-0.06029738023023276, 0.02094663427183119], -1.1469958578341954)\n",
      "('gaze goal', 3.2, -0.10000000000000009)\n",
      "('relative to robot', (-3.260297380230233, 0.12094663427183128, 177.87548353198557))\n"
     ]
    }
   ],
   "source": [
    "gaze_point_floor(*gazebo_2_world(.7,1.6))"
   ]
  },
  {
   "cell_type": "code",
   "execution_count": 19,
   "metadata": {},
   "outputs": [],
   "source": [
    "## Homework\n",
    "\n",
    "#1GO to gazebo and chose a random  object on the floor\n",
    "#2 Locate object properties ( pose) and use the functions gaze point floor and gazebo 2 world to make the robot look towards that object\n",
    "#3 Can you modifiy gaze_point_floor so it can point to a specific z (height from floor) value?"
   ]
  },
  {
   "cell_type": "code",
   "execution_count": 22,
   "metadata": {},
   "outputs": [],
   "source": [
    "delete_object(model_name)"
   ]
  },
  {
   "cell_type": "code",
   "execution_count": 23,
   "metadata": {},
   "outputs": [
    {
     "name": "stdout",
     "output_type": "stream",
     "text": [
      "[INFO] [1615935238.152363, 216.115000]: Spawn: ycb_073-c_lego_duplo\n",
      "[INFO] [1615935238.156339, 216.115000]: Waiting for service /gazebo/spawn_sdf_model\n",
      "[INFO] [1615935238.175363, 216.117000]: Calling service /gazebo/spawn_sdf_model\n",
      "[INFO] [1615935238.283711, 216.120000]: Spawn status: SpawnModel: Successfully spawned entity\n"
     ]
    }
   ],
   "source": [
    "spawn_object(model_name, model_name, x_gaz,  y_gaz, .11, 45)  ### ORigin in gazebo world is in (-2, 1 ) map coords"
   ]
  },
  {
   "cell_type": "code",
   "execution_count": null,
   "metadata": {},
   "outputs": [],
   "source": []
  }
 ],
 "metadata": {
  "kernelspec": {
   "display_name": "Python 2",
   "language": "python",
   "name": "python2"
  },
  "language_info": {
   "codemirror_mode": {
    "name": "ipython",
    "version": 2
   },
   "file_extension": ".py",
   "mimetype": "text/x-python",
   "name": "python",
   "nbconvert_exporter": "python",
   "pygments_lexer": "ipython2",
   "version": "2.7.17"
  },
  "nbTranslate": {
   "displayLangs": [
    "*"
   ],
   "hotkey": "alt-t",
   "langInMainMenu": true,
   "sourceLang": "en",
   "targetLang": "fr",
   "useGoogleTranslate": true
  },
  "toc": {
   "base_numbering": 1,
   "nav_menu": {},
   "number_sections": true,
   "sideBar": true,
   "skip_h1_title": false,
   "title_cell": "Table of Contents",
   "title_sidebar": "Contents",
   "toc_cell": false,
   "toc_position": {},
   "toc_section_display": true,
   "toc_window_display": false
  }
 },
 "nbformat": 4,
 "nbformat_minor": 2
}
