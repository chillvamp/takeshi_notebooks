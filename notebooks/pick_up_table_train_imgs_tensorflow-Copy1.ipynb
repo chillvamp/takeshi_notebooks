{
 "cells": [
  {
   "cell_type": "markdown",
   "metadata": {
    "lang": "en"
   },
   "source": [
    "## Setup"
   ]
  },
  {
   "cell_type": "markdown",
   "metadata": {
    "lang": "ja"
   },
   "source": []
  },
  {
   "cell_type": "markdown",
   "metadata": {
    "lang": "en"
   },
   "source": [
    "Import the required libraries and initialize them:"
   ]
  },
  {
   "cell_type": "code",
   "execution_count": 1,
   "metadata": {},
   "outputs": [
    {
     "name": "stdout",
     "output_type": "stream",
     "text": [
      "WARNING:tensorflow:Inconsistent references when loading the checkpoint into this object graph. Either the Trackable object references in the Python program have changed in an incompatible way, or the checkpoint was generated in an incompatible program.\n",
      "\n",
      "Two checkpoint references resolved to different objects (<tensorflow.python.keras.layers.convolutional.Conv2D object at 0x7f29293a2710> and <tensorflow.python.keras.engine.input_layer.InputLayer object at 0x7f289007b490>).\n",
      "WARNING:tensorflow:Inconsistent references when loading the checkpoint into this object graph. Either the Trackable object references in the Python program have changed in an incompatible way, or the checkpoint was generated in an incompatible program.\n",
      "\n",
      "Two checkpoint references resolved to different objects (<tensorflow.python.keras.layers.convolutional.Conv2D object at 0x7f2928afa2d0> and <tensorflow.python.keras.layers.pooling.MaxPooling2D object at 0x7f2928af9e90>).\n",
      "WARNING:tensorflow:Inconsistent references when loading the checkpoint into this object graph. Either the Trackable object references in the Python program have changed in an incompatible way, or the checkpoint was generated in an incompatible program.\n",
      "\n",
      "Two checkpoint references resolved to different objects (<tensorflow.python.keras.layers.convolutional.Conv2D object at 0x7f2928afae10> and <tensorflow.python.keras.layers.pooling.MaxPooling2D object at 0x7f2928afa9d0>).\n",
      "WARNING:tensorflow:Inconsistent references when loading the checkpoint into this object graph. Either the Trackable object references in the Python program have changed in an incompatible way, or the checkpoint was generated in an incompatible program.\n",
      "\n",
      "Two checkpoint references resolved to different objects (<tensorflow.python.keras.layers.convolutional.Conv2D object at 0x7f2928afb790> and <tensorflow.python.keras.layers.pooling.MaxPooling2D object at 0x7f2928afb450>).\n",
      "WARNING:tensorflow:Inconsistent references when loading the checkpoint into this object graph. Either the Trackable object references in the Python program have changed in an incompatible way, or the checkpoint was generated in an incompatible program.\n",
      "\n",
      "Two checkpoint references resolved to different objects (<tensorflow.python.keras.layers.convolutional.Conv2D object at 0x7f2928afc350> and <tensorflow.python.keras.layers.pooling.MaxPooling2D object at 0x7f2928afbf50>).\n",
      "WARNING:tensorflow:Inconsistent references when loading the checkpoint into this object graph. Either the Trackable object references in the Python program have changed in an incompatible way, or the checkpoint was generated in an incompatible program.\n",
      "\n",
      "Two checkpoint references resolved to different objects (<tensorflow.python.keras.layers.convolutional.Conv2D object at 0x7f2928afcd50> and <tensorflow.python.keras.layers.pooling.MaxPooling2D object at 0x7f2928afcad0>).\n",
      "WARNING:tensorflow:Inconsistent references when loading the checkpoint into this object graph. Either the Trackable object references in the Python program have changed in an incompatible way, or the checkpoint was generated in an incompatible program.\n",
      "\n",
      "Two checkpoint references resolved to different objects (<tensorflow.python.keras.layers.convolutional.Conv2D object at 0x7f2928afd650> and <tensorflow.python.keras.layers.pooling.MaxPooling2D object at 0x7f2928afd250>).\n",
      "WARNING:tensorflow:Inconsistent references when loading the checkpoint into this object graph. Either the Trackable object references in the Python program have changed in an incompatible way, or the checkpoint was generated in an incompatible program.\n",
      "\n",
      "Two checkpoint references resolved to different objects (<tensorflow.python.keras.layers.core.Dense object at 0x7f2928afdfd0> and <tensorflow.python.keras.layers.core.Flatten object at 0x7f2928afde50>).\n",
      "WARNING:tensorflow:Inconsistent references when loading the checkpoint into this object graph. Either the Trackable object references in the Python program have changed in an incompatible way, or the checkpoint was generated in an incompatible program.\n",
      "\n",
      "Two checkpoint references resolved to different objects (<tensorflow.python.keras.layers.core.Dense object at 0x7f2928b00490> and <tensorflow.python.keras.layers.core.Dense object at 0x7f2928afdfd0>).\n",
      "Model: \"sequential\"\n",
      "_________________________________________________________________\n",
      "Layer (type)                 Output Shape              Param #   \n",
      "=================================================================\n",
      "conv2d (Conv2D)              (None, 300, 300, 16)      448       \n",
      "_________________________________________________________________\n",
      "max_pooling2d (MaxPooling2D) (None, 150, 150, 16)      0         \n",
      "_________________________________________________________________\n",
      "conv2d_1 (Conv2D)            (None, 150, 150, 32)      4640      \n",
      "_________________________________________________________________\n",
      "max_pooling2d_1 (MaxPooling2 (None, 75, 75, 32)        0         \n",
      "_________________________________________________________________\n",
      "conv2d_2 (Conv2D)            (None, 75, 75, 64)        18496     \n",
      "_________________________________________________________________\n",
      "max_pooling2d_2 (MaxPooling2 (None, 37, 37, 64)        0         \n",
      "_________________________________________________________________\n",
      "conv2d_3 (Conv2D)            (None, 37, 37, 64)        36928     \n",
      "_________________________________________________________________\n",
      "max_pooling2d_3 (MaxPooling2 (None, 18, 18, 64)        0         \n",
      "_________________________________________________________________\n",
      "conv2d_4 (Conv2D)            (None, 18, 18, 64)        36928     \n",
      "_________________________________________________________________\n",
      "max_pooling2d_4 (MaxPooling2 (None, 9, 9, 64)          0         \n",
      "_________________________________________________________________\n",
      "conv2d_5 (Conv2D)            (None, 9, 9, 64)          36928     \n",
      "_________________________________________________________________\n",
      "max_pooling2d_5 (MaxPooling2 (None, 4, 4, 64)          0         \n",
      "_________________________________________________________________\n",
      "conv2d_6 (Conv2D)            (None, 4, 4, 64)          36928     \n",
      "_________________________________________________________________\n",
      "max_pooling2d_6 (MaxPooling2 (None, 2, 2, 64)          0         \n",
      "_________________________________________________________________\n",
      "flatten (Flatten)            (None, 256)               0         \n",
      "_________________________________________________________________\n",
      "dense (Dense)                (None, 128)               32896     \n",
      "_________________________________________________________________\n",
      "dense_1 (Dense)              (None, 73)                9417      \n",
      "=================================================================\n",
      "Total params: 213,609\n",
      "Trainable params: 213,609\n",
      "Non-trainable params: 0\n",
      "_________________________________________________________________\n"
     ]
    }
   ],
   "source": [
    "#python 2 issues\n",
    "# load model wont work , load weights is a workaround.\n",
    "# if ros noetic and python 3 is AVAILABle  use load model instead.\n",
    "# DAta augmentation (KERAS) is experimental, not retrocompatible for keras directory to trainin batches\n",
    "batch_size=128\n",
    "img_width=300\n",
    "img_height=300\n",
    "#train_data_dir ='/home/oscar/Videos/videos_to_keras_train/'\n",
    "train_data_dir ='/home/roboworks/Videos/videos_to_keras_train/'\n",
    "\n",
    "\n",
    "import tensorflow\n",
    "from tensorflow.keras import layers , Sequential\n",
    "num_classes = 73\n",
    "model = Sequential([\n",
    "  \n",
    "  layers.Conv2D(16, 3, padding='same', activation='relu' , input_shape=(img_height, img_width,3)),\n",
    "  layers.MaxPooling2D(),\n",
    "  layers.Conv2D(32, 3, padding='same', activation='relu'),\n",
    "  layers.MaxPooling2D(),\n",
    "  layers.Conv2D(64, 3, padding='same', activation='relu'),\n",
    "  layers.MaxPooling2D(),\n",
    "  layers.Conv2D(64, 3, padding='same', activation='relu'),\n",
    "  layers.MaxPooling2D(),\n",
    "  layers.Conv2D(64, 3, padding='same', activation='relu'),\n",
    "  layers.MaxPooling2D(),\n",
    "  layers.Conv2D(64, 3, padding='same', activation='relu'),\n",
    "  layers.MaxPooling2D(),\n",
    "  layers.Conv2D(64, 3, padding='same', activation='relu'),\n",
    "  layers.MaxPooling2D(),\n",
    "      \n",
    "  layers.Flatten(),\n",
    "  layers.Dense(128, activation='relu'),\n",
    "  layers.Dense(num_classes)\n",
    "])\n",
    "model.compile(optimizer='adam',\n",
    "              loss=tensorflow.keras.losses.SparseCategoricalCrossentropy(from_logits=True),\n",
    "              metrics=['accuracy'])\n",
    "model.load_weights('weights_ycb')\n",
    "model.summary()"
   ]
  },
  {
   "cell_type": "code",
   "execution_count": 2,
   "metadata": {},
   "outputs": [
    {
     "data": {
      "text/plain": [
       "array([67, 70,  8])"
      ]
     },
     "execution_count": 2,
     "metadata": {},
     "output_type": "execute_result"
    }
   ],
   "source": [
    "import numpy as np\n",
    "images_test= np.load('imgs_test.npy',allow_pickle=True)\n",
    "\n",
    "img=tensorflow.image.resize(images_test[0],(300,300))\n",
    "test_imgs=np.zeros((1,300,300,3))\n",
    "for image in images_test:\n",
    "    img=tensorflow.image.resize(image,(300,300))\n",
    "    new=np.expand_dims(img.numpy(),axis=0)\n",
    "    test_imgs=np.concatenate((test_imgs,new))\n",
    "    \n",
    "np.argmax(model.predict(test_imgs),axis=1)\n",
    " "
   ]
  },
  {
   "cell_type": "code",
   "execution_count": 3,
   "metadata": {},
   "outputs": [],
   "source": [
    "from std_srvs.srv import Empty, Trigger, TriggerRequest\n",
    "import cv2"
   ]
  },
  {
   "cell_type": "code",
   "execution_count": 4,
   "metadata": {},
   "outputs": [
    {
     "name": "stderr",
     "output_type": "stream",
     "text": [
      "the rosdep view is empty: call 'sudo rosdep init' and 'rosdep update'\n"
     ]
    }
   ],
   "source": [
    "from cv_bridge import CvBridge, CvBridgeError\n",
    "import rospy\n",
    "#import cv2\n",
    "import ros_numpy\n",
    "import numpy as np\n",
    "from tmc_tabletop_segmentator.srv import TabletopSegmentation\n",
    "from tmc_tabletop_segmentator.srv import TabletopSegmentationRequest\n",
    "from sensor_msgs.msg import Image\n",
    "from std_msgs.msg import String\n",
    "#import tf\n",
    "import tf2_ros\n",
    "import geometry_msgs.msg\n",
    "from utils_notebooks import *\n"
   ]
  },
  {
   "cell_type": "code",
   "execution_count": 5,
   "metadata": {},
   "outputs": [],
   "source": [
    "%matplotlib inline\n",
    "\n",
    "import matplotlib.pyplot as plt\n",
    "import numpy as np\n",
    "import ros_numpy\n",
    "import rospy\n",
    "#import tf\n",
    "from gazebo_ros import gazebo_interface\n",
    "from sensor_msgs.msg import LaserScan, PointCloud2\n",
    "from geometry_msgs.msg import Pose, Quaternion ,TransformStamped\n",
    "import moveit_commander\n",
    "import moveit_msgs.msg\n",
    "\n",
    "import sys\n",
    "\n",
    "from utils_notebooks import *\n",
    "#from utils_task1 import *\n",
    "import cv2\n",
    "import os"
   ]
  },
  {
   "cell_type": "markdown",
   "metadata": {
    "lang": "ja"
   },
   "source": [
    "# REMEMBER TO RUN MOVEIT \n",
    "# roslaunch  hsrb_moveit_config  hsrb_demo_with_controller.launch"
   ]
  },
  {
   "cell_type": "code",
   "execution_count": 6,
   "metadata": {},
   "outputs": [
    {
     "data": {
      "text/plain": [
       "'3.3.1-dev'"
      ]
     },
     "execution_count": 6,
     "metadata": {},
     "output_type": "execute_result"
    }
   ],
   "source": [
    "\n",
    "\n",
    "cv2.__version__\n",
    "\n",
    "## CHECK  CV VERSIONS IN CASE YOU WONT USE SURF \n",
    "## 3.3.1 is an old dependence use sys path remove if needed\n"
   ]
  },
  {
   "cell_type": "code",
   "execution_count": 7,
   "metadata": {},
   "outputs": [],
   "source": [
    "#! roslaunch  hsrb_moveit_config  hsrb_demo_with_controller.launch"
   ]
  },
  {
   "cell_type": "code",
   "execution_count": 8,
   "metadata": {},
   "outputs": [],
   "source": [
    "\n",
    "\n",
    "bridge = CvBridge()\n",
    "###might take some time to load all those takeshi meshes in rviz\n",
    "\n",
    "head = moveit_commander.MoveGroupCommander('head')\n",
    "arm = moveit_commander.MoveGroupCommander('arm')\n",
    "whole_body = moveit_commander.MoveGroupCommander('whole_body_light')\n",
    "whole_body.set_workspace([-6.0, -6.0, 6.0, 6.0])#whole_body.go(wb)\n"
   ]
  },
  {
   "cell_type": "code",
   "execution_count": 9,
   "metadata": {},
   "outputs": [],
   "source": [
    "def rot_to_euler(R):\n",
    "    import sys\n",
    "    import math as m\n",
    "    tol = sys.float_info.epsilon * 10\n",
    "\n",
    "    if abs(R.item(0,0))< tol and abs(R.item(1,0)) < tol:\n",
    "       eul1 = 0\n",
    "       eul2 = m.atan2(-R.item(2,0), R.item(0,0))\n",
    "       eul3 = m.atan2(-R.item(1,2), R.item(1,1))\n",
    "    else:   \n",
    "       eul1 = m.atan2(R.item(1,0),R.item(0,0))\n",
    "       sp = m.sin(eul1)\n",
    "       cp = m.cos(eul1)\n",
    "       eul2 = m.atan2(-R.item(2,0),cp*R.item(0,0)+sp*R.item(1,0))\n",
    "       eul3 = m.atan2(sp*R.item(0,2)-cp*R.item(1,2),cp*R.item(1,1)-sp*R.item(0,1))\n",
    "\n",
    "    return np.asarray((eul1,eul2,eul3))\n",
    "def pca_xyz(xyz):\n",
    "    quats=[]\n",
    "    for i in range( len(xyz)):\n",
    "        pca= PCA(n_components=3).fit(xyz[i])\n",
    "        vec0= pca.components_[0,:]\n",
    "        vec1= pca.components_[1,:]\n",
    "        vec2= pca.components_[2,:]\n",
    "        R=pca.components_\n",
    "        euler=rot_to_euler(R)\n",
    "        quats.append(tf.transformations.quaternion_from_euler(euler[0],euler[1],euler[2]))\n",
    "    return quats"
   ]
  },
  {
   "cell_type": "code",
   "execution_count": 10,
   "metadata": {},
   "outputs": [],
   "source": [
    "def rot_to_euler(R):\n",
    "    import sys\n",
    "    tol = sys.float_info.epsilon * 10\n",
    "\n",
    "    if abs(R.item(0,0))< tol and abs(R.item(1,0)) < tol:\n",
    "       eul1 = 0\n",
    "       eul2 = m.atan2(-R.item(2,0), R.item(0,0))\n",
    "       eul3 = m.atan2(-R.item(1,2), R.item(1,1))\n",
    "    else:   \n",
    "       eul1 = m.atan2(R.item(1,0),R.item(0,0))\n",
    "       sp = m.sin(eul1)\n",
    "       cp = m.cos(eul1)\n",
    "       eul2 = m.atan2(-R.item(2,0),cp*R.item(0,0)+sp*R.item(1,0))\n",
    "       eul3 = m.atan2(sp*R.item(0,2)-cp*R.item(1,2),cp*R.item(1,1)-sp*R.item(0,1))\n",
    "\n",
    "    return np.asarray((eul1,eul2,eul3))\n",
    "def pca_xyz(xyz):\n",
    "    quats=[]\n",
    "    for i in range( len(xyz)):\n",
    "        pca= PCA(n_components=3).fit(xyz[i])\n",
    "        vec0= pca.components_[0,:]\n",
    "        vec1= pca.components_[1,:]\n",
    "        vec2= pca.components_[2,:]\n",
    "        R=pca.components_\n",
    "        euler=rot_to_euler(R)\n",
    "        quats.append(tf.transformations.quaternion_from_euler(euler[0],euler[1],euler[2]))\n",
    "    return quats\n",
    "def static_tf_publish(cents, quaternions=[],label=''):\n",
    "    if (len(quaternions))==0:\n",
    "        quats=np.zeros((len(cents),4)) \n",
    "        quats[:,3]=1\n",
    "        #print quats\n",
    "    else:\n",
    "        quats=np.asarray(quaternions)\n",
    "        #print quats\n",
    "    for  i ,cent  in enumerate(cents):\n",
    "        x,y,z=cent\n",
    "        if np.isnan(x) or np.isnan(y) or np.isnan(z):\n",
    "            print('nan , rejected')\n",
    "        else:\n",
    "            #### first place a dissolving tf wrt head sensor  in centroids\n",
    "\n",
    "            broadcaster.sendTransform((x,y,z),(0,0,0,1), rospy.Time.now(), 'Object'+str(i),\"head_rgbd_sensor_link\")\n",
    "            rospy.sleep(.2)\n",
    "            \n",
    "            #### then place each centr wrt map\n",
    "            xyz_map,cent_quat= listener.lookupTransform('/map', 'Object'+str(i),rospy.Time(0))\n",
    "            map_euler=tf.transformations.euler_from_quaternion(cent_quat)\n",
    "            rospy.sleep(.2)\n",
    "            static_transformStamped = TransformStamped()\n",
    "\n",
    "            ##FIXING TF TO MAP ( ODOM REALLY)    \n",
    "            #tf_broadcaster1.sendTransform( (xyz[0],xyz[1],xyz[2]),tf.transformations.quaternion_from_euler(0, 0, 0), rospy.Time.now(), \"obj\"+str(ind), \"head_rgbd_sensor_link\")\n",
    "            ## Finally boiradcast a static tf  in cents and with quaternion found  in pca\n",
    "            if xyz_map[-1] <.2:\n",
    "                static_transformStamped.header.stamp = rospy.Time.now()\n",
    "                static_transformStamped.header.frame_id = \"map\"\n",
    "                static_transformStamped.child_frame_id = \"Floor_Object\"+str(i)+label \n",
    "                static_transformStamped.transform.translation.x = float(xyz_map[0])\n",
    "                static_transformStamped.transform.translation.y = float(xyz_map[1])\n",
    "                static_transformStamped.transform.translation.z = float(xyz_map[2])\n",
    "                #quat = tf.transformations.quaternion_from_euler(-euler[0],0,1.5)\n",
    "                static_transformStamped.transform.rotation.x = quats [i,0]#-quat[0]#trans.transform.rotation.x\n",
    "                static_transformStamped.transform.rotation.y = quats [i,1]#-quat[1]#trans.transform.rotation.y\n",
    "                static_transformStamped.transform.rotation.z = quats [i,2]#-quat[2]#trans.transform.rotation.z\n",
    "                static_transformStamped.transform.rotation.w = quats [i,3]#-quat[3]#trans.transform.rotation.w\n",
    "\n",
    "\n",
    "                tf_static_broadcaster.sendTransform(static_transformStamped)\n",
    "                print ('images[]',i)\n",
    "            if    (xyz_map[-1] >.4)and (xyz_map[-1] <.5):\n",
    "                static_transformStamped.header.stamp = rospy.Time.now()\n",
    "                static_transformStamped.header.frame_id = \"map\"\n",
    "                static_transformStamped.child_frame_id = \"Table_Object\"+str(i)+label \n",
    "                static_transformStamped.transform.translation.x = float(xyz_map[0])\n",
    "                static_transformStamped.transform.translation.y = float(xyz_map[1])\n",
    "                static_transformStamped.transform.translation.z = float(xyz_map[2])\n",
    "                #quat = tf.transformations.quaternion_from_euler(-euler[0],0,1.5)\n",
    "                static_transformStamped.transform.rotation.x = quats [i,0]#-quat[0]#trans.transform.rotation.x\n",
    "                static_transformStamped.transform.rotation.y = quats [i,1]#-quat[1]#trans.transform.rotation.y\n",
    "                static_transformStamped.transform.rotation.z = quats [i,2]#-quat[2]#trans.transform.rotation.z\n",
    "                static_transformStamped.transform.rotation.w = quats [i,3]#-quat[3]#trans.transform.rotation.w\n",
    "\n",
    "\n",
    "                tf_static_broadcaster.sendTransform(static_transformStamped)\n",
    "                print ('images[]',i)\n",
    "    return True\n"
   ]
  },
  {
   "cell_type": "code",
   "execution_count": 11,
   "metadata": {},
   "outputs": [],
   "source": [
    "#!python /home/oscar/Codes/catkin_mio_ws/src/hsrb_samples/hsrb_vision_samples/src/hsrb_vision_samples/execute_tabletop_segmentation.py"
   ]
  },
  {
   "cell_type": "code",
   "execution_count": 12,
   "metadata": {},
   "outputs": [],
   "source": [
    "#! python /home/oscar/Codes/catkin_mio_ws/src/hsrb_samples/hsrb_vision_samples/src/hsrb_vision_samples/execute_tabletop_segmentation_backup.py\n",
    "\n"
   ]
  },
  {
   "cell_type": "code",
   "execution_count": 13,
   "metadata": {},
   "outputs": [],
   "source": [
    "\n",
    "rospy.init_node(\"recognition\")\n"
   ]
  },
  {
   "cell_type": "code",
   "execution_count": 14,
   "metadata": {},
   "outputs": [],
   "source": [
    "def pose_2_np(wp_p):\n",
    "   \n",
    "    return np.asarray((wp_p.pose.position.x,wp_p.pose.position.y,wp_p.pose.position.z)) , np.asarray((wp_p.pose.orientation.w,wp_p.pose.orientation.x,wp_p.pose.orientation.y, wp_p.pose.orientation.z)) \n",
    "def np_2_pose(position,orientation):\n",
    "    wb_p= geometry_msgs.msg.PoseStamped()\n",
    "    \n",
    "    wb_p.pose.position.x= position[0]\n",
    "    wb_p.pose.position.y= position[1]\n",
    "    wb_p.pose.position.z= position[2]\n",
    "    wb_p.pose.orientation.w= orientation[0]\n",
    "    wb_p.pose.orientation.x= orientation[1]\n",
    "    wb_p.pose.orientation.y= orientation[2]\n",
    "    wb_p.pose.orientation.z= orientation[3]\n",
    "    return wb_p"
   ]
  },
  {
   "cell_type": "code",
   "execution_count": 15,
   "metadata": {},
   "outputs": [],
   "source": [
    "rgbd = RGBD()\n",
    "#a listener xtion rgbd listener class , (check utils for methods )\n",
    "# TF is one of the most powerfull underated Ros tools, I recomend to understand it and use it as often as possible.\n",
    "listener = tf.TransformListener()\n",
    "broadcaster= tf.TransformBroadcaster()\n",
    "tf_static_broadcaster= tf2_ros.StaticTransformBroadcaster()\n"
   ]
  },
  {
   "cell_type": "code",
   "execution_count": 16,
   "metadata": {},
   "outputs": [],
   "source": [
    "def gaze_point(x,y,z):\n",
    "    \n",
    "    \n",
    "    \n",
    "    head_pose = head.get_current_joint_values()\n",
    "    head_pose[0]=0.0\n",
    "    head_pose[1]=0.0\n",
    "    head.set_joint_value_target(head_pose)\n",
    "    head.go()\n",
    "    \n",
    "    trans , rot = listener.lookupTransform('/map', '/head_rgbd_sensor_gazebo_frame', rospy.Time(0)) #\n",
    "    \n",
    "    arm_pose=arm.get_current_joint_values()\n",
    "    arm_pose[0]=.1\n",
    "    arm_pose[1]= -0.3\n",
    "    arm.set_joint_value_target(arm_pose)\n",
    "    arm.go()\n",
    "    \n",
    "    e =tf.transformations.euler_from_quaternion(rot)\n",
    "    print('i am at',trans,np.rad2deg(e)[2])\n",
    "    print('gaze goal',x,y,z)\n",
    "    #tf.transformations.euler_from_quaternion(rot)\n",
    "\n",
    "\n",
    "    x_rob,y_rob,z_rob,th_rob= trans[0], trans[1] ,trans[2] ,  e[2]\n",
    "\n",
    "\n",
    "    D_x=x_rob-x\n",
    "    D_y=y_rob-y\n",
    "    D_z=z_rob-z\n",
    "\n",
    "    D_th= np.arctan2(D_y,D_x)\n",
    "    print('relative to robot',(D_x,D_y,np.rad2deg(D_th)))\n",
    "\n",
    "    pan_correct= (- th_rob + D_th + np.pi) % (2*np.pi)\n",
    "\n",
    "    if(pan_correct > np.pi):\n",
    "        pan_correct=-2*np.pi+pan_correct\n",
    "    if(pan_correct < -np.pi):\n",
    "        pan_correct=2*np.pi+pan_correct\n",
    "\n",
    "    if ((pan_correct) > .5 * np.pi):\n",
    "        print ('Exorcist alert')\n",
    "        pan_correct=.5*np.pi\n",
    "    head_pose[0]=pan_correct\n",
    "    tilt_correct=np.arctan2(D_z,np.linalg.norm((D_x,D_y)))\n",
    "\n",
    "    head_pose [1]=-tilt_correct\n",
    "    \n",
    "    \n",
    "    \n",
    "    head.set_joint_value_target(head_pose)\n",
    "    succ=head.go()\n",
    "    return succ"
   ]
  },
  {
   "cell_type": "code",
   "execution_count": 17,
   "metadata": {},
   "outputs": [],
   "source": [
    "clear_octo_client = rospy.ServiceProxy('/clear_octomap', Empty)\n",
    "\n",
    "clear_octo_client.wait_for_service(timeout=1.0)\n"
   ]
  },
  {
   "cell_type": "code",
   "execution_count": 18,
   "metadata": {},
   "outputs": [],
   "source": [
    "# initialize ROS publisher\n",
    "pub = rospy.Publisher('goal', PoseStamped, queue_size=10)\n",
    "goal = MoveBaseGoal()\n",
    "navclient = actionlib.SimpleActionClient('/move_base/move', MoveBaseAction)\n",
    "    \n",
    "# wait to establish connection between the navigation interface\n",
    "# move_base and navigation_log_recorder node\n",
    "def move_base(goal_x,goal_y,goal_yaw,time_out=10):\n",
    "    pose = PoseStamped()\n",
    "    pose.header.stamp = rospy.Time.now()\n",
    "    pose.header.frame_id = \"map\"\n",
    "    pose.pose.position = Point(goal_x, goal_y, 0)\n",
    "    quat = tf.transformations.quaternion_from_euler(0, 0, goal_yaw)\n",
    "    pose.pose.orientation = Quaternion(*quat)\n",
    "\n",
    "\n",
    "    # create a MOVE BASE GOAL\n",
    "    goal = MoveBaseGoal()\n",
    "    goal.target_pose = pose\n",
    "\n",
    "    # send message to the action server\n",
    "    navclient.send_goal(goal)\n",
    "\n",
    "    # wait for the action server to complete the order\n",
    "    navclient.wait_for_result(timeout=rospy.Duration(time_out))\n",
    "\n",
    "    # print result of navigation\n",
    "    action_state = navclient.get_state()\n",
    "    return navclient.get_state()"
   ]
  },
  {
   "cell_type": "code",
   "execution_count": null,
   "metadata": {},
   "outputs": [],
   "source": []
  },
  {
   "cell_type": "code",
   "execution_count": 19,
   "metadata": {},
   "outputs": [],
   "source": [
    "def seg_pca(lower=2000,higher=50000,reg_ly=0,reg_hy=1000,plt_images=False): \n",
    "    image= rgbd.get_h_image()\n",
    "    iimmg= rgbd.get_image()\n",
    "    points_data= rgbd.get_points()\n",
    "    values=image.reshape((-1,3))\n",
    "    values= np.float32(values)\n",
    "    criteria= (  cv2.TERM_CRITERIA_EPS + cv2.TERM_CRITERIA_MAX_ITER  ,1000,0.1)\n",
    "    k=6\n",
    "    _ , labels , cc =cv2.kmeans(values , k ,None,criteria,30,cv2.KMEANS_RANDOM_CENTERS)\n",
    "    cc=np.uint8(cc)\n",
    "    segmented_image= cc[labels.flatten()]\n",
    "    segmented_image=segmented_image.reshape(image.shape)\n",
    "    th3 = cv2.adaptiveThreshold(segmented_image,255,cv2.ADAPTIVE_THRESH_GAUSSIAN_C,cv2.THRESH_BINARY,11,2)\n",
    "    kernel = np.ones((5,5),np.uint8)\n",
    "    im4=cv2.erode(th3,kernel,iterations=4)\n",
    "    plane_mask=points_data['z']\n",
    "    cv2_img=plane_mask.astype('uint8')\n",
    "    img=im4\n",
    "    _,contours, hierarchy = cv2.findContours(im4.astype('uint8'),cv2.RETR_TREE,cv2.CHAIN_APPROX_SIMPLE)\n",
    "    i=0\n",
    "    cents=[]\n",
    "    points=[]\n",
    "    images=[]\n",
    "    for i, contour in enumerate(contours):\n",
    "        \n",
    "        area = cv2.contourArea(contour)\n",
    "\n",
    "        if area > lower and area < higher :\n",
    "            M = cv2.moments(contour)\n",
    "            # calculate x,y coordinate of center\n",
    "            cX = int(M[\"m10\"] / M[\"m00\"])\n",
    "            cY = int(M[\"m01\"] / M[\"m00\"])\n",
    "            \n",
    "    \n",
    "            boundRect = cv2.boundingRect(contour)\n",
    "            #just for drawing rect, dont waste too much time on this\n",
    "            image_aux= iimmg[boundRect[1]:boundRect[1]+boundRect[3],boundRect[0]:boundRect[0]+boundRect[2]]\n",
    "            images.append(image_aux)\n",
    "            img=cv2.rectangle(img,(boundRect[0], boundRect[1]),(boundRect[0]+boundRect[2], boundRect[1]+boundRect[3]), (0,0,0), 2)\n",
    "            # calculate moments for each contour\n",
    "            if (cY > reg_ly and cY < reg_hy  ):\n",
    "                \n",
    "                cv2.circle(img, (cX, cY), 5, (255, 255, 255), -1)\n",
    "                cv2.putText(img, \"centroid_\"+str(i)+\"_\"+str(cX)+','+str(cY)    ,    (cX - 25, cY - 25)   ,cv2.FONT_HERSHEY_SIMPLEX, 0.9, (0, 0, 0), 2)\n",
    "                print ('cX,cY',cX,cY)\n",
    "                xyz=[]\n",
    "\n",
    "\n",
    "                for jy in range (boundRect[0], boundRect[0]+boundRect[2]):\n",
    "                    for ix in range(boundRect[1], boundRect[1]+boundRect[3]):\n",
    "                        aux=(np.asarray((points_data['x'][ix,jy],points_data['y'][ix,jy],points_data['z'][ix,jy])))\n",
    "                        if np.isnan(aux[0]) or np.isnan(aux[1]) or np.isnan(aux[2]):\n",
    "                            'reject point'\n",
    "                        else:\n",
    "                            xyz.append(aux)\n",
    "\n",
    "                xyz=np.asarray(xyz)\n",
    "                cent=xyz.mean(axis=0)\n",
    "                cents.append(cent)\n",
    "                print (cent)\n",
    "                points.append(xyz)\n",
    "            else:\n",
    "                print ('cent out of region... rejected')\n",
    "    sub_plt=0\n",
    "    if plt_images:\n",
    "        for image in images:\n",
    "\n",
    "            sub_plt+=1\n",
    "            ax = plt.subplot(5, 5, sub_plt )\n",
    "\n",
    "            plt.imshow(image)\n",
    "            plt.axis(\"off\")\n",
    "\n",
    "    cents=np.asarray(cents)\n",
    "    ### returns centroids found and a group of 3d coordinates that conform the centroid\n",
    "    return(cents,np.asarray(points), images)"
   ]
  },
  {
   "cell_type": "code",
   "execution_count": null,
   "metadata": {},
   "outputs": [],
   "source": []
  },
  {
   "cell_type": "code",
   "execution_count": null,
   "metadata": {},
   "outputs": [],
   "source": []
  },
  {
   "cell_type": "code",
   "execution_count": null,
   "metadata": {},
   "outputs": [],
   "source": []
  },
  {
   "cell_type": "code",
   "execution_count": null,
   "metadata": {},
   "outputs": [],
   "source": []
  },
  {
   "cell_type": "code",
   "execution_count": 20,
   "metadata": {},
   "outputs": [],
   "source": [
    "service_client = rospy.ServiceProxy('/tabletop_segmentator_node/execute', TabletopSegmentation)\n",
    "service_client.wait_for_service(timeout=1.0)\n"
   ]
  },
  {
   "cell_type": "code",
   "execution_count": 21,
   "metadata": {},
   "outputs": [],
   "source": [
    "def res_to_cents(res, plt_images=False):\n",
    "    objs_depth_centroids=[]\n",
    "    xyz=[]\n",
    "    images=[]\n",
    "    for i in range (len(res.segmented_objects_array.table_objects_array\t)):\n",
    "        print ( 'Plane',i,'has', len(res.segmented_objects_array.table_objects_array[i].depth_image_array), 'objects')\n",
    "        for j in range (len(res.segmented_objects_array.table_objects_array[i].points_array)):\n",
    "            cv2_img_depth = bridge.imgmsg_to_cv2(res.segmented_objects_array.table_objects_array[i].depth_image_array[0] )\n",
    "            cv2_img = bridge.imgmsg_to_cv2(res.segmented_objects_array.table_objects_array[i].rgb_image_array[j],\"rgb8\" )\n",
    "            pc= ros_numpy.numpify (res.segmented_objects_array.table_objects_array[i].points_array[j])\n",
    "            points=np.zeros((pc.shape[0],3))\n",
    "            points[:,0]=pc['x']\n",
    "            points[:,1]=pc['y']\n",
    "            points[:,2]=pc['z']\n",
    "\n",
    "            points_mean=np.mean(points,axis=0)\n",
    "            if np.isnan(points_mean).max():\n",
    "                print('nan reject')\n",
    "            else:\n",
    "\n",
    "                objs_depth_centroids.append(points_mean)\n",
    "                xyz.append(points)\n",
    "                images.append(cv2_img)\n",
    "\n",
    "    print objs_depth_centroids\n",
    "\n",
    "    #lets publish a tf to this centroids ( lot of false positives) !!!!\n",
    "    sub_plt=0\n",
    "    if plt_images:\n",
    "        for image in images:\n",
    "\n",
    "            sub_plt+=1\n",
    "            ax = plt.subplot(5, 5, sub_plt )\n",
    "\n",
    "            plt.imshow(image)\n",
    "            plt.axis(\"off\")\n",
    "    return(np.asarray(objs_depth_centroids), np.asarray(xyz),images)\n",
    "        "
   ]
  },
  {
   "cell_type": "code",
   "execution_count": 22,
   "metadata": {},
   "outputs": [
    {
     "data": {
      "text/plain": [
       "1"
      ]
     },
     "execution_count": 22,
     "metadata": {},
     "output_type": "execute_result"
    }
   ],
   "source": [
    "move_base(1.25,1.3,0.5*np.pi)"
   ]
  },
  {
   "cell_type": "code",
   "execution_count": 23,
   "metadata": {},
   "outputs": [
    {
     "data": {
      "text/plain": [
       "True"
      ]
     },
     "execution_count": 23,
     "metadata": {},
     "output_type": "execute_result"
    }
   ],
   "source": [
    "arm.set_named_target('go')\n",
    "arm.go()\n",
    "head_val=head.get_current_joint_values()\n",
    "#head_val[0]=np.deg2rad(0)\n",
    "head_val[1]=np.deg2rad(-45)\n",
    "\n",
    "head.go(head_val)\n",
    "#If head didnt move, MOVE IT isnt running  properly"
   ]
  },
  {
   "cell_type": "code",
   "execution_count": null,
   "metadata": {},
   "outputs": [],
   "source": []
  },
  {
   "cell_type": "code",
   "execution_count": null,
   "metadata": {},
   "outputs": [],
   "source": []
  },
  {
   "cell_type": "code",
   "execution_count": null,
   "metadata": {},
   "outputs": [],
   "source": []
  },
  {
   "cell_type": "code",
   "execution_count": null,
   "metadata": {},
   "outputs": [],
   "source": []
  },
  {
   "cell_type": "markdown",
   "metadata": {},
   "source": []
  },
  {
   "cell_type": "code",
   "execution_count": 24,
   "metadata": {},
   "outputs": [],
   "source": [
    "\n",
    "#define a tabletop segmentation request.\n",
    "# Play with these parameters\n",
    "\n",
    "\n",
    "req = TabletopSegmentationRequest()\n",
    "req.crop_enabled = True  # limit the processing area\n",
    "req.crop_x_max = 0.7     # X coordinate maximum value in the area [m]\n",
    "req.crop_x_min = -0.7    # X coordinate minimum value in the area [m]\n",
    "req.crop_y_max = 1.0     # Y coordinate maximum value in the area [m]\n",
    "req.crop_y_min = -1.0    # Y coordinate minimum value in the area [m]\n",
    "req.crop_z_max = 1.0     # Z coordinate maximum value in the area [m]\n",
    "req.crop_z_min = -1.0     # Z coordinate minimum value in the area [m]\n",
    "req.cluster_z_max = 3  # maximum height value of cluster on table [m]\n",
    "req.cluster_z_min = 0.0  # minimum height value of cluster on table [m]\n",
    "req.remove_bg = False    # remove the background of the segment image    THIS IS AN IMPORTANT PARAMETER PLEASE NOTICE\n",
    "\n"
   ]
  },
  {
   "cell_type": "code",
   "execution_count": 25,
   "metadata": {},
   "outputs": [],
   "source": [
    "def gazebo_2_world(x,y):\n",
    "\n",
    "    x_world= x+2.1\n",
    "    y_world= -(y-1.2)\n",
    "    return (x_world,y_world)\n",
    "\n",
    "def world_2_gazebo(y_world , x_world):\n",
    "\n",
    "    x= ( x_world - 2.1)\n",
    "    y= (-y_world + 1.2) \n",
    "    return (x , y)\n",
    "\n",
    "_path_model = \"/home/roboworks/Codes/catkin_mio/src/tmc_wrs_gazebo_world/models\"     #Catkin mio version \n",
    "\n",
    "\n",
    "objs=os.listdir(_path_model)\n",
    "objs.sort()\n"
   ]
  },
  {
   "cell_type": "code",
   "execution_count": 26,
   "metadata": {},
   "outputs": [
    {
     "data": {
      "text/plain": [
       "['person_standing',\n",
       " 'training_floor',\n",
       " 'training_wall',\n",
       " 'trofast',\n",
       " 'wrc_bin_black',\n",
       " 'wrc_bin_green',\n",
       " 'wrc_bookshelf',\n",
       " 'wrc_container_a',\n",
       " 'wrc_container_b',\n",
       " 'wrc_frame',\n",
       " 'wrc_ground_plane',\n",
       " 'wrc_long_table',\n",
       " 'wrc_stair_like_drawer',\n",
       " 'wrc_tall_table',\n",
       " 'wrc_tray',\n",
       " 'ycb_002_master_chef_can',\n",
       " 'ycb_003_cracker_box',\n",
       " 'ycb_004_sugar_box',\n",
       " 'ycb_005_tomato_soup_can',\n",
       " 'ycb_006_mustard_bottle',\n",
       " 'ycb_007_tuna_fish_can',\n",
       " 'ycb_008_pudding_box',\n",
       " 'ycb_009_gelatin_box',\n",
       " 'ycb_010_potted_meat_can',\n",
       " 'ycb_011_banana',\n",
       " 'ycb_012_strawberry',\n",
       " 'ycb_013_apple',\n",
       " 'ycb_014_lemon',\n",
       " 'ycb_015_peach',\n",
       " 'ycb_016_pear',\n",
       " 'ycb_017_orange',\n",
       " 'ycb_018_plum',\n",
       " 'ycb_019_pitcher_base',\n",
       " 'ycb_021_bleach_cleanser',\n",
       " 'ycb_022_windex_bottle',\n",
       " 'ycb_024_bowl',\n",
       " 'ycb_025_mug',\n",
       " 'ycb_026_sponge',\n",
       " 'ycb_027_skillet',\n",
       " 'ycb_028_skillet_lid',\n",
       " 'ycb_029_plate',\n",
       " 'ycb_030_fork',\n",
       " 'ycb_031_spoon',\n",
       " 'ycb_032_knife',\n",
       " 'ycb_033_spatula',\n",
       " 'ycb_035_power_drill',\n",
       " 'ycb_036_wood_block',\n",
       " 'ycb_037_scissors',\n",
       " 'ycb_038_padlock',\n",
       " 'ycb_040_large_marker',\n",
       " 'ycb_042_adjustable_wrench',\n",
       " 'ycb_043_phillips_screwdriver',\n",
       " 'ycb_044_flat_screwdriver',\n",
       " 'ycb_048_hammer',\n",
       " 'ycb_050_medium_clamp',\n",
       " 'ycb_051_large_clamp',\n",
       " 'ycb_052_extra_large_clamp',\n",
       " 'ycb_053_mini_soccer_ball',\n",
       " 'ycb_054_softball',\n",
       " 'ycb_055_baseball',\n",
       " 'ycb_056_tennis_ball',\n",
       " 'ycb_057_racquetball',\n",
       " 'ycb_058_golf_ball',\n",
       " 'ycb_059_chain',\n",
       " 'ycb_061_foam_brick',\n",
       " 'ycb_062_dice',\n",
       " 'ycb_063-a_marbles',\n",
       " 'ycb_063-b_marbles',\n",
       " 'ycb_065-a_cups',\n",
       " 'ycb_065-b_cups',\n",
       " 'ycb_065-c_cups',\n",
       " 'ycb_065-d_cups',\n",
       " 'ycb_065-e_cups',\n",
       " 'ycb_065-f_cups',\n",
       " 'ycb_065-g_cups',\n",
       " 'ycb_065-h_cups',\n",
       " 'ycb_065-i_cups',\n",
       " 'ycb_065-j_cups',\n",
       " 'ycb_070-a_colored_wood_blocks',\n",
       " 'ycb_070-b_colored_wood_blocks',\n",
       " 'ycb_071_nine_hole_peg_test',\n",
       " 'ycb_072-a_toy_airplane',\n",
       " 'ycb_072-b_toy_airplane',\n",
       " 'ycb_072-c_toy_airplane',\n",
       " 'ycb_072-d_toy_airplane',\n",
       " 'ycb_072-e_toy_airplane',\n",
       " 'ycb_073-a_lego_duplo',\n",
       " 'ycb_073-b_lego_duplo',\n",
       " 'ycb_073-c_lego_duplo',\n",
       " 'ycb_073-d_lego_duplo',\n",
       " 'ycb_073-e_lego_duplo',\n",
       " 'ycb_073-f_lego_duplo',\n",
       " 'ycb_073-g_lego_duplo',\n",
       " 'ycb_077_rubiks_cube']"
      ]
     },
     "execution_count": 26,
     "metadata": {},
     "output_type": "execute_result"
    }
   ],
   "source": [
    "objs"
   ]
  },
  {
   "cell_type": "code",
   "execution_count": 27,
   "metadata": {},
   "outputs": [],
   "source": [
    "path='/home/roboworks/Videos/videos_to_keras_train/'\n",
    "obj_ind=-51\n",
    "obj_name = ''.join(objs[obj_ind].split('_')[1:])\n",
    "obj_name\n",
    "try: \n",
    "    os.mkdir(path+obj_name) \n",
    "except OSError as error: \n",
    "    print(error)  \n",
    "delete_object('spawned')"
   ]
  },
  {
   "cell_type": "code",
   "execution_count": 28,
   "metadata": {},
   "outputs": [
    {
     "name": "stdout",
     "output_type": "stream",
     "text": [
      "('i am at', [1.310637433070314, 0.9797190837187861, 0.9671034767895729], -179.46153805392834)\n",
      "('gaze goal', 1.25, 1.71, 0.6)\n",
      "('relative to robot', (0.060637433070314106, -0.7302809162812138, -85.25344650829132))\n"
     ]
    },
    {
     "data": {
      "text/plain": [
       "True"
      ]
     },
     "execution_count": 28,
     "metadata": {},
     "output_type": "execute_result"
    }
   ],
   "source": [
    "x_gaz,y_gaz= world_2_gazebo(1.0,1.0)\n",
    "move_base(0.5,0.5,0*np.pi)\n",
    "gaze_point(1.0,1.0,0.0)"
   ]
  },
  {
   "cell_type": "code",
   "execution_count": 29,
   "metadata": {},
   "outputs": [
    {
     "name": "stdout",
     "output_type": "stream",
     "text": [
      "[INFO] [1642283371.612360, 544.272000]: Spawn: ycb_032_knife\n",
      "[INFO] [1642283371.615935, 544.272000]: Spawn: [-0.0000000e+00  0.0000000e+00  1.0000000e+00 -3.6732051e-06]\n",
      "[INFO] [1642283371.618710, 544.272000]: Waiting for service /gazebo/spawn_sdf_model\n",
      "[INFO] [1642283371.640350, 544.279000]: Calling service /gazebo/spawn_sdf_model\n",
      "[INFO] [1642283371.893357, 544.342000]: Spawn status: SpawnModel: Successfully spawned entity\n"
     ]
    }
   ],
   "source": [
    "\n",
    "x_gaz,y_gaz= world_2_gazebo(1.25,1.71)\n",
    "eu_i,eu_j,eu_k = 3.1416  ,0,0\n",
    "spawn_object('spawned',objs[obj_ind], x_gaz,  y_gaz,  0.45,eu_i,eu_j,eu_k )\n",
    "rospy.sleep(.1)"
   ]
  },
  {
   "cell_type": "code",
   "execution_count": 30,
   "metadata": {},
   "outputs": [
    {
     "name": "stdout",
     "output_type": "stream",
     "text": [
      "('Plane', 0, 'has', 1, 'objects')\n",
      "[array([0.06226362, 0.19111828, 0.88266709])]\n",
      "('images[]', 0)\n"
     ]
    },
    {
     "data": {
      "text/plain": [
       "True"
      ]
     },
     "execution_count": 30,
     "metadata": {},
     "output_type": "execute_result"
    },
    {
     "data": {
      "image/png": "[encoded data removed]",
      "text/plain": [
       "<matplotlib.figure.Figure at 0x7fb3487e9f90>"
      ]
     },
     "metadata": {
      "needs_background": "light"
     },
     "output_type": "display_data"
    }
   ],
   "source": [
    "bridge = CvBridge()\n",
    "res = service_client(req)\n",
    "cents,xyz, images=res_to_cents(res,plt_images=True)\n",
    "static_tf_publish(cents)\n",
    "\n",
    "#move_base(1.1,1.3,np.pi)"
   ]
  },
  {
   "cell_type": "code",
   "execution_count": 31,
   "metadata": {},
   "outputs": [
    {
     "name": "stdout",
     "output_type": "stream",
     "text": [
      "(83, 18, 3)\n"
     ]
    }
   ],
   "source": [
    "\"\"\"images.pop()\n",
    "len(images)\"\"\"\n",
    "class_names=['002masterchefcan', '003crackerbox', '004sugarbox', '005tomatosoupcan', '006mustardbottle', '007tunafishcan', '008puddingbox', '009gelatinbox', '010pottedmeatcan', '011banana', '012strawberry', '013apple', '014lemon', '015peach', '016pear', '017orange', '018plum', '019pitcherbase', '021bleachcleanser', '022windexbottle', '024bowl', '025mug', '027skillet', '028skilletlid', '029plate', '030fork', '031spoon', '032knife', '033spatula', '035powerdrill', '036woodblock', '037scissors', '038padlock', '040largemarker', '042adjustablewrench', '043phillipsscrewdriver', '044flatscrewdriver', '048hammer', '050mediumclamp', '051largeclamp', '052extralargeclamp', '053minisoccerball', '054softball', '055baseball', '056tennisball', '057racquetball', '058golfball', '059chain', '061foambrick', '062dice', '063-amarbles', '063-bmarbles', '065-acups', '065-bcups', '065-ccups', '065-dcups', '065-ecups', '065-fcups', '065-gcups', '065-hcups', '065-icups', '065-jcups', '070-acoloredwoodblocks', '070-bcoloredwoodblocks', '071nineholepegtest', '072-atoyairplane', '073-alegoduplo', '073-blegoduplo', '073-clegoduplo', '073-dlegoduplo', '073-elegoduplo', '073-flegoduplo', '073-glegoduplo']\n",
    "for image in images:\n",
    "    print(image.shape)"
   ]
  },
  {
   "cell_type": "code",
   "execution_count": 32,
   "metadata": {},
   "outputs": [
    {
     "data": {
      "text/plain": [
       "TensorShape([2, 300, 300, 3])"
      ]
     },
     "execution_count": 32,
     "metadata": {},
     "output_type": "execute_result"
    }
   ],
   "source": [
    "imgs=np.zeros((1,300,300,3))\n",
    "\n",
    "\n",
    "    \n",
    "for image in images :\n",
    "    img=tensorflow.image.resize(image,(300,300))\n",
    "    new=np.expand_dims(img.numpy(),axis=0)\n",
    "    imgs= tensorflow.concat((imgs,new),axis=0)\n",
    "\n",
    "    \n",
    "imgs.shape"
   ]
  },
  {
   "cell_type": "code",
   "execution_count": 33,
   "metadata": {},
   "outputs": [],
   "source": [
    "#first element of imgs is a zeros matrix to form the tensor si it must be ignored.\n",
    "Y_pred = np.argmax(model.predict(imgs[1:,:,:,:]),axis=1)"
   ]
  },
  {
   "cell_type": "code",
   "execution_count": 34,
   "metadata": {},
   "outputs": [
    {
     "data": {
      "text/plain": [
       "array([29])"
      ]
     },
     "execution_count": 34,
     "metadata": {},
     "output_type": "execute_result"
    }
   ],
   "source": [
    "Y_pred"
   ]
  },
  {
   "cell_type": "code",
   "execution_count": null,
   "metadata": {},
   "outputs": [],
   "source": []
  },
  {
   "cell_type": "code",
   "execution_count": 35,
   "metadata": {},
   "outputs": [
    {
     "data": {
      "image/png": "[encoded data removed]",
      "text/plain": [
       "<matplotlib.figure.Figure at 0x7fb348487c50>"
      ]
     },
     "metadata": {
      "needs_background": "light"
     },
     "output_type": "display_data"
    }
   ],
   "source": [
    "#import matplotlib.pyplot as plt\n",
    "\n",
    "plt.figure(figsize=(10, 10))\n",
    "\n",
    "for i in range(len(images)):\n",
    "    ax = plt.subplot(3, 3, i + 1)\n",
    "    \n",
    "    plt.imshow(images[i].astype(\"uint8\"))\n",
    "    plt.title(class_names[Y_pred[i]])\n",
    "    plt.axis(\"off\")\n"
   ]
  },
  {
   "cell_type": "code",
   "execution_count": 36,
   "metadata": {},
   "outputs": [
    {
     "ename": "IndexError",
     "evalue": "index 1 is out of bounds for axis 0 with size 1",
     "output_type": "error",
     "traceback": [
      "\u001b[0;31m---------------------------------------------------------------------------\u001b[0m",
      "\u001b[0;31mIndexError\u001b[0m                                Traceback (most recent call last)",
      "\u001b[0;32m<ipython-input-36-0d5aa3558eb5>\u001b[0m in \u001b[0;36m<module>\u001b[0;34m()\u001b[0m\n\u001b[1;32m      1\u001b[0m \u001b[0mplt\u001b[0m\u001b[0;34m.\u001b[0m\u001b[0mimshow\u001b[0m\u001b[0;34m(\u001b[0m\u001b[0mimgs\u001b[0m\u001b[0;34m[\u001b[0m\u001b[0;36m1\u001b[0m\u001b[0;34m,\u001b[0m\u001b[0;34m:\u001b[0m\u001b[0;34m,\u001b[0m\u001b[0;34m:\u001b[0m\u001b[0;34m,\u001b[0m\u001b[0;34m:\u001b[0m\u001b[0;34m]\u001b[0m\u001b[0;34m.\u001b[0m\u001b[0mnumpy\u001b[0m\u001b[0;34m(\u001b[0m\u001b[0;34m)\u001b[0m\u001b[0;34m.\u001b[0m\u001b[0mastype\u001b[0m\u001b[0;34m(\u001b[0m\u001b[0;34m'uint8'\u001b[0m\u001b[0;34m)\u001b[0m\u001b[0;34m)\u001b[0m\u001b[0;34m\u001b[0m\u001b[0m\n\u001b[0;32m----> 2\u001b[0;31m \u001b[0;32mprint\u001b[0m \u001b[0;34m(\u001b[0m\u001b[0;34m'predicted'\u001b[0m\u001b[0;34m,\u001b[0m \u001b[0mclass_names\u001b[0m\u001b[0;34m[\u001b[0m\u001b[0mY_pred\u001b[0m\u001b[0;34m[\u001b[0m\u001b[0;36m1\u001b[0m\u001b[0;34m]\u001b[0m\u001b[0;34m]\u001b[0m\u001b[0;34m)\u001b[0m\u001b[0;34m\u001b[0m\u001b[0m\n\u001b[0m",
      "\u001b[0;31mIndexError\u001b[0m: index 1 is out of bounds for axis 0 with size 1"
     ]
    },
    {
     "data": {
      "image/png": "[encoded data removed]",
      "text/plain": [
       "<matplotlib.figure.Figure at 0x7fb348b787d0>"
      ]
     },
     "metadata": {
      "needs_background": "light"
     },
     "output_type": "display_data"
    }
   ],
   "source": [
    "plt.imshow(imgs[1,:,:,:].numpy().astype('uint8'))\n",
    "print ('predicted', class_names[Y_pred[1]])\n"
   ]
  },
  {
   "cell_type": "code",
   "execution_count": null,
   "metadata": {},
   "outputs": [],
   "source": [
    "plt.imshow(imgs[2,:,:,:].numpy().astype('uint8'))\n",
    "print ('predicted', class_names[Y_pred[2]])\n"
   ]
  },
  {
   "cell_type": "code",
   "execution_count": null,
   "metadata": {},
   "outputs": [],
   "source": [
    "\n",
    "num_imgs=100\n",
    "for i in range(num_imgs):\n",
    "    contador=len(os.listdir(path+'/'+obj_name))\n",
    "\n",
    "    x_gaz,y_gaz= world_2_gazebo(1.25,1.71)\n",
    "    eu_i,eu_j,eu_k = 3.1416 - i*(3.1416/num_imgs) ,0,0\n",
    "    spawn_object('spawned',objs[obj_ind+8], x_gaz,  y_gaz,  0.45,eu_i,eu_j,eu_k )\n",
    "    rospy.sleep(.1)\n",
    "    res = service_client(req)\n",
    "    cents,xyz, images=res_to_cents(res)\n",
    "    shapes_ratio=[]\n",
    "    \n",
    "    \n",
    "    if len (images)!=0:\n",
    "        plt.imshow(images[np.argmin(shapes_ratio)])\n",
    "        contador=len(os.listdir(path+'/'+obj_name))\n",
    "        #cv2.imwrite(path+obj_name+'/'+obj_name+pad_digit_num(contador,4)+'.png',cv2.cvtColor(images[np.argmin(shapes_ratio)], cv2.COLOR_BGR2RGB))\n",
    "    \n",
    "    delete_object('spawned')"
   ]
  },
  {
   "cell_type": "code",
   "execution_count": null,
   "metadata": {},
   "outputs": [],
   "source": [
    "\n",
    "num_imgs=200\n",
    "for i in range(num_imgs):\n",
    "    contador=len(os.listdir(path+'/'+obj_name))\n",
    "\n",
    "    x_gaz,y_gaz= world_2_gazebo(1.25,1.71)\n",
    "    eu_i,eu_j,eu_k = 3.1416 - i*(3.1416/num_imgs) ,0,0\n",
    "    spawn_object('spawned',objs[obj_ind], x_gaz,  y_gaz,  0.53,eu_i,eu_j,eu_k )\n",
    "    rospy.sleep(.1)\n",
    "    res = service_client(req)\n",
    "    cents,xyz, images=res_to_cents(res)\n",
    "    shapes_ratio=[]\n",
    "   \n",
    "    \n",
    "    for image in images:\n",
    "        print(np.abs(image.shape[0]-image.shape[1]))\n",
    "        shapes_ratio.append(np.abs(image.shape[0]-image.shape[1]))\n",
    "    if len(images)!=0:\n",
    "        plt.imshow(images[np.argmin(shapes_ratio)])\n",
    "        contador=len(os.listdir(path+'/'+obj_name))\n",
    "        cv2.imwrite(path+obj_name+'/'+obj_name+pad_digit_num(contador,4)+'.png',cv2.cvtColor(images[np.argmin(shapes_ratio)], cv2.COLOR_BGR2RGB))\n",
    "    \n",
    "    delete_object('spawned')"
   ]
  },
  {
   "cell_type": "markdown",
   "metadata": {},
   "source": []
  },
  {
   "cell_type": "code",
   "execution_count": null,
   "metadata": {},
   "outputs": [],
   "source": []
  },
  {
   "cell_type": "code",
   "execution_count": null,
   "metadata": {},
   "outputs": [],
   "source": [
    "for ii in range (10):    \n",
    "    obj_ind= -ii-40\n",
    "    obj_name = ''.join(objs[obj_ind].split('_')[1:])\n",
    "    obj_name\n",
    "    try: \n",
    "        os.mkdir(path+obj_name) \n",
    "    except OSError as error: \n",
    "        print(error)  \n",
    "    delete_object('spawned')\n",
    "    move_base(1.25,1.0,np.pi)\n",
    "    gaze_point(1.25,1.71,.6)\n",
    "    x_gaz,y_gaz= world_2_gazebo(1.25,1.71)\n",
    "    eu_i,eu_j,eu_k = 3.1416  ,0,0\n",
    "    spawn_object('spawned',objs[obj_ind], x_gaz,  y_gaz,  0.41,eu_i,eu_j,eu_k )\n",
    "\n",
    "    num_imgs=100\n",
    "    for i in range(num_imgs):\n",
    "        contador=len(os.listdir(path+'/'+obj_name))\n",
    "\n",
    "        x_gaz,y_gaz= world_2_gazebo(1.25,1.71)\n",
    "        eu_i,eu_j,eu_k = 3.1416 - i*(3.1416/num_imgs) ,0,0\n",
    "        spawn_object('spawned',objs[obj_ind], x_gaz,  y_gaz,  0.45,eu_i,eu_j,eu_k )\n",
    "        rospy.sleep(.1)\n",
    "        res = service_client(req)\n",
    "        cents,xyz, images=res_to_cents(res)\n",
    "        shapes_ratio=[]\n",
    "\n",
    "        for image in images:\n",
    "            print(np.abs(image.shape[0]-image.shape[1]))\n",
    "            shapes_ratio.append(np.abs(image.shape[0]-image.shape[1]))\n",
    "        if len (images)!=0:\n",
    "            plt.imshow(images[np.argmin(shapes_ratio)])\n",
    "            contador=len(os.listdir(path+'/'+obj_name))\n",
    "            cv2.imwrite(path+obj_name+'/'+obj_name+pad_digit_num(contador,4)+'.png',cv2.cvtColor(images[np.argmin(shapes_ratio)], cv2.COLOR_BGR2RGB))\n",
    "\n",
    "        delete_object('spawned')\n",
    "    num_imgs=100\n",
    "    for i in range(num_imgs):\n",
    "        contador=len(os.listdir(path+'/'+obj_name))\n",
    "\n",
    "        x_gaz,y_gaz= world_2_gazebo(1.25,1.71)\n",
    "        eu_i,eu_j,eu_k = 3.1416 - i*(3.1416/num_imgs) ,0,0\n",
    "        spawn_object('spawned',objs[obj_ind], x_gaz,  y_gaz,  0.53,eu_i,eu_j,eu_k )\n",
    "        rospy.sleep(.1)\n",
    "        res = service_client(req)\n",
    "        cents,xyz, images=res_to_cents(res)\n",
    "        shapes_ratio=[]\n",
    "\n",
    "\n",
    "        for image in images:\n",
    "            print(np.abs(image.shape[0]-image.shape[1]))\n",
    "            shapes_ratio.append(np.abs(image.shape[0]-image.shape[1]))\n",
    "        if len(images)!=0:\n",
    "            plt.imshow(images[np.argmin(shapes_ratio)])\n",
    "            contador=len(os.listdir(path+'/'+obj_name))\n",
    "            cv2.imwrite(path+obj_name+'/'+obj_name+pad_digit_num(contador,4)+'.png',cv2.cvtColor(images[np.argmin(shapes_ratio)], cv2.COLOR_BGR2RGB))\n",
    "\n",
    "        delete_object('spawned')"
   ]
  },
  {
   "cell_type": "code",
   "execution_count": null,
   "metadata": {},
   "outputs": [],
   "source": [
    "ii"
   ]
  },
  {
   "cell_type": "code",
   "execution_count": null,
   "metadata": {},
   "outputs": [],
   "source": [
    "plt.imshow(images[np.argmin(shapes_ratio)])\n",
    "contador=len(os.listdir(path+'/'+obj_name))\n",
    "cv2.imwrite(path+obj_name+'/'+obj_name+pad_digit_num(contador,4)+'.png',cv2.cvtColor(images[np.argmin(shapes_ratio)], cv2.COLOR_BGR2RGB))\n",
    "delete_object('spawned')"
   ]
  },
  {
   "cell_type": "code",
   "execution_count": null,
   "metadata": {},
   "outputs": [],
   "source": [
    "#cents,xyz,images=seg_pca(lower=100,higher=40000,plt_images=True)\n"
   ]
  },
  {
   "cell_type": "code",
   "execution_count": null,
   "metadata": {},
   "outputs": [],
   "source": [
    "ii"
   ]
  },
  {
   "cell_type": "code",
   "execution_count": null,
   "metadata": {},
   "outputs": [],
   "source": [
    "arm.set_named_target('go')\n",
    "arm.go()\n",
    "head.set_named_targeta('neutral')\n",
    "head.go()"
   ]
  },
  {
   "cell_type": "code",
   "execution_count": null,
   "metadata": {},
   "outputs": [],
   "source": [
    "path='/home/oscar/Videos/videos_to_keras_train/'\n",
    "\n",
    "objs[15].split('_')[1:]\n",
    "obj_name = ''.join(objs[15].split('_')[1:])\n",
    "obj_name\n",
    "try: \n",
    "    os.mkdir(path+obj_name) \n",
    "except OSError as error: \n",
    "    print(error)  \n"
   ]
  },
  {
   "cell_type": "code",
   "execution_count": null,
   "metadata": {},
   "outputs": [],
   "source": []
  },
  {
   "cell_type": "code",
   "execution_count": null,
   "metadata": {},
   "outputs": [],
   "source": [
    "plt.imshow(images[0])\n",
    "contador=len(os.listdir(path+'/'+obj_name))\n",
    "\n",
    "cv2.imwrite(path+obj_name+'/'+obj_name+pad_digit_num(contador,4)+'.png',cv2.cvtColor(images[0], cv2.COLOR_BGR2RGB))"
   ]
  },
  {
   "cell_type": "code",
   "execution_count": null,
   "metadata": {},
   "outputs": [],
   "source": [
    "\n",
    "def pad_digit_num(num,length):\n",
    "    text_num=''\n",
    "    for i in range(length -len(str(num))):\n",
    "        text_num=text_num+'0'\n",
    "    return(text_num+str(num))\n"
   ]
  },
  {
   "cell_type": "code",
   "execution_count": null,
   "metadata": {},
   "outputs": [],
   "source": [
    "contador=len(os.listdir(path+'/'+obj_name))\n",
    "x_gaz,y_gaz= world_2_gazebo(1.5,1.61)\n",
    "eu_i,eu_j,eu_k = 2,0.0,0.0\n",
    "spawn_object('spawned',objs[15], x_gaz,  y_gaz,  0.51,eu_i,eu_j,eu_k )\n",
    "\n",
    "cv2.imwrite(path+obj_name+'/'+obj_name+pad_digit_num(contador,4)+'.png',cv2.cvtColor(images[1], cv2.COLOR_BGR2RGB))\n",
    "delete_object('spawned')"
   ]
  },
  {
   "cell_type": "code",
   "execution_count": null,
   "metadata": {},
   "outputs": [],
   "source": []
  },
  {
   "cell_type": "code",
   "execution_count": null,
   "metadata": {},
   "outputs": [],
   "source": [
    "#cents, xyz=seg_pca()\n",
    "#quats= pca_xyz(xyz)\n",
    "\n",
    "cents= objs_depth_centroids\n",
    "static_tf_publish(cents,quats)"
   ]
  },
  {
   "cell_type": "code",
   "execution_count": null,
   "metadata": {},
   "outputs": [],
   "source": [
    "centroids,xyz, images=seg_pca()\n",
    "quats= pca_xyz(xyz)\n",
    "static_tf_publish(centroids,quats)"
   ]
  },
  {
   "cell_type": "code",
   "execution_count": null,
   "metadata": {},
   "outputs": [],
   "source": [
    "sub_plt=0\n",
    "for image in images:\n",
    "    \n",
    "    sub_plt+=1\n",
    "    ax = plt.subplot(5, 5, sub_plt )\n",
    "    \n",
    "    plt.imshow(image)\n",
    "    plt.axis(\"off\")\n",
    "\n",
    "        "
   ]
  },
  {
   "cell_type": "code",
   "execution_count": null,
   "metadata": {},
   "outputs": [],
   "source": [
    "delete_object('spawned')"
   ]
  },
  {
   "cell_type": "code",
   "execution_count": null,
   "metadata": {},
   "outputs": [],
   "source": []
  },
  {
   "cell_type": "code",
   "execution_count": null,
   "metadata": {},
   "outputs": [],
   "source": [
    "tf.transformations.quaternion_from_euler(eu_i,eu_j,eu_k)"
   ]
  },
  {
   "cell_type": "code",
   "execution_count": null,
   "metadata": {},
   "outputs": [],
   "source": [
    "gaze_point( 1.45,1.7,  0.51)\n",
    "arm.set_named_target('go')\n",
    "arm.go()"
   ]
  },
  {
   "cell_type": "code",
   "execution_count": null,
   "metadata": {},
   "outputs": [],
   "source": [
    "plt.imshow (rgbd.get_image())"
   ]
  },
  {
   "cell_type": "code",
   "execution_count": null,
   "metadata": {},
   "outputs": [],
   "source": [
    "cents,xyz,images=seg_pca(lower=1000,higher=500000,plt_images=True)"
   ]
  },
  {
   "cell_type": "code",
   "execution_count": null,
   "metadata": {},
   "outputs": [],
   "source": [
    "res = service_client(req)"
   ]
  },
  {
   "cell_type": "code",
   "execution_count": null,
   "metadata": {},
   "outputs": [],
   "source": [
    "res_to_cents(res,plt_images=True)"
   ]
  },
  {
   "cell_type": "code",
   "execution_count": null,
   "metadata": {},
   "outputs": [],
   "source": [
    "path='/home/oscar/Videos/videos_to_keras_train/'\n",
    "os.listdir(path)\n",
    "objs[15].split('_')[1:]\n",
    "obj_name = ''.join(objs[15].split('_')[1:])\n",
    "obj_name"
   ]
  },
  {
   "cell_type": "code",
   "execution_count": null,
   "metadata": {},
   "outputs": [],
   "source": [
    "try: \n",
    "    os.mkdir(path+obj_name) \n",
    "except OSError as error: \n",
    "    print(error)  \n",
    "cv2.imwrite(path+obj_name+'/'+obj_name+pad_digit_num(contador,4)+'.png',img_roi)"
   ]
  },
  {
   "cell_type": "code",
   "execution_count": null,
   "metadata": {},
   "outputs": [],
   "source": [
    "plt.imshow(images[0])"
   ]
  },
  {
   "cell_type": "code",
   "execution_count": null,
   "metadata": {},
   "outputs": [],
   "source": [
    "res_to_cents(res)"
   ]
  },
  {
   "cell_type": "code",
   "execution_count": null,
   "metadata": {},
   "outputs": [],
   "source": [
    "cents, xyz,images=res_to_cents(res,True)"
   ]
  },
  {
   "cell_type": "code",
   "execution_count": null,
   "metadata": {},
   "outputs": [],
   "source": [
    "quats=pca_xyz(xyz)"
   ]
  },
  {
   "cell_type": "code",
   "execution_count": null,
   "metadata": {},
   "outputs": [],
   "source": [
    "static_tf_publish(cents,quats,'end')"
   ]
  },
  {
   "cell_type": "code",
   "execution_count": null,
   "metadata": {},
   "outputs": [],
   "source": [
    "cents,xyz,images=seg_pca(lower=100,higher=10000,plt_images=True)"
   ]
  },
  {
   "cell_type": "code",
   "execution_count": null,
   "metadata": {},
   "outputs": [],
   "source": [
    "move_base(2,1,np.pi)"
   ]
  },
  {
   "cell_type": "code",
   "execution_count": null,
   "metadata": {},
   "outputs": [],
   "source": [
    "gaze_point(1,1,.1)\n",
    "arm.set_named_target('go')\n",
    "arm.go()"
   ]
  },
  {
   "cell_type": "code",
   "execution_count": null,
   "metadata": {},
   "outputs": [],
   "source": [
    "cents,xyz,images=seg_pca(lower=100,higher=10000,plt_images=True)"
   ]
  },
  {
   "cell_type": "code",
   "execution_count": null,
   "metadata": {},
   "outputs": [],
   "source": [
    "x_gaz,y_gaz= world_2_gazebo(1,1)\n",
    "eu_i,eu_j,eu_k = .5*np.pi,0,0\n",
    "spawn_object('spawned',objs[-13], x_gaz,  y_gaz,  0.6,eu_i,eu_j,eu_k )\n"
   ]
  },
  {
   "cell_type": "code",
   "execution_count": null,
   "metadata": {},
   "outputs": [],
   "source": [
    "cents,xyz,images=seg_pca(lower=100,higher=40000,plt_images=True)\n",
    "quats=pca_xyz(xyz)\n",
    "static_tf_publish(cents,quats,'at 2,1')"
   ]
  },
  {
   "cell_type": "code",
   "execution_count": null,
   "metadata": {},
   "outputs": [],
   "source": [
    "move_base(1.5,.5,np.pi)"
   ]
  },
  {
   "cell_type": "code",
   "execution_count": null,
   "metadata": {},
   "outputs": [],
   "source": [
    "gaze_point(1,1,.1)\n",
    "arm.set_named_target('go')\n",
    "arm.go()"
   ]
  },
  {
   "cell_type": "code",
   "execution_count": null,
   "metadata": {},
   "outputs": [],
   "source": [
    "cents,xyz,images=seg_pca(lower=100,higher=40000,plt_images=True)\n",
    "quats=pca_xyz(xyz)\n",
    "static_tf_publish(cents,quats,'at 1.5,.5')"
   ]
  },
  {
   "cell_type": "code",
   "execution_count": null,
   "metadata": {},
   "outputs": [],
   "source": [
    "move_base(1.5,.5,0)"
   ]
  },
  {
   "cell_type": "code",
   "execution_count": null,
   "metadata": {},
   "outputs": [],
   "source": [
    "gaze_point(1,1,.1)\n",
    "arm.set_named_target('go')\n",
    "arm.go()"
   ]
  },
  {
   "cell_type": "code",
   "execution_count": null,
   "metadata": {},
   "outputs": [],
   "source": [
    "cents,xyz,images=seg_pca(lower=100,higher=40000,plt_images=True)\n",
    "\n"
   ]
  },
  {
   "cell_type": "code",
   "execution_count": null,
   "metadata": {},
   "outputs": [],
   "source": [
    "import numpy as np\n",
    "images_test= np.load('/home/roboworks/Codes/TensorFLow/imgs_test.npy',allow_pickle=True)\n"
   ]
  },
  {
   "cell_type": "code",
   "execution_count": null,
   "metadata": {},
   "outputs": [],
   "source": [
    "img=tensorflow.image.resize(images_test[0],(300,300))"
   ]
  },
  {
   "cell_type": "code",
   "execution_count": null,
   "metadata": {},
   "outputs": [],
   "source": [
    "test_imgs=np.zeros((1,300,300,3))\n",
    "for image in images_test:\n",
    "    img=tensorflow.image.resize(image,(300,300))\n",
    "    new=np.expand_dims(img.numpy(),axis=0)\n",
    "    test_imgs=np.concatenate((test_imgs,new))\n",
    "    \n",
    "    "
   ]
  },
  {
   "cell_type": "code",
   "execution_count": null,
   "metadata": {},
   "outputs": [],
   "source": [
    "test_imgs.shape"
   ]
  },
  {
   "cell_type": "code",
   "execution_count": null,
   "metadata": {},
   "outputs": [],
   "source": [
    "np.argmax(model.predict(test_imgs),axis=1)\n"
   ]
  },
  {
   "cell_type": "code",
   "execution_count": null,
   "metadata": {},
   "outputs": [],
   "source": [
    "tensorflow.config.experimental.set_memory_growth(physical_devices[0], True)"
   ]
  },
  {
   "cell_type": "code",
   "execution_count": null,
   "metadata": {},
   "outputs": [],
   "source": [
    "model.summary()"
   ]
  },
  {
   "cell_type": "code",
   "execution_count": null,
   "metadata": {},
   "outputs": [],
   "source": [
    "images_test= np.load('imgs_test.npy',allow_pickle=True)\n"
   ]
  },
  {
   "cell_type": "code",
   "execution_count": null,
   "metadata": {},
   "outputs": [],
   "source": [
    "images_test.shape"
   ]
  },
  {
   "cell_type": "code",
   "execution_count": null,
   "metadata": {},
   "outputs": [],
   "source": [
    "img=tensorflow.image.resize(images_test[0],(300,300))"
   ]
  },
  {
   "cell_type": "code",
   "execution_count": null,
   "metadata": {},
   "outputs": [],
   "source": [
    "plt.imshow(img.numpy().astype('uint8'))"
   ]
  },
  {
   "cell_type": "code",
   "execution_count": null,
   "metadata": {},
   "outputs": [],
   "source": [
    "test_imgs=np.zeros((1,300,300,3))\n",
    "for image in images_test:\n",
    "    img=tensorflow.image.resize(image,(300,300))\n",
    "    new=np.expand_dims(img.numpy(),axis=0)\n",
    "    test_imgs=np.concatenate((test_imgs,new))\n",
    "    \n",
    "    "
   ]
  },
  {
   "cell_type": "code",
   "execution_count": null,
   "metadata": {},
   "outputs": [],
   "source": [
    "test_imgs.shape"
   ]
  },
  {
   "cell_type": "code",
   "execution_count": null,
   "metadata": {},
   "outputs": [],
   "source": [
    "np.argmax(model.predict(test_imgs),axis=1)\n"
   ]
  },
  {
   "cell_type": "code",
   "execution_count": null,
   "metadata": {},
   "outputs": [],
   "source": [
    "from utils_notebooks import *"
   ]
  },
  {
   "cell_type": "code",
   "execution_count": null,
   "metadata": {},
   "outputs": [],
   "source": []
  },
  {
   "cell_type": "code",
   "execution_count": null,
   "metadata": {},
   "outputs": [],
   "source": [
    "rgbd= RGBD()"
   ]
  },
  {
   "cell_type": "code",
   "execution_count": null,
   "metadata": {},
   "outputs": [],
   "source": [
    "img=rgbd.get_image()"
   ]
  },
  {
   "cell_type": "code",
   "execution_count": null,
   "metadata": {},
   "outputs": [],
   "source": [
    "cents,xyz,images=seg_pca(lower=100,higher=10000,plt_images=True)"
   ]
  },
  {
   "cell_type": "code",
   "execution_count": null,
   "metadata": {},
   "outputs": [],
   "source": [
    "class_names=['002masterchefcan', '003crackerbox', '004sugarbox', '005tomatosoupcan', '006mustardbottle', '007tunafishcan', '008puddingbox', '009gelatinbox', '010pottedmeatcan', '011banana', '012strawberry', '013apple', '014lemon', '015peach', '016pear', '017orange', '018plum', '019pitcherbase', '021bleachcleanser', '022windexbottle', '024bowl', '025mug', '027skillet', '028skilletlid', '029plate', '030fork', '031spoon', '032knife', '033spatula', '035powerdrill', '036woodblock', '037scissors', '038padlock', '040largemarker', '042adjustablewrench', '043phillipsscrewdriver', '044flatscrewdriver', '048hammer', '050mediumclamp', '051largeclamp', '052extralargeclamp', '053minisoccerball', '054softball', '055baseball', '056tennisball', '057racquetball', '058golfball', '059chain', '061foambrick', '062dice', '063-amarbles', '063-bmarbles', '065-acups', '065-bcups', '065-ccups', '065-dcups', '065-ecups', '065-fcups', '065-gcups', '065-hcups', '065-icups', '065-jcups', '070-acoloredwoodblocks', '070-bcoloredwoodblocks', '071nineholepegtest', '072-atoyairplane', '073-alegoduplo', '073-blegoduplo', '073-clegoduplo', '073-dlegoduplo', '073-elegoduplo', '073-flegoduplo', '073-glegoduplo']"
   ]
  },
  {
   "cell_type": "code",
   "execution_count": null,
   "metadata": {},
   "outputs": [],
   "source": []
  }
 ],
 "metadata": {
  "kernelspec": {
   "display_name": "Python 2",
   "language": "python",
   "name": "python2"
  },
  "language_info": {
   "codemirror_mode": {
    "name": "ipython",
    "version": 2
   },
   "file_extension": ".py",
   "mimetype": "text/x-python",
   "name": "python",
   "nbconvert_exporter": "python",
   "pygments_lexer": "ipython2",
   "version": "2.7.17"
  },
  "nbTranslate": {
   "displayLangs": [
    "ja"
   ],
   "hotkey": "alt-t",
   "langInMainMenu": true,
   "sourceLang": "ja",
   "targetLang": "en",
   "useGoogleTranslate": true
  },
  "toc": {
   "base_numbering": 1,
   "nav_menu": {},
   "number_sections": true,
   "sideBar": true,
   "skip_h1_title": false,
   "title_cell": "Table of Contents",
   "title_sidebar": "Contents",
   "toc_cell": false,
   "toc_position": {},
   "toc_section_display": true,
   "toc_window_display": true
  }
 },
 "nbformat": 4,
 "nbformat_minor": 2
}
