{
 "cells": [
  {
   "cell_type": "markdown",
   "metadata": {
    "lang": "en"
   },
   "source": [
    "## Setup"
   ]
  },
  {
   "cell_type": "markdown",
   "metadata": {
    "lang": "ja"
   },
   "source": []
  },
  {
   "cell_type": "markdown",
   "metadata": {
    "lang": "en"
   },
   "source": [
    "Import the required libraries and initialize them:"
   ]
  },
  {
   "cell_type": "code",
   "execution_count": 1,
   "metadata": {},
   "outputs": [],
   "source": [
    "from std_srvs.srv import Empty, Trigger, TriggerRequest\n",
    "import trajectory_msgs.msg\n",
    "from copy import deepcopy\n"
   ]
  },
  {
   "cell_type": "code",
   "execution_count": 2,
   "metadata": {},
   "outputs": [],
   "source": [
    "from cv_bridge import CvBridge, CvBridgeError\n",
    "import rospy\n",
    "#import cv2\n",
    "import ros_numpy\n",
    "import numpy as np\n",
    "from tmc_tabletop_segmentator.srv import TabletopSegmentation\n",
    "from tmc_tabletop_segmentator.srv import TabletopSegmentationRequest\n",
    "from sensor_msgs.msg import Image\n",
    "from std_msgs.msg import String\n",
    "import tf\n",
    "import tf2_ros\n",
    "import geometry_msgs.msg\n",
    "from utils_notebooks import *\n"
   ]
  },
  {
   "cell_type": "code",
   "execution_count": 3,
   "metadata": {},
   "outputs": [],
   "source": [
    "%matplotlib inline\n",
    "\n",
    "import matplotlib.pyplot as plt\n",
    "import numpy as np\n",
    "import ros_numpy\n",
    "import rospy\n",
    "import tf\n",
    "from gazebo_ros import gazebo_interface\n",
    "from sensor_msgs.msg import LaserScan, PointCloud2\n",
    "from geometry_msgs.msg import Pose, Quaternion ,TransformStamped\n",
    "import moveit_commander\n",
    "import moveit_msgs.msg\n",
    "\n",
    "import sys\n",
    "\n",
    "from utils_notebooks import *\n",
    "#from utils_task1 import *\n",
    "import cv2\n",
    "import os"
   ]
  },
  {
   "cell_type": "markdown",
   "metadata": {
    "lang": "ja"
   },
   "source": [
    "# REMEMBER TO RUN MOVEIT \n",
    "# roslaunch  hsrb_moveit_config  hsrb_demo_with_controller.launch"
   ]
  },
  {
   "cell_type": "code",
   "execution_count": 4,
   "metadata": {},
   "outputs": [
    {
     "data": {
      "text/plain": [
       "'3.3.1-dev'"
      ]
     },
     "execution_count": 4,
     "metadata": {},
     "output_type": "execute_result"
    }
   ],
   "source": [
    "\n",
    "\n",
    "cv2.__version__\n",
    "\n",
    "## CHECK  CV VERSIONS IN CASE YOU WONT USE SURF \n",
    "## 3.3.1 is an old dependence use sys path remove if needed\n"
   ]
  },
  {
   "cell_type": "code",
   "execution_count": 5,
   "metadata": {},
   "outputs": [],
   "source": [
    "#! roslaunch  hsrb_moveit_config  hsrb_demo_with_controller.launch"
   ]
  },
  {
   "cell_type": "code",
   "execution_count": 6,
   "metadata": {},
   "outputs": [],
   "source": [
    "\n",
    "\n",
    "bridge = CvBridge()\n",
    "###might take some time to load all those takeshi meshes in rviz\n",
    "\n",
    "head = moveit_commander.MoveGroupCommander('head')\n",
    "arm = moveit_commander.MoveGroupCommander('arm')\n",
    "whole_body = moveit_commander.MoveGroupCommander('whole_body_light')\n",
    "whole_body.set_workspace([-6.0, -6.0, 6.0, 6.0])#whole_body.go(wb)\n"
   ]
  },
  {
   "cell_type": "code",
   "execution_count": 7,
   "metadata": {},
   "outputs": [],
   "source": [
    "def rot_to_euler(R):\n",
    "    import sys\n",
    "    import math as m\n",
    "    tol = sys.float_info.epsilon * 10\n",
    "\n",
    "    if abs(R.item(0,0))< tol and abs(R.item(1,0)) < tol:\n",
    "       eul1 = 0\n",
    "       eul2 = m.atan2(-R.item(2,0), R.item(0,0))\n",
    "       eul3 = m.atan2(-R.item(1,2), R.item(1,1))\n",
    "    else:   \n",
    "       eul1 = m.atan2(R.item(1,0),R.item(0,0))\n",
    "       sp = m.sin(eul1)\n",
    "       cp = m.cos(eul1)\n",
    "       eul2 = m.atan2(-R.item(2,0),cp*R.item(0,0)+sp*R.item(1,0))\n",
    "       eul3 = m.atan2(sp*R.item(0,2)-cp*R.item(1,2),cp*R.item(1,1)-sp*R.item(0,1))\n",
    "\n",
    "    return np.asarray((eul1,eul2,eul3))\n",
    "def pca_xyz(xyz):\n",
    "    quats=[]\n",
    "    for i in range( len(xyz)):\n",
    "        pca= PCA(n_components=3).fit(xyz[i])\n",
    "        vec0= pca.components_[0,:]\n",
    "        vec1= pca.components_[1,:]\n",
    "        vec2= pca.components_[2,:]\n",
    "        R=pca.components_\n",
    "        euler=rot_to_euler(R)\n",
    "        quats.append(tf.transformations.quaternion_from_euler(euler[0],euler[1],euler[2]))\n",
    "    return quats"
   ]
  },
  {
   "cell_type": "code",
   "execution_count": 8,
   "metadata": {},
   "outputs": [],
   "source": [
    "def rot_to_euler(R):\n",
    "    import sys\n",
    "    tol = sys.float_info.epsilon * 10\n",
    "\n",
    "    if abs(R.item(0,0))< tol and abs(R.item(1,0)) < tol:\n",
    "       eul1 = 0\n",
    "       eul2 = m.atan2(-R.item(2,0), R.item(0,0))\n",
    "       eul3 = m.atan2(-R.item(1,2), R.item(1,1))\n",
    "    else:   \n",
    "       eul1 = m.atan2(R.item(1,0),R.item(0,0))\n",
    "       sp = m.sin(eul1)\n",
    "       cp = m.cos(eul1)\n",
    "       eul2 = m.atan2(-R.item(2,0),cp*R.item(0,0)+sp*R.item(1,0))\n",
    "       eul3 = m.atan2(sp*R.item(0,2)-cp*R.item(1,2),cp*R.item(1,1)-sp*R.item(0,1))\n",
    "\n",
    "    return np.asarray((eul1,eul2,eul3))\n",
    "def pca_xyz(xyz):\n",
    "    quats=[]\n",
    "    for i in range( len(xyz)):\n",
    "        pca= PCA(n_components=3).fit(xyz[i])\n",
    "        vec0= pca.components_[0,:]\n",
    "        vec1= pca.components_[1,:]\n",
    "        vec2= pca.components_[2,:]\n",
    "        R=pca.components_\n",
    "        euler=rot_to_euler(R)\n",
    "        quats.append(tf.transformations.quaternion_from_euler(euler[0],euler[1],euler[2]))\n",
    "    return quats\n",
    "def static_tf_publish(cents, quaternions=[],label=''):\n",
    "    if (len(quaternions))==0:\n",
    "        quats=np.zeros((len(cents),4)) \n",
    "        quats[:,3]=1\n",
    "        #print quats\n",
    "    else:\n",
    "        quats=np.asarray(quaternions)\n",
    "        #print quats\n",
    "    for  i ,cent  in enumerate(cents):\n",
    "        x,y,z=cent\n",
    "        if np.isnan(x) or np.isnan(y) or np.isnan(z):\n",
    "            print('nan , rejected')\n",
    "        else:\n",
    "            #### first place a \"dissolving\" tf wrt head sensor  in centroids\n",
    "\n",
    "            broadcaster.sendTransform((x,y,z),(0,0,0,1), rospy.Time.now(), 'Object'+str(i),\"head_rgbd_sensor_link\")\n",
    "            rospy.sleep(.2)\n",
    "            \n",
    "            #### then place each centr wrt map\n",
    "            xyz_map,cent_quat= listener.lookupTransform('/map', 'Object'+str(i),rospy.Time(0))\n",
    "            map_euler=tf.transformations.euler_from_quaternion(cent_quat)\n",
    "            rospy.sleep(.2)\n",
    "            static_transformStamped = TransformStamped()\n",
    "\n",
    "            ##FIXING TF TO MAP ( ODOM REALLY)    \n",
    "            #tf_broadcaster1.sendTransform( (xyz[0],xyz[1],xyz[2]),tf.transformations.quaternion_from_euler(0, 0, 0), rospy.Time.now(), \"obj\"+str(ind), \"head_rgbd_sensor_link\")\n",
    "            ## Finally boiradcast a static tf  in cents and with quaternion found  in pca\n",
    "            if xyz_map[-1] <.2:\n",
    "                static_transformStamped.header.stamp = rospy.Time.now()\n",
    "                static_transformStamped.header.frame_id = \"map\"\n",
    "                static_transformStamped.child_frame_id = \"Floor_Object\"+str(i)+label \n",
    "                static_transformStamped.transform.translation.x = float(xyz_map[0])\n",
    "                static_transformStamped.transform.translation.y = float(xyz_map[1])\n",
    "                static_transformStamped.transform.translation.z = float(xyz_map[2])\n",
    "                #quat = tf.transformations.quaternion_from_euler(-euler[0],0,1.5)\n",
    "                static_transformStamped.transform.rotation.x = quats [i,0]#-quat[0]#trans.transform.rotation.x\n",
    "                static_transformStamped.transform.rotation.y = quats [i,1]#-quat[1]#trans.transform.rotation.y\n",
    "                static_transformStamped.transform.rotation.z = quats [i,2]#-quat[2]#trans.transform.rotation.z\n",
    "                static_transformStamped.transform.rotation.w = quats [i,3]#-quat[3]#trans.transform.rotation.w\n",
    "\n",
    "\n",
    "                tf_static_broadcaster.sendTransform(static_transformStamped)\n",
    "                print ('images[]',i)\n",
    "            if    (xyz_map[-1] >.4)and (xyz_map[-1] <.6):\n",
    "                static_transformStamped.header.stamp = rospy.Time.now()\n",
    "                static_transformStamped.header.frame_id = \"map\"\n",
    "                static_transformStamped.child_frame_id = \"Table_Object\"+str(i)+label \n",
    "                static_transformStamped.transform.translation.x = float(xyz_map[0])\n",
    "                static_transformStamped.transform.translation.y = float(xyz_map[1])\n",
    "                static_transformStamped.transform.translation.z = float(xyz_map[2])\n",
    "                #quat = tf.transformations.quaternion_from_euler(-euler[0],0,1.5)\n",
    "                static_transformStamped.transform.rotation.x = quats [i,0]#-quat[0]#trans.transform.rotation.x\n",
    "                static_transformStamped.transform.rotation.y = quats [i,1]#-quat[1]#trans.transform.rotation.y\n",
    "                static_transformStamped.transform.rotation.z = quats [i,2]#-quat[2]#trans.transform.rotation.z\n",
    "                static_transformStamped.transform.rotation.w = quats [i,3]#-quat[3]#trans.transform.rotation.w\n",
    "\n",
    "\n",
    "                tf_static_broadcaster.sendTransform(static_transformStamped)\n",
    "                print ('images[]',i)\n",
    "    return True\n"
   ]
  },
  {
   "cell_type": "code",
   "execution_count": null,
   "metadata": {},
   "outputs": [],
   "source": []
  },
  {
   "cell_type": "code",
   "execution_count": null,
   "metadata": {},
   "outputs": [],
   "source": []
  },
  {
   "cell_type": "code",
   "execution_count": 24,
   "metadata": {},
   "outputs": [],
   "source": [
    "\n",
    "rospy.init_node(\"recognition\")\n"
   ]
  },
  {
   "cell_type": "code",
   "execution_count": 25,
   "metadata": {},
   "outputs": [],
   "source": [
    "def pose_2_np(wp_p):\n",
    "   \n",
    "    return np.asarray((wp_p.pose.position.x,wp_p.pose.position.y,wp_p.pose.position.z)) , np.asarray((wp_p.pose.orientation.w,wp_p.pose.orientation.x,wp_p.pose.orientation.y, wp_p.pose.orientation.z)) \n",
    "def np_2_pose(position,orientation):\n",
    "    wb_p= geometry_msgs.msg.PoseStamped()\n",
    "    \n",
    "    wb_p.pose.position.x= position[0]\n",
    "    wb_p.pose.position.y= position[1]\n",
    "    wb_p.pose.position.z= position[2]\n",
    "    wb_p.pose.orientation.w= orientation[0]\n",
    "    wb_p.pose.orientation.x= orientation[1]\n",
    "    wb_p.pose.orientation.y= orientation[2]\n",
    "    wb_p.pose.orientation.z= orientation[3]\n",
    "    return wb_p"
   ]
  },
  {
   "cell_type": "code",
   "execution_count": 26,
   "metadata": {},
   "outputs": [],
   "source": [
    "rgbd = RGBD()\n",
    "#a listener xtion rgbd listener class , (check utils for methods )\n",
    "# TF is one of the most powerfull underated Ros tools, I recomend to understand it and use it as often as possible.\n",
    "listener = tf.TransformListener()\n",
    "broadcaster= tf.TransformBroadcaster()\n",
    "tf_static_broadcaster= tf2_ros.StaticTransformBroadcaster()\n"
   ]
  },
  {
   "cell_type": "code",
   "execution_count": 27,
   "metadata": {},
   "outputs": [],
   "source": [
    "def gaze_point(x,y,z):\n",
    "    \n",
    "    \n",
    "    \n",
    "    head_pose = head.get_current_joint_values()\n",
    "    head_pose[0]=0.0\n",
    "    head_pose[1]=0.0\n",
    "    head.set_joint_value_target(head_pose)\n",
    "    head.go()\n",
    "    \n",
    "    trans , rot = listener.lookupTransform('/map', '/head_rgbd_sensor_gazebo_frame', rospy.Time(0)) #\n",
    "    \n",
    "   \n",
    "    e =tf.transformations.euler_from_quaternion(rot)\n",
    "    print('i am at',trans,np.rad2deg(e)[2])\n",
    "    print('gaze goal',x,y,z)\n",
    "    #tf.transformations.euler_from_quaternion(rot)\n",
    "\n",
    "\n",
    "    x_rob,y_rob,z_rob,th_rob= trans[0], trans[1] ,trans[2] ,  e[2]\n",
    "\n",
    "\n",
    "    D_x=x_rob-x\n",
    "    D_y=y_rob-y\n",
    "    D_z=z_rob-z\n",
    "\n",
    "    D_th= np.arctan2(D_y,D_x)\n",
    "    print('relative to robot',(D_x,D_y,np.rad2deg(D_th)))\n",
    "\n",
    "    pan_correct= (- th_rob + D_th + np.pi) % (2*np.pi)\n",
    "\n",
    "    if(pan_correct > np.pi):\n",
    "        pan_correct=-2*np.pi+pan_correct\n",
    "    if(pan_correct < -np.pi):\n",
    "        pan_correct=2*np.pi+pan_correct\n",
    "\n",
    "    if ((pan_correct) > .5 * np.pi):\n",
    "        print ('Exorcist alert')\n",
    "        pan_correct=.5*np.pi\n",
    "    head_pose[0]=pan_correct\n",
    "    tilt_correct=np.arctan2(D_z,np.linalg.norm((D_x,D_y)))\n",
    "\n",
    "    head_pose [1]=-tilt_correct\n",
    "    \n",
    "    \n",
    "    \n",
    "    head.set_joint_value_target(head_pose)\n",
    "    succ=head.go()\n",
    "    return succ"
   ]
  },
  {
   "cell_type": "code",
   "execution_count": 28,
   "metadata": {},
   "outputs": [],
   "source": [
    "clear_octo_client = rospy.ServiceProxy('/clear_octomap', Empty)\n",
    "\n",
    "clear_octo_client.wait_for_service(timeout=1.0)\n"
   ]
  },
  {
   "cell_type": "code",
   "execution_count": 29,
   "metadata": {},
   "outputs": [],
   "source": [
    "# initialize ROS publisher\n",
    "pub = rospy.Publisher('goal', PoseStamped, queue_size=10)\n",
    "\n",
    "# wait to establish connection between the navigation interface\n",
    "# move_base and navigation_log_recorder node\n",
    "\n",
    "def move_base(x,y,th, ref='map'):\n",
    "    # input goal pose\n",
    "    goal_x = x\n",
    "    goal_y = y\n",
    "    goal_yaw =th\n",
    "\n",
    "    # fill ROS message\n",
    "    goal = PoseStamped()\n",
    "    goal.header.stamp = rospy.Time.now()\n",
    "    goal.header.frame_id = ref\n",
    "    goal.pose.position = Point(goal_x, goal_y, 0)\n",
    "    quat = tf.transformations.quaternion_from_euler(0, 0, goal_yaw)\n",
    "    goal.pose.orientation = Quaternion(*quat)\n",
    "    # publish ROS message\n",
    "    pub.publish(goal)\n",
    "    "
   ]
  },
  {
   "cell_type": "code",
   "execution_count": null,
   "metadata": {},
   "outputs": [],
   "source": []
  },
  {
   "cell_type": "code",
   "execution_count": 30,
   "metadata": {},
   "outputs": [],
   "source": [
    "def seg_pca(lower=2000,higher=50000,reg_ly=0,reg_hy=1000,plt_images=False): \n",
    "    image= rgbd.get_h_image()\n",
    "    iimmg= rgbd.get_image()\n",
    "    points_data= rgbd.get_points()\n",
    "    values=image.reshape((-1,3))\n",
    "    values= np.float32(values)\n",
    "    criteria= (  cv2.TERM_CRITERIA_EPS + cv2.TERM_CRITERIA_MAX_ITER  ,1000,0.1)\n",
    "    k=3\n",
    "    _ , labels , cc =cv2.kmeans(values , k ,None,criteria,30,cv2.KMEANS_RANDOM_CENTERS)\n",
    "    cc=np.uint8(cc)\n",
    "    segmented_image= cc[labels.flatten()]\n",
    "    segmented_image=segmented_image.reshape(image.shape)\n",
    "    th3 = cv2.adaptiveThreshold(segmented_image,255,cv2.ADAPTIVE_THRESH_GAUSSIAN_C,cv2.THRESH_BINARY,11,2)\n",
    "    kernel = np.ones((5,5),np.uint8)\n",
    "    im4=cv2.erode(th3,kernel,iterations=4)\n",
    "    plane_mask=points_data['z']\n",
    "    cv2_img=plane_mask.astype('uint8')\n",
    "    img=im4\n",
    "    _,contours, hierarchy = cv2.findContours(im4.astype('uint8'),cv2.RETR_TREE,cv2.CHAIN_APPROX_SIMPLE)\n",
    "    i=0\n",
    "    cents=[]\n",
    "    points=[]\n",
    "    images=[]\n",
    "    for i, contour in enumerate(contours):\n",
    "        \n",
    "        area = cv2.contourArea(contour)\n",
    "\n",
    "        if area > lower and area < higher :\n",
    "            M = cv2.moments(contour)\n",
    "            # calculate x,y coordinate of center\n",
    "            cX = int(M[\"m10\"] / M[\"m00\"])\n",
    "            cY = int(M[\"m01\"] / M[\"m00\"])\n",
    "            \n",
    "    \n",
    "            boundRect = cv2.boundingRect(contour)\n",
    "            #just for drawing rect, dont waste too much time on this\n",
    "            image_aux= iimmg[boundRect[1]:boundRect[1]+boundRect[3],boundRect[0]:boundRect[0]+boundRect[2]]\n",
    "            images.append(image_aux)\n",
    "            img=cv2.rectangle(img,(boundRect[0], boundRect[1]),(boundRect[0]+boundRect[2], boundRect[1]+boundRect[3]), (0,0,0), 2)\n",
    "            # calculate moments for each contour\n",
    "            if (cY > reg_ly and cY < reg_hy  ):\n",
    "                \n",
    "                cv2.circle(img, (cX, cY), 5, (255, 255, 255), -1)\n",
    "                cv2.putText(img, \"centroid_\"+str(i)+\"_\"+str(cX)+','+str(cY)    ,    (cX - 25, cY - 25)   ,cv2.FONT_HERSHEY_SIMPLEX, 0.9, (0, 0, 0), 2)\n",
    "                print ('cX,cY',cX,cY)\n",
    "                xyz=[]\n",
    "\n",
    "\n",
    "                for jy in range (boundRect[0], boundRect[0]+boundRect[2]):\n",
    "                    for ix in range(boundRect[1], boundRect[1]+boundRect[3]):\n",
    "                        aux=(np.asarray((points_data['x'][ix,jy],points_data['y'][ix,jy],points_data['z'][ix,jy])))\n",
    "                        if np.isnan(aux[0]) or np.isnan(aux[1]) or np.isnan(aux[2]):\n",
    "                            'reject point'\n",
    "                        else:\n",
    "                            xyz.append(aux)\n",
    "\n",
    "                xyz=np.asarray(xyz)\n",
    "                cent=xyz.mean(axis=0)\n",
    "                cents.append(cent)\n",
    "                print (cent)\n",
    "                points.append(xyz)\n",
    "            else:\n",
    "                print ('cent out of region... rejected')\n",
    "    sub_plt=0\n",
    "    if plt_images:\n",
    "        for image in images:\n",
    "\n",
    "            sub_plt+=1\n",
    "            ax = plt.subplot(5, 5, sub_plt )\n",
    "\n",
    "            plt.imshow(image)\n",
    "            plt.axis(\"off\")\n",
    "\n",
    "    cents=np.asarray(cents)\n",
    "    ### returns centroids found and a group of 3d coordinates that conform the centroid\n",
    "    return(cents,np.asarray(points), images)"
   ]
  },
  {
   "cell_type": "code",
   "execution_count": null,
   "metadata": {},
   "outputs": [],
   "source": []
  },
  {
   "cell_type": "code",
   "execution_count": null,
   "metadata": {},
   "outputs": [],
   "source": []
  },
  {
   "cell_type": "code",
   "execution_count": null,
   "metadata": {},
   "outputs": [],
   "source": []
  },
  {
   "cell_type": "code",
   "execution_count": null,
   "metadata": {},
   "outputs": [],
   "source": []
  },
  {
   "cell_type": "code",
   "execution_count": 31,
   "metadata": {},
   "outputs": [],
   "source": [
    "service_client = rospy.ServiceProxy('/tabletop_segmentator_node/execute', TabletopSegmentation)\n",
    "service_client.wait_for_service(timeout=1.0)\n"
   ]
  },
  {
   "cell_type": "code",
   "execution_count": 32,
   "metadata": {},
   "outputs": [],
   "source": [
    "def res_to_cents(res, plt_images=False):\n",
    "    objs_depth_centroids=[]\n",
    "    xyz=[]\n",
    "    images=[]\n",
    "    for i in range (len(res.segmented_objects_array.table_objects_array\t)):\n",
    "        print ( 'Plane',i,'has', len(res.segmented_objects_array.table_objects_array[i].depth_image_array), 'objects')\n",
    "        for j in range (len(res.segmented_objects_array.table_objects_array[i].points_array)):\n",
    "            cv2_img_depth = bridge.imgmsg_to_cv2(res.segmented_objects_array.table_objects_array[i].depth_image_array[0] )\n",
    "            cv2_img = bridge.imgmsg_to_cv2(res.segmented_objects_array.table_objects_array[i].rgb_image_array[j],\"rgb8\" )\n",
    "            pc= ros_numpy.numpify (res.segmented_objects_array.table_objects_array[i].points_array[j])\n",
    "            points=np.zeros((pc.shape[0],3))\n",
    "            points[:,0]=pc['x']\n",
    "            points[:,1]=pc['y']\n",
    "            points[:,2]=pc['z']\n",
    "\n",
    "            points_mean=np.mean(points,axis=0)\n",
    "            if np.isnan(points_mean).max():\n",
    "                print('nan reject')\n",
    "            else:\n",
    "\n",
    "                objs_depth_centroids.append(points_mean)\n",
    "                xyz.append(points)\n",
    "                images.append(cv2_img)\n",
    "\n",
    "    print objs_depth_centroids\n",
    "\n",
    "    #lets publish a tf to this centroids ( lot of false positives) !!!!\n",
    "    sub_plt=0\n",
    "    if plt_images:\n",
    "        for image in images:\n",
    "\n",
    "            sub_plt+=1\n",
    "            ax = plt.subplot(5, 5, sub_plt )\n",
    "\n",
    "            plt.imshow(image)\n",
    "            plt.axis(\"off\")\n",
    "    return(np.asarray(objs_depth_centroids), np.asarray(xyz))\n",
    "        "
   ]
  },
  {
   "cell_type": "code",
   "execution_count": 33,
   "metadata": {},
   "outputs": [],
   "source": [
    "\n",
    "#define a tabletop segmentation request.\n",
    "# Play with these parameters\n",
    "\n",
    "\n",
    "req = TabletopSegmentationRequest()\n",
    "req.crop_enabled = True  # limit the processing area\n",
    "req.crop_x_max = 0.7     # X coordinate maximum value in the area [m]\n",
    "req.crop_x_min = -0.7    # X coordinate minimum value in the area [m]\n",
    "req.crop_y_max = 1.0     # Y coordinate maximum value in the area [m]\n",
    "req.crop_y_min = -1.0    # Y coordinate minimum value in the area [m]\n",
    "req.crop_z_max = 1.0     # Z coordinate maximum value in the area [m]\n",
    "req.crop_z_min = 0.0     # Z coordinate minimum value in the area [m]\n",
    "req.cluster_z_max = 3  # maximum height value of cluster on table [m]\n",
    "req.cluster_z_min = 0.0  # minimum height value of cluster on table [m]\n",
    "req.remove_bg = False    # remove the background of the segment image    THIS IS AN IMPORTANT PARAMETER PLEASE NOTICE\n",
    "\n"
   ]
  },
  {
   "cell_type": "code",
   "execution_count": 35,
   "metadata": {},
   "outputs": [],
   "source": [
    "move_base(1.5,1.13,.5*np.pi)"
   ]
  },
  {
   "cell_type": "code",
   "execution_count": 36,
   "metadata": {},
   "outputs": [
    {
     "data": {
      "text/plain": []
     },
     "execution_count": 36,
     "metadata": {},
     "output_type": "execute_result"
    }
   ],
   "source": [
    "clear_octo_client.call()"
   ]
  },
  {
   "cell_type": "code",
   "execution_count": 37,
   "metadata": {},
   "outputs": [
    {
     "name": "stdout",
     "output_type": "stream",
     "text": [
      "('i am at', [1.4780366635336044, 1.0670127916167373, 0.9675519079997384], 83.07899581839892)\n",
      "('gaze goal', 1.16, 1.6, 0.4)\n",
      "('relative to robot', (0.3180366635336045, -0.5329872083832627, -59.1752190374757))\n"
     ]
    },
    {
     "data": {
      "text/plain": [
       "True"
      ]
     },
     "execution_count": 37,
     "metadata": {},
     "output_type": "execute_result"
    }
   ],
   "source": [
    "\n",
    "head_val=head.get_current_joint_values()\n",
    "#head_val[0]=np.deg2rad(0)\n",
    "head_val[1]=np.deg2rad(-45)\n",
    "\n",
    "#head.go(head_val)\n",
    "#If head didnt move, MOVE IT isnt running  properly\n",
    "\n",
    "\n",
    "gaze_point(1.16,1.6,.4)  #center of table 1' ish\n",
    "#gaze_point(-.03,1.6,0.7)  #center of table 2' ish\n"
   ]
  },
  {
   "cell_type": "code",
   "execution_count": 38,
   "metadata": {},
   "outputs": [
    {
     "data": {
      "text/plain": [
       "<matplotlib.image.AxesImage at 0x7f774322d4d0>"
      ]
     },
     "execution_count": 38,
     "metadata": {},
     "output_type": "execute_result"
    },
    {
     "data": {
      "image/png": "[encoded data removed]",
      "text/plain": [
       "<matplotlib.figure.Figure at 0x7f7743787f10>"
      ]
     },
     "metadata": {
      "needs_background": "light"
     },
     "output_type": "display_data"
    }
   ],
   "source": [
    "plt.imshow(rgbd.get_image())"
   ]
  },
  {
   "cell_type": "code",
   "execution_count": 39,
   "metadata": {},
   "outputs": [
    {
     "name": "stdout",
     "output_type": "stream",
     "text": [
      "('Plane', 0, 'has', 0, 'objects')\n",
      "('Plane', 1, 'has', 1, 'objects')\n",
      "('Plane', 2, 'has', 2, 'objects')\n",
      "('Plane', 3, 'has', 0, 'objects')\n",
      "[array([ 0.31994779, -0.34290308,  0.90956426]), array([ 0.16370873, -0.00124722,  0.81963249]), array([0.14492513, 0.18743966, 0.76791536])]\n",
      "('images[]', 1)\n"
     ]
    },
    {
     "data": {
      "text/plain": [
       "True"
      ]
     },
     "execution_count": 39,
     "metadata": {},
     "output_type": "execute_result"
    },
    {
     "data": {
      "image/png": "[encoded data removed]",
      "text/plain": [
       "<matplotlib.figure.Figure at 0x7f774387cad0>"
      ]
     },
     "metadata": {
      "needs_background": "light"
     },
     "output_type": "display_data"
    }
   ],
   "source": [
    "res = service_client(req)\n",
    "cents,xyz=res_to_cents(res,plt_images=True)\n",
    "quats= pca_xyz(xyz)\n",
    "static_tf_publish(cents,quats, 'tmc_plane_segmentation')\n"
   ]
  },
  {
   "cell_type": "code",
   "execution_count": null,
   "metadata": {},
   "outputs": [],
   "source": []
  },
  {
   "cell_type": "code",
   "execution_count": null,
   "metadata": {},
   "outputs": [],
   "source": []
  },
  {
   "cell_type": "code",
   "execution_count": null,
   "metadata": {},
   "outputs": [],
   "source": []
  },
  {
   "cell_type": "code",
   "execution_count": 41,
   "metadata": {},
   "outputs": [],
   "source": [
    "scene = moveit_commander.PlanningSceneInterface()\n",
    "scene.remove_world_object()"
   ]
  },
  {
   "cell_type": "code",
   "execution_count": 40,
   "metadata": {},
   "outputs": [
    {
     "name": "stdout",
     "output_type": "stream",
     "text": [
      "0\n",
      "1\n",
      "2\n"
     ]
    }
   ],
   "source": [
    "for i in range (13):\n",
    "    try:\n",
    "        p, r =listener.lookupTransform( 'map','Table_Object'+str(i)+'tmc_plane_segmentation', rospy.Time(0))\n",
    "    except(tf.LookupException):\n",
    "        continue\n",
    "    \n",
    "    pp=np_2_pose(p,r)\n",
    "    pp.header.frame_id= \"map\"\n",
    "    scene.add_box('Object'+str(i)+'_tmc',pp ,(.05,.1,.3))\n",
    "    print i\n",
    "\n"
   ]
  },
  {
   "cell_type": "code",
   "execution_count": 42,
   "metadata": {},
   "outputs": [
    {
     "name": "stdout",
     "output_type": "stream",
     "text": [
      "('cX,cY', 582, 10)\n",
      "[ 0.9680999  -0.89208424  2.1905687 ]\n",
      "('cX,cY', 454, 237)\n",
      "[ 0.20383406 -0.00486212  0.8339917 ]\n",
      "('cX,cY', 224, 170)\n",
      "[-0.16545565 -0.12063208  0.9604566 ]\n",
      "('images[]', 0)\n",
      "('images[]', 1)\n",
      "('images[]', 2)\n",
      "1\n",
      "2\n"
     ]
    },
    {
     "data": {
      "image/png": "[encoded data removed]",
      "text/plain": [
       "<matplotlib.figure.Figure at 0x7f7762812dd0>"
      ]
     },
     "metadata": {
      "needs_background": "light"
     },
     "output_type": "display_data"
    }
   ],
   "source": [
    "centroids,xyz, images=seg_pca(plt_images=True)\n",
    "quats= pca_xyz(xyz)\n",
    "static_tf_publish(centroids,quats,'Kmeans_pca')\n",
    "for i in range (13):\n",
    "    try:\n",
    "        p, r =listener.lookupTransform( 'map','Table_Object'+str(i)+'Kmeans_pca', rospy.Time(0))\n",
    "    except(tf.LookupException):\n",
    "        continue\n",
    "    \n",
    "    pp=np_2_pose(p,r)\n",
    "    pp.header.frame_id= \"map\"\n",
    "    scene.add_box('Object'+str(i)+'_pca',pp ,(0.3,.1,.05))\n",
    "    print i\n"
   ]
  },
  {
   "cell_type": "code",
   "execution_count": 43,
   "metadata": {},
   "outputs": [],
   "source": [
    "#scene.remove_world_object()"
   ]
  },
  {
   "cell_type": "code",
   "execution_count": null,
   "metadata": {},
   "outputs": [],
   "source": []
  },
  {
   "cell_type": "code",
   "execution_count": 44,
   "metadata": {},
   "outputs": [],
   "source": [
    "move_base(1.5,1.3,.75*np.pi)\n"
   ]
  },
  {
   "cell_type": "code",
   "execution_count": 45,
   "metadata": {},
   "outputs": [],
   "source": [
    "move_base(1.5,1.3,.75*np.pi)\n"
   ]
  },
  {
   "cell_type": "code",
   "execution_count": 46,
   "metadata": {},
   "outputs": [
    {
     "name": "stdout",
     "output_type": "stream",
     "text": [
      "('i am at', [1.530087437258753, 1.239131548810216, 0.9674875672375427], 137.03714534933047)\n",
      "('gaze goal', 1.16, 1.6, 0.4)\n",
      "('relative to robot', (0.37008743725875304, -0.36086845118978417, -44.27741058381578))\n"
     ]
    },
    {
     "data": {
      "text/plain": [
       "True"
      ]
     },
     "execution_count": 46,
     "metadata": {},
     "output_type": "execute_result"
    }
   ],
   "source": [
    "gaze_point(1.16,1.6,.4)  #center of table 1' ish\n"
   ]
  },
  {
   "cell_type": "code",
   "execution_count": 47,
   "metadata": {},
   "outputs": [
    {
     "name": "stdout",
     "output_type": "stream",
     "text": [
      "('Plane', 0, 'has', 4, 'objects')\n",
      "('Plane', 1, 'has', 1, 'objects')\n",
      "('Plane', 2, 'has', 0, 'objects')\n",
      "[array([-0.01605006,  0.07567046,  0.686033  ]), array([-0.10431488, -0.12238912,  0.83200512]), array([-0.0338941 ,  0.11875447,  0.77805796]), array([0.20834459, 0.06501186, 0.67368003]), array([ 0.36006   , -0.29795455,  0.7442906 ])]\n",
      "('images[]', 1)\n",
      "('images[]', 3)\n",
      "1\n",
      "3\n"
     ]
    },
    {
     "data": {
      "image/png": "[encoded data removed]",
      "text/plain": [
       "<matplotlib.figure.Figure at 0x7f7742a8acd0>"
      ]
     },
     "metadata": {
      "needs_background": "light"
     },
     "output_type": "display_data"
    }
   ],
   "source": [
    "res = service_client(req)\n",
    "cents,xyz=res_to_cents(res,plt_images=True)\n",
    "quats= pca_xyz(xyz)\n",
    "static_tf_publish(cents,quats, 'tmc_plane_segmentation_2')\n",
    "for i in range (13):\n",
    "    try:\n",
    "        p, r =listener.lookupTransform( 'map','Table_Object'+str(i)+'tmc_plane_segmentation_2', rospy.Time(0))\n",
    "    except(tf.LookupException):\n",
    "        continue\n",
    "    \n",
    "    pp=np_2_pose(p,r)\n",
    "    pp.header.frame_id= \"map\"\n",
    "    scene.add_box('Object'+str(i)+'_tmc_2',pp ,(.3,.1,.01))\n",
    "    print i\n",
    "\n",
    "\n"
   ]
  },
  {
   "cell_type": "code",
   "execution_count": null,
   "metadata": {},
   "outputs": [],
   "source": []
  },
  {
   "cell_type": "code",
   "execution_count": 48,
   "metadata": {},
   "outputs": [
    {
     "name": "stdout",
     "output_type": "stream",
     "text": [
      "('cX,cY', 304, 380)\n",
      "[-0.02089461  0.25141776  0.9564989 ]\n",
      "('cX,cY', 489, 282)\n",
      "[0.21240097 0.05342837 0.6927023 ]\n",
      "('cX,cY', 137, 239)\n",
      "[-4.2239696e-01 -5.1136088e-04  1.2832823e+00]\n",
      "('cX,cY', 246, 159)\n",
      "[-0.11183906 -0.12042369  0.84935236]\n",
      "('cX,cY', 31, 143)\n",
      "[-0.77045935 -0.25353518  1.4757208 ]\n",
      "('images[]', 0)\n",
      "('images[]', 1)\n",
      "('images[]', 2)\n",
      "('images[]', 3)\n",
      "('images[]', 4)\n",
      "1\n",
      "3\n"
     ]
    },
    {
     "data": {
      "image/png": "[encoded data removed]",
      "text/plain": [
       "<matplotlib.figure.Figure at 0x7f774324f5d0>"
      ]
     },
     "metadata": {
      "needs_background": "light"
     },
     "output_type": "display_data"
    }
   ],
   "source": [
    "centroids,xyz, images=seg_pca(plt_images=True)\n",
    "quats= pca_xyz(xyz)\n",
    "static_tf_publish(centroids,quats,'Kmeans_pca_2')\n",
    "for i in range (13):\n",
    "    try:\n",
    "        p, r =listener.lookupTransform( 'map','Table_Object'+str(i)+'Kmeans_pca_2', rospy.Time(0))\n",
    "    except(tf.LookupException):\n",
    "        continue\n",
    "    \n",
    "    pp=np_2_pose(p,r)\n",
    "    pp.header.frame_id= \"map\"\n",
    "    scene.add_box('Object'+str(i)+'_pca_2',pp ,(.3,.1,.01))\n",
    "    print i\n"
   ]
  },
  {
   "cell_type": "code",
   "execution_count": 49,
   "metadata": {},
   "outputs": [],
   "source": [
    "move_base(.9,1.3,.35*np.pi)\n"
   ]
  },
  {
   "cell_type": "code",
   "execution_count": 51,
   "metadata": {},
   "outputs": [
    {
     "name": "stdout",
     "output_type": "stream",
     "text": [
      "('i am at', [0.8597758924047928, 1.2496743675328634, 0.9670263714883998], 65.6110930602108)\n",
      "('gaze goal', 1.16, 1.6, 0.4)\n",
      "('relative to robot', (-0.3002241075952071, -0.35032563246713666, -130.59610818276363))\n"
     ]
    },
    {
     "data": {
      "text/plain": [
       "True"
      ]
     },
     "execution_count": 51,
     "metadata": {},
     "output_type": "execute_result"
    }
   ],
   "source": [
    "gaze_point(1.16,1.6,.4)  #center of table 1' ish\n"
   ]
  },
  {
   "cell_type": "code",
   "execution_count": 52,
   "metadata": {},
   "outputs": [
    {
     "ename": "ServiceException",
     "evalue": "transport error completing service call: unable to receive data from sender, check sender's logs for details",
     "output_type": "error",
     "traceback": [
      "\u001b[0;31m---------------------------------------------------------------------------\u001b[0m",
      "\u001b[0;31mServiceException\u001b[0m                          Traceback (most recent call last)",
      "\u001b[0;32m<ipython-input-52-89da5fdd8467>\u001b[0m in \u001b[0;36m<module>\u001b[0;34m()\u001b[0m\n\u001b[0;32m----> 1\u001b[0;31m \u001b[0mres\u001b[0m \u001b[0;34m=\u001b[0m \u001b[0mservice_client\u001b[0m\u001b[0;34m(\u001b[0m\u001b[0mreq\u001b[0m\u001b[0;34m)\u001b[0m\u001b[0;34m\u001b[0m\u001b[0m\n\u001b[0m\u001b[1;32m      2\u001b[0m \u001b[0mcents\u001b[0m\u001b[0;34m,\u001b[0m\u001b[0mxyz\u001b[0m\u001b[0;34m=\u001b[0m\u001b[0mres_to_cents\u001b[0m\u001b[0;34m(\u001b[0m\u001b[0mres\u001b[0m\u001b[0;34m,\u001b[0m\u001b[0mplt_images\u001b[0m\u001b[0;34m=\u001b[0m\u001b[0mTrue\u001b[0m\u001b[0;34m)\u001b[0m\u001b[0;34m\u001b[0m\u001b[0m\n\u001b[1;32m      3\u001b[0m \u001b[0mquats\u001b[0m\u001b[0;34m=\u001b[0m \u001b[0mpca_xyz\u001b[0m\u001b[0;34m(\u001b[0m\u001b[0mxyz\u001b[0m\u001b[0;34m)\u001b[0m\u001b[0;34m\u001b[0m\u001b[0m\n\u001b[1;32m      4\u001b[0m \u001b[0mstatic_tf_publish\u001b[0m\u001b[0;34m(\u001b[0m\u001b[0mcents\u001b[0m\u001b[0;34m,\u001b[0m\u001b[0mquats\u001b[0m\u001b[0;34m,\u001b[0m \u001b[0;34m'tmc_plane_segmentation_3'\u001b[0m\u001b[0;34m)\u001b[0m\u001b[0;34m\u001b[0m\u001b[0m\n\u001b[1;32m      5\u001b[0m \u001b[0;32mfor\u001b[0m \u001b[0mi\u001b[0m \u001b[0;32min\u001b[0m \u001b[0mrange\u001b[0m \u001b[0;34m(\u001b[0m\u001b[0;36m13\u001b[0m\u001b[0;34m)\u001b[0m\u001b[0;34m:\u001b[0m\u001b[0;34m\u001b[0m\u001b[0m\n",
      "\u001b[0;32m/opt/ros/melodic/lib/python2.7/dist-packages/rospy/impl/tcpros_service.pyc\u001b[0m in \u001b[0;36m__call__\u001b[0;34m(self, *args, **kwds)\u001b[0m\n\u001b[1;32m    440\u001b[0m         \u001b[0mmessage\u001b[0m\u001b[0;34m.\u001b[0m \u001b[0mThis\u001b[0m \u001b[0;32mis\u001b[0m \u001b[0musually\u001b[0m \u001b[0ma\u001b[0m \u001b[0mtype\u001b[0m \u001b[0merror\u001b[0m \u001b[0;32mwith\u001b[0m \u001b[0mone\u001b[0m \u001b[0mof\u001b[0m \u001b[0mthe\u001b[0m \u001b[0mfields\u001b[0m\u001b[0;34m.\u001b[0m\u001b[0;34m\u001b[0m\u001b[0m\n\u001b[1;32m    441\u001b[0m         \"\"\"\n\u001b[0;32m--> 442\u001b[0;31m         \u001b[0;32mreturn\u001b[0m \u001b[0mself\u001b[0m\u001b[0;34m.\u001b[0m\u001b[0mcall\u001b[0m\u001b[0;34m(\u001b[0m\u001b[0;34m*\u001b[0m\u001b[0margs\u001b[0m\u001b[0;34m,\u001b[0m \u001b[0;34m**\u001b[0m\u001b[0mkwds\u001b[0m\u001b[0;34m)\u001b[0m\u001b[0;34m\u001b[0m\u001b[0m\n\u001b[0m\u001b[1;32m    443\u001b[0m \u001b[0;34m\u001b[0m\u001b[0m\n\u001b[1;32m    444\u001b[0m     \u001b[0;32mdef\u001b[0m \u001b[0m_get_service_uri\u001b[0m\u001b[0;34m(\u001b[0m\u001b[0mself\u001b[0m\u001b[0;34m,\u001b[0m \u001b[0mrequest\u001b[0m\u001b[0;34m)\u001b[0m\u001b[0;34m:\u001b[0m\u001b[0;34m\u001b[0m\u001b[0m\n",
      "\u001b[0;32m/opt/ros/melodic/lib/python2.7/dist-packages/rospy/impl/tcpros_service.pyc\u001b[0m in \u001b[0;36mcall\u001b[0;34m(self, *args, **kwds)\u001b[0m\n\u001b[1;32m    530\u001b[0m                 \u001b[0;32mraise\u001b[0m \u001b[0mrospy\u001b[0m\u001b[0;34m.\u001b[0m\u001b[0mexceptions\u001b[0m\u001b[0;34m.\u001b[0m\u001b[0mROSInterruptException\u001b[0m\u001b[0;34m(\u001b[0m\u001b[0;34m\"node shutdown interrupted service call\"\u001b[0m\u001b[0;34m)\u001b[0m\u001b[0;34m\u001b[0m\u001b[0m\n\u001b[1;32m    531\u001b[0m             \u001b[0;32melse\u001b[0m\u001b[0;34m:\u001b[0m\u001b[0;34m\u001b[0m\u001b[0m\n\u001b[0;32m--> 532\u001b[0;31m                 \u001b[0;32mraise\u001b[0m \u001b[0mServiceException\u001b[0m\u001b[0;34m(\u001b[0m\u001b[0;34m\"transport error completing service call: %s\"\u001b[0m\u001b[0;34m%\u001b[0m\u001b[0;34m(\u001b[0m\u001b[0mstr\u001b[0m\u001b[0;34m(\u001b[0m\u001b[0me\u001b[0m\u001b[0;34m)\u001b[0m\u001b[0;34m)\u001b[0m\u001b[0;34m)\u001b[0m\u001b[0;34m\u001b[0m\u001b[0m\n\u001b[0m\u001b[1;32m    533\u001b[0m         \u001b[0;32mfinally\u001b[0m\u001b[0;34m:\u001b[0m\u001b[0;34m\u001b[0m\u001b[0m\n\u001b[1;32m    534\u001b[0m             \u001b[0;32mif\u001b[0m \u001b[0;32mnot\u001b[0m \u001b[0mself\u001b[0m\u001b[0;34m.\u001b[0m\u001b[0mpersistent\u001b[0m\u001b[0;34m:\u001b[0m\u001b[0;34m\u001b[0m\u001b[0m\n",
      "\u001b[0;31mServiceException\u001b[0m: transport error completing service call: unable to receive data from sender, check sender's logs for details"
     ]
    }
   ],
   "source": [
    "res = service_client(req)\n",
    "cents,xyz=res_to_cents(res,plt_images=True)\n",
    "quats= pca_xyz(xyz)\n",
    "static_tf_publish(cents,quats, 'tmc_plane_segmentation_3')\n",
    "for i in range (13):\n",
    "    try:\n",
    "        p, r =listener.lookupTransform( 'map','Table_Object'+str(i)+'tmc_plane_segmentation_3', rospy.Time(0))\n",
    "    except(tf.LookupException):\n",
    "        continue\n",
    "    \n",
    "    pp=np_2_pose(p,r)\n",
    "    pp.header.frame_id= \"map\"\n",
    "    scene.add_box('Object'+str(i)+'_tmc_3',pp ,(.3,.1,.01))\n",
    "    print i\n",
    "\n",
    "\n"
   ]
  },
  {
   "cell_type": "code",
   "execution_count": null,
   "metadata": {},
   "outputs": [],
   "source": []
  },
  {
   "cell_type": "code",
   "execution_count": 54,
   "metadata": {},
   "outputs": [
    {
     "name": "stdout",
     "output_type": "stream",
     "text": [
      "('cX,cY', 293, 204)\n",
      "[-0.03401742 -0.04767192  0.7396654 ]\n",
      "('images[]', 0)\n",
      "0\n"
     ]
    },
    {
     "data": {
      "image/png": "[encoded data removed]",
      "text/plain": [
       "<matplotlib.figure.Figure at 0x7f7742cb6490>"
      ]
     },
     "metadata": {
      "needs_background": "light"
     },
     "output_type": "display_data"
    }
   ],
   "source": [
    "centroids,xyz, images=seg_pca(plt_images=True)\n",
    "quats= pca_xyz(xyz)\n",
    "static_tf_publish(centroids,quats,'Kmeans_pca_3')\n",
    "for i in range (13):\n",
    "    try:\n",
    "        p, r =listener.lookupTransform( 'map','Table_Object'+str(i)+'Kmeans_pca_3', rospy.Time(0))\n",
    "    except(tf.LookupException):\n",
    "        continue\n",
    "    \n",
    "    pp=np_2_pose(p,r)\n",
    "    pp.header.frame_id= \"map\"\n",
    "    scene.add_box('Object'+str(i)+'_pca_3',pp ,(.3,.1,.01))\n",
    "    print i\n"
   ]
  },
  {
   "cell_type": "code",
   "execution_count": 55,
   "metadata": {},
   "outputs": [],
   "source": [
    "##############3"
   ]
  },
  {
   "cell_type": "code",
   "execution_count": 56,
   "metadata": {},
   "outputs": [],
   "source": [
    "def add_object(name, size, pose, orientation, shape='box'):\n",
    "    p = PoseStamped()\n",
    "    p.header.frame_id = \"map\"       # \"head_rgbd_sensor_link\"\n",
    "    \n",
    "    p.pose.position.x = pose[0]\n",
    "    p.pose.position.y = pose[1]\n",
    "    p.pose.position.z = pose[2]\n",
    "\n",
    "    p.pose.orientation.x = orientation[0] * np.pi\n",
    "    p.pose.orientation.w = orientation[1] * np.pi\n",
    "\n",
    "    scene.add_box(name, p, size)\n",
    "\n",
    "def publish_scene():\n",
    "    add_object(\"shelf\", [1.5, 0.04, 0.4], [2.5, 4.7, 0.78], [0.5, 0.5])\n",
    "    add_object(\"shelf1\", [1.5, 0.04, 0.4], [2.5, 4.7, 0.49], [0.5, 0.5])\n",
    "    add_object(\"shelf2\", [1.5, 0.04, 0.4], [2.5, 4.7, 0.18], [0.5, 0.5])\n",
    "    add_object(\"shelf_wall\", [1, 1, 0.04], [2.5, 4.9, 0.5], [0.5, 0.5])\n",
    "    add_object(\"shelf_wall1\", [.04, 1, 0.4], [2.7, 4.9, 0.5], [0.5, 0.5])\n",
    "    add_object(\"shelf_wall2\", [.04, 1, 0.4], [1.8, 4.9, 0.5], [0.5, 0.5])\n",
    "    \n",
    "    add_object(\"table_big\", [1.7, 0.13, 0.7], [0.95, 1.9, 0.34], [0.5, 0.5])\n",
    "    add_object(\"table_small\", [0.5, 0.01, 0.4], [0.1, 1.9, 0.61], [0.5, 0.5])\n",
    "    add_object(\"table_tray\", [0.65, 0.01, 0.7], [1.8, -0.65, 0.4], [0.5, 0.5])  \n",
    "    \n",
    "    \n",
    "    return True\n"
   ]
  },
  {
   "cell_type": "code",
   "execution_count": 57,
   "metadata": {},
   "outputs": [],
   "source": [
    "p, r =listener.lookupTransform( 'map','Table_Object1Kmeans_pca', rospy.Time(0))\n",
    "pp=np_2_pose(p,r)\n",
    "pp.header.frame_id= \"map\"\n",
    "scene.add_box('Object2',pp ,(.3,.1,.1))"
   ]
  },
  {
   "cell_type": "code",
   "execution_count": 45,
   "metadata": {},
   "outputs": [],
   "source": [
    "scene.remove_world_object('Object2')"
   ]
  },
  {
   "cell_type": "code",
   "execution_count": null,
   "metadata": {},
   "outputs": [],
   "source": [
    "res = service_client(req)\n",
    "cents,xyz=res_to_cents(res,plt_images=True)\n",
    "quats= pca_xyz(xyz)\n",
    "static_tf_publish(cents,quats, 'tmc_plane segmentation_3')\n",
    "centroids,xyz, images=seg_pca(plt_images=True)\n",
    "quats= pca_xyz(xyz)\n",
    "static_tf_publish(centroids,quats,'Kmeans_pca_3')\n"
   ]
  },
  {
   "cell_type": "code",
   "execution_count": null,
   "metadata": {},
   "outputs": [],
   "source": []
  },
  {
   "cell_type": "code",
   "execution_count": 58,
   "metadata": {},
   "outputs": [],
   "source": [
    "def add_object(name, size, pose, orientation, shape='box'):\n",
    "    p = PoseStamped()\n",
    "    p.header.frame_id = \"map\"       # \"head_rgbd_sensor_link\"\n",
    "    \n",
    "    p.pose.position.x = pose[0]\n",
    "    p.pose.position.y = pose[1]\n",
    "    p.pose.position.z = pose[2]\n",
    "\n",
    "    p.pose.orientation.x = orientation[0] * np.pi\n",
    "    p.pose.orientation.w = orientation[1] * np.pi\n",
    "\n",
    "    scene.add_box(name, p, size)\n",
    "\n",
    "def publish_scene():\n",
    "    add_object(\"shelf\", [1.5, 0.04, 0.4], [2.5, 4.7, 0.78], [0.5, 0.5])\n",
    "    add_object(\"shelf1\", [1.5, 0.04, 0.4], [2.5, 4.7, 0.49], [0.5, 0.5])\n",
    "    add_object(\"shelf2\", [1.5, 0.04, 0.4], [2.5, 4.7, 0.18], [0.5, 0.5])\n",
    "    add_object(\"shelf_wall\", [1, 1, 0.04], [2.5, 4.9, 0.5], [0.5, 0.5])\n",
    "    add_object(\"shelf_wall1\", [.04, 1, 0.4], [2.7, 4.9, 0.5], [0.5, 0.5])\n",
    "    add_object(\"shelf_wall2\", [.04, 1, 0.4], [1.8, 4.9, 0.5], [0.5, 0.5])\n",
    "    \n",
    "    add_object(\"table_big\", [1.7, 0.13, 0.7], [0.95, 1.9, 0.34], [0.5, 0.5])\n",
    "    add_object(\"table_small\", [0.5, 0.01, 0.4], [0.1, 1.9, 0.61], [0.5, 0.5])\n",
    "    add_object(\"table_tray\", [0.65, 0.01, 0.7], [1.8, -0.65, 0.4], [0.5, 0.5])  \n",
    "    \n",
    "    \n",
    "    return True\n"
   ]
  },
  {
   "cell_type": "code",
   "execution_count": 59,
   "metadata": {},
   "outputs": [
    {
     "data": {
      "text/plain": [
       "True"
      ]
     },
     "execution_count": 59,
     "metadata": {},
     "output_type": "execute_result"
    }
   ],
   "source": [
    "publish_scene()\n"
   ]
  },
  {
   "cell_type": "code",
   "execution_count": 60,
   "metadata": {},
   "outputs": [],
   "source": [
    "# Add an object to objects centroid.( use a convenient shape (box, cilinder and sphere ))\n",
    "# It is possible to add .dae model objects ( the ones in gzebo YCB object data set for example)"
   ]
  },
  {
   "cell_type": "code",
   "execution_count": 61,
   "metadata": {},
   "outputs": [
    {
     "data": {
      "text/plain": [
       "{'Object0_pca_3': header: \n",
       "   seq: 0\n",
       "   stamp: \n",
       "     secs: 0\n",
       "     nsecs:         0\n",
       "   frame_id: \"odom\"\n",
       " id: \"Object0_pca_3\"\n",
       " type: \n",
       "   key: ''\n",
       "   db: ''\n",
       " primitives: \n",
       "   - \n",
       "     type: 1\n",
       "     dimensions: [0.3, 0.1, 0.01]\n",
       " primitive_poses: \n",
       "   - \n",
       "     position: \n",
       "       x: 1.24274107794\n",
       "       y: 1.78240025883\n",
       "       z: 0.404858981809\n",
       "     orientation: \n",
       "       x: 0.251769915602\n",
       "       y: 0.239215835643\n",
       "       z: 0.646030295914\n",
       "       w: 0.679729762727\n",
       " meshes: []\n",
       " mesh_poses: []\n",
       " planes: []\n",
       " plane_poses: []\n",
       " operation: 0, 'Object1_pca': header: \n",
       "   seq: 0\n",
       "   stamp: \n",
       "     secs: 0\n",
       "     nsecs:         0\n",
       "   frame_id: \"odom\"\n",
       " id: \"Object1_pca\"\n",
       " type: \n",
       "   key: ''\n",
       "   db: ''\n",
       " primitives: \n",
       "   - \n",
       "     type: 1\n",
       "     dimensions: [0.3, 0.1, 0.05]\n",
       " primitive_poses: \n",
       "   - \n",
       "     position: \n",
       "       x: 1.23666439622\n",
       "       y: 1.78477290247\n",
       "       z: 0.404630683505\n",
       "     orientation: \n",
       "       x: -0.537261936262\n",
       "       y: 0.73537622678\n",
       "       z: -0.331961741724\n",
       "       w: 0.24570880929\n",
       " meshes: []\n",
       " mesh_poses: []\n",
       " planes: []\n",
       " plane_poses: []\n",
       " operation: 0, 'Object1_pca_2': header: \n",
       "   seq: 0\n",
       "   stamp: \n",
       "     secs: 0\n",
       "     nsecs:         0\n",
       "   frame_id: \"odom\"\n",
       " id: \"Object1_pca_2\"\n",
       " type: \n",
       "   key: ''\n",
       "   db: ''\n",
       " primitives: \n",
       "   - \n",
       "     type: 1\n",
       "     dimensions: [0.3, 0.1, 0.01]\n",
       " primitive_poses: \n",
       "   - \n",
       "     position: \n",
       "       x: 1.24127878403\n",
       "       y: 1.7822412416\n",
       "       z: 0.406259514331\n",
       "     orientation: \n",
       "       x: -0.449838219323\n",
       "       y: 0.812186280884\n",
       "       z: -0.323727593924\n",
       "       w: 0.18220720763\n",
       " meshes: []\n",
       " mesh_poses: []\n",
       " planes: []\n",
       " plane_poses: []\n",
       " operation: 0, 'Object1_tmc_2': header: \n",
       "   seq: 0\n",
       "   stamp: \n",
       "     secs: 0\n",
       "     nsecs:         0\n",
       "   frame_id: \"odom\"\n",
       " id: \"Object1_tmc_2\"\n",
       " type: \n",
       "   key: ''\n",
       "   db: ''\n",
       " primitives: \n",
       "   - \n",
       "     type: 1\n",
       "     dimensions: [0.3, 0.1, 0.01]\n",
       " primitive_poses: \n",
       "   - \n",
       "     position: \n",
       "       x: 0.853781502476\n",
       "       y: 1.70539997526\n",
       "       z: 0.421245536147\n",
       "     orientation: \n",
       "       x: -0.655263030715\n",
       "       y: 0.708815432851\n",
       "       z: -0.197281026608\n",
       "       w: 0.171146835413\n",
       " meshes: []\n",
       " mesh_poses: []\n",
       " planes: []\n",
       " plane_poses: []\n",
       " operation: 0, 'Object2': header: \n",
       "   seq: 0\n",
       "   stamp: \n",
       "     secs: 0\n",
       "     nsecs:         0\n",
       "   frame_id: \"odom\"\n",
       " id: \"Object2\"\n",
       " type: \n",
       "   key: ''\n",
       "   db: ''\n",
       " primitives: \n",
       "   - \n",
       "     type: 1\n",
       "     dimensions: [0.3, 0.1, 0.1]\n",
       " primitive_poses: \n",
       "   - \n",
       "     position: \n",
       "       x: 1.23624352134\n",
       "       y: 1.78527565\n",
       "       z: 0.404630683505\n",
       "     orientation: \n",
       "       x: -0.536178420916\n",
       "       y: 0.736166614302\n",
       "       z: -0.332323218499\n",
       "       w: 0.245219687989\n",
       " meshes: []\n",
       " mesh_poses: []\n",
       " planes: []\n",
       " plane_poses: []\n",
       " operation: 0, 'Object2_pca': header: \n",
       "   seq: 0\n",
       "   stamp: \n",
       "     secs: 0\n",
       "     nsecs:         0\n",
       "   frame_id: \"odom\"\n",
       " id: \"Object2_pca\"\n",
       " type: \n",
       "   key: ''\n",
       "   db: ''\n",
       " primitives: \n",
       "   - \n",
       "     type: 1\n",
       "     dimensions: [0.3, 0.1, 0.05]\n",
       " primitive_poses: \n",
       "   - \n",
       "     position: \n",
       "       x: 0.835813734602\n",
       "       y: 1.71457769663\n",
       "       z: 0.404425142316\n",
       "     orientation: \n",
       "       x: 0.326641211034\n",
       "       y: 0.262114749829\n",
       "       z: 0.578076473831\n",
       "       w: 0.700306338382\n",
       " meshes: []\n",
       " mesh_poses: []\n",
       " planes: []\n",
       " plane_poses: []\n",
       " operation: 0, 'Object3_pca_2': header: \n",
       "   seq: 0\n",
       "   stamp: \n",
       "     secs: 0\n",
       "     nsecs:         0\n",
       "   frame_id: \"odom\"\n",
       " id: \"Object3_pca_2\"\n",
       " type: \n",
       "   key: ''\n",
       "   db: ''\n",
       " primitives: \n",
       "   - \n",
       "     type: 1\n",
       "     dimensions: [0.3, 0.1, 0.01]\n",
       " primitive_poses: \n",
       "   - \n",
       "     position: \n",
       "       x: 0.848950644208\n",
       "       y: 1.71592402066\n",
       "       z: 0.406958903288\n",
       "     orientation: \n",
       "       x: 0.285063908884\n",
       "       y: 0.24271227704\n",
       "       z: 0.611169673468\n",
       "       w: 0.697352815051\n",
       " meshes: []\n",
       " mesh_poses: []\n",
       " planes: []\n",
       " plane_poses: []\n",
       " operation: 0, 'Object3_tmc_2': header: \n",
       "   seq: 0\n",
       "   stamp: \n",
       "     secs: 0\n",
       "     nsecs:         0\n",
       "   frame_id: \"odom\"\n",
       " id: \"Object3_tmc_2\"\n",
       " type: \n",
       "   key: ''\n",
       "   db: ''\n",
       " primitives: \n",
       "   - \n",
       "     type: 1\n",
       "     dimensions: [0.3, 0.1, 0.01]\n",
       " primitive_poses: \n",
       "   - \n",
       "     position: \n",
       "       x: 1.24860929557\n",
       "       y: 1.76208904359\n",
       "       z: 0.412661789272\n",
       "     orientation: \n",
       "       x: -0.164516112895\n",
       "       y: 0.890004064116\n",
       "       z: -0.421153476449\n",
       "       w: 0.0587959499375\n",
       " meshes: []\n",
       " mesh_poses: []\n",
       " planes: []\n",
       " plane_poses: []\n",
       " operation: 0, 'shelf': header: \n",
       "   seq: 0\n",
       "   stamp: \n",
       "     secs: 0\n",
       "     nsecs:         0\n",
       "   frame_id: \"odom\"\n",
       " id: \"shelf\"\n",
       " type: \n",
       "   key: ''\n",
       "   db: ''\n",
       " primitives: \n",
       "   - \n",
       "     type: 1\n",
       "     dimensions: [1.5, 0.04, 0.4]\n",
       " primitive_poses: \n",
       "   - \n",
       "     position: \n",
       "       x: 2.4303452459\n",
       "       y: 4.67637918957\n",
       "       z: 0.78\n",
       "     orientation: \n",
       "       x: 0.70707856152\n",
       "       y: 0.00631726509722\n",
       "       z: 0.00631726509722\n",
       "       w: 0.70707856152\n",
       " meshes: []\n",
       " mesh_poses: []\n",
       " planes: []\n",
       " plane_poses: []\n",
       " operation: 0, 'shelf1': header: \n",
       "   seq: 0\n",
       "   stamp: \n",
       "     secs: 0\n",
       "     nsecs:         0\n",
       "   frame_id: \"odom\"\n",
       " id: \"shelf1\"\n",
       " type: \n",
       "   key: ''\n",
       "   db: ''\n",
       " primitives: \n",
       "   - \n",
       "     type: 1\n",
       "     dimensions: [1.5, 0.04, 0.4]\n",
       " primitive_poses: \n",
       "   - \n",
       "     position: \n",
       "       x: 2.4303452459\n",
       "       y: 4.67637918957\n",
       "       z: 0.49\n",
       "     orientation: \n",
       "       x: 0.70707856152\n",
       "       y: 0.00631726509722\n",
       "       z: 0.00631726509722\n",
       "       w: 0.70707856152\n",
       " meshes: []\n",
       " mesh_poses: []\n",
       " planes: []\n",
       " plane_poses: []\n",
       " operation: 0, 'shelf2': header: \n",
       "   seq: 0\n",
       "   stamp: \n",
       "     secs: 0\n",
       "     nsecs:         0\n",
       "   frame_id: \"odom\"\n",
       " id: \"shelf2\"\n",
       " type: \n",
       "   key: ''\n",
       "   db: ''\n",
       " primitives: \n",
       "   - \n",
       "     type: 1\n",
       "     dimensions: [1.5, 0.04, 0.4]\n",
       " primitive_poses: \n",
       "   - \n",
       "     position: \n",
       "       x: 2.4303452459\n",
       "       y: 4.67637918957\n",
       "       z: 0.18\n",
       "     orientation: \n",
       "       x: 0.70707856152\n",
       "       y: 0.00631726509722\n",
       "       z: 0.00631726509722\n",
       "       w: 0.70707856152\n",
       " meshes: []\n",
       " mesh_poses: []\n",
       " planes: []\n",
       " plane_poses: []\n",
       " operation: 0, 'shelf_wall': header: \n",
       "   seq: 0\n",
       "   stamp: \n",
       "     secs: 0\n",
       "     nsecs:         0\n",
       "   frame_id: \"odom\"\n",
       " id: \"shelf_wall\"\n",
       " type: \n",
       "   key: ''\n",
       "   db: ''\n",
       " primitives: \n",
       "   - \n",
       "     type: 1\n",
       "     dimensions: [1.0, 1.0, 0.04]\n",
       " primitive_poses: \n",
       "   - \n",
       "     position: \n",
       "       x: 2.42677180373\n",
       "       y: 4.8763472633\n",
       "       z: 0.5\n",
       "     orientation: \n",
       "       x: 0.70707856152\n",
       "       y: 0.00631726509722\n",
       "       z: 0.00631726509722\n",
       "       w: 0.70707856152\n",
       " meshes: []\n",
       " mesh_poses: []\n",
       " planes: []\n",
       " plane_poses: []\n",
       " operation: 0, 'shelf_wall1': header: \n",
       "   seq: 0\n",
       "   stamp: \n",
       "     secs: 0\n",
       "     nsecs:         0\n",
       "   frame_id: \"odom\"\n",
       " id: \"shelf_wall1\"\n",
       " type: \n",
       "   key: ''\n",
       "   db: ''\n",
       " primitives: \n",
       "   - \n",
       "     type: 1\n",
       "     dimensions: [0.04, 1.0, 0.4]\n",
       " primitive_poses: \n",
       "   - \n",
       "     position: \n",
       "       x: 2.62673987746\n",
       "       y: 4.87992070547\n",
       "       z: 0.5\n",
       "     orientation: \n",
       "       x: 0.70707856152\n",
       "       y: 0.00631726509722\n",
       "       z: 0.00631726509722\n",
       "       w: 0.70707856152\n",
       " meshes: []\n",
       " mesh_poses: []\n",
       " planes: []\n",
       " plane_poses: []\n",
       " operation: 0, 'shelf_wall2': header: \n",
       "   seq: 0\n",
       "   stamp: \n",
       "     secs: 0\n",
       "     nsecs:         0\n",
       "   frame_id: \"odom\"\n",
       " id: \"shelf_wall2\"\n",
       " type: \n",
       "   key: ''\n",
       "   db: ''\n",
       " primitives: \n",
       "   - \n",
       "     type: 1\n",
       "     dimensions: [0.04, 1.0, 0.4]\n",
       " primitive_poses: \n",
       "   - \n",
       "     position: \n",
       "       x: 1.72688354567\n",
       "       y: 4.86384021569\n",
       "       z: 0.5\n",
       "     orientation: \n",
       "       x: 0.70707856152\n",
       "       y: 0.00631726509722\n",
       "       z: 0.00631726509722\n",
       "       w: 0.70707856152\n",
       " meshes: []\n",
       " mesh_poses: []\n",
       " planes: []\n",
       " plane_poses: []\n",
       " operation: 0, 'table_big': header: \n",
       "   seq: 0\n",
       "   stamp: \n",
       "     secs: 0\n",
       "     nsecs:         0\n",
       "   frame_id: \"odom\"\n",
       " id: \"table_big\"\n",
       " type: \n",
       "   key: ''\n",
       "   db: ''\n",
       " primitives: \n",
       "   - \n",
       "     type: 1\n",
       "     dimensions: [1.7, 0.13, 0.7]\n",
       " primitive_poses: \n",
       "   - \n",
       "     position: \n",
       "       x: 0.930620864936\n",
       "       y: 1.84913198051\n",
       "       z: 0.34\n",
       "     orientation: \n",
       "       x: 0.70707856152\n",
       "       y: 0.00631726509722\n",
       "       z: 0.00631726509722\n",
       "       w: 0.70707856152\n",
       " meshes: []\n",
       " mesh_poses: []\n",
       " planes: []\n",
       " plane_poses: []\n",
       " operation: 0, 'table_small': header: \n",
       "   seq: 0\n",
       "   stamp: \n",
       "     secs: 0\n",
       "     nsecs:         0\n",
       "   frame_id: \"odom\"\n",
       " id: \"table_small\"\n",
       " type: \n",
       "   key: ''\n",
       "   db: ''\n",
       " primitives: \n",
       "   - \n",
       "     type: 1\n",
       "     dimensions: [0.5, 0.01, 0.4]\n",
       " primitive_poses: \n",
       "   - \n",
       "     position: \n",
       "       x: 0.0807565515858\n",
       "       y: 1.83394485127\n",
       "       z: 0.61\n",
       "     orientation: \n",
       "       x: 0.70707856152\n",
       "       y: 0.00631726509722\n",
       "       z: 0.00631726509722\n",
       "       w: 0.70707856152\n",
       " meshes: []\n",
       " mesh_poses: []\n",
       " planes: []\n",
       " plane_poses: []\n",
       " operation: 0, 'table_tray': header: \n",
       "   seq: 0\n",
       "   stamp: \n",
       "     secs: 0\n",
       "     nsecs:         0\n",
       "   frame_id: \"odom\"\n",
       " id: \"table_tray\"\n",
       " type: \n",
       "   key: ''\n",
       "   db: ''\n",
       " primitives: \n",
       "   - \n",
       "     type: 1\n",
       "     dimensions: [0.65, 0.01, 0.7]\n",
       " primitive_poses: \n",
       "   - \n",
       "     position: \n",
       "       x: 1.82604656601\n",
       "       y: -0.685273830301\n",
       "       z: 0.4\n",
       "     orientation: \n",
       "       x: 0.70707856152\n",
       "       y: 0.00631726509722\n",
       "       z: 0.00631726509722\n",
       "       w: 0.70707856152\n",
       " meshes: []\n",
       " mesh_poses: []\n",
       " planes: []\n",
       " plane_poses: []\n",
       " operation: 0}"
      ]
     },
     "execution_count": 61,
     "metadata": {},
     "output_type": "execute_result"
    }
   ],
   "source": [
    "scene.get_objects()"
   ]
  },
  {
   "cell_type": "code",
   "execution_count": null,
   "metadata": {},
   "outputs": [],
   "source": []
  },
  {
   "cell_type": "code",
   "execution_count": 62,
   "metadata": {},
   "outputs": [],
   "source": [
    "import moveit_msgs.msg\n"
   ]
  },
  {
   "cell_type": "code",
   "execution_count": 63,
   "metadata": {},
   "outputs": [],
   "source": [
    "poses = scene.get_object_poses(['Object0_pca_3'])"
   ]
  },
  {
   "cell_type": "code",
   "execution_count": 64,
   "metadata": {},
   "outputs": [
    {
     "data": {
      "text/plain": [
       "{'Object0_pca_3': position: \n",
       "   x: 1.24274107794\n",
       "   y: 1.78240025883\n",
       "   z: 0.404858981809\n",
       " orientation: \n",
       "   x: 0.251769915602\n",
       "   y: 0.239215835643\n",
       "   z: 0.646030295914\n",
       "   w: 0.679729762727}"
      ]
     },
     "execution_count": 64,
     "metadata": {},
     "output_type": "execute_result"
    }
   ],
   "source": [
    "poses"
   ]
  },
  {
   "cell_type": "code",
   "execution_count": 56,
   "metadata": {},
   "outputs": [],
   "source": [
    "g = moveit_msgs.msg.Grasp()"
   ]
  },
  {
   "cell_type": "code",
   "execution_count": 57,
   "metadata": {},
   "outputs": [
    {
     "data": {
      "text/plain": [
       "id: ''\n",
       "pre_grasp_posture: \n",
       "  header: \n",
       "    seq: 0\n",
       "    stamp: \n",
       "      secs: 0\n",
       "      nsecs:         0\n",
       "    frame_id: ''\n",
       "  joint_names: []\n",
       "  points: []\n",
       "grasp_posture: \n",
       "  header: \n",
       "    seq: 0\n",
       "    stamp: \n",
       "      secs: 0\n",
       "      nsecs:         0\n",
       "    frame_id: ''\n",
       "  joint_names: []\n",
       "  points: []\n",
       "grasp_pose: \n",
       "  header: \n",
       "    seq: 0\n",
       "    stamp: \n",
       "      secs: 0\n",
       "      nsecs:         0\n",
       "    frame_id: ''\n",
       "  pose: \n",
       "    position: \n",
       "      x: 0.0\n",
       "      y: 0.0\n",
       "      z: 0.0\n",
       "    orientation: \n",
       "      x: 0.0\n",
       "      y: 0.0\n",
       "      z: 0.0\n",
       "      w: 0.0\n",
       "grasp_quality: 0.0\n",
       "pre_grasp_approach: \n",
       "  direction: \n",
       "    header: \n",
       "      seq: 0\n",
       "      stamp: \n",
       "        secs: 0\n",
       "        nsecs:         0\n",
       "      frame_id: ''\n",
       "    vector: \n",
       "      x: 0.0\n",
       "      y: 0.0\n",
       "      z: 0.0\n",
       "  desired_distance: 0.0\n",
       "  min_distance: 0.0\n",
       "post_grasp_retreat: \n",
       "  direction: \n",
       "    header: \n",
       "      seq: 0\n",
       "      stamp: \n",
       "        secs: 0\n",
       "        nsecs:         0\n",
       "      frame_id: ''\n",
       "    vector: \n",
       "      x: 0.0\n",
       "      y: 0.0\n",
       "      z: 0.0\n",
       "  desired_distance: 0.0\n",
       "  min_distance: 0.0\n",
       "post_place_retreat: \n",
       "  direction: \n",
       "    header: \n",
       "      seq: 0\n",
       "      stamp: \n",
       "        secs: 0\n",
       "        nsecs:         0\n",
       "      frame_id: ''\n",
       "    vector: \n",
       "      x: 0.0\n",
       "      y: 0.0\n",
       "      z: 0.0\n",
       "  desired_distance: 0.0\n",
       "  min_distance: 0.0\n",
       "max_contact_force: 0.0\n",
       "allowed_touch_objects: []"
      ]
     },
     "execution_count": 57,
     "metadata": {},
     "output_type": "execute_result"
    }
   ],
   "source": [
    "g"
   ]
  },
  {
   "cell_type": "code",
   "execution_count": 58,
   "metadata": {},
   "outputs": [],
   "source": [
    " def make_gripper_posture( pos, effort=0.0):\n",
    "        t = trajectory_msgs.msg.JointTrajectory()\n",
    "        t.joint_names = [\"hand_motor_joint\"]\n",
    "        tp = trajectory_msgs.msg.JointTrajectoryPoint()\n",
    "        tp.positions = [pos]\n",
    "        tp.effort = [effort]\n",
    "        tp.time_from_start = rospy.Duration(2.0)\n",
    "        t.points.append(tp)\n",
    "        return t"
   ]
  },
  {
   "cell_type": "code",
   "execution_count": 59,
   "metadata": {},
   "outputs": [],
   "source": [
    "g.pre_grasp_posture = make_gripper_posture(0.8)\n"
   ]
  },
  {
   "cell_type": "code",
   "execution_count": 60,
   "metadata": {},
   "outputs": [],
   "source": [
    "g.grasp_posture = make_gripper_posture(0.2, -0.01)\n"
   ]
  },
  {
   "cell_type": "code",
   "execution_count": 61,
   "metadata": {},
   "outputs": [],
   "source": [
    "end_effector = whole_body.get_end_effector_link()\n",
    "def make_gripper_translation( min_dist, desired, vector, frame=None):\n",
    "        g = moveit_msgs.msg.GripperTranslation()\n",
    "        g.direction.vector.x = vector[0]\n",
    "        g.direction.vector.y = vector[1]\n",
    "        g.direction.vector.z = vector[2]\n",
    "        if frame is None:\n",
    "            g.direction.header.frame_id = end_effector\n",
    "        else:\n",
    "            g.direction.header.frame_id = frame\n",
    "        g.min_distance = min_dist\n",
    "        g.desired_distance = desired\n",
    "        return g"
   ]
  },
  {
   "cell_type": "code",
   "execution_count": 62,
   "metadata": {},
   "outputs": [],
   "source": [
    " g.pre_grasp_approach = make_gripper_translation(0.01, 0.02, [0.0, 0.0, 1.0])"
   ]
  },
  {
   "cell_type": "code",
   "execution_count": 63,
   "metadata": {},
   "outputs": [],
   "source": [
    " g.post_grasp_retreat = make_gripper_translation(0.01, 0.02, [0.0, 0.0, 1.0],\n",
    "                                            \"base_footprint\")"
   ]
  },
  {
   "cell_type": "code",
   "execution_count": 64,
   "metadata": {},
   "outputs": [],
   "source": [
    "reference_frame='odom' \n",
    "def make_pose( init, x, y, z, roll, pitch, yaw):\n",
    "    pose = geometry_msgs.msg.PoseStamped()\n",
    "    pose.header.frame_id = reference_frame\n",
    "    q = tf.transformations.quaternion_from_euler(roll, pitch, yaw)\n",
    "    q = tf.transformations.quaternion_multiply(init, q)\n",
    "    pose.pose.orientation.x = q[0]\n",
    "    pose.pose.orientation.y = q[1]\n",
    "    pose.pose.orientation.z = q[2]\n",
    "    pose.pose.orientation.w = q[3]\n",
    "    pose.pose.position.x = x\n",
    "    pose.pose.position.y = y\n",
    "    pose.pose.position.z = z\n",
    "    return pose"
   ]
  },
  {
   "cell_type": "code",
   "execution_count": 65,
   "metadata": {},
   "outputs": [],
   "source": [
    "def make_grasps( target, init,\n",
    "                    quality=None,\n",
    "                    x=[0], y=[0], z=[0],\n",
    "                    roll=[0], pitch=[0], yaw=[0]):\n",
    "        poses = scene.get_object_poses([target])\n",
    "        pose = poses[target]\n",
    "        g = moveit_msgs.msg.Grasp()\n",
    "        g.pre_grasp_posture = make_gripper_posture(0.8)\n",
    "        g.grasp_posture = make_gripper_posture(0.2, -0.01)\n",
    "        g.pre_grasp_approach \\\n",
    "            = make_gripper_translation(0.01, 0.02, [0.0, 0.0, 1.0])\n",
    "        g.post_grasp_retreat \\\n",
    "            = make_gripper_translation(0.01, 0.02, [0.0, 0.0, 1.0],\n",
    "                                            \"base_footprint\")\n",
    "        grasps = []\n",
    "        for ix in x:\n",
    "            for iy in y:\n",
    "                for iz in z:\n",
    "                    for iroll in roll:\n",
    "                        for ipitch in pitch:\n",
    "                            for iyaw in yaw:\n",
    "                                x = pose.position.x + ix\n",
    "                                y = pose.position.y + iy\n",
    "                                z = pose.position.z + iz\n",
    "                                g.grasp_pose = make_pose(init,\n",
    "                                                              x, y, z,\n",
    "                                                              iroll,\n",
    "                                                              ipitch,\n",
    "                                                              iyaw)\n",
    "            g.id = str(len(grasps))\n",
    "            g.allowed_touch_objects = [\"target1\"]\n",
    "            g.max_contact_force = 0\n",
    "            if quality is None:\n",
    "                g.grasp_quality = 1.0\n",
    "            else:\n",
    "                g.grasp_quality = quality(ix, iy, iz, iroll, ipitch, iyaw)\n",
    "            grasps.append(deepcopy(g))\n",
    "        return grasps"
   ]
  },
  {
   "cell_type": "code",
   "execution_count": 66,
   "metadata": {},
   "outputs": [],
   "source": [
    "grasps= make_grasps('Object0_tmc_2',\n",
    "                                  (0.707, 0.0, 0.707, 0.0),\n",
    "                                  quality=lambda x, y, z, roll, pitch, yaw: 1 - abs(pitch),  # noqa\n",
    "                                  x=[-0.07],\n",
    "                                  pitch=[-0.2, -0.1, 0, 0.1, 0.2])"
   ]
  },
  {
   "cell_type": "code",
   "execution_count": 67,
   "metadata": {},
   "outputs": [
    {
     "data": {
      "text/plain": [
       "[id: \"0\"\n",
       " pre_grasp_posture: \n",
       "   header: \n",
       "     seq: 0\n",
       "     stamp: \n",
       "       secs: 0\n",
       "       nsecs:         0\n",
       "     frame_id: ''\n",
       "   joint_names: [hand_motor_joint]\n",
       "   points: \n",
       "     - \n",
       "       positions: [0.8]\n",
       "       velocities: []\n",
       "       accelerations: []\n",
       "       effort: [0.0]\n",
       "       time_from_start: \n",
       "         secs: 2\n",
       "         nsecs:         0\n",
       " grasp_posture: \n",
       "   header: \n",
       "     seq: 0\n",
       "     stamp: \n",
       "       secs: 0\n",
       "       nsecs:         0\n",
       "     frame_id: ''\n",
       "   joint_names: [hand_motor_joint]\n",
       "   points: \n",
       "     - \n",
       "       positions: [0.2]\n",
       "       velocities: []\n",
       "       accelerations: []\n",
       "       effort: [-0.01]\n",
       "       time_from_start: \n",
       "         secs: 2\n",
       "         nsecs:         0\n",
       " grasp_pose: \n",
       "   header: \n",
       "     seq: 0\n",
       "     stamp: \n",
       "       secs: 0\n",
       "       nsecs:         0\n",
       "     frame_id: \"odom\"\n",
       "   pose: \n",
       "     position: \n",
       "       x: 0.836770289593\n",
       "       y: 1.84485398391\n",
       "       z: 0.421267576704\n",
       "     orientation: \n",
       "       x: 0.6328857192822567\n",
       "       y: 0.0\n",
       "       z: 0.7740501704208717\n",
       "       w: 0.0\n",
       " grasp_quality: 0.8\n",
       " pre_grasp_approach: \n",
       "   direction: \n",
       "     header: \n",
       "       seq: 0\n",
       "       stamp: \n",
       "         secs: 0\n",
       "         nsecs:         0\n",
       "       frame_id: \"hand_palm_link\"\n",
       "     vector: \n",
       "       x: 0.0\n",
       "       y: 0.0\n",
       "       z: 1.0\n",
       "   desired_distance: 0.02\n",
       "   min_distance: 0.01\n",
       " post_grasp_retreat: \n",
       "   direction: \n",
       "     header: \n",
       "       seq: 0\n",
       "       stamp: \n",
       "         secs: 0\n",
       "         nsecs:         0\n",
       "       frame_id: \"base_footprint\"\n",
       "     vector: \n",
       "       x: 0.0\n",
       "       y: 0.0\n",
       "       z: 1.0\n",
       "   desired_distance: 0.02\n",
       "   min_distance: 0.01\n",
       " post_place_retreat: \n",
       "   direction: \n",
       "     header: \n",
       "       seq: 0\n",
       "       stamp: \n",
       "         secs: 0\n",
       "         nsecs:         0\n",
       "       frame_id: ''\n",
       "     vector: \n",
       "       x: 0.0\n",
       "       y: 0.0\n",
       "       z: 0.0\n",
       "   desired_distance: 0.0\n",
       "   min_distance: 0.0\n",
       " max_contact_force: 0\n",
       " allowed_touch_objects: [target1]]"
      ]
     },
     "execution_count": 67,
     "metadata": {},
     "output_type": "execute_result"
    }
   ],
   "source": [
    "grasps"
   ]
  },
  {
   "cell_type": "code",
   "execution_count": 68,
   "metadata": {},
   "outputs": [],
   "source": [
    " result = whole_body.pick('Object0_tmc_2', grasps)"
   ]
  },
  {
   "cell_type": "code",
   "execution_count": 69,
   "metadata": {},
   "outputs": [
    {
     "data": {
      "text/plain": [
       "-1"
      ]
     },
     "execution_count": 69,
     "metadata": {},
     "output_type": "execute_result"
    }
   ],
   "source": [
    "result"
   ]
  },
  {
   "cell_type": "code",
   "execution_count": 70,
   "metadata": {},
   "outputs": [],
   "source": [
    "def pick( target, grasps):\n",
    "    n_attempts = 0\n",
    "    max_pick_attempts = 10\n",
    "    result = None\n",
    "\n",
    "    while (result != moveit_msgs.msg.MoveItErrorCodes.SUCCESS) and \\\n",
    "          (n_attempts < max_pick_attempts):\n",
    "        n_attempts += 1\n",
    "        rospy.loginfo(\"Pick attempt: \" + str(n_attempts))\n",
    "        result = whole_body.pick(target, grasps)\n",
    "        rospy.sleep(0.2)\n",
    "    if result != moveit_msgs.msg.MoveItErrorCodes.SUCCESS:\n",
    "        scene.remove_attached_object(self.end_effector)\n",
    "    return result"
   ]
  },
  {
   "cell_type": "code",
   "execution_count": 74,
   "metadata": {},
   "outputs": [
    {
     "name": "stdout",
     "output_type": "stream",
     "text": [
      "[INFO] [1637281838.459483, 840.162000]: Pick attempt: 1\n",
      "[INFO] [1637281839.342722, 840.444000]: Pick attempt: 2\n",
      "[INFO] [1637281840.042424, 840.672000]: Pick attempt: 3\n",
      "[INFO] [1637281840.966633, 841.083000]: Pick attempt: 4\n",
      "[INFO] [1637281842.071321, 841.515000]: Pick attempt: 5\n",
      "[INFO] [1637281843.147022, 841.995000]: Pick attempt: 6\n",
      "[INFO] [1637281844.357047, 842.430000]: Pick attempt: 7\n",
      "[INFO] [1637281845.877355, 842.988000]: Pick attempt: 8\n",
      "[INFO] [1637281847.265877, 843.630000]: Pick attempt: 9\n",
      "[INFO] [1637281849.164958, 844.473000]: Pick attempt: 10\n"
     ]
    },
    {
     "ename": "NameError",
     "evalue": "global name 'self' is not defined",
     "output_type": "error",
     "traceback": [
      "\u001b[0;31m---------------------------------------------------------------------------\u001b[0m",
      "\u001b[0;31mNameError\u001b[0m                                 Traceback (most recent call last)",
      "\u001b[0;32m<ipython-input-74-607ae00b9ae3>\u001b[0m in \u001b[0;36m<module>\u001b[0;34m()\u001b[0m\n\u001b[0;32m----> 1\u001b[0;31m \u001b[0mpick\u001b[0m\u001b[0;34m(\u001b[0m\u001b[0;34m'Object0_tmc_2'\u001b[0m\u001b[0;34m,\u001b[0m \u001b[0mgrasps\u001b[0m\u001b[0;34m)\u001b[0m\u001b[0;34m\u001b[0m\u001b[0m\n\u001b[0m",
      "\u001b[0;32m<ipython-input-70-ed47cd390379>\u001b[0m in \u001b[0;36mpick\u001b[0;34m(target, grasps)\u001b[0m\n\u001b[1;32m     10\u001b[0m         \u001b[0mrospy\u001b[0m\u001b[0;34m.\u001b[0m\u001b[0msleep\u001b[0m\u001b[0;34m(\u001b[0m\u001b[0;36m0.2\u001b[0m\u001b[0;34m)\u001b[0m\u001b[0;34m\u001b[0m\u001b[0m\n\u001b[1;32m     11\u001b[0m     \u001b[0;32mif\u001b[0m \u001b[0mresult\u001b[0m \u001b[0;34m!=\u001b[0m \u001b[0mmoveit_msgs\u001b[0m\u001b[0;34m.\u001b[0m\u001b[0mmsg\u001b[0m\u001b[0;34m.\u001b[0m\u001b[0mMoveItErrorCodes\u001b[0m\u001b[0;34m.\u001b[0m\u001b[0mSUCCESS\u001b[0m\u001b[0;34m:\u001b[0m\u001b[0;34m\u001b[0m\u001b[0m\n\u001b[0;32m---> 12\u001b[0;31m         \u001b[0mscene\u001b[0m\u001b[0;34m.\u001b[0m\u001b[0mremove_attached_object\u001b[0m\u001b[0;34m(\u001b[0m\u001b[0mself\u001b[0m\u001b[0;34m.\u001b[0m\u001b[0mend_effector\u001b[0m\u001b[0;34m)\u001b[0m\u001b[0;34m\u001b[0m\u001b[0m\n\u001b[0m\u001b[1;32m     13\u001b[0m     \u001b[0;32mreturn\u001b[0m \u001b[0mresult\u001b[0m\u001b[0;34m\u001b[0m\u001b[0m\n",
      "\u001b[0;31mNameError\u001b[0m: global name 'self' is not defined"
     ]
    }
   ],
   "source": [
    "pick('Object0_tmc_2', grasps)"
   ]
  },
  {
   "cell_type": "code",
   "execution_count": 73,
   "metadata": {},
   "outputs": [
    {
     "data": {
      "text/plain": []
     },
     "execution_count": 73,
     "metadata": {},
     "output_type": "execute_result"
    }
   ],
   "source": [
    "clear_octo_client.call()"
   ]
  },
  {
   "cell_type": "code",
   "execution_count": 72,
   "metadata": {},
   "outputs": [],
   "source": [
    "scene.remove_world_object()\n"
   ]
  },
  {
   "cell_type": "code",
   "execution_count": null,
   "metadata": {},
   "outputs": [],
   "source": [
    "\n",
    "for i in range( len(xyz)):\n",
    "    pca= PCA(n_components=3).fit(xyz[i])\n",
    "    vec0= pca.components_[0,:]\n",
    "    vec1= pca.components_[1,:]\n",
    "    vec2= pca.components_[2,:]"
   ]
  },
  {
   "cell_type": "code",
   "execution_count": null,
   "metadata": {},
   "outputs": [],
   "source": [
    "pca= PCA(n_components=3).fit(xyz[1])\n",
    "vec0= pca.components_[0,:]\n",
    "vec1= pca.components_[1,:]\n",
    "vec2= pca.components_[2,:]\n",
    "\n",
    "vec0"
   ]
  },
  {
   "cell_type": "code",
   "execution_count": null,
   "metadata": {},
   "outputs": [],
   "source": [
    "print(pca.explained_variance_ratio_)\n"
   ]
  },
  {
   "cell_type": "code",
   "execution_count": null,
   "metadata": {},
   "outputs": [],
   "source": [
    "\n",
    "xyz[1].mean(axis=0)"
   ]
  },
  {
   "cell_type": "code",
   "execution_count": null,
   "metadata": {},
   "outputs": [],
   "source": [
    "np.dot(vec0,vec2)"
   ]
  },
  {
   "cell_type": "code",
   "execution_count": null,
   "metadata": {},
   "outputs": [],
   "source": [
    "scene.remove_world_object()"
   ]
  },
  {
   "cell_type": "code",
   "execution_count": null,
   "metadata": {},
   "outputs": [],
   "source": [
    "xyz[2].mean(axis=0)"
   ]
  },
  {
   "cell_type": "code",
   "execution_count": null,
   "metadata": {},
   "outputs": [],
   "source": [
    "centroids, xyz  ,_  = seg_pca(plt_images=True)"
   ]
  },
  {
   "cell_type": "code",
   "execution_count": null,
   "metadata": {},
   "outputs": [],
   "source": [
    "centroids,xyz, images=seg_pca(plt_images=True)\n",
    "quats= pca_xyz(xyz)\n",
    "static_tf_publish(centroids,quats,'Kmeans_pca_2')\n",
    "for i in range (13):\n",
    "    try:\n",
    "        p, r =listener.lookupTransform( 'map','Table_Object'+str(i)+'Kmeans_pca_2', rospy.Time(0))\n",
    "    except(tf.LookupException):\n",
    "        continue\n",
    "    \n",
    "    pp=np_2_pose(p,r)\n",
    "    pp.header.frame_id= \"map\"\n",
    "    scene.add_box('Object'+str(i)+'_pca_2',pp ,(.3,.1,.01))\n",
    "    print i\n"
   ]
  },
  {
   "cell_type": "code",
   "execution_count": null,
   "metadata": {},
   "outputs": [],
   "source": [
    "p, r =listener.lookupTransform( 'map','Table_Object0Kmeans_pca', rospy.Time(0))\n",
    "r[0]=0\n",
    "r[1]=0\n",
    "r[2]=0\n",
    "r[3]=1\n",
    "\n",
    "pp=np_2_pose(p,r)\n",
    "pp.header.frame_id= \"map\"\n",
    "pca= PCA(n_components=3).fit(xyz[0])\n",
    "#vec0= pca.components_[0,:]\n",
    "#vec1= pca.components_[1,:]\n",
    "#vec2= pca.components_[2,:]\n",
    "\n",
    "\n",
    "scene.add_box('Object0',pp ,(pca.explained_variance_ratio_[0],pca.explained_variance_ratio_[1],pca.explained_variance_ratio_[2]))\n",
    "pca.explained_variance_ratio_"
   ]
  },
  {
   "cell_type": "code",
   "execution_count": null,
   "metadata": {},
   "outputs": [],
   "source": [
    "p, r =listener.lookupTransform( 'map','Table_Object1Kmeans_pca', rospy.Time(0))\n",
    "r[0]=0\n",
    "r[1]=0\n",
    "r[2]=0\n",
    "r[3]=1\n",
    "\n",
    "pp=np_2_pose(p,r)\n",
    "pp.header.frame_id= \"map\"\n",
    "pca= PCA(n_components=3).fit(xyz[1])\n",
    "#vec0= pca.components_[0,:]\n",
    "#vec1= pca.components_[1,:]\n",
    "#vec2= pca.components_[2,:]\n",
    "\n",
    "\n",
    "scene.add_box('Object1',pp ,(pca.explained_variance_ratio_[0],pca.explained_variance_ratio_[1],pca.explained_variance_ratio_[2]))\n",
    "pca.explained_variance_ratio_"
   ]
  },
  {
   "cell_type": "code",
   "execution_count": null,
   "metadata": {},
   "outputs": [],
   "source": [
    "pca.explained_variance_ratio_"
   ]
  },
  {
   "cell_type": "code",
   "execution_count": null,
   "metadata": {},
   "outputs": [],
   "source": [
    "\n",
    "scene.add_box('Object1',pp ,(pca.explained_variance_ratio_[0],pca.explained_variance_ratio_[1],pca.explained_variance_ratio_[2]))"
   ]
  },
  {
   "cell_type": "code",
   "execution_count": null,
   "metadata": {},
   "outputs": [],
   "source": [
    "scene.remove_world_object()"
   ]
  },
  {
   "cell_type": "code",
   "execution_count": null,
   "metadata": {},
   "outputs": [],
   "source": [
    "pca.explained_variance_ratio_"
   ]
  },
  {
   "cell_type": "code",
   "execution_count": null,
   "metadata": {},
   "outputs": [],
   "source": []
  },
  {
   "cell_type": "code",
   "execution_count": null,
   "metadata": {},
   "outputs": [],
   "source": []
  },
  {
   "cell_type": "code",
   "execution_count": null,
   "metadata": {},
   "outputs": [],
   "source": [
    " "
   ]
  },
  {
   "cell_type": "code",
   "execution_count": null,
   "metadata": {},
   "outputs": [],
   "source": [
    "import pcl\n",
    "\n"
   ]
  },
  {
   "cell_type": "code",
   "execution_count": null,
   "metadata": {},
   "outputs": [],
   "source": [
    "from pcl import pcl_visualization"
   ]
  },
  {
   "cell_type": "code",
   "execution_count": null,
   "metadata": {},
   "outputs": [],
   "source": [
    "pcl\n"
   ]
  },
  {
   "cell_type": "code",
   "execution_count": null,
   "metadata": {},
   "outputs": [],
   "source": [
    "import pcl.pcl_visualization"
   ]
  },
  {
   "cell_type": "code",
   "execution_count": 126,
   "metadata": {},
   "outputs": [],
   "source": [
    "po=whole_body.get_current_pose()"
   ]
  },
  {
   "cell_type": "code",
   "execution_count": 127,
   "metadata": {},
   "outputs": [
    {
     "data": {
      "text/plain": [
       "header: \n",
       "  seq: 0\n",
       "  stamp: \n",
       "    secs: 1267\n",
       "    nsecs: 692000000\n",
       "  frame_id: \"odom\"\n",
       "pose: \n",
       "  position: \n",
       "    x: -0.481361194021\n",
       "    y: 0.594856210842\n",
       "    z: 0.672828619886\n",
       "  orientation: \n",
       "    x: 0.142505426703\n",
       "    y: -0.693305406479\n",
       "    z: 0.142407939944\n",
       "    w: 0.691910250935"
      ]
     },
     "execution_count": 127,
     "metadata": {},
     "output_type": "execute_result"
    }
   ],
   "source": [
    "po"
   ]
  },
  {
   "cell_type": "code",
   "execution_count": null,
   "metadata": {},
   "outputs": [],
   "source": []
  },
  {
   "cell_type": "code",
   "execution_count": null,
   "metadata": {},
   "outputs": [],
   "source": []
  },
  {
   "cell_type": "code",
   "execution_count": 128,
   "metadata": {},
   "outputs": [
    {
     "data": {
      "text/plain": [
       "(array([-0.48136119,  0.59485621,  0.67282862]),\n",
       " array([ 0.69191025,  0.14250543, -0.69330541,  0.14240794]))"
      ]
     },
     "execution_count": 128,
     "metadata": {},
     "output_type": "execute_result"
    }
   ],
   "source": [
    "position,orientation=pose_2_np(po)\n",
    "position,orientation"
   ]
  },
  {
   "cell_type": "code",
   "execution_count": 138,
   "metadata": {},
   "outputs": [],
   "source": [
    "rotation=tf.transformations.quaternion_from_euler(0.5*np.pi,0,0)"
   ]
  },
  {
   "cell_type": "code",
   "execution_count": 139,
   "metadata": {},
   "outputs": [
    {
     "data": {
      "text/plain": [
       "(array([ 0.69191025,  0.14250543, -0.69330541,  0.14240794]),\n",
       " array([0.70710678, 0.        , 0.        , 0.70710678]))"
      ]
     },
     "execution_count": 139,
     "metadata": {},
     "output_type": "execute_result"
    }
   ],
   "source": [
    "orientation,rotation"
   ]
  },
  {
   "cell_type": "code",
   "execution_count": 140,
   "metadata": {},
   "outputs": [],
   "source": [
    "new_orientation=tf.transformations.quaternion_multiply(orientation,rotation)"
   ]
  },
  {
   "cell_type": "code",
   "execution_count": 141,
   "metadata": {},
   "outputs": [
    {
     "data": {
      "text/plain": [
       "array([ 0.58995205, -0.3894744 , -0.59100751, -0.38855681])"
      ]
     },
     "execution_count": 141,
     "metadata": {},
     "output_type": "execute_result"
    }
   ],
   "source": [
    "new_orientation"
   ]
  },
  {
   "cell_type": "code",
   "execution_count": 142,
   "metadata": {},
   "outputs": [
    {
     "data": {
      "text/plain": [
       "header: \n",
       "  seq: 0\n",
       "  stamp: \n",
       "    secs: 0\n",
       "    nsecs:         0\n",
       "  frame_id: ''\n",
       "pose: \n",
       "  position: \n",
       "    x: -0.48136119402108\n",
       "    y: 0.5948562108423029\n",
       "    z: 0.6728286198863376\n",
       "  orientation: \n",
       "    x: -0.3894744007770031\n",
       "    y: -0.591007507932041\n",
       "    z: -0.3885568103794732\n",
       "    w: 0.5899520504372221"
      ]
     },
     "execution_count": 142,
     "metadata": {},
     "output_type": "execute_result"
    }
   ],
   "source": [
    "new_po= np_2_pose(position,new_orientation)\n",
    "new_po"
   ]
  },
  {
   "cell_type": "code",
   "execution_count": 143,
   "metadata": {},
   "outputs": [],
   "source": [
    "whole_body.set_pose_target(new_po)"
   ]
  },
  {
   "cell_type": "code",
   "execution_count": 144,
   "metadata": {},
   "outputs": [
    {
     "data": {
      "text/plain": [
       "False"
      ]
     },
     "execution_count": 144,
     "metadata": {},
     "output_type": "execute_result"
    }
   ],
   "source": [
    "whole_body.go()"
   ]
  },
  {
   "cell_type": "code",
   "execution_count": 118,
   "metadata": {},
   "outputs": [
    {
     "data": {
      "text/plain": [
       "header: \n",
       "  seq: 0\n",
       "  stamp: \n",
       "    secs: 1196\n",
       "    nsecs: 808000000\n",
       "  frame_id: \"odom\"\n",
       "pose: \n",
       "  position: \n",
       "    x: -0.273010912914\n",
       "    y: 0.271378121662\n",
       "    z: 0.317378427251\n",
       "  orientation: \n",
       "    x: 0.441174131829\n",
       "    y: -0.558375466318\n",
       "    z: 0.433795651215\n",
       "    w: 0.552633293428"
      ]
     },
     "execution_count": 118,
     "metadata": {},
     "output_type": "execute_result"
    }
   ],
   "source": [
    "whole_body.get_current_pose()"
   ]
  },
  {
   "cell_type": "code",
   "execution_count": 119,
   "metadata": {},
   "outputs": [
    {
     "data": {
      "text/plain": [
       "header: \n",
       "  seq: 0\n",
       "  stamp: \n",
       "    secs: 0\n",
       "    nsecs:         0\n",
       "  frame_id: ''\n",
       "pose: \n",
       "  position: \n",
       "    x: 0.5077939468065222\n",
       "    y: 0.1167184561909857\n",
       "    z: 0.7583300803876107\n",
       "  orientation: \n",
       "    x: -0.5584716364627722\n",
       "    y: 0.43702422397811885\n",
       "    z: -0.5557429417770082\n",
       "    w: -0.433899805932145"
      ]
     },
     "execution_count": 119,
     "metadata": {},
     "output_type": "execute_result"
    }
   ],
   "source": [
    "new_po"
   ]
  },
  {
   "cell_type": "code",
   "execution_count": 120,
   "metadata": {},
   "outputs": [
    {
     "data": {
      "text/plain": [
       "True"
      ]
     },
     "execution_count": 120,
     "metadata": {},
     "output_type": "execute_result"
    }
   ],
   "source": [
    "arm.set_named_target('go')\n",
    "arm.go()"
   ]
  },
  {
   "cell_type": "code",
   "execution_count": 123,
   "metadata": {},
   "outputs": [
    {
     "data": {
      "text/plain": [
       "True"
      ]
     },
     "execution_count": 123,
     "metadata": {},
     "output_type": "execute_result"
    }
   ],
   "source": [
    "head.set_named_target('neutral')\n",
    "head.go()\n"
   ]
  },
  {
   "cell_type": "code",
   "execution_count": 145,
   "metadata": {},
   "outputs": [
    {
     "data": {
      "text/plain": []
     },
     "execution_count": 145,
     "metadata": {},
     "output_type": "execute_result"
    }
   ],
   "source": [
    "clear_octo_client.call()"
   ]
  },
  {
   "cell_type": "code",
   "execution_count": null,
   "metadata": {},
   "outputs": [],
   "source": []
  }
 ],
 "metadata": {
  "kernelspec": {
   "display_name": "Python 2",
   "language": "python",
   "name": "python2"
  },
  "language_info": {
   "codemirror_mode": {
    "name": "ipython",
    "version": 2
   },
   "file_extension": ".py",
   "mimetype": "text/x-python",
   "name": "python",
   "nbconvert_exporter": "python",
   "pygments_lexer": "ipython2",
   "version": "2.7.17"
  },
  "nbTranslate": {
   "displayLangs": [
    "ja"
   ],
   "hotkey": "alt-t",
   "langInMainMenu": true,
   "sourceLang": "ja",
   "targetLang": "en",
   "useGoogleTranslate": true
  },
  "toc": {
   "base_numbering": 1,
   "nav_menu": {},
   "number_sections": true,
   "sideBar": true,
   "skip_h1_title": false,
   "title_cell": "Table of Contents",
   "title_sidebar": "Contents",
   "toc_cell": false,
   "toc_position": {},
   "toc_section_display": true,
   "toc_window_display": true
  }
 },
 "nbformat": 4,
 "nbformat_minor": 2
}
