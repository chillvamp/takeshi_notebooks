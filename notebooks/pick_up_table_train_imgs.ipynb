{
 "cells": [
  {
   "cell_type": "markdown",
   "metadata": {
    "lang": "en"
   },
   "source": [
    "## Setup"
   ]
  },
  {
   "cell_type": "markdown",
   "metadata": {
    "lang": "ja"
   },
   "source": []
  },
  {
   "cell_type": "markdown",
   "metadata": {
    "lang": "en"
   },
   "source": [
    "Import the required libraries and initialize them:"
   ]
  },
  {
   "cell_type": "code",
   "execution_count": 1,
   "metadata": {},
   "outputs": [],
   "source": [
    "from std_srvs.srv import Empty, Trigger, TriggerRequest\n"
   ]
  },
  {
   "cell_type": "code",
   "execution_count": 2,
   "metadata": {},
   "outputs": [],
   "source": [
    "from cv_bridge import CvBridge, CvBridgeError\n",
    "import rospy\n",
    "#import cv2\n",
    "import ros_numpy\n",
    "import numpy as np\n",
    "from tmc_tabletop_segmentator.srv import TabletopSegmentation\n",
    "from tmc_tabletop_segmentator.srv import TabletopSegmentationRequest\n",
    "from sensor_msgs.msg import Image\n",
    "from std_msgs.msg import String\n",
    "import tf\n",
    "import tf2_ros\n",
    "import geometry_msgs.msg\n",
    "from utils_notebooks import *\n"
   ]
  },
  {
   "cell_type": "code",
   "execution_count": 3,
   "metadata": {},
   "outputs": [],
   "source": [
    "%matplotlib inline\n",
    "\n",
    "import matplotlib.pyplot as plt\n",
    "import numpy as np\n",
    "import ros_numpy\n",
    "import rospy\n",
    "import tf\n",
    "from gazebo_ros import gazebo_interface\n",
    "from sensor_msgs.msg import LaserScan, PointCloud2\n",
    "from geometry_msgs.msg import Pose, Quaternion ,TransformStamped\n",
    "import moveit_commander\n",
    "import moveit_msgs.msg\n",
    "\n",
    "import sys\n",
    "\n",
    "from utils_notebooks import *\n",
    "#from utils_task1 import *\n",
    "import cv2\n",
    "import os"
   ]
  },
  {
   "cell_type": "markdown",
   "metadata": {
    "lang": "ja"
   },
   "source": [
    "# REMEMBER TO RUN MOVEIT \n",
    "# roslaunch  hsrb_moveit_config  hsrb_demo_with_controller.launch"
   ]
  },
  {
   "cell_type": "code",
   "execution_count": 4,
   "metadata": {},
   "outputs": [
    {
     "data": {
      "text/plain": [
       "'3.3.1-dev'"
      ]
     },
     "execution_count": 4,
     "metadata": {},
     "output_type": "execute_result"
    }
   ],
   "source": [
    "\n",
    "\n",
    "cv2.__version__\n",
    "\n",
    "## CHECK  CV VERSIONS IN CASE YOU WONT USE SURF \n",
    "## 3.3.1 is an old dependence use sys path remove if needed\n"
   ]
  },
  {
   "cell_type": "code",
   "execution_count": 5,
   "metadata": {},
   "outputs": [],
   "source": [
    "#! roslaunch  hsrb_moveit_config  hsrb_demo_with_controller.launch"
   ]
  },
  {
   "cell_type": "code",
   "execution_count": 6,
   "metadata": {},
   "outputs": [],
   "source": [
    "\n",
    "\n",
    "bridge = CvBridge()\n",
    "###might take some time to load all those takeshi meshes in rviz\n",
    "\n",
    "head = moveit_commander.MoveGroupCommander('head')\n",
    "arm = moveit_commander.MoveGroupCommander('arm')\n",
    "whole_body = moveit_commander.MoveGroupCommander('whole_body_light')\n",
    "whole_body.set_workspace([-6.0, -6.0, 6.0, 6.0])#whole_body.go(wb)\n"
   ]
  },
  {
   "cell_type": "code",
   "execution_count": 7,
   "metadata": {},
   "outputs": [],
   "source": [
    "def rot_to_euler(R):\n",
    "    import sys\n",
    "    import math as m\n",
    "    tol = sys.float_info.epsilon * 10\n",
    "\n",
    "    if abs(R.item(0,0))< tol and abs(R.item(1,0)) < tol:\n",
    "       eul1 = 0\n",
    "       eul2 = m.atan2(-R.item(2,0), R.item(0,0))\n",
    "       eul3 = m.atan2(-R.item(1,2), R.item(1,1))\n",
    "    else:   \n",
    "       eul1 = m.atan2(R.item(1,0),R.item(0,0))\n",
    "       sp = m.sin(eul1)\n",
    "       cp = m.cos(eul1)\n",
    "       eul2 = m.atan2(-R.item(2,0),cp*R.item(0,0)+sp*R.item(1,0))\n",
    "       eul3 = m.atan2(sp*R.item(0,2)-cp*R.item(1,2),cp*R.item(1,1)-sp*R.item(0,1))\n",
    "\n",
    "    return np.asarray((eul1,eul2,eul3))\n",
    "def pca_xyz(xyz):\n",
    "    quats=[]\n",
    "    for i in range( len(xyz)):\n",
    "        pca= PCA(n_components=3).fit(xyz[i])\n",
    "        vec0= pca.components_[0,:]\n",
    "        vec1= pca.components_[1,:]\n",
    "        vec2= pca.components_[2,:]\n",
    "        R=pca.components_\n",
    "        euler=rot_to_euler(R)\n",
    "        quats.append(tf.transformations.quaternion_from_euler(euler[0],euler[1],euler[2]))\n",
    "    return quats"
   ]
  },
  {
   "cell_type": "code",
   "execution_count": 8,
   "metadata": {},
   "outputs": [],
   "source": [
    "def rot_to_euler(R):\n",
    "    import sys\n",
    "    tol = sys.float_info.epsilon * 10\n",
    "\n",
    "    if abs(R.item(0,0))< tol and abs(R.item(1,0)) < tol:\n",
    "       eul1 = 0\n",
    "       eul2 = m.atan2(-R.item(2,0), R.item(0,0))\n",
    "       eul3 = m.atan2(-R.item(1,2), R.item(1,1))\n",
    "    else:   \n",
    "       eul1 = m.atan2(R.item(1,0),R.item(0,0))\n",
    "       sp = m.sin(eul1)\n",
    "       cp = m.cos(eul1)\n",
    "       eul2 = m.atan2(-R.item(2,0),cp*R.item(0,0)+sp*R.item(1,0))\n",
    "       eul3 = m.atan2(sp*R.item(0,2)-cp*R.item(1,2),cp*R.item(1,1)-sp*R.item(0,1))\n",
    "\n",
    "    return np.asarray((eul1,eul2,eul3))\n",
    "def pca_xyz(xyz):\n",
    "    quats=[]\n",
    "    for i in range( len(xyz)):\n",
    "        pca= PCA(n_components=3).fit(xyz[i])\n",
    "        vec0= pca.components_[0,:]\n",
    "        vec1= pca.components_[1,:]\n",
    "        vec2= pca.components_[2,:]\n",
    "        R=pca.components_\n",
    "        euler=rot_to_euler(R)\n",
    "        quats.append(tf.transformations.quaternion_from_euler(euler[0],euler[1],euler[2]))\n",
    "    return quats\n",
    "def static_tf_publish(cents, quaternions=[],label=''):\n",
    "    if (len(quaternions))==0:\n",
    "        quats=np.zeros((len(cents),4)) \n",
    "        quats[:,3]=1\n",
    "        #print quats\n",
    "    else:\n",
    "        quats=np.asarray(quaternions)\n",
    "        #print quats\n",
    "    for  i ,cent  in enumerate(cents):\n",
    "        x,y,z=cent\n",
    "        if np.isnan(x) or np.isnan(y) or np.isnan(z):\n",
    "            print('nan , rejected')\n",
    "        else:\n",
    "            #### first place a dissolving tf wrt head sensor  in centroids\n",
    "\n",
    "            broadcaster.sendTransform((x,y,z),(0,0,0,1), rospy.Time.now(), 'Object'+str(i),\"head_rgbd_sensor_link\")\n",
    "            rospy.sleep(.2)\n",
    "            \n",
    "            #### then place each centr wrt map\n",
    "            xyz_map,cent_quat= listener.lookupTransform('/map', 'Object'+str(i),rospy.Time(0))\n",
    "            map_euler=tf.transformations.euler_from_quaternion(cent_quat)\n",
    "            rospy.sleep(.2)\n",
    "            static_transformStamped = TransformStamped()\n",
    "\n",
    "            ##FIXING TF TO MAP ( ODOM REALLY)    \n",
    "            #tf_broadcaster1.sendTransform( (xyz[0],xyz[1],xyz[2]),tf.transformations.quaternion_from_euler(0, 0, 0), rospy.Time.now(), \"obj\"+str(ind), \"head_rgbd_sensor_link\")\n",
    "            ## Finally boiradcast a static tf  in cents and with quaternion found  in pca\n",
    "            if xyz_map[-1] <.2:\n",
    "                static_transformStamped.header.stamp = rospy.Time.now()\n",
    "                static_transformStamped.header.frame_id = \"map\"\n",
    "                static_transformStamped.child_frame_id = \"Floor_Object\"+str(i)+label \n",
    "                static_transformStamped.transform.translation.x = float(xyz_map[0])\n",
    "                static_transformStamped.transform.translation.y = float(xyz_map[1])\n",
    "                static_transformStamped.transform.translation.z = float(xyz_map[2])\n",
    "                #quat = tf.transformations.quaternion_from_euler(-euler[0],0,1.5)\n",
    "                static_transformStamped.transform.rotation.x = quats [i,0]#-quat[0]#trans.transform.rotation.x\n",
    "                static_transformStamped.transform.rotation.y = quats [i,1]#-quat[1]#trans.transform.rotation.y\n",
    "                static_transformStamped.transform.rotation.z = quats [i,2]#-quat[2]#trans.transform.rotation.z\n",
    "                static_transformStamped.transform.rotation.w = quats [i,3]#-quat[3]#trans.transform.rotation.w\n",
    "\n",
    "\n",
    "                tf_static_broadcaster.sendTransform(static_transformStamped)\n",
    "                print ('images[]',i)\n",
    "            if    (xyz_map[-1] >.4)and (xyz_map[-1] <.5):\n",
    "                static_transformStamped.header.stamp = rospy.Time.now()\n",
    "                static_transformStamped.header.frame_id = \"map\"\n",
    "                static_transformStamped.child_frame_id = \"Table_Object\"+str(i)+label \n",
    "                static_transformStamped.transform.translation.x = float(xyz_map[0])\n",
    "                static_transformStamped.transform.translation.y = float(xyz_map[1])\n",
    "                static_transformStamped.transform.translation.z = float(xyz_map[2])\n",
    "                #quat = tf.transformations.quaternion_from_euler(-euler[0],0,1.5)\n",
    "                static_transformStamped.transform.rotation.x = quats [i,0]#-quat[0]#trans.transform.rotation.x\n",
    "                static_transformStamped.transform.rotation.y = quats [i,1]#-quat[1]#trans.transform.rotation.y\n",
    "                static_transformStamped.transform.rotation.z = quats [i,2]#-quat[2]#trans.transform.rotation.z\n",
    "                static_transformStamped.transform.rotation.w = quats [i,3]#-quat[3]#trans.transform.rotation.w\n",
    "\n",
    "\n",
    "                tf_static_broadcaster.sendTransform(static_transformStamped)\n",
    "                print ('images[]',i)\n",
    "    return True\n"
   ]
  },
  {
   "cell_type": "code",
   "execution_count": 9,
   "metadata": {},
   "outputs": [],
   "source": [
    "#!python /home/oscar/Codes/catkin_mio_ws/src/hsrb_samples/hsrb_vision_samples/src/hsrb_vision_samples/execute_tabletop_segmentation.py"
   ]
  },
  {
   "cell_type": "code",
   "execution_count": 10,
   "metadata": {},
   "outputs": [],
   "source": [
    "#! python /home/oscar/Codes/catkin_mio_ws/src/hsrb_samples/hsrb_vision_samples/src/hsrb_vision_samples/execute_tabletop_segmentation_backup.py\n",
    "\n"
   ]
  },
  {
   "cell_type": "code",
   "execution_count": 11,
   "metadata": {},
   "outputs": [],
   "source": [
    "\n",
    "rospy.init_node(\"recognition\")\n"
   ]
  },
  {
   "cell_type": "code",
   "execution_count": 12,
   "metadata": {},
   "outputs": [],
   "source": [
    "def pose_2_np(wp_p):\n",
    "   \n",
    "    return np.asarray((wp_p.pose.position.x,wp_p.pose.position.y,wp_p.pose.position.z)) , np.asarray((wp_p.pose.orientation.w,wp_p.pose.orientation.x,wp_p.pose.orientation.y, wp_p.pose.orientation.z)) \n",
    "def np_2_pose(position,orientation):\n",
    "    wb_p= geometry_msgs.msg.PoseStamped()\n",
    "    \n",
    "    wb_p.pose.position.x= position[0]\n",
    "    wb_p.pose.position.y= position[1]\n",
    "    wb_p.pose.position.z= position[2]\n",
    "    wb_p.pose.orientation.w= orientation[0]\n",
    "    wb_p.pose.orientation.x= orientation[1]\n",
    "    wb_p.pose.orientation.y= orientation[2]\n",
    "    wb_p.pose.orientation.z= orientation[3]\n",
    "    return wb_p"
   ]
  },
  {
   "cell_type": "code",
   "execution_count": 13,
   "metadata": {},
   "outputs": [],
   "source": [
    "rgbd = RGBD()\n",
    "#a listener xtion rgbd listener class , (check utils for methods )\n",
    "# TF is one of the most powerfull underated Ros tools, I recomend to understand it and use it as often as possible.\n",
    "listener = tf.TransformListener()\n",
    "broadcaster= tf.TransformBroadcaster()\n",
    "tf_static_broadcaster= tf2_ros.StaticTransformBroadcaster()\n"
   ]
  },
  {
   "cell_type": "code",
   "execution_count": 14,
   "metadata": {},
   "outputs": [],
   "source": [
    "def gaze_point(x,y,z):\n",
    "    \n",
    "    \n",
    "    \n",
    "    head_pose = head.get_current_joint_values()\n",
    "    head_pose[0]=0.0\n",
    "    head_pose[1]=0.0\n",
    "    head.set_joint_value_target(head_pose)\n",
    "    head.go()\n",
    "    \n",
    "    trans , rot = listener.lookupTransform('/map', '/head_rgbd_sensor_gazebo_frame', rospy.Time(0)) #\n",
    "    \n",
    "    arm_pose=arm.get_current_joint_values()\n",
    "    arm_pose[0]=.1\n",
    "    arm_pose[1]= -0.3\n",
    "    arm.set_joint_value_target(arm_pose)\n",
    "    arm.go()\n",
    "    \n",
    "    e =tf.transformations.euler_from_quaternion(rot)\n",
    "    print('i am at',trans,np.rad2deg(e)[2])\n",
    "    print('gaze goal',x,y,z)\n",
    "    #tf.transformations.euler_from_quaternion(rot)\n",
    "\n",
    "\n",
    "    x_rob,y_rob,z_rob,th_rob= trans[0], trans[1] ,trans[2] ,  e[2]\n",
    "\n",
    "\n",
    "    D_x=x_rob-x\n",
    "    D_y=y_rob-y\n",
    "    D_z=z_rob-z\n",
    "\n",
    "    D_th= np.arctan2(D_y,D_x)\n",
    "    print('relative to robot',(D_x,D_y,np.rad2deg(D_th)))\n",
    "\n",
    "    pan_correct= (- th_rob + D_th + np.pi) % (2*np.pi)\n",
    "\n",
    "    if(pan_correct > np.pi):\n",
    "        pan_correct=-2*np.pi+pan_correct\n",
    "    if(pan_correct < -np.pi):\n",
    "        pan_correct=2*np.pi+pan_correct\n",
    "\n",
    "    if ((pan_correct) > .5 * np.pi):\n",
    "        print ('Exorcist alert')\n",
    "        pan_correct=.5*np.pi\n",
    "    head_pose[0]=pan_correct\n",
    "    tilt_correct=np.arctan2(D_z,np.linalg.norm((D_x,D_y)))\n",
    "\n",
    "    head_pose [1]=-tilt_correct\n",
    "    \n",
    "    \n",
    "    \n",
    "    head.set_joint_value_target(head_pose)\n",
    "    succ=head.go()\n",
    "    return succ"
   ]
  },
  {
   "cell_type": "code",
   "execution_count": 15,
   "metadata": {},
   "outputs": [],
   "source": [
    "clear_octo_client = rospy.ServiceProxy('/clear_octomap', Empty)\n",
    "\n",
    "clear_octo_client.wait_for_service(timeout=1.0)\n"
   ]
  },
  {
   "cell_type": "code",
   "execution_count": 16,
   "metadata": {},
   "outputs": [],
   "source": [
    "# initialize ROS publisher\n",
    "pub = rospy.Publisher('goal', PoseStamped, queue_size=10)\n",
    "goal = MoveBaseGoal()\n",
    "navclient = actionlib.SimpleActionClient('/move_base/move', MoveBaseAction)\n",
    "    \n",
    "# wait to establish connection between the navigation interface\n",
    "# move_base and navigation_log_recorder node\n",
    "def move_base(goal_x,goal_y,goal_yaw,time_out=10):\n",
    "    pose = PoseStamped()\n",
    "    pose.header.stamp = rospy.Time.now()\n",
    "    pose.header.frame_id = \"map\"\n",
    "    pose.pose.position = Point(goal_x, goal_y, 0)\n",
    "    quat = tf.transformations.quaternion_from_euler(0, 0, goal_yaw)\n",
    "    pose.pose.orientation = Quaternion(*quat)\n",
    "\n",
    "\n",
    "    # create a MOVE BASE GOAL\n",
    "    goal = MoveBaseGoal()\n",
    "    goal.target_pose = pose\n",
    "\n",
    "    # send message to the action server\n",
    "    navclient.send_goal(goal)\n",
    "\n",
    "    # wait for the action server to complete the order\n",
    "    navclient.wait_for_result(timeout=rospy.Duration(time_out))\n",
    "\n",
    "    # print result of navigation\n",
    "    action_state = navclient.get_state()\n",
    "    return navclient.get_state()"
   ]
  },
  {
   "cell_type": "code",
   "execution_count": null,
   "metadata": {},
   "outputs": [],
   "source": []
  },
  {
   "cell_type": "code",
   "execution_count": 17,
   "metadata": {},
   "outputs": [],
   "source": [
    "def seg_pca(lower=2000,higher=50000,reg_ly=0,reg_hy=1000,plt_images=False): \n",
    "    image= rgbd.get_h_image()\n",
    "    iimmg= rgbd.get_image()\n",
    "    points_data= rgbd.get_points()\n",
    "    values=image.reshape((-1,3))\n",
    "    values= np.float32(values)\n",
    "    criteria= (  cv2.TERM_CRITERIA_EPS + cv2.TERM_CRITERIA_MAX_ITER  ,1000,0.1)\n",
    "    k=6\n",
    "    _ , labels , cc =cv2.kmeans(values , k ,None,criteria,30,cv2.KMEANS_RANDOM_CENTERS)\n",
    "    cc=np.uint8(cc)\n",
    "    segmented_image= cc[labels.flatten()]\n",
    "    segmented_image=segmented_image.reshape(image.shape)\n",
    "    th3 = cv2.adaptiveThreshold(segmented_image,255,cv2.ADAPTIVE_THRESH_GAUSSIAN_C,cv2.THRESH_BINARY,11,2)\n",
    "    kernel = np.ones((5,5),np.uint8)\n",
    "    im4=cv2.erode(th3,kernel,iterations=4)\n",
    "    plane_mask=points_data['z']\n",
    "    cv2_img=plane_mask.astype('uint8')\n",
    "    img=im4\n",
    "    _,contours, hierarchy = cv2.findContours(im4.astype('uint8'),cv2.RETR_TREE,cv2.CHAIN_APPROX_SIMPLE)\n",
    "    i=0\n",
    "    cents=[]\n",
    "    points=[]\n",
    "    images=[]\n",
    "    for i, contour in enumerate(contours):\n",
    "        \n",
    "        area = cv2.contourArea(contour)\n",
    "\n",
    "        if area > lower and area < higher :\n",
    "            M = cv2.moments(contour)\n",
    "            # calculate x,y coordinate of center\n",
    "            cX = int(M[\"m10\"] / M[\"m00\"])\n",
    "            cY = int(M[\"m01\"] / M[\"m00\"])\n",
    "            \n",
    "    \n",
    "            boundRect = cv2.boundingRect(contour)\n",
    "            #just for drawing rect, dont waste too much time on this\n",
    "            image_aux= iimmg[boundRect[1]:boundRect[1]+boundRect[3],boundRect[0]:boundRect[0]+boundRect[2]]\n",
    "            images.append(image_aux)\n",
    "            img=cv2.rectangle(img,(boundRect[0], boundRect[1]),(boundRect[0]+boundRect[2], boundRect[1]+boundRect[3]), (0,0,0), 2)\n",
    "            # calculate moments for each contour\n",
    "            if (cY > reg_ly and cY < reg_hy  ):\n",
    "                \n",
    "                cv2.circle(img, (cX, cY), 5, (255, 255, 255), -1)\n",
    "                cv2.putText(img, \"centroid_\"+str(i)+\"_\"+str(cX)+','+str(cY)    ,    (cX - 25, cY - 25)   ,cv2.FONT_HERSHEY_SIMPLEX, 0.9, (0, 0, 0), 2)\n",
    "                print ('cX,cY',cX,cY)\n",
    "                xyz=[]\n",
    "\n",
    "\n",
    "                for jy in range (boundRect[0], boundRect[0]+boundRect[2]):\n",
    "                    for ix in range(boundRect[1], boundRect[1]+boundRect[3]):\n",
    "                        aux=(np.asarray((points_data['x'][ix,jy],points_data['y'][ix,jy],points_data['z'][ix,jy])))\n",
    "                        if np.isnan(aux[0]) or np.isnan(aux[1]) or np.isnan(aux[2]):\n",
    "                            'reject point'\n",
    "                        else:\n",
    "                            xyz.append(aux)\n",
    "\n",
    "                xyz=np.asarray(xyz)\n",
    "                cent=xyz.mean(axis=0)\n",
    "                cents.append(cent)\n",
    "                print (cent)\n",
    "                points.append(xyz)\n",
    "            else:\n",
    "                print ('cent out of region... rejected')\n",
    "    sub_plt=0\n",
    "    if plt_images:\n",
    "        for image in images:\n",
    "\n",
    "            sub_plt+=1\n",
    "            ax = plt.subplot(5, 5, sub_plt )\n",
    "\n",
    "            plt.imshow(image)\n",
    "            plt.axis(\"off\")\n",
    "\n",
    "    cents=np.asarray(cents)\n",
    "    ### returns centroids found and a group of 3d coordinates that conform the centroid\n",
    "    return(cents,np.asarray(points), images)"
   ]
  },
  {
   "cell_type": "code",
   "execution_count": null,
   "metadata": {},
   "outputs": [],
   "source": []
  },
  {
   "cell_type": "code",
   "execution_count": null,
   "metadata": {},
   "outputs": [],
   "source": []
  },
  {
   "cell_type": "code",
   "execution_count": null,
   "metadata": {},
   "outputs": [],
   "source": []
  },
  {
   "cell_type": "code",
   "execution_count": null,
   "metadata": {},
   "outputs": [],
   "source": []
  },
  {
   "cell_type": "code",
   "execution_count": 18,
   "metadata": {},
   "outputs": [],
   "source": [
    "service_client = rospy.ServiceProxy('/tabletop_segmentator_node/execute', TabletopSegmentation)\n",
    "service_client.wait_for_service(timeout=1.0)\n"
   ]
  },
  {
   "cell_type": "code",
   "execution_count": 19,
   "metadata": {},
   "outputs": [],
   "source": [
    "def res_to_cents(res, plt_images=False):\n",
    "    objs_depth_centroids=[]\n",
    "    xyz=[]\n",
    "    images=[]\n",
    "    for i in range (len(res.segmented_objects_array.table_objects_array\t)):\n",
    "        print ( 'Plane',i,'has', len(res.segmented_objects_array.table_objects_array[i].depth_image_array), 'objects')\n",
    "        for j in range (len(res.segmented_objects_array.table_objects_array[i].points_array)):\n",
    "            cv2_img_depth = bridge.imgmsg_to_cv2(res.segmented_objects_array.table_objects_array[i].depth_image_array[0] )\n",
    "            cv2_img = bridge.imgmsg_to_cv2(res.segmented_objects_array.table_objects_array[i].rgb_image_array[j],\"rgb8\" )\n",
    "            pc= ros_numpy.numpify (res.segmented_objects_array.table_objects_array[i].points_array[j])\n",
    "            points=np.zeros((pc.shape[0],3))\n",
    "            points[:,0]=pc['x']\n",
    "            points[:,1]=pc['y']\n",
    "            points[:,2]=pc['z']\n",
    "\n",
    "            points_mean=np.mean(points,axis=0)\n",
    "            if np.isnan(points_mean).max():\n",
    "                print('nan reject')\n",
    "            else:\n",
    "\n",
    "                objs_depth_centroids.append(points_mean)\n",
    "                xyz.append(points)\n",
    "                images.append(cv2_img)\n",
    "\n",
    "    print objs_depth_centroids\n",
    "\n",
    "    #lets publish a tf to this centroids ( lot of false positives) !!!!\n",
    "    sub_plt=0\n",
    "    if plt_images:\n",
    "        for image in images:\n",
    "\n",
    "            sub_plt+=1\n",
    "            ax = plt.subplot(5, 5, sub_plt )\n",
    "\n",
    "            plt.imshow(image)\n",
    "            plt.axis(\"off\")\n",
    "    return(np.asarray(objs_depth_centroids), np.asarray(xyz),images)\n",
    "        "
   ]
  },
  {
   "cell_type": "code",
   "execution_count": 20,
   "metadata": {},
   "outputs": [
    {
     "data": {
      "text/plain": [
       "0"
      ]
     },
     "execution_count": 20,
     "metadata": {},
     "output_type": "execute_result"
    }
   ],
   "source": [
    "move_base(1.25,1.3,0.5*np.pi)"
   ]
  },
  {
   "cell_type": "code",
   "execution_count": 21,
   "metadata": {},
   "outputs": [
    {
     "data": {
      "text/plain": [
       "True"
      ]
     },
     "execution_count": 21,
     "metadata": {},
     "output_type": "execute_result"
    }
   ],
   "source": [
    "arm.set_named_target('go')\n",
    "arm.go()\n",
    "head_val=head.get_current_joint_values()\n",
    "#head_val[0]=np.deg2rad(0)\n",
    "head_val[1]=np.deg2rad(-45)\n",
    "\n",
    "head.go(head_val)\n",
    "#If head didnt move, MOVE IT isnt running  properly"
   ]
  },
  {
   "cell_type": "code",
   "execution_count": null,
   "metadata": {},
   "outputs": [],
   "source": []
  },
  {
   "cell_type": "code",
   "execution_count": null,
   "metadata": {},
   "outputs": [],
   "source": []
  },
  {
   "cell_type": "code",
   "execution_count": null,
   "metadata": {},
   "outputs": [],
   "source": []
  },
  {
   "cell_type": "code",
   "execution_count": null,
   "metadata": {},
   "outputs": [],
   "source": []
  },
  {
   "cell_type": "code",
   "execution_count": null,
   "metadata": {},
   "outputs": [],
   "source": []
  },
  {
   "cell_type": "markdown",
   "metadata": {},
   "source": []
  },
  {
   "cell_type": "code",
   "execution_count": 22,
   "metadata": {},
   "outputs": [],
   "source": [
    "\n",
    "#define a tabletop segmentation request.\n",
    "# Play with these parameters\n",
    "\n",
    "\n",
    "req = TabletopSegmentationRequest()\n",
    "req.crop_enabled = True  # limit the processing area\n",
    "req.crop_x_max = 0.7     # X coordinate maximum value in the area [m]\n",
    "req.crop_x_min = -0.7    # X coordinate minimum value in the area [m]\n",
    "req.crop_y_max = 1.0     # Y coordinate maximum value in the area [m]\n",
    "req.crop_y_min = -1.0    # Y coordinate minimum value in the area [m]\n",
    "req.crop_z_max = 1.0     # Z coordinate maximum value in the area [m]\n",
    "req.crop_z_min = -1.0     # Z coordinate minimum value in the area [m]\n",
    "req.cluster_z_max = 3  # maximum height value of cluster on table [m]\n",
    "req.cluster_z_min = 0.0  # minimum height value of cluster on table [m]\n",
    "req.remove_bg = False    # remove the background of the segment image    THIS IS AN IMPORTANT PARAMETER PLEASE NOTICE\n",
    "\n"
   ]
  },
  {
   "cell_type": "code",
   "execution_count": 23,
   "metadata": {},
   "outputs": [],
   "source": [
    "def gazebo_2_world(x,y):\n",
    "\n",
    "    x_world= x+2.1\n",
    "    y_world= -(y-1.2)\n",
    "    return (x_world,y_world)\n",
    "\n",
    "def world_2_gazebo(y_world , x_world):\n",
    "\n",
    "    x= ( x_world - 2.1)\n",
    "    y= (-y_world + 1.2) \n",
    "    return (x , y)\n",
    "\n",
    "_path_model = \"/home/oscar/Codes/catkin_mio_ws/src/tmc_wrs_gazebo_world/models\"     #Catkin mio version \n",
    "\n",
    "\n",
    "objs=os.listdir(_path_model)\n",
    "objs.sort()\n"
   ]
  },
  {
   "cell_type": "code",
   "execution_count": 45,
   "metadata": {},
   "outputs": [],
   "source": [
    "path='/home/oscar/Videos/videos_to_keras_train/'\n",
    "obj_ind=49\n",
    "\n",
    "obj_name = ''.join(objs[obj_ind].split('_')[1:])\n",
    "obj_name\n",
    "try: \n",
    "    os.mkdir(path+obj_name) \n",
    "except OSError as error: \n",
    "    print(error)  \n",
    "delete_object('spawned')"
   ]
  },
  {
   "cell_type": "code",
   "execution_count": 29,
   "metadata": {},
   "outputs": [
    {
     "name": "stdout",
     "output_type": "stream",
     "text": [
      "('i am at', [1.3097212165378982, 0.9790564028761743, 1.0170716982631365], -179.41019992901892)\n",
      "('gaze goal', 1.25, 1.71, 0.6)\n",
      "('relative to robot', (0.05972121653789819, -0.7309435971238256, -85.32906519277725))\n"
     ]
    },
    {
     "data": {
      "text/plain": [
       "True"
      ]
     },
     "execution_count": 29,
     "metadata": {},
     "output_type": "execute_result"
    }
   ],
   "source": [
    "move_base(1.25,1.0,np.pi)\n",
    "gaze_point(1.25,1.71,.6)"
   ]
  },
  {
   "cell_type": "code",
   "execution_count": 44,
   "metadata": {},
   "outputs": [
    {
     "name": "stdout",
     "output_type": "stream",
     "text": [
      "[INFO] [1639496440.154362, 386.521000]: Spawn: ycb_040_large_marker\n",
      "[INFO] [1639496440.156749, 386.534000]: Spawn: [-0.0000000e+00  0.0000000e+00  1.0000000e+00 -3.6732051e-06]\n",
      "[INFO] [1639496440.158624, 386.534000]: Waiting for service /gazebo/spawn_sdf_model\n",
      "[INFO] [1639496440.179911, 386.534000]: Calling service /gazebo/spawn_sdf_model\n",
      "[INFO] [1639496440.369291, 386.590000]: Spawn status: SpawnModel: Failure - entity already exists.\n"
     ]
    }
   ],
   "source": [
    "\n",
    "x_gaz,y_gaz= world_2_gazebo(1.25,1.71)\n",
    "eu_i,eu_j,eu_k = 3.1416  ,0,0\n",
    "spawn_object('spawned',objs[obj_ind], x_gaz,  y_gaz,  0.41,eu_i,eu_j,eu_k )\n"
   ]
  },
  {
   "cell_type": "code",
   "execution_count": 52,
   "metadata": {},
   "outputs": [
    {
     "name": "stdout",
     "output_type": "stream",
     "text": [
      "[INFO] [1639498795.331939, 854.806000]: Spawn: ycb_040_large_marker\n",
      "[INFO] [1639498795.337710, 854.806000]: Spawn: [-0.0000000e+00  0.0000000e+00  1.0000000e+00 -3.6732051e-06]\n",
      "[INFO] [1639498795.344668, 854.806000]: Waiting for service /gazebo/spawn_sdf_model\n",
      "[INFO] [1639498795.364156, 854.820000]: Calling service /gazebo/spawn_sdf_model\n",
      "[INFO] [1639498795.409695, 854.832000]: Spawn status: SpawnModel: Failure - entity already exists.\n",
      "('cX,cY', 373, 346)\n",
      "[0.09225451 0.18039714 0.93832237]\n",
      "53\n",
      "[INFO] [1639498799.843164, 855.679000]: Spawn: ycb_040_large_marker\n",
      "[INFO] [1639498799.847894, 855.679000]: Spawn: [0.         0.         0.99987669 0.01570368]\n",
      "[INFO] [1639498799.850838, 855.679000]: Waiting for service /gazebo/spawn_sdf_model\n",
      "[INFO] [1639498799.866980, 855.679000]: Calling service /gazebo/spawn_sdf_model\n",
      "[INFO] [1639498800.053214, 855.700000]: Spawn status: SpawnModel: Successfully spawned entity\n",
      "('cX,cY', 374, 296)\n",
      "[0.10499948 0.10456033 1.038348  ]\n",
      "61\n",
      "[INFO] [1639498804.951657, 856.482000]: Spawn: ycb_040_large_marker\n",
      "[INFO] [1639498804.953754, 856.482000]: Spawn: [0.         0.         0.99950667 0.03140716]\n",
      "[INFO] [1639498804.955705, 856.482000]: Waiting for service /gazebo/spawn_sdf_model\n",
      "[INFO] [1639498804.961646, 856.482000]: Calling service /gazebo/spawn_sdf_model\n",
      "[INFO] [1639498805.242726, 856.545000]: Spawn status: SpawnModel: Successfully spawned entity\n",
      "[INFO] [1639498808.383999, 857.001000]: Spawn: ycb_040_large_marker\n",
      "[INFO] [1639498808.386231, 857.001000]: Spawn: [0.         0.         0.99889004 0.04710289]\n",
      "[INFO] [1639498808.387559, 857.001000]: Waiting for service /gazebo/spawn_sdf_model\n",
      "[INFO] [1639498808.406148, 857.002000]: Calling service /gazebo/spawn_sdf_model\n",
      "[INFO] [1639498808.666729, 857.018000]: Spawn status: SpawnModel: Successfully spawned entity\n",
      "[INFO] [1639498811.773757, 857.475000]: Spawn: ycb_040_large_marker\n",
      "[INFO] [1639498811.776095, 857.475000]: Spawn: [0.         0.         0.99802695 0.062787  ]\n",
      "[INFO] [1639498811.781091, 857.476000]: Waiting for service /gazebo/spawn_sdf_model\n",
      "[INFO] [1639498811.798974, 857.478000]: Calling service /gazebo/spawn_sdf_model\n",
      "[INFO] [1639498812.055712, 857.506000]: Spawn status: SpawnModel: Successfully spawned entity\n",
      "[INFO] [1639498815.837287, 858.068000]: Spawn: ycb_040_large_marker\n",
      "[INFO] [1639498815.839695, 858.069000]: Spawn: [0.         0.         0.99691761 0.07845562]\n",
      "[INFO] [1639498815.842081, 858.070000]: Waiting for service /gazebo/spawn_sdf_model\n",
      "[INFO] [1639498815.847481, 858.070000]: Calling service /gazebo/spawn_sdf_model\n",
      "[INFO] [1639498815.990246, 858.083000]: Spawn status: SpawnModel: Successfully spawned entity\n",
      "('cX,cY', 377, 293)\n",
      "[0.11143184 0.10050561 1.0457642 ]\n",
      "('cX,cY', 86, 55)\n",
      "[-1.1941252  -0.91555464  2.8521376 ]\n",
      "58\n",
      "73\n",
      "[INFO] [1639498820.374710, 858.782000]: Spawn: ycb_040_large_marker\n",
      "[INFO] [1639498820.377523, 858.782000]: Spawn: [0.         0.         0.99556229 0.09410488]\n",
      "[INFO] [1639498820.378900, 858.782000]: Waiting for service /gazebo/spawn_sdf_model\n",
      "[INFO] [1639498820.399300, 858.784000]: Calling service /gazebo/spawn_sdf_model\n",
      "[INFO] [1639498820.551156, 858.809000]: Spawn status: SpawnModel: Successfully spawned entity\n",
      "('cX,cY', 378, 292)\n",
      "[0.11365037 0.09928417 1.0569904 ]\n",
      "55\n",
      "[INFO] [1639498824.598066, 859.448000]: Spawn: ycb_040_large_marker\n",
      "[INFO] [1639498824.602541, 859.449000]: Spawn: [0.         0.         0.99396133 0.10973092]\n",
      "[INFO] [1639498824.603789, 859.449000]: Waiting for service /gazebo/spawn_sdf_model\n",
      "[INFO] [1639498824.609115, 859.450000]: Calling service /gazebo/spawn_sdf_model\n",
      "[INFO] [1639498824.714693, 859.454000]: Spawn status: SpawnModel: Successfully spawned entity\n",
      "('cX,cY', 379, 293)\n",
      "[0.11344044 0.1014532  1.0470805 ]\n",
      "55\n",
      "[INFO] [1639498828.501469, 860.075000]: Spawn: ycb_040_large_marker\n",
      "[INFO] [1639498828.505573, 860.075000]: Spawn: [0.         0.         0.99211512 0.12532988]\n",
      "[INFO] [1639498828.507222, 860.075000]: Waiting for service /gazebo/spawn_sdf_model\n",
      "[INFO] [1639498828.518973, 860.077000]: Calling service /gazebo/spawn_sdf_model\n",
      "[INFO] [1639498828.685700, 860.093000]: Spawn status: SpawnModel: Successfully spawned entity\n",
      "[INFO] [1639498832.138464, 860.684000]: Spawn: ycb_040_large_marker\n",
      "[INFO] [1639498832.140859, 860.684000]: Spawn: [0.         0.         0.99002413 0.14089792]\n",
      "[INFO] [1639498832.142087, 860.684000]: Waiting for service /gazebo/spawn_sdf_model\n",
      "[INFO] [1639498832.149372, 860.684000]: Calling service /gazebo/spawn_sdf_model\n",
      "[INFO] [1639498832.441456, 860.734000]: Spawn status: SpawnModel: Successfully spawned entity\n",
      "[INFO] [1639498835.724417, 861.238000]: Spawn: ycb_040_large_marker\n",
      "[INFO] [1639498835.729813, 861.238000]: Spawn: [0.         0.         0.98768886 0.1564312 ]\n",
      "[INFO] [1639498835.730860, 861.238000]: Waiting for service /gazebo/spawn_sdf_model\n",
      "[INFO] [1639498835.745435, 861.246000]: Calling service /gazebo/spawn_sdf_model\n",
      "[INFO] [1639498836.049149, 861.277000]: Spawn status: SpawnModel: Successfully spawned entity\n",
      "('cX,cY', 380, 298)\n",
      "[0.11639389 0.10907534 1.0401382 ]\n",
      "50\n",
      "[INFO] [1639498839.786343, 861.829000]: Spawn: ycb_040_large_marker\n",
      "[INFO] [1639498839.788414, 861.829000]: Spawn: [0.         0.         0.98510989 0.17192588]\n",
      "[INFO] [1639498839.789447, 861.829000]: Waiting for service /gazebo/spawn_sdf_model\n",
      "[INFO] [1639498839.800120, 861.831000]: Calling service /gazebo/spawn_sdf_model\n",
      "[INFO] [1639498840.059709, 861.869000]: Spawn status: SpawnModel: Successfully spawned entity\n",
      "[INFO] [1639498843.574000, 862.486000]: Spawn: ycb_040_large_marker\n",
      "[INFO] [1639498843.577968, 862.487000]: Spawn: [0.         0.         0.98228786 0.18737814]\n",
      "[INFO] [1639498843.579053, 862.487000]: Waiting for service /gazebo/spawn_sdf_model\n",
      "[INFO] [1639498843.584630, 862.488000]: Calling service /gazebo/spawn_sdf_model\n",
      "[INFO] [1639498843.798022, 862.514000]: Spawn status: SpawnModel: Successfully spawned entity\n",
      "('cX,cY', 382, 298)\n",
      "[0.12045514 0.10914176 1.042469  ]\n",
      "46\n",
      "[INFO] [1639498847.926435, 863.093000]: Spawn: ycb_040_large_marker\n",
      "[INFO] [1639498847.928521, 863.093000]: Spawn: [0.         0.         0.97922346 0.20278417]\n",
      "[INFO] [1639498847.929884, 863.093000]: Waiting for service /gazebo/spawn_sdf_model\n",
      "[INFO] [1639498847.936423, 863.094000]: Calling service /gazebo/spawn_sdf_model\n",
      "[INFO] [1639498848.266546, 863.130000]: Spawn status: SpawnModel: Successfully spawned entity\n",
      "[INFO] [1639498852.405489, 863.829000]: Spawn: ycb_040_large_marker\n",
      "[INFO] [1639498852.407685, 863.829000]: Spawn: [0.         0.         0.97591745 0.21814016]\n",
      "[INFO] [1639498852.409370, 863.829000]: Waiting for service /gazebo/spawn_sdf_model\n",
      "[INFO] [1639498852.417547, 863.832000]: Calling service /gazebo/spawn_sdf_model\n",
      "[INFO] [1639498852.643717, 863.857000]: Spawn status: SpawnModel: Successfully spawned entity\n",
      "[INFO] [1639498856.002288, 864.463000]: Spawn: ycb_040_large_marker\n",
      "[INFO] [1639498856.004166, 864.463000]: Spawn: [0.         0.         0.97237065 0.23344233]\n",
      "[INFO] [1639498856.005171, 864.463000]: Waiting for service /gazebo/spawn_sdf_model\n",
      "[INFO] [1639498856.019865, 864.466000]: Calling service /gazebo/spawn_sdf_model\n",
      "[INFO] [1639498856.219413, 864.487000]: Spawn status: SpawnModel: Successfully spawned entity\n",
      "[INFO] [1639498860.825224, 865.126000]: Spawn: ycb_040_large_marker\n",
      "[INFO] [1639498860.827751, 865.126000]: Spawn: [0.         0.         0.96858393 0.2486869 ]\n",
      "[INFO] [1639498860.828929, 865.126000]: Waiting for service /gazebo/spawn_sdf_model\n",
      "[INFO] [1639498860.837591, 865.126000]: Calling service /gazebo/spawn_sdf_model\n",
      "[INFO] [1639498860.967882, 865.164000]: Spawn status: SpawnModel: Successfully spawned entity\n",
      "[INFO] [1639498864.314585, 865.717000]: Spawn: ycb_040_large_marker\n",
      "[INFO] [1639498864.319568, 865.717000]: Spawn: [0.         0.         0.96455822 0.26387011]\n",
      "[INFO] [1639498864.327679, 865.717000]: Waiting for service /gazebo/spawn_sdf_model\n",
      "[INFO] [1639498864.339200, 865.717000]: Calling service /gazebo/spawn_sdf_model\n",
      "[INFO] [1639498864.553960, 865.745000]: Spawn status: SpawnModel: Successfully spawned entity\n",
      "[INFO] [1639498867.908238, 866.225000]: Spawn: ycb_040_large_marker\n",
      "[INFO] [1639498867.910183, 866.225000]: Spawn: [0.         0.         0.96029453 0.27898821]\n",
      "[INFO] [1639498867.911560, 866.225000]: Waiting for service /gazebo/spawn_sdf_model\n",
      "[INFO] [1639498867.926206, 866.227000]: Calling service /gazebo/spawn_sdf_model\n",
      "[INFO] [1639498868.099355, 866.250000]: Spawn status: SpawnModel: Successfully spawned entity\n"
     ]
    },
    {
     "name": "stdout",
     "output_type": "stream",
     "text": [
      "('cX,cY', 386, 299)\n",
      "[0.12671812 0.11058772 1.0400358 ]\n",
      "35\n",
      "[INFO] [1639498872.479051, 866.913000]: Spawn: ycb_040_large_marker\n",
      "[INFO] [1639498872.481353, 866.913000]: Spawn: [0.         0.         0.95579389 0.29403748]\n",
      "[INFO] [1639498872.482988, 866.913000]: Waiting for service /gazebo/spawn_sdf_model\n",
      "[INFO] [1639498872.505797, 866.915000]: Calling service /gazebo/spawn_sdf_model\n",
      "[INFO] [1639498872.659847, 866.952000]: Spawn status: SpawnModel: Successfully spawned entity\n",
      "('cX,cY', 387, 298)\n",
      "[0.12889238 0.10845691 1.0499724 ]\n",
      "33\n",
      "[INFO] [1639498876.339330, 867.538000]: Spawn: ycb_040_large_marker\n",
      "[INFO] [1639498876.341659, 867.538000]: Spawn: [0.         0.         0.95105742 0.3090142 ]\n",
      "[INFO] [1639498876.342827, 867.538000]: Waiting for service /gazebo/spawn_sdf_model\n",
      "[INFO] [1639498876.349297, 867.550000]: Calling service /gazebo/spawn_sdf_model\n",
      "[INFO] [1639498876.636696, 867.599000]: Spawn status: SpawnModel: Successfully spawned entity\n",
      "('cX,cY', 387, 304)\n",
      "[0.12787972 0.11850853 1.0270923 ]\n",
      "30\n",
      "[INFO] [1639498880.752445, 868.240000]: Spawn: ycb_040_large_marker\n",
      "[INFO] [1639498880.754590, 868.240000]: Spawn: [0.         0.         0.9460863  0.32391467]\n",
      "[INFO] [1639498880.755898, 868.240000]: Waiting for service /gazebo/spawn_sdf_model\n",
      "[INFO] [1639498880.765075, 868.240000]: Calling service /gazebo/spawn_sdf_model\n",
      "[INFO] [1639498881.047549, 868.306000]: Spawn status: SpawnModel: Successfully spawned entity\n",
      "('cX,cY', 389, 295)\n",
      "[0.13333182 0.10323527 1.0554132 ]\n",
      "29\n",
      "[INFO] [1639498885.353969, 869.007000]: Spawn: ycb_040_large_marker\n",
      "[INFO] [1639498885.361424, 869.010000]: Spawn: [0.         0.         0.94088174 0.33873522]\n",
      "[INFO] [1639498885.362821, 869.010000]: Waiting for service /gazebo/spawn_sdf_model\n",
      "[INFO] [1639498885.368599, 869.015000]: Calling service /gazebo/spawn_sdf_model\n",
      "[INFO] [1639498885.610417, 869.050000]: Spawn status: SpawnModel: Successfully spawned entity\n",
      "('cX,cY', 389, 300)\n",
      "[0.13195392 0.11288263 1.0369598 ]\n",
      "26\n",
      "[INFO] [1639498889.769064, 869.698000]: Spawn: ycb_040_large_marker\n",
      "[INFO] [1639498889.772431, 869.699000]: Spawn: [0.         0.         0.93544503 0.3534722 ]\n",
      "[INFO] [1639498889.773737, 869.699000]: Waiting for service /gazebo/spawn_sdf_model\n",
      "[INFO] [1639498889.781908, 869.700000]: Calling service /gazebo/spawn_sdf_model\n",
      "[INFO] [1639498890.041871, 869.722000]: Spawn status: SpawnModel: Successfully spawned entity\n",
      "('cX,cY', 390, 296)\n",
      "[0.13600956 0.10576731 1.0538979 ]\n",
      "25\n",
      "[INFO] [1639498894.381090, 870.405000]: Spawn: ycb_040_large_marker\n",
      "[INFO] [1639498894.389859, 870.405000]: Spawn: [0.         0.         0.92977751 0.36812196]\n",
      "[INFO] [1639498894.391530, 870.405000]: Waiting for service /gazebo/spawn_sdf_model\n",
      "[INFO] [1639498894.400731, 870.405000]: Calling service /gazebo/spawn_sdf_model\n",
      "[INFO] [1639498894.581239, 870.431000]: Spawn status: SpawnModel: Successfully spawned entity\n",
      "[INFO] [1639498897.698184, 870.928000]: Spawn: ycb_040_large_marker\n",
      "[INFO] [1639498897.704000, 870.929000]: Spawn: [0.         0.         0.92388059 0.38268089]\n",
      "[INFO] [1639498897.706084, 870.930000]: Waiting for service /gazebo/spawn_sdf_model\n",
      "[INFO] [1639498897.718763, 870.932000]: Calling service /gazebo/spawn_sdf_model\n",
      "[INFO] [1639498897.935735, 870.953000]: Spawn status: SpawnModel: Successfully spawned entity\n",
      "[INFO] [1639498901.386258, 871.470000]: Spawn: ycb_040_large_marker\n",
      "[INFO] [1639498901.388135, 871.470000]: Spawn: [0.         0.         0.91775571 0.3971454 ]\n",
      "[INFO] [1639498901.389251, 871.470000]: Waiting for service /gazebo/spawn_sdf_model\n",
      "[INFO] [1639498901.402629, 871.470000]: Calling service /gazebo/spawn_sdf_model\n",
      "[INFO] [1639498901.714647, 871.538000]: Spawn status: SpawnModel: Successfully spawned entity\n",
      "('cX,cY', 392, 299)\n",
      "[0.13674335 0.11130165 1.0451852 ]\n",
      "16\n",
      "[INFO] [1639498905.222394, 872.020000]: Spawn: ycb_040_large_marker\n",
      "[INFO] [1639498905.224446, 872.020000]: Spawn: [0.         0.         0.91140438 0.41151191]\n",
      "[INFO] [1639498905.226228, 872.020000]: Waiting for service /gazebo/spawn_sdf_model\n",
      "[INFO] [1639498905.235811, 872.022000]: Calling service /gazebo/spawn_sdf_model\n",
      "[INFO] [1639498905.435569, 872.051000]: Spawn status: SpawnModel: Successfully spawned entity\n",
      "('cX,cY', 392, 300)\n",
      "[0.13791442 0.11195295 1.039815  ]\n",
      "('cX,cY', 87, 55)\n",
      "[-1.1912979  -0.91831386  2.8586478 ]\n",
      "17\n",
      "73\n",
      "[INFO] [1639498909.810515, 872.715000]: Spawn: ycb_040_large_marker\n",
      "[INFO] [1639498909.812756, 872.715000]: Spawn: [0.         0.         0.90482818 0.4257769 ]\n",
      "[INFO] [1639498909.813838, 872.715000]: Waiting for service /gazebo/spawn_sdf_model\n",
      "[INFO] [1639498909.831765, 872.718000]: Calling service /gazebo/spawn_sdf_model\n",
      "[INFO] [1639498910.055675, 872.743000]: Spawn status: SpawnModel: Successfully spawned entity\n",
      "[INFO] [1639498913.405005, 873.271000]: Spawn: ycb_040_large_marker\n",
      "[INFO] [1639498913.407155, 873.274000]: Spawn: [0.         0.         0.89802872 0.43993683]\n",
      "[INFO] [1639498913.409538, 873.274000]: Waiting for service /gazebo/spawn_sdf_model\n",
      "[INFO] [1639498913.424998, 873.275000]: Calling service /gazebo/spawn_sdf_model\n",
      "[INFO] [1639498913.617106, 873.296000]: Spawn status: SpawnModel: Successfully spawned entity\n",
      "('cX,cY', 87, 55)\n",
      "[-1.1911935  -0.91821074  2.8583748 ]\n",
      "('cX,cY', 393, 305)\n",
      "[0.1361671  0.12060758 1.0267383 ]\n",
      "73\n",
      "8\n",
      "[INFO] [1639498917.574236, 873.898000]: Spawn: ycb_040_large_marker\n",
      "[INFO] [1639498917.578609, 873.898000]: Spawn: [0.         0.         0.89100769 0.45398821]\n",
      "[INFO] [1639498917.579754, 873.899000]: Waiting for service /gazebo/spawn_sdf_model\n",
      "[INFO] [1639498917.592855, 873.901000]: Calling service /gazebo/spawn_sdf_model\n",
      "[INFO] [1639498917.784499, 873.920000]: Spawn status: SpawnModel: Successfully spawned entity\n",
      "('cX,cY', 394, 299)\n",
      "[0.14238808 0.11026916 1.045041  ]\n",
      "9\n",
      "[INFO] [1639498921.660692, 874.568000]: Spawn: ycb_040_large_marker\n",
      "[INFO] [1639498921.663058, 874.568000]: Spawn: [0.         0.         0.88376682 0.46792757]\n",
      "[INFO] [1639498921.665018, 874.577000]: Waiting for service /gazebo/spawn_sdf_model\n",
      "[INFO] [1639498921.689136, 874.587000]: Calling service /gazebo/spawn_sdf_model\n",
      "[INFO] [1639498921.905664, 874.625000]: Spawn status: SpawnModel: Successfully spawned entity\n",
      "[INFO] [1639498925.593169, 875.218000]: Spawn: ycb_040_large_marker\n",
      "[INFO] [1639498925.595577, 875.218000]: Spawn: [0.         0.         0.87630788 0.48175149]\n",
      "[INFO] [1639498925.597522, 875.219000]: Waiting for service /gazebo/spawn_sdf_model\n",
      "[INFO] [1639498925.611907, 875.221000]: Calling service /gazebo/spawn_sdf_model\n",
      "[INFO] [1639498925.878347, 875.263000]: Spawn status: SpawnModel: Successfully spawned entity\n",
      "('cX,cY', 395, 301)\n",
      "[0.14342207 0.11338561 1.0388885 ]\n",
      "5\n",
      "[INFO] [1639498930.111393, 875.938000]: Spawn: ycb_040_large_marker\n",
      "[INFO] [1639498930.114106, 875.938000]: Spawn: [0.         0.         0.86863273 0.49545653]\n",
      "[INFO] [1639498930.115476, 875.938000]: Waiting for service /gazebo/spawn_sdf_model\n",
      "[INFO] [1639498930.123859, 875.938000]: Calling service /gazebo/spawn_sdf_model\n",
      "[INFO] [1639498930.441937, 875.991000]: Spawn status: SpawnModel: Successfully spawned entity\n",
      "('cX,cY', 87, 55)\n",
      "[-1.1911993  -0.91820854  2.8583832 ]\n",
      "('cX,cY', 396, 300)\n",
      "[0.14365989 0.11247949 1.0407609 ]\n",
      "73\n",
      "0\n",
      "[INFO] [1639498934.724471, 876.675000]: Spawn: ycb_040_large_marker\n",
      "[INFO] [1639498934.727559, 876.675000]: Spawn: [0.         0.         0.86074326 0.50903933]\n",
      "[INFO] [1639498934.733552, 876.675000]: Waiting for service /gazebo/spawn_sdf_model\n",
      "[INFO] [1639498934.767003, 876.675000]: Calling service /gazebo/spawn_sdf_model\n",
      "[INFO] [1639498935.018904, 876.705000]: Spawn status: SpawnModel: Successfully spawned entity\n",
      "('cX,cY', 396, 305)\n",
      "[0.14301383 0.11968008 1.0291959 ]\n",
      "0\n",
      "[INFO] [1639498938.713534, 877.320000]: Spawn: ycb_040_large_marker\n",
      "[INFO] [1639498938.715753, 877.320000]: Spawn: [0.         0.         0.85264141 0.52249653]\n",
      "[INFO] [1639498938.716917, 877.320000]: Waiting for service /gazebo/spawn_sdf_model\n",
      "[INFO] [1639498938.732545, 877.322000]: Calling service /gazebo/spawn_sdf_model\n",
      "[INFO] [1639498938.967045, 877.348000]: Spawn status: SpawnModel: Successfully spawned entity\n",
      "('cX,cY', 397, 304)\n",
      "[0.14390488 0.11871392 1.0290207 ]\n",
      "4\n",
      "[INFO] [1639498942.538201, 877.841000]: Spawn: ycb_040_large_marker\n",
      "[INFO] [1639498942.540404, 877.841000]: Spawn: [0.         0.         0.84432919 0.53582481]\n",
      "[INFO] [1639498942.541563, 877.841000]: Waiting for service /gazebo/spawn_sdf_model\n",
      "[INFO] [1639498942.548052, 877.842000]: Calling service /gazebo/spawn_sdf_model\n",
      "[INFO] [1639498942.705728, 877.861000]: Spawn status: SpawnModel: Successfully spawned entity\n"
     ]
    },
    {
     "name": "stdout",
     "output_type": "stream",
     "text": [
      "('cX,cY', 397, 305)\n",
      "[0.14355049 0.11855682 1.02667   ]\n",
      "6\n",
      "[INFO] [1639498946.848336, 878.551000]: Spawn: ycb_040_large_marker\n",
      "[INFO] [1639498946.850399, 878.551000]: Spawn: [0.         0.         0.83580863 0.54902088]\n",
      "[INFO] [1639498946.851396, 878.551000]: Waiting for service /gazebo/spawn_sdf_model\n",
      "[INFO] [1639498946.866392, 878.558000]: Calling service /gazebo/spawn_sdf_model\n",
      "[INFO] [1639498947.242354, 878.634000]: Spawn status: SpawnModel: Successfully spawned entity\n",
      "('cX,cY', 398, 301)\n",
      "[0.1471668  0.11225822 1.0391217 ]\n",
      "6\n",
      "[INFO] [1639498951.597591, 879.302000]: Spawn: ycb_040_large_marker\n",
      "[INFO] [1639498951.601258, 879.303000]: Spawn: [0.         0.         0.82708185 0.56208149]\n",
      "[INFO] [1639498951.602896, 879.303000]: Waiting for service /gazebo/spawn_sdf_model\n",
      "[INFO] [1639498951.614100, 879.303000]: Calling service /gazebo/spawn_sdf_model\n",
      "[INFO] [1639498951.813691, 879.340000]: Spawn status: SpawnModel: Successfully spawned entity\n",
      "('cX,cY', 398, 301)\n",
      "[0.14862907 0.11240411 1.0425544 ]\n",
      "9\n",
      "[INFO] [1639498955.521015, 879.892000]: Spawn: ycb_040_large_marker\n",
      "[INFO] [1639498955.523340, 879.892000]: Spawn: [0.         0.         0.81815101 0.57500342]\n",
      "[INFO] [1639498955.525510, 879.892000]: Waiting for service /gazebo/spawn_sdf_model\n",
      "[INFO] [1639498955.537342, 879.894000]: Calling service /gazebo/spawn_sdf_model\n",
      "[INFO] [1639498955.783154, 879.920000]: Spawn status: SpawnModel: Successfully spawned entity\n",
      "('cX,cY', 398, 307)\n",
      "[0.1454309  0.12233449 1.0202397 ]\n",
      "12\n",
      "[INFO] [1639498960.268904, 880.657000]: Spawn: ycb_040_large_marker\n",
      "[INFO] [1639498960.271716, 880.658000]: Spawn: [0.         0.         0.80901829 0.58778347]\n",
      "[INFO] [1639498960.273196, 880.658000]: Waiting for service /gazebo/spawn_sdf_model\n",
      "[INFO] [1639498960.292937, 880.661000]: Calling service /gazebo/spawn_sdf_model\n",
      "[INFO] [1639498960.551689, 880.706000]: Spawn status: SpawnModel: Successfully spawned entity\n",
      "('cX,cY', 399, 301)\n",
      "[0.14922693 0.11353275 1.0338854 ]\n",
      "15\n",
      "[INFO] [1639498964.721745, 881.403000]: Spawn: ycb_040_large_marker\n",
      "[INFO] [1639498964.723560, 881.403000]: Spawn: [0.         0.         0.79968596 0.60041849]\n",
      "[INFO] [1639498964.728870, 881.403000]: Waiting for service /gazebo/spawn_sdf_model\n",
      "[INFO] [1639498964.742617, 881.405000]: Calling service /gazebo/spawn_sdf_model\n",
      "[INFO] [1639498964.953917, 881.429000]: Spawn status: SpawnModel: Successfully spawned entity\n",
      "[INFO] [1639498968.255645, 881.902000]: Spawn: ycb_040_large_marker\n",
      "[INFO] [1639498968.257797, 881.902000]: Spawn: [0.         0.         0.79015632 0.61290537]\n",
      "[INFO] [1639498968.258916, 881.902000]: Waiting for service /gazebo/spawn_sdf_model\n",
      "[INFO] [1639498968.266559, 881.902000]: Calling service /gazebo/spawn_sdf_model\n",
      "[INFO] [1639498968.464366, 881.926000]: Spawn status: SpawnModel: Successfully spawned entity\n",
      "[INFO] [1639498971.532767, 882.349000]: Spawn: ycb_040_large_marker\n",
      "[INFO] [1639498971.536542, 882.350000]: Spawn: [0.         0.         0.78043172 0.62524102]\n",
      "[INFO] [1639498971.544182, 882.351000]: Waiting for service /gazebo/spawn_sdf_model\n",
      "[INFO] [1639498971.559691, 882.354000]: Calling service /gazebo/spawn_sdf_model\n",
      "[INFO] [1639498971.827957, 882.402000]: Spawn status: SpawnModel: Successfully spawned entity\n",
      "('cX,cY', 400, 304)\n",
      "[0.15012084 0.11725944 1.0270989 ]\n",
      "22\n",
      "[INFO] [1639498976.195269, 883.085000]: Spawn: ycb_040_large_marker\n",
      "[INFO] [1639498976.197134, 883.085000]: Spawn: [0.         0.         0.77051455 0.6374224 ]\n",
      "[INFO] [1639498976.199381, 883.085000]: Waiting for service /gazebo/spawn_sdf_model\n",
      "[INFO] [1639498976.220236, 883.092000]: Calling service /gazebo/spawn_sdf_model\n",
      "[INFO] [1639498976.445042, 883.107000]: Spawn status: SpawnModel: Successfully spawned entity\n",
      "('cX,cY', 400, 305)\n",
      "[0.14975429 0.11794982 1.0246195 ]\n",
      "23\n",
      "[INFO] [1639498980.150887, 883.690000]: Spawn: ycb_040_large_marker\n",
      "[INFO] [1639498980.159545, 883.690000]: Spawn: [0.         0.         0.76040728 0.64944651]\n",
      "[INFO] [1639498980.162477, 883.690000]: Waiting for service /gazebo/spawn_sdf_model\n",
      "[INFO] [1639498980.181074, 883.699000]: Calling service /gazebo/spawn_sdf_model\n",
      "[INFO] [1639498980.380219, 883.725000]: Spawn status: SpawnModel: Successfully spawned entity\n",
      "('cX,cY', 400, 311)\n",
      "[0.1463523 0.1279321 1.0076668]\n",
      "27\n",
      "[INFO] [1639498984.512619, 884.448000]: Spawn: ycb_040_large_marker\n",
      "[INFO] [1639498984.514680, 884.448000]: Spawn: [0.         0.         0.75011238 0.66131038]\n",
      "[INFO] [1639498984.516422, 884.448000]: Waiting for service /gazebo/spawn_sdf_model\n",
      "[INFO] [1639498984.519356, 884.448000]: Calling service /gazebo/spawn_sdf_model\n",
      "[INFO] [1639498984.794410, 884.487000]: Spawn status: SpawnModel: Successfully spawned entity\n",
      "[INFO] [1639498988.127584, 885.083000]: Spawn: ycb_040_large_marker\n",
      "[INFO] [1639498988.130101, 885.083000]: Spawn: [0.         0.         0.73963241 0.67301107]\n",
      "[INFO] [1639498988.134368, 885.083000]: Waiting for service /gazebo/spawn_sdf_model\n",
      "[INFO] [1639498988.149096, 885.085000]: Calling service /gazebo/spawn_sdf_model\n",
      "[INFO] [1639498988.371183, 885.116000]: Spawn status: SpawnModel: Successfully spawned entity\n",
      "('cX,cY', 401, 304)\n",
      "[0.15111206 0.11668015 1.0213829 ]\n",
      "30\n",
      "[INFO] [1639498992.344622, 885.724000]: Spawn: ycb_040_large_marker\n",
      "[INFO] [1639498992.347148, 885.724000]: Spawn: [0.         0.         0.72896993 0.68454571]\n",
      "[INFO] [1639498992.349105, 885.724000]: Waiting for service /gazebo/spawn_sdf_model\n",
      "[INFO] [1639498992.361425, 885.725000]: Calling service /gazebo/spawn_sdf_model\n",
      "[INFO] [1639498992.526689, 885.743000]: Spawn status: SpawnModel: Successfully spawned entity\n",
      "('cX,cY', 401, 305)\n",
      "[0.15073033 0.11813209 1.0187525 ]\n",
      "32\n",
      "[INFO] [1639498996.663402, 886.338000]: Spawn: ycb_040_large_marker\n",
      "[INFO] [1639498996.665627, 886.338000]: Spawn: [0.         0.         0.7181276  0.69591145]\n",
      "[INFO] [1639498996.666884, 886.338000]: Waiting for service /gazebo/spawn_sdf_model\n",
      "[INFO] [1639498996.674472, 886.341000]: Calling service /gazebo/spawn_sdf_model\n",
      "[INFO] [1639498996.879100, 886.373000]: Spawn status: SpawnModel: Successfully spawned entity\n",
      "[INFO] [1639499000.940128, 887.047000]: Spawn: ycb_040_large_marker\n",
      "[INFO] [1639499000.943568, 887.047000]: Spawn: [0.         0.         0.70710808 0.70710548]\n",
      "[INFO] [1639499000.946565, 887.047000]: Waiting for service /gazebo/spawn_sdf_model\n",
      "[INFO] [1639499000.977628, 887.050000]: Calling service /gazebo/spawn_sdf_model\n",
      "[INFO] [1639499001.265212, 887.091000]: Spawn status: SpawnModel: Successfully spawned entity\n",
      "('cX,cY', 401, 308)\n",
      "[0.15049914 0.12164139 1.0108452 ]\n",
      "38\n",
      "[INFO] [1639499005.226052, 887.664000]: Spawn: ycb_040_large_marker\n",
      "[INFO] [1639499005.228982, 887.665000]: Spawn: [0.         0.         0.69591409 0.71812505]\n",
      "[INFO] [1639499005.233433, 887.666000]: Waiting for service /gazebo/spawn_sdf_model\n",
      "[INFO] [1639499005.252073, 887.669000]: Calling service /gazebo/spawn_sdf_model\n",
      "[INFO] [1639499005.416029, 887.693000]: Spawn status: SpawnModel: Successfully spawned entity\n",
      "[INFO] [1639499008.693798, 888.197000]: Spawn: ycb_040_large_marker\n",
      "[INFO] [1639499008.696180, 888.197000]: Spawn: [0.         0.         0.68454839 0.72896742]\n",
      "[INFO] [1639499008.700410, 888.198000]: Waiting for service /gazebo/spawn_sdf_model\n",
      "[INFO] [1639499008.717795, 888.199000]: Calling service /gazebo/spawn_sdf_model\n",
      "[INFO] [1639499008.962573, 888.221000]: Spawn status: SpawnModel: Successfully spawned entity\n",
      "[INFO] [1639499012.453989, 888.774000]: Spawn: ycb_040_large_marker\n",
      "[INFO] [1639499012.456330, 888.774000]: Spawn: [0.         0.         0.67301379 0.73962993]\n",
      "[INFO] [1639499012.457638, 888.774000]: Waiting for service /gazebo/spawn_sdf_model\n",
      "[INFO] [1639499012.483803, 888.774000]: Calling service /gazebo/spawn_sdf_model\n",
      "[INFO] [1639499012.735140, 888.802000]: Spawn status: SpawnModel: Successfully spawned entity\n",
      "('cX,cY', 401, 308)\n",
      "[0.14884713 0.12209412 1.006179  ]\n",
      "38\n",
      "[INFO] [1639499016.692495, 889.384000]: Spawn: ycb_040_large_marker\n",
      "[INFO] [1639499016.695415, 889.384000]: Spawn: [0.         0.         0.66131313 0.75010995]\n",
      "[INFO] [1639499016.696512, 889.384000]: Waiting for service /gazebo/spawn_sdf_model\n",
      "[INFO] [1639499016.706196, 889.387000]: Calling service /gazebo/spawn_sdf_model\n",
      "[INFO] [1639499016.915646, 889.406000]: Spawn status: SpawnModel: Successfully spawned entity\n"
     ]
    },
    {
     "name": "stdout",
     "output_type": "stream",
     "text": [
      "('cX,cY', 401, 315)\n",
      "[0.1459341  0.13399775 0.9925318 ]\n",
      "36\n",
      "[INFO] [1639499020.760168, 889.991000]: Spawn: ycb_040_large_marker\n",
      "[INFO] [1639499020.763446, 889.991000]: Spawn: [0.         0.         0.64944931 0.76040489]\n",
      "[INFO] [1639499020.764709, 889.992000]: Waiting for service /gazebo/spawn_sdf_model\n",
      "[INFO] [1639499020.771250, 889.993000]: Calling service /gazebo/spawn_sdf_model\n",
      "[INFO] [1639499020.836636, 889.996000]: Spawn status: SpawnModel: Successfully spawned entity\n",
      "[INFO] [1639499023.913739, 890.511000]: Spawn: ycb_040_large_marker\n",
      "[INFO] [1639499023.915967, 890.511000]: Spawn: [0.         0.         0.63742524 0.77051221]\n",
      "[INFO] [1639499023.919042, 890.511000]: Waiting for service /gazebo/spawn_sdf_model\n",
      "[INFO] [1639499023.925386, 890.511000]: Calling service /gazebo/spawn_sdf_model\n",
      "[INFO] [1639499024.202782, 890.550000]: Spawn status: SpawnModel: Successfully spawned entity\n",
      "[INFO] [1639499027.888421, 891.130000]: Spawn: ycb_040_large_marker\n",
      "[INFO] [1639499027.890795, 891.130000]: Spawn: [0.         0.         0.62524389 0.78042942]\n",
      "[INFO] [1639499027.893163, 891.131000]: Waiting for service /gazebo/spawn_sdf_model\n",
      "[INFO] [1639499027.900911, 891.131000]: Calling service /gazebo/spawn_sdf_model\n",
      "[INFO] [1639499028.178884, 891.166000]: Spawn status: SpawnModel: Successfully spawned entity\n",
      "('cX,cY', 401, 315)\n",
      "[0.14700992 0.13342413 0.99370706]\n",
      "30\n",
      "[INFO] [1639499032.133726, 891.756000]: Spawn: ycb_040_large_marker\n",
      "[INFO] [1639499032.135786, 891.756000]: Spawn: [0.         0.         0.61290827 0.79015407]\n",
      "[INFO] [1639499032.138080, 891.756000]: Waiting for service /gazebo/spawn_sdf_model\n",
      "[INFO] [1639499032.143641, 891.756000]: Calling service /gazebo/spawn_sdf_model\n",
      "[INFO] [1639499032.428841, 891.798000]: Spawn status: SpawnModel: Successfully spawned entity\n",
      "('cX,cY', 401, 314)\n",
      "[0.14800866 0.13150012 1.0003912 ]\n",
      "('cX,cY', 86, 54)\n",
      "[-1.1903569 -0.9148011  2.8493576]\n",
      "25\n",
      "74\n",
      "[INFO] [1639499036.563055, 892.479000]: Spawn: ycb_040_large_marker\n",
      "[INFO] [1639499036.565220, 892.479000]: Spawn: [0.         0.         0.60042143 0.79968375]\n",
      "[INFO] [1639499036.566328, 892.479000]: Waiting for service /gazebo/spawn_sdf_model\n",
      "[INFO] [1639499036.574822, 892.480000]: Calling service /gazebo/spawn_sdf_model\n",
      "[INFO] [1639499036.992748, 892.557000]: Spawn status: SpawnModel: Successfully spawned entity\n",
      "('cX,cY', 402, 309)\n",
      "[0.15120912 0.12528345 1.0094134 ]\n",
      "25\n",
      "[INFO] [1639499041.033138, 893.226000]: Spawn: ycb_040_large_marker\n",
      "[INFO] [1639499041.035736, 893.226000]: Spawn: [0.         0.         0.58778644 0.80901613]\n",
      "[INFO] [1639499041.038304, 893.226000]: Waiting for service /gazebo/spawn_sdf_model\n",
      "[INFO] [1639499041.059843, 893.226000]: Calling service /gazebo/spawn_sdf_model\n",
      "[INFO] [1639499041.256732, 893.262000]: Spawn status: SpawnModel: Successfully spawned entity\n",
      "[INFO] [1639499044.634262, 893.770000]: Spawn: ycb_040_large_marker\n",
      "[INFO] [1639499044.636549, 893.770000]: Spawn: [0.         0.         0.57500642 0.81814889]\n",
      "[INFO] [1639499044.640004, 893.771000]: Waiting for service /gazebo/spawn_sdf_model\n",
      "[INFO] [1639499044.654211, 893.773000]: Calling service /gazebo/spawn_sdf_model\n",
      "[INFO] [1639499044.844109, 893.784000]: Spawn status: SpawnModel: Successfully spawned entity\n",
      "('cX,cY', 401, 311)\n",
      "[0.14904001 0.12789208 1.0073975 ]\n",
      "18\n",
      "[INFO] [1639499049.421415, 894.551000]: Spawn: ycb_040_large_marker\n",
      "[INFO] [1639499049.426051, 894.552000]: Spawn: [0.         0.         0.56208453 0.82707979]\n",
      "[INFO] [1639499049.428587, 894.552000]: Waiting for service /gazebo/spawn_sdf_model\n",
      "[INFO] [1639499049.436920, 894.554000]: Calling service /gazebo/spawn_sdf_model\n",
      "[INFO] [1639499049.647808, 894.572000]: Spawn status: SpawnModel: Successfully spawned entity\n",
      "('cX,cY', 401, 312)\n",
      "[0.14842094 0.12932383 1.0032424 ]\n",
      "16\n",
      "[INFO] [1639499054.415855, 895.355000]: Spawn: ycb_040_large_marker\n",
      "[INFO] [1639499054.418934, 895.355000]: Spawn: [0.         0.         0.54902395 0.83580662]\n",
      "[INFO] [1639499054.423246, 895.356000]: Waiting for service /gazebo/spawn_sdf_model\n",
      "[INFO] [1639499054.437433, 895.358000]: Calling service /gazebo/spawn_sdf_model\n",
      "[INFO] [1639499054.644167, 895.384000]: Spawn status: SpawnModel: Successfully spawned entity\n",
      "('cX,cY', 401, 316)\n",
      "[0.14611967 0.13629562 0.9937685 ]\n",
      "('cX,cY', 86, 54)\n",
      "[-1.1903633  -0.91480595  2.8493686 ]\n",
      "12\n",
      "74\n",
      "[INFO] [1639499058.817275, 896.034000]: Spawn: ycb_040_large_marker\n",
      "[INFO] [1639499058.819621, 896.034000]: Spawn: [0.         0.         0.53582791 0.84432722]\n",
      "[INFO] [1639499058.821002, 896.034000]: Waiting for service /gazebo/spawn_sdf_model\n",
      "[INFO] [1639499058.836632, 896.036000]: Calling service /gazebo/spawn_sdf_model\n",
      "[INFO] [1639499058.981796, 896.052000]: Spawn status: SpawnModel: Successfully spawned entity\n",
      "('cX,cY', 401, 312)\n",
      "[0.14759384 0.1286233  1.003908  ]\n",
      "10\n",
      "[INFO] [1639499062.748038, 896.632000]: Spawn: ycb_040_large_marker\n",
      "[INFO] [1639499062.750139, 896.632000]: Spawn: [0.         0.         0.52249966 0.85263949]\n",
      "[INFO] [1639499062.759599, 896.633000]: Waiting for service /gazebo/spawn_sdf_model\n",
      "[INFO] [1639499062.774008, 896.636000]: Calling service /gazebo/spawn_sdf_model\n",
      "[INFO] [1639499062.907719, 896.650000]: Spawn status: SpawnModel: Successfully spawned entity\n",
      "('cX,cY', 400, 317)\n",
      "[0.14579591 0.1377691  0.99147195]\n",
      "10\n",
      "[INFO] [1639499067.898490, 897.423000]: Spawn: ycb_040_large_marker\n",
      "[INFO] [1639499067.901697, 897.423000]: Spawn: [0.         0.         0.50904249 0.86074139]\n",
      "[INFO] [1639499067.913122, 897.428000]: Waiting for service /gazebo/spawn_sdf_model\n",
      "[INFO] [1639499067.935911, 897.431000]: Calling service /gazebo/spawn_sdf_model\n",
      "[INFO] [1639499068.080351, 897.450000]: Spawn status: SpawnModel: Successfully spawned entity\n",
      "('cX,cY', 400, 317)\n",
      "[0.14432003 0.13720898 0.99382764]\n",
      "('cX,cY', 87, 55)\n",
      "[-1.1908312 -0.9178045  2.8574085]\n",
      "5\n",
      "73\n",
      "[INFO] [1639499072.657346, 898.072000]: Spawn: ycb_040_large_marker\n",
      "[INFO] [1639499072.659154, 898.072000]: Spawn: [0.         0.         0.49545972 0.86863091]\n",
      "[INFO] [1639499072.660308, 898.072000]: Waiting for service /gazebo/spawn_sdf_model\n",
      "[INFO] [1639499072.674827, 898.072000]: Calling service /gazebo/spawn_sdf_model\n",
      "[INFO] [1639499073.062611, 898.188000]: Spawn status: SpawnModel: Successfully spawned entity\n",
      "('cX,cY', 399, 322)\n",
      "[0.14128667 0.1451667  0.97908676]\n",
      "3\n",
      "[INFO] [1639499077.406546, 898.829000]: Spawn: ycb_040_large_marker\n",
      "[INFO] [1639499077.408706, 898.834000]: Spawn: [0.         0.         0.4817547  0.87630611]\n",
      "[INFO] [1639499077.409727, 898.834000]: Waiting for service /gazebo/spawn_sdf_model\n",
      "[INFO] [1639499077.421588, 898.839000]: Calling service /gazebo/spawn_sdf_model\n",
      "[INFO] [1639499077.627345, 898.867000]: Spawn status: SpawnModel: Successfully spawned entity\n",
      "[INFO] [1639499080.927969, 899.319000]: Spawn: ycb_040_large_marker\n",
      "[INFO] [1639499080.933282, 899.319000]: Spawn: [0.         0.         0.46793082 0.8837651 ]\n",
      "[INFO] [1639499080.937810, 899.320000]: Waiting for service /gazebo/spawn_sdf_model\n",
      "[INFO] [1639499080.971148, 899.324000]: Calling service /gazebo/spawn_sdf_model\n",
      "[INFO] [1639499081.196538, 899.341000]: Spawn status: SpawnModel: Successfully spawned entity\n",
      "[INFO] [1639499084.170230, 899.808000]: Spawn: ycb_040_large_marker\n",
      "[INFO] [1639499084.176173, 899.811000]: Spawn: [0.         0.         0.45399148 0.89100602]\n",
      "[INFO] [1639499084.177386, 899.811000]: Waiting for service /gazebo/spawn_sdf_model\n",
      "[INFO] [1639499084.194117, 899.819000]: Calling service /gazebo/spawn_sdf_model\n",
      "[INFO] [1639499084.321668, 899.854000]: Spawn status: SpawnModel: Successfully spawned entity\n",
      "[INFO] [1639499088.239122, 900.477000]: Spawn: ycb_040_large_marker\n",
      "[INFO] [1639499088.241105, 900.477000]: Spawn: [0.         0.         0.43994013 0.89802711]\n",
      "[INFO] [1639499088.243820, 900.477000]: Waiting for service /gazebo/spawn_sdf_model\n",
      "[INFO] [1639499088.267485, 900.482000]: Calling service /gazebo/spawn_sdf_model\n",
      "[INFO] [1639499088.447591, 900.508000]: Spawn status: SpawnModel: Successfully spawned entity\n",
      "[INFO] [1639499091.997829, 901.141000]: Spawn: ycb_040_large_marker\n",
      "[INFO] [1639499092.000709, 901.141000]: Spawn: [0.         0.         0.42578022 0.90482661]\n",
      "[INFO] [1639499092.015787, 901.141000]: Waiting for service /gazebo/spawn_sdf_model\n",
      "[INFO] [1639499092.027234, 901.141000]: Calling service /gazebo/spawn_sdf_model\n"
     ]
    },
    {
     "name": "stdout",
     "output_type": "stream",
     "text": [
      "[INFO] [1639499092.277185, 901.165000]: Spawn status: SpawnModel: Successfully spawned entity\n",
      "('cX,cY', 398, 323)\n",
      "[0.13919923 0.14591043 0.9767547 ]\n",
      "10\n",
      "[INFO] [1639499096.434742, 901.803000]: Spawn: ycb_040_large_marker\n",
      "[INFO] [1639499096.438048, 901.804000]: Spawn: [0.         0.         0.41151526 0.91140287]\n",
      "[INFO] [1639499096.439344, 901.804000]: Waiting for service /gazebo/spawn_sdf_model\n",
      "[INFO] [1639499096.445360, 901.804000]: Calling service /gazebo/spawn_sdf_model\n",
      "[INFO] [1639499096.675550, 901.831000]: Spawn status: SpawnModel: Successfully spawned entity\n",
      "[INFO] [1639499099.976501, 902.363000]: Spawn: ycb_040_large_marker\n",
      "[INFO] [1639499099.980431, 902.364000]: Spawn: [0.         0.         0.39714877 0.91775425]\n",
      "[INFO] [1639499099.981763, 902.364000]: Waiting for service /gazebo/spawn_sdf_model\n",
      "[INFO] [1639499099.994391, 902.364000]: Calling service /gazebo/spawn_sdf_model\n",
      "[INFO] [1639499100.246137, 902.388000]: Spawn status: SpawnModel: Successfully spawned entity\n",
      "('cX,cY', 397, 321)\n",
      "[0.1384125  0.14327087 0.98369735]\n",
      "16\n",
      "[INFO] [1639499105.314043, 903.278000]: Spawn: ycb_040_large_marker\n",
      "[INFO] [1639499105.316839, 903.278000]: Spawn: [0.         0.         0.38268428 0.92387918]\n",
      "[INFO] [1639499105.319589, 903.278000]: Waiting for service /gazebo/spawn_sdf_model\n",
      "[INFO] [1639499105.323109, 903.278000]: Calling service /gazebo/spawn_sdf_model\n",
      "[INFO] [1639499105.669851, 903.338000]: Spawn status: SpawnModel: Successfully spawned entity\n",
      "('cX,cY', 397, 317)\n",
      "[0.13963251 0.13735658 0.9923124 ]\n",
      "20\n",
      "[INFO] [1639499110.653760, 904.183000]: Spawn: ycb_040_large_marker\n",
      "[INFO] [1639499110.656588, 904.183000]: Spawn: [0.         0.         0.36812537 0.92977616]\n",
      "[INFO] [1639499110.658324, 904.183000]: Waiting for service /gazebo/spawn_sdf_model\n",
      "[INFO] [1639499110.666121, 904.183000]: Calling service /gazebo/spawn_sdf_model\n",
      "[INFO] [1639499110.933285, 904.207000]: Spawn status: SpawnModel: Successfully spawned entity\n",
      "[INFO] [1639499113.862628, 904.698000]: Spawn: ycb_040_large_marker\n",
      "[INFO] [1639499113.865725, 904.698000]: Spawn: [0.         0.         0.35347563 0.93544373]\n",
      "[INFO] [1639499113.873245, 904.698000]: Waiting for service /gazebo/spawn_sdf_model\n",
      "[INFO] [1639499113.887537, 904.698000]: Calling service /gazebo/spawn_sdf_model\n",
      "[INFO] [1639499114.067047, 904.730000]: Spawn status: SpawnModel: Successfully spawned entity\n",
      "('cX,cY', 397, 319)\n",
      "[0.13767098 0.14091927 0.9846293 ]\n",
      "24\n",
      "[INFO] [1639499118.411801, 905.477000]: Spawn: ycb_040_large_marker\n",
      "[INFO] [1639499118.415427, 905.477000]: Spawn: [0.         0.         0.33873868 0.9408805 ]\n",
      "[INFO] [1639499118.423375, 905.477000]: Waiting for service /gazebo/spawn_sdf_model\n",
      "[INFO] [1639499118.440369, 905.489000]: Calling service /gazebo/spawn_sdf_model\n",
      "[INFO] [1639499118.633915, 905.513000]: Spawn status: SpawnModel: Successfully spawned entity\n",
      "('cX,cY', 396, 320)\n",
      "[0.1370106  0.14194763 0.98629075]\n",
      "26\n",
      "[INFO] [1639499122.607434, 906.106000]: Spawn: ycb_040_large_marker\n",
      "[INFO] [1639499122.609262, 906.106000]: Spawn: [0.         0.         0.32391815 0.94608511]\n",
      "[INFO] [1639499122.610134, 906.106000]: Waiting for service /gazebo/spawn_sdf_model\n",
      "[INFO] [1639499122.619039, 906.107000]: Calling service /gazebo/spawn_sdf_model\n",
      "[INFO] [1639499122.791342, 906.133000]: Spawn status: SpawnModel: Successfully spawned entity\n",
      "('cX,cY', 395, 320)\n",
      "[0.13516755 0.14105284 0.98589116]\n",
      "('cX,cY', 86, 54)\n",
      "[-1.1904049 -0.9148445  2.8494925]\n",
      "29\n",
      "74\n",
      "[INFO] [1639499126.482364, 906.660000]: Spawn: ycb_040_large_marker\n",
      "[INFO] [1639499126.486629, 906.660000]: Spawn: [0.         0.         0.30901769 0.95105629]\n",
      "[INFO] [1639499126.490883, 906.660000]: Waiting for service /gazebo/spawn_sdf_model\n",
      "[INFO] [1639499126.504215, 906.660000]: Calling service /gazebo/spawn_sdf_model\n",
      "[INFO] [1639499126.765569, 906.694000]: Spawn status: SpawnModel: Successfully spawned entity\n",
      "('cX,cY', 395, 322)\n",
      "[0.1329176  0.1451971  0.97595716]\n",
      "32\n",
      "[INFO] [1639499130.727816, 907.268000]: Spawn: ycb_040_large_marker\n",
      "[INFO] [1639499130.730867, 907.268000]: Spawn: [0.         0.         0.29404099 0.95579281]\n",
      "[INFO] [1639499130.731924, 907.268000]: Waiting for service /gazebo/spawn_sdf_model\n",
      "[INFO] [1639499130.746917, 907.272000]: Calling service /gazebo/spawn_sdf_model\n",
      "[INFO] [1639499131.123887, 907.327000]: Spawn status: SpawnModel: Successfully spawned entity\n",
      "[INFO] [1639499134.668224, 907.940000]: Spawn: ycb_040_large_marker\n",
      "[INFO] [1639499134.670808, 907.940000]: Spawn: [0.         0.         0.27899174 0.9602935 ]\n",
      "[INFO] [1639499134.672759, 907.941000]: Waiting for service /gazebo/spawn_sdf_model\n",
      "[INFO] [1639499134.697540, 907.945000]: Calling service /gazebo/spawn_sdf_model\n",
      "[INFO] [1639499135.025097, 907.998000]: Spawn status: SpawnModel: Successfully spawned entity\n",
      "[INFO] [1639499138.762520, 908.530000]: Spawn: ycb_040_large_marker\n",
      "[INFO] [1639499138.764819, 908.530000]: Spawn: [0.         0.         0.26387365 0.96455725]\n",
      "[INFO] [1639499138.766310, 908.530000]: Waiting for service /gazebo/spawn_sdf_model\n",
      "[INFO] [1639499138.779062, 908.534000]: Calling service /gazebo/spawn_sdf_model\n",
      "[INFO] [1639499138.964693, 908.554000]: Spawn status: SpawnModel: Successfully spawned entity\n",
      "[INFO] [1639499142.451572, 909.113000]: Spawn: ycb_040_large_marker\n",
      "[INFO] [1639499142.453703, 909.113000]: Spawn: [0.         0.         0.24869046 0.96858301]\n",
      "[INFO] [1639499142.455918, 909.115000]: Waiting for service /gazebo/spawn_sdf_model\n",
      "[INFO] [1639499142.468399, 909.118000]: Calling service /gazebo/spawn_sdf_model\n",
      "[INFO] [1639499142.768483, 909.150000]: Spawn status: SpawnModel: Successfully spawned entity\n",
      "[INFO] [1639499146.655907, 909.705000]: Spawn: ycb_040_large_marker\n",
      "[INFO] [1639499146.657767, 909.705000]: Spawn: [0.         0.         0.2334459  0.97236979]\n",
      "[INFO] [1639499146.658801, 909.705000]: Waiting for service /gazebo/spawn_sdf_model\n",
      "[INFO] [1639499146.668375, 909.707000]: Calling service /gazebo/spawn_sdf_model\n",
      "[INFO] [1639499146.928280, 909.766000]: Spawn status: SpawnModel: Successfully spawned entity\n",
      "[INFO] [1639499150.711762, 910.320000]: Spawn: ycb_040_large_marker\n",
      "[INFO] [1639499150.716478, 910.324000]: Spawn: [0.         0.         0.21814374 0.97591665]\n",
      "[INFO] [1639499150.717923, 910.324000]: Waiting for service /gazebo/spawn_sdf_model\n",
      "[INFO] [1639499150.740147, 910.330000]: Calling service /gazebo/spawn_sdf_model\n",
      "[INFO] [1639499150.913674, 910.352000]: Spawn status: SpawnModel: Successfully spawned entity\n",
      "[INFO] [1639499154.820967, 910.923000]: Spawn: ycb_040_large_marker\n",
      "[INFO] [1639499154.830627, 910.923000]: Spawn: [0.         0.         0.20278776 0.97922271]\n",
      "[INFO] [1639499154.832024, 910.923000]: Waiting for service /gazebo/spawn_sdf_model\n",
      "[INFO] [1639499154.847192, 910.929000]: Calling service /gazebo/spawn_sdf_model\n",
      "[INFO] [1639499155.081506, 910.959000]: Spawn status: SpawnModel: Successfully spawned entity\n",
      "[INFO] [1639499159.233647, 911.559000]: Spawn: ycb_040_large_marker\n",
      "[INFO] [1639499159.239781, 911.559000]: Spawn: [0.         0.         0.18738175 0.98228717]\n",
      "[INFO] [1639499159.241213, 911.559000]: Waiting for service /gazebo/spawn_sdf_model\n",
      "[INFO] [1639499159.256624, 911.559000]: Calling service /gazebo/spawn_sdf_model\n",
      "[INFO] [1639499159.485687, 911.609000]: Spawn status: SpawnModel: Successfully spawned entity\n",
      "[INFO] [1639499163.391397, 912.141000]: Spawn: ycb_040_large_marker\n",
      "[INFO] [1639499163.393674, 912.142000]: Spawn: [0.         0.         0.1719295  0.98510926]\n",
      "[INFO] [1639499163.395158, 912.142000]: Waiting for service /gazebo/spawn_sdf_model\n",
      "[INFO] [1639499163.407944, 912.143000]: Calling service /gazebo/spawn_sdf_model\n",
      "[INFO] [1639499163.697021, 912.190000]: Spawn status: SpawnModel: Successfully spawned entity\n",
      "[INFO] [1639499168.096811, 912.791000]: Spawn: ycb_040_large_marker\n",
      "[INFO] [1639499168.098838, 912.791000]: Spawn: [0.         0.         0.15643483 0.98768828]\n",
      "[INFO] [1639499168.100915, 912.792000]: Waiting for service /gazebo/spawn_sdf_model\n",
      "[INFO] [1639499168.115358, 912.794000]: Calling service /gazebo/spawn_sdf_model\n",
      "[INFO] [1639499168.311788, 912.810000]: Spawn status: SpawnModel: Successfully spawned entity\n",
      "[INFO] [1639499172.474470, 913.443000]: Spawn: ycb_040_large_marker\n",
      "[INFO] [1639499172.477691, 913.443000]: Spawn: [0.         0.         0.14090156 0.99002361]\n",
      "[INFO] [1639499172.482614, 913.443000]: Waiting for service /gazebo/spawn_sdf_model\n",
      "[INFO] [1639499172.521840, 913.443000]: Calling service /gazebo/spawn_sdf_model\n"
     ]
    },
    {
     "name": "stdout",
     "output_type": "stream",
     "text": [
      "[INFO] [1639499172.959805, 913.518000]: Spawn status: SpawnModel: Successfully spawned entity\n",
      "[INFO] [1639499176.480736, 913.989000]: Spawn: ycb_040_large_marker\n",
      "[INFO] [1639499176.485316, 913.991000]: Spawn: [0.         0.         0.12533353 0.99211466]\n",
      "[INFO] [1639499176.488648, 913.992000]: Waiting for service /gazebo/spawn_sdf_model\n",
      "[INFO] [1639499176.499574, 913.994000]: Calling service /gazebo/spawn_sdf_model\n",
      "[INFO] [1639499176.757096, 914.054000]: Spawn status: SpawnModel: Successfully spawned entity\n",
      "[INFO] [1639499180.465556, 914.611000]: Spawn: ycb_040_large_marker\n",
      "[INFO] [1639499180.467894, 914.611000]: Spawn: [0.         0.         0.10973457 0.99396093]\n",
      "[INFO] [1639499180.469191, 914.611000]: Waiting for service /gazebo/spawn_sdf_model\n",
      "[INFO] [1639499180.472881, 914.612000]: Calling service /gazebo/spawn_sdf_model\n",
      "[INFO] [1639499180.749838, 914.645000]: Spawn status: SpawnModel: Successfully spawned entity\n",
      "[INFO] [1639499185.125324, 915.246000]: Spawn: ycb_040_large_marker\n",
      "[INFO] [1639499185.128152, 915.246000]: Spawn: [0.         0.         0.09410853 0.99556194]\n",
      "[INFO] [1639499185.129763, 915.246000]: Waiting for service /gazebo/spawn_sdf_model\n",
      "[INFO] [1639499185.149089, 915.257000]: Calling service /gazebo/spawn_sdf_model\n",
      "[INFO] [1639499185.335523, 915.284000]: Spawn status: SpawnModel: Successfully spawned entity\n",
      "[INFO] [1639499189.050508, 915.795000]: Spawn: ycb_040_large_marker\n",
      "[INFO] [1639499189.052652, 915.795000]: Spawn: [0.         0.         0.07845928 0.99691732]\n",
      "[INFO] [1639499189.054365, 915.795000]: Waiting for service /gazebo/spawn_sdf_model\n",
      "[INFO] [1639499189.091759, 915.802000]: Calling service /gazebo/spawn_sdf_model\n",
      "[INFO] [1639499189.281959, 915.831000]: Spawn status: SpawnModel: Successfully spawned entity\n",
      "[INFO] [1639499193.432578, 916.498000]: Spawn: ycb_040_large_marker\n",
      "[INFO] [1639499193.435451, 916.498000]: Spawn: [0.         0.         0.06279067 0.99802672]\n",
      "[INFO] [1639499193.436678, 916.498000]: Waiting for service /gazebo/spawn_sdf_model\n",
      "[INFO] [1639499193.443188, 916.499000]: Calling service /gazebo/spawn_sdf_model\n",
      "[INFO] [1639499193.650277, 916.521000]: Spawn status: SpawnModel: Successfully spawned entity\n",
      "[INFO] [1639499196.984599, 917.044000]: Spawn: ycb_040_large_marker\n",
      "[INFO] [1639499196.986924, 917.044000]: Spawn: [0.         0.         0.04710656 0.99888987]\n",
      "[INFO] [1639499196.989793, 917.044000]: Waiting for service /gazebo/spawn_sdf_model\n",
      "[INFO] [1639499196.998862, 917.045000]: Calling service /gazebo/spawn_sdf_model\n",
      "[INFO] [1639499197.162826, 917.061000]: Spawn status: SpawnModel: Successfully spawned entity\n",
      "[INFO] [1639499200.638160, 917.583000]: Spawn: ycb_040_large_marker\n",
      "[INFO] [1639499200.644621, 917.583000]: Spawn: [0.         0.         0.03141083 0.99950656]\n",
      "[INFO] [1639499200.646632, 917.583000]: Waiting for service /gazebo/spawn_sdf_model\n",
      "[INFO] [1639499200.657073, 917.583000]: Calling service /gazebo/spawn_sdf_model\n",
      "[INFO] [1639499200.975340, 917.635000]: Spawn status: SpawnModel: Successfully spawned entity\n",
      "[INFO] [1639499204.930944, 918.205000]: Spawn: ycb_040_large_marker\n",
      "[INFO] [1639499204.933105, 918.205000]: Spawn: [0.         0.         0.01570735 0.99987663]\n",
      "[INFO] [1639499204.934429, 918.205000]: Waiting for service /gazebo/spawn_sdf_model\n",
      "[INFO] [1639499204.942684, 918.210000]: Calling service /gazebo/spawn_sdf_model\n",
      "[INFO] [1639499205.163907, 918.236000]: Spawn status: SpawnModel: Successfully spawned entity\n"
     ]
    },
    {
     "data": {
      "image/png": "[encoded data removed]",
      "text/plain": [
       "<matplotlib.figure.Figure at 0x7efd268da990>"
      ]
     },
     "metadata": {
      "needs_background": "light"
     },
     "output_type": "display_data"
    }
   ],
   "source": [
    "num_imgs=100\n",
    "for i in range(num_imgs):\n",
    "    contador=len(os.listdir(path+'/'+obj_name))\n",
    "\n",
    "    x_gaz,y_gaz= world_2_gazebo(1.25,1.71)\n",
    "    eu_i,eu_j,eu_k = 3.1416 - i*(3.1416/num_imgs) ,0,0\n",
    "    spawn_object('spawned',objs[obj_ind], x_gaz,  y_gaz,  0.51,eu_i,eu_j,eu_k )\n",
    "    rospy.sleep(.1)\n",
    "    #res = service_client(req)\n",
    "    #cents,xyz, images=res_to_cents(res)\n",
    "    cents,xyz, images=seg_pca(lower=1000,higher=4000,plt_images=True)\n",
    "    \n",
    "\n",
    "    shapes_ratio=[]\n",
    "   \n",
    "\n",
    "    for image in images:\n",
    "        print(np.abs(image.shape[0]-image.shape[1]))\n",
    "        shapes_ratio.append(np.abs(image.shape[0]-image.shape[1]))\n",
    "    if len (images)!=0:\n",
    "        plt.imshow(images[np.argmin(shapes_ratio)])\n",
    "        contador=len(os.listdir(path+'/'+obj_name))\n",
    "        cv2.imwrite(path+obj_name+'/'+obj_name+pad_digit_num(contador,4)+'.png',cv2.cvtColor(images[np.argmin(shapes_ratio)], cv2.COLOR_BGR2RGB))\n",
    "    \n",
    "    delete_object('spawned')"
   ]
  },
  {
   "cell_type": "code",
   "execution_count": null,
   "metadata": {},
   "outputs": [
    {
     "name": "stdout",
     "output_type": "stream",
     "text": [
      "[INFO] [1639434219.697308, 3813.229000]: Spawn: ycb_040_large_marker\n",
      "[INFO] [1639434219.700051, 3813.229000]: Spawn: [-0.0000000e+00  0.0000000e+00  1.0000000e+00 -3.6732051e-06]\n",
      "[INFO] [1639434219.706843, 3813.229000]: Waiting for service /gazebo/spawn_sdf_model\n",
      "[INFO] [1639434219.723896, 3813.231000]: Calling service /gazebo/spawn_sdf_model\n",
      "[INFO] [1639434220.086576, 3813.252000]: Spawn status: SpawnModel: Successfully spawned entity\n",
      "('Plane', 0, 'has', 1, 'objects')\n",
      "('Plane', 1, 'has', 0, 'objects')\n",
      "[array([0.08416359, 0.18379717, 0.92941295])]\n",
      "58\n",
      "[INFO] [1639434228.933812, 3814.101000]: Spawn: ycb_040_large_marker\n",
      "[INFO] [1639434228.940371, 3814.102000]: Spawn: [0.         0.         0.99987669 0.01570368]\n",
      "[INFO] [1639434228.942337, 3814.102000]: Waiting for service /gazebo/spawn_sdf_model\n",
      "[INFO] [1639434228.965386, 3814.102000]: Calling service /gazebo/spawn_sdf_model\n",
      "[INFO] [1639434229.126474, 3814.116000]: Spawn status: SpawnModel: Successfully spawned entity\n",
      "('Plane', 0, 'has', 1, 'objects')\n",
      "('Plane', 1, 'has', 0, 'objects')\n",
      "[array([0.08690377, 0.18450393, 0.92795384])]\n",
      "62\n",
      "[INFO] [1639434239.849779, 3815.104000]: Spawn: ycb_040_large_marker\n",
      "[INFO] [1639434239.854211, 3815.104000]: Spawn: [0.         0.         0.99950667 0.03140716]\n",
      "[INFO] [1639434239.855582, 3815.110000]: Waiting for service /gazebo/spawn_sdf_model\n",
      "[INFO] [1639434239.867322, 3815.111000]: Calling service /gazebo/spawn_sdf_model\n",
      "[INFO] [1639434240.157525, 3815.136000]: Spawn status: SpawnModel: Successfully spawned entity\n",
      "('Plane', 0, 'has', 1, 'objects')\n",
      "('Plane', 1, 'has', 0, 'objects')\n",
      "[array([0.08641528, 0.18401059, 0.92888453])]\n",
      "58\n",
      "[INFO] [1639434250.996518, 3816.133000]: Spawn: ycb_040_large_marker\n",
      "[INFO] [1639434250.999734, 3816.134000]: Spawn: [0.         0.         0.99889004 0.04710289]\n",
      "[INFO] [1639434251.001195, 3816.134000]: Waiting for service /gazebo/spawn_sdf_model\n",
      "[INFO] [1639434251.007460, 3816.135000]: Calling service /gazebo/spawn_sdf_model\n",
      "[INFO] [1639434251.305102, 3816.154000]: Spawn status: SpawnModel: Successfully spawned entity\n",
      "('Plane', 0, 'has', 0, 'objects')\n",
      "('Plane', 1, 'has', 0, 'objects')\n",
      "[]\n",
      "[INFO] [1639434262.210846, 3817.104000]: Spawn: ycb_040_large_marker\n",
      "[INFO] [1639434262.214912, 3817.104000]: Spawn: [0.         0.         0.99802695 0.062787  ]\n",
      "[INFO] [1639434262.216349, 3817.104000]: Waiting for service /gazebo/spawn_sdf_model\n",
      "[INFO] [1639434262.229272, 3817.104000]: Calling service /gazebo/spawn_sdf_model\n",
      "[INFO] [1639434262.412619, 3817.116000]: Spawn status: SpawnModel: Successfully spawned entity\n",
      "('Plane', 0, 'has', 0, 'objects')\n",
      "('Plane', 1, 'has', 0, 'objects')\n",
      "[]\n",
      "[INFO] [1639434273.818383, 3818.172000]: Spawn: ycb_040_large_marker\n",
      "[INFO] [1639434273.820993, 3818.172000]: Spawn: [0.         0.         0.99691761 0.07845562]\n",
      "[INFO] [1639434273.822288, 3818.172000]: Waiting for service /gazebo/spawn_sdf_model\n",
      "[INFO] [1639434273.828003, 3818.173000]: Calling service /gazebo/spawn_sdf_model\n",
      "[INFO] [1639434274.080528, 3818.206000]: Spawn status: SpawnModel: Successfully spawned entity\n",
      "('Plane', 0, 'has', 1, 'objects')\n",
      "('Plane', 1, 'has', 0, 'objects')\n",
      "[array([0.09134084, 0.18439485, 0.92821057])]\n",
      "54\n",
      "[INFO] [1639434286.445551, 3819.201000]: Spawn: ycb_040_large_marker\n",
      "[INFO] [1639434286.448139, 3819.201000]: Spawn: [0.         0.         0.99556229 0.09410488]\n",
      "[INFO] [1639434286.450084, 3819.201000]: Waiting for service /gazebo/spawn_sdf_model\n",
      "[INFO] [1639434286.462123, 3819.201000]: Calling service /gazebo/spawn_sdf_model\n",
      "[INFO] [1639434286.716111, 3819.217000]: Spawn status: SpawnModel: Successfully spawned entity\n",
      "('Plane', 0, 'has', 1, 'objects')\n",
      "('Plane', 1, 'has', 0, 'objects')\n",
      "[array([0.09122501, 0.18365288, 0.92957472])]\n",
      "54\n",
      "[INFO] [1639434298.113674, 3820.233000]: Spawn: ycb_040_large_marker\n",
      "[INFO] [1639434298.115964, 3820.233000]: Spawn: [0.         0.         0.99396133 0.10973092]\n",
      "[INFO] [1639434298.117844, 3820.233000]: Waiting for service /gazebo/spawn_sdf_model\n",
      "[INFO] [1639434298.130770, 3820.235000]: Calling service /gazebo/spawn_sdf_model\n",
      "[INFO] [1639434298.421301, 3820.254000]: Spawn status: SpawnModel: Successfully spawned entity\n",
      "('Plane', 0, 'has', 0, 'objects')\n",
      "('Plane', 1, 'has', 0, 'objects')\n",
      "[]\n",
      "[INFO] [1639434310.491382, 3821.241000]: Spawn: ycb_040_large_marker\n",
      "[INFO] [1639434310.519793, 3821.242000]: Spawn: [0.         0.         0.99211512 0.12532988]\n",
      "[INFO] [1639434310.521175, 3821.242000]: Waiting for service /gazebo/spawn_sdf_model\n",
      "[INFO] [1639434310.541415, 3821.245000]: Calling service /gazebo/spawn_sdf_model\n",
      "[INFO] [1639434310.716510, 3821.247000]: Spawn status: SpawnModel: Successfully spawned entity\n",
      "('Plane', 0, 'has', 1, 'objects')\n",
      "('Plane', 1, 'has', 0, 'objects')\n",
      "[array([0.09298449, 0.18475007, 0.92772373])]\n",
      "51\n",
      "[INFO] [1639434324.305303, 3822.306000]: Spawn: ycb_040_large_marker\n",
      "[INFO] [1639434324.309490, 3822.307000]: Spawn: [0.         0.         0.99002413 0.14089792]\n",
      "[INFO] [1639434324.314115, 3822.308000]: Waiting for service /gazebo/spawn_sdf_model\n",
      "[INFO] [1639434324.332755, 3822.311000]: Calling service /gazebo/spawn_sdf_model\n",
      "[INFO] [1639434324.668911, 3822.337000]: Spawn status: SpawnModel: Successfully spawned entity\n",
      "('Plane', 0, 'has', 0, 'objects')\n",
      "('Plane', 1, 'has', 0, 'objects')\n",
      "[]\n",
      "[INFO] [1639434335.311303, 3823.259000]: Spawn: ycb_040_large_marker\n",
      "[INFO] [1639434335.314332, 3823.260000]: Spawn: [0.         0.         0.98768886 0.1564312 ]\n",
      "[INFO] [1639434335.315852, 3823.260000]: Waiting for service /gazebo/spawn_sdf_model\n",
      "[INFO] [1639434335.328861, 3823.262000]: Calling service /gazebo/spawn_sdf_model\n",
      "[INFO] [1639434335.611433, 3823.288000]: Spawn status: SpawnModel: Successfully spawned entity\n",
      "('Plane', 0, 'has', 1, 'objects')\n",
      "('Plane', 1, 'has', 0, 'objects')\n",
      "[array([0.09637578, 0.18483625, 0.92747529])]\n",
      "49\n",
      "[INFO] [1639434347.414687, 3824.287000]: Spawn: ycb_040_large_marker\n",
      "[INFO] [1639434347.423820, 3824.288000]: Spawn: [0.         0.         0.98510989 0.17192588]\n",
      "[INFO] [1639434347.425834, 3824.288000]: Waiting for service /gazebo/spawn_sdf_model\n",
      "[INFO] [1639434347.432115, 3824.288000]: Calling service /gazebo/spawn_sdf_model\n",
      "[INFO] [1639434347.752722, 3824.305000]: Spawn status: SpawnModel: Successfully spawned entity\n",
      "('Plane', 0, 'has', 0, 'objects')\n",
      "('Plane', 1, 'has', 0, 'objects')\n",
      "[]\n",
      "[INFO] [1639434360.166075, 3825.264000]: Spawn: ycb_040_large_marker\n",
      "[INFO] [1639434360.169066, 3825.264000]: Spawn: [0.         0.         0.98228786 0.18737814]\n",
      "[INFO] [1639434360.174904, 3825.265000]: Waiting for service /gazebo/spawn_sdf_model\n",
      "[INFO] [1639434360.184192, 3825.265000]: Calling service /gazebo/spawn_sdf_model\n",
      "[INFO] [1639434360.446750, 3825.275000]: Spawn status: SpawnModel: Successfully spawned entity\n",
      "('Plane', 0, 'has', 0, 'objects')\n",
      "('Plane', 1, 'has', 0, 'objects')\n",
      "[]\n",
      "[INFO] [1639434370.894692, 3826.285000]: Spawn: ycb_040_large_marker\n",
      "[INFO] [1639434370.897200, 3826.285000]: Spawn: [0.         0.         0.97922346 0.20278417]\n",
      "[INFO] [1639434370.899251, 3826.285000]: Waiting for service /gazebo/spawn_sdf_model\n",
      "[INFO] [1639434370.909242, 3826.285000]: Calling service /gazebo/spawn_sdf_model\n",
      "[INFO] [1639434371.225477, 3826.305000]: Spawn status: SpawnModel: Successfully spawned entity\n",
      "('Plane', 0, 'has', 1, 'objects')\n",
      "('Plane', 1, 'has', 0, 'objects')\n",
      "[array([0.0982648 , 0.18458053, 0.92823611])]\n",
      "43\n",
      "[INFO] [1639434383.506475, 3827.328000]: Spawn: ycb_040_large_marker\n",
      "[INFO] [1639434383.512800, 3827.329000]: Spawn: [0.         0.         0.97591745 0.21814016]\n",
      "[INFO] [1639434383.513960, 3827.329000]: Waiting for service /gazebo/spawn_sdf_model\n",
      "[INFO] [1639434383.527038, 3827.331000]: Calling service /gazebo/spawn_sdf_model\n",
      "[INFO] [1639434383.789127, 3827.351000]: Spawn status: SpawnModel: Successfully spawned entity\n",
      "('Plane', 0, 'has', 0, 'objects')\n",
      "('Plane', 1, 'has', 0, 'objects')\n",
      "[]\n",
      "[INFO] [1639434394.794557, 3828.307000]: Spawn: ycb_040_large_marker\n",
      "[INFO] [1639434394.797340, 3828.307000]: Spawn: [0.         0.         0.97237065 0.23344233]\n",
      "[INFO] [1639434394.798841, 3828.307000]: Waiting for service /gazebo/spawn_sdf_model\n",
      "[INFO] [1639434394.843535, 3828.309000]: Calling service /gazebo/spawn_sdf_model\n",
      "[INFO] [1639434394.950156, 3828.315000]: Spawn status: SpawnModel: Successfully spawned entity\n"
     ]
    },
    {
     "name": "stdout",
     "output_type": "stream",
     "text": [
      "('Plane', 0, 'has', 0, 'objects')\n",
      "('Plane', 1, 'has', 0, 'objects')\n",
      "[]\n",
      "[INFO] [1639434407.163180, 3829.351000]: Spawn: ycb_040_large_marker\n",
      "[INFO] [1639434407.165300, 3829.351000]: Spawn: [0.         0.         0.96858393 0.2486869 ]\n",
      "[INFO] [1639434407.168639, 3829.352000]: Waiting for service /gazebo/spawn_sdf_model\n",
      "[INFO] [1639434407.183302, 3829.353000]: Calling service /gazebo/spawn_sdf_model\n",
      "[INFO] [1639434407.459914, 3829.370000]: Spawn status: SpawnModel: Successfully spawned entity\n",
      "('Plane', 0, 'has', 0, 'objects')\n",
      "('Plane', 1, 'has', 0, 'objects')\n",
      "[]\n",
      "[INFO] [1639434420.382290, 3830.393000]: Spawn: ycb_040_large_marker\n",
      "[INFO] [1639434420.384502, 3830.393000]: Spawn: [0.         0.         0.96455822 0.26387011]\n",
      "[INFO] [1639434420.385992, 3830.393000]: Waiting for service /gazebo/spawn_sdf_model\n",
      "[INFO] [1639434420.393548, 3830.393000]: Calling service /gazebo/spawn_sdf_model\n",
      "[INFO] [1639434420.612334, 3830.414000]: Spawn status: SpawnModel: Successfully spawned entity\n"
     ]
    }
   ],
   "source": [
    "num_imgs=100\n",
    "for i in range(num_imgs):\n",
    "    contador=len(os.listdir(path+'/'+obj_name))\n",
    "\n",
    "    x_gaz,y_gaz= world_2_gazebo(1.25,1.71)\n",
    "    eu_i,eu_j,eu_k = 3.1416 - i*(3.1416/num_imgs) ,0,0\n",
    "    spawn_object('spawned',objs[obj_ind], x_gaz,  y_gaz,  0.53,eu_i,eu_j,eu_k )\n",
    "    rospy.sleep(.1)\n",
    "    res = service_client(req)\n",
    "    cents,xyz, images=res_to_cents(res)\n",
    "    shapes_ratio=[]\n",
    "    \n",
    "    \n",
    "    for image in images:\n",
    "        print(np.abs(image.shape[0]-image.shape[1]))\n",
    "        shapes_ratio.append(np.abs(image.shape[0]-image.shape[1]))\n",
    "    if len(images)!=0:\n",
    "        plt.imshow(images[np.argmin(shapes_ratio)])\n",
    "        contador=len(os.listdir(path+'/'+obj_name))\n",
    "        cv2.imwrite(path+obj_name+'/'+obj_name+pad_digit_num(contador,4)+'.png',cv2.cvtColor(images[np.argmin(shapes_ratio)], cv2.COLOR_BGR2RGB))\n",
    "    \n",
    "    delete_object('spawned')"
   ]
  },
  {
   "cell_type": "markdown",
   "metadata": {},
   "source": []
  },
  {
   "cell_type": "code",
   "execution_count": 87,
   "metadata": {},
   "outputs": [
    {
     "name": "stdout",
     "output_type": "stream",
     "text": [
      "('Plane', 0, 'has', 2, 'objects')\n",
      "('Plane', 1, 'has', 1, 'objects')\n",
      "[array([-0.2772519 ,  0.23893867,  0.84951975]), array([0.10626701, 0.34888642, 0.86449317]), array([0.10603612, 0.09624477, 0.81212775])]\n"
     ]
    },
    {
     "data": {
      "image/png": "[encoded data removed]",
      "text/plain": [
       "<matplotlib.figure.Figure at 0x7f2a625d2990>"
      ]
     },
     "metadata": {
      "needs_background": "light"
     },
     "output_type": "display_data"
    }
   ],
   "source": [
    "\n",
    "res = service_client(req)\n",
    "cents,xyz, images=res_to_cents(res,plt_images=True)\n",
    "#static_tf_publish(cents)\n",
    "#move_base(1.1,1.3,np.pi)"
   ]
  },
  {
   "cell_type": "code",
   "execution_count": 88,
   "metadata": {},
   "outputs": [
    {
     "name": "stdout",
     "output_type": "stream",
     "text": [
      "250\n",
      "270\n",
      "77\n"
     ]
    }
   ],
   "source": [
    "shapes_ratio=[]\n",
    "for image in images:\n",
    "    print(np.abs(image.shape[0]-image.shape[1]))\n",
    "    shapes_ratio.append(np.abs(image.shape[0]-image.shape[1]))"
   ]
  },
  {
   "cell_type": "code",
   "execution_count": 89,
   "metadata": {},
   "outputs": [
    {
     "data": {
      "image/png": "[encoded data removed]",
      "text/plain": [
       "<matplotlib.figure.Figure at 0x7f2a1f161890>"
      ]
     },
     "metadata": {
      "needs_background": "light"
     },
     "output_type": "display_data"
    }
   ],
   "source": [
    "plt.imshow(images[np.argmin(shapes_ratio)])\n",
    "contador=len(os.listdir(path+'/'+obj_name))\n",
    "cv2.imwrite(path+obj_name+'/'+obj_name+pad_digit_num(contador,4)+'.png',cv2.cvtColor(images[np.argmin(shapes_ratio)], cv2.COLOR_BGR2RGB))\n",
    "delete_object('spawned')"
   ]
  },
  {
   "cell_type": "code",
   "execution_count": 84,
   "metadata": {},
   "outputs": [
    {
     "name": "stdout",
     "output_type": "stream",
     "text": [
      "('cX,cY', 147, 465)\n",
      "[-0.2088794   0.45378765  1.1423471 ]\n",
      "('cX,cY', 632, 463)\n",
      "[0.671188   0.47392997 1.1998048 ]\n",
      "('cX,cY', 300, 429)\n",
      "[-0.08252022  0.3785833   1.1001376 ]\n",
      "('cX,cY', 388, 302)\n",
      "[0.11613703 0.10026138 0.9211477 ]\n",
      "('cX,cY', 370, 120)\n",
      "[ 0.36192173 -0.72074103  3.268955  ]\n",
      "('cX,cY', 385, 42)\n",
      "[ 0.41858223 -1.3087462   3.7992365 ]\n",
      "('cX,cY', 26, 51)\n",
      "[-1.6434754 -1.0098072  3.1469066]\n"
     ]
    },
    {
     "data": {
      "image/png": "[encoded data removed]",
      "text/plain": [
       "<matplotlib.figure.Figure at 0x7f2a1eede110>"
      ]
     },
     "metadata": {
      "needs_background": "light"
     },
     "output_type": "display_data"
    }
   ],
   "source": [
    "#cents,xyz,images=seg_pca(lower=100,higher=40000,plt_images=True)\n"
   ]
  },
  {
   "cell_type": "code",
   "execution_count": 76,
   "metadata": {},
   "outputs": [],
   "source": []
  },
  {
   "cell_type": "code",
   "execution_count": 65,
   "metadata": {},
   "outputs": [
    {
     "ename": "AttributeError",
     "evalue": "'MoveGroupCommander' object has no attribute 'set_named_targeta'",
     "output_type": "error",
     "traceback": [
      "\u001b[0;31m---------------------------------------------------------------------------\u001b[0m",
      "\u001b[0;31mAttributeError\u001b[0m                            Traceback (most recent call last)",
      "\u001b[0;32m<ipython-input-65-086e1c4bcec8>\u001b[0m in \u001b[0;36m<module>\u001b[0;34m()\u001b[0m\n\u001b[1;32m      1\u001b[0m \u001b[0marm\u001b[0m\u001b[0;34m.\u001b[0m\u001b[0mset_named_target\u001b[0m\u001b[0;34m(\u001b[0m\u001b[0;34m'go'\u001b[0m\u001b[0;34m)\u001b[0m\u001b[0;34m\u001b[0m\u001b[0m\n\u001b[1;32m      2\u001b[0m \u001b[0marm\u001b[0m\u001b[0;34m.\u001b[0m\u001b[0mgo\u001b[0m\u001b[0;34m(\u001b[0m\u001b[0;34m)\u001b[0m\u001b[0;34m\u001b[0m\u001b[0m\n\u001b[0;32m----> 3\u001b[0;31m \u001b[0mhead\u001b[0m\u001b[0;34m.\u001b[0m\u001b[0mset_named_targeta\u001b[0m\u001b[0;34m(\u001b[0m\u001b[0;34m'neutral'\u001b[0m\u001b[0;34m)\u001b[0m\u001b[0;34m\u001b[0m\u001b[0m\n\u001b[0m\u001b[1;32m      4\u001b[0m \u001b[0mhead\u001b[0m\u001b[0;34m.\u001b[0m\u001b[0mgo\u001b[0m\u001b[0;34m(\u001b[0m\u001b[0;34m)\u001b[0m\u001b[0;34m\u001b[0m\u001b[0m\n",
      "\u001b[0;31mAttributeError\u001b[0m: 'MoveGroupCommander' object has no attribute 'set_named_targeta'"
     ]
    }
   ],
   "source": [
    "arm.set_named_target('go')\n",
    "arm.go()\n",
    "head.set_named_targeta('neutral')\n",
    "head.go()"
   ]
  },
  {
   "cell_type": "code",
   "execution_count": 108,
   "metadata": {},
   "outputs": [
    {
     "name": "stdout",
     "output_type": "stream",
     "text": [
      "[Errno 17] File exists: '/home/oscar/Videos/videos_to_keras_train/002masterchefcan'\n"
     ]
    }
   ],
   "source": [
    "path='/home/oscar/Videos/videos_to_keras_train/'\n",
    "\n",
    "objs[15].split('_')[1:]\n",
    "obj_name = ''.join(objs[15].split('_')[1:])\n",
    "obj_name\n",
    "try: \n",
    "    os.mkdir(path+obj_name) \n",
    "except OSError as error: \n",
    "    print(error)  \n"
   ]
  },
  {
   "cell_type": "code",
   "execution_count": null,
   "metadata": {},
   "outputs": [],
   "source": []
  },
  {
   "cell_type": "code",
   "execution_count": 110,
   "metadata": {},
   "outputs": [
    {
     "data": {
      "text/plain": [
       "True"
      ]
     },
     "execution_count": 110,
     "metadata": {},
     "output_type": "execute_result"
    },
    {
     "data": {
      "image/png": "[encoded data removed]",
      "text/plain": [
       "<matplotlib.figure.Figure at 0x7f2a21720410>"
      ]
     },
     "metadata": {
      "needs_background": "light"
     },
     "output_type": "display_data"
    }
   ],
   "source": [
    "plt.imshow(images[0])\n",
    "contador=len(os.listdir(path+'/'+obj_name))\n",
    "\n",
    "cv2.imwrite(path+obj_name+'/'+obj_name+pad_digit_num(contador,4)+'.png',cv2.cvtColor(images[0], cv2.COLOR_BGR2RGB))"
   ]
  },
  {
   "cell_type": "code",
   "execution_count": 77,
   "metadata": {},
   "outputs": [],
   "source": [
    "\n",
    "def pad_digit_num(num,length):\n",
    "    text_num=''\n",
    "    for i in range(length -len(str(num))):\n",
    "        text_num=text_num+'0'\n",
    "    return(text_num+str(num))\n"
   ]
  },
  {
   "cell_type": "code",
   "execution_count": 79,
   "metadata": {},
   "outputs": [
    {
     "name": "stdout",
     "output_type": "stream",
     "text": [
      "[INFO] [1639176405.867521, 382.221000]: Spawn: ycb_002_master_chef_can\n",
      "[INFO] [1639176405.871339, 382.221000]: Spawn: [0.         0.         0.84147098 0.54030231]\n",
      "[INFO] [1639176405.877488, 382.221000]: Waiting for service /gazebo/spawn_sdf_model\n",
      "[INFO] [1639176405.892504, 382.235000]: Calling service /gazebo/spawn_sdf_model\n",
      "[INFO] [1639176406.261470, 382.287000]: Spawn status: SpawnModel: Successfully spawned entity\n"
     ]
    }
   ],
   "source": [
    "contador=len(os.listdir(path+'/'+obj_name))\n",
    "x_gaz,y_gaz= world_2_gazebo(1.5,1.61)\n",
    "eu_i,eu_j,eu_k = 2,0.0,0.0\n",
    "spawn_object('spawned',objs[15], x_gaz,  y_gaz,  0.51,eu_i,eu_j,eu_k )\n",
    "\n",
    "cv2.imwrite(path+obj_name+'/'+obj_name+pad_digit_num(contador,4)+'.png',cv2.cvtColor(images[1], cv2.COLOR_BGR2RGB))\n",
    "delete_object('spawned')"
   ]
  },
  {
   "cell_type": "code",
   "execution_count": 111,
   "metadata": {},
   "outputs": [
    {
     "data": {
      "text/plain": [
       "[array([-0.48997826,  0.47688341, -0.33030321,  0.65069448]),\n",
       " array([-0.16005207, -0.64494008, -0.18783798,  0.72329283]),\n",
       " array([-0.40752737,  0.91122733, -0.05654474,  0.01972043])]"
      ]
     },
     "execution_count": 111,
     "metadata": {},
     "output_type": "execute_result"
    }
   ],
   "source": []
  },
  {
   "cell_type": "code",
   "execution_count": 26,
   "metadata": {},
   "outputs": [
    {
     "ename": "NameError",
     "evalue": "name 'objs_depth_centroids' is not defined",
     "output_type": "error",
     "traceback": [
      "\u001b[0;31m---------------------------------------------------------------------------\u001b[0m",
      "\u001b[0;31mNameError\u001b[0m                                 Traceback (most recent call last)",
      "\u001b[0;32m<ipython-input-26-53a8d114347b>\u001b[0m in \u001b[0;36m<module>\u001b[0;34m()\u001b[0m\n\u001b[1;32m      2\u001b[0m \u001b[0;31m#quats= pca_xyz(xyz)\u001b[0m\u001b[0;34m\u001b[0m\u001b[0;34m\u001b[0m\u001b[0m\n\u001b[1;32m      3\u001b[0m \u001b[0;34m\u001b[0m\u001b[0m\n\u001b[0;32m----> 4\u001b[0;31m \u001b[0mcents\u001b[0m\u001b[0;34m=\u001b[0m \u001b[0mobjs_depth_centroids\u001b[0m\u001b[0;34m\u001b[0m\u001b[0m\n\u001b[0m\u001b[1;32m      5\u001b[0m \u001b[0mstatic_tf_publish\u001b[0m\u001b[0;34m(\u001b[0m\u001b[0mcents\u001b[0m\u001b[0;34m,\u001b[0m\u001b[0mquats\u001b[0m\u001b[0;34m)\u001b[0m\u001b[0;34m\u001b[0m\u001b[0m\n",
      "\u001b[0;31mNameError\u001b[0m: name 'objs_depth_centroids' is not defined"
     ]
    }
   ],
   "source": [
    "#cents, xyz=seg_pca()\n",
    "#quats= pca_xyz(xyz)\n",
    "\n",
    "cents= objs_depth_centroids\n",
    "static_tf_publish(cents,quats)"
   ]
  },
  {
   "cell_type": "code",
   "execution_count": 76,
   "metadata": {},
   "outputs": [
    {
     "name": "stdout",
     "output_type": "stream",
     "text": [
      "('cX,cY', 73, 470)\n",
      "[-0.38657558  0.40541616  0.98836577]\n",
      "('cX,cY', 208, 439)\n",
      "[-0.20475249  0.3305767   0.910819  ]\n",
      "('cX,cY', 545, 430)\n",
      "[0.46011162 0.37007445 1.1287674 ]\n",
      "('cX,cY', 318, 326)\n",
      "[-0.00164222  0.09490793  0.608489  ]\n",
      "('cX,cY', 344, 50)\n",
      "[ 0.15221651 -1.0081769   2.898817  ]\n",
      "('cX,cY', 520, 9)\n",
      "[ 1.2383422 -1.4023637  3.4012706]\n",
      "('images[]', 0)\n",
      "('images[]', 1)\n",
      "('images[]', 2)\n",
      "('images[]', 4)\n",
      "('images[]', 5)\n"
     ]
    },
    {
     "data": {
      "text/plain": [
       "True"
      ]
     },
     "execution_count": 76,
     "metadata": {},
     "output_type": "execute_result"
    }
   ],
   "source": [
    "centroids,xyz, images=seg_pca()\n",
    "quats= pca_xyz(xyz)\n",
    "static_tf_publish(centroids,quats)"
   ]
  },
  {
   "cell_type": "code",
   "execution_count": 77,
   "metadata": {},
   "outputs": [
    {
     "data": {
      "image/png": "[encoded data removed]",
      "text/plain": [
       "<matplotlib.figure.Figure at 0x7f3745430a90>"
      ]
     },
     "metadata": {
      "needs_background": "light"
     },
     "output_type": "display_data"
    }
   ],
   "source": [
    "sub_plt=0\n",
    "for image in images:\n",
    "    \n",
    "    sub_plt+=1\n",
    "    ax = plt.subplot(5, 5, sub_plt )\n",
    "    \n",
    "    plt.imshow(image)\n",
    "    plt.axis(\"off\")\n",
    "\n",
    "        "
   ]
  },
  {
   "cell_type": "code",
   "execution_count": 113,
   "metadata": {},
   "outputs": [],
   "source": [
    "delete_object('spawned')"
   ]
  },
  {
   "cell_type": "code",
   "execution_count": null,
   "metadata": {},
   "outputs": [],
   "source": []
  },
  {
   "cell_type": "code",
   "execution_count": null,
   "metadata": {},
   "outputs": [],
   "source": [
    "tf.transformations.quaternion_from_euler(eu_i,eu_j,eu_k)"
   ]
  },
  {
   "cell_type": "code",
   "execution_count": 67,
   "metadata": {},
   "outputs": [
    {
     "name": "stdout",
     "output_type": "stream",
     "text": [
      "('i am at', [1.504013154042386, 1.0881122082471295, 0.9671971453120808], 91.18959144177308)\n",
      "('gaze goal', 1.45, 1.7, 0.51)\n",
      "('relative to robot', (0.05401315404238605, -0.6118877917528704, -84.95540681911935))\n"
     ]
    },
    {
     "data": {
      "text/plain": [
       "True"
      ]
     },
     "execution_count": 67,
     "metadata": {},
     "output_type": "execute_result"
    }
   ],
   "source": [
    "gaze_point( 1.45,1.7,  0.51)\n",
    "arm.set_named_target('go')\n",
    "arm.go()"
   ]
  },
  {
   "cell_type": "code",
   "execution_count": 68,
   "metadata": {},
   "outputs": [
    {
     "data": {
      "text/plain": [
       "<matplotlib.image.AxesImage at 0x7f3745840110>"
      ]
     },
     "execution_count": 68,
     "metadata": {},
     "output_type": "execute_result"
    },
    {
     "data": {
      "image/png": "[encoded data removed]",
      "text/plain": [
       "<matplotlib.figure.Figure at 0x7f374589a750>"
      ]
     },
     "metadata": {
      "needs_background": "light"
     },
     "output_type": "display_data"
    }
   ],
   "source": [
    "plt.imshow (rgbd.get_image())"
   ]
  },
  {
   "cell_type": "code",
   "execution_count": 70,
   "metadata": {},
   "outputs": [
    {
     "name": "stdout",
     "output_type": "stream",
     "text": [
      "('cX,cY', 76, 470)\n",
      "[-0.3889382   0.40851146  0.9961041 ]\n",
      "('cX,cY', 208, 438)\n",
      "[-0.20423812  0.32901195  0.9134121 ]\n",
      "('cX,cY', 545, 430)\n",
      "[0.46086848 0.36852357 1.1306168 ]\n",
      "('cX,cY', 319, 325)\n",
      "[-5.3649477e-04  9.3556471e-02  6.1028546e-01]\n",
      "('cX,cY', 302, 237)\n",
      "[0.02285562 0.02727817 0.94996685]\n",
      "('cX,cY', 343, 50)\n",
      "[ 0.15232696 -1.0072949   2.8953772 ]\n",
      "('cX,cY', 518, 8)\n",
      "[ 1.2572143 -1.4013929  3.398889 ]\n"
     ]
    },
    {
     "data": {
      "image/png": "[encoded data removed]",
      "text/plain": [
       "<matplotlib.figure.Figure at 0x7f37031f3810>"
      ]
     },
     "metadata": {
      "needs_background": "light"
     },
     "output_type": "display_data"
    }
   ],
   "source": [
    "cents,xyz,images=seg_pca(lower=1000,higher=500000,plt_images=True)"
   ]
  },
  {
   "cell_type": "code",
   "execution_count": 71,
   "metadata": {},
   "outputs": [],
   "source": [
    "res = service_client(req)"
   ]
  },
  {
   "cell_type": "code",
   "execution_count": 72,
   "metadata": {},
   "outputs": [
    {
     "name": "stdout",
     "output_type": "stream",
     "text": [
      "('Plane', 0, 'has', 1, 'objects')\n",
      "('Plane', 1, 'has', 0, 'objects')\n",
      "('Plane', 2, 'has', 1, 'objects')\n",
      "('Plane', 3, 'has', 0, 'objects')\n",
      "[array([3.56465416e-05, 1.00570345e-01, 6.18601648e-01]), array([-0.14591429,  0.28734213,  0.73829112])]\n"
     ]
    },
    {
     "data": {
      "text/plain": [
       "(array([[ 3.56465416e-05,  1.00570345e-01,  6.18601648e-01],\n",
       "        [-1.45914289e-01,  2.87342130e-01,  7.38291115e-01]]),\n",
       " array([array([[-0.00875298,  0.06010379,  0.64700001],\n",
       "        [-0.00641885,  0.06010379,  0.64700001],\n",
       "        [-0.00873945,  0.06117615,  0.64600003],\n",
       "        ...,\n",
       "        [ 0.04290358,  0.20726657,  0.67000002],\n",
       "        [ 0.04450717,  0.2091227 ,  0.67600006],\n",
       "        [ 0.04303165,  0.20909745,  0.67200005]]),\n",
       "        array([[-0.44399658,  0.26528969,  0.76800001],\n",
       "        [-0.44122592,  0.26528969,  0.76800001],\n",
       "        [-0.44284034,  0.26598054,  0.76600003],\n",
       "        ...,\n",
       "        [ 0.12097691,  0.29648745,  0.69500005],\n",
       "        [ 0.12115098,  0.29816949,  0.69600004],\n",
       "        [ 0.12149911,  0.30028537,  0.69800001]])], dtype=object))"
      ]
     },
     "execution_count": 72,
     "metadata": {},
     "output_type": "execute_result"
    },
    {
     "data": {
      "image/png": "[encoded data removed]",
      "text/plain": [
       "<matplotlib.figure.Figure at 0x7f3745532bd0>"
      ]
     },
     "metadata": {
      "needs_background": "light"
     },
     "output_type": "display_data"
    }
   ],
   "source": [
    "res_to_cents(res,plt_images=True)"
   ]
  },
  {
   "cell_type": "code",
   "execution_count": 53,
   "metadata": {},
   "outputs": [
    {
     "data": {
      "text/plain": [
       "'002masterchefcan'"
      ]
     },
     "execution_count": 53,
     "metadata": {},
     "output_type": "execute_result"
    }
   ],
   "source": [
    "path='/home/oscar/Videos/videos_to_keras_train/'\n",
    "os.listdir(path)\n",
    "objs[15].split('_')[1:]\n",
    "obj_name = ''.join(objs[15].split('_')[1:])\n",
    "obj_name"
   ]
  },
  {
   "cell_type": "code",
   "execution_count": 114,
   "metadata": {},
   "outputs": [
    {
     "name": "stdout",
     "output_type": "stream",
     "text": [
      "[Errno 17] File exists: '/home/oscar/Videos/videos_to_keras_train/002masterchefcan'\n"
     ]
    },
    {
     "ename": "NameError",
     "evalue": "name 'img_roi' is not defined",
     "output_type": "error",
     "traceback": [
      "\u001b[0;31m---------------------------------------------------------------------------\u001b[0m",
      "\u001b[0;31mNameError\u001b[0m                                 Traceback (most recent call last)",
      "\u001b[0;32m<ipython-input-114-c24944a78d6e>\u001b[0m in \u001b[0;36m<module>\u001b[0;34m()\u001b[0m\n\u001b[1;32m      3\u001b[0m \u001b[0;32mexcept\u001b[0m \u001b[0mOSError\u001b[0m \u001b[0;32mas\u001b[0m \u001b[0merror\u001b[0m\u001b[0;34m:\u001b[0m\u001b[0;34m\u001b[0m\u001b[0m\n\u001b[1;32m      4\u001b[0m     \u001b[0;32mprint\u001b[0m\u001b[0;34m(\u001b[0m\u001b[0merror\u001b[0m\u001b[0;34m)\u001b[0m\u001b[0;34m\u001b[0m\u001b[0m\n\u001b[0;32m----> 5\u001b[0;31m \u001b[0mcv2\u001b[0m\u001b[0;34m.\u001b[0m\u001b[0mimwrite\u001b[0m\u001b[0;34m(\u001b[0m\u001b[0mpath\u001b[0m\u001b[0;34m+\u001b[0m\u001b[0mobj_name\u001b[0m\u001b[0;34m+\u001b[0m\u001b[0;34m'/'\u001b[0m\u001b[0;34m+\u001b[0m\u001b[0mobj_name\u001b[0m\u001b[0;34m+\u001b[0m\u001b[0mpad_digit_num\u001b[0m\u001b[0;34m(\u001b[0m\u001b[0mcontador\u001b[0m\u001b[0;34m,\u001b[0m\u001b[0;36m4\u001b[0m\u001b[0;34m)\u001b[0m\u001b[0;34m+\u001b[0m\u001b[0;34m'.png'\u001b[0m\u001b[0;34m,\u001b[0m\u001b[0mimg_roi\u001b[0m\u001b[0;34m)\u001b[0m\u001b[0;34m\u001b[0m\u001b[0m\n\u001b[0m",
      "\u001b[0;31mNameError\u001b[0m: name 'img_roi' is not defined"
     ]
    }
   ],
   "source": [
    "try: \n",
    "    os.mkdir(path+obj_name) \n",
    "except OSError as error: \n",
    "    print(error)  \n",
    "cv2.imwrite(path+obj_name+'/'+obj_name+pad_digit_num(contador,4)+'.png',img_roi)"
   ]
  },
  {
   "cell_type": "code",
   "execution_count": 101,
   "metadata": {},
   "outputs": [
    {
     "data": {
      "text/plain": [
       "<matplotlib.image.AxesImage at 0x7f3702dc9cd0>"
      ]
     },
     "execution_count": 101,
     "metadata": {},
     "output_type": "execute_result"
    },
    {
     "data": {
      "image/png": "[encoded data removed]",
      "text/plain": [
       "<matplotlib.figure.Figure at 0x7f374553b190>"
      ]
     },
     "metadata": {
      "needs_background": "light"
     },
     "output_type": "display_data"
    }
   ],
   "source": [
    "plt.imshow(images[0])"
   ]
  },
  {
   "cell_type": "code",
   "execution_count": 74,
   "metadata": {},
   "outputs": [
    {
     "name": "stdout",
     "output_type": "stream",
     "text": [
      "('Plane', 0, 'has', 3, 'objects')\n",
      "('Plane', 1, 'has', 0, 'objects')\n",
      "('Plane', 2, 'has', 0, 'objects')\n",
      "('Plane', 3, 'has', 0, 'objects')\n",
      "[array([ 0.45296013, -0.04971411,  0.96959864]), array([-4.17267404e-05,  1.00913426e-01,  6.18089280e-01]), array([-0.14664006,  0.28748951,  0.73805637])]\n"
     ]
    },
    {
     "data": {
      "text/plain": [
       "(array([[ 4.52960134e-01, -4.97141067e-02,  9.69598645e-01],\n",
       "        [-4.17267404e-05,  1.00913426e-01,  6.18089280e-01],\n",
       "        [-1.46640063e-01,  2.87489507e-01,  7.38056373e-01]]),\n",
       " array([array([[ 0.41473159, -0.07013206,  0.96000004],\n",
       "        [ 0.4177593 , -0.07005901,  0.95900005],\n",
       "        [ 0.41516361, -0.06847166,  0.96100003],\n",
       "        ...,\n",
       "        [ 0.49080631, -0.03260293,  0.97700006],\n",
       "        [ 0.49130866, -0.03087218,  0.97800004],\n",
       "        [ 0.49181104, -0.02913782,  0.97900003]]),\n",
       "        array([[-0.00758592,  0.06010379,  0.64700001],\n",
       "        [-0.00525179,  0.06010379,  0.64700001],\n",
       "        [-0.00757419,  0.06117615,  0.64600003],\n",
       "        ...,\n",
       "        [ 0.04290358,  0.20726657,  0.67000002],\n",
       "        [ 0.04450717,  0.2091227 ,  0.67600006],\n",
       "        [ 0.04303165,  0.20909745,  0.67200005]]),\n",
       "        array([[-0.44399658,  0.26528969,  0.76800001],\n",
       "        [-0.44122592,  0.26528969,  0.76800001],\n",
       "        [-0.44284034,  0.26598054,  0.76600003],\n",
       "        ...,\n",
       "        [ 0.12080283,  0.29606083,  0.69400001],\n",
       "        [ 0.12097691,  0.29774109,  0.69500005],\n",
       "        [ 0.12132504,  0.29985514,  0.69700003]])], dtype=object))"
      ]
     },
     "execution_count": 74,
     "metadata": {},
     "output_type": "execute_result"
    }
   ],
   "source": [
    "res_to_cents(res)"
   ]
  },
  {
   "cell_type": "code",
   "execution_count": 75,
   "metadata": {},
   "outputs": [
    {
     "name": "stdout",
     "output_type": "stream",
     "text": [
      "('Plane', 0, 'has', 3, 'objects')\n",
      "('Plane', 1, 'has', 0, 'objects')\n",
      "('Plane', 2, 'has', 0, 'objects')\n",
      "('Plane', 3, 'has', 0, 'objects')\n",
      "[array([ 0.45296013, -0.04971411,  0.96959864]), array([-4.17267404e-05,  1.00913426e-01,  6.18089280e-01]), array([-0.14664006,  0.28748951,  0.73805637])]\n"
     ]
    },
    {
     "ename": "ValueError",
     "evalue": "need more than 2 values to unpack",
     "output_type": "error",
     "traceback": [
      "\u001b[0;31m---------------------------------------------------------------------------\u001b[0m",
      "\u001b[0;31mValueError\u001b[0m                                Traceback (most recent call last)",
      "\u001b[0;32m<ipython-input-75-8809c4a2b2a6>\u001b[0m in \u001b[0;36m<module>\u001b[0;34m()\u001b[0m\n\u001b[0;32m----> 1\u001b[0;31m \u001b[0mcents\u001b[0m\u001b[0;34m,\u001b[0m \u001b[0mxyz\u001b[0m\u001b[0;34m,\u001b[0m\u001b[0mimages\u001b[0m\u001b[0;34m=\u001b[0m\u001b[0mres_to_cents\u001b[0m\u001b[0;34m(\u001b[0m\u001b[0mres\u001b[0m\u001b[0;34m,\u001b[0m\u001b[0mTrue\u001b[0m\u001b[0;34m)\u001b[0m\u001b[0;34m\u001b[0m\u001b[0m\n\u001b[0m",
      "\u001b[0;31mValueError\u001b[0m: need more than 2 values to unpack"
     ]
    },
    {
     "data": {
      "image/png": "[encoded data removed]",
      "text/plain": [
       "<matplotlib.figure.Figure at 0x7f3745395550>"
      ]
     },
     "metadata": {
      "needs_background": "light"
     },
     "output_type": "display_data"
    }
   ],
   "source": [
    "cents, xyz,images=res_to_cents(res,True)"
   ]
  },
  {
   "cell_type": "code",
   "execution_count": null,
   "metadata": {},
   "outputs": [],
   "source": [
    "quats=pca_xyz(xyz)"
   ]
  },
  {
   "cell_type": "code",
   "execution_count": null,
   "metadata": {},
   "outputs": [],
   "source": [
    "static_tf_publish(cents,quats,'end')"
   ]
  },
  {
   "cell_type": "code",
   "execution_count": null,
   "metadata": {},
   "outputs": [],
   "source": [
    "cents,xyz,images=seg_pca(lower=100,higher=10000,plt_images=True)"
   ]
  },
  {
   "cell_type": "code",
   "execution_count": null,
   "metadata": {},
   "outputs": [],
   "source": [
    "move_base(2,1,np.pi)"
   ]
  },
  {
   "cell_type": "code",
   "execution_count": null,
   "metadata": {},
   "outputs": [],
   "source": [
    "gaze_point(1,1,.1)\n",
    "arm.set_named_target('go')\n",
    "arm.go()"
   ]
  },
  {
   "cell_type": "code",
   "execution_count": null,
   "metadata": {},
   "outputs": [],
   "source": [
    "cents,xyz,images=seg_pca(lower=100,higher=10000,plt_images=True)"
   ]
  },
  {
   "cell_type": "code",
   "execution_count": null,
   "metadata": {},
   "outputs": [],
   "source": [
    "x_gaz,y_gaz= world_2_gazebo(1,1)\n",
    "eu_i,eu_j,eu_k = .5*np.pi,0,0\n",
    "spawn_object('spawned',objs[-13], x_gaz,  y_gaz,  0.6,eu_i,eu_j,eu_k )\n"
   ]
  },
  {
   "cell_type": "code",
   "execution_count": null,
   "metadata": {},
   "outputs": [],
   "source": [
    "cents,xyz,images=seg_pca(lower=100,higher=40000,plt_images=True)\n",
    "quats=pca_xyz(xyz)\n",
    "static_tf_publish(cents,quats,'at 2,1')"
   ]
  },
  {
   "cell_type": "code",
   "execution_count": null,
   "metadata": {},
   "outputs": [],
   "source": [
    "move_base(1.5,.5,np.pi)"
   ]
  },
  {
   "cell_type": "code",
   "execution_count": null,
   "metadata": {},
   "outputs": [],
   "source": [
    "gaze_point(1,1,.1)\n",
    "arm.set_named_target('go')\n",
    "arm.go()"
   ]
  },
  {
   "cell_type": "code",
   "execution_count": null,
   "metadata": {},
   "outputs": [],
   "source": [
    "cents,xyz,images=seg_pca(lower=100,higher=40000,plt_images=True)\n",
    "quats=pca_xyz(xyz)\n",
    "static_tf_publish(cents,quats,'at 1.5,.5')"
   ]
  },
  {
   "cell_type": "code",
   "execution_count": null,
   "metadata": {},
   "outputs": [],
   "source": [
    "move_base(1.5,.5,0)"
   ]
  },
  {
   "cell_type": "code",
   "execution_count": null,
   "metadata": {},
   "outputs": [],
   "source": [
    "gaze_point(1,1,.1)\n",
    "arm.set_named_target('go')\n",
    "arm.go()"
   ]
  },
  {
   "cell_type": "code",
   "execution_count": 147,
   "metadata": {},
   "outputs": [
    {
     "name": "stdout",
     "output_type": "stream",
     "text": [
      "('cX,cY', 301, 476)\n",
      "[-0.00747844  0.21911964  0.5158296 ]\n",
      "('cX,cY', 75, 468)\n",
      "[-0.35996425  0.37436187  0.92190623]\n",
      "('cX,cY', 290, 444)\n",
      "[-0.16598909  0.35188416  0.93478006]\n",
      "('cX,cY', 443, 285)\n",
      "[0.14822534 0.00063732 0.6164476 ]\n",
      "('cX,cY', 411, 326)\n",
      "nan\n",
      "('cX,cY', 454, 232)\n"
     ]
    },
    {
     "name": "stderr",
     "output_type": "stream",
     "text": [
      "/home/oscar/.local/lib/python2.7/site-packages/ipykernel_launcher.py:58: RuntimeWarning: Mean of empty slice.\n",
      "/home/oscar/.local/lib/python2.7/site-packages/numpy/core/_methods.py:85: RuntimeWarning: invalid value encountered in double_scalars\n",
      "  ret = ret.dtype.type(ret / rcount)\n"
     ]
    },
    {
     "name": "stdout",
     "output_type": "stream",
     "text": [
      "[ 0.20696914 -0.04515864  0.6708069 ]\n",
      "('cX,cY', 613, 1)\n",
      "[ 1.4960889 -1.2877432  3.0058494]\n",
      "('cX,cY', 105, 3)\n",
      "[-1.0369995 -1.1491358  2.699405 ]\n",
      "('cX,cY', 17, 5)\n",
      "[-1.5290263 -1.1761056  2.8287847]\n"
     ]
    },
    {
     "data": {
      "image/png": "[encoded data removed]",
      "text/plain": [
       "<matplotlib.figure.Figure at 0x7f2a63ee6890>"
      ]
     },
     "metadata": {
      "needs_background": "light"
     },
     "output_type": "display_data"
    }
   ],
   "source": [
    "cents,xyz,images=seg_pca(lower=100,higher=40000,plt_images=True)\n",
    "\n"
   ]
  },
  {
   "cell_type": "code",
   "execution_count": 41,
   "metadata": {},
   "outputs": [
    {
     "name": "stdout",
     "output_type": "stream",
     "text": [
      "('cX,cY', 374, 343)\n",
      "[0.09510433 0.17500947 0.94141465]\n"
     ]
    },
    {
     "data": {
      "image/png": "[encoded data removed]",
      "text/plain": [
       "<matplotlib.figure.Figure at 0x7efd266024d0>"
      ]
     },
     "metadata": {
      "needs_background": "light"
     },
     "output_type": "display_data"
    }
   ],
   "source": [
    "cents,xyz, images=seg_pca(lower=1000,higher=4000,plt_images=True)"
   ]
  },
  {
   "cell_type": "code",
   "execution_count": null,
   "metadata": {},
   "outputs": [],
   "source": []
  }
 ],
 "metadata": {
  "kernelspec": {
   "display_name": "Python 2",
   "language": "python",
   "name": "python2"
  },
  "language_info": {
   "codemirror_mode": {
    "name": "ipython",
    "version": 2
   },
   "file_extension": ".py",
   "mimetype": "text/x-python",
   "name": "python",
   "nbconvert_exporter": "python",
   "pygments_lexer": "ipython2",
   "version": "2.7.17"
  },
  "nbTranslate": {
   "displayLangs": [
    "ja"
   ],
   "hotkey": "alt-t",
   "langInMainMenu": true,
   "sourceLang": "ja",
   "targetLang": "en",
   "useGoogleTranslate": true
  },
  "toc": {
   "base_numbering": 1,
   "nav_menu": {},
   "number_sections": true,
   "sideBar": true,
   "skip_h1_title": false,
   "title_cell": "Table of Contents",
   "title_sidebar": "Contents",
   "toc_cell": false,
   "toc_position": {},
   "toc_section_display": true,
   "toc_window_display": true
  }
 },
 "nbformat": 4,
 "nbformat_minor": 2
}
