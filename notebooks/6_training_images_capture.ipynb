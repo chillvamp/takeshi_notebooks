{
 "cells": [
  {
   "cell_type": "markdown",
   "metadata": {
    "lang": "ja"
   },
   "source": [
    "# MOVEIT!    LAUNCH IT!\n",
    "#OSCII CODED"
   ]
  },
  {
   "cell_type": "markdown",
   "metadata": {
    "lang": "en"
   },
   "source": []
  },
  {
   "cell_type": "markdown",
   "metadata": {
    "lang": "ja"
   },
   "source": []
  },
  {
   "cell_type": "markdown",
   "metadata": {
    "lang": "en"
   },
   "source": [
    "## Setup"
   ]
  },
  {
   "cell_type": "markdown",
   "metadata": {
    "lang": "ja"
   },
   "source": [
    "必要なライブラリをインポートして、初期化を行います。"
   ]
  },
  {
   "cell_type": "markdown",
   "metadata": {
    "lang": "en"
   },
   "source": [
    "Import the required libraries and initialize them:"
   ]
  },
  {
   "cell_type": "code",
   "execution_count": 3,
   "metadata": {},
   "outputs": [],
   "source": [
    "%matplotlib inline\n",
    "import matplotlib.pyplot as plt\n",
    "import numpy as np\n",
    "import ros_numpy\n",
    "import rospy\n",
    "import tf\n",
    "from gazebo_ros import gazebo_interface\n",
    "from sensor_msgs.msg import LaserScan, PointCloud2\n",
    "from geometry_msgs.msg import Pose, Quaternion\n",
    "import sys\n",
    "import time\n",
    "\n",
    "from utils_notebooks import *\n",
    "import cv2\n",
    "import os\n",
    "\n",
    "\n"
   ]
  },
  {
   "cell_type": "code",
   "execution_count": 4,
   "metadata": {},
   "outputs": [],
   "source": [
    "import moveit_commander\n",
    "import moveit_msgs.msg\n",
    "head = moveit_commander.MoveGroupCommander('head')"
   ]
  },
  {
   "cell_type": "code",
   "execution_count": 5,
   "metadata": {},
   "outputs": [
    {
     "name": "stdout",
     "output_type": "stream",
     "text": [
      "['person_standing', 'training_floor', 'training_wall', 'trofast', 'wrc_bin_black', 'wrc_bin_green', 'wrc_bookshelf', 'wrc_container_a', 'wrc_container_b', 'wrc_frame', 'wrc_ground_plane', 'wrc_long_table', 'wrc_stair_like_drawer', 'wrc_tall_table', 'wrc_tray', 'ycb_002_master_chef_can', 'ycb_003_cracker_box', 'ycb_004_sugar_box', 'ycb_005_tomato_soup_can', 'ycb_006_mustard_bottle', 'ycb_007_tuna_fish_can', 'ycb_008_pudding_box', 'ycb_009_gelatin_box', 'ycb_010_potted_meat_can', 'ycb_011_banana', 'ycb_012_strawberry', 'ycb_013_apple', 'ycb_014_lemon', 'ycb_015_peach', 'ycb_016_pear', 'ycb_017_orange', 'ycb_018_plum', 'ycb_019_pitcher_base', 'ycb_021_bleach_cleanser', 'ycb_022_windex_bottle', 'ycb_024_bowl', 'ycb_025_mug', 'ycb_026_sponge', 'ycb_027_skillet', 'ycb_028_skillet_lid', 'ycb_029_plate', 'ycb_030_fork', 'ycb_031_spoon', 'ycb_032_knife', 'ycb_033_spatula', 'ycb_035_power_drill', 'ycb_036_wood_block', 'ycb_037_scissors', 'ycb_038_padlock', 'ycb_040_large_marker', 'ycb_042_adjustable_wrench', 'ycb_043_phillips_screwdriver', 'ycb_044_flat_screwdriver', 'ycb_048_hammer', 'ycb_050_medium_clamp', 'ycb_051_large_clamp', 'ycb_052_extra_large_clamp', 'ycb_053_mini_soccer_ball', 'ycb_054_softball', 'ycb_055_baseball', 'ycb_056_tennis_ball', 'ycb_057_racquetball', 'ycb_058_golf_ball', 'ycb_059_chain', 'ycb_061_foam_brick', 'ycb_062_dice', 'ycb_063-a_marbles', 'ycb_063-b_marbles', 'ycb_065-a_cups', 'ycb_065-b_cups', 'ycb_065-c_cups', 'ycb_065-d_cups', 'ycb_065-e_cups', 'ycb_065-f_cups', 'ycb_065-g_cups', 'ycb_065-h_cups', 'ycb_065-i_cups', 'ycb_065-j_cups', 'ycb_070-a_colored_wood_blocks', 'ycb_070-b_colored_wood_blocks', 'ycb_071_nine_hole_peg_test', 'ycb_072-a_toy_airplane', 'ycb_072-b_toy_airplane', 'ycb_072-c_toy_airplane', 'ycb_072-d_toy_airplane', 'ycb_072-e_toy_airplane', 'ycb_073-a_lego_duplo', 'ycb_073-b_lego_duplo', 'ycb_073-c_lego_duplo', 'ycb_073-d_lego_duplo', 'ycb_073-e_lego_duplo', 'ycb_073-f_lego_duplo', 'ycb_073-g_lego_duplo', 'ycb_077_rubiks_cube']\n"
     ]
    }
   ],
   "source": [
    "\n",
    "\n",
    "## THIS PATH MUST BE SET BY USER () \n",
    "\n",
    "\n",
    "#_path_model = \"/home/oscar/Codes/ycb_ws/src/robot_object_views/robotobject/models\"   Tenshi Version\n",
    "\n",
    "_path_model = \"/home/oscar/Codes/catkin_mio_ws/src/tmc_wrs_gazebo_world/models\"     #Catkin mio version \n",
    "#_path_model = \"/home/roboworks/Codes/catkin_mio/src/tmc_wrs_gazebo_world/models\"     #Catkin mio version \n",
    "\n",
    "\n",
    "objs=os.listdir(_path_model)\n",
    "objs.sort()\n",
    "print (objs)"
   ]
  },
  {
   "cell_type": "code",
   "execution_count": 6,
   "metadata": {},
   "outputs": [],
   "source": [
    "#AGAIN THIS PATH MUST BE SET ( IT IS LOCATED IN NOTEBOOK UTILS FILE utils_notebooks.py)"
   ]
  },
  {
   "cell_type": "markdown",
   "metadata": {
    "lang": "ja"
   },
   "source": [
    "rvizを起動します．ロボットモデル、カメラ映像、ポイントクラウドが表示されています。"
   ]
  },
  {
   "cell_type": "code",
   "execution_count": 7,
   "metadata": {},
   "outputs": [],
   "source": [
    "#Initialize  Ros Node\n",
    "rospy.init_node(\"recognition\")\n"
   ]
  },
  {
   "cell_type": "code",
   "execution_count": 8,
   "metadata": {},
   "outputs": [],
   "source": [
    "#create a RGBD() object to read xtion\n",
    "rgbd = RGBD()"
   ]
  },
  {
   "cell_type": "code",
   "execution_count": 9,
   "metadata": {},
   "outputs": [],
   "source": [
    "#Create a tf listener to read tf tree ( shockingly)\n",
    "listener = tf.TransformListener()\n",
    "rospy.sleep(.5)"
   ]
  },
  {
   "cell_type": "markdown",
   "metadata": {
    "lang": "en"
   },
   "source": [
    "Launch RViz. The robot model, camera image, and point cloud are displayed:"
   ]
  },
  {
   "cell_type": "code",
   "execution_count": 10,
   "metadata": {},
   "outputs": [],
   "source": [
    "def gazebo_2_world(x,y):\n",
    "\n",
    "    x_world= x+2.1\n",
    "    y_world= -(y-1.2)\n",
    "    return (x_world,y_world)\n",
    "\n",
    "def world_2_gazebo(y_world , x_world):\n",
    "\n",
    "    x= ( x_world - 2.1)\n",
    "    y= (-y_world + 1.2) \n",
    "    return (x , y)"
   ]
  },
  {
   "cell_type": "code",
   "execution_count": 11,
   "metadata": {},
   "outputs": [
    {
     "data": {
      "text/plain": [
       "([0.6951207926186899, 0.9416752574493436, 1.0040300819993895],\n",
       " (-4.896525256896483e-12, 0.5013730988868775, 0.13616287269908978))"
      ]
     },
     "execution_count": 11,
     "metadata": {},
     "output_type": "execute_result"
    }
   ],
   "source": [
    "#Get pose of the xtion w.r.t map frame \n",
    "#( odom , or hsrb base vfootprint might be other \n",
    "#useful reference frames)\n",
    "\n",
    "\n",
    "trans , rot = listener.lookupTransform('/map', '/head_rgbd_sensor_gazebo_frame', rospy.Time(0))\n",
    "#trans , rot = listener.lookupTransform('/map', '/head_rgbd_sensor_link', rospy.Time(0))\n",
    "euler=tf.transformations.euler_from_quaternion(rot)\n",
    "\n",
    "trans, euler"
   ]
  },
  {
   "cell_type": "code",
   "execution_count": null,
   "metadata": {},
   "outputs": [],
   "source": []
  },
  {
   "cell_type": "code",
   "execution_count": null,
   "metadata": {},
   "outputs": [],
   "source": [
    "\n"
   ]
  },
  {
   "cell_type": "code",
   "execution_count": 12,
   "metadata": {},
   "outputs": [],
   "source": [
    "#moveit\n",
    "#MOVE IT MUST BE RUNNING. DECLARE A HEAD POSE\n",
    "head_val=head.get_current_joint_values()\n",
    "head_val[0]=np.deg2rad(-80)\n",
    "head_val[1]=np.deg2rad(20)\n",
    "#WATCH OUT FOR JOINTS LIMITS (exorcist joke)"
   ]
  },
  {
   "cell_type": "code",
   "execution_count": 13,
   "metadata": {},
   "outputs": [
    {
     "data": {
      "text/plain": [
       "True"
      ]
     },
     "execution_count": 13,
     "metadata": {},
     "output_type": "execute_result"
    }
   ],
   "source": [
    "#plan and execute target pose\n",
    "head.set_joint_value_target(head_val)\n",
    "head.go()"
   ]
  },
  {
   "cell_type": "code",
   "execution_count": 14,
   "metadata": {},
   "outputs": [
    {
     "data": {
      "text/plain": [
       "([0.6248782447294475, 1.042635464118673, 0.9513388291058679],\n",
       " (-4.896530150006963e-12, -0.3529383175890137, -1.2525914427054403))"
      ]
     },
     "execution_count": 14,
     "metadata": {},
     "output_type": "execute_result"
    }
   ],
   "source": [
    "#Get pose of the xtion w.r.t map frame \n",
    "\n",
    "trans , rot = listener.lookupTransform('/map', '/head_rgbd_sensor_gazebo_frame', rospy.Time(0))\n",
    "#trans , rot = listener.lookupTransform('/map', '/head_rgbd_sensor_link', rospy.Time(0))\n",
    "euler=tf.transformations.euler_from_quaternion(rot)\n",
    "\n",
    "trans, euler\n"
   ]
  },
  {
   "cell_type": "code",
   "execution_count": 16,
   "metadata": {},
   "outputs": [
    {
     "name": "stdout",
     "output_type": "stream",
     "text": [
      "ycb_021_bleach_cleanser\n"
     ]
    }
   ],
   "source": [
    "model_name = objs[33]\n",
    "print model_name"
   ]
  },
  {
   "cell_type": "code",
   "execution_count": 17,
   "metadata": {},
   "outputs": [
    {
     "name": "stdout",
     "output_type": "stream",
     "text": [
      "[INFO] [1635863320.602914, 282.489000]: Spawn: ycb_021_bleach_cleanser\n",
      "[INFO] [1635863320.608401, 282.489000]: Spawn: [ 0.41446892  0.41446892  0.57290097 -0.57290097]\n",
      "[INFO] [1635863320.617792, 282.489000]: Waiting for service /gazebo/spawn_sdf_model\n",
      "[INFO] [1635863320.647741, 282.489000]: Calling service /gazebo/spawn_sdf_model\n",
      "[INFO] [1635863321.264204, 282.651000]: Spawn status: SpawnModel: Successfully spawned entity\n",
      "[INFO] [1635863321.266019, 282.651000]: Spawn: ycb_021_bleach_cleanser\n",
      "[INFO] [1635863321.267557, 282.651000]: Spawn: [ 0.11202838 -0.69817594 -0.11202838  0.69817594]\n",
      "[INFO] [1635863321.271438, 282.651000]: Waiting for service /gazebo/spawn_sdf_model\n",
      "[INFO] [1635863321.295251, 282.657000]: Calling service /gazebo/spawn_sdf_model\n",
      "[INFO] [1635863321.515595, 282.708000]: Spawn status: SpawnModel: Successfully spawned entity\n",
      "[INFO] [1635863321.517106, 282.708000]: Spawn: ycb_021_bleach_cleanser\n",
      "[INFO] [1635863321.518366, 282.708000]: Spawn: [ 5.86147564e-01 -3.58911869e-17  8.10204316e-01  4.96107061e-17]\n",
      "[INFO] [1635863321.519301, 282.708000]: Waiting for service /gazebo/spawn_sdf_model\n",
      "[INFO] [1635863321.530878, 282.711000]: Calling service /gazebo/spawn_sdf_model\n",
      "[INFO] [1635863321.762455, 282.753000]: Spawn status: SpawnModel: Successfully spawned entity\n",
      "[INFO] [1635863321.763838, 282.753000]: Spawn: ycb_021_bleach_cleanser\n",
      "[INFO] [1635863321.769311, 282.756000]: Spawn: [-0.57290097 -0.57290097  0.41446892 -0.41446892]\n",
      "[INFO] [1635863321.774351, 282.759000]: Waiting for service /gazebo/spawn_sdf_model\n",
      "[INFO] [1635863321.784169, 282.762000]: Calling service /gazebo/spawn_sdf_model\n",
      "[INFO] [1635863321.998910, 282.846000]: Spawn status: SpawnModel: Successfully spawned entity\n"
     ]
    }
   ],
   "source": [
    "#USE TRANSFORM TREE TF TO SPAWN A STATIC MODEL\n",
    "# D_to_cam  METERS AWAY FROM XTION ON THE dIRECTION OF IT FOCAL POINT\n",
    "\n",
    "## PLEASE CHECK YOU HAVE CORRECTED PATH IN utils_notebooks file \n",
    "\n",
    "\n",
    "### MUST POINT TO CATKIN_TUTORIALS\n",
    "### Catkin_mio\n",
    "### Or wherever your gazebo wrs World and YCB objects models  are stored\n",
    "\n",
    "###OLD REPOSITORIES (SUBMODULED ONES ARE NO LONGER MANTAINED:)\n",
    "\n",
    "\n",
    "\n",
    "#x_gaz,y_gaz=world_2_gazebo(1.15,0.02)\n",
    "deg=0\n",
    "D_to_cam= 0.6\n",
    "x_gaz,y_gaz=world_2_gazebo(+trans[0]+ D_to_cam * np.cos(euler[2]), +  trans[1]+ D_to_cam * np.sin(euler[2]))\n",
    "z_gaz= trans[2]- D_to_cam*np.sin(euler[1])\n",
    "spawn_object(model_name, model_name, x_gaz,  y_gaz,  z_gaz, 1.5* np.pi , 0,euler[2])\n",
    "spawn_object(model_name+'1', model_name, x_gaz,  y_gaz, z_gaz ,-.5*np.pi , .5*np.pi, euler[2])     #spawn_object(model_name+'1', model_name, x_gaz,  y_gaz, z_gaz,0.5*np.pi , 0 ,euler[2])\n",
    "spawn_object(model_name+'2', model_name, x_gaz,  y_gaz,  z_gaz, np.pi,0 ,euler[2])\n",
    "spawn_object(model_name+'3', model_name, x_gaz,  y_gaz,  z_gaz, 1.5*np.pi ,0,euler[2]+np.pi)"
   ]
  },
  {
   "cell_type": "code",
   "execution_count": null,
   "metadata": {
    "scrolled": true
   },
   "outputs": [],
   "source": [
    "#GET AND SHOW IMAGE\n",
    "cv2_img = rgbd.get_image()\n",
    "plt.imshow(cv2_img)\n",
    "delete_object(model_name)\n"
   ]
  },
  {
   "cell_type": "code",
   "execution_count": null,
   "metadata": {},
   "outputs": [],
   "source": [
    "delete_object(model_name)\n",
    "delete_object(model_name+str(1))\n",
    "delete_object(model_name+str(2))\n",
    "delete_object(model_name+str(3))\n"
   ]
  },
  {
   "cell_type": "code",
   "execution_count": null,
   "metadata": {},
   "outputs": [],
   "source": [
    "delete_object(model_name)\n"
   ]
  },
  {
   "cell_type": "code",
   "execution_count": null,
   "metadata": {
    "scrolled": true
   },
   "outputs": [],
   "source": [
    "import datetime\n",
    "ct = datetime.datetime.now()\n",
    "print(\"current time:-\", ct)"
   ]
  },
  {
   "cell_type": "markdown",
   "metadata": {
    "lang": "ja"
   },
   "source": [
    "レゴブロックが頭部カメラの画角に入るように頭を少し下げます。rviz上の頭部カメラの映像が変化することを確認しましょう。"
   ]
  },
  {
   "cell_type": "markdown",
   "metadata": {
    "lang": "en"
   },
   "source": [
    "Lower the head slightly so that the Lego block is within the viewing angle of the head camera. Check that the image in the head camera in RViz changes accordingly:"
   ]
  },
  {
   "cell_type": "code",
   "execution_count": null,
   "metadata": {},
   "outputs": [],
   "source": [
    "#Capture a frame each degdree while changing static object pose\n",
    "#I dont love this way of spawining and  deleting, \n",
    "#CONTROL VIA ROS TOPIC POSE !\n",
    "samples_rev=100\n",
    "start = time.time()\n",
    "model_name = objs[82]\n",
    "D_to_cam=0.75\n",
    "\n",
    "for j in range (3):\n",
    "    deg=0\n",
    "    \n",
    "    for i in range (samples_rev):\n",
    "        trans , rot = listener.lookupTransform('/map', '/head_rgbd_sensor_gazebo_frame', rospy.Time(0))\n",
    "        euler=tf.transformations.euler_from_quaternion(rot)\n",
    "        deg+= np.deg2rad(i*2*np.pi/samples_rev)\n",
    "        print(i,deg)\n",
    "        x_gaz,y_gaz=world_2_gazebo(       trans[0]+ D_to_cam * np.cos(euler[2]),   trans[1]+ D_to_cam * np.sin(euler[2])    )\n",
    "        z_gaz= trans[2]- D_to_cam*np.sin(euler[1])\n",
    "\n",
    "        #spawn_object(\"lego2\", model_name, x_gaz,  y_gaz, trans[2], 0.8)\n",
    "        #spawn_object(model_name, model_name, x_gaz,  y_gaz, trans[2]- D_to_cam* np.sin(euler[1]) , 2*np.pi*np.random.rand() ,2*np.pi*np.random.rand(),2*np.pi*np.random.rand())\n",
    "        spawn_object(model_name, model_name, x_gaz,  y_gaz,  z_gaz, deg ,deg ,euler[2]+.4+.1*j*np.pi)\n",
    "        \n",
    "        cap_cnt= i\n",
    "        rospy.sleep(.1)\n",
    "        cv2_img = rgbd.get_image()\n",
    "\n",
    "        cap_name = \"/home/roboworks/Desktop/imagesfromlistener/\"+model_name+\"_\"+str(j*30)+\"deg\"\"_{}.png\".format(cap_cnt)   ##SAVE YOUR IMAGES WHEREVER YOU WAnt\n",
    "        #cap_name = \"imagesfromlistener/image_from_listener_{}.png\".format(cap_cnt)\n",
    "        im_rgb = cv2.cvtColor(cv2_img, cv2.COLOR_BGR2RGB)\n",
    "        cv2.imwrite(cap_name, im_rgb)\n",
    "        delete_object(model_name)\n",
    "end = time.time()\n",
    "\n",
    "\n",
    "    "
   ]
  },
  {
   "cell_type": "code",
   "execution_count": null,
   "metadata": {},
   "outputs": [],
   "source": [
    "print( 'time elapsed in trainSing video',(end - start)/60,'mins')\n",
    "\n",
    "ct = datetime.datetime.now()\n",
    "print(\"current time:-\", ct)"
   ]
  },
  {
   "cell_type": "code",
   "execution_count": null,
   "metadata": {},
   "outputs": [],
   "source": [
    "#Capture a frame each degdree while changing static object pose\n",
    "#I dont love this way of spawining and  deleting, \n",
    "#CONTROL VIA ROS TOPIC POSE !\n",
    "samples_rev=100\n",
    "start = time.time()\n",
    "model_name = objs[83]\n",
    "D_to_cam=0.75\n",
    "\n",
    "for j in range (3):\n",
    "    deg=0\n",
    "    \n",
    "    for i in range (samples_rev):\n",
    "        trans , rot = listener.lookupTransform('/map', '/head_rgbd_sensor_gazebo_frame', rospy.Time(0))\n",
    "        euler=tf.transformations.euler_from_quaternion(rot)\n",
    "        deg+= np.deg2rad(i*2*np.pi/samples_rev)\n",
    "        print(i,deg)\n",
    "        x_gaz,y_gaz=world_2_gazebo(       trans[0]+ D_to_cam * np.cos(euler[2]),   trans[1]+ D_to_cam * np.sin(euler[2])    )\n",
    "        z_gaz= trans[2]- D_to_cam*np.sin(euler[1])\n",
    "\n",
    "        #spawn_object(\"lego2\", model_name, x_gaz,  y_gaz, trans[2], 0.8)\n",
    "        #spawn_object(model_name, model_name, x_gaz,  y_gaz, trans[2]- D_to_cam* np.sin(euler[1]) , 2*np.pi*np.random.rand() ,2*np.pi*np.random.rand(),2*np.pi*np.random.rand())\n",
    "        spawn_object(model_name, model_name, x_gaz,  y_gaz,  z_gaz, deg ,deg ,euler[2]+.4+.1*j*np.pi)\n",
    "        \n",
    "        cap_cnt= i\n",
    "        rospy.sleep(.1)\n",
    "        cv2_img = rgbd.get_image()\n",
    "\n",
    "        cap_name = \"/home/roboworks/Desktop/images2/\"+model_name+\"_\"+str(j*30)+\"deg\"\"_{}.png\".format(cap_cnt)   ##SAVE YOUR IMAGES WHEREVER YOU WAnt\n",
    "        #cap_name = \"imagesfromlistener/image_from_listener_{}.png\".format(cap_cnt)\n",
    "        im_rgb = cv2.cvtColor(cv2_img, cv2.COLOR_BGR2RGB)\n",
    "        cv2.imwrite(cap_name, im_rgb)\n",
    "        delete_object(model_name)\n",
    "end = time.time()\n",
    "\n",
    "\n",
    "    "
   ]
  },
  {
   "cell_type": "code",
   "execution_count": null,
   "metadata": {},
   "outputs": [],
   "source": [
    "print( 'time elapsed in training video',(end - start)/60,'mins')\n",
    "import datetime\n",
    "ct = datetime.datetime.now()\n",
    "print(\"current time:-\", ct)"
   ]
  },
  {
   "cell_type": "code",
   "execution_count": null,
   "metadata": {},
   "outputs": [],
   "source": [
    "#Capture a frame each degdree while changing static object pose\n",
    "#I dont love this way of spawining and  deleting, \n",
    "#CONTROL VIA ROS TOPIC POSE !\n",
    "samples_rev=100\n",
    "start = time.time()\n",
    "model_name=objs[81]\n",
    "D_to_cam=.75\n",
    "for j in range (3):\n",
    "    deg=0\n",
    "    \n",
    "    for i in range (samples_rev):\n",
    "        trans , rot = listener.lookupTransform('/map', '/head_rgbd_sensor_gazebo_frame', rospy.Time(0))\n",
    "        euler=tf.transformations.euler_from_quaternion(rot)\n",
    "        deg+= np.deg2rad(i*2*np.pi/samples_rev)\n",
    "        print(i,deg)\n",
    "        x_gaz,y_gaz=world_2_gazebo(       trans[0]+ D_to_cam * np.cos(euler[2]),   trans[1]+ D_to_cam * np.sin(euler[2])    )\n",
    "        z_gaz= trans[2]- D_to_cam*np.sin(euler[1])\n",
    "\n",
    "        #spawn_object(\"lego2\", model_name, x_gaz,  y_gaz, trans[2], 0.8)\n",
    "        #spawn_object(model_name, model_name, x_gaz,  y_gaz, trans[2]- D_to_cam* np.sin(euler[1]) , 2*np.pi*np.random.rand() ,2*np.pi*np.random.rand(),2*np.pi*np.random.rand())\n",
    "        spawn_object(model_name, model_name, x_gaz,  y_gaz,  z_gaz, +.4+.1*j*np.pi, 0 ,deg)\n",
    "        \n",
    "        cap_cnt= i\n",
    "        rospy.sleep(.1)\n",
    "        cv2_img = rgbd.get_image()\n",
    "\n",
    "        cap_name = \"/home/roboworks/Desktop/images3/\"+model_name+\"_\"+str(j*30)+\"deg\"\"_{}.png\".format(cap_cnt)   ##SAVE YOUR IMAGES WHEREVER YOU WAnt\n",
    "        #cap_name = \"imagesfromlistener/image_from_listener_{}.png\".format(cap_cnt)\n",
    "        im_rgb = cv2.cvtColor(cv2_img, cv2.COLOR_BGR2RGB)\n",
    "        cv2.imwrite(cap_name, im_rgb)\n",
    "        delete_object(model_name)\n",
    "end = time.time()\n",
    "\n",
    "\n",
    "    "
   ]
  },
  {
   "cell_type": "code",
   "execution_count": null,
   "metadata": {},
   "outputs": [],
   "source": [
    "print( 'time elapsed in trainSing video',(end - start)/60,'mins')\n"
   ]
  },
  {
   "cell_type": "markdown",
   "metadata": {},
   "source": [
    "#TO MAKE MR EDD HAPPY MAKE A VIDEO OUT OF THIS FRAMES\n",
    "#on terminal go to folder containing the images and run\n",
    "# $ffmpeg -framerate 30  -pattern_type glob -i '*.png' -r 5 video.mp4\n",
    "# It is advisable to name each video other than video.mp4"
   ]
  },
  {
   "cell_type": "code",
   "execution_count": null,
   "metadata": {
    "scrolled": true
   },
   "outputs": [],
   "source": [
    "x_gaz,y_gaz=2.66,-1.0\n",
    "\n",
    "spawn_object(\"lego1\", model_name, x_gaz,  y_gaz, 0.81, 0)\n",
    "spawn_object(\"lego2\", model_name, x_gaz,  y_gaz+.20, 0.81, 0)\n"
   ]
  },
  {
   "cell_type": "code",
   "execution_count": null,
   "metadata": {},
   "outputs": [],
   "source": [
    "delete_object(\"lego1\")\n",
    "delete_object(\"lego2\")\n",
    "delete_object(\"lego3\")"
   ]
  },
  {
   "cell_type": "code",
   "execution_count": null,
   "metadata": {},
   "outputs": [],
   "source": [
    "low= np.array([0,100,0])\n",
    "high= np.array([100,200,100])\n",
    "mask = cv2.inRange(cv2_img, low, high)\n",
    "mask_buena= cv2.morphologyEx(mask,cv2.MORPH_ERODE,np.ones((9,9),np.uint8))\n",
    "masked_image = np.copy(img)\n",
    "masked_image[mask_buena != 0] = [0, 0, 0]\n",
    "\n",
    "#\n",
    "### FIND OBJECTS ( CONTOURS FINDING IN MASKED IMAGE)\n",
    "\n",
    "ret,thresh = cv2.threshold(mask_buena,127,255,0)\n",
    "contours, hierarchy = cv2.findContours(thresh,cv2.RETR_TREE,cv2.CHAIN_APPROX_SIMPLE)\n",
    "contours, hierarchy = cv2.findContours(thresh,cv2.RETR_TREE,cv2.CHAIN_APPROX_SIMPLE)\n",
    "i=find_2nd_biggest_contour_ix(contours)\n",
    "boundRect = cv2.boundingRect(contours[find_2nd_biggest_contour_ix(contours)])#contours_poly[i])\n",
    "cv2.rectangle(img,(boundRect[0], boundRect[1]),(boundRect[0]+boundRect[2], boundRect[1]+boundRect[3]), color, 2)\n",
    "x,y,w,h =boundRect\n",
    "print (w,h)\n",
    "if (w < h):\n",
    "\n",
    "\n",
    "    x=(int)(x-.5*(h-w))\n",
    "    w=h\n",
    "    boundRect=x,y,w,h\n",
    "    cv2.rectangle(img,(boundRect[0], boundRect[1]),(boundRect[0]+boundRect[2], boundRect[1]+boundRect[3]), color2, 2)\n",
    "if (h < w):\n",
    "\n",
    "\n",
    "    y=(int)(x-.5*(w-h))\n",
    "    h=w\n",
    "    boundRect=x,y,w,h\n",
    "    cv2.rectangle(img,(boundRect[0], boundRect[1]),(boundRect[0]+boundRect[2], boundRect[1]+boundRect[3]), color2, 2)\n",
    "\n",
    "img_roi=img[y:y+h,x:x+w,:]\n",
    "#img_resized=cv2.resize(img_roi,(img_width,img_height))\n",
    "\n",
    "\n",
    "\n",
    "cv2.imshow('frame', img)\n",
    "if cv2.waitKey(1) == ord('q'):\n",
    "    break"
   ]
  },
  {
   "cell_type": "code",
   "execution_count": null,
   "metadata": {},
   "outputs": [],
   "source": []
  },
  {
   "cell_type": "code",
   "execution_count": null,
   "metadata": {},
   "outputs": [],
   "source": []
  },
  {
   "cell_type": "code",
   "execution_count": null,
   "metadata": {},
   "outputs": [],
   "source": []
  },
  {
   "cell_type": "code",
   "execution_count": null,
   "metadata": {},
   "outputs": [],
   "source": [
    "#USE TRANSFORM TREE TF TO SPAWN A STATIC MODEL\n",
    "# D_to_cam  METERS AWAY FROM XTION ON THE dIRECTION OF IT FOCAL POINT\n",
    "\n",
    "\n",
    "#x_gaz,y_gaz=world_2_gazebo(1.15,0.02)\n",
    "deg=0\n",
    "model_name= 'ycb_065-g_cups'   #for cups\n",
    "D_to_cam= 0.35\n",
    "x_gaz,y_gaz=world_2_gazebo(+trans[0]+ D_to_cam * np.cos(euler[2]), -.05+  trans[1]+ D_to_cam * np.sin(euler[2]))\n",
    "z_gaz= -.03+trans[2]- D_to_cam*np.sin(euler[1])\n",
    "spawn_object(model_name, model_name, x_gaz,  y_gaz,  z_gaz, 0 ,0 ,euler[2]+.6*np.pi)\n",
    "spawn_object(model_name+'1', model_name, x_gaz,  y_gaz, z_gaz, 0.5*np.pi,0 ,euler[2]+.8*np.pi)\n",
    "spawn_object(model_name+'2', model_name, x_gaz,  y_gaz,  z_gaz, np.pi,0 ,euler[2]+np.pi)\n",
    "spawn_object(model_name+'3', model_name, x_gaz,  y_gaz,  z_gaz, 1.5*np.pi ,0,euler[2]+1.2*np.pi)"
   ]
  },
  {
   "cell_type": "code",
   "execution_count": null,
   "metadata": {},
   "outputs": [],
   "source": [
    "\n"
   ]
  },
  {
   "cell_type": "code",
   "execution_count": null,
   "metadata": {},
   "outputs": [],
   "source": []
  },
  {
   "cell_type": "code",
   "execution_count": null,
   "metadata": {},
   "outputs": [],
   "source": []
  }
 ],
 "metadata": {
  "kernelspec": {
   "display_name": "Python 2",
   "language": "python",
   "name": "python2"
  },
  "language_info": {
   "codemirror_mode": {
    "name": "ipython",
    "version": 2
   },
   "file_extension": ".py",
   "mimetype": "text/x-python",
   "name": "python",
   "nbconvert_exporter": "python",
   "pygments_lexer": "ipython2",
   "version": "2.7.17"
  },
  "nbTranslate": {
   "displayLangs": [
    "ja"
   ],
   "hotkey": "alt-t",
   "langInMainMenu": true,
   "sourceLang": "ja",
   "targetLang": "en",
   "useGoogleTranslate": true
  },
  "toc": {
   "base_numbering": 1,
   "nav_menu": {},
   "number_sections": true,
   "sideBar": true,
   "skip_h1_title": false,
   "title_cell": "Table of Contents",
   "title_sidebar": "Contents",
   "toc_cell": false,
   "toc_position": {},
   "toc_section_display": true,
   "toc_window_display": true
  }
 },
 "nbformat": 4,
 "nbformat_minor": 2
}
