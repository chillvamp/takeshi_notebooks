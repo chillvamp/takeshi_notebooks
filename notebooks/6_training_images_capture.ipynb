{
 "cells": [
  {
   "cell_type": "markdown",
   "metadata": {
    "lang": "ja"
   },
   "source": [
    "#NO need to MOVEIT; however its advisable to move the neck "
   ]
  },
  {
   "cell_type": "markdown",
   "metadata": {
    "lang": "en"
   },
   "source": []
  },
  {
   "cell_type": "markdown",
   "metadata": {
    "lang": "ja"
   },
   "source": []
  },
  {
   "cell_type": "markdown",
   "metadata": {
    "lang": "en"
   },
   "source": [
    "## Setup"
   ]
  },
  {
   "cell_type": "markdown",
   "metadata": {
    "lang": "ja"
   },
   "source": [
    "必要なライブラリをインポートして、初期化を行います。"
   ]
  },
  {
   "cell_type": "markdown",
   "metadata": {
    "lang": "en"
   },
   "source": [
    "Import the required libraries and initialize them:"
   ]
  },
  {
   "cell_type": "code",
   "execution_count": 1,
   "metadata": {},
   "outputs": [],
   "source": [
    "%matplotlib inline\n",
    "import matplotlib.pyplot as plt\n",
    "import numpy as np\n",
    "import ros_numpy\n",
    "import rospy\n",
    "import tf\n",
    "from gazebo_ros import gazebo_interface\n",
    "from sensor_msgs.msg import LaserScan, PointCloud2\n",
    "from geometry_msgs.msg import Pose, Quaternion\n",
    "import sys\n",
    "\n",
    "from utils_notebooks import *\n",
    "import cv2\n",
    "import os\n",
    "\n",
    "\n"
   ]
  },
  {
   "cell_type": "code",
   "execution_count": 3,
   "metadata": {},
   "outputs": [],
   "source": [
    "import moveit_commander\n",
    "import moveit_msgs.msg\n",
    "head = moveit_commander.MoveGroupCommander('head')"
   ]
  },
  {
   "cell_type": "code",
   "execution_count": 4,
   "metadata": {},
   "outputs": [
    {
     "name": "stdout",
     "output_type": "stream",
     "text": [
      "['ycb_021_bleach_cleanser', 'ycb_065-e_cups', 'wrc_bin_black', 'ycb_057_racquetball', 'wrc_tray', 'ycb_043_phillips_screwdriver', 'wrc_bin_green', 'ycb_073-b_lego_duplo', 'ycb_009_gelatin_box', 'ycb_072-e_toy_airplane', 'ycb_004_sugar_box', 'ycb_073-d_lego_duplo', 'ycb_061_foam_brick', 'ycb_016_pear', 'ycb_065-a_cups', 'wrc_ground_plane', 'wrc_bookshelf', 'ycb_072-b_toy_airplane', 'trofast', 'ycb_026_sponge', 'ycb_012_strawberry', 'ycb_013_apple', 'ycb_051_large_clamp', 'ycb_022_windex_bottle', 'ycb_065-h_cups', 'ycb_025_mug', 'ycb_036_wood_block', 'ycb_056_tennis_ball', 'ycb_044_flat_screwdriver', 'ycb_031_spoon', 'ycb_072-c_toy_airplane', 'wrc_frame', 'ycb_010_potted_meat_can', 'ycb_073-f_lego_duplo', 'ycb_072-d_toy_airplane', 'ycb_053_mini_soccer_ball', 'ycb_033_spatula', 'ycb_040_large_marker', 'ycb_027_skillet', 'ycb_052_extra_large_clamp', 'wrc_container_b', 'ycb_073-a_lego_duplo', 'ycb_070-a_colored_wood_blocks', 'wrc_stair_like_drawer', 'ycb_032_knife', 'wrc_long_table', 'ycb_063-a_marbles', 'ycb_058_golf_ball', 'ycb_003_cracker_box', 'ycb_070-b_colored_wood_blocks', 'ycb_002_master_chef_can', 'ycb_055_baseball', 'ycb_073-e_lego_duplo', 'wrc_tall_table', 'ycb_065-d_cups', 'ycb_029_plate', 'ycb_071_nine_hole_peg_test', 'ycb_018_plum', 'ycb_054_softball', 'ycb_050_medium_clamp', 'ycb_006_mustard_bottle', 'ycb_007_tuna_fish_can', 'ycb_042_adjustable_wrench', 'ycb_065-j_cups', 'ycb_024_bowl', 'ycb_038_padlock', 'ycb_065-b_cups', 'ycb_005_tomato_soup_can', 'ycb_062_dice', 'ycb_015_peach', 'ycb_028_skillet_lid', 'ycb_065-f_cups', 'ycb_048_hammer', 'ycb_008_pudding_box', 'wrc_container_a', 'ycb_063-b_marbles', 'person_standing', 'ycb_073-g_lego_duplo', 'ycb_017_orange', 'ycb_014_lemon', 'ycb_035_power_drill', 'ycb_072-a_toy_airplane', 'ycb_065-i_cups', 'ycb_065-c_cups', 'ycb_011_banana', 'ycb_030_fork', 'ycb_065-g_cups', 'ycb_037_scissors', 'ycb_077_rubiks_cube', 'ycb_019_pitcher_base', 'ycb_073-c_lego_duplo', 'ycb_059_chain']\n"
     ]
    }
   ],
   "source": [
    "\n",
    "\n",
    "## THIS PATH MUST BE SET BY USER () \n",
    "\n",
    "\n",
    "#_path_model = \"/home/oscar/Codes/ycb_ws/src/robot_object_views/robotobject/models\"   Tenshi Version\n",
    "\n",
    "\n",
    "_path_model = \"/home/oscar/Codes/catkin_mio_ws/src/tmc_wrs_gazebo_world/models\"     #Catkin mio version \n",
    "\n",
    "\n",
    "objs=os.listdir(_path_model)\n",
    "print (objs)"
   ]
  },
  {
   "cell_type": "code",
   "execution_count": 5,
   "metadata": {},
   "outputs": [],
   "source": [
    "#AGAIN THIS PATH MUST BE SET ( IT IS LOCATED IN NOTEBOOK UTILS FILE utils_notebooks.py)"
   ]
  },
  {
   "cell_type": "markdown",
   "metadata": {
    "lang": "ja"
   },
   "source": [
    "rvizを起動します．ロボットモデル、カメラ映像、ポイントクラウドが表示されています。"
   ]
  },
  {
   "cell_type": "code",
   "execution_count": 6,
   "metadata": {},
   "outputs": [],
   "source": [
    "\n",
    "rospy.init_node(\"recognition\")\n"
   ]
  },
  {
   "cell_type": "code",
   "execution_count": 7,
   "metadata": {},
   "outputs": [],
   "source": [
    "rgbd = RGBD()"
   ]
  },
  {
   "cell_type": "code",
   "execution_count": 10,
   "metadata": {},
   "outputs": [],
   "source": [
    "listener = tf.TransformListener()\n",
    "rospy.sleep(.5)"
   ]
  },
  {
   "cell_type": "markdown",
   "metadata": {
    "lang": "en"
   },
   "source": [
    "Launch RViz. The robot model, camera image, and point cloud are displayed:"
   ]
  },
  {
   "cell_type": "code",
   "execution_count": 36,
   "metadata": {},
   "outputs": [
    {
     "data": {
      "text/plain": [
       "([0.018363049959573975, 0.016833347980570155, 1.0064858092482443],\n",
       " (-4.896526351585544e-12, 0.34891233102589236, -0.04026989156001947))"
      ]
     },
     "execution_count": 36,
     "metadata": {},
     "output_type": "execute_result"
    }
   ],
   "source": [
    "trans , rot = listener.lookupTransform('/map', '/head_rgbd_sensor_gazebo_frame', rospy.Time(0))\n",
    "#trans , rot = listener.lookupTransform('/map', '/head_rgbd_sensor_link', rospy.Time(0))\n",
    "euler=tf.transformations.euler_from_quaternion(rot)\n",
    "#trans,np.rad2deg(tf.transformations.euler_from_quaternion(rot))\n",
    "trans, euler"
   ]
  },
  {
   "cell_type": "code",
   "execution_count": 37,
   "metadata": {},
   "outputs": [],
   "source": [
    "#trans , rot = listener.lookupTransform('/map', '/head_rgbd_sensor_link', rospy.Time(0))\n",
    "\n",
    "#trans,np.rad2deg(tf.transformations.euler_from_quaternion(rot))"
   ]
  },
  {
   "cell_type": "code",
   "execution_count": 38,
   "metadata": {},
   "outputs": [],
   "source": [
    "#trans , rot = listener.lookupTransform('/map', '/base_footprint', rospy.Time(0))\n",
    "#trans,np.rad2deg(tf.transformations.euler_from_quaternion(rot))"
   ]
  },
  {
   "cell_type": "code",
   "execution_count": 39,
   "metadata": {},
   "outputs": [],
   "source": [
    "def gazebo_2_world(x,y):\n",
    "\n",
    "    x_world= x+2.1\n",
    "    y_world= -(y-1.2)\n",
    "    return (x_world,y_world)\n",
    "\n",
    "def world_2_gazebo(y_world , x_world):\n",
    "\n",
    "    x= ( x_world - 2.1)\n",
    "    y= (-y_world + 1.2) \n",
    "    return (x , y)"
   ]
  },
  {
   "cell_type": "code",
   "execution_count": 104,
   "metadata": {},
   "outputs": [
    {
     "data": {
      "text/plain": [
       "([-0.11965413297300702, -0.02052889765643768, 1.0064873652459576],\n",
       " (-4.896492206933448e-12, 0.3487775928495554, 1.507628260095945))"
      ]
     },
     "execution_count": 104,
     "metadata": {},
     "output_type": "execute_result"
    }
   ],
   "source": [
    "trans , rot = listener.lookupTransform('/map', '/head_rgbd_sensor_gazebo_frame', rospy.Time(0))\n",
    "#trans , rot = listener.lookupTransform('/map', '/head_rgbd_sensor_link', rospy.Time(0))\n",
    "euler=tf.transformations.euler_from_quaternion(rot)\n",
    "#trans,np.rad2deg(tf.transformations.euler_from_quaternion(rot))\n",
    "trans, euler"
   ]
  },
  {
   "cell_type": "code",
   "execution_count": 107,
   "metadata": {},
   "outputs": [
    {
     "name": "stdout",
     "output_type": "stream",
     "text": [
      "[INFO] [1616594983.152052, 383.932000]: Spawn: ycb_077_rubiks_cube\n",
      "[INFO] [1616594983.160578, 383.933000]: Spawn: [0. 0. 0. 1.]\n",
      "[INFO] [1616594983.171494, 383.934000]: Waiting for service /gazebo/spawn_sdf_model\n",
      "[INFO] [1616594983.196644, 383.935000]: Calling service /gazebo/spawn_sdf_model\n",
      "[INFO] [1616594983.687602, 383.949000]: Spawn status: SpawnModel: Successfully spawned entity\n"
     ]
    }
   ],
   "source": [
    "\n",
    "\n",
    "#x_gaz,y_gaz=world_2_gazebo(1.15,0.02)\n",
    "deg=0\n",
    "\n",
    "model_name= objs[-4]   #Rubik \n",
    "\n",
    "#spawn_object(\"lego1\", model_name, x_gaz,  y_gaz, .11, 0)\n",
    "D_to_cam= 0.2\n",
    "x_gaz,y_gaz=world_2_gazebo(0.025+trans[0]+ D_to_cam * np.cos(euler[2]), 0.01+ trans[1]+ D_to_cam * np.sin(euler[2]))\n",
    "spawn_object(\"rubik\", model_name, x_gaz,  y_gaz,  trans[2]- D_to_cam*np.sin(euler[1]), deg)\n",
    "cap_cnt= (int) (np.rad2deg(deg))\n",
    "cap_name = \"/home/oscar/Codes/roscodes/scripts_ros/imagesfromlistener/rubik_{}.png\".format(cap_cnt)   ##SAVE YOUR IMAGES WHEREVER YOU WAnt\n",
    "#cap_name = \"imagesfromlistener/image_from_listener_{}.png\".format(cap_cnt)\n",
    "\n",
    "#spawn_object(\"lego2\", model_name, x_gaz+.5,  y_gaz+.5, .11, 45)\n",
    "\n",
    "#print (x_gaz,y_gaz)\n",
    "\n",
    "#spawn_object(\"073-g_lego_duplo\", \"073-g_lego_duplo\", x_gaz, y_gaz, .51, 0)\n"
   ]
  },
  {
   "cell_type": "code",
   "execution_count": 101,
   "metadata": {
    "scrolled": true
   },
   "outputs": [
    {
     "data": {
      "text/plain": [
       "<matplotlib.image.AxesImage at 0x7f55419474d0>"
      ]
     },
     "execution_count": 101,
     "metadata": {},
     "output_type": "execute_result"
    },
    {
     "data": {
      "image/png": "[encoded data removed]",
      "text/plain": [
       "<matplotlib.figure.Figure at 0x7f55419673d0>"
      ]
     },
     "metadata": {
      "needs_background": "light"
     },
     "output_type": "display_data"
    }
   ],
   "source": [
    "cv2_img = rgbd.get_image()\n",
    "plt.imshow(cv2_img)\n"
   ]
  },
  {
   "cell_type": "code",
   "execution_count": 79,
   "metadata": {},
   "outputs": [
    {
     "data": {
      "text/plain": [
       "<matplotlib.image.AxesImage at 0x7f55423a68d0>"
      ]
     },
     "execution_count": 79,
     "metadata": {},
     "output_type": "execute_result"
    },
    {
     "data": {
      "image/png": "[encoded data removed]",
      "text/plain": [
       "<matplotlib.figure.Figure at 0x7f55429704d0>"
      ]
     },
     "metadata": {
      "needs_background": "light"
     },
     "output_type": "display_data"
    }
   ],
   "source": [
    "cv2_img = rgbd.get_image()\n",
    "plt.imshow(cv2_img)\n"
   ]
  },
  {
   "cell_type": "code",
   "execution_count": 106,
   "metadata": {},
   "outputs": [],
   "source": [
    "delete_object(\"rubik\")\n"
   ]
  },
  {
   "cell_type": "code",
   "execution_count": 113,
   "metadata": {},
   "outputs": [],
   "source": [
    "head_val=head.get_current_joint_values()\n",
    "head_val[0]=np.deg2rad(0)\n",
    "head_val[1]=np.deg2rad(30)\n"
   ]
  },
  {
   "cell_type": "code",
   "execution_count": 114,
   "metadata": {},
   "outputs": [
    {
     "ename": "MoveItCommanderException",
     "evalue": "Error setting joint target. Is the target within bounds?",
     "output_type": "error",
     "traceback": [
      "\u001b[0;31m---------------------------------------------------------------------------\u001b[0m",
      "\u001b[0;31mMoveItCommanderException\u001b[0m                  Traceback (most recent call last)",
      "\u001b[0;32m<ipython-input-114-f238f96781ed>\u001b[0m in \u001b[0;36m<module>\u001b[0;34m()\u001b[0m\n\u001b[0;32m----> 1\u001b[0;31m \u001b[0mhead\u001b[0m\u001b[0;34m.\u001b[0m\u001b[0mset_joint_value_target\u001b[0m\u001b[0;34m(\u001b[0m\u001b[0mhead_val\u001b[0m\u001b[0;34m)\u001b[0m\u001b[0;34m\u001b[0m\u001b[0m\n\u001b[0m\u001b[1;32m      2\u001b[0m \u001b[0mhead\u001b[0m\u001b[0;34m.\u001b[0m\u001b[0mgo\u001b[0m\u001b[0;34m(\u001b[0m\u001b[0;34m)\u001b[0m\u001b[0;34m\u001b[0m\u001b[0m\n",
      "\u001b[0;32m/opt/ros/melodic/lib/python2.7/dist-packages/moveit_commander/move_group.py\u001b[0m in \u001b[0;36mset_joint_value_target\u001b[0;34m(self, arg1, arg2, arg3)\u001b[0m\n\u001b[1;32m    225\u001b[0m                 \u001b[0;32mraise\u001b[0m \u001b[0mMoveItCommanderException\u001b[0m\u001b[0;34m(\u001b[0m\u001b[0;34m\"Too many arguments specified\"\u001b[0m\u001b[0;34m)\u001b[0m\u001b[0;34m\u001b[0m\u001b[0m\n\u001b[1;32m    226\u001b[0m             \u001b[0;32mif\u001b[0m \u001b[0;32mnot\u001b[0m \u001b[0mself\u001b[0m\u001b[0;34m.\u001b[0m\u001b[0m_g\u001b[0m\u001b[0;34m.\u001b[0m\u001b[0mset_joint_value_target\u001b[0m\u001b[0;34m(\u001b[0m\u001b[0marg1\u001b[0m\u001b[0;34m)\u001b[0m\u001b[0;34m:\u001b[0m\u001b[0;34m\u001b[0m\u001b[0m\n\u001b[0;32m--> 227\u001b[0;31m                 \u001b[0;32mraise\u001b[0m \u001b[0mMoveItCommanderException\u001b[0m\u001b[0;34m(\u001b[0m\u001b[0;34m\"Error setting joint target. Is the target within bounds?\"\u001b[0m\u001b[0;34m)\u001b[0m\u001b[0;34m\u001b[0m\u001b[0m\n\u001b[0m\u001b[1;32m    228\u001b[0m \u001b[0;34m\u001b[0m\u001b[0m\n\u001b[1;32m    229\u001b[0m         \u001b[0;32melse\u001b[0m\u001b[0;34m:\u001b[0m\u001b[0;34m\u001b[0m\u001b[0m\n",
      "\u001b[0;31mMoveItCommanderException\u001b[0m: Error setting joint target. Is the target within bounds?"
     ]
    }
   ],
   "source": [
    "head.set_joint_value_target(head_val)\n",
    "head.go()"
   ]
  },
  {
   "cell_type": "markdown",
   "metadata": {
    "lang": "ja"
   },
   "source": [
    "レゴブロックが頭部カメラの画角に入るように頭を少し下げます。rviz上の頭部カメラの映像が変化することを確認しましょう。"
   ]
  },
  {
   "cell_type": "markdown",
   "metadata": {
    "lang": "en"
   },
   "source": [
    "Lower the head slightly so that the Lego block is within the viewing angle of the head camera. Check that the image in the head camera in RViz changes accordingly:"
   ]
  },
  {
   "cell_type": "code",
   "execution_count": 63,
   "metadata": {},
   "outputs": [
    {
     "name": "stdout",
     "output_type": "stream",
     "text": [
      "0\n",
      "[INFO] [1616518172.260564, 369.481000]: Spawn: ycb_077_rubiks_cube\n",
      "[INFO] [1616518172.265203, 369.482000]: Spawn: [0. 0. 0. 1.]\n",
      "[INFO] [1616518172.267176, 369.482000]: Waiting for service /gazebo/spawn_sdf_model\n",
      "[INFO] [1616518172.298981, 369.485000]: Calling service /gazebo/spawn_sdf_model\n",
      "[INFO] [1616518172.318610, 369.487000]: Spawn status: SpawnModel: Failure - entity already exists.\n",
      "1\n",
      "[INFO] [1616518175.645765, 369.936000]: Spawn: ycb_077_rubiks_cube\n",
      "[INFO] [1616518175.647584, 369.936000]: Spawn: [0.         0.         0.00872654 0.99996192]\n",
      "[INFO] [1616518175.648988, 369.936000]: Waiting for service /gazebo/spawn_sdf_model\n",
      "[INFO] [1616518175.667445, 369.938000]: Calling service /gazebo/spawn_sdf_model\n",
      "[INFO] [1616518175.958871, 369.962000]: Spawn status: SpawnModel: Successfully spawned entity\n",
      "2\n",
      "[INFO] [1616518178.244835, 370.200000]: Spawn: ycb_077_rubiks_cube\n",
      "[INFO] [1616518178.247807, 370.200000]: Spawn: [0.         0.         0.01745241 0.9998477 ]\n",
      "[INFO] [1616518178.249494, 370.200000]: Waiting for service /gazebo/spawn_sdf_model\n",
      "[INFO] [1616518178.264091, 370.200000]: Calling service /gazebo/spawn_sdf_model\n",
      "[INFO] [1616518178.459608, 370.220000]: Spawn status: SpawnModel: Successfully spawned entity\n",
      "3\n",
      "[INFO] [1616518180.774325, 370.433000]: Spawn: ycb_077_rubiks_cube\n",
      "[INFO] [1616518180.783978, 370.434000]: Spawn: [0.         0.         0.02617695 0.99965732]\n",
      "[INFO] [1616518180.785433, 370.434000]: Waiting for service /gazebo/spawn_sdf_model\n",
      "[INFO] [1616518180.808847, 370.437000]: Calling service /gazebo/spawn_sdf_model\n",
      "[INFO] [1616518180.970468, 370.453000]: Spawn status: SpawnModel: Successfully spawned entity\n",
      "4\n",
      "[INFO] [1616518183.716114, 370.739000]: Spawn: ycb_077_rubiks_cube\n",
      "[INFO] [1616518183.718019, 370.739000]: Spawn: [0.         0.         0.0348995  0.99939083]\n",
      "[INFO] [1616518183.722212, 370.740000]: Waiting for service /gazebo/spawn_sdf_model\n",
      "[INFO] [1616518183.740372, 370.742000]: Calling service /gazebo/spawn_sdf_model\n",
      "[INFO] [1616518183.973182, 370.759000]: Spawn status: SpawnModel: Successfully spawned entity\n",
      "5\n",
      "[INFO] [1616518186.510989, 371.016000]: Spawn: ycb_077_rubiks_cube\n",
      "[INFO] [1616518186.513700, 371.016000]: Spawn: [0.         0.         0.04361939 0.99904822]\n",
      "[INFO] [1616518186.518096, 371.016000]: Waiting for service /gazebo/spawn_sdf_model\n",
      "[INFO] [1616518186.523719, 371.017000]: Calling service /gazebo/spawn_sdf_model\n",
      "[INFO] [1616518186.753211, 371.037000]: Spawn status: SpawnModel: Successfully spawned entity\n",
      "6\n",
      "[INFO] [1616518189.433772, 371.305000]: Spawn: ycb_077_rubiks_cube\n",
      "[INFO] [1616518189.440112, 371.306000]: Spawn: [0.         0.         0.05233596 0.99862953]\n",
      "[INFO] [1616518189.441497, 371.306000]: Waiting for service /gazebo/spawn_sdf_model\n",
      "[INFO] [1616518189.458085, 371.308000]: Calling service /gazebo/spawn_sdf_model\n",
      "[INFO] [1616518189.712484, 371.331000]: Spawn status: SpawnModel: Successfully spawned entity\n",
      "7\n",
      "[INFO] [1616518192.229036, 371.598000]: Spawn: ycb_077_rubiks_cube\n",
      "[INFO] [1616518192.231770, 371.598000]: Spawn: [0.         0.         0.06104854 0.9981348 ]\n",
      "[INFO] [1616518192.232958, 371.598000]: Waiting for service /gazebo/spawn_sdf_model\n",
      "[INFO] [1616518192.235879, 371.598000]: Calling service /gazebo/spawn_sdf_model\n",
      "[INFO] [1616518192.407314, 371.611000]: Spawn status: SpawnModel: Successfully spawned entity\n",
      "8\n",
      "[INFO] [1616518195.141612, 371.904000]: Spawn: ycb_077_rubiks_cube\n",
      "[INFO] [1616518195.147649, 371.904000]: Spawn: [0.         0.         0.06975647 0.99756405]\n",
      "[INFO] [1616518195.154207, 371.904000]: Waiting for service /gazebo/spawn_sdf_model\n",
      "[INFO] [1616518195.168606, 371.904000]: Calling service /gazebo/spawn_sdf_model\n",
      "[INFO] [1616518195.362306, 371.916000]: Spawn status: SpawnModel: Successfully spawned entity\n",
      "9\n",
      "[INFO] [1616518197.999885, 372.188000]: Spawn: ycb_077_rubiks_cube\n",
      "[INFO] [1616518198.002477, 372.188000]: Spawn: [0.         0.         0.0784591  0.99691733]\n",
      "[INFO] [1616518198.004064, 372.188000]: Waiting for service /gazebo/spawn_sdf_model\n",
      "[INFO] [1616518198.016535, 372.190000]: Calling service /gazebo/spawn_sdf_model\n",
      "[INFO] [1616518198.250246, 372.212000]: Spawn status: SpawnModel: Successfully spawned entity\n",
      "10\n",
      "[INFO] [1616518200.532995, 372.457000]: Spawn: ycb_077_rubiks_cube\n",
      "[INFO] [1616518200.535214, 372.457000]: Spawn: [0.         0.         0.08715574 0.9961947 ]\n",
      "[INFO] [1616518200.539200, 372.458000]: Waiting for service /gazebo/spawn_sdf_model\n",
      "[INFO] [1616518200.555498, 372.460000]: Calling service /gazebo/spawn_sdf_model\n",
      "[INFO] [1616518200.780144, 372.482000]: Spawn status: SpawnModel: Successfully spawned entity\n",
      "11\n",
      "[INFO] [1616518203.505115, 372.766000]: Spawn: ycb_077_rubiks_cube\n",
      "[INFO] [1616518203.507333, 372.766000]: Spawn: [0.         0.         0.09584575 0.9953962 ]\n",
      "[INFO] [1616518203.510296, 372.766000]: Waiting for service /gazebo/spawn_sdf_model\n",
      "[INFO] [1616518203.528893, 372.766000]: Calling service /gazebo/spawn_sdf_model\n",
      "[INFO] [1616518203.719788, 372.784000]: Spawn status: SpawnModel: Successfully spawned entity\n",
      "12\n",
      "[INFO] [1616518206.275755, 373.045000]: Spawn: ycb_077_rubiks_cube\n",
      "[INFO] [1616518206.278245, 373.045000]: Spawn: [0.         0.         0.10452846 0.9945219 ]\n",
      "[INFO] [1616518206.280124, 373.045000]: Waiting for service /gazebo/spawn_sdf_model\n",
      "[INFO] [1616518206.290168, 373.046000]: Calling service /gazebo/spawn_sdf_model\n",
      "[INFO] [1616518206.452091, 373.061000]: Spawn status: SpawnModel: Successfully spawned entity\n",
      "13\n",
      "[INFO] [1616518208.777629, 373.275000]: Spawn: ycb_077_rubiks_cube\n",
      "[INFO] [1616518208.786222, 373.276000]: Spawn: [0.         0.         0.11320321 0.99357186]\n",
      "[INFO] [1616518208.787778, 373.276000]: Waiting for service /gazebo/spawn_sdf_model\n",
      "[INFO] [1616518208.799592, 373.277000]: Calling service /gazebo/spawn_sdf_model\n",
      "[INFO] [1616518208.960625, 373.288000]: Spawn status: SpawnModel: Successfully spawned entity\n",
      "14\n",
      "[INFO] [1616518212.148086, 373.582000]: Spawn: ycb_077_rubiks_cube\n",
      "[INFO] [1616518212.150119, 373.582000]: Spawn: [0.         0.         0.12186934 0.99254615]\n",
      "[INFO] [1616518212.151552, 373.582000]: Waiting for service /gazebo/spawn_sdf_model\n",
      "[INFO] [1616518212.156083, 373.582000]: Calling service /gazebo/spawn_sdf_model\n",
      "[INFO] [1616518212.298150, 373.593000]: Spawn status: SpawnModel: Successfully spawned entity\n",
      "15\n",
      "[INFO] [1616518215.076660, 373.870000]: Spawn: ycb_077_rubiks_cube\n",
      "[INFO] [1616518215.085363, 373.872000]: Spawn: [0.         0.         0.13052619 0.99144486]\n",
      "[INFO] [1616518215.092608, 373.873000]: Waiting for service /gazebo/spawn_sdf_model\n",
      "[INFO] [1616518215.099746, 373.873000]: Calling service /gazebo/spawn_sdf_model\n",
      "[INFO] [1616518215.224224, 373.884000]: Spawn status: SpawnModel: Successfully spawned entity\n",
      "16\n",
      "[INFO] [1616518218.534505, 374.163000]: Spawn: ycb_077_rubiks_cube\n",
      "[INFO] [1616518218.540292, 374.163000]: Spawn: [0.         0.         0.1391731  0.99026807]\n",
      "[INFO] [1616518218.542995, 374.163000]: Waiting for service /gazebo/spawn_sdf_model\n",
      "[INFO] [1616518218.566241, 374.163000]: Calling service /gazebo/spawn_sdf_model\n",
      "[INFO] [1616518218.785279, 374.183000]: Spawn status: SpawnModel: Successfully spawned entity\n",
      "17\n",
      "[INFO] [1616518221.908197, 374.411000]: Spawn: ycb_077_rubiks_cube\n",
      "[INFO] [1616518221.911486, 374.411000]: Spawn: [0.         0.         0.14780941 0.98901586]\n",
      "[INFO] [1616518221.912979, 374.412000]: Waiting for service /gazebo/spawn_sdf_model\n",
      "[INFO] [1616518221.923033, 374.412000]: Calling service /gazebo/spawn_sdf_model\n",
      "[INFO] [1616518222.010272, 374.413000]: Spawn status: SpawnModel: Successfully spawned entity\n",
      "18\n",
      "[INFO] [1616518224.630210, 374.677000]: Spawn: ycb_077_rubiks_cube\n",
      "[INFO] [1616518224.632455, 374.677000]: Spawn: [0.         0.         0.15643447 0.98768834]\n",
      "[INFO] [1616518224.636887, 374.677000]: Waiting for service /gazebo/spawn_sdf_model\n",
      "[INFO] [1616518224.653601, 374.679000]: Calling service /gazebo/spawn_sdf_model\n",
      "[INFO] [1616518224.783471, 374.686000]: Spawn status: SpawnModel: Successfully spawned entity\n",
      "19\n",
      "[INFO] [1616518227.449192, 374.962000]: Spawn: ycb_077_rubiks_cube\n",
      "[INFO] [1616518227.451352, 374.962000]: Spawn: [0.         0.         0.16504761 0.9862856 ]\n",
      "[INFO] [1616518227.452687, 374.962000]: Waiting for service /gazebo/spawn_sdf_model\n",
      "[INFO] [1616518227.459607, 374.962000]: Calling service /gazebo/spawn_sdf_model\n"
     ]
    },
    {
     "name": "stdout",
     "output_type": "stream",
     "text": [
      "[INFO] [1616518227.663133, 374.991000]: Spawn status: SpawnModel: Successfully spawned entity\n",
      "20\n",
      "[INFO] [1616518230.401038, 375.270000]: Spawn: ycb_077_rubiks_cube\n",
      "[INFO] [1616518230.403252, 375.270000]: Spawn: [0.         0.         0.17364818 0.98480775]\n",
      "[INFO] [1616518230.404226, 375.270000]: Waiting for service /gazebo/spawn_sdf_model\n",
      "[INFO] [1616518230.413082, 375.271000]: Calling service /gazebo/spawn_sdf_model\n",
      "[INFO] [1616518230.640657, 375.294000]: Spawn status: SpawnModel: Successfully spawned entity\n",
      "21\n",
      "[INFO] [1616518233.407101, 375.583000]: Spawn: ycb_077_rubiks_cube\n",
      "[INFO] [1616518233.411651, 375.583000]: Spawn: [0.         0.         0.18223553 0.98325491]\n",
      "[INFO] [1616518233.413472, 375.584000]: Waiting for service /gazebo/spawn_sdf_model\n",
      "[INFO] [1616518233.425311, 375.585000]: Calling service /gazebo/spawn_sdf_model\n",
      "[INFO] [1616518233.634291, 375.603000]: Spawn status: SpawnModel: Successfully spawned entity\n",
      "22\n",
      "[INFO] [1616518236.163596, 375.854000]: Spawn: ycb_077_rubiks_cube\n",
      "[INFO] [1616518236.165694, 375.854000]: Spawn: [0.         0.         0.190809   0.98162718]\n",
      "[INFO] [1616518236.166895, 375.854000]: Waiting for service /gazebo/spawn_sdf_model\n",
      "[INFO] [1616518236.176144, 375.855000]: Calling service /gazebo/spawn_sdf_model\n",
      "[INFO] [1616518236.354835, 375.874000]: Spawn status: SpawnModel: Successfully spawned entity\n",
      "23\n",
      "[INFO] [1616518238.767887, 376.129000]: Spawn: ycb_077_rubiks_cube\n",
      "[INFO] [1616518238.772605, 376.130000]: Spawn: [0.         0.         0.19936793 0.9799247 ]\n",
      "[INFO] [1616518238.773787, 376.130000]: Waiting for service /gazebo/spawn_sdf_model\n",
      "[INFO] [1616518238.777498, 376.130000]: Calling service /gazebo/spawn_sdf_model\n",
      "[INFO] [1616518238.873507, 376.134000]: Spawn status: SpawnModel: Successfully spawned entity\n",
      "24\n",
      "[INFO] [1616518241.365541, 376.394000]: Spawn: ycb_077_rubiks_cube\n",
      "[INFO] [1616518241.367911, 376.394000]: Spawn: [0.         0.         0.20791169 0.9781476 ]\n",
      "[INFO] [1616518241.369325, 376.394000]: Waiting for service /gazebo/spawn_sdf_model\n",
      "[INFO] [1616518241.375083, 376.394000]: Calling service /gazebo/spawn_sdf_model\n",
      "[INFO] [1616518241.586689, 376.407000]: Spawn status: SpawnModel: Successfully spawned entity\n",
      "25\n",
      "[INFO] [1616518244.093162, 376.664000]: Spawn: ycb_077_rubiks_cube\n",
      "[INFO] [1616518244.097143, 376.664000]: Spawn: [0.         0.         0.21643961 0.97629601]\n",
      "[INFO] [1616518244.098946, 376.664000]: Waiting for service /gazebo/spawn_sdf_model\n",
      "[INFO] [1616518244.108860, 376.665000]: Calling service /gazebo/spawn_sdf_model\n",
      "[INFO] [1616518244.338823, 376.679000]: Spawn status: SpawnModel: Successfully spawned entity\n",
      "26\n",
      "[INFO] [1616518246.678957, 376.913000]: Spawn: ycb_077_rubiks_cube\n",
      "[INFO] [1616518246.680970, 376.913000]: Spawn: [0.         0.         0.22495105 0.97437006]\n",
      "[INFO] [1616518246.682098, 376.913000]: Waiting for service /gazebo/spawn_sdf_model\n",
      "[INFO] [1616518246.702689, 376.916000]: Calling service /gazebo/spawn_sdf_model\n",
      "[INFO] [1616518246.948761, 376.925000]: Spawn status: SpawnModel: Successfully spawned entity\n",
      "27\n",
      "[INFO] [1616518250.064132, 377.261000]: Spawn: ycb_077_rubiks_cube\n",
      "[INFO] [1616518250.068772, 377.261000]: Spawn: [0.         0.         0.23344536 0.97236992]\n",
      "[INFO] [1616518250.070129, 377.261000]: Waiting for service /gazebo/spawn_sdf_model\n",
      "[INFO] [1616518250.075220, 377.262000]: Calling service /gazebo/spawn_sdf_model\n",
      "[INFO] [1616518250.292815, 377.280000]: Spawn status: SpawnModel: Successfully spawned entity\n",
      "28\n",
      "[INFO] [1616518253.185440, 377.560000]: Spawn: ycb_077_rubiks_cube\n",
      "[INFO] [1616518253.189203, 377.561000]: Spawn: [0.         0.         0.2419219  0.97029573]\n",
      "[INFO] [1616518253.190480, 377.561000]: Waiting for service /gazebo/spawn_sdf_model\n",
      "[INFO] [1616518253.201207, 377.562000]: Calling service /gazebo/spawn_sdf_model\n",
      "[INFO] [1616518253.284283, 377.563000]: Spawn status: SpawnModel: Successfully spawned entity\n",
      "29\n",
      "[INFO] [1616518255.918078, 377.827000]: Spawn: ycb_077_rubiks_cube\n",
      "[INFO] [1616518255.922789, 377.828000]: Spawn: [0.         0.         0.25038    0.96814764]\n",
      "[INFO] [1616518255.924341, 377.828000]: Waiting for service /gazebo/spawn_sdf_model\n",
      "[INFO] [1616518255.931483, 377.828000]: Calling service /gazebo/spawn_sdf_model\n",
      "[INFO] [1616518256.227646, 377.853000]: Spawn status: SpawnModel: Successfully spawned entity\n",
      "30\n",
      "[INFO] [1616518259.069751, 378.110000]: Spawn: ycb_077_rubiks_cube\n",
      "[INFO] [1616518259.073121, 378.110000]: Spawn: [0.         0.         0.25881905 0.96592583]\n",
      "[INFO] [1616518259.077346, 378.110000]: Waiting for service /gazebo/spawn_sdf_model\n",
      "[INFO] [1616518259.097301, 378.111000]: Calling service /gazebo/spawn_sdf_model\n",
      "[INFO] [1616518259.204146, 378.114000]: Spawn status: SpawnModel: Successfully spawned entity\n",
      "31\n",
      "[INFO] [1616518262.146750, 378.398000]: Spawn: ycb_077_rubiks_cube\n",
      "[INFO] [1616518262.154090, 378.398000]: Spawn: [0.         0.         0.26723838 0.96363045]\n",
      "[INFO] [1616518262.155502, 378.399000]: Waiting for service /gazebo/spawn_sdf_model\n",
      "[INFO] [1616518262.160698, 378.399000]: Calling service /gazebo/spawn_sdf_model\n",
      "[INFO] [1616518262.353104, 378.405000]: Spawn status: SpawnModel: Successfully spawned entity\n",
      "32\n",
      "[INFO] [1616518265.072534, 378.659000]: Spawn: ycb_077_rubiks_cube\n",
      "[INFO] [1616518265.075037, 378.659000]: Spawn: [0.         0.         0.27563736 0.9612617 ]\n",
      "[INFO] [1616518265.080051, 378.660000]: Waiting for service /gazebo/spawn_sdf_model\n",
      "[INFO] [1616518265.091898, 378.662000]: Calling service /gazebo/spawn_sdf_model\n",
      "[INFO] [1616518265.315712, 378.667000]: Spawn status: SpawnModel: Successfully spawned entity\n",
      "33\n",
      "[INFO] [1616518267.886372, 378.930000]: Spawn: ycb_077_rubiks_cube\n",
      "[INFO] [1616518267.891997, 378.931000]: Spawn: [0.         0.         0.28401534 0.95881973]\n",
      "[INFO] [1616518267.895900, 378.932000]: Waiting for service /gazebo/spawn_sdf_model\n",
      "[INFO] [1616518267.900482, 378.932000]: Calling service /gazebo/spawn_sdf_model\n",
      "[INFO] [1616518268.085962, 378.941000]: Spawn status: SpawnModel: Successfully spawned entity\n",
      "34\n",
      "[INFO] [1616518271.048408, 379.162000]: Spawn: ycb_077_rubiks_cube\n",
      "[INFO] [1616518271.051851, 379.162000]: Spawn: [0.         0.         0.2923717  0.95630476]\n",
      "[INFO] [1616518271.053628, 379.162000]: Waiting for service /gazebo/spawn_sdf_model\n",
      "[INFO] [1616518271.060660, 379.162000]: Calling service /gazebo/spawn_sdf_model\n",
      "[INFO] [1616518271.273341, 379.179000]: Spawn status: SpawnModel: Successfully spawned entity\n",
      "35\n",
      "[INFO] [1616518274.210770, 379.439000]: Spawn: ycb_077_rubiks_cube\n",
      "[INFO] [1616518274.213380, 379.440000]: Spawn: [0.         0.         0.3007058  0.95371695]\n",
      "[INFO] [1616518274.216445, 379.440000]: Waiting for service /gazebo/spawn_sdf_model\n",
      "[INFO] [1616518274.233695, 379.442000]: Calling service /gazebo/spawn_sdf_model\n",
      "[INFO] [1616518274.416195, 379.453000]: Spawn status: SpawnModel: Successfully spawned entity\n",
      "36\n",
      "[INFO] [1616518277.811362, 379.773000]: Spawn: ycb_077_rubiks_cube\n",
      "[INFO] [1616518277.815576, 379.774000]: Spawn: [0.         0.         0.30901699 0.95105652]\n",
      "[INFO] [1616518277.816826, 379.774000]: Waiting for service /gazebo/spawn_sdf_model\n",
      "[INFO] [1616518277.828275, 379.775000]: Calling service /gazebo/spawn_sdf_model\n",
      "[INFO] [1616518277.982570, 379.788000]: Spawn status: SpawnModel: Successfully spawned entity\n",
      "37\n",
      "[INFO] [1616518280.496935, 380.038000]: Spawn: ycb_077_rubiks_cube\n",
      "[INFO] [1616518280.500088, 380.038000]: Spawn: [0.         0.         0.31730466 0.94832366]\n",
      "[INFO] [1616518280.510121, 380.038000]: Waiting for service /gazebo/spawn_sdf_model\n",
      "[INFO] [1616518280.516806, 380.038000]: Calling service /gazebo/spawn_sdf_model\n",
      "[INFO] [1616518280.715341, 380.057000]: Spawn status: SpawnModel: Successfully spawned entity\n",
      "38\n",
      "[INFO] [1616518283.205935, 380.319000]: Spawn: ycb_077_rubiks_cube\n",
      "[INFO] [1616518283.209821, 380.320000]: Spawn: [0.         0.         0.32556815 0.94551858]\n",
      "[INFO] [1616518283.211170, 380.320000]: Waiting for service /gazebo/spawn_sdf_model\n",
      "[INFO] [1616518283.216020, 380.320000]: Calling service /gazebo/spawn_sdf_model\n",
      "[INFO] [1616518283.440009, 380.344000]: Spawn status: SpawnModel: Successfully spawned entity\n",
      "39\n",
      "[INFO] [1616518285.781363, 380.572000]: Spawn: ycb_077_rubiks_cube\n",
      "[INFO] [1616518285.783934, 380.573000]: Spawn: [0.         0.         0.33380686 0.94264149]\n",
      "[INFO] [1616518285.787604, 380.574000]: Waiting for service /gazebo/spawn_sdf_model\n",
      "[INFO] [1616518285.790973, 380.574000]: Calling service /gazebo/spawn_sdf_model\n"
     ]
    },
    {
     "name": "stdout",
     "output_type": "stream",
     "text": [
      "[INFO] [1616518286.013189, 380.594000]: Spawn status: SpawnModel: Successfully spawned entity\n",
      "40\n",
      "[INFO] [1616518288.731627, 380.852000]: Spawn: ycb_077_rubiks_cube\n",
      "[INFO] [1616518288.734068, 380.852000]: Spawn: [0.         0.         0.34202014 0.93969262]\n",
      "[INFO] [1616518288.736869, 380.852000]: Waiting for service /gazebo/spawn_sdf_model\n",
      "[INFO] [1616518288.754769, 380.855000]: Calling service /gazebo/spawn_sdf_model\n",
      "[INFO] [1616518288.970394, 380.876000]: Spawn status: SpawnModel: Successfully spawned entity\n",
      "41\n",
      "[INFO] [1616518291.677088, 381.130000]: Spawn: ycb_077_rubiks_cube\n",
      "[INFO] [1616518291.679306, 381.130000]: Spawn: [0.         0.         0.35020738 0.93667219]\n",
      "[INFO] [1616518291.680526, 381.130000]: Waiting for service /gazebo/spawn_sdf_model\n",
      "[INFO] [1616518291.714374, 381.130000]: Calling service /gazebo/spawn_sdf_model\n",
      "[INFO] [1616518291.883462, 381.143000]: Spawn status: SpawnModel: Successfully spawned entity\n",
      "42\n",
      "[INFO] [1616518294.557887, 381.368000]: Spawn: ycb_077_rubiks_cube\n",
      "[INFO] [1616518294.559905, 381.368000]: Spawn: [0.         0.         0.35836795 0.93358043]\n",
      "[INFO] [1616518294.561524, 381.368000]: Waiting for service /gazebo/spawn_sdf_model\n",
      "[INFO] [1616518294.565077, 381.368000]: Calling service /gazebo/spawn_sdf_model\n",
      "[INFO] [1616518294.870366, 381.398000]: Spawn status: SpawnModel: Successfully spawned entity\n",
      "43\n",
      "[INFO] [1616518297.354455, 381.636000]: Spawn: ycb_077_rubiks_cube\n",
      "[INFO] [1616518297.356831, 381.636000]: Spawn: [0.         0.         0.36650123 0.93041757]\n",
      "[INFO] [1616518297.359065, 381.636000]: Waiting for service /gazebo/spawn_sdf_model\n",
      "[INFO] [1616518297.368170, 381.637000]: Calling service /gazebo/spawn_sdf_model\n",
      "[INFO] [1616518297.586269, 381.657000]: Spawn status: SpawnModel: Successfully spawned entity\n",
      "44\n",
      "[INFO] [1616518300.314496, 381.915000]: Spawn: ycb_077_rubiks_cube\n",
      "[INFO] [1616518300.316913, 381.915000]: Spawn: [0.         0.         0.37460659 0.92718385]\n",
      "[INFO] [1616518300.326129, 381.916000]: Waiting for service /gazebo/spawn_sdf_model\n",
      "[INFO] [1616518300.344542, 381.917000]: Calling service /gazebo/spawn_sdf_model\n",
      "[INFO] [1616518300.586793, 381.931000]: Spawn status: SpawnModel: Successfully spawned entity\n",
      "45\n",
      "[INFO] [1616518302.910233, 382.168000]: Spawn: ycb_077_rubiks_cube\n",
      "[INFO] [1616518302.912538, 382.168000]: Spawn: [0.         0.         0.38268343 0.92387953]\n",
      "[INFO] [1616518302.915555, 382.168000]: Waiting for service /gazebo/spawn_sdf_model\n",
      "[INFO] [1616518302.922858, 382.168000]: Calling service /gazebo/spawn_sdf_model\n",
      "[INFO] [1616518303.122858, 382.186000]: Spawn status: SpawnModel: Successfully spawned entity\n",
      "46\n",
      "[INFO] [1616518305.368640, 382.425000]: Spawn: ycb_077_rubiks_cube\n",
      "[INFO] [1616518305.371147, 382.425000]: Spawn: [0.         0.         0.39073113 0.92050485]\n",
      "[INFO] [1616518305.373741, 382.426000]: Waiting for service /gazebo/spawn_sdf_model\n",
      "[INFO] [1616518305.380187, 382.426000]: Calling service /gazebo/spawn_sdf_model\n",
      "[INFO] [1616518305.625161, 382.441000]: Spawn status: SpawnModel: Successfully spawned entity\n",
      "47\n",
      "[INFO] [1616518307.896535, 382.676000]: Spawn: ycb_077_rubiks_cube\n",
      "[INFO] [1616518307.898520, 382.676000]: Spawn: [0.         0.         0.39874907 0.91706007]\n",
      "[INFO] [1616518307.899623, 382.676000]: Waiting for service /gazebo/spawn_sdf_model\n",
      "[INFO] [1616518307.916552, 382.678000]: Calling service /gazebo/spawn_sdf_model\n",
      "[INFO] [1616518308.176765, 382.700000]: Spawn status: SpawnModel: Successfully spawned entity\n",
      "48\n",
      "[INFO] [1616518310.416914, 382.929000]: Spawn: ycb_077_rubiks_cube\n",
      "[INFO] [1616518310.420548, 382.930000]: Spawn: [0.         0.         0.40673664 0.91354546]\n",
      "[INFO] [1616518310.421744, 382.930000]: Waiting for service /gazebo/spawn_sdf_model\n",
      "[INFO] [1616518310.431707, 382.931000]: Calling service /gazebo/spawn_sdf_model\n",
      "[INFO] [1616518310.678591, 382.953000]: Spawn status: SpawnModel: Successfully spawned entity\n",
      "49\n",
      "[INFO] [1616518313.194592, 383.231000]: Spawn: ycb_077_rubiks_cube\n",
      "[INFO] [1616518313.201083, 383.233000]: Spawn: [0.         0.         0.41469324 0.90996127]\n",
      "[INFO] [1616518313.202289, 383.233000]: Waiting for service /gazebo/spawn_sdf_model\n",
      "[INFO] [1616518313.212824, 383.235000]: Calling service /gazebo/spawn_sdf_model\n",
      "[INFO] [1616518313.392122, 383.249000]: Spawn status: SpawnModel: Successfully spawned entity\n",
      "50\n",
      "[INFO] [1616518315.714129, 383.499000]: Spawn: ycb_077_rubiks_cube\n",
      "[INFO] [1616518315.718993, 383.499000]: Spawn: [0.         0.         0.42261826 0.90630779]\n",
      "[INFO] [1616518315.721332, 383.500000]: Waiting for service /gazebo/spawn_sdf_model\n",
      "[INFO] [1616518315.728121, 383.500000]: Calling service /gazebo/spawn_sdf_model\n",
      "[INFO] [1616518315.904269, 383.520000]: Spawn status: SpawnModel: Successfully spawned entity\n",
      "51\n",
      "[INFO] [1616518318.366925, 383.775000]: Spawn: ycb_077_rubiks_cube\n",
      "[INFO] [1616518318.368979, 383.775000]: Spawn: [0.         0.         0.4305111  0.90258528]\n",
      "[INFO] [1616518318.370096, 383.775000]: Waiting for service /gazebo/spawn_sdf_model\n",
      "[INFO] [1616518318.378413, 383.776000]: Calling service /gazebo/spawn_sdf_model\n",
      "[INFO] [1616518318.636137, 383.798000]: Spawn status: SpawnModel: Successfully spawned entity\n",
      "52\n",
      "[INFO] [1616518320.890203, 384.036000]: Spawn: ycb_077_rubiks_cube\n",
      "[INFO] [1616518320.893077, 384.036000]: Spawn: [0.         0.         0.43837115 0.89879405]\n",
      "[INFO] [1616518320.899522, 384.037000]: Waiting for service /gazebo/spawn_sdf_model\n",
      "[INFO] [1616518320.913543, 384.039000]: Calling service /gazebo/spawn_sdf_model\n",
      "[INFO] [1616518321.141493, 384.066000]: Spawn status: SpawnModel: Successfully spawned entity\n",
      "53\n",
      "[INFO] [1616518323.731736, 384.359000]: Spawn: ycb_077_rubiks_cube\n",
      "[INFO] [1616518323.734986, 384.359000]: Spawn: [0.         0.         0.44619781 0.89493436]\n",
      "[INFO] [1616518323.736427, 384.359000]: Waiting for service /gazebo/spawn_sdf_model\n",
      "[INFO] [1616518323.746978, 384.360000]: Calling service /gazebo/spawn_sdf_model\n",
      "[INFO] [1616518323.870855, 384.366000]: Spawn status: SpawnModel: Successfully spawned entity\n",
      "54\n",
      "[INFO] [1616518326.399660, 384.611000]: Spawn: ycb_077_rubiks_cube\n",
      "[INFO] [1616518326.405306, 384.612000]: Spawn: [0.         0.         0.4539905  0.89100652]\n",
      "[INFO] [1616518326.406543, 384.612000]: Waiting for service /gazebo/spawn_sdf_model\n",
      "[INFO] [1616518326.420102, 384.614000]: Calling service /gazebo/spawn_sdf_model\n",
      "[INFO] [1616518326.625579, 384.632000]: Spawn status: SpawnModel: Successfully spawned entity\n",
      "55\n",
      "[INFO] [1616518329.285657, 384.911000]: Spawn: ycb_077_rubiks_cube\n",
      "[INFO] [1616518329.289565, 384.912000]: Spawn: [0.         0.         0.46174861 0.88701083]\n",
      "[INFO] [1616518329.290873, 384.912000]: Waiting for service /gazebo/spawn_sdf_model\n",
      "[INFO] [1616518329.303198, 384.913000]: Calling service /gazebo/spawn_sdf_model\n",
      "[INFO] [1616518329.553946, 384.928000]: Spawn status: SpawnModel: Successfully spawned entity\n",
      "56\n",
      "[INFO] [1616518332.083690, 385.167000]: Spawn: ycb_077_rubiks_cube\n",
      "[INFO] [1616518332.086218, 385.167000]: Spawn: [0.         0.         0.46947156 0.88294759]\n",
      "[INFO] [1616518332.088084, 385.167000]: Waiting for service /gazebo/spawn_sdf_model\n",
      "[INFO] [1616518332.095289, 385.172000]: Calling service /gazebo/spawn_sdf_model\n",
      "[INFO] [1616518332.342990, 385.195000]: Spawn status: SpawnModel: Successfully spawned entity\n",
      "57\n",
      "[INFO] [1616518334.499899, 385.427000]: Spawn: ycb_077_rubiks_cube\n",
      "[INFO] [1616518334.504854, 385.427000]: Spawn: [0.         0.         0.47715876 0.87881711]\n",
      "[INFO] [1616518334.507205, 385.428000]: Waiting for service /gazebo/spawn_sdf_model\n",
      "[INFO] [1616518334.514489, 385.429000]: Calling service /gazebo/spawn_sdf_model\n",
      "[INFO] [1616518334.696997, 385.439000]: Spawn status: SpawnModel: Successfully spawned entity\n",
      "58\n",
      "[INFO] [1616518337.210522, 385.702000]: Spawn: ycb_077_rubiks_cube\n",
      "[INFO] [1616518337.214337, 385.702000]: Spawn: [0.         0.         0.48480962 0.87461971]\n",
      "[INFO] [1616518337.221712, 385.702000]: Waiting for service /gazebo/spawn_sdf_model\n",
      "[INFO] [1616518337.245116, 385.702000]: Calling service /gazebo/spawn_sdf_model\n",
      "[INFO] [1616518337.397990, 385.717000]: Spawn status: SpawnModel: Successfully spawned entity\n",
      "59\n",
      "[INFO] [1616518339.669466, 385.945000]: Spawn: ycb_077_rubiks_cube\n",
      "[INFO] [1616518339.671511, 385.945000]: Spawn: [0.         0.         0.49242356 0.8703557 ]\n",
      "[INFO] [1616518339.672844, 385.945000]: Waiting for service /gazebo/spawn_sdf_model\n",
      "[INFO] [1616518339.678669, 385.945000]: Calling service /gazebo/spawn_sdf_model\n",
      "[INFO] [1616518339.724378, 385.947000]: Spawn status: SpawnModel: Successfully spawned entity\n"
     ]
    },
    {
     "name": "stdout",
     "output_type": "stream",
     "text": [
      "60\n",
      "[INFO] [1616518341.957494, 386.197000]: Spawn: ycb_077_rubiks_cube\n",
      "[INFO] [1616518341.964213, 386.197000]: Spawn: [0.        0.        0.5       0.8660254]\n",
      "[INFO] [1616518341.966721, 386.197000]: Waiting for service /gazebo/spawn_sdf_model\n",
      "[INFO] [1616518341.980664, 386.198000]: Calling service /gazebo/spawn_sdf_model\n",
      "[INFO] [1616518342.223043, 386.222000]: Spawn status: SpawnModel: Successfully spawned entity\n",
      "61\n",
      "[INFO] [1616518344.971374, 386.521000]: Spawn: ycb_077_rubiks_cube\n",
      "[INFO] [1616518344.974551, 386.521000]: Spawn: [0.         0.         0.50753836 0.86162916]\n",
      "[INFO] [1616518344.975927, 386.521000]: Waiting for service /gazebo/spawn_sdf_model\n",
      "[INFO] [1616518344.983058, 386.522000]: Calling service /gazebo/spawn_sdf_model\n",
      "[INFO] [1616518345.153833, 386.536000]: Spawn status: SpawnModel: Successfully spawned entity\n",
      "62\n",
      "[INFO] [1616518347.628927, 386.780000]: Spawn: ycb_077_rubiks_cube\n",
      "[INFO] [1616518347.631102, 386.780000]: Spawn: [0.         0.         0.51503807 0.8571673 ]\n",
      "[INFO] [1616518347.634434, 386.781000]: Waiting for service /gazebo/spawn_sdf_model\n",
      "[INFO] [1616518347.642609, 386.782000]: Calling service /gazebo/spawn_sdf_model\n",
      "[INFO] [1616518347.912751, 386.803000]: Spawn status: SpawnModel: Successfully spawned entity\n",
      "63\n",
      "[INFO] [1616518350.514325, 387.070000]: Spawn: ycb_077_rubiks_cube\n",
      "[INFO] [1616518350.524661, 387.070000]: Spawn: [0.         0.         0.52249856 0.85264016]\n",
      "[INFO] [1616518350.529043, 387.070000]: Waiting for service /gazebo/spawn_sdf_model\n",
      "[INFO] [1616518350.540372, 387.070000]: Calling service /gazebo/spawn_sdf_model\n",
      "[INFO] [1616518350.667033, 387.085000]: Spawn status: SpawnModel: Successfully spawned entity\n",
      "64\n",
      "[INFO] [1616518353.439927, 387.368000]: Spawn: ycb_077_rubiks_cube\n",
      "[INFO] [1616518353.449574, 387.368000]: Spawn: [0.         0.         0.52991926 0.8480481 ]\n",
      "[INFO] [1616518353.452836, 387.368000]: Waiting for service /gazebo/spawn_sdf_model\n",
      "[INFO] [1616518353.477386, 387.371000]: Calling service /gazebo/spawn_sdf_model\n",
      "[INFO] [1616518353.569228, 387.380000]: Spawn status: SpawnModel: Successfully spawned entity\n",
      "65\n",
      "[INFO] [1616518356.048447, 387.632000]: Spawn: ycb_077_rubiks_cube\n",
      "[INFO] [1616518356.051913, 387.632000]: Spawn: [0.         0.         0.53729961 0.84339145]\n",
      "[INFO] [1616518356.056728, 387.633000]: Waiting for service /gazebo/spawn_sdf_model\n",
      "[INFO] [1616518356.061118, 387.633000]: Calling service /gazebo/spawn_sdf_model\n",
      "[INFO] [1616518356.307589, 387.655000]: Spawn status: SpawnModel: Successfully spawned entity\n",
      "66\n",
      "[INFO] [1616518358.772388, 387.922000]: Spawn: ycb_077_rubiks_cube\n",
      "[INFO] [1616518358.774430, 387.922000]: Spawn: [0.         0.         0.54463904 0.83867057]\n",
      "[INFO] [1616518358.777303, 387.923000]: Waiting for service /gazebo/spawn_sdf_model\n",
      "[INFO] [1616518358.792132, 387.925000]: Calling service /gazebo/spawn_sdf_model\n",
      "[INFO] [1616518358.890584, 387.927000]: Spawn status: SpawnModel: Successfully spawned entity\n",
      "67\n",
      "[INFO] [1616518361.238383, 388.171000]: Spawn: ycb_077_rubiks_cube\n",
      "[INFO] [1616518361.242074, 388.171000]: Spawn: [0.         0.         0.55193699 0.83388582]\n",
      "[INFO] [1616518361.244720, 388.172000]: Waiting for service /gazebo/spawn_sdf_model\n",
      "[INFO] [1616518361.255629, 388.172000]: Calling service /gazebo/spawn_sdf_model\n",
      "[INFO] [1616518361.437431, 388.191000]: Spawn status: SpawnModel: Successfully spawned entity\n",
      "68\n",
      "[INFO] [1616518363.899395, 388.435000]: Spawn: ycb_077_rubiks_cube\n",
      "[INFO] [1616518363.901526, 388.435000]: Spawn: [0.         0.         0.5591929  0.82903757]\n",
      "[INFO] [1616518363.902732, 388.435000]: Waiting for service /gazebo/spawn_sdf_model\n",
      "[INFO] [1616518363.905823, 388.435000]: Calling service /gazebo/spawn_sdf_model\n",
      "[INFO] [1616518363.978490, 388.438000]: Spawn status: SpawnModel: Successfully spawned entity\n",
      "69\n",
      "[INFO] [1616518366.493755, 388.698000]: Spawn: ycb_077_rubiks_cube\n",
      "[INFO] [1616518366.496572, 388.698000]: Spawn: [0.         0.         0.56640624 0.82412619]\n",
      "[INFO] [1616518366.497953, 388.699000]: Waiting for service /gazebo/spawn_sdf_model\n",
      "[INFO] [1616518366.503960, 388.702000]: Calling service /gazebo/spawn_sdf_model\n",
      "[INFO] [1616518366.685565, 388.722000]: Spawn status: SpawnModel: Successfully spawned entity\n",
      "70\n",
      "[INFO] [1616518369.040782, 388.964000]: Spawn: ycb_077_rubiks_cube\n",
      "[INFO] [1616518369.047820, 388.964000]: Spawn: [0.         0.         0.57357644 0.81915204]\n",
      "[INFO] [1616518369.051073, 388.964000]: Waiting for service /gazebo/spawn_sdf_model\n",
      "[INFO] [1616518369.059278, 388.964000]: Calling service /gazebo/spawn_sdf_model\n",
      "[INFO] [1616518369.216417, 388.979000]: Spawn status: SpawnModel: Successfully spawned entity\n",
      "71\n",
      "[INFO] [1616518371.434805, 389.225000]: Spawn: ycb_077_rubiks_cube\n",
      "[INFO] [1616518371.439167, 389.226000]: Spawn: [0.         0.         0.58070296 0.81411552]\n",
      "[INFO] [1616518371.440873, 389.226000]: Waiting for service /gazebo/spawn_sdf_model\n",
      "[INFO] [1616518371.452599, 389.228000]: Calling service /gazebo/spawn_sdf_model\n",
      "[INFO] [1616518371.553426, 389.232000]: Spawn status: SpawnModel: Successfully spawned entity\n",
      "72\n",
      "[INFO] [1616518373.763357, 389.471000]: Spawn: ycb_077_rubiks_cube\n",
      "[INFO] [1616518373.767059, 389.471000]: Spawn: [0.         0.         0.58778525 0.80901699]\n",
      "[INFO] [1616518373.774861, 389.471000]: Waiting for service /gazebo/spawn_sdf_model\n",
      "[INFO] [1616518373.786886, 389.471000]: Calling service /gazebo/spawn_sdf_model\n",
      "[INFO] [1616518373.864922, 389.473000]: Spawn status: SpawnModel: Successfully spawned entity\n",
      "73\n",
      "[INFO] [1616518376.322542, 389.716000]: Spawn: ycb_077_rubiks_cube\n",
      "[INFO] [1616518376.327923, 389.717000]: Spawn: [0.         0.         0.59482279 0.80385686]\n",
      "[INFO] [1616518376.329817, 389.717000]: Waiting for service /gazebo/spawn_sdf_model\n",
      "[INFO] [1616518376.348978, 389.720000]: Calling service /gazebo/spawn_sdf_model\n",
      "[INFO] [1616518376.552542, 389.736000]: Spawn status: SpawnModel: Successfully spawned entity\n",
      "74\n",
      "[INFO] [1616518379.210582, 390.022000]: Spawn: ycb_077_rubiks_cube\n",
      "[INFO] [1616518379.212579, 390.022000]: Spawn: [0.         0.         0.60181502 0.79863551]\n",
      "[INFO] [1616518379.218911, 390.023000]: Waiting for service /gazebo/spawn_sdf_model\n",
      "[INFO] [1616518379.234868, 390.025000]: Calling service /gazebo/spawn_sdf_model\n",
      "[INFO] [1616518379.444158, 390.042000]: Spawn status: SpawnModel: Successfully spawned entity\n",
      "75\n",
      "[INFO] [1616518382.156765, 390.332000]: Spawn: ycb_077_rubiks_cube\n",
      "[INFO] [1616518382.159938, 390.332000]: Spawn: [0.         0.         0.60876143 0.79335334]\n",
      "[INFO] [1616518382.162147, 390.332000]: Waiting for service /gazebo/spawn_sdf_model\n",
      "[INFO] [1616518382.172308, 390.332000]: Calling service /gazebo/spawn_sdf_model\n",
      "[INFO] [1616518382.346135, 390.357000]: Spawn status: SpawnModel: Successfully spawned entity\n",
      "76\n",
      "[INFO] [1616518384.859382, 390.606000]: Spawn: ycb_077_rubiks_cube\n",
      "[INFO] [1616518384.861719, 390.607000]: Spawn: [0.         0.         0.61566148 0.78801075]\n",
      "[INFO] [1616518384.862760, 390.607000]: Waiting for service /gazebo/spawn_sdf_model\n",
      "[INFO] [1616518384.869061, 390.607000]: Calling service /gazebo/spawn_sdf_model\n",
      "[INFO] [1616518385.133072, 390.630000]: Spawn status: SpawnModel: Successfully spawned entity\n",
      "77\n",
      "[INFO] [1616518387.464856, 390.859000]: Spawn: ycb_077_rubiks_cube\n",
      "[INFO] [1616518387.467768, 390.859000]: Spawn: [0.         0.         0.62251464 0.78260816]\n",
      "[INFO] [1616518387.468959, 390.859000]: Waiting for service /gazebo/spawn_sdf_model\n",
      "[INFO] [1616518387.483056, 390.860000]: Calling service /gazebo/spawn_sdf_model\n",
      "[INFO] [1616518387.672878, 390.881000]: Spawn status: SpawnModel: Successfully spawned entity\n",
      "78\n",
      "[INFO] [1616518390.209967, 391.153000]: Spawn: ycb_077_rubiks_cube\n",
      "[INFO] [1616518390.212715, 391.153000]: Spawn: [0.         0.         0.62932039 0.77714596]\n",
      "[INFO] [1616518390.214101, 391.153000]: Waiting for service /gazebo/spawn_sdf_model\n",
      "[INFO] [1616518390.230963, 391.154000]: Calling service /gazebo/spawn_sdf_model\n",
      "[INFO] [1616518390.454520, 391.173000]: Spawn status: SpawnModel: Successfully spawned entity\n",
      "79\n",
      "[INFO] [1616518393.008369, 391.445000]: Spawn: ycb_077_rubiks_cube\n",
      "[INFO] [1616518393.010572, 391.445000]: Spawn: [0.         0.         0.63607822 0.77162458]\n",
      "[INFO] [1616518393.013588, 391.445000]: Waiting for service /gazebo/spawn_sdf_model\n",
      "[INFO] [1616518393.036858, 391.448000]: Calling service /gazebo/spawn_sdf_model\n"
     ]
    },
    {
     "name": "stdout",
     "output_type": "stream",
     "text": [
      "[INFO] [1616518393.265198, 391.467000]: Spawn status: SpawnModel: Successfully spawned entity\n",
      "80\n",
      "[INFO] [1616518395.759633, 391.708000]: Spawn: ycb_077_rubiks_cube\n",
      "[INFO] [1616518395.762168, 391.708000]: Spawn: [0.         0.         0.64278761 0.76604444]\n",
      "[INFO] [1616518395.765862, 391.708000]: Waiting for service /gazebo/spawn_sdf_model\n",
      "[INFO] [1616518395.771227, 391.708000]: Calling service /gazebo/spawn_sdf_model\n",
      "[INFO] [1616518396.022914, 391.735000]: Spawn status: SpawnModel: Successfully spawned entity\n",
      "81\n",
      "[INFO] [1616518398.372566, 391.973000]: Spawn: ycb_077_rubiks_cube\n",
      "[INFO] [1616518398.376974, 391.974000]: Spawn: [0.         0.         0.64944805 0.76040597]\n",
      "[INFO] [1616518398.378402, 391.974000]: Waiting for service /gazebo/spawn_sdf_model\n",
      "[INFO] [1616518398.380828, 391.974000]: Calling service /gazebo/spawn_sdf_model\n",
      "[INFO] [1616518398.564652, 391.988000]: Spawn status: SpawnModel: Successfully spawned entity\n",
      "82\n",
      "[INFO] [1616518400.897994, 392.213000]: Spawn: ycb_077_rubiks_cube\n",
      "[INFO] [1616518400.900581, 392.213000]: Spawn: [0.         0.         0.65605903 0.75470958]\n",
      "[INFO] [1616518400.901782, 392.213000]: Waiting for service /gazebo/spawn_sdf_model\n",
      "[INFO] [1616518400.914282, 392.214000]: Calling service /gazebo/spawn_sdf_model\n",
      "[INFO] [1616518401.071405, 392.232000]: Spawn status: SpawnModel: Successfully spawned entity\n",
      "83\n",
      "[INFO] [1616518404.212902, 392.578000]: Spawn: ycb_077_rubiks_cube\n",
      "[INFO] [1616518404.215062, 392.578000]: Spawn: [0.         0.         0.66262005 0.74895572]\n",
      "[INFO] [1616518404.216183, 392.578000]: Waiting for service /gazebo/spawn_sdf_model\n",
      "[INFO] [1616518404.228292, 392.580000]: Calling service /gazebo/spawn_sdf_model\n",
      "[INFO] [1616518404.382527, 392.596000]: Spawn status: SpawnModel: Successfully spawned entity\n",
      "84\n",
      "[INFO] [1616518406.853070, 392.854000]: Spawn: ycb_077_rubiks_cube\n",
      "[INFO] [1616518406.855642, 392.854000]: Spawn: [0.         0.         0.66913061 0.74314483]\n",
      "[INFO] [1616518406.858852, 392.855000]: Waiting for service /gazebo/spawn_sdf_model\n",
      "[INFO] [1616518406.861361, 392.855000]: Calling service /gazebo/spawn_sdf_model\n",
      "[INFO] [1616518407.097761, 392.876000]: Spawn status: SpawnModel: Successfully spawned entity\n",
      "85\n",
      "[INFO] [1616518409.401349, 393.118000]: Spawn: ycb_077_rubiks_cube\n",
      "[INFO] [1616518409.404301, 393.118000]: Spawn: [0.         0.         0.67559021 0.73727734]\n",
      "[INFO] [1616518409.406297, 393.118000]: Waiting for service /gazebo/spawn_sdf_model\n",
      "[INFO] [1616518409.409742, 393.118000]: Calling service /gazebo/spawn_sdf_model\n",
      "[INFO] [1616518409.600813, 393.139000]: Spawn status: SpawnModel: Successfully spawned entity\n",
      "86\n",
      "[INFO] [1616518411.839624, 393.369000]: Spawn: ycb_077_rubiks_cube\n",
      "[INFO] [1616518411.842143, 393.370000]: Spawn: [0.         0.         0.68199836 0.7313537 ]\n",
      "[INFO] [1616518411.843483, 393.370000]: Waiting for service /gazebo/spawn_sdf_model\n",
      "[INFO] [1616518411.846258, 393.370000]: Calling service /gazebo/spawn_sdf_model\n",
      "[INFO] [1616518411.927375, 393.371000]: Spawn status: SpawnModel: Successfully spawned entity\n",
      "87\n",
      "[INFO] [1616518414.368190, 393.609000]: Spawn: ycb_077_rubiks_cube\n",
      "[INFO] [1616518414.379934, 393.609000]: Spawn: [0.         0.         0.68835458 0.72537437]\n",
      "[INFO] [1616518414.384651, 393.609000]: Waiting for service /gazebo/spawn_sdf_model\n",
      "[INFO] [1616518414.389086, 393.609000]: Calling service /gazebo/spawn_sdf_model\n",
      "[INFO] [1616518414.464387, 393.614000]: Spawn status: SpawnModel: Successfully spawned entity\n",
      "88\n",
      "[INFO] [1616518417.688946, 393.950000]: Spawn: ycb_077_rubiks_cube\n",
      "[INFO] [1616518417.691394, 393.952000]: Spawn: [0.         0.         0.69465837 0.7193398 ]\n",
      "[INFO] [1616518417.693699, 393.952000]: Waiting for service /gazebo/spawn_sdf_model\n",
      "[INFO] [1616518417.704823, 393.953000]: Calling service /gazebo/spawn_sdf_model\n",
      "[INFO] [1616518417.820442, 393.962000]: Spawn status: SpawnModel: Successfully spawned entity\n",
      "89\n",
      "[INFO] [1616518420.176266, 394.209000]: Spawn: ycb_077_rubiks_cube\n",
      "[INFO] [1616518420.182152, 394.209000]: Spawn: [0.         0.         0.70090926 0.71325045]\n",
      "[INFO] [1616518420.184849, 394.209000]: Waiting for service /gazebo/spawn_sdf_model\n",
      "[INFO] [1616518420.192094, 394.209000]: Calling service /gazebo/spawn_sdf_model\n",
      "[INFO] [1616518420.345603, 394.220000]: Spawn status: SpawnModel: Successfully spawned entity\n",
      "90\n",
      "[INFO] [1616518422.801680, 394.482000]: Spawn: ycb_077_rubiks_cube\n",
      "[INFO] [1616518422.804269, 394.482000]: Spawn: [0.         0.         0.70710678 0.70710678]\n",
      "[INFO] [1616518422.805600, 394.482000]: Waiting for service /gazebo/spawn_sdf_model\n",
      "[INFO] [1616518422.815201, 394.483000]: Calling service /gazebo/spawn_sdf_model\n",
      "[INFO] [1616518423.044777, 394.506000]: Spawn status: SpawnModel: Successfully spawned entity\n",
      "91\n",
      "[INFO] [1616518425.307385, 394.754000]: Spawn: ycb_077_rubiks_cube\n",
      "[INFO] [1616518425.309286, 394.754000]: Spawn: [0.         0.         0.71325045 0.70090926]\n",
      "[INFO] [1616518425.310528, 394.754000]: Waiting for service /gazebo/spawn_sdf_model\n",
      "[INFO] [1616518425.317714, 394.755000]: Calling service /gazebo/spawn_sdf_model\n",
      "[INFO] [1616518425.562195, 394.777000]: Spawn status: SpawnModel: Successfully spawned entity\n",
      "92\n",
      "[INFO] [1616518427.896742, 395.013000]: Spawn: ycb_077_rubiks_cube\n",
      "[INFO] [1616518427.898977, 395.013000]: Spawn: [0.         0.         0.7193398  0.69465837]\n",
      "[INFO] [1616518427.900066, 395.013000]: Waiting for service /gazebo/spawn_sdf_model\n",
      "[INFO] [1616518427.912227, 395.013000]: Calling service /gazebo/spawn_sdf_model\n",
      "[INFO] [1616518428.100485, 395.029000]: Spawn status: SpawnModel: Successfully spawned entity\n",
      "93\n",
      "[INFO] [1616518431.096881, 395.340000]: Spawn: ycb_077_rubiks_cube\n",
      "[INFO] [1616518431.098787, 395.340000]: Spawn: [0.         0.         0.72537437 0.68835458]\n",
      "[INFO] [1616518431.100520, 395.340000]: Waiting for service /gazebo/spawn_sdf_model\n",
      "[INFO] [1616518431.109639, 395.341000]: Calling service /gazebo/spawn_sdf_model\n",
      "[INFO] [1616518431.241032, 395.359000]: Spawn status: SpawnModel: Successfully spawned entity\n",
      "94\n",
      "[INFO] [1616518433.983364, 395.639000]: Spawn: ycb_077_rubiks_cube\n",
      "[INFO] [1616518433.987264, 395.639000]: Spawn: [0.         0.         0.7313537  0.68199836]\n",
      "[INFO] [1616518433.989449, 395.639000]: Waiting for service /gazebo/spawn_sdf_model\n",
      "[INFO] [1616518433.993248, 395.639000]: Calling service /gazebo/spawn_sdf_model\n",
      "[INFO] [1616518434.197781, 395.656000]: Spawn status: SpawnModel: Successfully spawned entity\n",
      "95\n",
      "[INFO] [1616518436.950923, 395.943000]: Spawn: ycb_077_rubiks_cube\n",
      "[INFO] [1616518436.953689, 395.943000]: Spawn: [0.         0.         0.73727734 0.67559021]\n",
      "[INFO] [1616518436.954857, 395.943000]: Waiting for service /gazebo/spawn_sdf_model\n",
      "[INFO] [1616518436.958287, 395.943000]: Calling service /gazebo/spawn_sdf_model\n",
      "[INFO] [1616518437.119391, 395.961000]: Spawn status: SpawnModel: Successfully spawned entity\n",
      "96\n",
      "[INFO] [1616518439.643951, 396.226000]: Spawn: ycb_077_rubiks_cube\n",
      "[INFO] [1616518439.646252, 396.226000]: Spawn: [0.         0.         0.74314483 0.66913061]\n",
      "[INFO] [1616518439.647763, 396.226000]: Waiting for service /gazebo/spawn_sdf_model\n",
      "[INFO] [1616518439.657918, 396.228000]: Calling service /gazebo/spawn_sdf_model\n",
      "[INFO] [1616518439.861581, 396.257000]: Spawn status: SpawnModel: Successfully spawned entity\n",
      "97\n",
      "[INFO] [1616518442.572038, 396.537000]: Spawn: ycb_077_rubiks_cube\n",
      "[INFO] [1616518442.574563, 396.537000]: Spawn: [0.         0.         0.74895572 0.66262005]\n",
      "[INFO] [1616518442.580268, 396.538000]: Waiting for service /gazebo/spawn_sdf_model\n",
      "[INFO] [1616518442.596399, 396.540000]: Calling service /gazebo/spawn_sdf_model\n",
      "[INFO] [1616518442.801425, 396.566000]: Spawn status: SpawnModel: Successfully spawned entity\n",
      "98\n",
      "[INFO] [1616518445.325714, 396.824000]: Spawn: ycb_077_rubiks_cube\n",
      "[INFO] [1616518445.331328, 396.825000]: Spawn: [0.         0.         0.75470958 0.65605903]\n",
      "[INFO] [1616518445.333036, 396.825000]: Waiting for service /gazebo/spawn_sdf_model\n",
      "[INFO] [1616518445.339676, 396.826000]: Calling service /gazebo/spawn_sdf_model\n",
      "[INFO] [1616518445.538713, 396.844000]: Spawn status: SpawnModel: Successfully spawned entity\n",
      "99\n",
      "[INFO] [1616518448.169618, 397.118000]: Spawn: ycb_077_rubiks_cube\n",
      "[INFO] [1616518448.171917, 397.118000]: Spawn: [0.         0.         0.76040597 0.64944805]\n",
      "[INFO] [1616518448.172966, 397.118000]: Waiting for service /gazebo/spawn_sdf_model\n",
      "[INFO] [1616518448.175908, 397.118000]: Calling service /gazebo/spawn_sdf_model\n",
      "[INFO] [1616518448.246677, 397.124000]: Spawn status: SpawnModel: Successfully spawned entity\n"
     ]
    },
    {
     "name": "stdout",
     "output_type": "stream",
     "text": [
      "100\n",
      "[INFO] [1616518450.931427, 397.400000]: Spawn: ycb_077_rubiks_cube\n",
      "[INFO] [1616518450.933252, 397.400000]: Spawn: [0.         0.         0.76604444 0.64278761]\n",
      "[INFO] [1616518450.934348, 397.400000]: Waiting for service /gazebo/spawn_sdf_model\n",
      "[INFO] [1616518450.949578, 397.401000]: Calling service /gazebo/spawn_sdf_model\n",
      "[INFO] [1616518451.180647, 397.419000]: Spawn status: SpawnModel: Successfully spawned entity\n",
      "101\n",
      "[INFO] [1616518453.681889, 397.669000]: Spawn: ycb_077_rubiks_cube\n",
      "[INFO] [1616518453.684845, 397.669000]: Spawn: [0.         0.         0.77162458 0.63607822]\n",
      "[INFO] [1616518453.686293, 397.669000]: Waiting for service /gazebo/spawn_sdf_model\n",
      "[INFO] [1616518453.697460, 397.670000]: Calling service /gazebo/spawn_sdf_model\n",
      "[INFO] [1616518453.867058, 397.684000]: Spawn status: SpawnModel: Successfully spawned entity\n",
      "102\n",
      "[INFO] [1616518456.799432, 398.004000]: Spawn: ycb_077_rubiks_cube\n",
      "[INFO] [1616518456.803027, 398.005000]: Spawn: [0.         0.         0.77714596 0.62932039]\n",
      "[INFO] [1616518456.804514, 398.005000]: Waiting for service /gazebo/spawn_sdf_model\n",
      "[INFO] [1616518456.815190, 398.006000]: Calling service /gazebo/spawn_sdf_model\n",
      "[INFO] [1616518457.018931, 398.022000]: Spawn status: SpawnModel: Successfully spawned entity\n",
      "103\n",
      "[INFO] [1616518459.594547, 398.283000]: Spawn: ycb_077_rubiks_cube\n",
      "[INFO] [1616518459.596993, 398.283000]: Spawn: [0.         0.         0.78260816 0.62251464]\n",
      "[INFO] [1616518459.600373, 398.284000]: Waiting for service /gazebo/spawn_sdf_model\n",
      "[INFO] [1616518459.612571, 398.285000]: Calling service /gazebo/spawn_sdf_model\n",
      "[INFO] [1616518459.774117, 398.298000]: Spawn status: SpawnModel: Successfully spawned entity\n",
      "104\n",
      "[INFO] [1616518462.438252, 398.576000]: Spawn: ycb_077_rubiks_cube\n",
      "[INFO] [1616518462.441014, 398.576000]: Spawn: [0.         0.         0.78801075 0.61566148]\n",
      "[INFO] [1616518462.443471, 398.576000]: Waiting for service /gazebo/spawn_sdf_model\n",
      "[INFO] [1616518462.459536, 398.580000]: Calling service /gazebo/spawn_sdf_model\n",
      "[INFO] [1616518462.736827, 398.610000]: Spawn status: SpawnModel: Successfully spawned entity\n",
      "105\n",
      "[INFO] [1616518465.005618, 398.834000]: Spawn: ycb_077_rubiks_cube\n",
      "[INFO] [1616518465.008507, 398.834000]: Spawn: [0.         0.         0.79335334 0.60876143]\n",
      "[INFO] [1616518465.011729, 398.835000]: Waiting for service /gazebo/spawn_sdf_model\n",
      "[INFO] [1616518465.017040, 398.835000]: Calling service /gazebo/spawn_sdf_model\n",
      "[INFO] [1616518465.230388, 398.852000]: Spawn status: SpawnModel: Successfully spawned entity\n",
      "106\n",
      "[INFO] [1616518467.966507, 399.140000]: Spawn: ycb_077_rubiks_cube\n",
      "[INFO] [1616518467.968888, 399.140000]: Spawn: [0.         0.         0.79863551 0.60181502]\n",
      "[INFO] [1616518467.971101, 399.140000]: Waiting for service /gazebo/spawn_sdf_model\n",
      "[INFO] [1616518467.977166, 399.141000]: Calling service /gazebo/spawn_sdf_model\n",
      "[INFO] [1616518468.149680, 399.150000]: Spawn status: SpawnModel: Successfully spawned entity\n",
      "107\n",
      "[INFO] [1616518470.745904, 399.417000]: Spawn: ycb_077_rubiks_cube\n",
      "[INFO] [1616518470.748229, 399.417000]: Spawn: [0.         0.         0.80385686 0.59482279]\n",
      "[INFO] [1616518470.749620, 399.417000]: Waiting for service /gazebo/spawn_sdf_model\n",
      "[INFO] [1616518470.758799, 399.418000]: Calling service /gazebo/spawn_sdf_model\n",
      "[INFO] [1616518470.879552, 399.426000]: Spawn status: SpawnModel: Successfully spawned entity\n",
      "108\n",
      "[INFO] [1616518473.186813, 399.661000]: Spawn: ycb_077_rubiks_cube\n",
      "[INFO] [1616518473.188684, 399.661000]: Spawn: [0.         0.         0.80901699 0.58778525]\n",
      "[INFO] [1616518473.190168, 399.661000]: Waiting for service /gazebo/spawn_sdf_model\n",
      "[INFO] [1616518473.196357, 399.661000]: Calling service /gazebo/spawn_sdf_model\n",
      "[INFO] [1616518473.437610, 399.675000]: Spawn status: SpawnModel: Successfully spawned entity\n",
      "109\n",
      "[INFO] [1616518476.126738, 399.945000]: Spawn: ycb_077_rubiks_cube\n",
      "[INFO] [1616518476.131481, 399.945000]: Spawn: [0.         0.         0.81411552 0.58070296]\n",
      "[INFO] [1616518476.133384, 399.946000]: Waiting for service /gazebo/spawn_sdf_model\n",
      "[INFO] [1616518476.139921, 399.946000]: Calling service /gazebo/spawn_sdf_model\n",
      "[INFO] [1616518476.336065, 399.968000]: Spawn status: SpawnModel: Successfully spawned entity\n",
      "110\n",
      "[INFO] [1616518479.041546, 400.263000]: Spawn: ycb_077_rubiks_cube\n",
      "[INFO] [1616518479.044032, 400.263000]: Spawn: [0.         0.         0.81915204 0.57357644]\n",
      "[INFO] [1616518479.047582, 400.264000]: Waiting for service /gazebo/spawn_sdf_model\n",
      "[INFO] [1616518479.060308, 400.266000]: Calling service /gazebo/spawn_sdf_model\n",
      "[INFO] [1616518479.229520, 400.280000]: Spawn status: SpawnModel: Successfully spawned entity\n",
      "111\n",
      "[INFO] [1616518481.672476, 400.521000]: Spawn: ycb_077_rubiks_cube\n",
      "[INFO] [1616518481.675248, 400.521000]: Spawn: [0.         0.         0.82412619 0.56640624]\n",
      "[INFO] [1616518481.680388, 400.522000]: Waiting for service /gazebo/spawn_sdf_model\n",
      "[INFO] [1616518481.697321, 400.524000]: Calling service /gazebo/spawn_sdf_model\n",
      "[INFO] [1616518481.943777, 400.544000]: Spawn status: SpawnModel: Successfully spawned entity\n",
      "112\n",
      "[INFO] [1616518484.725956, 400.838000]: Spawn: ycb_077_rubiks_cube\n",
      "[INFO] [1616518484.728463, 400.838000]: Spawn: [0.         0.         0.82903757 0.5591929 ]\n",
      "[INFO] [1616518484.730783, 400.844000]: Waiting for service /gazebo/spawn_sdf_model\n",
      "[INFO] [1616518484.747008, 400.848000]: Calling service /gazebo/spawn_sdf_model\n",
      "[INFO] [1616518484.868880, 400.860000]: Spawn status: SpawnModel: Successfully spawned entity\n",
      "113\n",
      "[INFO] [1616518488.021097, 401.188000]: Spawn: ycb_077_rubiks_cube\n",
      "[INFO] [1616518488.026985, 401.188000]: Spawn: [0.         0.         0.83388582 0.55193699]\n",
      "[INFO] [1616518488.028434, 401.189000]: Waiting for service /gazebo/spawn_sdf_model\n",
      "[INFO] [1616518488.032531, 401.189000]: Calling service /gazebo/spawn_sdf_model\n",
      "[INFO] [1616518488.204474, 401.206000]: Spawn status: SpawnModel: Successfully spawned entity\n",
      "114\n",
      "[INFO] [1616518490.529422, 401.446000]: Spawn: ycb_077_rubiks_cube\n",
      "[INFO] [1616518490.532208, 401.446000]: Spawn: [0.         0.         0.83867057 0.54463904]\n",
      "[INFO] [1616518490.534415, 401.446000]: Waiting for service /gazebo/spawn_sdf_model\n",
      "[INFO] [1616518490.552650, 401.446000]: Calling service /gazebo/spawn_sdf_model\n",
      "[INFO] [1616518490.724247, 401.464000]: Spawn status: SpawnModel: Successfully spawned entity\n",
      "115\n",
      "[INFO] [1616518493.284544, 401.710000]: Spawn: ycb_077_rubiks_cube\n",
      "[INFO] [1616518493.288367, 401.710000]: Spawn: [0.         0.         0.84339145 0.53729961]\n",
      "[INFO] [1616518493.290915, 401.710000]: Waiting for service /gazebo/spawn_sdf_model\n",
      "[INFO] [1616518493.301517, 401.712000]: Calling service /gazebo/spawn_sdf_model\n",
      "[INFO] [1616518493.452352, 401.728000]: Spawn status: SpawnModel: Successfully spawned entity\n",
      "116\n",
      "[INFO] [1616518495.692522, 401.962000]: Spawn: ycb_077_rubiks_cube\n",
      "[INFO] [1616518495.695110, 401.962000]: Spawn: [0.         0.         0.8480481  0.52991926]\n",
      "[INFO] [1616518495.696849, 401.962000]: Waiting for service /gazebo/spawn_sdf_model\n",
      "[INFO] [1616518495.709874, 401.964000]: Calling service /gazebo/spawn_sdf_model\n",
      "[INFO] [1616518495.943094, 401.986000]: Spawn status: SpawnModel: Successfully spawned entity\n",
      "117\n",
      "[INFO] [1616518498.348231, 402.232000]: Spawn: ycb_077_rubiks_cube\n",
      "[INFO] [1616518498.350813, 402.233000]: Spawn: [0.         0.         0.85264016 0.52249856]\n",
      "[INFO] [1616518498.351999, 402.233000]: Waiting for service /gazebo/spawn_sdf_model\n",
      "[INFO] [1616518498.365346, 402.235000]: Calling service /gazebo/spawn_sdf_model\n",
      "[INFO] [1616518498.452740, 402.238000]: Spawn status: SpawnModel: Successfully spawned entity\n",
      "118\n",
      "[INFO] [1616518500.940690, 402.505000]: Spawn: ycb_077_rubiks_cube\n",
      "[INFO] [1616518500.943481, 402.505000]: Spawn: [0.         0.         0.8571673  0.51503807]\n",
      "[INFO] [1616518500.945113, 402.505000]: Waiting for service /gazebo/spawn_sdf_model\n",
      "[INFO] [1616518500.967789, 402.508000]: Calling service /gazebo/spawn_sdf_model\n",
      "[INFO] [1616518501.157138, 402.532000]: Spawn status: SpawnModel: Successfully spawned entity\n",
      "119\n",
      "[INFO] [1616518503.915757, 402.813000]: Spawn: ycb_077_rubiks_cube\n",
      "[INFO] [1616518503.918426, 402.813000]: Spawn: [0.         0.         0.86162916 0.50753836]\n",
      "[INFO] [1616518503.919674, 402.813000]: Waiting for service /gazebo/spawn_sdf_model\n",
      "[INFO] [1616518503.923538, 402.813000]: Calling service /gazebo/spawn_sdf_model\n",
      "[INFO] [1616518504.100430, 402.836000]: Spawn status: SpawnModel: Successfully spawned entity\n"
     ]
    },
    {
     "name": "stdout",
     "output_type": "stream",
     "text": [
      "120\n",
      "[INFO] [1616518506.379954, 403.073000]: Spawn: ycb_077_rubiks_cube\n",
      "[INFO] [1616518506.384041, 403.074000]: Spawn: [0.        0.        0.8660254 0.5      ]\n",
      "[INFO] [1616518506.385697, 403.074000]: Waiting for service /gazebo/spawn_sdf_model\n",
      "[INFO] [1616518506.400195, 403.075000]: Calling service /gazebo/spawn_sdf_model\n",
      "[INFO] [1616518506.644621, 403.096000]: Spawn status: SpawnModel: Successfully spawned entity\n",
      "121\n",
      "[INFO] [1616518509.418701, 403.401000]: Spawn: ycb_077_rubiks_cube\n",
      "[INFO] [1616518509.424920, 403.402000]: Spawn: [0.         0.         0.8703557  0.49242356]\n",
      "[INFO] [1616518509.426876, 403.402000]: Waiting for service /gazebo/spawn_sdf_model\n",
      "[INFO] [1616518509.446761, 403.403000]: Calling service /gazebo/spawn_sdf_model\n",
      "[INFO] [1616518509.600078, 403.409000]: Spawn status: SpawnModel: Successfully spawned entity\n",
      "122\n",
      "[INFO] [1616518512.301197, 403.684000]: Spawn: ycb_077_rubiks_cube\n",
      "[INFO] [1616518512.303508, 403.684000]: Spawn: [0.         0.         0.87461971 0.48480962]\n",
      "[INFO] [1616518512.307403, 403.685000]: Waiting for service /gazebo/spawn_sdf_model\n",
      "[INFO] [1616518512.322883, 403.687000]: Calling service /gazebo/spawn_sdf_model\n",
      "[INFO] [1616518512.593788, 403.707000]: Spawn status: SpawnModel: Successfully spawned entity\n",
      "123\n",
      "[INFO] [1616518514.905949, 403.938000]: Spawn: ycb_077_rubiks_cube\n",
      "[INFO] [1616518514.914538, 403.938000]: Spawn: [0.         0.         0.87881711 0.47715876]\n",
      "[INFO] [1616518514.922468, 403.938000]: Waiting for service /gazebo/spawn_sdf_model\n",
      "[INFO] [1616518514.940113, 403.942000]: Calling service /gazebo/spawn_sdf_model\n",
      "[INFO] [1616518515.115325, 403.957000]: Spawn status: SpawnModel: Successfully spawned entity\n",
      "124\n",
      "[INFO] [1616518517.666928, 404.223000]: Spawn: ycb_077_rubiks_cube\n",
      "[INFO] [1616518517.670816, 404.224000]: Spawn: [0.         0.         0.88294759 0.46947156]\n",
      "[INFO] [1616518517.672111, 404.224000]: Waiting for service /gazebo/spawn_sdf_model\n",
      "[INFO] [1616518517.676538, 404.224000]: Calling service /gazebo/spawn_sdf_model\n",
      "[INFO] [1616518517.831738, 404.238000]: Spawn status: SpawnModel: Successfully spawned entity\n",
      "125\n",
      "[INFO] [1616518520.542005, 404.519000]: Spawn: ycb_077_rubiks_cube\n",
      "[INFO] [1616518520.544469, 404.519000]: Spawn: [0.         0.         0.88701083 0.46174861]\n",
      "[INFO] [1616518520.545659, 404.519000]: Waiting for service /gazebo/spawn_sdf_model\n",
      "[INFO] [1616518520.553221, 404.520000]: Calling service /gazebo/spawn_sdf_model\n",
      "[INFO] [1616518520.756551, 404.538000]: Spawn status: SpawnModel: Successfully spawned entity\n",
      "126\n",
      "[INFO] [1616518523.262204, 404.805000]: Spawn: ycb_077_rubiks_cube\n",
      "[INFO] [1616518523.273517, 404.805000]: Spawn: [0.         0.         0.89100652 0.4539905 ]\n",
      "[INFO] [1616518523.303209, 404.805000]: Waiting for service /gazebo/spawn_sdf_model\n",
      "[INFO] [1616518523.313241, 404.807000]: Calling service /gazebo/spawn_sdf_model\n",
      "[INFO] [1616518523.497732, 404.826000]: Spawn status: SpawnModel: Successfully spawned entity\n",
      "127\n",
      "[INFO] [1616518526.145484, 405.090000]: Spawn: ycb_077_rubiks_cube\n",
      "[INFO] [1616518526.148406, 405.090000]: Spawn: [0.         0.         0.89493436 0.44619781]\n",
      "[INFO] [1616518526.149728, 405.090000]: Waiting for service /gazebo/spawn_sdf_model\n",
      "[INFO] [1616518526.153274, 405.090000]: Calling service /gazebo/spawn_sdf_model\n",
      "[INFO] [1616518526.215598, 405.094000]: Spawn status: SpawnModel: Successfully spawned entity\n",
      "128\n",
      "[INFO] [1616518528.763128, 405.350000]: Spawn: ycb_077_rubiks_cube\n",
      "[INFO] [1616518528.765726, 405.350000]: Spawn: [0.         0.         0.89879405 0.43837115]\n",
      "[INFO] [1616518528.769819, 405.352000]: Waiting for service /gazebo/spawn_sdf_model\n",
      "[INFO] [1616518528.781756, 405.352000]: Calling service /gazebo/spawn_sdf_model\n",
      "[INFO] [1616518528.965075, 405.367000]: Spawn status: SpawnModel: Successfully spawned entity\n",
      "129\n",
      "[INFO] [1616518531.658642, 405.640000]: Spawn: ycb_077_rubiks_cube\n",
      "[INFO] [1616518531.662387, 405.640000]: Spawn: [0.         0.         0.90258528 0.4305111 ]\n",
      "[INFO] [1616518531.669342, 405.640000]: Waiting for service /gazebo/spawn_sdf_model\n",
      "[INFO] [1616518531.678922, 405.640000]: Calling service /gazebo/spawn_sdf_model\n",
      "[INFO] [1616518531.921672, 405.665000]: Spawn status: SpawnModel: Successfully spawned entity\n",
      "130\n",
      "[INFO] [1616518534.667416, 405.950000]: Spawn: ycb_077_rubiks_cube\n",
      "[INFO] [1616518534.671182, 405.950000]: Spawn: [0.         0.         0.90630779 0.42261826]\n",
      "[INFO] [1616518534.678270, 405.950000]: Waiting for service /gazebo/spawn_sdf_model\n",
      "[INFO] [1616518534.702772, 405.950000]: Calling service /gazebo/spawn_sdf_model\n",
      "[INFO] [1616518534.853052, 405.966000]: Spawn status: SpawnModel: Successfully spawned entity\n",
      "131\n",
      "[INFO] [1616518537.192598, 406.205000]: Spawn: ycb_077_rubiks_cube\n",
      "[INFO] [1616518537.195361, 406.205000]: Spawn: [0.         0.         0.90996127 0.41469324]\n",
      "[INFO] [1616518537.197137, 406.205000]: Waiting for service /gazebo/spawn_sdf_model\n",
      "[INFO] [1616518537.207878, 406.206000]: Calling service /gazebo/spawn_sdf_model\n",
      "[INFO] [1616518537.389963, 406.217000]: Spawn status: SpawnModel: Successfully spawned entity\n",
      "132\n",
      "[INFO] [1616518539.677296, 406.442000]: Spawn: ycb_077_rubiks_cube\n",
      "[INFO] [1616518539.679913, 406.444000]: Spawn: [0.         0.         0.91354546 0.40673664]\n",
      "[INFO] [1616518539.681300, 406.444000]: Waiting for service /gazebo/spawn_sdf_model\n",
      "[INFO] [1616518539.693841, 406.445000]: Calling service /gazebo/spawn_sdf_model\n",
      "[INFO] [1616518539.911621, 406.464000]: Spawn status: SpawnModel: Successfully spawned entity\n",
      "133\n",
      "[INFO] [1616518542.185084, 406.688000]: Spawn: ycb_077_rubiks_cube\n",
      "[INFO] [1616518542.188973, 406.689000]: Spawn: [0.         0.         0.91706007 0.39874907]\n",
      "[INFO] [1616518542.193363, 406.690000]: Waiting for service /gazebo/spawn_sdf_model\n",
      "[INFO] [1616518542.198816, 406.690000]: Calling service /gazebo/spawn_sdf_model\n",
      "[INFO] [1616518542.466110, 406.715000]: Spawn status: SpawnModel: Successfully spawned entity\n",
      "134\n",
      "[INFO] [1616518544.873750, 406.956000]: Spawn: ycb_077_rubiks_cube\n",
      "[INFO] [1616518544.876096, 406.956000]: Spawn: [0.         0.         0.92050485 0.39073113]\n",
      "[INFO] [1616518544.879573, 406.956000]: Waiting for service /gazebo/spawn_sdf_model\n",
      "[INFO] [1616518544.895954, 406.958000]: Calling service /gazebo/spawn_sdf_model\n",
      "[INFO] [1616518544.958130, 406.962000]: Spawn status: SpawnModel: Successfully spawned entity\n",
      "135\n",
      "[INFO] [1616518547.420013, 407.205000]: Spawn: ycb_077_rubiks_cube\n",
      "[INFO] [1616518547.424074, 407.206000]: Spawn: [0.         0.         0.92387953 0.38268343]\n",
      "[INFO] [1616518547.425984, 407.206000]: Waiting for service /gazebo/spawn_sdf_model\n",
      "[INFO] [1616518547.428653, 407.206000]: Calling service /gazebo/spawn_sdf_model\n",
      "[INFO] [1616518547.528715, 407.207000]: Spawn status: SpawnModel: Successfully spawned entity\n",
      "136\n",
      "[INFO] [1616518550.143781, 407.471000]: Spawn: ycb_077_rubiks_cube\n",
      "[INFO] [1616518550.146196, 407.471000]: Spawn: [0.         0.         0.92718385 0.37460659]\n",
      "[INFO] [1616518550.147505, 407.471000]: Waiting for service /gazebo/spawn_sdf_model\n",
      "[INFO] [1616518550.149649, 407.471000]: Calling service /gazebo/spawn_sdf_model\n",
      "[INFO] [1616518550.260612, 407.480000]: Spawn status: SpawnModel: Successfully spawned entity\n",
      "137\n",
      "[INFO] [1616518552.967592, 407.757000]: Spawn: ycb_077_rubiks_cube\n",
      "[INFO] [1616518552.972516, 407.757000]: Spawn: [0.         0.         0.93041757 0.36650123]\n",
      "[INFO] [1616518552.974262, 407.758000]: Waiting for service /gazebo/spawn_sdf_model\n",
      "[INFO] [1616518552.980391, 407.759000]: Calling service /gazebo/spawn_sdf_model\n",
      "[INFO] [1616518553.204170, 407.777000]: Spawn status: SpawnModel: Successfully spawned entity\n",
      "138\n",
      "[INFO] [1616518555.907066, 408.076000]: Spawn: ycb_077_rubiks_cube\n",
      "[INFO] [1616518555.912176, 408.076000]: Spawn: [0.         0.         0.93358043 0.35836795]\n",
      "[INFO] [1616518555.914163, 408.076000]: Waiting for service /gazebo/spawn_sdf_model\n",
      "[INFO] [1616518555.930004, 408.076000]: Calling service /gazebo/spawn_sdf_model\n",
      "[INFO] [1616518556.146021, 408.097000]: Spawn status: SpawnModel: Successfully spawned entity\n",
      "139\n",
      "[INFO] [1616518558.679756, 408.355000]: Spawn: ycb_077_rubiks_cube\n",
      "[INFO] [1616518558.682120, 408.355000]: Spawn: [0.         0.         0.93667219 0.35020738]\n",
      "[INFO] [1616518558.684053, 408.355000]: Waiting for service /gazebo/spawn_sdf_model\n",
      "[INFO] [1616518558.694578, 408.356000]: Calling service /gazebo/spawn_sdf_model\n"
     ]
    },
    {
     "name": "stdout",
     "output_type": "stream",
     "text": [
      "[INFO] [1616518558.908140, 408.376000]: Spawn status: SpawnModel: Successfully spawned entity\n",
      "140\n",
      "[INFO] [1616518561.847045, 408.677000]: Spawn: ycb_077_rubiks_cube\n",
      "[INFO] [1616518561.850045, 408.677000]: Spawn: [0.         0.         0.93969262 0.34202014]\n",
      "[INFO] [1616518561.851570, 408.677000]: Waiting for service /gazebo/spawn_sdf_model\n",
      "[INFO] [1616518561.862808, 408.678000]: Calling service /gazebo/spawn_sdf_model\n",
      "[INFO] [1616518562.040849, 408.692000]: Spawn status: SpawnModel: Successfully spawned entity\n",
      "141\n",
      "[INFO] [1616518564.349237, 408.920000]: Spawn: ycb_077_rubiks_cube\n",
      "[INFO] [1616518564.351941, 408.920000]: Spawn: [0.         0.         0.94264149 0.33380686]\n",
      "[INFO] [1616518564.359329, 408.921000]: Waiting for service /gazebo/spawn_sdf_model\n",
      "[INFO] [1616518564.380261, 408.922000]: Calling service /gazebo/spawn_sdf_model\n",
      "[INFO] [1616518564.596448, 408.936000]: Spawn status: SpawnModel: Successfully spawned entity\n",
      "142\n",
      "[INFO] [1616518566.919082, 409.178000]: Spawn: ycb_077_rubiks_cube\n",
      "[INFO] [1616518566.922072, 409.178000]: Spawn: [0.         0.         0.94551858 0.32556815]\n",
      "[INFO] [1616518566.923495, 409.178000]: Waiting for service /gazebo/spawn_sdf_model\n",
      "[INFO] [1616518566.952505, 409.178000]: Calling service /gazebo/spawn_sdf_model\n",
      "[INFO] [1616518567.153623, 409.202000]: Spawn status: SpawnModel: Successfully spawned entity\n",
      "143\n",
      "[INFO] [1616518569.232236, 409.412000]: Spawn: ycb_077_rubiks_cube\n",
      "[INFO] [1616518569.234708, 409.412000]: Spawn: [0.         0.         0.94832366 0.31730466]\n",
      "[INFO] [1616518569.238282, 409.413000]: Waiting for service /gazebo/spawn_sdf_model\n",
      "[INFO] [1616518569.245958, 409.414000]: Calling service /gazebo/spawn_sdf_model\n",
      "[INFO] [1616518569.432826, 409.428000]: Spawn status: SpawnModel: Successfully spawned entity\n",
      "144\n",
      "[INFO] [1616518572.161745, 409.708000]: Spawn: ycb_077_rubiks_cube\n",
      "[INFO] [1616518572.163851, 409.708000]: Spawn: [0.         0.         0.95105652 0.30901699]\n",
      "[INFO] [1616518572.165252, 409.708000]: Waiting for service /gazebo/spawn_sdf_model\n",
      "[INFO] [1616518572.184285, 409.710000]: Calling service /gazebo/spawn_sdf_model\n",
      "[INFO] [1616518572.360925, 409.726000]: Spawn status: SpawnModel: Successfully spawned entity\n",
      "145\n",
      "[INFO] [1616518574.653769, 409.967000]: Spawn: ycb_077_rubiks_cube\n",
      "[INFO] [1616518574.656189, 409.967000]: Spawn: [0.         0.         0.95371695 0.3007058 ]\n",
      "[INFO] [1616518574.661760, 409.968000]: Waiting for service /gazebo/spawn_sdf_model\n",
      "[INFO] [1616518574.665484, 409.968000]: Calling service /gazebo/spawn_sdf_model\n",
      "[INFO] [1616518574.902776, 409.986000]: Spawn status: SpawnModel: Successfully spawned entity\n",
      "146\n",
      "[INFO] [1616518577.523739, 410.239000]: Spawn: ycb_077_rubiks_cube\n",
      "[INFO] [1616518577.526126, 410.239000]: Spawn: [0.         0.         0.95630476 0.2923717 ]\n",
      "[INFO] [1616518577.527460, 410.239000]: Waiting for service /gazebo/spawn_sdf_model\n",
      "[INFO] [1616518577.542478, 410.239000]: Calling service /gazebo/spawn_sdf_model\n",
      "[INFO] [1616518577.629692, 410.251000]: Spawn status: SpawnModel: Successfully spawned entity\n",
      "147\n",
      "[INFO] [1616518580.452995, 410.566000]: Spawn: ycb_077_rubiks_cube\n",
      "[INFO] [1616518580.456232, 410.566000]: Spawn: [0.         0.         0.95881973 0.28401534]\n",
      "[INFO] [1616518580.458891, 410.566000]: Waiting for service /gazebo/spawn_sdf_model\n",
      "[INFO] [1616518580.466432, 410.566000]: Calling service /gazebo/spawn_sdf_model\n",
      "[INFO] [1616518580.712705, 410.594000]: Spawn status: SpawnModel: Successfully spawned entity\n",
      "148\n",
      "[INFO] [1616518583.430137, 410.887000]: Spawn: ycb_077_rubiks_cube\n",
      "[INFO] [1616518583.432383, 410.887000]: Spawn: [0.         0.         0.9612617  0.27563736]\n",
      "[INFO] [1616518583.434366, 410.887000]: Waiting for service /gazebo/spawn_sdf_model\n",
      "[INFO] [1616518583.446186, 410.889000]: Calling service /gazebo/spawn_sdf_model\n",
      "[INFO] [1616518583.694348, 410.902000]: Spawn status: SpawnModel: Successfully spawned entity\n",
      "149\n",
      "[INFO] [1616518585.790273, 411.124000]: Spawn: ycb_077_rubiks_cube\n",
      "[INFO] [1616518585.793395, 411.124000]: Spawn: [0.         0.         0.96363045 0.26723838]\n",
      "[INFO] [1616518585.794892, 411.124000]: Waiting for service /gazebo/spawn_sdf_model\n",
      "[INFO] [1616518585.809183, 411.126000]: Calling service /gazebo/spawn_sdf_model\n",
      "[INFO] [1616518586.019798, 411.140000]: Spawn status: SpawnModel: Successfully spawned entity\n",
      "150\n",
      "[INFO] [1616518588.756566, 411.420000]: Spawn: ycb_077_rubiks_cube\n",
      "[INFO] [1616518588.760595, 411.421000]: Spawn: [0.         0.         0.96592583 0.25881905]\n",
      "[INFO] [1616518588.761865, 411.421000]: Waiting for service /gazebo/spawn_sdf_model\n",
      "[INFO] [1616518588.770982, 411.422000]: Calling service /gazebo/spawn_sdf_model\n",
      "[INFO] [1616518588.956943, 411.435000]: Spawn status: SpawnModel: Successfully spawned entity\n",
      "151\n",
      "[INFO] [1616518591.713517, 411.715000]: Spawn: ycb_077_rubiks_cube\n",
      "[INFO] [1616518591.715891, 411.715000]: Spawn: [0.         0.         0.96814764 0.25038   ]\n",
      "[INFO] [1616518591.718780, 411.716000]: Waiting for service /gazebo/spawn_sdf_model\n",
      "[INFO] [1616518591.723651, 411.716000]: Calling service /gazebo/spawn_sdf_model\n",
      "[INFO] [1616518591.965579, 411.739000]: Spawn status: SpawnModel: Successfully spawned entity\n",
      "152\n",
      "[INFO] [1616518594.647196, 412.014000]: Spawn: ycb_077_rubiks_cube\n",
      "[INFO] [1616518594.649970, 412.014000]: Spawn: [0.         0.         0.97029573 0.2419219 ]\n",
      "[INFO] [1616518594.652286, 412.014000]: Waiting for service /gazebo/spawn_sdf_model\n",
      "[INFO] [1616518594.656376, 412.015000]: Calling service /gazebo/spawn_sdf_model\n",
      "[INFO] [1616518594.914579, 412.044000]: Spawn status: SpawnModel: Successfully spawned entity\n",
      "153\n",
      "[INFO] [1616518597.474936, 412.301000]: Spawn: ycb_077_rubiks_cube\n",
      "[INFO] [1616518597.477374, 412.301000]: Spawn: [0.         0.         0.97236992 0.23344536]\n",
      "[INFO] [1616518597.479076, 412.301000]: Waiting for service /gazebo/spawn_sdf_model\n",
      "[INFO] [1616518597.493025, 412.303000]: Calling service /gazebo/spawn_sdf_model\n",
      "[INFO] [1616518597.656354, 412.314000]: Spawn status: SpawnModel: Successfully spawned entity\n",
      "154\n",
      "[INFO] [1616518600.096867, 412.570000]: Spawn: ycb_077_rubiks_cube\n",
      "[INFO] [1616518600.099475, 412.570000]: Spawn: [0.         0.         0.97437006 0.22495105]\n",
      "[INFO] [1616518600.100780, 412.570000]: Waiting for service /gazebo/spawn_sdf_model\n",
      "[INFO] [1616518600.103051, 412.570000]: Calling service /gazebo/spawn_sdf_model\n",
      "[INFO] [1616518600.342463, 412.594000]: Spawn status: SpawnModel: Successfully spawned entity\n",
      "155\n",
      "[INFO] [1616518602.987076, 412.894000]: Spawn: ycb_077_rubiks_cube\n",
      "[INFO] [1616518602.989331, 412.894000]: Spawn: [0.         0.         0.97629601 0.21643961]\n",
      "[INFO] [1616518602.990637, 412.894000]: Waiting for service /gazebo/spawn_sdf_model\n",
      "[INFO] [1616518603.000171, 412.895000]: Calling service /gazebo/spawn_sdf_model\n",
      "[INFO] [1616518603.244041, 412.906000]: Spawn status: SpawnModel: Successfully spawned entity\n",
      "156\n",
      "[INFO] [1616518605.793062, 413.179000]: Spawn: ycb_077_rubiks_cube\n",
      "[INFO] [1616518605.796265, 413.179000]: Spawn: [0.         0.         0.9781476  0.20791169]\n",
      "[INFO] [1616518605.797884, 413.179000]: Waiting for service /gazebo/spawn_sdf_model\n",
      "[INFO] [1616518605.824280, 413.180000]: Calling service /gazebo/spawn_sdf_model\n",
      "[INFO] [1616518606.009475, 413.200000]: Spawn status: SpawnModel: Successfully spawned entity\n",
      "157\n",
      "[INFO] [1616518608.710685, 413.481000]: Spawn: ycb_077_rubiks_cube\n",
      "[INFO] [1616518608.717170, 413.483000]: Spawn: [0.         0.         0.9799247  0.19936793]\n",
      "[INFO] [1616518608.721603, 413.483000]: Waiting for service /gazebo/spawn_sdf_model\n",
      "[INFO] [1616518608.735081, 413.486000]: Calling service /gazebo/spawn_sdf_model\n",
      "[INFO] [1616518608.995621, 413.506000]: Spawn status: SpawnModel: Successfully spawned entity\n",
      "158\n",
      "[INFO] [1616518611.663302, 413.781000]: Spawn: ycb_077_rubiks_cube\n",
      "[INFO] [1616518611.666731, 413.781000]: Spawn: [0.         0.         0.98162718 0.190809  ]\n",
      "[INFO] [1616518611.668392, 413.783000]: Waiting for service /gazebo/spawn_sdf_model\n",
      "[INFO] [1616518611.677572, 413.784000]: Calling service /gazebo/spawn_sdf_model\n",
      "[INFO] [1616518611.983516, 413.803000]: Spawn status: SpawnModel: Successfully spawned entity\n",
      "159\n",
      "[INFO] [1616518614.445704, 414.048000]: Spawn: ycb_077_rubiks_cube\n",
      "[INFO] [1616518614.448941, 414.048000]: Spawn: [0.         0.         0.98325491 0.18223553]\n",
      "[INFO] [1616518614.451197, 414.048000]: Waiting for service /gazebo/spawn_sdf_model\n",
      "[INFO] [1616518614.465744, 414.048000]: Calling service /gazebo/spawn_sdf_model\n"
     ]
    },
    {
     "name": "stdout",
     "output_type": "stream",
     "text": [
      "[INFO] [1616518614.722165, 414.072000]: Spawn status: SpawnModel: Successfully spawned entity\n",
      "160\n",
      "[INFO] [1616518617.111543, 414.306000]: Spawn: ycb_077_rubiks_cube\n",
      "[INFO] [1616518617.117150, 414.306000]: Spawn: [0.         0.         0.98480775 0.17364818]\n",
      "[INFO] [1616518617.118485, 414.307000]: Waiting for service /gazebo/spawn_sdf_model\n",
      "[INFO] [1616518617.125815, 414.308000]: Calling service /gazebo/spawn_sdf_model\n",
      "[INFO] [1616518617.262745, 414.316000]: Spawn status: SpawnModel: Successfully spawned entity\n",
      "161\n",
      "[INFO] [1616518619.942279, 414.596000]: Spawn: ycb_077_rubiks_cube\n",
      "[INFO] [1616518619.944607, 414.596000]: Spawn: [0.         0.         0.9862856  0.16504761]\n",
      "[INFO] [1616518619.945776, 414.596000]: Waiting for service /gazebo/spawn_sdf_model\n",
      "[INFO] [1616518619.958949, 414.596000]: Calling service /gazebo/spawn_sdf_model\n",
      "[INFO] [1616518620.201564, 414.620000]: Spawn status: SpawnModel: Successfully spawned entity\n",
      "162\n",
      "[INFO] [1616518622.638349, 414.875000]: Spawn: ycb_077_rubiks_cube\n",
      "[INFO] [1616518622.640297, 414.875000]: Spawn: [0.         0.         0.98768834 0.15643447]\n",
      "[INFO] [1616518622.641876, 414.875000]: Waiting for service /gazebo/spawn_sdf_model\n",
      "[INFO] [1616518622.650688, 414.876000]: Calling service /gazebo/spawn_sdf_model\n",
      "[INFO] [1616518622.986553, 414.902000]: Spawn status: SpawnModel: Successfully spawned entity\n",
      "163\n",
      "[INFO] [1616518625.068674, 415.145000]: Spawn: ycb_077_rubiks_cube\n",
      "[INFO] [1616518625.070929, 415.145000]: Spawn: [0.         0.         0.98901586 0.14780941]\n",
      "[INFO] [1616518625.071959, 415.145000]: Waiting for service /gazebo/spawn_sdf_model\n",
      "[INFO] [1616518625.076114, 415.145000]: Calling service /gazebo/spawn_sdf_model\n",
      "[INFO] [1616518625.290037, 415.161000]: Spawn status: SpawnModel: Successfully spawned entity\n",
      "164\n",
      "[INFO] [1616518627.600636, 415.426000]: Spawn: ycb_077_rubiks_cube\n",
      "[INFO] [1616518627.603050, 415.426000]: Spawn: [0.         0.         0.99026807 0.1391731 ]\n",
      "[INFO] [1616518627.606243, 415.427000]: Waiting for service /gazebo/spawn_sdf_model\n",
      "[INFO] [1616518627.614543, 415.428000]: Calling service /gazebo/spawn_sdf_model\n",
      "[INFO] [1616518627.826541, 415.447000]: Spawn status: SpawnModel: Successfully spawned entity\n",
      "165\n",
      "[INFO] [1616518630.317189, 415.721000]: Spawn: ycb_077_rubiks_cube\n",
      "[INFO] [1616518630.319312, 415.721000]: Spawn: [0.         0.         0.99144486 0.13052619]\n",
      "[INFO] [1616518630.320693, 415.721000]: Waiting for service /gazebo/spawn_sdf_model\n",
      "[INFO] [1616518630.325319, 415.721000]: Calling service /gazebo/spawn_sdf_model\n",
      "[INFO] [1616518630.570116, 415.746000]: Spawn status: SpawnModel: Successfully spawned entity\n",
      "166\n",
      "[INFO] [1616518632.843176, 416.004000]: Spawn: ycb_077_rubiks_cube\n",
      "[INFO] [1616518632.845219, 416.004000]: Spawn: [0.         0.         0.99254615 0.12186934]\n",
      "[INFO] [1616518632.847568, 416.005000]: Waiting for service /gazebo/spawn_sdf_model\n",
      "[INFO] [1616518632.857495, 416.006000]: Calling service /gazebo/spawn_sdf_model\n",
      "[INFO] [1616518633.107003, 416.033000]: Spawn status: SpawnModel: Successfully spawned entity\n",
      "167\n",
      "[INFO] [1616518635.562179, 416.309000]: Spawn: ycb_077_rubiks_cube\n",
      "[INFO] [1616518635.566099, 416.310000]: Spawn: [0.         0.         0.99357186 0.11320321]\n",
      "[INFO] [1616518635.567182, 416.310000]: Waiting for service /gazebo/spawn_sdf_model\n",
      "[INFO] [1616518635.569570, 416.310000]: Calling service /gazebo/spawn_sdf_model\n",
      "[INFO] [1616518635.637045, 416.314000]: Spawn status: SpawnModel: Successfully spawned entity\n",
      "168\n",
      "[INFO] [1616518638.589236, 416.656000]: Spawn: ycb_077_rubiks_cube\n",
      "[INFO] [1616518638.595470, 416.657000]: Spawn: [0.         0.         0.9945219  0.10452846]\n",
      "[INFO] [1616518638.596900, 416.657000]: Waiting for service /gazebo/spawn_sdf_model\n",
      "[INFO] [1616518638.613158, 416.659000]: Calling service /gazebo/spawn_sdf_model\n",
      "[INFO] [1616518638.788438, 416.671000]: Spawn status: SpawnModel: Successfully spawned entity\n",
      "169\n",
      "[INFO] [1616518640.947366, 416.907000]: Spawn: ycb_077_rubiks_cube\n",
      "[INFO] [1616518640.956479, 416.907000]: Spawn: [0.         0.         0.9953962  0.09584575]\n",
      "[INFO] [1616518640.958273, 416.907000]: Waiting for service /gazebo/spawn_sdf_model\n",
      "[INFO] [1616518640.982784, 416.910000]: Calling service /gazebo/spawn_sdf_model\n",
      "[INFO] [1616518641.106085, 416.923000]: Spawn status: SpawnModel: Successfully spawned entity\n",
      "170\n",
      "[INFO] [1616518643.339311, 417.182000]: Spawn: ycb_077_rubiks_cube\n",
      "[INFO] [1616518643.341672, 417.182000]: Spawn: [0.         0.         0.9961947  0.08715574]\n",
      "[INFO] [1616518643.342978, 417.182000]: Waiting for service /gazebo/spawn_sdf_model\n",
      "[INFO] [1616518643.345884, 417.182000]: Calling service /gazebo/spawn_sdf_model\n",
      "[INFO] [1616518643.400130, 417.184000]: Spawn status: SpawnModel: Successfully spawned entity\n",
      "171\n",
      "[INFO] [1616518645.881852, 417.484000]: Spawn: ycb_077_rubiks_cube\n",
      "[INFO] [1616518645.884017, 417.484000]: Spawn: [0.         0.         0.99691733 0.0784591 ]\n",
      "[INFO] [1616518645.885254, 417.484000]: Waiting for service /gazebo/spawn_sdf_model\n",
      "[INFO] [1616518645.891804, 417.484000]: Calling service /gazebo/spawn_sdf_model\n",
      "[INFO] [1616518646.127589, 417.509000]: Spawn status: SpawnModel: Successfully spawned entity\n",
      "172\n",
      "[INFO] [1616518648.448134, 417.782000]: Spawn: ycb_077_rubiks_cube\n",
      "[INFO] [1616518648.449793, 417.782000]: Spawn: [0.         0.         0.99756405 0.06975647]\n",
      "[INFO] [1616518648.450736, 417.782000]: Waiting for service /gazebo/spawn_sdf_model\n",
      "[INFO] [1616518648.453118, 417.782000]: Calling service /gazebo/spawn_sdf_model\n",
      "[INFO] [1616518648.725169, 417.811000]: Spawn status: SpawnModel: Successfully spawned entity\n",
      "173\n",
      "[INFO] [1616518651.034480, 418.062000]: Spawn: ycb_077_rubiks_cube\n",
      "[INFO] [1616518651.036521, 418.062000]: Spawn: [0.         0.         0.9981348  0.06104854]\n",
      "[INFO] [1616518651.040318, 418.063000]: Waiting for service /gazebo/spawn_sdf_model\n",
      "[INFO] [1616518651.047067, 418.064000]: Calling service /gazebo/spawn_sdf_model\n",
      "[INFO] [1616518651.252083, 418.081000]: Spawn status: SpawnModel: Successfully spawned entity\n",
      "174\n",
      "[INFO] [1616518653.469363, 418.332000]: Spawn: ycb_077_rubiks_cube\n",
      "[INFO] [1616518653.471233, 418.332000]: Spawn: [0.         0.         0.99862953 0.05233596]\n",
      "[INFO] [1616518653.473690, 418.333000]: Waiting for service /gazebo/spawn_sdf_model\n",
      "[INFO] [1616518653.477487, 418.333000]: Calling service /gazebo/spawn_sdf_model\n",
      "[INFO] [1616518653.577173, 418.337000]: Spawn status: SpawnModel: Successfully spawned entity\n",
      "175\n",
      "[INFO] [1616518655.652402, 418.582000]: Spawn: ycb_077_rubiks_cube\n",
      "[INFO] [1616518655.655828, 418.582000]: Spawn: [0.         0.         0.99904822 0.04361939]\n",
      "[INFO] [1616518655.656939, 418.582000]: Waiting for service /gazebo/spawn_sdf_model\n",
      "[INFO] [1616518655.660811, 418.583000]: Calling service /gazebo/spawn_sdf_model\n",
      "[INFO] [1616518655.922375, 418.610000]: Spawn status: SpawnModel: Successfully spawned entity\n",
      "176\n",
      "[INFO] [1616518658.161968, 418.857000]: Spawn: ycb_077_rubiks_cube\n",
      "[INFO] [1616518658.163858, 418.857000]: Spawn: [0.         0.         0.99939083 0.0348995 ]\n",
      "[INFO] [1616518658.165432, 418.857000]: Waiting for service /gazebo/spawn_sdf_model\n",
      "[INFO] [1616518658.171657, 418.858000]: Calling service /gazebo/spawn_sdf_model\n",
      "[INFO] [1616518658.221226, 418.861000]: Spawn status: SpawnModel: Successfully spawned entity\n",
      "177\n",
      "[INFO] [1616518660.513643, 419.130000]: Spawn: ycb_077_rubiks_cube\n",
      "[INFO] [1616518660.516116, 419.130000]: Spawn: [0.         0.         0.99965732 0.02617695]\n",
      "[INFO] [1616518660.517276, 419.130000]: Waiting for service /gazebo/spawn_sdf_model\n",
      "[INFO] [1616518660.531838, 419.132000]: Calling service /gazebo/spawn_sdf_model\n",
      "[INFO] [1616518660.736206, 419.149000]: Spawn status: SpawnModel: Successfully spawned entity\n",
      "178\n",
      "[INFO] [1616518662.754772, 419.375000]: Spawn: ycb_077_rubiks_cube\n",
      "[INFO] [1616518662.756842, 419.375000]: Spawn: [0.         0.         0.9998477  0.01745241]\n",
      "[INFO] [1616518662.757850, 419.375000]: Waiting for service /gazebo/spawn_sdf_model\n",
      "[INFO] [1616518662.778737, 419.377000]: Calling service /gazebo/spawn_sdf_model\n",
      "[INFO] [1616518663.026031, 419.402000]: Spawn status: SpawnModel: Successfully spawned entity\n",
      "179\n",
      "[INFO] [1616518665.308485, 419.656000]: Spawn: ycb_077_rubiks_cube\n",
      "[INFO] [1616518665.310218, 419.656000]: Spawn: [0.         0.         0.99996192 0.00872654]\n",
      "[INFO] [1616518665.311555, 419.656000]: Waiting for service /gazebo/spawn_sdf_model\n",
      "[INFO] [1616518665.318847, 419.657000]: Calling service /gazebo/spawn_sdf_model\n"
     ]
    },
    {
     "name": "stdout",
     "output_type": "stream",
     "text": [
      "[INFO] [1616518665.575760, 419.678000]: Spawn status: SpawnModel: Successfully spawned entity\n",
      "180\n",
      "[INFO] [1616518667.841227, 419.938000]: Spawn: ycb_077_rubiks_cube\n",
      "[INFO] [1616518667.847931, 419.938000]: Spawn: [0.000000e+00 0.000000e+00 1.000000e+00 6.123234e-17]\n",
      "[INFO] [1616518667.849626, 419.940000]: Waiting for service /gazebo/spawn_sdf_model\n",
      "[INFO] [1616518667.859618, 419.940000]: Calling service /gazebo/spawn_sdf_model\n",
      "[INFO] [1616518668.090744, 419.963000]: Spawn status: SpawnModel: Successfully spawned entity\n",
      "181\n",
      "[INFO] [1616518671.117417, 420.268000]: Spawn: ycb_077_rubiks_cube\n",
      "[INFO] [1616518671.119628, 420.268000]: Spawn: [-0.          0.          0.99996192 -0.00872654]\n",
      "[INFO] [1616518671.120806, 420.268000]: Waiting for service /gazebo/spawn_sdf_model\n",
      "[INFO] [1616518671.141948, 420.270000]: Calling service /gazebo/spawn_sdf_model\n",
      "[INFO] [1616518671.257531, 420.275000]: Spawn status: SpawnModel: Successfully spawned entity\n",
      "182\n",
      "[INFO] [1616518674.201502, 420.572000]: Spawn: ycb_077_rubiks_cube\n",
      "[INFO] [1616518674.204697, 420.572000]: Spawn: [-0.          0.          0.9998477  -0.01745241]\n",
      "[INFO] [1616518674.206807, 420.572000]: Waiting for service /gazebo/spawn_sdf_model\n",
      "[INFO] [1616518674.216127, 420.572000]: Calling service /gazebo/spawn_sdf_model\n",
      "[INFO] [1616518674.422799, 420.588000]: Spawn status: SpawnModel: Successfully spawned entity\n",
      "183\n",
      "[INFO] [1616518677.321223, 420.874000]: Spawn: ycb_077_rubiks_cube\n",
      "[INFO] [1616518677.324774, 420.874000]: Spawn: [-0.          0.          0.99965732 -0.02617695]\n",
      "[INFO] [1616518677.341029, 420.876000]: Waiting for service /gazebo/spawn_sdf_model\n",
      "[INFO] [1616518677.362252, 420.878000]: Calling service /gazebo/spawn_sdf_model\n",
      "[INFO] [1616518677.582939, 420.897000]: Spawn status: SpawnModel: Successfully spawned entity\n",
      "184\n",
      "[INFO] [1616518680.039218, 421.139000]: Spawn: ycb_077_rubiks_cube\n",
      "[INFO] [1616518680.042917, 421.139000]: Spawn: [-0.          0.          0.99939083 -0.0348995 ]\n",
      "[INFO] [1616518680.050534, 421.139000]: Waiting for service /gazebo/spawn_sdf_model\n",
      "[INFO] [1616518680.066172, 421.139000]: Calling service /gazebo/spawn_sdf_model\n",
      "[INFO] [1616518680.309339, 421.166000]: Spawn status: SpawnModel: Successfully spawned entity\n",
      "185\n",
      "[INFO] [1616518683.132184, 421.457000]: Spawn: ycb_077_rubiks_cube\n",
      "[INFO] [1616518683.134465, 421.457000]: Spawn: [-0.          0.          0.99904822 -0.04361939]\n",
      "[INFO] [1616518683.137359, 421.458000]: Waiting for service /gazebo/spawn_sdf_model\n",
      "[INFO] [1616518683.146599, 421.459000]: Calling service /gazebo/spawn_sdf_model\n",
      "[INFO] [1616518683.264285, 421.468000]: Spawn status: SpawnModel: Successfully spawned entity\n",
      "186\n",
      "[INFO] [1616518686.670420, 421.814000]: Spawn: ycb_077_rubiks_cube\n",
      "[INFO] [1616518686.673595, 421.814000]: Spawn: [-0.          0.          0.99862953 -0.05233596]\n",
      "[INFO] [1616518686.677064, 421.815000]: Waiting for service /gazebo/spawn_sdf_model\n",
      "[INFO] [1616518686.685856, 421.815000]: Calling service /gazebo/spawn_sdf_model\n",
      "[INFO] [1616518686.777852, 421.821000]: Spawn status: SpawnModel: Successfully spawned entity\n",
      "187\n",
      "[INFO] [1616518689.193077, 422.070000]: Spawn: ycb_077_rubiks_cube\n",
      "[INFO] [1616518689.195215, 422.070000]: Spawn: [-0.          0.          0.9981348  -0.06104854]\n",
      "[INFO] [1616518689.196608, 422.070000]: Waiting for service /gazebo/spawn_sdf_model\n",
      "[INFO] [1616518689.215255, 422.072000]: Calling service /gazebo/spawn_sdf_model\n",
      "[INFO] [1616518689.307113, 422.074000]: Spawn status: SpawnModel: Successfully spawned entity\n",
      "188\n",
      "[INFO] [1616518692.169498, 422.355000]: Spawn: ycb_077_rubiks_cube\n",
      "[INFO] [1616518692.172473, 422.355000]: Spawn: [-0.          0.          0.99756405 -0.06975647]\n",
      "[INFO] [1616518692.176553, 422.356000]: Waiting for service /gazebo/spawn_sdf_model\n",
      "[INFO] [1616518692.187873, 422.356000]: Calling service /gazebo/spawn_sdf_model\n",
      "[INFO] [1616518692.251407, 422.360000]: Spawn status: SpawnModel: Successfully spawned entity\n",
      "189\n",
      "[INFO] [1616518694.967977, 422.640000]: Spawn: ycb_077_rubiks_cube\n",
      "[INFO] [1616518694.970341, 422.640000]: Spawn: [-0.          0.          0.99691733 -0.0784591 ]\n",
      "[INFO] [1616518694.977620, 422.640000]: Waiting for service /gazebo/spawn_sdf_model\n",
      "[INFO] [1616518694.982773, 422.640000]: Calling service /gazebo/spawn_sdf_model\n",
      "[INFO] [1616518695.235277, 422.657000]: Spawn status: SpawnModel: Successfully spawned entity\n",
      "190\n",
      "[INFO] [1616518697.538834, 422.892000]: Spawn: ycb_077_rubiks_cube\n",
      "[INFO] [1616518697.540996, 422.892000]: Spawn: [-0.          0.          0.9961947  -0.08715574]\n",
      "[INFO] [1616518697.544685, 422.893000]: Waiting for service /gazebo/spawn_sdf_model\n",
      "[INFO] [1616518697.547187, 422.893000]: Calling service /gazebo/spawn_sdf_model\n",
      "[INFO] [1616518697.762124, 422.908000]: Spawn status: SpawnModel: Successfully spawned entity\n",
      "191\n",
      "[INFO] [1616518700.452454, 423.168000]: Spawn: ycb_077_rubiks_cube\n",
      "[INFO] [1616518700.454532, 423.168000]: Spawn: [-0.          0.          0.9953962  -0.09584575]\n",
      "[INFO] [1616518700.455760, 423.168000]: Waiting for service /gazebo/spawn_sdf_model\n",
      "[INFO] [1616518700.461839, 423.168000]: Calling service /gazebo/spawn_sdf_model\n",
      "[INFO] [1616518700.563377, 423.169000]: Spawn status: SpawnModel: Successfully spawned entity\n",
      "192\n",
      "[INFO] [1616518702.422189, 423.357000]: Spawn: ycb_077_rubiks_cube\n",
      "[INFO] [1616518702.425146, 423.357000]: Spawn: [-0.          0.          0.9945219  -0.10452846]\n",
      "[INFO] [1616518702.426441, 423.357000]: Waiting for service /gazebo/spawn_sdf_model\n",
      "[INFO] [1616518702.435744, 423.358000]: Calling service /gazebo/spawn_sdf_model\n",
      "[INFO] [1616518702.687570, 423.383000]: Spawn status: SpawnModel: Successfully spawned entity\n",
      "193\n",
      "[INFO] [1616518704.992788, 423.613000]: Spawn: ycb_077_rubiks_cube\n",
      "[INFO] [1616518704.995346, 423.613000]: Spawn: [-0.          0.          0.99357186 -0.11320321]\n",
      "[INFO] [1616518704.997099, 423.613000]: Waiting for service /gazebo/spawn_sdf_model\n",
      "[INFO] [1616518705.000749, 423.613000]: Calling service /gazebo/spawn_sdf_model\n",
      "[INFO] [1616518705.162411, 423.627000]: Spawn status: SpawnModel: Successfully spawned entity\n",
      "194\n",
      "[INFO] [1616518708.111511, 423.933000]: Spawn: ycb_077_rubiks_cube\n",
      "[INFO] [1616518708.114034, 423.933000]: Spawn: [-0.          0.          0.99254615 -0.12186934]\n",
      "[INFO] [1616518708.115494, 423.933000]: Waiting for service /gazebo/spawn_sdf_model\n",
      "[INFO] [1616518708.128729, 423.936000]: Calling service /gazebo/spawn_sdf_model\n",
      "[INFO] [1616518708.247371, 423.944000]: Spawn status: SpawnModel: Successfully spawned entity\n",
      "195\n",
      "[INFO] [1616518710.521477, 424.179000]: Spawn: ycb_077_rubiks_cube\n",
      "[INFO] [1616518710.523532, 424.179000]: Spawn: [-0.          0.          0.99144486 -0.13052619]\n",
      "[INFO] [1616518710.528643, 424.180000]: Waiting for service /gazebo/spawn_sdf_model\n",
      "[INFO] [1616518710.544803, 424.182000]: Calling service /gazebo/spawn_sdf_model\n",
      "[INFO] [1616518710.798262, 424.207000]: Spawn status: SpawnModel: Successfully spawned entity\n",
      "196\n",
      "[INFO] [1616518713.472173, 424.487000]: Spawn: ycb_077_rubiks_cube\n",
      "[INFO] [1616518713.474206, 424.487000]: Spawn: [-0.          0.          0.99026807 -0.1391731 ]\n",
      "[INFO] [1616518713.475262, 424.487000]: Waiting for service /gazebo/spawn_sdf_model\n",
      "[INFO] [1616518713.492196, 424.489000]: Calling service /gazebo/spawn_sdf_model\n",
      "[INFO] [1616518713.548106, 424.491000]: Spawn status: SpawnModel: Successfully spawned entity\n",
      "197\n",
      "[INFO] [1616518715.839010, 424.716000]: Spawn: ycb_077_rubiks_cube\n",
      "[INFO] [1616518715.841140, 424.716000]: Spawn: [-0.          0.          0.98901586 -0.14780941]\n",
      "[INFO] [1616518715.843083, 424.716000]: Waiting for service /gazebo/spawn_sdf_model\n",
      "[INFO] [1616518715.846739, 424.716000]: Calling service /gazebo/spawn_sdf_model\n",
      "[INFO] [1616518715.891285, 424.717000]: Spawn status: SpawnModel: Successfully spawned entity\n",
      "198\n",
      "[INFO] [1616518718.562544, 424.994000]: Spawn: ycb_077_rubiks_cube\n",
      "[INFO] [1616518718.564570, 424.994000]: Spawn: [-0.          0.          0.98768834 -0.15643447]\n",
      "[INFO] [1616518718.566042, 424.994000]: Waiting for service /gazebo/spawn_sdf_model\n",
      "[INFO] [1616518718.577159, 424.994000]: Calling service /gazebo/spawn_sdf_model\n",
      "[INFO] [1616518718.640901, 424.996000]: Spawn status: SpawnModel: Successfully spawned entity\n",
      "199\n",
      "[INFO] [1616518720.919238, 425.225000]: Spawn: ycb_077_rubiks_cube\n",
      "[INFO] [1616518720.921635, 425.226000]: Spawn: [-0.          0.          0.9862856  -0.16504761]\n",
      "[INFO] [1616518720.922778, 425.226000]: Waiting for service /gazebo/spawn_sdf_model\n",
      "[INFO] [1616518720.932158, 425.227000]: Calling service /gazebo/spawn_sdf_model\n"
     ]
    },
    {
     "name": "stdout",
     "output_type": "stream",
     "text": [
      "[INFO] [1616518721.164873, 425.248000]: Spawn status: SpawnModel: Successfully spawned entity\n",
      "200\n",
      "[INFO] [1616518723.440373, 425.472000]: Spawn: ycb_077_rubiks_cube\n",
      "[INFO] [1616518723.442847, 425.472000]: Spawn: [-0.          0.          0.98480775 -0.17364818]\n",
      "[INFO] [1616518723.451368, 425.472000]: Waiting for service /gazebo/spawn_sdf_model\n",
      "[INFO] [1616518723.471102, 425.472000]: Calling service /gazebo/spawn_sdf_model\n",
      "[INFO] [1616518723.679494, 425.494000]: Spawn status: SpawnModel: Successfully spawned entity\n",
      "201\n",
      "[INFO] [1616518726.873695, 425.855000]: Spawn: ycb_077_rubiks_cube\n",
      "[INFO] [1616518726.877986, 425.856000]: Spawn: [-0.          0.          0.98325491 -0.18223553]\n",
      "[INFO] [1616518726.881045, 425.856000]: Waiting for service /gazebo/spawn_sdf_model\n",
      "[INFO] [1616518726.898028, 425.858000]: Calling service /gazebo/spawn_sdf_model\n",
      "[INFO] [1616518727.024791, 425.868000]: Spawn status: SpawnModel: Successfully spawned entity\n",
      "202\n",
      "[INFO] [1616518729.337999, 426.109000]: Spawn: ycb_077_rubiks_cube\n",
      "[INFO] [1616518729.340877, 426.109000]: Spawn: [-0.          0.          0.98162718 -0.190809  ]\n",
      "[INFO] [1616518729.342686, 426.109000]: Waiting for service /gazebo/spawn_sdf_model\n",
      "[INFO] [1616518729.350130, 426.109000]: Calling service /gazebo/spawn_sdf_model\n",
      "[INFO] [1616518729.599322, 426.141000]: Spawn status: SpawnModel: Successfully spawned entity\n",
      "203\n",
      "[INFO] [1616518732.144339, 426.407000]: Spawn: ycb_077_rubiks_cube\n",
      "[INFO] [1616518732.146825, 426.407000]: Spawn: [-0.          0.          0.9799247  -0.19936793]\n",
      "[INFO] [1616518732.149378, 426.407000]: Waiting for service /gazebo/spawn_sdf_model\n",
      "[INFO] [1616518732.158829, 426.409000]: Calling service /gazebo/spawn_sdf_model\n",
      "[INFO] [1616518732.381704, 426.425000]: Spawn status: SpawnModel: Successfully spawned entity\n",
      "204\n",
      "[INFO] [1616518734.650260, 426.644000]: Spawn: ycb_077_rubiks_cube\n",
      "[INFO] [1616518734.652628, 426.644000]: Spawn: [-0.          0.          0.9781476  -0.20791169]\n",
      "[INFO] [1616518734.657557, 426.648000]: Waiting for service /gazebo/spawn_sdf_model\n",
      "[INFO] [1616518734.669334, 426.652000]: Calling service /gazebo/spawn_sdf_model\n",
      "[INFO] [1616518734.998771, 426.674000]: Spawn status: SpawnModel: Successfully spawned entity\n",
      "205\n",
      "[INFO] [1616518737.463630, 426.944000]: Spawn: ycb_077_rubiks_cube\n",
      "[INFO] [1616518737.465556, 426.944000]: Spawn: [-0.          0.          0.97629601 -0.21643961]\n",
      "[INFO] [1616518737.469766, 426.944000]: Waiting for service /gazebo/spawn_sdf_model\n",
      "[INFO] [1616518737.478556, 426.945000]: Calling service /gazebo/spawn_sdf_model\n",
      "[INFO] [1616518737.568462, 426.946000]: Spawn status: SpawnModel: Successfully spawned entity\n",
      "206\n",
      "[INFO] [1616518739.866225, 427.182000]: Spawn: ycb_077_rubiks_cube\n",
      "[INFO] [1616518739.868341, 427.182000]: Spawn: [-0.          0.          0.97437006 -0.22495105]\n",
      "[INFO] [1616518739.869512, 427.182000]: Waiting for service /gazebo/spawn_sdf_model\n",
      "[INFO] [1616518739.877049, 427.183000]: Calling service /gazebo/spawn_sdf_model\n",
      "[INFO] [1616518740.121825, 427.205000]: Spawn status: SpawnModel: Successfully spawned entity\n",
      "207\n",
      "[INFO] [1616518742.646452, 427.465000]: Spawn: ycb_077_rubiks_cube\n",
      "[INFO] [1616518742.649600, 427.466000]: Spawn: [-0.          0.          0.97236992 -0.23344536]\n",
      "[INFO] [1616518742.650959, 427.466000]: Waiting for service /gazebo/spawn_sdf_model\n",
      "[INFO] [1616518742.658760, 427.467000]: Calling service /gazebo/spawn_sdf_model\n",
      "[INFO] [1616518742.837554, 427.480000]: Spawn status: SpawnModel: Successfully spawned entity\n",
      "208\n",
      "[INFO] [1616518745.521633, 427.752000]: Spawn: ycb_077_rubiks_cube\n",
      "[INFO] [1616518745.523709, 427.752000]: Spawn: [-0.          0.          0.97029573 -0.2419219 ]\n",
      "[INFO] [1616518745.526671, 427.753000]: Waiting for service /gazebo/spawn_sdf_model\n",
      "[INFO] [1616518745.541153, 427.755000]: Calling service /gazebo/spawn_sdf_model\n",
      "[INFO] [1616518745.787039, 427.774000]: Spawn status: SpawnModel: Successfully spawned entity\n",
      "209\n",
      "[INFO] [1616518748.505207, 428.058000]: Spawn: ycb_077_rubiks_cube\n",
      "[INFO] [1616518748.509650, 428.058000]: Spawn: [-0.          0.          0.96814764 -0.25038   ]\n",
      "[INFO] [1616518748.512390, 428.059000]: Waiting for service /gazebo/spawn_sdf_model\n",
      "[INFO] [1616518748.532034, 428.062000]: Calling service /gazebo/spawn_sdf_model\n",
      "[INFO] [1616518748.736250, 428.079000]: Spawn status: SpawnModel: Successfully spawned entity\n",
      "210\n",
      "[INFO] [1616518751.296060, 428.350000]: Spawn: ycb_077_rubiks_cube\n",
      "[INFO] [1616518751.298697, 428.350000]: Spawn: [-0.          0.          0.96592583 -0.25881905]\n",
      "[INFO] [1616518751.300761, 428.350000]: Waiting for service /gazebo/spawn_sdf_model\n",
      "[INFO] [1616518751.311064, 428.352000]: Calling service /gazebo/spawn_sdf_model\n",
      "[INFO] [1616518751.460245, 428.367000]: Spawn status: SpawnModel: Successfully spawned entity\n",
      "211\n",
      "[INFO] [1616518754.424897, 428.685000]: Spawn: ycb_077_rubiks_cube\n",
      "[INFO] [1616518754.426885, 428.685000]: Spawn: [-0.          0.          0.96363045 -0.26723838]\n",
      "[INFO] [1616518754.430624, 428.686000]: Waiting for service /gazebo/spawn_sdf_model\n",
      "[INFO] [1616518754.433900, 428.686000]: Calling service /gazebo/spawn_sdf_model\n",
      "[INFO] [1616518754.654049, 428.704000]: Spawn status: SpawnModel: Successfully spawned entity\n",
      "212\n",
      "[INFO] [1616518757.014085, 428.939000]: Spawn: ycb_077_rubiks_cube\n",
      "[INFO] [1616518757.018800, 428.940000]: Spawn: [-0.          0.          0.9612617  -0.27563736]\n",
      "[INFO] [1616518757.020398, 428.940000]: Waiting for service /gazebo/spawn_sdf_model\n",
      "[INFO] [1616518757.031855, 428.941000]: Calling service /gazebo/spawn_sdf_model\n",
      "[INFO] [1616518757.188329, 428.958000]: Spawn status: SpawnModel: Successfully spawned entity\n",
      "213\n",
      "[INFO] [1616518760.195173, 429.262000]: Spawn: ycb_077_rubiks_cube\n",
      "[INFO] [1616518760.197298, 429.262000]: Spawn: [-0.          0.          0.95881973 -0.28401534]\n",
      "[INFO] [1616518760.198644, 429.262000]: Waiting for service /gazebo/spawn_sdf_model\n",
      "[INFO] [1616518760.209707, 429.263000]: Calling service /gazebo/spawn_sdf_model\n",
      "[INFO] [1616518760.344911, 429.273000]: Spawn status: SpawnModel: Successfully spawned entity\n",
      "214\n",
      "[INFO] [1616518762.834723, 429.530000]: Spawn: ycb_077_rubiks_cube\n",
      "[INFO] [1616518762.836825, 429.530000]: Spawn: [-0.          0.          0.95630476 -0.2923717 ]\n",
      "[INFO] [1616518762.838064, 429.530000]: Waiting for service /gazebo/spawn_sdf_model\n",
      "[INFO] [1616518762.849339, 429.531000]: Calling service /gazebo/spawn_sdf_model\n",
      "[INFO] [1616518762.909504, 429.534000]: Spawn status: SpawnModel: Successfully spawned entity\n",
      "215\n",
      "[INFO] [1616518765.709767, 429.813000]: Spawn: ycb_077_rubiks_cube\n",
      "[INFO] [1616518765.716279, 429.814000]: Spawn: [-0.          0.          0.95371695 -0.3007058 ]\n",
      "[INFO] [1616518765.721589, 429.815000]: Waiting for service /gazebo/spawn_sdf_model\n",
      "[INFO] [1616518765.738356, 429.816000]: Calling service /gazebo/spawn_sdf_model\n",
      "[INFO] [1616518765.825254, 429.824000]: Spawn status: SpawnModel: Successfully spawned entity\n",
      "216\n",
      "[INFO] [1616518768.278077, 430.084000]: Spawn: ycb_077_rubiks_cube\n",
      "[INFO] [1616518768.280579, 430.084000]: Spawn: [-0.          0.          0.95105652 -0.30901699]\n",
      "[INFO] [1616518768.281983, 430.084000]: Waiting for service /gazebo/spawn_sdf_model\n",
      "[INFO] [1616518768.285801, 430.084000]: Calling service /gazebo/spawn_sdf_model\n",
      "[INFO] [1616518768.539091, 430.104000]: Spawn status: SpawnModel: Successfully spawned entity\n",
      "217\n",
      "[INFO] [1616518771.217177, 430.394000]: Spawn: ycb_077_rubiks_cube\n",
      "[INFO] [1616518771.219418, 430.394000]: Spawn: [-0.          0.          0.94832366 -0.31730466]\n",
      "[INFO] [1616518771.223209, 430.395000]: Waiting for service /gazebo/spawn_sdf_model\n",
      "[INFO] [1616518771.227439, 430.395000]: Calling service /gazebo/spawn_sdf_model\n",
      "[INFO] [1616518771.294863, 430.396000]: Spawn status: SpawnModel: Successfully spawned entity\n",
      "218\n",
      "[INFO] [1616518773.842692, 430.665000]: Spawn: ycb_077_rubiks_cube\n",
      "[INFO] [1616518773.845175, 430.665000]: Spawn: [-0.          0.          0.94551858 -0.32556815]\n",
      "[INFO] [1616518773.846371, 430.665000]: Waiting for service /gazebo/spawn_sdf_model\n",
      "[INFO] [1616518773.862858, 430.667000]: Calling service /gazebo/spawn_sdf_model\n",
      "[INFO] [1616518774.051204, 430.679000]: Spawn status: SpawnModel: Successfully spawned entity\n",
      "219\n",
      "[INFO] [1616518776.359150, 430.917000]: Spawn: ycb_077_rubiks_cube\n",
      "[INFO] [1616518776.364641, 430.918000]: Spawn: [-0.          0.          0.94264149 -0.33380686]\n",
      "[INFO] [1616518776.368583, 430.918000]: Waiting for service /gazebo/spawn_sdf_model\n",
      "[INFO] [1616518776.382991, 430.918000]: Calling service /gazebo/spawn_sdf_model\n"
     ]
    },
    {
     "name": "stdout",
     "output_type": "stream",
     "text": [
      "[INFO] [1616518776.566550, 430.925000]: Spawn status: SpawnModel: Successfully spawned entity\n",
      "220\n",
      "[INFO] [1616518779.694676, 431.209000]: Spawn: ycb_077_rubiks_cube\n",
      "[INFO] [1616518779.699756, 431.209000]: Spawn: [-0.          0.          0.93969262 -0.34202014]\n",
      "[INFO] [1616518779.701739, 431.209000]: Waiting for service /gazebo/spawn_sdf_model\n",
      "[INFO] [1616518779.711311, 431.209000]: Calling service /gazebo/spawn_sdf_model\n",
      "[INFO] [1616518779.911987, 431.230000]: Spawn status: SpawnModel: Successfully spawned entity\n",
      "221\n",
      "[INFO] [1616518782.920594, 431.533000]: Spawn: ycb_077_rubiks_cube\n",
      "[INFO] [1616518782.922964, 431.533000]: Spawn: [-0.          0.          0.93667219 -0.35020738]\n",
      "[INFO] [1616518782.924043, 431.533000]: Waiting for service /gazebo/spawn_sdf_model\n",
      "[INFO] [1616518782.933031, 431.534000]: Calling service /gazebo/spawn_sdf_model\n",
      "[INFO] [1616518783.068818, 431.541000]: Spawn status: SpawnModel: Successfully spawned entity\n",
      "222\n",
      "[INFO] [1616518785.559733, 431.801000]: Spawn: ycb_077_rubiks_cube\n",
      "[INFO] [1616518785.563508, 431.802000]: Spawn: [-0.          0.          0.93358043 -0.35836795]\n",
      "[INFO] [1616518785.564899, 431.802000]: Waiting for service /gazebo/spawn_sdf_model\n",
      "[INFO] [1616518785.568087, 431.802000]: Calling service /gazebo/spawn_sdf_model\n",
      "[INFO] [1616518785.812970, 431.821000]: Spawn status: SpawnModel: Successfully spawned entity\n",
      "223\n",
      "[INFO] [1616518788.528769, 432.105000]: Spawn: ycb_077_rubiks_cube\n",
      "[INFO] [1616518788.530824, 432.105000]: Spawn: [-0.          0.          0.93041757 -0.36650123]\n",
      "[INFO] [1616518788.532769, 432.105000]: Waiting for service /gazebo/spawn_sdf_model\n",
      "[INFO] [1616518788.539921, 432.106000]: Calling service /gazebo/spawn_sdf_model\n",
      "[INFO] [1616518788.733747, 432.122000]: Spawn status: SpawnModel: Successfully spawned entity\n",
      "224\n",
      "[INFO] [1616518791.201913, 432.366000]: Spawn: ycb_077_rubiks_cube\n",
      "[INFO] [1616518791.206900, 432.367000]: Spawn: [-0.          0.          0.92718385 -0.37460659]\n",
      "[INFO] [1616518791.208683, 432.367000]: Waiting for service /gazebo/spawn_sdf_model\n",
      "[INFO] [1616518791.215017, 432.368000]: Calling service /gazebo/spawn_sdf_model\n",
      "[INFO] [1616518791.450389, 432.387000]: Spawn status: SpawnModel: Successfully spawned entity\n",
      "225\n",
      "[INFO] [1616518794.303933, 432.673000]: Spawn: ycb_077_rubiks_cube\n",
      "[INFO] [1616518794.306701, 432.673000]: Spawn: [-0.          0.          0.92387953 -0.38268343]\n",
      "[INFO] [1616518794.311994, 432.673000]: Waiting for service /gazebo/spawn_sdf_model\n",
      "[INFO] [1616518794.321484, 432.673000]: Calling service /gazebo/spawn_sdf_model\n",
      "[INFO] [1616518794.588999, 432.703000]: Spawn status: SpawnModel: Successfully spawned entity\n",
      "226\n",
      "[INFO] [1616518796.930141, 432.940000]: Spawn: ycb_077_rubiks_cube\n",
      "[INFO] [1616518796.932717, 432.940000]: Spawn: [-0.          0.          0.92050485 -0.39073113]\n",
      "[INFO] [1616518796.935442, 432.940000]: Waiting for service /gazebo/spawn_sdf_model\n",
      "[INFO] [1616518796.939596, 432.941000]: Calling service /gazebo/spawn_sdf_model\n",
      "[INFO] [1616518797.115032, 432.960000]: Spawn status: SpawnModel: Successfully spawned entity\n",
      "227\n",
      "[INFO] [1616518799.361077, 433.180000]: Spawn: ycb_077_rubiks_cube\n",
      "[INFO] [1616518799.363242, 433.180000]: Spawn: [-0.          0.          0.91706007 -0.39874907]\n",
      "[INFO] [1616518799.364847, 433.180000]: Waiting for service /gazebo/spawn_sdf_model\n",
      "[INFO] [1616518799.369596, 433.180000]: Calling service /gazebo/spawn_sdf_model\n",
      "[INFO] [1616518799.625461, 433.205000]: Spawn status: SpawnModel: Successfully spawned entity\n",
      "228\n",
      "[INFO] [1616518802.088393, 433.448000]: Spawn: ycb_077_rubiks_cube\n",
      "[INFO] [1616518802.090327, 433.448000]: Spawn: [-0.          0.          0.91354546 -0.40673664]\n",
      "[INFO] [1616518802.092793, 433.448000]: Waiting for service /gazebo/spawn_sdf_model\n",
      "[INFO] [1616518802.101142, 433.448000]: Calling service /gazebo/spawn_sdf_model\n",
      "[INFO] [1616518802.148398, 433.450000]: Spawn status: SpawnModel: Successfully spawned entity\n",
      "229\n",
      "[INFO] [1616518804.850144, 433.686000]: Spawn: ycb_077_rubiks_cube\n",
      "[INFO] [1616518804.852563, 433.686000]: Spawn: [-0.          0.          0.90996127 -0.41469324]\n",
      "[INFO] [1616518804.854649, 433.686000]: Waiting for service /gazebo/spawn_sdf_model\n",
      "[INFO] [1616518804.862834, 433.686000]: Calling service /gazebo/spawn_sdf_model\n",
      "[INFO] [1616518805.066139, 433.700000]: Spawn status: SpawnModel: Successfully spawned entity\n",
      "230\n",
      "[INFO] [1616518809.026795, 434.021000]: Spawn: ycb_077_rubiks_cube\n",
      "[INFO] [1616518809.029785, 434.021000]: Spawn: [-0.          0.          0.90630779 -0.42261826]\n",
      "[INFO] [1616518809.031597, 434.021000]: Waiting for service /gazebo/spawn_sdf_model\n",
      "[INFO] [1616518809.041382, 434.022000]: Calling service /gazebo/spawn_sdf_model\n",
      "[INFO] [1616518809.291623, 434.040000]: Spawn status: SpawnModel: Successfully spawned entity\n",
      "231\n",
      "[INFO] [1616518814.101408, 434.448000]: Spawn: ycb_077_rubiks_cube\n",
      "[INFO] [1616518814.108865, 434.449000]: Spawn: [-0.          0.          0.90258528 -0.4305111 ]\n",
      "[INFO] [1616518814.111378, 434.449000]: Waiting for service /gazebo/spawn_sdf_model\n",
      "[INFO] [1616518814.125143, 434.451000]: Calling service /gazebo/spawn_sdf_model\n",
      "[INFO] [1616518814.402248, 434.474000]: Spawn status: SpawnModel: Successfully spawned entity\n",
      "232\n",
      "[INFO] [1616518817.351010, 434.759000]: Spawn: ycb_077_rubiks_cube\n",
      "[INFO] [1616518817.354970, 434.760000]: Spawn: [-0.          0.          0.89879405 -0.43837115]\n",
      "[INFO] [1616518817.358125, 434.760000]: Waiting for service /gazebo/spawn_sdf_model\n",
      "[INFO] [1616518817.369215, 434.761000]: Calling service /gazebo/spawn_sdf_model\n",
      "[INFO] [1616518817.568514, 434.780000]: Spawn status: SpawnModel: Successfully spawned entity\n",
      "233\n",
      "[INFO] [1616518820.118713, 435.046000]: Spawn: ycb_077_rubiks_cube\n",
      "[INFO] [1616518820.120965, 435.046000]: Spawn: [-0.          0.          0.89493436 -0.44619781]\n",
      "[INFO] [1616518820.127234, 435.047000]: Waiting for service /gazebo/spawn_sdf_model\n",
      "[INFO] [1616518820.141697, 435.048000]: Calling service /gazebo/spawn_sdf_model\n",
      "[INFO] [1616518820.304377, 435.069000]: Spawn status: SpawnModel: Successfully spawned entity\n",
      "234\n",
      "[INFO] [1616518823.178228, 435.327000]: Spawn: ycb_077_rubiks_cube\n",
      "[INFO] [1616518823.180453, 435.327000]: Spawn: [-0.          0.          0.89100652 -0.4539905 ]\n",
      "[INFO] [1616518823.181958, 435.327000]: Waiting for service /gazebo/spawn_sdf_model\n",
      "[INFO] [1616518823.199380, 435.329000]: Calling service /gazebo/spawn_sdf_model\n",
      "[INFO] [1616518823.435817, 435.347000]: Spawn status: SpawnModel: Successfully spawned entity\n",
      "235\n",
      "[INFO] [1616518825.912014, 435.580000]: Spawn: ycb_077_rubiks_cube\n",
      "[INFO] [1616518825.914169, 435.580000]: Spawn: [-0.          0.          0.88701083 -0.46174861]\n",
      "[INFO] [1616518825.915257, 435.580000]: Waiting for service /gazebo/spawn_sdf_model\n",
      "[INFO] [1616518825.922953, 435.581000]: Calling service /gazebo/spawn_sdf_model\n",
      "[INFO] [1616518826.192773, 435.604000]: Spawn status: SpawnModel: Successfully spawned entity\n",
      "236\n",
      "[INFO] [1616518828.462303, 435.813000]: Spawn: ycb_077_rubiks_cube\n",
      "[INFO] [1616518828.467515, 435.813000]: Spawn: [-0.          0.          0.88294759 -0.46947156]\n",
      "[INFO] [1616518828.470161, 435.814000]: Waiting for service /gazebo/spawn_sdf_model\n",
      "[INFO] [1616518828.474699, 435.814000]: Calling service /gazebo/spawn_sdf_model\n",
      "[INFO] [1616518828.732801, 435.838000]: Spawn status: SpawnModel: Successfully spawned entity\n",
      "237\n",
      "[INFO] [1616518831.028918, 436.077000]: Spawn: ycb_077_rubiks_cube\n",
      "[INFO] [1616518831.030908, 436.077000]: Spawn: [-0.          0.          0.87881711 -0.47715876]\n",
      "[INFO] [1616518831.036687, 436.077000]: Waiting for service /gazebo/spawn_sdf_model\n",
      "[INFO] [1616518831.043385, 436.078000]: Calling service /gazebo/spawn_sdf_model\n",
      "[INFO] [1616518831.316730, 436.102000]: Spawn status: SpawnModel: Successfully spawned entity\n",
      "238\n",
      "[INFO] [1616518833.797532, 436.324000]: Spawn: ycb_077_rubiks_cube\n",
      "[INFO] [1616518833.803596, 436.325000]: Spawn: [-0.          0.          0.87461971 -0.48480962]\n",
      "[INFO] [1616518833.804903, 436.325000]: Waiting for service /gazebo/spawn_sdf_model\n",
      "[INFO] [1616518833.812155, 436.326000]: Calling service /gazebo/spawn_sdf_model\n",
      "[INFO] [1616518834.066372, 436.350000]: Spawn status: SpawnModel: Successfully spawned entity\n",
      "239\n",
      "[INFO] [1616518836.785299, 436.650000]: Spawn: ycb_077_rubiks_cube\n",
      "[INFO] [1616518836.787710, 436.650000]: Spawn: [-0.          0.          0.8703557  -0.49242356]\n",
      "[INFO] [1616518836.789737, 436.650000]: Waiting for service /gazebo/spawn_sdf_model\n",
      "[INFO] [1616518836.821046, 436.655000]: Calling service /gazebo/spawn_sdf_model\n",
      "[INFO] [1616518836.984104, 436.663000]: Spawn status: SpawnModel: Successfully spawned entity\n"
     ]
    },
    {
     "name": "stdout",
     "output_type": "stream",
     "text": [
      "240\n",
      "[INFO] [1616518839.522294, 436.921000]: Spawn: ycb_077_rubiks_cube\n",
      "[INFO] [1616518839.524657, 436.921000]: Spawn: [-0.         0.         0.8660254 -0.5      ]\n",
      "[INFO] [1616518839.526108, 436.921000]: Waiting for service /gazebo/spawn_sdf_model\n",
      "[INFO] [1616518839.535290, 436.922000]: Calling service /gazebo/spawn_sdf_model\n",
      "[INFO] [1616518839.762114, 436.939000]: Spawn status: SpawnModel: Successfully spawned entity\n",
      "241\n",
      "[INFO] [1616518842.639050, 437.261000]: Spawn: ycb_077_rubiks_cube\n",
      "[INFO] [1616518842.640961, 437.261000]: Spawn: [-0.          0.          0.86162916 -0.50753836]\n",
      "[INFO] [1616518842.642211, 437.261000]: Waiting for service /gazebo/spawn_sdf_model\n",
      "[INFO] [1616518842.649356, 437.262000]: Calling service /gazebo/spawn_sdf_model\n",
      "[INFO] [1616518842.868435, 437.281000]: Spawn status: SpawnModel: Successfully spawned entity\n",
      "242\n",
      "[INFO] [1616518845.617104, 437.565000]: Spawn: ycb_077_rubiks_cube\n",
      "[INFO] [1616518845.619515, 437.566000]: Spawn: [-0.          0.          0.8571673  -0.51503807]\n",
      "[INFO] [1616518845.621802, 437.566000]: Waiting for service /gazebo/spawn_sdf_model\n",
      "[INFO] [1616518845.632250, 437.567000]: Calling service /gazebo/spawn_sdf_model\n",
      "[INFO] [1616518845.815345, 437.586000]: Spawn status: SpawnModel: Successfully spawned entity\n",
      "243\n",
      "[INFO] [1616518848.165217, 437.822000]: Spawn: ycb_077_rubiks_cube\n",
      "[INFO] [1616518848.167647, 437.822000]: Spawn: [-0.          0.          0.85264016 -0.52249856]\n",
      "[INFO] [1616518848.168767, 437.822000]: Waiting for service /gazebo/spawn_sdf_model\n",
      "[INFO] [1616518848.196424, 437.825000]: Calling service /gazebo/spawn_sdf_model\n",
      "[INFO] [1616518848.425931, 437.844000]: Spawn status: SpawnModel: Successfully spawned entity\n",
      "244\n",
      "[INFO] [1616518850.693720, 438.068000]: Spawn: ycb_077_rubiks_cube\n",
      "[INFO] [1616518850.696417, 438.068000]: Spawn: [-0.          0.          0.8480481  -0.52991926]\n",
      "[INFO] [1616518850.701049, 438.069000]: Waiting for service /gazebo/spawn_sdf_model\n",
      "[INFO] [1616518850.703617, 438.069000]: Calling service /gazebo/spawn_sdf_model\n",
      "[INFO] [1616518850.911815, 438.092000]: Spawn status: SpawnModel: Successfully spawned entity\n",
      "245\n",
      "[INFO] [1616518853.219312, 438.316000]: Spawn: ycb_077_rubiks_cube\n",
      "[INFO] [1616518853.222215, 438.316000]: Spawn: [-0.          0.          0.84339145 -0.53729961]\n",
      "[INFO] [1616518853.223279, 438.316000]: Waiting for service /gazebo/spawn_sdf_model\n",
      "[INFO] [1616518853.231138, 438.316000]: Calling service /gazebo/spawn_sdf_model\n",
      "[INFO] [1616518853.463568, 438.336000]: Spawn status: SpawnModel: Successfully spawned entity\n",
      "246\n",
      "[INFO] [1616518855.905702, 438.584000]: Spawn: ycb_077_rubiks_cube\n",
      "[INFO] [1616518855.909563, 438.585000]: Spawn: [-0.          0.          0.83867057 -0.54463904]\n",
      "[INFO] [1616518855.911124, 438.585000]: Waiting for service /gazebo/spawn_sdf_model\n",
      "[INFO] [1616518855.917041, 438.586000]: Calling service /gazebo/spawn_sdf_model\n",
      "[INFO] [1616518855.954753, 438.587000]: Spawn status: SpawnModel: Successfully spawned entity\n",
      "247\n",
      "[INFO] [1616518857.998109, 438.784000]: Spawn: ycb_077_rubiks_cube\n",
      "[INFO] [1616518858.000036, 438.784000]: Spawn: [-0.          0.          0.83388582 -0.55193699]\n",
      "[INFO] [1616518858.001174, 438.784000]: Waiting for service /gazebo/spawn_sdf_model\n",
      "[INFO] [1616518858.003431, 438.784000]: Calling service /gazebo/spawn_sdf_model\n",
      "[INFO] [1616518858.073442, 438.789000]: Spawn status: SpawnModel: Successfully spawned entity\n",
      "248\n",
      "[INFO] [1616518860.517886, 439.030000]: Spawn: ycb_077_rubiks_cube\n",
      "[INFO] [1616518860.519728, 439.030000]: Spawn: [-0.          0.          0.82903757 -0.5591929 ]\n",
      "[INFO] [1616518860.522275, 439.030000]: Waiting for service /gazebo/spawn_sdf_model\n",
      "[INFO] [1616518860.536543, 439.032000]: Calling service /gazebo/spawn_sdf_model\n",
      "[INFO] [1616518860.773702, 439.058000]: Spawn status: SpawnModel: Successfully spawned entity\n",
      "249\n",
      "[INFO] [1616518863.434083, 439.346000]: Spawn: ycb_077_rubiks_cube\n",
      "[INFO] [1616518863.438686, 439.347000]: Spawn: [-0.          0.          0.82412619 -0.56640624]\n",
      "[INFO] [1616518863.439980, 439.347000]: Waiting for service /gazebo/spawn_sdf_model\n",
      "[INFO] [1616518863.450843, 439.348000]: Calling service /gazebo/spawn_sdf_model\n",
      "[INFO] [1616518863.684010, 439.369000]: Spawn status: SpawnModel: Successfully spawned entity\n",
      "250\n",
      "[INFO] [1616518866.158603, 439.616000]: Spawn: ycb_077_rubiks_cube\n",
      "[INFO] [1616518866.160716, 439.616000]: Spawn: [-0.          0.          0.81915204 -0.57357644]\n",
      "[INFO] [1616518866.161861, 439.616000]: Waiting for service /gazebo/spawn_sdf_model\n",
      "[INFO] [1616518866.165862, 439.616000]: Calling service /gazebo/spawn_sdf_model\n",
      "[INFO] [1616518866.212540, 439.618000]: Spawn status: SpawnModel: Successfully spawned entity\n",
      "251\n",
      "[INFO] [1616518868.883280, 439.892000]: Spawn: ycb_077_rubiks_cube\n",
      "[INFO] [1616518868.886622, 439.893000]: Spawn: [-0.          0.          0.81411552 -0.58070296]\n",
      "[INFO] [1616518868.887881, 439.893000]: Waiting for service /gazebo/spawn_sdf_model\n",
      "[INFO] [1616518868.891505, 439.893000]: Calling service /gazebo/spawn_sdf_model\n",
      "[INFO] [1616518869.196458, 439.911000]: Spawn status: SpawnModel: Successfully spawned entity\n",
      "252\n",
      "[INFO] [1616518871.905174, 440.216000]: Spawn: ycb_077_rubiks_cube\n",
      "[INFO] [1616518871.907438, 440.216000]: Spawn: [-0.          0.          0.80901699 -0.58778525]\n",
      "[INFO] [1616518871.909451, 440.216000]: Waiting for service /gazebo/spawn_sdf_model\n",
      "[INFO] [1616518871.922213, 440.217000]: Calling service /gazebo/spawn_sdf_model\n",
      "[INFO] [1616518872.079688, 440.230000]: Spawn status: SpawnModel: Successfully spawned entity\n",
      "253\n",
      "[INFO] [1616518874.405738, 440.464000]: Spawn: ycb_077_rubiks_cube\n",
      "[INFO] [1616518874.407978, 440.464000]: Spawn: [-0.          0.          0.80385686 -0.59482279]\n",
      "[INFO] [1616518874.411033, 440.465000]: Waiting for service /gazebo/spawn_sdf_model\n",
      "[INFO] [1616518874.421412, 440.466000]: Calling service /gazebo/spawn_sdf_model\n",
      "[INFO] [1616518874.629523, 440.486000]: Spawn status: SpawnModel: Successfully spawned entity\n",
      "254\n",
      "[INFO] [1616518876.958996, 440.718000]: Spawn: ycb_077_rubiks_cube\n",
      "[INFO] [1616518876.960962, 440.718000]: Spawn: [-0.          0.          0.79863551 -0.60181502]\n",
      "[INFO] [1616518876.962590, 440.718000]: Waiting for service /gazebo/spawn_sdf_model\n",
      "[INFO] [1616518876.981699, 440.721000]: Calling service /gazebo/spawn_sdf_model\n",
      "[INFO] [1616518877.189976, 440.739000]: Spawn status: SpawnModel: Successfully spawned entity\n",
      "255\n",
      "[INFO] [1616518879.731694, 441.007000]: Spawn: ycb_077_rubiks_cube\n",
      "[INFO] [1616518879.734937, 441.007000]: Spawn: [-0.          0.          0.79335334 -0.60876143]\n",
      "[INFO] [1616518879.736726, 441.007000]: Waiting for service /gazebo/spawn_sdf_model\n",
      "[INFO] [1616518879.748350, 441.010000]: Calling service /gazebo/spawn_sdf_model\n",
      "[INFO] [1616518879.893038, 441.023000]: Spawn status: SpawnModel: Successfully spawned entity\n",
      "256\n",
      "[INFO] [1616518883.056384, 441.357000]: Spawn: ycb_077_rubiks_cube\n",
      "[INFO] [1616518883.058083, 441.357000]: Spawn: [-0.          0.          0.78801075 -0.61566148]\n",
      "[INFO] [1616518883.059026, 441.357000]: Waiting for service /gazebo/spawn_sdf_model\n",
      "[INFO] [1616518883.066229, 441.358000]: Calling service /gazebo/spawn_sdf_model\n",
      "[INFO] [1616518883.264958, 441.376000]: Spawn status: SpawnModel: Successfully spawned entity\n",
      "257\n",
      "[INFO] [1616518885.964213, 441.652000]: Spawn: ycb_077_rubiks_cube\n",
      "[INFO] [1616518885.972037, 441.652000]: Spawn: [-0.          0.          0.78260816 -0.62251464]\n",
      "[INFO] [1616518885.975172, 441.652000]: Waiting for service /gazebo/spawn_sdf_model\n",
      "[INFO] [1616518885.979513, 441.652000]: Calling service /gazebo/spawn_sdf_model\n",
      "[INFO] [1616518886.234387, 441.675000]: Spawn status: SpawnModel: Successfully spawned entity\n",
      "258\n",
      "[INFO] [1616518888.696705, 441.928000]: Spawn: ycb_077_rubiks_cube\n",
      "[INFO] [1616518888.698815, 441.928000]: Spawn: [-0.          0.          0.77714596 -0.62932039]\n",
      "[INFO] [1616518888.699839, 441.928000]: Waiting for service /gazebo/spawn_sdf_model\n",
      "[INFO] [1616518888.706824, 441.929000]: Calling service /gazebo/spawn_sdf_model\n",
      "[INFO] [1616518888.943979, 441.946000]: Spawn status: SpawnModel: Successfully spawned entity\n",
      "259\n",
      "[INFO] [1616518891.443132, 442.207000]: Spawn: ycb_077_rubiks_cube\n",
      "[INFO] [1616518891.445268, 442.207000]: Spawn: [-0.          0.          0.77162458 -0.63607822]\n",
      "[INFO] [1616518891.448581, 442.208000]: Waiting for service /gazebo/spawn_sdf_model\n",
      "[INFO] [1616518891.460679, 442.209000]: Calling service /gazebo/spawn_sdf_model\n"
     ]
    },
    {
     "name": "stdout",
     "output_type": "stream",
     "text": [
      "[INFO] [1616518891.693936, 442.223000]: Spawn status: SpawnModel: Successfully spawned entity\n",
      "260\n",
      "[INFO] [1616518894.439257, 442.504000]: Spawn: ycb_077_rubiks_cube\n",
      "[INFO] [1616518894.441609, 442.504000]: Spawn: [-0.          0.          0.76604444 -0.64278761]\n",
      "[INFO] [1616518894.443124, 442.504000]: Waiting for service /gazebo/spawn_sdf_model\n",
      "[INFO] [1616518894.457151, 442.506000]: Calling service /gazebo/spawn_sdf_model\n",
      "[INFO] [1616518894.633135, 442.518000]: Spawn status: SpawnModel: Successfully spawned entity\n",
      "261\n",
      "[INFO] [1616518896.961791, 442.764000]: Spawn: ycb_077_rubiks_cube\n",
      "[INFO] [1616518896.963570, 442.764000]: Spawn: [-0.          0.          0.76040597 -0.64944805]\n",
      "[INFO] [1616518896.965910, 442.764000]: Waiting for service /gazebo/spawn_sdf_model\n",
      "[INFO] [1616518896.968719, 442.765000]: Calling service /gazebo/spawn_sdf_model\n",
      "[INFO] [1616518897.181460, 442.782000]: Spawn status: SpawnModel: Successfully spawned entity\n",
      "262\n",
      "[INFO] [1616518899.656529, 443.040000]: Spawn: ycb_077_rubiks_cube\n",
      "[INFO] [1616518899.659579, 443.040000]: Spawn: [-0.          0.          0.75470958 -0.65605903]\n",
      "[INFO] [1616518899.661239, 443.040000]: Waiting for service /gazebo/spawn_sdf_model\n",
      "[INFO] [1616518899.669561, 443.040000]: Calling service /gazebo/spawn_sdf_model\n",
      "[INFO] [1616518899.915822, 443.064000]: Spawn status: SpawnModel: Successfully spawned entity\n",
      "263\n",
      "[INFO] [1616518902.625866, 443.338000]: Spawn: ycb_077_rubiks_cube\n",
      "[INFO] [1616518902.628948, 443.338000]: Spawn: [-0.          0.          0.74895572 -0.66262005]\n",
      "[INFO] [1616518902.630569, 443.338000]: Waiting for service /gazebo/spawn_sdf_model\n",
      "[INFO] [1616518902.642037, 443.339000]: Calling service /gazebo/spawn_sdf_model\n",
      "[INFO] [1616518902.849904, 443.356000]: Spawn status: SpawnModel: Successfully spawned entity\n",
      "264\n",
      "[INFO] [1616518905.136842, 443.612000]: Spawn: ycb_077_rubiks_cube\n",
      "[INFO] [1616518905.140236, 443.612000]: Spawn: [-0.          0.          0.74314483 -0.66913061]\n",
      "[INFO] [1616518905.142125, 443.612000]: Waiting for service /gazebo/spawn_sdf_model\n",
      "[INFO] [1616518905.165328, 443.612000]: Calling service /gazebo/spawn_sdf_model\n",
      "[INFO] [1616518905.341761, 443.632000]: Spawn status: SpawnModel: Successfully spawned entity\n",
      "265\n",
      "[INFO] [1616518907.783689, 443.873000]: Spawn: ycb_077_rubiks_cube\n",
      "[INFO] [1616518907.785543, 443.873000]: Spawn: [-0.          0.          0.73727734 -0.67559021]\n",
      "[INFO] [1616518907.786799, 443.873000]: Waiting for service /gazebo/spawn_sdf_model\n",
      "[INFO] [1616518907.805945, 443.876000]: Calling service /gazebo/spawn_sdf_model\n",
      "[INFO] [1616518907.909660, 443.878000]: Spawn status: SpawnModel: Successfully spawned entity\n",
      "266\n",
      "[INFO] [1616518910.430323, 444.130000]: Spawn: ycb_077_rubiks_cube\n",
      "[INFO] [1616518910.432304, 444.130000]: Spawn: [-0.          0.          0.7313537  -0.68199836]\n",
      "[INFO] [1616518910.437216, 444.131000]: Waiting for service /gazebo/spawn_sdf_model\n",
      "[INFO] [1616518910.455785, 444.133000]: Calling service /gazebo/spawn_sdf_model\n",
      "[INFO] [1616518910.621585, 444.148000]: Spawn status: SpawnModel: Successfully spawned entity\n",
      "267\n",
      "[INFO] [1616518913.319631, 444.433000]: Spawn: ycb_077_rubiks_cube\n",
      "[INFO] [1616518913.321757, 444.433000]: Spawn: [-0.          0.          0.72537437 -0.68835458]\n",
      "[INFO] [1616518913.327070, 444.434000]: Waiting for service /gazebo/spawn_sdf_model\n",
      "[INFO] [1616518913.329988, 444.434000]: Calling service /gazebo/spawn_sdf_model\n",
      "[INFO] [1616518913.561052, 444.454000]: Spawn status: SpawnModel: Successfully spawned entity\n",
      "268\n",
      "[INFO] [1616518916.042620, 444.708000]: Spawn: ycb_077_rubiks_cube\n",
      "[INFO] [1616518916.045418, 444.708000]: Spawn: [-0.          0.          0.7193398  -0.69465837]\n",
      "[INFO] [1616518916.047624, 444.708000]: Waiting for service /gazebo/spawn_sdf_model\n",
      "[INFO] [1616518916.057501, 444.708000]: Calling service /gazebo/spawn_sdf_model\n",
      "[INFO] [1616518916.311572, 444.738000]: Spawn status: SpawnModel: Successfully spawned entity\n",
      "269\n",
      "[INFO] [1616518919.180649, 445.037000]: Spawn: ycb_077_rubiks_cube\n",
      "[INFO] [1616518919.183195, 445.037000]: Spawn: [-0.          0.          0.71325045 -0.70090926]\n",
      "[INFO] [1616518919.185337, 445.037000]: Waiting for service /gazebo/spawn_sdf_model\n",
      "[INFO] [1616518919.191425, 445.038000]: Calling service /gazebo/spawn_sdf_model\n",
      "[INFO] [1616518919.289125, 445.043000]: Spawn status: SpawnModel: Successfully spawned entity\n",
      "270\n",
      "[INFO] [1616518921.797424, 445.314000]: Spawn: ycb_077_rubiks_cube\n",
      "[INFO] [1616518921.799428, 445.314000]: Spawn: [-0.          0.          0.70710678 -0.70710678]\n",
      "[INFO] [1616518921.800944, 445.314000]: Waiting for service /gazebo/spawn_sdf_model\n",
      "[INFO] [1616518921.814041, 445.315000]: Calling service /gazebo/spawn_sdf_model\n",
      "[INFO] [1616518921.985972, 445.330000]: Spawn status: SpawnModel: Successfully spawned entity\n",
      "271\n",
      "[INFO] [1616518924.324432, 445.580000]: Spawn: ycb_077_rubiks_cube\n",
      "[INFO] [1616518924.327213, 445.580000]: Spawn: [-0.          0.          0.70090926 -0.71325045]\n",
      "[INFO] [1616518924.329588, 445.580000]: Waiting for service /gazebo/spawn_sdf_model\n",
      "[INFO] [1616518924.342588, 445.580000]: Calling service /gazebo/spawn_sdf_model\n",
      "[INFO] [1616518924.547147, 445.612000]: Spawn status: SpawnModel: Successfully spawned entity\n",
      "272\n",
      "[INFO] [1616518927.077868, 445.881000]: Spawn: ycb_077_rubiks_cube\n",
      "[INFO] [1616518927.082868, 445.881000]: Spawn: [-0.          0.          0.69465837 -0.7193398 ]\n",
      "[INFO] [1616518927.084243, 445.881000]: Waiting for service /gazebo/spawn_sdf_model\n",
      "[INFO] [1616518927.102083, 445.881000]: Calling service /gazebo/spawn_sdf_model\n",
      "[INFO] [1616518927.296363, 445.903000]: Spawn status: SpawnModel: Successfully spawned entity\n",
      "273\n",
      "[INFO] [1616518929.746432, 446.156000]: Spawn: ycb_077_rubiks_cube\n",
      "[INFO] [1616518929.749370, 446.156000]: Spawn: [-0.          0.          0.68835458 -0.72537437]\n",
      "[INFO] [1616518929.750551, 446.156000]: Waiting for service /gazebo/spawn_sdf_model\n",
      "[INFO] [1616518929.758523, 446.156000]: Calling service /gazebo/spawn_sdf_model\n",
      "[INFO] [1616518929.820498, 446.158000]: Spawn status: SpawnModel: Successfully spawned entity\n",
      "274\n",
      "[INFO] [1616518932.318816, 446.405000]: Spawn: ycb_077_rubiks_cube\n",
      "[INFO] [1616518932.322062, 446.405000]: Spawn: [-0.          0.          0.68199836 -0.7313537 ]\n",
      "[INFO] [1616518932.327111, 446.405000]: Waiting for service /gazebo/spawn_sdf_model\n",
      "[INFO] [1616518932.344931, 446.407000]: Calling service /gazebo/spawn_sdf_model\n",
      "[INFO] [1616518932.548621, 446.418000]: Spawn status: SpawnModel: Successfully spawned entity\n",
      "275\n",
      "[INFO] [1616518934.895329, 446.674000]: Spawn: ycb_077_rubiks_cube\n",
      "[INFO] [1616518934.904191, 446.675000]: Spawn: [-0.          0.          0.67559021 -0.73727734]\n",
      "[INFO] [1616518934.909962, 446.676000]: Waiting for service /gazebo/spawn_sdf_model\n",
      "[INFO] [1616518934.924654, 446.677000]: Calling service /gazebo/spawn_sdf_model\n",
      "[INFO] [1616518935.082430, 446.689000]: Spawn status: SpawnModel: Successfully spawned entity\n",
      "276\n",
      "[INFO] [1616518937.325075, 446.917000]: Spawn: ycb_077_rubiks_cube\n",
      "[INFO] [1616518937.328064, 446.917000]: Spawn: [-0.          0.          0.66913061 -0.74314483]\n",
      "[INFO] [1616518937.329562, 446.917000]: Waiting for service /gazebo/spawn_sdf_model\n",
      "[INFO] [1616518937.337869, 446.918000]: Calling service /gazebo/spawn_sdf_model\n",
      "[INFO] [1616518937.396833, 446.918000]: Spawn status: SpawnModel: Successfully spawned entity\n",
      "277\n",
      "[INFO] [1616518939.669799, 447.161000]: Spawn: ycb_077_rubiks_cube\n",
      "[INFO] [1616518939.671930, 447.161000]: Spawn: [-0.          0.          0.66262005 -0.74895572]\n",
      "[INFO] [1616518939.673066, 447.161000]: Waiting for service /gazebo/spawn_sdf_model\n",
      "[INFO] [1616518939.686245, 447.163000]: Calling service /gazebo/spawn_sdf_model\n",
      "[INFO] [1616518939.938070, 447.183000]: Spawn status: SpawnModel: Successfully spawned entity\n",
      "278\n",
      "[INFO] [1616518942.264820, 447.410000]: Spawn: ycb_077_rubiks_cube\n",
      "[INFO] [1616518942.268850, 447.411000]: Spawn: [-0.          0.          0.65605903 -0.75470958]\n",
      "[INFO] [1616518942.270296, 447.411000]: Waiting for service /gazebo/spawn_sdf_model\n",
      "[INFO] [1616518942.278241, 447.412000]: Calling service /gazebo/spawn_sdf_model\n",
      "[INFO] [1616518942.499412, 447.424000]: Spawn status: SpawnModel: Successfully spawned entity\n",
      "279\n",
      "[INFO] [1616518945.198078, 447.708000]: Spawn: ycb_077_rubiks_cube\n",
      "[INFO] [1616518945.201546, 447.708000]: Spawn: [-0.          0.          0.64944805 -0.76040597]\n",
      "[INFO] [1616518945.204342, 447.708000]: Waiting for service /gazebo/spawn_sdf_model\n",
      "[INFO] [1616518945.246098, 447.709000]: Calling service /gazebo/spawn_sdf_model\n"
     ]
    },
    {
     "name": "stdout",
     "output_type": "stream",
     "text": [
      "[INFO] [1616518945.448144, 447.734000]: Spawn status: SpawnModel: Successfully spawned entity\n",
      "280\n",
      "[INFO] [1616518948.188969, 448.019000]: Spawn: ycb_077_rubiks_cube\n",
      "[INFO] [1616518948.191695, 448.019000]: Spawn: [-0.          0.          0.64278761 -0.76604444]\n",
      "[INFO] [1616518948.193469, 448.020000]: Waiting for service /gazebo/spawn_sdf_model\n",
      "[INFO] [1616518948.201015, 448.020000]: Calling service /gazebo/spawn_sdf_model\n",
      "[INFO] [1616518948.382325, 448.040000]: Spawn status: SpawnModel: Successfully spawned entity\n",
      "281\n",
      "[INFO] [1616518951.080830, 448.312000]: Spawn: ycb_077_rubiks_cube\n",
      "[INFO] [1616518951.083760, 448.312000]: Spawn: [-0.          0.          0.63607822 -0.77162458]\n",
      "[INFO] [1616518951.089841, 448.313000]: Waiting for service /gazebo/spawn_sdf_model\n",
      "[INFO] [1616518951.106486, 448.314000]: Calling service /gazebo/spawn_sdf_model\n",
      "[INFO] [1616518951.385238, 448.341000]: Spawn status: SpawnModel: Successfully spawned entity\n",
      "282\n",
      "[INFO] [1616518953.891084, 448.609000]: Spawn: ycb_077_rubiks_cube\n",
      "[INFO] [1616518953.893344, 448.609000]: Spawn: [-0.          0.          0.62932039 -0.77714596]\n",
      "[INFO] [1616518953.894538, 448.609000]: Waiting for service /gazebo/spawn_sdf_model\n",
      "[INFO] [1616518953.899026, 448.610000]: Calling service /gazebo/spawn_sdf_model\n",
      "[INFO] [1616518954.092344, 448.626000]: Spawn status: SpawnModel: Successfully spawned entity\n",
      "283\n",
      "[INFO] [1616518957.122953, 448.925000]: Spawn: ycb_077_rubiks_cube\n",
      "[INFO] [1616518957.125383, 448.926000]: Spawn: [-0.          0.          0.62251464 -0.78260816]\n",
      "[INFO] [1616518957.127371, 448.926000]: Waiting for service /gazebo/spawn_sdf_model\n",
      "[INFO] [1616518957.131471, 448.927000]: Calling service /gazebo/spawn_sdf_model\n",
      "[INFO] [1616518957.223228, 448.933000]: Spawn status: SpawnModel: Successfully spawned entity\n",
      "284\n",
      "[INFO] [1616518959.698750, 449.172000]: Spawn: ycb_077_rubiks_cube\n",
      "[INFO] [1616518959.701313, 449.172000]: Spawn: [-0.          0.          0.61566148 -0.78801075]\n",
      "[INFO] [1616518959.703048, 449.172000]: Waiting for service /gazebo/spawn_sdf_model\n",
      "[INFO] [1616518959.706003, 449.172000]: Calling service /gazebo/spawn_sdf_model\n",
      "[INFO] [1616518959.817234, 449.175000]: Spawn status: SpawnModel: Successfully spawned entity\n",
      "285\n",
      "[INFO] [1616518962.147373, 449.410000]: Spawn: ycb_077_rubiks_cube\n",
      "[INFO] [1616518962.150357, 449.410000]: Spawn: [-0.          0.          0.60876143 -0.79335334]\n",
      "[INFO] [1616518962.153952, 449.410000]: Waiting for service /gazebo/spawn_sdf_model\n",
      "[INFO] [1616518962.185997, 449.410000]: Calling service /gazebo/spawn_sdf_model\n",
      "[INFO] [1616518962.382150, 449.424000]: Spawn status: SpawnModel: Successfully spawned entity\n",
      "286\n",
      "[INFO] [1616518964.908680, 449.684000]: Spawn: ycb_077_rubiks_cube\n",
      "[INFO] [1616518964.910992, 449.684000]: Spawn: [-0.          0.          0.60181502 -0.79863551]\n",
      "[INFO] [1616518964.912180, 449.684000]: Waiting for service /gazebo/spawn_sdf_model\n",
      "[INFO] [1616518964.924433, 449.685000]: Calling service /gazebo/spawn_sdf_model\n",
      "[INFO] [1616518965.119281, 449.702000]: Spawn status: SpawnModel: Successfully spawned entity\n",
      "287\n",
      "[INFO] [1616518967.426095, 449.920000]: Spawn: ycb_077_rubiks_cube\n",
      "[INFO] [1616518967.428640, 449.920000]: Spawn: [-0.          0.          0.59482279 -0.80385686]\n",
      "[INFO] [1616518967.429953, 449.920000]: Waiting for service /gazebo/spawn_sdf_model\n",
      "[INFO] [1616518967.446974, 449.922000]: Calling service /gazebo/spawn_sdf_model\n",
      "[INFO] [1616518967.679117, 449.947000]: Spawn status: SpawnModel: Successfully spawned entity\n",
      "288\n",
      "[INFO] [1616518970.130268, 450.187000]: Spawn: ycb_077_rubiks_cube\n",
      "[INFO] [1616518970.135653, 450.188000]: Spawn: [-0.          0.          0.58778525 -0.80901699]\n",
      "[INFO] [1616518970.136988, 450.188000]: Waiting for service /gazebo/spawn_sdf_model\n",
      "[INFO] [1616518970.155189, 450.191000]: Calling service /gazebo/spawn_sdf_model\n",
      "[INFO] [1616518970.445934, 450.216000]: Spawn status: SpawnModel: Successfully spawned entity\n",
      "289\n",
      "[INFO] [1616518972.902125, 450.468000]: Spawn: ycb_077_rubiks_cube\n",
      "[INFO] [1616518972.907169, 450.469000]: Spawn: [-0.          0.          0.58070296 -0.81411552]\n",
      "[INFO] [1616518972.910980, 450.470000]: Waiting for service /gazebo/spawn_sdf_model\n",
      "[INFO] [1616518972.922985, 450.471000]: Calling service /gazebo/spawn_sdf_model\n",
      "[INFO] [1616518973.158683, 450.493000]: Spawn status: SpawnModel: Successfully spawned entity\n",
      "290\n",
      "[INFO] [1616518975.448871, 450.713000]: Spawn: ycb_077_rubiks_cube\n",
      "[INFO] [1616518975.454850, 450.713000]: Spawn: [-0.          0.          0.57357644 -0.81915204]\n",
      "[INFO] [1616518975.459107, 450.714000]: Waiting for service /gazebo/spawn_sdf_model\n",
      "[INFO] [1616518975.464139, 450.714000]: Calling service /gazebo/spawn_sdf_model\n",
      "[INFO] [1616518975.668708, 450.736000]: Spawn status: SpawnModel: Successfully spawned entity\n",
      "291\n",
      "[INFO] [1616518977.927981, 450.983000]: Spawn: ycb_077_rubiks_cube\n",
      "[INFO] [1616518977.932745, 450.984000]: Spawn: [-0.          0.          0.56640624 -0.82412619]\n",
      "[INFO] [1616518977.936864, 450.984000]: Waiting for service /gazebo/spawn_sdf_model\n",
      "[INFO] [1616518977.942101, 450.985000]: Calling service /gazebo/spawn_sdf_model\n",
      "[INFO] [1616518978.228784, 451.009000]: Spawn status: SpawnModel: Successfully spawned entity\n",
      "292\n",
      "[INFO] [1616518980.723718, 451.280000]: Spawn: ycb_077_rubiks_cube\n",
      "[INFO] [1616518980.727220, 451.280000]: Spawn: [-0.          0.          0.5591929  -0.82903757]\n",
      "[INFO] [1616518980.728707, 451.280000]: Waiting for service /gazebo/spawn_sdf_model\n",
      "[INFO] [1616518980.748469, 451.281000]: Calling service /gazebo/spawn_sdf_model\n",
      "[INFO] [1616518980.995612, 451.304000]: Spawn status: SpawnModel: Successfully spawned entity\n",
      "293\n",
      "[INFO] [1616518983.284829, 451.525000]: Spawn: ycb_077_rubiks_cube\n",
      "[INFO] [1616518983.287533, 451.526000]: Spawn: [-0.          0.          0.55193699 -0.83388582]\n",
      "[INFO] [1616518983.288554, 451.526000]: Waiting for service /gazebo/spawn_sdf_model\n",
      "[INFO] [1616518983.295206, 451.527000]: Calling service /gazebo/spawn_sdf_model\n",
      "[INFO] [1616518983.354508, 451.530000]: Spawn status: SpawnModel: Successfully spawned entity\n",
      "294\n",
      "[INFO] [1616518986.023841, 451.800000]: Spawn: ycb_077_rubiks_cube\n",
      "[INFO] [1616518986.028029, 451.800000]: Spawn: [-0.          0.          0.54463904 -0.83867057]\n",
      "[INFO] [1616518986.031993, 451.801000]: Waiting for service /gazebo/spawn_sdf_model\n",
      "[INFO] [1616518986.044212, 451.802000]: Calling service /gazebo/spawn_sdf_model\n",
      "[INFO] [1616518986.275507, 451.820000]: Spawn status: SpawnModel: Successfully spawned entity\n",
      "295\n",
      "[INFO] [1616518988.956425, 452.100000]: Spawn: ycb_077_rubiks_cube\n",
      "[INFO] [1616518988.959719, 452.100000]: Spawn: [-0.          0.          0.53729961 -0.84339145]\n",
      "[INFO] [1616518988.963710, 452.101000]: Waiting for service /gazebo/spawn_sdf_model\n",
      "[INFO] [1616518988.968101, 452.101000]: Calling service /gazebo/spawn_sdf_model\n",
      "[INFO] [1616518989.183820, 452.121000]: Spawn status: SpawnModel: Successfully spawned entity\n",
      "296\n",
      "[INFO] [1616518991.506648, 452.362000]: Spawn: ycb_077_rubiks_cube\n",
      "[INFO] [1616518991.510473, 452.363000]: Spawn: [-0.          0.          0.52991926 -0.8480481 ]\n",
      "[INFO] [1616518991.513060, 452.363000]: Waiting for service /gazebo/spawn_sdf_model\n",
      "[INFO] [1616518991.523555, 452.364000]: Calling service /gazebo/spawn_sdf_model\n",
      "[INFO] [1616518991.721037, 452.378000]: Spawn status: SpawnModel: Successfully spawned entity\n",
      "297\n",
      "[INFO] [1616518994.514722, 452.663000]: Spawn: ycb_077_rubiks_cube\n",
      "[INFO] [1616518994.518483, 452.664000]: Spawn: [-0.          0.          0.52249856 -0.85264016]\n",
      "[INFO] [1616518994.520621, 452.664000]: Waiting for service /gazebo/spawn_sdf_model\n",
      "[INFO] [1616518994.532199, 452.666000]: Calling service /gazebo/spawn_sdf_model\n",
      "[INFO] [1616518994.711306, 452.675000]: Spawn status: SpawnModel: Successfully spawned entity\n",
      "298\n",
      "[INFO] [1616518997.895771, 452.991000]: Spawn: ycb_077_rubiks_cube\n",
      "[INFO] [1616518997.898121, 452.992000]: Spawn: [-0.          0.          0.51503807 -0.8571673 ]\n",
      "[INFO] [1616518997.901437, 452.993000]: Waiting for service /gazebo/spawn_sdf_model\n",
      "[INFO] [1616518997.904935, 452.993000]: Calling service /gazebo/spawn_sdf_model\n",
      "[INFO] [1616518998.080820, 453.008000]: Spawn status: SpawnModel: Successfully spawned entity\n",
      "299\n",
      "[INFO] [1616519000.721929, 453.276000]: Spawn: ycb_077_rubiks_cube\n",
      "[INFO] [1616519000.728544, 453.277000]: Spawn: [-0.          0.          0.50753836 -0.86162916]\n",
      "[INFO] [1616519000.730450, 453.277000]: Waiting for service /gazebo/spawn_sdf_model\n",
      "[INFO] [1616519000.743671, 453.278000]: Calling service /gazebo/spawn_sdf_model\n"
     ]
    },
    {
     "name": "stdout",
     "output_type": "stream",
     "text": [
      "[INFO] [1616519001.032117, 453.302000]: Spawn status: SpawnModel: Successfully spawned entity\n",
      "300\n",
      "[INFO] [1616519003.512686, 453.543000]: Spawn: ycb_077_rubiks_cube\n",
      "[INFO] [1616519003.515679, 453.543000]: Spawn: [-0.         0.         0.5       -0.8660254]\n",
      "[INFO] [1616519003.519066, 453.543000]: Waiting for service /gazebo/spawn_sdf_model\n",
      "[INFO] [1616519003.546237, 453.544000]: Calling service /gazebo/spawn_sdf_model\n",
      "[INFO] [1616519003.768288, 453.568000]: Spawn status: SpawnModel: Successfully spawned entity\n",
      "301\n",
      "[INFO] [1616519006.440561, 453.831000]: Spawn: ycb_077_rubiks_cube\n",
      "[INFO] [1616519006.442653, 453.831000]: Spawn: [-0.          0.          0.49242356 -0.8703557 ]\n",
      "[INFO] [1616519006.444551, 453.831000]: Waiting for service /gazebo/spawn_sdf_model\n",
      "[INFO] [1616519006.447951, 453.832000]: Calling service /gazebo/spawn_sdf_model\n",
      "[INFO] [1616519006.488817, 453.832000]: Spawn status: SpawnModel: Successfully spawned entity\n",
      "302\n",
      "[INFO] [1616519009.264626, 454.087000]: Spawn: ycb_077_rubiks_cube\n",
      "[INFO] [1616519009.267905, 454.087000]: Spawn: [-0.          0.          0.48480962 -0.87461971]\n",
      "[INFO] [1616519009.271163, 454.088000]: Waiting for service /gazebo/spawn_sdf_model\n",
      "[INFO] [1616519009.275474, 454.088000]: Calling service /gazebo/spawn_sdf_model\n",
      "[INFO] [1616519009.484912, 454.105000]: Spawn status: SpawnModel: Successfully spawned entity\n",
      "303\n",
      "[INFO] [1616519012.038274, 454.352000]: Spawn: ycb_077_rubiks_cube\n",
      "[INFO] [1616519012.040549, 454.353000]: Spawn: [-0.          0.          0.47715876 -0.87881711]\n",
      "[INFO] [1616519012.042349, 454.353000]: Waiting for service /gazebo/spawn_sdf_model\n",
      "[INFO] [1616519012.053955, 454.354000]: Calling service /gazebo/spawn_sdf_model\n",
      "[INFO] [1616519012.269582, 454.373000]: Spawn status: SpawnModel: Successfully spawned entity\n",
      "304\n",
      "[INFO] [1616519014.751076, 454.607000]: Spawn: ycb_077_rubiks_cube\n",
      "[INFO] [1616519014.754563, 454.607000]: Spawn: [-0.          0.          0.46947156 -0.88294759]\n",
      "[INFO] [1616519014.756285, 454.608000]: Waiting for service /gazebo/spawn_sdf_model\n",
      "[INFO] [1616519014.759263, 454.608000]: Calling service /gazebo/spawn_sdf_model\n",
      "[INFO] [1616519014.988761, 454.629000]: Spawn status: SpawnModel: Successfully spawned entity\n",
      "305\n",
      "[INFO] [1616519017.690331, 454.905000]: Spawn: ycb_077_rubiks_cube\n",
      "[INFO] [1616519017.693805, 454.905000]: Spawn: [-0.          0.          0.46174861 -0.88701083]\n",
      "[INFO] [1616519017.696568, 454.905000]: Waiting for service /gazebo/spawn_sdf_model\n",
      "[INFO] [1616519017.708025, 454.907000]: Calling service /gazebo/spawn_sdf_model\n",
      "[INFO] [1616519017.950138, 454.928000]: Spawn status: SpawnModel: Successfully spawned entity\n",
      "306\n",
      "[INFO] [1616519020.211608, 455.169000]: Spawn: ycb_077_rubiks_cube\n",
      "[INFO] [1616519020.213572, 455.169000]: Spawn: [-0.          0.          0.4539905  -0.89100652]\n",
      "[INFO] [1616519020.214960, 455.169000]: Waiting for service /gazebo/spawn_sdf_model\n",
      "[INFO] [1616519020.230027, 455.171000]: Calling service /gazebo/spawn_sdf_model\n",
      "[INFO] [1616519020.459689, 455.188000]: Spawn status: SpawnModel: Successfully spawned entity\n",
      "307\n",
      "[INFO] [1616519022.818006, 455.423000]: Spawn: ycb_077_rubiks_cube\n",
      "[INFO] [1616519022.820504, 455.423000]: Spawn: [-0.          0.          0.44619781 -0.89493436]\n",
      "[INFO] [1616519022.821871, 455.423000]: Waiting for service /gazebo/spawn_sdf_model\n",
      "[INFO] [1616519022.829798, 455.423000]: Calling service /gazebo/spawn_sdf_model\n",
      "[INFO] [1616519023.013098, 455.442000]: Spawn status: SpawnModel: Successfully spawned entity\n",
      "308\n",
      "[INFO] [1616519025.458813, 455.680000]: Spawn: ycb_077_rubiks_cube\n",
      "[INFO] [1616519025.461178, 455.680000]: Spawn: [-0.          0.          0.43837115 -0.89879405]\n",
      "[INFO] [1616519025.462296, 455.680000]: Waiting for service /gazebo/spawn_sdf_model\n",
      "[INFO] [1616519025.476647, 455.680000]: Calling service /gazebo/spawn_sdf_model\n",
      "[INFO] [1616519025.774731, 455.711000]: Spawn status: SpawnModel: Successfully spawned entity\n",
      "309\n",
      "[INFO] [1616519028.222848, 455.968000]: Spawn: ycb_077_rubiks_cube\n",
      "[INFO] [1616519028.225686, 455.969000]: Spawn: [-0.          0.          0.4305111  -0.90258528]\n",
      "[INFO] [1616519028.227005, 455.969000]: Waiting for service /gazebo/spawn_sdf_model\n",
      "[INFO] [1616519028.230170, 455.969000]: Calling service /gazebo/spawn_sdf_model\n",
      "[INFO] [1616519028.271352, 455.970000]: Spawn status: SpawnModel: Successfully spawned entity\n",
      "310\n",
      "[INFO] [1616519030.563060, 456.193000]: Spawn: ycb_077_rubiks_cube\n",
      "[INFO] [1616519030.567600, 456.194000]: Spawn: [-0.          0.          0.42261826 -0.90630779]\n",
      "[INFO] [1616519030.569382, 456.194000]: Waiting for service /gazebo/spawn_sdf_model\n",
      "[INFO] [1616519030.583419, 456.195000]: Calling service /gazebo/spawn_sdf_model\n",
      "[INFO] [1616519030.847074, 456.220000]: Spawn status: SpawnModel: Successfully spawned entity\n",
      "311\n",
      "[INFO] [1616519033.490233, 456.492000]: Spawn: ycb_077_rubiks_cube\n",
      "[INFO] [1616519033.492141, 456.492000]: Spawn: [-0.          0.          0.41469324 -0.90996127]\n",
      "[INFO] [1616519033.497405, 456.492000]: Waiting for service /gazebo/spawn_sdf_model\n",
      "[INFO] [1616519033.501478, 456.493000]: Calling service /gazebo/spawn_sdf_model\n",
      "[INFO] [1616519033.541685, 456.495000]: Spawn status: SpawnModel: Successfully spawned entity\n",
      "312\n",
      "[INFO] [1616519035.996640, 456.734000]: Spawn: ycb_077_rubiks_cube\n",
      "[INFO] [1616519035.999188, 456.734000]: Spawn: [-0.          0.          0.40673664 -0.91354546]\n",
      "[INFO] [1616519036.002352, 456.735000]: Waiting for service /gazebo/spawn_sdf_model\n",
      "[INFO] [1616519036.010302, 456.735000]: Calling service /gazebo/spawn_sdf_model\n",
      "[INFO] [1616519036.067068, 456.738000]: Spawn status: SpawnModel: Successfully spawned entity\n",
      "313\n",
      "[INFO] [1616519038.619642, 456.984000]: Spawn: ycb_077_rubiks_cube\n",
      "[INFO] [1616519038.622211, 456.984000]: Spawn: [-0.          0.          0.39874907 -0.91706007]\n",
      "[INFO] [1616519038.628148, 456.985000]: Waiting for service /gazebo/spawn_sdf_model\n",
      "[INFO] [1616519038.638404, 456.986000]: Calling service /gazebo/spawn_sdf_model\n",
      "[INFO] [1616519038.794082, 457.006000]: Spawn status: SpawnModel: Successfully spawned entity\n",
      "314\n",
      "[INFO] [1616519041.478601, 457.284000]: Spawn: ycb_077_rubiks_cube\n",
      "[INFO] [1616519041.484803, 457.284000]: Spawn: [-0.          0.          0.39073113 -0.92050485]\n",
      "[INFO] [1616519041.487098, 457.285000]: Waiting for service /gazebo/spawn_sdf_model\n",
      "[INFO] [1616519041.502901, 457.285000]: Calling service /gazebo/spawn_sdf_model\n",
      "[INFO] [1616519041.751317, 457.304000]: Spawn status: SpawnModel: Successfully spawned entity\n",
      "315\n",
      "[INFO] [1616519045.079960, 457.569000]: Spawn: ycb_077_rubiks_cube\n",
      "[INFO] [1616519045.082796, 457.569000]: Spawn: [-0.          0.          0.38268343 -0.92387953]\n",
      "[INFO] [1616519045.083965, 457.569000]: Waiting for service /gazebo/spawn_sdf_model\n",
      "[INFO] [1616519045.088822, 457.570000]: Calling service /gazebo/spawn_sdf_model\n",
      "[INFO] [1616519045.308235, 457.586000]: Spawn status: SpawnModel: Successfully spawned entity\n",
      "316\n",
      "[INFO] [1616519048.164530, 457.784000]: Spawn: ycb_077_rubiks_cube\n",
      "[INFO] [1616519048.166616, 457.784000]: Spawn: [-0.          0.          0.37460659 -0.92718385]\n",
      "[INFO] [1616519048.167773, 457.784000]: Waiting for service /gazebo/spawn_sdf_model\n",
      "[INFO] [1616519048.179354, 457.785000]: Calling service /gazebo/spawn_sdf_model\n",
      "[INFO] [1616519048.300803, 457.792000]: Spawn status: SpawnModel: Successfully spawned entity\n",
      "317\n",
      "[INFO] [1616519052.095400, 458.045000]: Spawn: ycb_077_rubiks_cube\n",
      "[INFO] [1616519052.098914, 458.045000]: Spawn: [-0.          0.          0.36650123 -0.93041757]\n",
      "[INFO] [1616519052.100806, 458.045000]: Waiting for service /gazebo/spawn_sdf_model\n",
      "[INFO] [1616519052.105176, 458.047000]: Calling service /gazebo/spawn_sdf_model\n",
      "[INFO] [1616519052.412950, 458.073000]: Spawn status: SpawnModel: Successfully spawned entity\n",
      "318\n",
      "[INFO] [1616519054.881685, 458.300000]: Spawn: ycb_077_rubiks_cube\n",
      "[INFO] [1616519054.887097, 458.301000]: Spawn: [-0.          0.          0.35836795 -0.93358043]\n",
      "[INFO] [1616519054.888537, 458.301000]: Waiting for service /gazebo/spawn_sdf_model\n",
      "[INFO] [1616519054.899954, 458.302000]: Calling service /gazebo/spawn_sdf_model\n",
      "[INFO] [1616519055.127581, 458.323000]: Spawn status: SpawnModel: Successfully spawned entity\n",
      "319\n",
      "[INFO] [1616519058.302389, 458.634000]: Spawn: ycb_077_rubiks_cube\n",
      "[INFO] [1616519058.304513, 458.634000]: Spawn: [-0.          0.          0.35020738 -0.93667219]\n",
      "[INFO] [1616519058.307168, 458.635000]: Waiting for service /gazebo/spawn_sdf_model\n",
      "[INFO] [1616519058.313080, 458.635000]: Calling service /gazebo/spawn_sdf_model\n"
     ]
    },
    {
     "name": "stdout",
     "output_type": "stream",
     "text": [
      "[INFO] [1616519058.602114, 458.651000]: Spawn status: SpawnModel: Successfully spawned entity\n",
      "320\n",
      "[INFO] [1616519061.492822, 458.919000]: Spawn: ycb_077_rubiks_cube\n",
      "[INFO] [1616519061.495763, 458.920000]: Spawn: [-0.          0.          0.34202014 -0.93969262]\n",
      "[INFO] [1616519061.496845, 458.920000]: Waiting for service /gazebo/spawn_sdf_model\n",
      "[INFO] [1616519061.499306, 458.920000]: Calling service /gazebo/spawn_sdf_model\n",
      "[INFO] [1616519061.788357, 458.944000]: Spawn status: SpawnModel: Successfully spawned entity\n",
      "321\n",
      "[INFO] [1616519064.475813, 459.184000]: Spawn: ycb_077_rubiks_cube\n",
      "[INFO] [1616519064.481134, 459.184000]: Spawn: [-0.          0.          0.33380686 -0.94264149]\n",
      "[INFO] [1616519064.494852, 459.185000]: Waiting for service /gazebo/spawn_sdf_model\n",
      "[INFO] [1616519064.513022, 459.189000]: Calling service /gazebo/spawn_sdf_model\n",
      "[INFO] [1616519064.761567, 459.210000]: Spawn status: SpawnModel: Successfully spawned entity\n",
      "322\n",
      "[INFO] [1616519068.128417, 459.510000]: Spawn: ycb_077_rubiks_cube\n",
      "[INFO] [1616519068.132550, 459.510000]: Spawn: [-0.          0.          0.32556815 -0.94551858]\n",
      "[INFO] [1616519068.135677, 459.510000]: Waiting for service /gazebo/spawn_sdf_model\n",
      "[INFO] [1616519068.159252, 459.512000]: Calling service /gazebo/spawn_sdf_model\n",
      "[INFO] [1616519068.351161, 459.518000]: Spawn status: SpawnModel: Successfully spawned entity\n",
      "323\n",
      "[INFO] [1616519071.594475, 459.807000]: Spawn: ycb_077_rubiks_cube\n",
      "[INFO] [1616519071.599036, 459.808000]: Spawn: [-0.          0.          0.31730466 -0.94832366]\n",
      "[INFO] [1616519071.600412, 459.808000]: Waiting for service /gazebo/spawn_sdf_model\n",
      "[INFO] [1616519071.608935, 459.809000]: Calling service /gazebo/spawn_sdf_model\n",
      "[INFO] [1616519071.779505, 459.821000]: Spawn status: SpawnModel: Successfully spawned entity\n",
      "324\n",
      "[INFO] [1616519074.981653, 460.095000]: Spawn: ycb_077_rubiks_cube\n",
      "[INFO] [1616519074.991361, 460.095000]: Spawn: [-0.          0.          0.30901699 -0.95105652]\n",
      "[INFO] [1616519074.996443, 460.095000]: Waiting for service /gazebo/spawn_sdf_model\n",
      "[INFO] [1616519075.013922, 460.095000]: Calling service /gazebo/spawn_sdf_model\n",
      "[INFO] [1616519075.144461, 460.106000]: Spawn status: SpawnModel: Successfully spawned entity\n",
      "325\n",
      "[INFO] [1616519078.030782, 460.351000]: Spawn: ycb_077_rubiks_cube\n",
      "[INFO] [1616519078.033236, 460.351000]: Spawn: [-0.          0.          0.3007058  -0.95371695]\n",
      "[INFO] [1616519078.038904, 460.351000]: Waiting for service /gazebo/spawn_sdf_model\n",
      "[INFO] [1616519078.060791, 460.351000]: Calling service /gazebo/spawn_sdf_model\n",
      "[INFO] [1616519078.305499, 460.368000]: Spawn status: SpawnModel: Successfully spawned entity\n",
      "326\n",
      "[INFO] [1616519081.491364, 460.672000]: Spawn: ycb_077_rubiks_cube\n",
      "[INFO] [1616519081.493586, 460.672000]: Spawn: [-0.          0.          0.2923717  -0.95630476]\n",
      "[INFO] [1616519081.497412, 460.673000]: Waiting for service /gazebo/spawn_sdf_model\n",
      "[INFO] [1616519081.506964, 460.673000]: Calling service /gazebo/spawn_sdf_model\n",
      "[INFO] [1616519081.723865, 460.679000]: Spawn status: SpawnModel: Successfully spawned entity\n",
      "327\n",
      "[INFO] [1616519084.657757, 460.921000]: Spawn: ycb_077_rubiks_cube\n",
      "[INFO] [1616519084.659775, 460.921000]: Spawn: [-0.          0.          0.28401534 -0.95881973]\n",
      "[INFO] [1616519084.660864, 460.921000]: Waiting for service /gazebo/spawn_sdf_model\n",
      "[INFO] [1616519084.684737, 460.923000]: Calling service /gazebo/spawn_sdf_model\n",
      "[INFO] [1616519084.895640, 460.938000]: Spawn status: SpawnModel: Successfully spawned entity\n",
      "328\n",
      "[INFO] [1616519087.622505, 461.171000]: Spawn: ycb_077_rubiks_cube\n",
      "[INFO] [1616519087.625922, 461.171000]: Spawn: [-0.          0.          0.27563736 -0.9612617 ]\n",
      "[INFO] [1616519087.627081, 461.172000]: Waiting for service /gazebo/spawn_sdf_model\n",
      "[INFO] [1616519087.643788, 461.174000]: Calling service /gazebo/spawn_sdf_model\n",
      "[INFO] [1616519087.864680, 461.185000]: Spawn status: SpawnModel: Successfully spawned entity\n",
      "329\n",
      "[INFO] [1616519090.606800, 461.436000]: Spawn: ycb_077_rubiks_cube\n",
      "[INFO] [1616519090.608780, 461.436000]: Spawn: [-0.          0.          0.26723838 -0.96363045]\n",
      "[INFO] [1616519090.610349, 461.436000]: Waiting for service /gazebo/spawn_sdf_model\n",
      "[INFO] [1616519090.618908, 461.436000]: Calling service /gazebo/spawn_sdf_model\n",
      "[INFO] [1616519090.876553, 461.450000]: Spawn status: SpawnModel: Successfully spawned entity\n",
      "330\n",
      "[INFO] [1616519094.018008, 461.687000]: Spawn: ycb_077_rubiks_cube\n",
      "[INFO] [1616519094.020149, 461.687000]: Spawn: [-0.          0.          0.25881905 -0.96592583]\n",
      "[INFO] [1616519094.021691, 461.687000]: Waiting for service /gazebo/spawn_sdf_model\n",
      "[INFO] [1616519094.035753, 461.688000]: Calling service /gazebo/spawn_sdf_model\n",
      "[INFO] [1616519094.257735, 461.704000]: Spawn status: SpawnModel: Successfully spawned entity\n",
      "331\n",
      "[INFO] [1616519096.843341, 461.924000]: Spawn: ycb_077_rubiks_cube\n",
      "[INFO] [1616519096.845915, 461.926000]: Spawn: [-0.          0.          0.25038    -0.96814764]\n",
      "[INFO] [1616519096.847870, 461.926000]: Waiting for service /gazebo/spawn_sdf_model\n",
      "[INFO] [1616519096.861376, 461.928000]: Calling service /gazebo/spawn_sdf_model\n",
      "[INFO] [1616519096.985863, 461.939000]: Spawn status: SpawnModel: Successfully spawned entity\n",
      "332\n",
      "[INFO] [1616519099.857344, 462.214000]: Spawn: ycb_077_rubiks_cube\n",
      "[INFO] [1616519099.864262, 462.215000]: Spawn: [-0.          0.          0.2419219  -0.97029573]\n",
      "[INFO] [1616519099.870812, 462.216000]: Waiting for service /gazebo/spawn_sdf_model\n",
      "[INFO] [1616519099.888377, 462.218000]: Calling service /gazebo/spawn_sdf_model\n",
      "[INFO] [1616519100.113156, 462.239000]: Spawn status: SpawnModel: Successfully spawned entity\n",
      "333\n",
      "[INFO] [1616519102.822373, 462.491000]: Spawn: ycb_077_rubiks_cube\n",
      "[INFO] [1616519102.831020, 462.492000]: Spawn: [-0.          0.          0.23344536 -0.97236992]\n",
      "[INFO] [1616519102.834593, 462.492000]: Waiting for service /gazebo/spawn_sdf_model\n",
      "[INFO] [1616519102.846202, 462.494000]: Calling service /gazebo/spawn_sdf_model\n",
      "[INFO] [1616519103.082097, 462.516000]: Spawn status: SpawnModel: Successfully spawned entity\n",
      "334\n",
      "[INFO] [1616519105.579243, 462.787000]: Spawn: ycb_077_rubiks_cube\n",
      "[INFO] [1616519105.582159, 462.787000]: Spawn: [-0.          0.          0.22495105 -0.97437006]\n",
      "[INFO] [1616519105.583479, 462.787000]: Waiting for service /gazebo/spawn_sdf_model\n",
      "[INFO] [1616519105.599027, 462.790000]: Calling service /gazebo/spawn_sdf_model\n",
      "[INFO] [1616519105.838072, 462.814000]: Spawn status: SpawnModel: Successfully spawned entity\n",
      "335\n",
      "[INFO] [1616519108.306412, 463.046000]: Spawn: ycb_077_rubiks_cube\n",
      "[INFO] [1616519108.308478, 463.046000]: Spawn: [-0.          0.          0.21643961 -0.97629601]\n",
      "[INFO] [1616519108.310098, 463.046000]: Waiting for service /gazebo/spawn_sdf_model\n",
      "[INFO] [1616519108.320320, 463.047000]: Calling service /gazebo/spawn_sdf_model\n",
      "[INFO] [1616519108.435048, 463.049000]: Spawn status: SpawnModel: Successfully spawned entity\n",
      "336\n",
      "[INFO] [1616519110.989586, 463.308000]: Spawn: ycb_077_rubiks_cube\n",
      "[INFO] [1616519110.991741, 463.308000]: Spawn: [-0.          0.          0.20791169 -0.9781476 ]\n",
      "[INFO] [1616519110.994444, 463.309000]: Waiting for service /gazebo/spawn_sdf_model\n",
      "[INFO] [1616519111.005386, 463.310000]: Calling service /gazebo/spawn_sdf_model\n",
      "[INFO] [1616519111.152290, 463.319000]: Spawn status: SpawnModel: Successfully spawned entity\n",
      "337\n",
      "[INFO] [1616519113.890367, 463.608000]: Spawn: ycb_077_rubiks_cube\n",
      "[INFO] [1616519113.892315, 463.608000]: Spawn: [-0.          0.          0.19936793 -0.9799247 ]\n",
      "[INFO] [1616519113.893547, 463.608000]: Waiting for service /gazebo/spawn_sdf_model\n",
      "[INFO] [1616519113.897409, 463.608000]: Calling service /gazebo/spawn_sdf_model\n",
      "[INFO] [1616519114.084369, 463.626000]: Spawn status: SpawnModel: Successfully spawned entity\n",
      "338\n",
      "[INFO] [1616519116.850683, 463.903000]: Spawn: ycb_077_rubiks_cube\n",
      "[INFO] [1616519116.859457, 463.904000]: Spawn: [-0.          0.          0.190809   -0.98162718]\n",
      "[INFO] [1616519116.861440, 463.904000]: Waiting for service /gazebo/spawn_sdf_model\n",
      "[INFO] [1616519116.884457, 463.905000]: Calling service /gazebo/spawn_sdf_model\n",
      "[INFO] [1616519117.073583, 463.911000]: Spawn status: SpawnModel: Successfully spawned entity\n",
      "339\n",
      "[INFO] [1616519119.369990, 464.143000]: Spawn: ycb_077_rubiks_cube\n",
      "[INFO] [1616519119.372795, 464.143000]: Spawn: [-0.          0.          0.18223553 -0.98325491]\n",
      "[INFO] [1616519119.374305, 464.143000]: Waiting for service /gazebo/spawn_sdf_model\n",
      "[INFO] [1616519119.376982, 464.143000]: Calling service /gazebo/spawn_sdf_model\n"
     ]
    },
    {
     "name": "stdout",
     "output_type": "stream",
     "text": [
      "[INFO] [1616519119.634906, 464.162000]: Spawn status: SpawnModel: Successfully spawned entity\n",
      "340\n",
      "[INFO] [1616519122.125850, 464.436000]: Spawn: ycb_077_rubiks_cube\n",
      "[INFO] [1616519122.128854, 464.436000]: Spawn: [-0.          0.          0.17364818 -0.98480775]\n",
      "[INFO] [1616519122.132301, 464.436000]: Waiting for service /gazebo/spawn_sdf_model\n",
      "[INFO] [1616519122.143222, 464.438000]: Calling service /gazebo/spawn_sdf_model\n",
      "[INFO] [1616519122.350502, 464.450000]: Spawn status: SpawnModel: Successfully spawned entity\n",
      "341\n",
      "[INFO] [1616519125.284767, 464.759000]: Spawn: ycb_077_rubiks_cube\n",
      "[INFO] [1616519125.287001, 464.759000]: Spawn: [-0.          0.          0.16504761 -0.9862856 ]\n",
      "[INFO] [1616519125.288407, 464.759000]: Waiting for service /gazebo/spawn_sdf_model\n",
      "[INFO] [1616519125.295193, 464.760000]: Calling service /gazebo/spawn_sdf_model\n",
      "[INFO] [1616519125.557758, 464.788000]: Spawn status: SpawnModel: Successfully spawned entity\n",
      "342\n",
      "[INFO] [1616519128.503382, 465.090000]: Spawn: ycb_077_rubiks_cube\n",
      "[INFO] [1616519128.507257, 465.090000]: Spawn: [-0.          0.          0.15643447 -0.98768834]\n",
      "[INFO] [1616519128.510450, 465.091000]: Waiting for service /gazebo/spawn_sdf_model\n",
      "[INFO] [1616519128.521524, 465.092000]: Calling service /gazebo/spawn_sdf_model\n",
      "[INFO] [1616519128.690061, 465.106000]: Spawn status: SpawnModel: Successfully spawned entity\n",
      "343\n",
      "[INFO] [1616519131.211859, 465.344000]: Spawn: ycb_077_rubiks_cube\n",
      "[INFO] [1616519131.215149, 465.344000]: Spawn: [-0.          0.          0.14780941 -0.98901586]\n",
      "[INFO] [1616519131.217339, 465.348000]: Waiting for service /gazebo/spawn_sdf_model\n",
      "[INFO] [1616519131.229557, 465.351000]: Calling service /gazebo/spawn_sdf_model\n",
      "[INFO] [1616519131.424810, 465.372000]: Spawn status: SpawnModel: Successfully spawned entity\n",
      "344\n",
      "[INFO] [1616519133.869217, 465.603000]: Spawn: ycb_077_rubiks_cube\n",
      "[INFO] [1616519133.872414, 465.603000]: Spawn: [-0.          0.          0.1391731  -0.99026807]\n",
      "[INFO] [1616519133.873895, 465.603000]: Waiting for service /gazebo/spawn_sdf_model\n",
      "[INFO] [1616519133.888383, 465.604000]: Calling service /gazebo/spawn_sdf_model\n",
      "[INFO] [1616519134.131173, 465.623000]: Spawn status: SpawnModel: Successfully spawned entity\n",
      "345\n",
      "[INFO] [1616519136.401395, 465.845000]: Spawn: ycb_077_rubiks_cube\n",
      "[INFO] [1616519136.404749, 465.845000]: Spawn: [-0.          0.          0.13052619 -0.99144486]\n",
      "[INFO] [1616519136.407003, 465.845000]: Waiting for service /gazebo/spawn_sdf_model\n",
      "[INFO] [1616519136.410127, 465.846000]: Calling service /gazebo/spawn_sdf_model\n",
      "[INFO] [1616519136.655437, 465.868000]: Spawn status: SpawnModel: Successfully spawned entity\n",
      "346\n",
      "[INFO] [1616519139.379294, 466.124000]: Spawn: ycb_077_rubiks_cube\n",
      "[INFO] [1616519139.384454, 466.125000]: Spawn: [-0.          0.          0.12186934 -0.99254615]\n",
      "[INFO] [1616519139.385537, 466.125000]: Waiting for service /gazebo/spawn_sdf_model\n",
      "[INFO] [1616519139.390134, 466.125000]: Calling service /gazebo/spawn_sdf_model\n",
      "[INFO] [1616519139.619568, 466.150000]: Spawn status: SpawnModel: Successfully spawned entity\n",
      "347\n",
      "[INFO] [1616519142.189058, 466.429000]: Spawn: ycb_077_rubiks_cube\n",
      "[INFO] [1616519142.193562, 466.429000]: Spawn: [-0.          0.          0.11320321 -0.99357186]\n",
      "[INFO] [1616519142.195140, 466.430000]: Waiting for service /gazebo/spawn_sdf_model\n",
      "[INFO] [1616519142.204992, 466.430000]: Calling service /gazebo/spawn_sdf_model\n",
      "[INFO] [1616519142.333854, 466.439000]: Spawn status: SpawnModel: Successfully spawned entity\n",
      "348\n",
      "[INFO] [1616519145.009407, 466.701000]: Spawn: ycb_077_rubiks_cube\n",
      "[INFO] [1616519145.012792, 466.702000]: Spawn: [-0.          0.          0.10452846 -0.9945219 ]\n",
      "[INFO] [1616519145.013952, 466.702000]: Waiting for service /gazebo/spawn_sdf_model\n",
      "[INFO] [1616519145.028784, 466.704000]: Calling service /gazebo/spawn_sdf_model\n",
      "[INFO] [1616519145.239570, 466.723000]: Spawn status: SpawnModel: Successfully spawned entity\n",
      "349\n",
      "[INFO] [1616519147.684747, 466.976000]: Spawn: ycb_077_rubiks_cube\n",
      "[INFO] [1616519147.687171, 466.976000]: Spawn: [-0.          0.          0.09584575 -0.9953962 ]\n",
      "[INFO] [1616519147.690339, 466.977000]: Waiting for service /gazebo/spawn_sdf_model\n",
      "[INFO] [1616519147.696366, 466.977000]: Calling service /gazebo/spawn_sdf_model\n",
      "[INFO] [1616519147.949656, 466.998000]: Spawn status: SpawnModel: Successfully spawned entity\n",
      "350\n",
      "[INFO] [1616519150.647788, 467.263000]: Spawn: ycb_077_rubiks_cube\n",
      "[INFO] [1616519150.650812, 467.263000]: Spawn: [-0.          0.          0.08715574 -0.9961947 ]\n",
      "[INFO] [1616519150.652489, 467.263000]: Waiting for service /gazebo/spawn_sdf_model\n",
      "[INFO] [1616519150.663286, 467.264000]: Calling service /gazebo/spawn_sdf_model\n",
      "[INFO] [1616519150.918728, 467.284000]: Spawn status: SpawnModel: Successfully spawned entity\n",
      "351\n",
      "[INFO] [1616519153.454618, 467.526000]: Spawn: ycb_077_rubiks_cube\n",
      "[INFO] [1616519153.456829, 467.526000]: Spawn: [-0.          0.          0.0784591  -0.99691733]\n",
      "[INFO] [1616519153.458141, 467.526000]: Waiting for service /gazebo/spawn_sdf_model\n",
      "[INFO] [1616519153.462955, 467.527000]: Calling service /gazebo/spawn_sdf_model\n",
      "[INFO] [1616519153.727324, 467.547000]: Spawn status: SpawnModel: Successfully spawned entity\n",
      "352\n",
      "[INFO] [1616519156.935606, 467.820000]: Spawn: ycb_077_rubiks_cube\n",
      "[INFO] [1616519156.937703, 467.820000]: Spawn: [-0.          0.          0.06975647 -0.99756405]\n",
      "[INFO] [1616519156.941299, 467.820000]: Waiting for service /gazebo/spawn_sdf_model\n",
      "[INFO] [1616519156.954581, 467.822000]: Calling service /gazebo/spawn_sdf_model\n",
      "[INFO] [1616519157.124519, 467.835000]: Spawn status: SpawnModel: Successfully spawned entity\n",
      "353\n",
      "[INFO] [1616519159.819099, 468.080000]: Spawn: ycb_077_rubiks_cube\n",
      "[INFO] [1616519159.821108, 468.080000]: Spawn: [-0.          0.          0.06104854 -0.9981348 ]\n",
      "[INFO] [1616519159.826534, 468.081000]: Waiting for service /gazebo/spawn_sdf_model\n",
      "[INFO] [1616519159.829670, 468.081000]: Calling service /gazebo/spawn_sdf_model\n",
      "[INFO] [1616519160.097646, 468.102000]: Spawn status: SpawnModel: Successfully spawned entity\n",
      "354\n",
      "[INFO] [1616519163.180746, 468.407000]: Spawn: ycb_077_rubiks_cube\n",
      "[INFO] [1616519163.185907, 468.407000]: Spawn: [-0.          0.          0.05233596 -0.99862953]\n",
      "[INFO] [1616519163.187960, 468.407000]: Waiting for service /gazebo/spawn_sdf_model\n",
      "[INFO] [1616519163.209511, 468.408000]: Calling service /gazebo/spawn_sdf_model\n",
      "[INFO] [1616519163.295583, 468.408000]: Spawn status: SpawnModel: Successfully spawned entity\n",
      "355\n",
      "[INFO] [1616519165.919732, 468.664000]: Spawn: ycb_077_rubiks_cube\n",
      "[INFO] [1616519165.924204, 468.664000]: Spawn: [-0.          0.          0.04361939 -0.99904822]\n",
      "[INFO] [1616519165.928588, 468.664000]: Waiting for service /gazebo/spawn_sdf_model\n",
      "[INFO] [1616519165.937298, 468.665000]: Calling service /gazebo/spawn_sdf_model\n",
      "[INFO] [1616519166.111029, 468.668000]: Spawn status: SpawnModel: Successfully spawned entity\n",
      "356\n",
      "[INFO] [1616519168.691916, 468.918000]: Spawn: ycb_077_rubiks_cube\n",
      "[INFO] [1616519168.694283, 468.918000]: Spawn: [-0.          0.          0.0348995  -0.99939083]\n",
      "[INFO] [1616519168.697835, 468.918000]: Waiting for service /gazebo/spawn_sdf_model\n",
      "[INFO] [1616519168.721938, 468.920000]: Calling service /gazebo/spawn_sdf_model\n",
      "[INFO] [1616519168.891461, 468.936000]: Spawn status: SpawnModel: Successfully spawned entity\n",
      "357\n",
      "[INFO] [1616519171.610479, 469.187000]: Spawn: ycb_077_rubiks_cube\n",
      "[INFO] [1616519171.612835, 469.187000]: Spawn: [-0.          0.          0.02617695 -0.99965732]\n",
      "[INFO] [1616519171.614340, 469.187000]: Waiting for service /gazebo/spawn_sdf_model\n",
      "[INFO] [1616519171.621328, 469.188000]: Calling service /gazebo/spawn_sdf_model\n",
      "[INFO] [1616519171.795004, 469.197000]: Spawn status: SpawnModel: Successfully spawned entity\n",
      "358\n",
      "[INFO] [1616519174.157343, 469.422000]: Spawn: ycb_077_rubiks_cube\n",
      "[INFO] [1616519174.160115, 469.423000]: Spawn: [-0.          0.          0.01745241 -0.9998477 ]\n",
      "[INFO] [1616519174.161421, 469.423000]: Waiting for service /gazebo/spawn_sdf_model\n",
      "[INFO] [1616519174.172829, 469.424000]: Calling service /gazebo/spawn_sdf_model\n",
      "[INFO] [1616519174.374463, 469.433000]: Spawn status: SpawnModel: Successfully spawned entity\n",
      "359\n",
      "[INFO] [1616519177.300827, 469.724000]: Spawn: ycb_077_rubiks_cube\n",
      "[INFO] [1616519177.305544, 469.725000]: Spawn: [-0.          0.          0.00872654 -0.99996192]\n",
      "[INFO] [1616519177.306668, 469.725000]: Waiting for service /gazebo/spawn_sdf_model\n",
      "[INFO] [1616519177.316043, 469.726000]: Calling service /gazebo/spawn_sdf_model\n"
     ]
    },
    {
     "name": "stdout",
     "output_type": "stream",
     "text": [
      "[INFO] [1616519177.545132, 469.746000]: Spawn status: SpawnModel: Successfully spawned entity\n"
     ]
    }
   ],
   "source": [
    "\n",
    "for i in range(360):\n",
    "    \n",
    "    deg= np.deg2rad(i)\n",
    "    print(i)\n",
    "    #spawn_object(\"lego2\", model_name, x_gaz,  y_gaz, trans[2], 0.8)\n",
    "    spawn_object(\"rubik\", model_name, x_gaz,  y_gaz, trans[2]-np.sin(euler[1]) , deg)\n",
    "    cap_cnt= i\n",
    "    rospy.sleep(.1)\n",
    "    cv2_img = rgbd.get_image()\n",
    "    \n",
    "    cap_name = \"/home/oscar/Codes/roscodes/scripts_ros/imagesfromlistener/rubik_{}.png\".format(cap_cnt)   ##SAVE YOUR IMAGES WHEREVER YOU WAnt\n",
    "    #cap_name = \"imagesfromlistener/image_from_listener_{}.png\".format(cap_cnt)\n",
    "    cv2.imwrite(cap_name, cv2_img)\n",
    "    delete_object(\"rubik\")\n",
    "    "
   ]
  },
  {
   "cell_type": "code",
   "execution_count": 58,
   "metadata": {},
   "outputs": [],
   "source": [
    "delete_object(\"lego1\")\n",
    "delete_object(\"lego2\")\n",
    "delete_object(\"lego3\")"
   ]
  },
  {
   "cell_type": "code",
   "execution_count": 46,
   "metadata": {},
   "outputs": [
    {
     "data": {
      "text/plain": [
       "-0.014312873594751932"
      ]
     },
     "execution_count": 46,
     "metadata": {},
     "output_type": "execute_result"
    }
   ],
   "source": [
    "np.sin(euler[1])"
   ]
  },
  {
   "cell_type": "code",
   "execution_count": 41,
   "metadata": {},
   "outputs": [
    {
     "name": "stdout",
     "output_type": "stream",
     "text": [
      "[INFO] [1616171839.121837, 619.732000]: Spawn: ycb_077_rubiks_cube\n",
      "[INFO] [1616171839.129753, 619.735000]: Spawn: [0. 0. 0. 1.]\n",
      "[INFO] [1616171839.133454, 619.735000]: Waiting for service /gazebo/spawn_sdf_model\n",
      "[INFO] [1616171839.152859, 619.738000]: Calling service /gazebo/spawn_sdf_model\n",
      "[INFO] [1616171839.400309, 619.757000]: Spawn status: SpawnModel: Successfully spawned entity\n",
      "[INFO] [1616171839.402064, 619.757000]: Spawn: ycb_077_rubiks_cube\n",
      "[INFO] [1616171839.404728, 619.757000]: Spawn: [0. 0. 0. 1.]\n",
      "[INFO] [1616171839.406307, 619.757000]: Waiting for service /gazebo/spawn_sdf_model\n",
      "[INFO] [1616171839.423869, 619.758000]: Calling service /gazebo/spawn_sdf_model\n",
      "[INFO] [1616171839.666958, 619.777000]: Spawn status: SpawnModel: Successfully spawned entity\n"
     ]
    }
   ],
   "source": [
    "x_gaz,y_gaz=2.66,-1.0\n",
    "\n",
    "spawn_object(\"lego1\", model_name, x_gaz,  y_gaz, 0.81, 0)\n",
    "spawn_object(\"lego2\", model_name, x_gaz,  y_gaz+.20, 0.81, 0)\n"
   ]
  },
  {
   "cell_type": "code",
   "execution_count": 28,
   "metadata": {},
   "outputs": [],
   "source": [
    "delete_object(\"lego1\")\n",
    "delete_object(\"lego2\")"
   ]
  },
  {
   "cell_type": "code",
   "execution_count": 39,
   "metadata": {},
   "outputs": [
    {
     "data": {
      "text/plain": [
       "(1.4862835470326075, -0.8531624252253307)"
      ]
     },
     "execution_count": 39,
     "metadata": {},
     "output_type": "execute_result"
    }
   ],
   "source": [
    "world_2_gazebo(trans[1],trans[0])"
   ]
  },
  {
   "cell_type": "code",
   "execution_count": 40,
   "metadata": {},
   "outputs": [
    {
     "data": {
      "text/plain": [
       "[2.3531624252253307, 3.9862835470326075, 0.9916660216914757]"
      ]
     },
     "execution_count": 40,
     "metadata": {},
     "output_type": "execute_result"
    }
   ],
   "source": [
    "trans"
   ]
  },
  {
   "cell_type": "markdown",
   "metadata": {
    "lang": "ja"
   },
   "source": [
    "## センサ情報の取得"
   ]
  },
  {
   "cell_type": "markdown",
   "metadata": {
    "lang": "en"
   },
   "source": [
    "## Acquisition of sensor information"
   ]
  },
  {
   "cell_type": "markdown",
   "metadata": {
    "lang": "ja"
   },
   "source": [
    "今回はセンサ情報として、頭部RGB-Dカメラから取得できるポイントクラウド情報を利用します。"
   ]
  },
  {
   "cell_type": "markdown",
   "metadata": {
    "lang": "en"
   },
   "source": [
    "In this notebook, we will use point cloud information that can be obtained from the head RGB-D camera as sensor information."
   ]
  },
  {
   "cell_type": "markdown",
   "metadata": {
    "lang": "ja"
   },
   "source": [
    "以下でRGB-Dカメラから取得したRGB画像を表示することができます。"
   ]
  },
  {
   "cell_type": "markdown",
   "metadata": {
    "lang": "en"
   },
   "source": [
    "You can display the RGB image acquired from the RGB-D camera as follows:"
   ]
  },
  {
   "cell_type": "code",
   "execution_count": 8,
   "metadata": {},
   "outputs": [
    {
     "data": {
      "text/plain": [
       "<matplotlib.image.AxesImage at 0x7fc749aa86d0>"
      ]
     },
     "execution_count": 8,
     "metadata": {},
     "output_type": "execute_result"
    },
    {
     "data": {
      "image/png": "[encoded data removed]",
      "text/plain": [
       "<matplotlib.figure.Figure at 0x7fc749b3a610>"
      ]
     },
     "metadata": {
      "needs_background": "light"
     },
     "output_type": "display_data"
    }
   ],
   "source": [
    "# 画像を取得します Get image data\n",
    "image_data = rgbd.get_image()\n",
    "# 取得した画像を表示してみます Display the image data\n",
    "plt.imshow(image_data)"
   ]
  },
  {
   "cell_type": "markdown",
   "metadata": {
    "lang": "ja"
   },
   "source": [
    "画像データは、480x640x3の3次元配列です。"
   ]
  },
  {
   "cell_type": "markdown",
   "metadata": {
    "lang": "en"
   },
   "source": [
    "The image data is a 480x640x3 three-dimensional array:"
   ]
  },
  {
   "cell_type": "code",
   "execution_count": 9,
   "metadata": {},
   "outputs": [
    {
     "data": {
      "text/plain": [
       "(480, 640, 3)"
      ]
     },
     "execution_count": 9,
     "metadata": {},
     "output_type": "execute_result"
    }
   ],
   "source": [
    "image_data.shape"
   ]
  },
  {
   "cell_type": "markdown",
   "metadata": {
    "lang": "ja"
   },
   "source": [
    "最初の2次元は（y, x）のピクセルに対応します。最後の1次元はRGB形式のピクセル値です。\n",
    "\n",
    "例えば以下の命令で左上のピクセルのRGB値にアクセスできます。"
   ]
  },
  {
   "cell_type": "markdown",
   "metadata": {
    "lang": "en"
   },
   "source": [
    "The first two dimensions correspond to pixels (y, x). The last dimension is the pixel values in RGB format.\n",
    "\n",
    "For example, you can access the RGB value of the upper left pixel with the following command:"
   ]
  },
  {
   "cell_type": "code",
   "execution_count": 10,
   "metadata": {},
   "outputs": [
    {
     "data": {
      "text/plain": [
       "array([31, 31, 31], dtype=uint8)"
      ]
     },
     "execution_count": 10,
     "metadata": {},
     "output_type": "execute_result"
    }
   ],
   "source": [
    "image_data[0][0]"
   ]
  },
  {
   "cell_type": "markdown",
   "metadata": {
    "lang": "ja"
   },
   "source": [
    "ポイントクラウド情報には、各ピクセルの3次元座標値が格納されています。\n",
    "\n",
    "以下を実行することで、深度情報を表示することができます。"
   ]
  },
  {
   "cell_type": "markdown",
   "metadata": {
    "lang": "en"
   },
   "source": [
    "The point cloud information stores the 3D coordinate values of each pixel.\n",
    "\n",
    "You can check the depth information using the following commands:"
   ]
  },
  {
   "cell_type": "code",
   "execution_count": 14,
   "metadata": {},
   "outputs": [
    {
     "data": {
      "text/plain": [
       "<matplotlib.image.AxesImage at 0x7fc72433d2d0>"
      ]
     },
     "execution_count": 14,
     "metadata": {},
     "output_type": "execute_result"
    },
    {
     "data": {
      "image/png": "[encoded data removed]",
      "text/plain": [
       "<matplotlib.figure.Figure at 0x7fc7242c8790>"
      ]
     },
     "metadata": {
      "needs_background": "light"
     },
     "output_type": "display_data"
    }
   ],
   "source": [
    "# ポイントクラウドを取得します Get point cloud information\n",
    "points_data = rgbd.get_points()\n",
    "# ポイントクラウドの深度情報を表示してみます Display the depth value of the point cloud information\n",
    "plt.imshow(points_data['z'], cmap='prism')"
   ]
  },
  {
   "cell_type": "code",
   "execution_count": 15,
   "metadata": {},
   "outputs": [
    {
     "data": {
      "text/plain": [
       "<matplotlib.image.AxesImage at 0x7fc72437a1d0>"
      ]
     },
     "execution_count": 15,
     "metadata": {},
     "output_type": "execute_result"
    },
    {
     "data": {
      "image/png": "[encoded data removed]",
      "text/plain": [
       "<matplotlib.figure.Figure at 0x7fc7245ccc10>"
      ]
     },
     "metadata": {
      "needs_background": "light"
     },
     "output_type": "display_data"
    }
   ],
   "source": [
    "# ポイントクラウドを取得します Get point cloud information\n",
    "points_data = rgbd.get_points()\n",
    "# ポイントクラウドの深度情報を表示してみます Display the depth value of the point cloud information\n",
    "plt.imshow(points_data['z'])"
   ]
  },
  {
   "cell_type": "markdown",
   "metadata": {
    "lang": "ja"
   },
   "source": [
    "深度情報は、480x640の2次元配列です。"
   ]
  },
  {
   "cell_type": "markdown",
   "metadata": {
    "lang": "en"
   },
   "source": [
    "The depth information is a 480x640 two-dimensional array:"
   ]
  },
  {
   "cell_type": "code",
   "execution_count": null,
   "metadata": {},
   "outputs": [],
   "source": [
    "points_data['z'].shape"
   ]
  },
  {
   "cell_type": "markdown",
   "metadata": {
    "lang": "ja"
   },
   "source": [
    "画像データと同様に、以下の命令で左上のピクセル値にアクセスできます。単位はメートルです。"
   ]
  },
  {
   "cell_type": "markdown",
   "metadata": {
    "lang": "en"
   },
   "source": [
    "Similar to the image data, we can access the depth value in the upper left with the following command. The unit is meters:"
   ]
  },
  {
   "cell_type": "code",
   "execution_count": null,
   "metadata": {},
   "outputs": [],
   "source": [
    "points_data['z'][0][0]"
   ]
  },
  {
   "cell_type": "markdown",
   "metadata": {
    "lang": "ja"
   },
   "source": [
    "## 色空間の変換と色抽出"
   ]
  },
  {
   "cell_type": "markdown",
   "metadata": {
    "lang": "en"
   },
   "source": [
    "## Color space conversion and color extraction"
   ]
  },
  {
   "cell_type": "markdown",
   "metadata": {
    "lang": "ja"
   },
   "source": [
    "レゴブロックの色は「水色」なので、色を使ってレゴブロックを検出してみましょう。\n",
    "\n",
    "「image_data」にはRGB形式で色のデータが格納されています。\n",
    "RGB形式のデータをそのまま使ってもよいのですが、RGBからHSVに色空間を変換すると照明変化に頑健になることが知られています。\n",
    "\n",
    "HSVは、色相(Hue)、彩度(Saturation)、明度(Value)によって色を表現します。今回は色相情報のみを利用してレゴブロックの水色を抽出します。"
   ]
  },
  {
   "cell_type": "markdown",
   "metadata": {
    "lang": "en"
   },
   "source": [
    "The color of the Lego block is \"light blue\", so let's use the color to detect the Lego block.\n",
    "\n",
    "Color data is stored in RGB format in \"image_data\".\n",
    "We can use the RGB data as is, but it is known that converting the color space from RGB to HSV makes it more robust against changes in lighting.\n",
    "\n",
    "HSV expresses color by Hue, Saturation and Value. This time, we will extract the light blue of the Lego block using the hue channel:"
   ]
  },
  {
   "cell_type": "code",
   "execution_count": null,
   "metadata": {},
   "outputs": [],
   "source": [
    "# 画像の色相の値を取得します Get hue channel\n",
    "h_image = rgbd.get_h_image()\n",
    "# 色相画像を表示してみます Display the hue channel\n",
    "plt.imshow(h_image)"
   ]
  },
  {
   "cell_type": "markdown",
   "metadata": {
    "lang": "ja"
   },
   "source": [
    "色相画像に対して適当な閾値を設定して、レゴブロックのみが抽出されるようにします。"
   ]
  },
  {
   "cell_type": "markdown",
   "metadata": {
    "lang": "en"
   },
   "source": [
    "Set an appropriate threshold for the hue image so that only the light blue Lego block is extracted:"
   ]
  },
  {
   "cell_type": "code",
   "execution_count": null,
   "metadata": {},
   "outputs": [],
   "source": [
    "from ipywidgets import interact\n",
    "\n",
    "def f(lower = 0, upper = 255):\n",
    "    yellow_region = (h_image > lower) & (h_image < upper)\n",
    "    plt.imshow(yellow_region)\n",
    "\n",
    "interact(f, lower=(0, 255, 5), upper=(0, 255, 5))"
   ]
  },
  {
   "cell_type": "markdown",
   "metadata": {
    "lang": "ja"
   },
   "source": [
    "閾値を下限130、上限140ぐらいに設定すると安定して抽出できるようです。"
   ]
  },
  {
   "cell_type": "markdown",
   "metadata": {
    "lang": "en"
   },
   "source": [
    "It seems that stable extraction can be achieved by setting the threshold to the lower limit of 130 and the upper limit of 140."
   ]
  },
  {
   "cell_type": "markdown",
   "metadata": {
    "lang": "ja"
   },
   "source": [
    "<div class=\"alert alert-block alert-info\">\n",
    "    <b>課題</b>\n",
    "    <p>同様にバナナやリンゴを抽出してみましょう。</p>\n",
    "    <p>以下を実行することで、バナナとリンゴを出現させることができます。</p>\n",
    "</div>"
   ]
  },
  {
   "cell_type": "markdown",
   "metadata": {
    "lang": "en"
   },
   "source": [
    "<div class=\"alert alert-block alert-info\">\n",
    "    <b>Task</b>\n",
    "    <p>Try to extract banana and apple as well.</p>\n",
    "    <p>By entering the following commands, we can spawn banana and apple.</p>\n",
    "</div>"
   ]
  },
  {
   "cell_type": "code",
   "execution_count": null,
   "metadata": {},
   "outputs": [],
   "source": [
    "put_object(\"banana\", 0.6, 0.2, 0.0)"
   ]
  },
  {
   "cell_type": "code",
   "execution_count": null,
   "metadata": {},
   "outputs": [],
   "source": [
    "put_object(\"apple\", 1.0, 0.0, 0.0)"
   ]
  },
  {
   "cell_type": "markdown",
   "metadata": {
    "lang": "ja"
   },
   "source": [
    "## レゴブロックの位置の取得"
   ]
  },
  {
   "cell_type": "markdown",
   "metadata": {
    "lang": "en"
   },
   "source": [
    "## Get the position of the Lego block"
   ]
  },
  {
   "cell_type": "markdown",
   "metadata": {
    "lang": "ja"
   },
   "source": [
    "レゴブロックを抽出できる色相画像の閾値を設定します。"
   ]
  },
  {
   "cell_type": "markdown",
   "metadata": {
    "lang": "en"
   },
   "source": [
    "Set the threshold of the hue image from which the light blue Lego block can be extracted:"
   ]
  },
  {
   "cell_type": "code",
   "execution_count": null,
   "metadata": {},
   "outputs": [],
   "source": [
    "rgbd.set_h(130, 140)"
   ]
  },
  {
   "cell_type": "markdown",
   "metadata": {
    "lang": "ja"
   },
   "source": [
    "設定した閾値の色相画像を表示させてみましょう。"
   ]
  },
  {
   "cell_type": "markdown",
   "metadata": {
    "lang": "en"
   },
   "source": [
    "Let's display the configured threshold of the hue image:"
   ]
  },
  {
   "cell_type": "code",
   "execution_count": null,
   "metadata": {},
   "outputs": [],
   "source": [
    "region = rgbd.get_region()\n",
    "plt.imshow(region)"
   ]
  },
  {
   "cell_type": "markdown",
   "metadata": {
    "lang": "ja"
   },
   "source": [
    "ポイントクラウド情報から、レゴブロックと考えられる領域のxyz座標の平均値を計算します。\n",
    "\n",
    "レゴブロックのxyz座標が以下のように計算できました。"
   ]
  },
  {
   "cell_type": "markdown",
   "metadata": {
    "lang": "en"
   },
   "source": [
    "From the point cloud information, calculate the average value of the xyz coordinates of the area considered to be a Lego block.\n",
    "\n",
    "The xyz coordinates of the Lego block can be calculated as follows:"
   ]
  },
  {
   "cell_type": "code",
   "execution_count": null,
   "metadata": {},
   "outputs": [],
   "source": [
    "rgbd.get_xyz()"
   ]
  },
  {
   "cell_type": "markdown",
   "metadata": {
    "lang": "ja"
   },
   "source": [
    "このxyz値は、「head_rgbd_sensor_rgb_frame」基準座標、つまりRGBDカメラ座標上での値です。"
   ]
  },
  {
   "cell_type": "markdown",
   "metadata": {
    "lang": "en"
   },
   "source": [
    "This xyz value is the value in the \"head_rgbd_sensor_rgb_frame\" reference coordinates, that is the RGBD camera coordinates."
   ]
  },
  {
   "cell_type": "markdown",
   "metadata": {
    "lang": "ja"
   },
   "source": [
    "## レゴブロックの座標の出力"
   ]
  },
  {
   "cell_type": "markdown",
   "metadata": {
    "lang": "en"
   },
   "source": [
    "## Display the Lego block coordinates"
   ]
  },
  {
   "cell_type": "markdown",
   "metadata": {
    "lang": "ja"
   },
   "source": [
    "出力される座標の名前を`lego`にセットしましょう。"
   ]
  },
  {
   "cell_type": "markdown",
   "metadata": {
    "lang": "en"
   },
   "source": [
    "Let's set the name of the output coordinates to `lego`."
   ]
  },
  {
   "cell_type": "code",
   "execution_count": null,
   "metadata": {},
   "outputs": [],
   "source": [
    "rgbd.set_coordinate_name(\"lego\")"
   ]
  },
  {
   "cell_type": "markdown",
   "metadata": {
    "lang": "ja"
   },
   "source": [
    "新しいポイントクラウド情報が入力されるたびにbananaの座標情報が出力されます。\n",
    "\n",
    "「TF」の「Frames」から`lego`を選択してが正しくpublishされているか確認しましょう。\n",
    "\n",
    "![title](./imgs/5_lego_tf.png)"
   ]
  },
  {
   "cell_type": "markdown",
   "metadata": {
    "lang": "en"
   },
   "source": [
    "The coordinate information of banana is updated every time on new point cloud information input.\n",
    "\n",
    "Select `lego` from \"Frames\" of \"TF\" and check if it is published correctly:\n",
    "\n",
    "![title](./imgs/5_lego_tf.png)"
   ]
  },
  {
   "cell_type": "markdown",
   "metadata": {
    "lang": "ja"
   },
   "source": [
    "座標情報はPythonでもアクセスできます。\n",
    "\n",
    "例えば、絶対座標（map）上での`lego`の位置(x, y)は以下のように取得できます。"
   ]
  },
  {
   "cell_type": "markdown",
   "metadata": {
    "lang": "en"
   },
   "source": [
    "Coordinate information can also be accessed in Python.\n",
    "\n",
    "For example, the position (x, y) of `lego` on the absolute coordinates (=map) can be obtained as follows:"
   ]
  },
  {
   "cell_type": "code",
   "execution_count": null,
   "metadata": {},
   "outputs": [],
   "source": [
    "trans = get_relative_coordinate(\"map\", \"lego\")\n",
    "x = trans.translation.x\n",
    "y = trans.translation.y\n",
    "x, y"
   ]
  },
  {
   "cell_type": "markdown",
   "metadata": {
    "lang": "ja"
   },
   "source": [
    "`lego`は、絶対座標上で約（x, y）=（0.6, 0.0）の座標に置かれているようです。"
   ]
  },
  {
   "cell_type": "markdown",
   "metadata": {
    "lang": "en"
   },
   "source": [
    "`lego` seems to be placed at about (x, y) = (0.6, 0.0) position in absolute coordinates."
   ]
  },
  {
   "cell_type": "markdown",
   "metadata": {
    "lang": "ja"
   },
   "source": [
    "## 認識結果を用いた制御"
   ]
  },
  {
   "cell_type": "markdown",
   "metadata": {
    "lang": "en"
   },
   "source": [
    "## Control using recognition results"
   ]
  },
  {
   "cell_type": "markdown",
   "metadata": {
    "lang": "ja"
   },
   "source": [
    "以上の認識器を用いて、HSRにレゴブロックを拾わせてみましょう。\n",
    "\n",
    "前章の関数`move_wholebody_ik`に認識結果のx, yを引数として与え、逆運動学によってHSRを制御します。"
   ]
  },
  {
   "cell_type": "markdown",
   "metadata": {
    "lang": "en"
   },
   "source": [
    "Let's make the HSR pick up the light blue Lego block using the above recognizer.\n",
    "\n",
    "The function `move_wholebody_ik` in the previous section is given the recognition result x and y as arguments, and the HSR is controlled by inverse kinematics:"
   ]
  },
  {
   "cell_type": "code",
   "execution_count": null,
   "metadata": {},
   "outputs": [],
   "source": [
    "# ハンドを開く Open the hand\n",
    "move_hand(1)\n",
    "# 逆運動学を使ってHSRの手先を動かします Move the end effector by using inverse kinematics\n",
    "move_wholebody_ik(x, y, 0.1, 180, 0, 0)\n",
    "# ハンドを閉じる Close the hand\n",
    "move_hand(0)\n",
    "# アームを初期姿勢に戻す Move the hand to the initial position\n",
    "move_arm_init()"
   ]
  },
  {
   "cell_type": "markdown",
   "metadata": {
    "lang": "ja"
   },
   "source": [
    "<div class=\"alert alert-block alert-info\">\n",
    "    <b>課題</b>\n",
    "    <p>レゴブロックを出現させる位置を変えても上手く拾えるか試してみましょう。</p>\n",
    "</div>"
   ]
  },
  {
   "cell_type": "markdown",
   "metadata": {
    "lang": "en"
   },
   "source": [
    "<div class=\"alert alert-block alert-info\">\n",
    "    <b>Task</b>\n",
    "    <p>Check that picking up the light blue Lego block will succeed even if we change its position.</p>\n",
    "</div>"
   ]
  },
  {
   "cell_type": "code",
   "execution_count": null,
   "metadata": {},
   "outputs": [],
   "source": [
    "# レゴブロックを削除 Delete Lego block\n",
    "delete_object(\"e_lego_duplo\")"
   ]
  },
  {
   "cell_type": "code",
   "execution_count": null,
   "metadata": {},
   "outputs": [],
   "source": [
    "# レゴブロックを配置 Place the Lego block at the different position\n",
    "put_object(\"e_lego_duplo\", 0.6, 0.2, 0.0)"
   ]
  },
  {
   "cell_type": "code",
   "execution_count": 16,
   "metadata": {},
   "outputs": [],
   "source": [
    "# 自分で考えてみましょう。この下に入力できます。 Write your code here:\n"
   ]
  },
  {
   "cell_type": "code",
   "execution_count": null,
   "metadata": {},
   "outputs": [],
   "source": []
  },
  {
   "cell_type": "code",
   "execution_count": 17,
   "metadata": {},
   "outputs": [],
   "source": [
    "np.save('data-points.npy',points_data)"
   ]
  },
  {
   "cell_type": "code",
   "execution_count": 18,
   "metadata": {},
   "outputs": [
    {
     "data": {
      "text/plain": [
       "(480, 640)"
      ]
     },
     "execution_count": 18,
     "metadata": {},
     "output_type": "execute_result"
    }
   ],
   "source": [
    "points_data.shape"
   ]
  },
  {
   "cell_type": "code",
   "execution_count": null,
   "metadata": {},
   "outputs": [],
   "source": []
  },
  {
   "cell_type": "code",
   "execution_count": 30,
   "metadata": {},
   "outputs": [
    {
     "data": {
      "text/plain": [
       "<matplotlib.image.AxesImage at 0x7fc726c72fd0>"
      ]
     },
     "execution_count": 30,
     "metadata": {},
     "output_type": "execute_result"
    },
    {
     "data": {
      "image/png": "[encoded data removed]",
      "text/plain": [
       "<matplotlib.figure.Figure at 0x7fc726d139d0>"
      ]
     },
     "metadata": {
      "needs_background": "light"
     },
     "output_type": "display_data"
    }
   ],
   "source": [
    "plt.imshow(points_data['z'])"
   ]
  },
  {
   "cell_type": "code",
   "execution_count": 33,
   "metadata": {},
   "outputs": [
    {
     "data": {
      "text/plain": [
       "<matplotlib.image.AxesImage at 0x7fc726be6710>"
      ]
     },
     "execution_count": 33,
     "metadata": {},
     "output_type": "execute_result"
    },
    {
     "data": {
      "image/png": "[encoded data removed]",
      "text/plain": [
       "<matplotlib.figure.Figure at 0x7fc726daa390>"
      ]
     },
     "metadata": {
      "needs_background": "light"
     },
     "output_type": "display_data"
    }
   ],
   "source": [
    "plt.imshow(points_data[150:300, :100]['z'])"
   ]
  },
  {
   "cell_type": "code",
   "execution_count": 35,
   "metadata": {},
   "outputs": [
    {
     "data": {
      "text/plain": [
       "array([(-0.8599178 , -0.54511166, 1.837085 , 1.2630801e-38),\n",
       "       (-0.85613203, -0.5394127 , 1.8289973, 1.2630801e-38),\n",
       "       (-0.8523794 , -0.5337636 , 1.8209803, 1.2630801e-38),\n",
       "       (-0.8486595 , -0.5281638 , 1.8130333, 1.2630801e-38),\n",
       "       (-0.844972  , -0.52261275, 1.8051556, 1.2630801e-38),\n",
       "       (-0.84131646, -0.5171097 , 1.797346 , 1.2630801e-38),\n",
       "       (-0.83769226, -0.511654  , 1.7896035, 1.2630801e-38),\n",
       "       (-0.8340992 , -0.5062452 , 1.7819275, 1.2630801e-38),\n",
       "       (-0.83053684, -0.5008825 , 1.774317 , 1.2630801e-38),\n",
       "       (-0.82700473, -0.49556544, 1.7667712, 1.2630801e-38),\n",
       "       (-0.82350266, -0.49029347, 1.7592895, 1.2630801e-38),\n",
       "       (-0.82003003, -0.4850659 , 1.7518708, 1.2630801e-38),\n",
       "       (-0.81658655, -0.47988227, 1.7445143, 1.2630801e-38),\n",
       "       (-0.8131719 , -0.474742  , 1.7372195, 1.2630801e-38),\n",
       "       (-0.8097857 , -0.46964452, 1.7299854, 1.2630801e-38),\n",
       "       (-0.8064276 , -0.4645893 , 1.7228112, 1.2630801e-38),\n",
       "       (-0.8030972 , -0.45957586, 1.7156963, 1.2630801e-38),\n",
       "       (-0.7997942 , -0.45460364, 1.70864  , 1.2630801e-38),\n",
       "       (-0.7965183 , -0.4496722 , 1.7016416, 1.2630801e-38),\n",
       "       (-0.7932691 , -0.44478095, 1.6947001, 1.2630801e-38),\n",
       "       (-0.7900463 , -0.43992946, 1.6878151, 1.2630801e-38),\n",
       "       (-0.7868496 , -0.43511721, 1.6809858, 1.2630801e-38),\n",
       "       (-0.7836786 , -0.43034372, 1.6742114, 1.2630801e-38),\n",
       "       (-0.7805331 , -0.4256086 , 1.6674916, 1.2630801e-38),\n",
       "       (-0.7774127 , -0.42091134, 1.6608254, 1.2630801e-38),\n",
       "       (-0.7743172 , -0.41625145, 1.6542122, 1.2630801e-38),\n",
       "       (-0.77124625, -0.4116285 , 1.6476516, 1.2630801e-38),\n",
       "       (-0.76819956, -0.40704218, 1.6411428, 1.2630801e-38),\n",
       "       (-0.7651769 , -0.40249187, 1.6346853, 1.2630801e-38),\n",
       "       (-0.76217794, -0.3979773 , 1.6282785, 1.2630801e-38),\n",
       "       (-0.7592023 , -0.3934979 , 1.6219215, 1.2630801e-38),\n",
       "       (-0.75624985, -0.3890534 , 1.615614 , 1.2630801e-38),\n",
       "       (-0.75332016, -0.38464326, 1.6093552, 1.2630801e-38),\n",
       "       (-0.7504132 , -0.38026717, 1.6031449, 1.2630801e-38),\n",
       "       (-0.74752855, -0.37592477, 1.5969824, 1.2630801e-38),\n",
       "       (-0.74466604, -0.37161562, 1.5908669, 1.2630801e-38),\n",
       "       (-0.74182534, -0.3673393 , 1.5847982, 1.2630801e-38),\n",
       "       (-0.7390062 , -0.36309555, 1.5787756, 1.2630801e-38),\n",
       "       (-0.7362084 , -0.35888386, 1.5727985, 1.2630801e-38),\n",
       "       (-0.73343176, -0.354704  , 1.5668666, 1.2630801e-38),\n",
       "       (-0.73067594, -0.3505555 , 1.5609792, 1.2630801e-38),\n",
       "       (-0.7279408 , -0.3464381 , 1.555136 , 1.1801041e-38),\n",
       "       (-0.7276672 , -0.34350377, 1.5545515, 9.4039542e-39),\n",
       "       (-0.72819006, -0.34094447, 1.5556685, 9.4039542e-39),\n",
       "       (-0.7287134 , -0.33838135, 1.5567865, 9.4039542e-39),\n",
       "       (-0.7292375 , -0.3358146 , 1.5579063, 9.4039542e-39),\n",
       "       (-0.7297624 , -0.3332441 , 1.5590276, 9.4039542e-39),\n",
       "       (-0.73028797, -0.33066988, 1.5601504, 9.4039542e-39),\n",
       "       (-0.7308144 , -0.328092  , 1.561275 , 9.4039542e-39),\n",
       "       (-0.8239832 , -0.36674395, 1.7603161, 3.9644121e-39),\n",
       "       (-0.8235123 , -0.3633609 , 1.7593101, 3.2268470e-39),\n",
       "       (-0.8234433 , -0.36015728, 1.7591627, 2.8580645e-39),\n",
       "       (-0.8237576 , -0.35712034, 1.7598342, 2.8580645e-39),\n",
       "       (-0.8245239 , -0.35427523, 1.7614714, 2.8580645e-39),\n",
       "       (-0.82620597, -0.3518141 , 1.7650647, 2.8580645e-39),\n",
       "       (-0.94996357, -0.40085167, 2.0294542, 2.8580645e-39),\n",
       "       (-0.9506521 , -0.39747882, 2.0309253, 2.8580645e-39),\n",
       "       (-0.9513417 , -0.39410108, 2.0323985, 2.8580645e-39),\n",
       "       (-0.9520322 , -0.3907184 , 2.0338736, 3.4112383e-39),\n",
       "       (-0.7932812 , -0.32250932, 1.694726 , 4.7019771e-39),\n",
       "       (-0.7921734 , -0.31900623, 1.6923593, 4.0566077e-39),\n",
       "       (-0.79170376, -0.31576625, 1.691356 , 3.2268470e-39),\n",
       "       (-0.7915834 , -0.31266782, 1.6910989, 2.8580645e-39),\n",
       "       (-0.7918485 , -0.30972108, 1.6916652, 2.8580645e-39),\n",
       "       (-0.7924728 , -0.30691144, 1.6929989, 2.8580645e-39),\n",
       "       (-0.79384476, -0.30438364, 1.6959299, 2.8580645e-39),\n",
       "       (-0.957593  , -0.36347944, 2.0457535, 2.8580645e-39),\n",
       "       (-0.9582928 , -0.3600522 , 2.0472484, 2.8580645e-39),\n",
       "       (-0.95899343, -0.3566199 , 2.0487452, 2.8580645e-39),\n",
       "       (-0.95969516, -0.3531826 , 2.0502443, 2.8580645e-39),\n",
       "       (-0.9603979 , -0.34974027, 2.0517457, 2.8580645e-39),\n",
       "       (-0.96110165, -0.34629288, 2.0532491, 2.8580645e-39),\n",
       "       (-0.96180654, -0.3428405 , 2.054755 , 2.8580645e-39),\n",
       "       (-0.9625123 , -0.33938295, 2.0562627, 2.8580645e-39),\n",
       "       (-0.96321917, -0.33592036, 2.0577729, 2.8580645e-39),\n",
       "       (-0.7510143 , -0.25902033, 1.604429 , 4.7019771e-39),\n",
       "       (-0.7490407 , -0.2554532 , 1.6002128, 4.5175859e-39),\n",
       "       (-0.74824685, -0.25229904, 1.5985168, 3.7800208e-39),\n",
       "       (-0.74786764, -0.24928921, 1.5977067, 3.1346514e-39),\n",
       "       (-0.74783486, -0.24639647, 1.5976367, 2.8580645e-39),\n",
       "       (-0.7481121 , -0.2436049 , 1.5982289, 2.8580645e-39),\n",
       "       (-0.7487529 , -0.2409282 , 1.5995979, 2.8580645e-39),\n",
       "       (-0.7501347 , -0.23848213, 1.6025499, 2.8580645e-39),\n",
       "       (-0.9696281 , -0.30452675, 2.0714645, 2.8580645e-39),\n",
       "       (-0.97034544, -0.30101275, 2.072997 , 2.8580645e-39),\n",
       "       (-0.9710639 , -0.29749358, 2.074532 , 2.8580645e-39),\n",
       "       (-0.97178346, -0.29396918, 2.076069 , 2.8580645e-39),\n",
       "       (-0.972504  , -0.29043955, 2.0776086, 2.8580645e-39),\n",
       "       (-0.97322565, -0.28690466, 2.0791502, 2.8580645e-39),\n",
       "       (-0.97394836, -0.28336456, 2.0806942, 2.8580645e-39),\n",
       "       (-0.97467214, -0.27981916, 2.0822403, 2.8580645e-39),\n",
       "       (-0.97539705, -0.27626854, 2.083789 , 2.8580645e-39),\n",
       "       (-0.9761229 , -0.27271256, 2.0853398, 2.8580645e-39),\n",
       "       (-0.97685003, -0.26915136, 2.086893 , 2.8580645e-39),\n",
       "       (-0.9775781 , -0.2655848 , 2.0884485, 2.8580645e-39),\n",
       "       (-0.9783073 , -0.26201293, 2.0900064, 2.8580645e-39),\n",
       "       (-0.9790376 , -0.25843576, 2.0915666, 2.8580645e-39),\n",
       "       (-0.74878865, -0.19477162, 1.5996743, 7.1001411e-39),\n",
       "       (-0.7468622 , -0.19139242, 1.5955586, 7.6533149e-39),\n",
       "       (-0.7457223 , -0.18822664, 1.5931236, 8.0220960e-39),\n",
       "       (-0.74565977, -0.1853374 , 1.5929899, 7.4689222e-39),\n",
       "       (-0.7460182 , -0.18255165, 1.5937556, 7.7455105e-39),\n",
       "       (-0.7466016 , -0.17981733, 1.5950019, 7.8377061e-39),\n",
       "       (-0.7470361 , -0.17704323, 1.5959302, 7.8373474e-39),\n",
       "       (-0.74751335, -0.17427576, 1.5969498, 7.7451504e-39),\n",
       "       (-0.7481687 , -0.17154543, 1.5983499, 7.9291815e-39),\n",
       "       (-0.74813426, -0.16865455, 1.5982763, 9.0362479e-39),\n",
       "       (-0.74784726, -0.16570796, 1.5976632, 7.5611192e-39),\n",
       "       (-0.7476214 , -0.16277692, 1.5971807, 8.1139329e-39),\n",
       "       (-0.7473005 , -0.15982728, 1.5964952, 8.2983242e-39),\n",
       "       (-0.7469275 , -0.15686917, 1.5956982, 8.2986829e-39),\n",
       "       (-0.7465152 , -0.15390582, 1.5948174, 8.2986843e-39),\n",
       "       (-0.74605006, -0.15093498, 1.5938237, 8.3908799e-39),\n",
       "       (-0.74557716, -0.14796618, 1.5928134, 8.2064873e-39),\n",
       "       (-0.7456191 , -0.14510122, 1.5929031, 7.4682034e-39),\n",
       "       (-0.7464482 , -0.14238608, 1.5946743, 7.5603990e-39),\n",
       "       (-0.74728584, -0.13966614, 1.5964638, 7.5600388e-39),\n",
       "       (-0.7481753 , -0.13694924, 1.598364 , 7.4678432e-39),\n",
       "       (-0.74955684, -0.13431364, 1.6013154, 7.4682034e-39),\n",
       "       (-0.7505879 , -0.13160597, 1.6035181, 7.6522345e-39),\n",
       "       (-0.7513864 , -0.12885046, 1.605224 , 7.7444301e-39),\n",
       "       (-0.75201726, -0.1260607 , 1.6065718, 7.7444301e-39),\n",
       "       (-0.7525208 , -0.12324522, 1.6076475, 7.6525946e-39),\n",
       "       (-0.75296116, -0.12041575, 1.6085882, 7.6525946e-39),\n",
       "       (-0.7533469 , -0.11757437, 1.6094123, 7.6525946e-39),\n",
       "       (-0.75373423, -0.11473025, 1.6102397, 7.7444301e-39),\n",
       "       (-0.7543771 , -0.11192108, 1.6116133, 7.7444301e-39),\n",
       "       (-0.75514543, -0.10912506, 1.6132547, 7.5603990e-39),\n",
       "       (-0.75743526, -0.10653714, 1.6181465, 7.0082930e-39),\n",
       "       (-0.75852424, -0.10376728, 1.6204729, 5.9966452e-39),\n",
       "       (-0.7596093 , -0.10098851, 1.6227909, 5.3516261e-39),\n",
       "       (-0.76074046, -0.09820734, 1.6252075, 5.8097554e-39),\n",
       "       (-0.7618726 , -0.09541757, 1.6276262, 5.0750420e-39),\n",
       "       (-0.7630479 , -0.09262431, 1.630137 , 4.3410405e-39),\n",
       "       (-0.76422936, -0.08982272, 1.6326611, 4.2488406e-39),\n",
       "       (-0.76542556, -0.0870137 , 1.6352166, 4.0633788e-39),\n",
       "       (-0.76662576, -0.0841959 , 1.6377807, 4.4310879e-39),\n",
       "       (-0.76786923, -0.08137342, 1.6404371, 5.0746777e-39),\n",
       "       (-0.7691414 , -0.0785443 , 1.6431549, 5.9019454e-39),\n",
       "       (-0.7704035 , -0.07570439, 1.6458511, 6.4536941e-39),\n",
       "       (-0.7716693 , -0.0728551 , 1.6485554, 6.4533368e-39),\n",
       "       (-0.7729634 , -0.06999861, 1.65132  , 6.3611439e-39),\n",
       "       (-0.77427775, -0.06713391, 1.654128 , 6.6377294e-39),\n",
       "       (-0.7756105 , -0.0642606 , 1.6569752, 6.7299236e-39),\n",
       "       (-0.77693945, -0.06137672, 1.6598142, 6.6377294e-39),\n",
       "       (-0.778316  , -0.05848617, 1.6627551, 6.5455338e-39),\n",
       "       (-0.77969736, -0.05558536, 1.6657062, 6.7299236e-39),\n",
       "       (-0.7810978 , -0.05267519, 1.6686981, 6.6377294e-39),\n",
       "       (-0.78255254, -0.04975767, 1.6718057, 6.3611439e-39),\n",
       "       (-0.78402036, -0.04682973, 1.6749415, 6.3611439e-39),\n",
       "       (-0.7854823 , -0.04389014, 1.6780647, 6.4533396e-39),\n",
       "       (-0.7869755 , -0.04094092, 1.6812547, 6.5455338e-39),\n",
       "       (-0.7884435 , -0.03797897, 1.6843909, 6.5455338e-39),\n",
       "       (-0.78995126, -0.03500747, 1.687612 , 6.5458925e-39),\n",
       "       (-0.7914654 , -0.03202461, 1.6908468, 6.7302838e-39),\n",
       "       (-0.7930538 , -0.0290328 , 1.6942401, 7.0065091e-39),\n",
       "       (-0.79468614, -0.02603018, 1.6977274, 7.0990635e-39),\n",
       "       (-0.7963555 , -0.02301605, 1.7012937, 7.0990621e-39),\n",
       "       (-0.7981365 , -0.01999186, 1.7050985, 6.9128632e-39),\n",
       "       (-0.83462167, -0.01768948, 1.7830436, 7.5549732e-39),\n",
       "       (-0.8324603 , -0.01443573, 1.7784262, 6.2638742e-39),\n",
       "       (-0.83031   , -0.01119879, 1.7738324, 7.6453583e-39),\n",
       "       (-0.8281708 , -0.00797852, 1.7692623, 7.8290307e-39),\n",
       "       (-0.82604265, -0.00477481, 1.7647159, 7.8293908e-39),\n",
       "       (-0.8239254 , -0.00158752, 1.7601926, 7.8293908e-39),\n",
       "       (-0.82181895,  0.00158347, 1.7556926, 7.9223067e-39),\n",
       "       (-0.81972325,  0.00473828, 1.7512155, 8.1066966e-39),\n",
       "       (-0.8176382 ,  0.00787705, 1.7467611, 8.3832835e-39),\n",
       "       (-0.81556374,  0.0109999 , 1.7423292, 8.1988922e-39),\n",
       "       (-0.81349975,  0.01410693, 1.7379198, 8.1059763e-39),\n",
       "       (-0.81144625,  0.01719828, 1.7335329, 8.1985321e-39),\n",
       "       (-0.80940306,  0.02027406, 1.7291678, 8.2910878e-39),\n",
       "       (-0.8073701 ,  0.0233344 , 1.7248248, 8.3832835e-39),\n",
       "       (-0.8053473 ,  0.02637939, 1.7205034, 8.2910864e-39),\n",
       "       (-0.8033348 ,  0.02940917, 1.7162039, 8.1066966e-39),\n",
       "       (-0.8013321 ,  0.03242384, 1.7119255, 8.3832835e-39),\n",
       "       (-0.7993394 ,  0.03542352, 1.7076684, 8.2910878e-39),\n",
       "       (-0.7973567 ,  0.03840832, 1.7034327, 8.4754791e-39),\n",
       "       (-0.79538375,  0.04137835, 1.6992177, 8.2907277e-39),\n",
       "       (-0.7934206 ,  0.04433371, 1.6950238, 8.1981719e-39),\n",
       "       (-0.791467  ,  0.04727452, 1.6908503, 8.1063365e-39),\n",
       "       (-0.7895231 ,  0.05020089, 1.6866974, 8.0145010e-39),\n",
       "       (-0.78758866,  0.05311292, 1.6825647, 8.0145010e-39),\n",
       "       (-0.78566366,  0.0560107 , 1.6784523, 8.0145010e-39),\n",
       "       (-0.7837481 ,  0.05889437, 1.6743599, 8.1063379e-39),\n",
       "       (-0.7818419 ,  0.061764  , 1.6702875, 8.1985321e-39),\n",
       "       (-0.77994484,  0.06461971, 1.6662349, 8.3829233e-39),\n",
       "       (-0.77805704,  0.06746159, 1.6622018, 8.1981734e-39),\n",
       "       (-0.77617836,  0.07028975, 1.6581883, 8.1052575e-39),\n",
       "       (-0.7743087 ,  0.07310428, 1.654194 , 7.9212263e-39),\n",
       "       (-0.77244794,  0.07590529, 1.6502188, 7.9212263e-39),\n",
       "       (-0.77059627,  0.07869288, 1.646263 , 8.0134220e-39),\n",
       "       (-0.76875335,  0.08146711, 1.6423259, 7.9215851e-39),\n",
       "       (-0.7669193 ,  0.08422813, 1.6384077, 8.2910878e-39),\n",
       "       (-0.7650939 ,  0.08697599, 1.634508 , 8.5676747e-39),\n",
       "       (-0.76327723,  0.08971082, 1.630627 , 8.6595074e-39),\n",
       "       (-0.7614691 ,  0.09243266, 1.6267642, 8.4743959e-39),\n",
       "       (-0.75966954,  0.09514166, 1.6229197, 8.0134220e-39),\n",
       "       (-0.7578785 ,  0.09783788, 1.6190934, 8.1059763e-39),\n",
       "       (-0.7560958 ,  0.10052142, 1.615285 , 8.5673132e-39),\n",
       "       (-0.75432163,  0.10319236, 1.6114947, 8.7513443e-39),\n",
       "       (-0.75255567,  0.10585079, 1.6077219, 8.6591501e-39),\n",
       "       (-0.750798  ,  0.10849681, 1.603967 , 8.6598704e-39),\n",
       "       (-0.7490484 ,  0.1111305 , 1.6002293, 8.8442602e-39),\n",
       "       (-0.747307  ,  0.11375193, 1.596509 , 8.8442616e-39),\n",
       "       (-0.7455737 ,  0.11636122, 1.5928061, 8.7517059e-39),\n",
       "       (-0.74384844,  0.11895842, 1.5891203, 8.4751190e-39),\n",
       "       (-0.7421311 ,  0.12154363, 1.5854515, 8.6595088e-39),\n",
       "       (-0.74042165,  0.12411693, 1.5817995, 8.5673132e-39),\n",
       "       (-0.73872006,  0.12667839, 1.5781643, 8.4747588e-39),\n",
       "       (-0.7370264 ,  0.12922813, 1.574546 , 8.4747588e-39),\n",
       "       (-0.73534036,  0.13176619, 1.5709441, 8.4751190e-39),\n",
       "       (-0.7336621 ,  0.13429268, 1.5673587, 8.4754791e-39),\n",
       "       (-0.7319914 ,  0.13680764, 1.5637895, 8.3832835e-39),\n",
       "       (-0.7303284 ,  0.1393112 , 1.5602367, 8.4754791e-39),\n",
       "       (-0.7286728 ,  0.14180338, 1.5566999, 8.5673146e-39),\n",
       "       (-0.72702473,  0.1442843 , 1.553179 , 8.5673118e-39),\n",
       "       (-0.72538424,  0.14675403, 1.5496743, 8.6598662e-39),\n",
       "       (-0.72375095,  0.14921263, 1.546185 , 8.8435400e-39),\n",
       "       (-0.7221251 ,  0.15166019, 1.5427116, 8.9360971e-39),\n",
       "       (-0.7205065 ,  0.15409677, 1.5392537, 8.8442602e-39),\n",
       "       (-0.7188952 ,  0.15652245, 1.5358114, 8.8442616e-39),\n",
       "       (-0.717291  ,  0.1589373 , 1.5323843, 8.8442616e-39),\n",
       "       (-0.71569395,  0.16134141, 1.5289725, 8.9360971e-39),\n",
       "       (-0.71410406,  0.16373484, 1.5255759, 8.9360957e-39),\n",
       "       (-0.71252114,  0.16611765, 1.5221943, 8.8435400e-39),\n",
       "       (-0.71094537,  0.16848993, 1.5188278, 8.9357342e-39),\n",
       "       (-0.7093764 ,  0.17085174, 1.515476 , 8.9357342e-39),\n",
       "       (-0.70781446,  0.17320316, 1.5121391, 8.8431784e-39),\n",
       "       (-0.70625925,  0.1755442 , 1.5088166, 8.6591473e-39),\n",
       "       (-0.70471096,  0.17787501, 1.5055089, 8.8435414e-39),\n",
       "       (-0.7031694 ,  0.18019563, 1.5022156, 8.6591501e-39),\n",
       "       (-0.7016345 ,  0.1825061 , 1.4989367, 8.6598676e-39),\n",
       "       (-0.70010644,  0.18480653, 1.4956721, 8.9364545e-39),\n",
       "       (-0.6985849 ,  0.18709692, 1.4924216, 9.0282885e-39),\n",
       "       (-0.69707006,  0.18937741, 1.4891853, 8.9364531e-39),\n",
       "       (-0.6955617 ,  0.19164802, 1.485963 , 8.9360943e-39),\n",
       "       (-0.69405985,  0.19390883, 1.4827545, 8.9364559e-39),\n",
       "       (-0.69256455,  0.19615991, 1.47956  , 8.9360971e-39),\n",
       "       (-0.69107556,  0.19840127, 1.476379 , 9.0279298e-39),\n",
       "       (-0.6895931 ,  0.20063305, 1.4732119, 9.0279298e-39),\n",
       "       (-0.6881169 ,  0.20285526, 1.4700582, 8.9364545e-39),\n",
       "       (-0.68664706,  0.20506799, 1.4669181, 9.0282914e-39),\n",
       "       (-0.6851834 ,  0.20727128, 1.4637913, 9.1204884e-39),\n",
       "       (-0.683726  ,  0.20946519, 1.4606777, 9.0279326e-39),\n",
       "       (-0.6822749 ,  0.2116498 , 1.4575776, 8.8442574e-39),\n",
       "       (-0.68082976,  0.21382515, 1.4544904, 8.8442574e-39),\n",
       "       (-0.67939085,  0.21599132, 1.4514164, 9.0282899e-39),\n",
       "       (-0.67795795,  0.21814832, 1.4483552, 9.0279312e-39),\n",
       "       (-0.67653114,  0.22029626, 1.445307 , 9.0279298e-39),\n",
       "       (-0.6751102 ,  0.22243516, 1.4422715, 8.9364559e-39),\n",
       "       (-0.6736953 ,  0.2245651 , 1.4392487, 9.0286515e-39),\n",
       "       (-0.6722864 ,  0.22668616, 1.4362388, 9.0290088e-39),\n",
       "       (-0.67088324,  0.22879833, 1.4332411, 9.0290088e-39),\n",
       "       (-0.66948605,  0.23090175, 1.4302562, 8.9364573e-39),\n",
       "       (-0.66809464,  0.23299639, 1.4272836, 8.9364573e-39),\n",
       "       (-0.6667089 ,  0.23508231, 1.4243232, 8.8439029e-39),\n",
       "       (-0.665329  ,  0.23715965, 1.4213753, 8.7513457e-39),\n",
       "       (-0.66395473,  0.23922838, 1.4184394, 8.4743987e-39),\n",
       "       (-0.66258615,  0.2412886 , 1.4155157, 8.2896473e-39),\n",
       "       (-0.66122323,  0.24334034, 1.412604 , 8.3825590e-39),\n",
       "       (-0.6598659 ,  0.24538368, 1.4097043, 8.6587872e-39),\n",
       "       (-0.65851414,  0.2474186 , 1.4068164, 8.7517017e-39),\n",
       "       (-0.65716785,  0.2494452 , 1.4039402, 8.6598662e-39),\n",
       "       (-0.6558271 ,  0.25146356, 1.401076 , 8.8442602e-39),\n",
       "       (-0.6544917 ,  0.25347367, 1.3982232, 8.9368160e-39),\n",
       "       (-0.6531619 ,  0.25547567, 1.3953822, 8.9364573e-39),\n",
       "       (-0.6518374 ,  0.2574695 , 1.3925526, 8.9364573e-39),\n",
       "       (-0.65051836,  0.2594553 , 1.3897346, 8.9368174e-39),\n",
       "       (-0.64920455,  0.26143304, 1.3869278, 9.0286515e-39),\n",
       "       (-0.647896  ,  0.26340282, 1.3841324, 8.9364559e-39),\n",
       "       (-0.6465928 ,  0.26536468, 1.3813483, 8.9364573e-39),\n",
       "       (-0.6452948 ,  0.26731864, 1.3785752, 8.9368160e-39),\n",
       "       (-0.64400196,  0.2692648 , 1.3758134, 9.1208457e-39),\n",
       "       (-0.6427143 ,  0.27120316, 1.3730625, 9.1212072e-39),\n",
       "       (-0.64143187,  0.2731338 , 1.3703227, 9.1208485e-39),\n",
       "       (-0.6401545 ,  0.27505675, 1.3675938, 9.0286529e-39),\n",
       "       (-0.6388821 ,  0.27697203, 1.3648756, 9.1204884e-39),\n",
       "       (-0.6376149 ,  0.27887973, 1.3621683, 8.4743987e-39),\n",
       "       (-0.63635266,  0.28077987, 1.3594717, 8.4743973e-39),\n",
       "       (-0.6350955 ,  0.28267255, 1.3567859, 8.8431784e-39),\n",
       "       (-0.6338431 ,  0.2845577 , 1.3541105, 9.0275683e-39),\n",
       "       (-0.6325958 ,  0.28643546, 1.3514457, 8.9353741e-39),\n",
       "       (-0.6313533 ,  0.28830585, 1.3487914, 8.8431784e-39),\n",
       "       (-0.6301157 ,  0.29016888, 1.3461474, 8.9353727e-39),\n",
       "       (-0.62888294,  0.29202464, 1.3435138, 8.8431770e-39),\n",
       "       (-0.62765497,  0.29387313, 1.3408904, 8.8431770e-39),\n",
       "       (-0.6264319 ,  0.29571447, 1.3382775, 8.7509842e-39),\n",
       "       (-0.62521344,  0.2975486 , 1.3356745, 8.8431812e-39),\n",
       "       (-0.62399983,  0.29937562, 1.3330817, 8.8431784e-39),\n",
       "       (-0.6227908 ,  0.30119556, 1.3304989, 8.8428197e-39),\n",
       "       (-0.6215865 ,  0.30300844, 1.327926 , 8.6587900e-39),\n",
       "       (-0.6203869 ,  0.30481437, 1.3253633, 8.7509842e-39),\n",
       "       (-0.6191919 ,  0.30661333, 1.3228103, 8.7509814e-39),\n",
       "       (-0.61800146,  0.30840537, 1.3202672, 8.8431784e-39),\n",
       "       (-0.6168156 ,  0.3101905 , 1.3177338, 8.8431798e-39),\n",
       "       (-0.6156343 ,  0.31196883, 1.3152101, 8.8431784e-39),\n",
       "       (-0.6144575 ,  0.31374034, 1.312696 , 8.7509828e-39),\n",
       "       (-0.6132852 ,  0.3155051 , 1.3101915, 8.5665915e-39),\n",
       "       (-0.6121174 ,  0.31726316, 1.3076967, 8.4743959e-39),\n",
       "       (-0.6109539 ,  0.3190145 , 1.3052112, 8.4743959e-39),\n",
       "       (-0.609795  ,  0.3207592 , 1.3027352, 8.3822003e-39),\n",
       "       (-0.6086403 ,  0.32249728, 1.3002685, 8.4743959e-39),\n",
       "       (-0.6074901 ,  0.32422882, 1.2978113, 8.6587886e-39),\n",
       "       (-0.6063443 ,  0.32595384, 1.2953633, 8.6584298e-39),\n",
       "       (-0.6052026 ,  0.32767233, 1.2929244, 8.7517045e-39),\n",
       "       (-0.60406536,  0.3293844 , 1.2904948, 8.3836450e-39),\n",
       "       (-0.60293233,  0.33109   , 1.2880743, 8.2918151e-39),\n",
       "       (-0.6018036 ,  0.33278927, 1.2856629, 8.3840065e-39),\n",
       "       (-0.60067904,  0.33448213, 1.2832603, 8.3832877e-39),\n",
       "       (-0.5995586 ,  0.33616868, 1.2808667, 8.3832863e-39),\n",
       "       (-0.5984425 ,  0.33784902, 1.2784823, 8.3836464e-39),\n",
       "       (-0.5973304 ,  0.33952305, 1.2761065, 8.3843667e-39),\n",
       "       (-0.5962225 ,  0.3411909 , 1.2737397, 8.3843667e-39),\n",
       "       (-0.59511864,  0.34285256, 1.2713815, 8.3832877e-39),\n",
       "       (-0.59401894,  0.3445081 , 1.2690321, 8.4751232e-39),\n",
       "       (-0.5929232 ,  0.3461575 , 1.2666913, 8.3832877e-39),\n",
       "       (-0.59183156,  0.34780082, 1.2643591, 8.3836506e-39),\n",
       "       (-0.59074396,  0.34943813, 1.2620356, 8.4754833e-39),\n",
       "       (-0.5896603 ,  0.3510694 , 1.2597204, 8.3832863e-39),\n",
       "       (-0.5885806 ,  0.35269475, 1.257414 , 8.3829275e-39),\n",
       "       (-0.5875049 ,  0.35431415, 1.2551159, 8.2918137e-39),\n",
       "       (-0.5864331 ,  0.35592762, 1.2528261, 8.2921739e-39),\n",
       "       (-0.5853652 ,  0.35753518, 1.2505447, 8.2921725e-39),\n",
       "       (-0.5843011 ,  0.3591369 , 1.2482715, 8.3840065e-39),\n",
       "       (-0.58324105,  0.36073288, 1.2460067, 8.3840079e-39),\n",
       "       (-0.5821847 ,  0.36232302, 1.24375  , 8.4758420e-39),\n",
       "       (-0.58113223,  0.36390746, 1.2415016, 8.4754833e-39),\n",
       "       (-0.5800835 ,  0.36548615, 1.2392612, 8.4754819e-39),\n",
       "       (-0.57903856,  0.36705914, 1.2370288, 8.3832877e-39),\n",
       "       (-0.5779974 ,  0.36862648, 1.2348045, 8.3832877e-39),\n",
       "       (-0.57695997,  0.37018818, 1.2325882, 8.4754833e-39),\n",
       "       (-0.57592624,  0.3717443 , 1.2303798, 8.4762064e-39),\n",
       "       (-0.5748962 ,  0.37329486, 1.2281793, 8.4762064e-39),\n",
       "       (-0.57386994,  0.3748399 , 1.2259868, 8.4762064e-39),\n",
       "       (-0.57284725,  0.3763794 , 1.223802 , 8.2921711e-39),\n",
       "       (-0.57182825,  0.37791345, 1.221625 , 8.2914508e-39),\n",
       "       (-0.57081276,  0.379442  , 1.2194556, 8.2918137e-39),\n",
       "       (-0.5698009 ,  0.38096517, 1.217294 , 8.3840093e-39),\n",
       "       (-0.56879276,  0.38248298, 1.2151401, 8.3840065e-39),\n",
       "       (-0.56778806,  0.38399538, 1.2129937, 8.3840065e-39),\n",
       "       (-0.56678694,  0.3855025 , 1.210855 , 8.3840065e-39),\n",
       "       (-0.56578934,  0.38700426, 1.2087238, 8.3832877e-39),\n",
       "       (-0.56479526,  0.38850078, 1.2066001, 8.5676789e-39),\n",
       "       (-0.5638046 ,  0.38999203, 1.2044837, 8.6605962e-39),\n",
       "       (-0.56281745,  0.39147803, 1.2023748, 8.5687565e-39),\n",
       "       (-0.56183374,  0.39295885, 1.2002733, 8.3843653e-39),\n",
       "       (-0.5608534 ,  0.3944345 , 1.198179 , 8.2921711e-39),\n",
       "       (-0.5598767 ,  0.39590508, 1.1960922, 8.2921711e-39),\n",
       "       (-0.55890316,  0.39737046, 1.1940125, 8.2921711e-39),\n",
       "       (-0.55793315,  0.3988308 , 1.1919402, 8.2918123e-39),\n",
       "       (-0.55696636,  0.40028605, 1.1898749, 8.3829318e-39),\n",
       "       (-0.55600303,  0.4017363 , 1.1878169, 8.4762064e-39),\n",
       "       (-0.555043  ,  0.40318152, 1.1857659, 8.5687621e-39),\n",
       "       (-0.55408627,  0.40462175, 1.1837219, 8.4765623e-39),\n",
       "       (-0.55313283,  0.40605706, 1.1816851, 8.3836492e-39),\n",
       "       (-0.5521827 ,  0.4074874 , 1.1796552, 8.3832891e-39),\n",
       "       (-0.55123574,  0.40891284, 1.1776322, 8.3832877e-39),\n",
       "       (-0.5502921 ,  0.4103334 , 1.1756163, 8.3829275e-39),\n",
       "       (-0.54935163,  0.4117491 , 1.1736071, 8.5673188e-39),\n",
       "       (-0.5484144 ,  0.41316   , 1.1716049, 8.3832863e-39),\n",
       "       (-0.54748034,  0.41456604, 1.1696094, 8.3832863e-39),\n",
       "       (-0.54654956,  0.41596738, 1.1676209, 8.3832863e-39),\n",
       "       (-0.5456218 ,  0.41736388, 1.1656389, 8.3832863e-39),\n",
       "       (-0.5446972 ,  0.41875568, 1.1636637, 8.3829275e-39),\n",
       "       (-0.54377586,  0.42014283, 1.1616954, 8.4754819e-39),\n",
       "       (-0.5428575 ,  0.4215252 , 1.1597334, 8.3832877e-39),\n",
       "       (-0.54194236,  0.42290297, 1.1577783, 8.1988936e-39),\n",
       "       (-0.54103017,  0.42427605, 1.1558295, 8.1070567e-39),\n",
       "       (-0.54012114,  0.42564458, 1.1538875, 8.1992524e-39),\n",
       "       (-0.5392151 ,  0.42700848, 1.1519519, 8.3843653e-39),\n",
       "       (-0.5383121 ,  0.4283678 , 1.1500227, 8.4765609e-39),\n",
       "       (-0.5374121 ,  0.4297226 , 1.1481001, 8.5687551e-39),\n",
       "       (-0.5365151 ,  0.43107283, 1.1461838, 8.5680335e-39),\n",
       "       (-0.53562117,  0.4324186 , 1.144274 , 8.3836422e-39),\n",
       "       (-0.5347302 ,  0.43375993, 1.1423706, 8.3836436e-39),\n",
       "       (-0.53384215,  0.4350968 , 1.1404735, 8.3832863e-39),\n",
       "       (-0.532957  ,  0.43642914, 1.1385825, 8.3840051e-39),\n",
       "       (-0.53207487,  0.43775716, 1.1366979, 8.3843653e-39),\n",
       "       (-0.5311956 ,  0.43908077, 1.1348195, 8.4765609e-39),\n",
       "       (-0.5303193 ,  0.4404    , 1.1329473, 8.5687565e-39),\n",
       "       (-0.5294458 ,  0.4417149 , 1.1310813, 8.3843639e-39),\n",
       "       (-0.52857524,  0.44302547, 1.1292214, 8.2918067e-39),\n",
       "       (-0.52770746,  0.4443317 , 1.1273676, 8.3832835e-39),\n",
       "       (-0.5268426 ,  0.44563374, 1.12552  , 8.3832863e-39),\n",
       "       (-0.5259805 ,  0.4469314 , 1.1236782, 8.3843639e-39),\n",
       "       (-0.5251213 ,  0.4482249 , 1.1218426, 8.1992538e-39),\n",
       "       (-0.5242649 ,  0.44951418, 1.120013 , 8.3829247e-39),\n",
       "       (-0.5234112 ,  0.45079926, 1.1181893, 8.3832849e-39),\n",
       "       (-0.5225603 ,  0.45208013, 1.1163715, 8.2918081e-39),\n",
       "       (-0.5217122 ,  0.45335686, 1.1145597, 8.2910878e-39),\n",
       "       (-0.5208668 ,  0.45462942, 1.1127536, 8.1992509e-39),\n",
       "       (-0.5200242 ,  0.4558979 , 1.1109535, 8.1992509e-39),\n",
       "       (-0.51918435,  0.45716232, 1.1091592, 8.1066966e-39),\n",
       "       (-0.5183471 ,  0.45842257, 1.1073706, 8.0152198e-39),\n",
       "       (-0.5175126 ,  0.45967883, 1.1055878, 8.1070581e-39),\n",
       "       (-0.5166808 ,  0.46093103, 1.1038108, 8.1992552e-39),\n",
       "       (-0.5158517 ,  0.4621792 , 1.1020395, 8.1999726e-39),\n",
       "       (-0.51502514,  0.4634234 , 1.1002737, 8.1066980e-39),\n",
       "       (-0.5142012 ,  0.46466357, 1.0985136, 8.1070581e-39),\n",
       "       (-0.5133801 ,  0.46589985, 1.0967593, 8.1074183e-39),\n",
       "       (-0.5125615 ,  0.46713215, 1.0950105, 8.1992524e-39),\n",
       "       (-0.5117454 ,  0.46836045, 1.0932671, 8.1996139e-39),\n",
       "       (-0.5109321 ,  0.46958497, 1.0915295, 8.2918095e-39),\n",
       "       (-0.5101212 ,  0.47080553, 1.0897973, 8.2921696e-39)],\n",
       "      dtype={'names':['x','y','z','rgb'], 'formats':['<f4','<f4','<f4','<f4'], 'offsets':[0,4,8,16], 'itemsize':32})"
      ]
     },
     "execution_count": 35,
     "metadata": {},
     "output_type": "execute_result"
    }
   ],
   "source": [
    "points_data[75:,60]"
   ]
  },
  {
   "cell_type": "code",
   "execution_count": 16,
   "metadata": {},
   "outputs": [
    {
     "name": "stdout",
     "output_type": "stream",
     "text": [
      "['ycb_021_bleach_cleanser', 'ycb_065-e_cups', 'wrc_bin_black', 'ycb_057_racquetball', 'wrc_tray', 'ycb_043_phillips_screwdriver', 'wrc_bin_green', 'ycb_073-b_lego_duplo', 'ycb_009_gelatin_box', 'ycb_072-e_toy_airplane', 'ycb_004_sugar_box', 'ycb_073-d_lego_duplo', 'ycb_061_foam_brick', 'ycb_016_pear', 'ycb_065-a_cups', 'wrc_ground_plane', 'wrc_bookshelf', 'ycb_072-b_toy_airplane', 'trofast', 'ycb_026_sponge', 'ycb_012_strawberry', 'ycb_013_apple', 'ycb_051_large_clamp', 'ycb_022_windex_bottle', 'ycb_065-h_cups', 'ycb_025_mug', 'ycb_036_wood_block', 'ycb_056_tennis_ball', 'ycb_044_flat_screwdriver', 'ycb_031_spoon', 'ycb_072-c_toy_airplane', 'wrc_frame', 'ycb_010_potted_meat_can', 'ycb_073-f_lego_duplo', 'ycb_072-d_toy_airplane', 'ycb_053_mini_soccer_ball', 'ycb_033_spatula', 'ycb_040_large_marker', 'ycb_027_skillet', 'ycb_052_extra_large_clamp', 'wrc_container_b', 'ycb_073-a_lego_duplo', 'ycb_070-a_colored_wood_blocks', 'wrc_stair_like_drawer', 'ycb_032_knife', 'wrc_long_table', 'ycb_063-a_marbles', 'ycb_058_golf_ball', 'ycb_003_cracker_box', 'ycb_070-b_colored_wood_blocks', 'ycb_002_master_chef_can', 'ycb_055_baseball', 'ycb_073-e_lego_duplo', 'wrc_tall_table', 'ycb_065-d_cups', 'ycb_029_plate', 'ycb_071_nine_hole_peg_test', 'ycb_018_plum', 'ycb_054_softball', 'ycb_050_medium_clamp', 'ycb_006_mustard_bottle', 'ycb_007_tuna_fish_can', 'ycb_042_adjustable_wrench', 'ycb_065-j_cups', 'ycb_024_bowl', 'ycb_038_padlock', 'ycb_065-b_cups', 'ycb_005_tomato_soup_can', 'ycb_062_dice', 'ycb_015_peach', 'ycb_028_skillet_lid', 'ycb_065-f_cups', 'ycb_048_hammer', 'ycb_008_pudding_box', 'wrc_container_a', 'ycb_063-b_marbles', 'person_standing', 'ycb_073-g_lego_duplo', 'ycb_017_orange', 'ycb_014_lemon', 'ycb_035_power_drill', 'ycb_072-a_toy_airplane', 'ycb_065-i_cups', 'ycb_065-c_cups', 'ycb_011_banana', 'ycb_030_fork', 'ycb_065-g_cups', 'ycb_037_scissors', 'ycb_077_rubiks_cube', 'ycb_019_pitcher_base', 'ycb_073-c_lego_duplo', 'ycb_059_chain']\n"
     ]
    }
   ],
   "source": []
  },
  {
   "cell_type": "code",
   "execution_count": 15,
   "metadata": {},
   "outputs": [],
   "source": [
    "import os"
   ]
  },
  {
   "cell_type": "code",
   "execution_count": null,
   "metadata": {},
   "outputs": [],
   "source": []
  }
 ],
 "metadata": {
  "kernelspec": {
   "display_name": "Python 2",
   "language": "python",
   "name": "python2"
  },
  "language_info": {
   "codemirror_mode": {
    "name": "ipython",
    "version": 2
   },
   "file_extension": ".py",
   "mimetype": "text/x-python",
   "name": "python",
   "nbconvert_exporter": "python",
   "pygments_lexer": "ipython2",
   "version": "2.7.17"
  },
  "nbTranslate": {
   "displayLangs": [
    "ja"
   ],
   "hotkey": "alt-t",
   "langInMainMenu": true,
   "sourceLang": "ja",
   "targetLang": "en",
   "useGoogleTranslate": true
  },
  "toc": {
   "base_numbering": 1,
   "nav_menu": {},
   "number_sections": true,
   "sideBar": true,
   "skip_h1_title": false,
   "title_cell": "Table of Contents",
   "title_sidebar": "Contents",
   "toc_cell": false,
   "toc_position": {},
   "toc_section_display": true,
   "toc_window_display": true
  }
 },
 "nbformat": 4,
 "nbformat_minor": 2
}
