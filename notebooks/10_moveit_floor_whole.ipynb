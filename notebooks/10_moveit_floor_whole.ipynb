{
 "cells": [
  {
   "cell_type": "markdown",
   "metadata": {
    "lang": "en"
   },
   "source": [
    "## Setup"
   ]
  },
  {
   "cell_type": "markdown",
   "metadata": {
    "lang": "ja"
   },
   "source": [
    "必要なライブラリをインポートして、初期化を行います。"
   ]
  },
  {
   "cell_type": "markdown",
   "metadata": {
    "lang": "en"
   },
   "source": [
    "Import the required libraries and initialize them:"
   ]
  },
  {
   "cell_type": "code",
   "execution_count": 1,
   "metadata": {},
   "outputs": [],
   "source": [
    "%matplotlib inline\n",
    "import matplotlib.pyplot as plt\n",
    "import numpy as np\n",
    "import ros_numpy\n",
    "import rospy\n",
    "import tf\n",
    "from gazebo_ros import gazebo_interface\n",
    "from sensor_msgs.msg import LaserScan, PointCloud2\n",
    "from geometry_msgs.msg import Pose, Quaternion ,TransformStamped,PoseStamped\n",
    "\n",
    "import sys\n",
    "\n",
    "from utils_notebooks import *\n",
    "import cv2\n",
    "import os\n"
   ]
  },
  {
   "cell_type": "code",
   "execution_count": null,
   "metadata": {},
   "outputs": [],
   "source": []
  },
  {
   "cell_type": "markdown",
   "metadata": {
    "lang": "ja"
   },
   "source": [
    "rvizを起動します．ロボットモデル、カメラ映像、ポイントクラウドが表示されています。"
   ]
  },
  {
   "cell_type": "code",
   "execution_count": 2,
   "metadata": {},
   "outputs": [],
   "source": [
    "\n",
    "rospy.init_node(\"recognition\")\n"
   ]
  },
  {
   "cell_type": "code",
   "execution_count": 3,
   "metadata": {},
   "outputs": [],
   "source": [
    "rgbd = RGBD()"
   ]
  },
  {
   "cell_type": "code",
   "execution_count": 4,
   "metadata": {},
   "outputs": [],
   "source": [
    "listener = tf.TransformListener()\n",
    "broadcaster= tf.TransformBroadcaster()\n",
    "import moveit_commander\n",
    "import moveit_msgs.msg\n",
    "###might take some time to load all those takeshi meshes in rviz\n",
    "\n",
    "head = moveit_commander.MoveGroupCommander('head')\n",
    "arm = moveit_commander.MoveGroupCommander('arm')\n"
   ]
  },
  {
   "cell_type": "code",
   "execution_count": 5,
   "metadata": {
    "lang": "en"
   },
   "outputs": [],
   "source": [
    "from move_base_msgs.msg import MoveBaseAction, MoveBaseGoal\n",
    "from geometry_msgs.msg import PoseStamped, Point , Quaternion\n",
    "from actionlib_msgs.msg import GoalStatus"
   ]
  },
  {
   "cell_type": "code",
   "execution_count": 6,
   "metadata": {},
   "outputs": [],
   "source": [
    "goal = MoveBaseGoal()\n",
    "navclient = actionlib.SimpleActionClient('/move_base/move', MoveBaseAction)\n",
    "navclient.wait_for_server()\n",
    "\n",
    "def move_base_actionlib(pose):\n",
    "    goal = MoveBaseGoal()\n",
    "    goal.target_pose = pose\n",
    "\n",
    "    # send message to the action server\n",
    "    navclient.send_goal(goal)\n",
    "\n",
    "    # wait for the action server to complete the order\n",
    "    navclient.wait_for_result()\n",
    "\n",
    "    # print result of navigation\n",
    "    action_state = navclient.get_state()\n",
    "    if action_state == GoalStatus.SUCCEEDED:\n",
    "        rospy.loginfo(\"Navigation Succeeded.\")"
   ]
  },
  {
   "cell_type": "code",
   "execution_count": null,
   "metadata": {},
   "outputs": [],
   "source": []
  },
  {
   "cell_type": "code",
   "execution_count": 7,
   "metadata": {},
   "outputs": [
    {
     "data": {
      "text/plain": [
       "True"
      ]
     },
     "execution_count": 7,
     "metadata": {},
     "output_type": "execute_result"
    }
   ],
   "source": [
    "goal_x , goal_y,goal_yaw= 1.14,0.3,1.57\n",
    " \n",
    "# fill ROS message\n",
    "pose = PoseStamped()\n",
    "pose.header.stamp = rospy.Time.now()\n",
    "pose.header.frame_id = \"map\"\n",
    "pose.pose.position = Point(goal_x, goal_y, 0)\n",
    "quat = tf.transformations.quaternion_from_euler(0, 0, goal_yaw)\n",
    "pose.pose.orientation = Quaternion(*quat)\n",
    "\n",
    "#Takeshi neutral\n",
    "arm.set_named_target('go')\n",
    "arm.go()\n",
    "head.set_named_target('neutral')\n",
    "head.go()"
   ]
  },
  {
   "cell_type": "code",
   "execution_count": 8,
   "metadata": {},
   "outputs": [
    {
     "name": "stdout",
     "output_type": "stream",
     "text": [
      "[INFO] [1619216897.183541, 19.608000]: Navigation Succeeded.\n"
     ]
    }
   ],
   "source": [
    "move_base_actionlib(pose)"
   ]
  },
  {
   "cell_type": "code",
   "execution_count": 9,
   "metadata": {},
   "outputs": [
    {
     "data": {
      "text/plain": [
       "([1.1095504602844988, 0.41833038735312933, 0.9604998135189562],\n",
       " (-4.896619428884482e-12, 0.7861617254580082, 1.567481041058537))"
      ]
     },
     "execution_count": 9,
     "metadata": {},
     "output_type": "execute_result"
    }
   ],
   "source": [
    "#moveit\n",
    "#MOVE IT MUST BE RUNNING. DECLARE A HEAD POSE\n",
    "head_val=head.get_current_joint_values()\n",
    "head_val[0]=np.deg2rad(0)\n",
    "head_val[1]=np.deg2rad(-45)\n",
    "#WATCH OUT FOR JOINTS LIMITS (exorcist joke)\n",
    "#plan and execute target pose\n",
    "head.set_joint_value_target(head_val)\n",
    "head.go()\n",
    "### GET TF (REFERENCE FRAME FOR XTION SENSOR )\n",
    "trans , rot = listener.lookupTransform('/map', '/head_rgbd_sensor_gazebo_frame', rospy.Time(0))\n",
    "\n",
    "euler=tf.transformations.euler_from_quaternion(rot)\n",
    "\n",
    "trans, euler"
   ]
  },
  {
   "cell_type": "code",
   "execution_count": 10,
   "metadata": {},
   "outputs": [
    {
     "data": {
      "text/plain": [
       "([1.1095504602844988, 0.41833038735312933, 0.9604998135189562],\n",
       " array([-2.80555627e-10,  4.50437489e+01,  8.98100481e+01]))"
      ]
     },
     "execution_count": 10,
     "metadata": {},
     "output_type": "execute_result"
    }
   ],
   "source": [
    "trans , rot = listener.lookupTransform('/map', '/head_rgbd_sensor_gazebo_frame', rospy.Time(0))\n",
    "#trans , rot = listener.lookupTransform('/map', '/head_rgbd_sensor_link', rospy.Time(0))\n",
    "euler=tf.transformations.euler_from_quaternion(rot)\n",
    "\n",
    "\n",
    "trans, np.rad2deg(euler)"
   ]
  },
  {
   "cell_type": "code",
   "execution_count": 11,
   "metadata": {},
   "outputs": [],
   "source": [
    "def cart2spher(x,y,z):\n",
    "    ro= np.sqrt(x**2+y**2+z**2)\n",
    "    th=np.arctan2(y,x)\n",
    "    phi=np.arctan2((np.sqrt(x**2+y**2)),z)\n",
    "    return np.asarray((ro,th,phi))\n",
    "def spher2cart(ro,th,phi):\n",
    "    x= ro * np.cos(th)* np.sin(phi)\n",
    "    y= ro * np.sin(th)* np.sin(phi)\n",
    "    z= ro*  np.cos(th)\n",
    "    return np.asarray((x,y,z))"
   ]
  },
  {
   "cell_type": "code",
   "execution_count": 12,
   "metadata": {},
   "outputs": [
    {
     "data": {
      "text/plain": [
       "<matplotlib.image.AxesImage at 0x7ff1cdd4ccd0>"
      ]
     },
     "execution_count": 12,
     "metadata": {},
     "output_type": "execute_result"
    },
    {
     "data": {
      "image/png": "[encoded data removed]",
      "text/plain": [
       "<matplotlib.figure.Figure at 0x7ff204414790>"
      ]
     },
     "metadata": {
      "needs_background": "light"
     },
     "output_type": "display_data"
    }
   ],
   "source": [
    "# ポイントクラウドを取得します Get point cloud information\n",
    "points_data = rgbd.get_points()\n",
    "# ポイントクラウドの深度情報を表示してみます Display the depth value of the point cloud information\n",
    "plt.imshow(points_data['z'], cmap='prism')"
   ]
  },
  {
   "cell_type": "code",
   "execution_count": 13,
   "metadata": {},
   "outputs": [
    {
     "data": {
      "text/plain": [
       "(array([0.20611331, 0.40966088, 0.9482627 ], dtype=float32),\n",
       " array([-0.20442136,  0.409698  ,  0.94834864], dtype=float32),\n",
       " array([1.0527318e-03, 1.9054446e-01, 1.1672326e+00], dtype=float32),\n",
       " array([ 1.1178857e-03, -5.3323144e-01,  1.2394730e+00], dtype=float32))"
      ]
     },
     "execution_count": 13,
     "metadata": {},
     "output_type": "execute_result"
    }
   ],
   "source": [
    "px_y,px_x=-1,-200\n",
    "P1= np.asarray((points_data[px_y,px_x]['x'],points_data[px_y,px_x]['y'],points_data[px_y,px_x]['z'] ))\n",
    "\n",
    "px_y,px_x=-1,200\n",
    "P2= np.asarray((points_data[px_y,px_x]['x'],points_data[px_y,px_x]['y'],points_data[px_y,px_x]['z'] ))\n",
    "\n",
    "px_y,px_x=-150,320\n",
    "P3= np.asarray((points_data[px_y,px_x]['x'],points_data[px_y,px_x]['y'],points_data[px_y,px_x]['z'] ))\n",
    "\n",
    "px_y,px_x=1,320\n",
    "P4= np.asarray((points_data[px_y,px_x]['x'],points_data[px_y,px_x]['y'],points_data[px_y,px_x]['z'] ))\n",
    "P1,P2,P3 , P4"
   ]
  },
  {
   "cell_type": "code",
   "execution_count": 14,
   "metadata": {},
   "outputs": [
    {
     "name": "stdout",
     "output_type": "stream",
     "text": [
      "('look at the phi angle  in normal vector', -45.02719903164191)\n",
      "('cartesian Normal floor', 2.6964197e-05, 0.08987713, 0.089962505)\n"
     ]
    },
    {
     "data": {
      "text/plain": [
       "45.0437488834664"
      ]
     },
     "execution_count": 14,
     "metadata": {},
     "output_type": "execute_result"
    }
   ],
   "source": [
    "V1 =P1 - P2\n",
    "V2= P3-P2\n",
    "nx,ny,nz=np.cross(V2,V1)\n",
    "print('look at the phi angle  in normal vector', np.rad2deg(cart2spher(nx,ny,nz))[2]-90)\n",
    "print ('cartesian Normal floor',nx,ny,nz)\n",
    "#plane angle to be found is same slope as the camera \n",
    "\n",
    "np.rad2deg(euler)[1]\n",
    "\n",
    "#OR ELSE"
   ]
  },
  {
   "cell_type": "code",
   "execution_count": 15,
   "metadata": {},
   "outputs": [
    {
     "data": {
      "text/plain": [
       "-0.058551975"
      ]
     },
     "execution_count": 15,
     "metadata": {},
     "output_type": "execute_result"
    }
   ],
   "source": [
    "#check if P4  its in floor plane\n",
    "#normal vector = np.cross(V2,V1)\n",
    "##vectors from known floor points\n",
    "##P0= P1\n",
    "## 0 = \\vec{n} \\dot \\vec{P_0P}\n",
    "np.dot(np.asarray((nx,ny,nz,)),P4-P1)\n",
    "## if not 0 (or almost )"
   ]
  },
  {
   "cell_type": "code",
   "execution_count": 16,
   "metadata": {},
   "outputs": [],
   "source": [
    "\n",
    "\n",
    "\n",
    "\n",
    "ind=0\n",
    "quat=rot\n"
   ]
  },
  {
   "cell_type": "code",
   "execution_count": 17,
   "metadata": {},
   "outputs": [],
   "source": [
    "x,y,z=P1\n",
    "broadcaster.sendTransform((x,y,z),rot, rospy.Time.now(), 'P1',\"head_rgbd_sensor_link\")\n",
    "x,y,z=P2\n",
    "broadcaster.sendTransform((x,y,z),rot, rospy.Time.now(), 'P2',\"head_rgbd_sensor_link\")\n",
    "x,y,z=P3\n",
    "broadcaster.sendTransform((x,y,z),rot, rospy.Time.now(), 'P3',\"head_rgbd_sensor_link\")\n",
    "x,y,z=P4\n",
    "broadcaster.sendTransform((x,y,z),rot, rospy.Time.now(), 'P4',\"head_rgbd_sensor_link\")\n",
    "rospy.sleep(.4)"
   ]
  },
  {
   "cell_type": "code",
   "execution_count": 18,
   "metadata": {},
   "outputs": [
    {
     "name": "stdout",
     "output_type": "stream",
     "text": [
      "('point 1 wrt map', [1.3169089801833544, 0.7977896009926003, 8.206350669892615e-06], array([-1.79865787e+02, -8.81512024e-02, -9.00493209e+01]))\n",
      "('point 2 wrt map', [0.9063763864496176, 0.7991389073221828, -7.890319179360004e-05], array([-1.79865787e+02, -8.81571812e-02, -9.00492471e+01]))\n",
      "('point 3 wrt map', [1.1128412035205977, 1.1082187664943657, -0.00012751428080726157], array([-1.79865787e+02, -8.81571812e-02, -9.00492471e+01]))\n",
      "('point 4 wrt map', [1.1147097950690477, 1.6714398034713271, 0.4601428286748125], array([-1.79865787e+02, -8.81571812e-02, -9.00492471e+01]))\n"
     ]
    },
    {
     "data": {
      "text/plain": [
       "<function utils_notebooks.gazebo_2_world>"
      ]
     },
     "execution_count": 18,
     "metadata": {},
     "output_type": "execute_result"
    }
   ],
   "source": [
    "\n",
    "trans , rot = listener.lookupTransform('/map', '/P1', rospy.Time(0))\n",
    "euler=tf.transformations.euler_from_quaternion(rot)\n",
    "\n",
    "print('point 1 wrt map',trans, np.rad2deg(euler))\n",
    "trans , rot = listener.lookupTransform('/map', '/P2', rospy.Time(0))\n",
    "euler=tf.transformations.euler_from_quaternion(rot)\n",
    "\n",
    "print('point 2 wrt map',trans, np.rad2deg(euler))\n",
    "trans , rot = listener.lookupTransform('/map', '/P3', rospy.Time(0))\n",
    "euler=tf.transformations.euler_from_quaternion(rot)\n",
    "\n",
    "print('point 3 wrt map',trans, np.rad2deg(euler))\n",
    "trans , rot = listener.lookupTransform('/map', '/P4', rospy.Time(0))\n",
    "euler=tf.transformations.euler_from_quaternion(rot)\n",
    "\n",
    "print('point 4 wrt map',trans, np.rad2deg(euler))\n",
    "gazebo_2_world"
   ]
  },
  {
   "cell_type": "code",
   "execution_count": null,
   "metadata": {},
   "outputs": [],
   "source": []
  },
  {
   "cell_type": "code",
   "execution_count": 19,
   "metadata": {},
   "outputs": [],
   "source": [
    "image_data=rgbd.get_image()\n",
    "mask=np.zeros((image_data.shape))\n",
    "plane_mask=np.zeros((image_data.shape[0],image_data.shape[1]))\n"
   ]
  },
  {
   "cell_type": "code",
   "execution_count": 20,
   "metadata": {},
   "outputs": [],
   "source": [
    "mask[:,:,0]=points_data['x'] - P1[0]\n",
    "mask[:,:,1]=points_data['y'] - P1[1]\n",
    "mask[:,:,2]=points_data['z'] - P1[2]"
   ]
  },
  {
   "cell_type": "code",
   "execution_count": null,
   "metadata": {},
   "outputs": [],
   "source": []
  },
  {
   "cell_type": "code",
   "execution_count": 21,
   "metadata": {},
   "outputs": [],
   "source": [
    "for i in range (image_data.shape[0]):\n",
    "    for j in range (image_data.shape[1]):\n",
    "        plane_mask[i,j]=-np.dot(np.asarray((nx,ny,nz,)),mask[i,j])"
   ]
  },
  {
   "cell_type": "code",
   "execution_count": 22,
   "metadata": {},
   "outputs": [
    {
     "data": {
      "text/plain": [
       "(480, 640)"
      ]
     },
     "execution_count": 22,
     "metadata": {},
     "output_type": "execute_result"
    }
   ],
   "source": [
    "plane_mask=plane_mask-np.min(plane_mask)\n",
    "plane_mask=plane_mask*256/np.max(plane_mask)\n",
    "plane_mask.shape"
   ]
  },
  {
   "cell_type": "code",
   "execution_count": 23,
   "metadata": {},
   "outputs": [
    {
     "data": {
      "text/plain": [
       "(480, 640)"
      ]
     },
     "execution_count": 23,
     "metadata": {},
     "output_type": "execute_result"
    }
   ],
   "source": [
    "plane_mask.astype('uint8')\n",
    "plane_mask.shape"
   ]
  },
  {
   "cell_type": "code",
   "execution_count": 24,
   "metadata": {},
   "outputs": [
    {
     "data": {
      "text/plain": [
       "<matplotlib.image.AxesImage at 0x7ff1cdd71e10>"
      ]
     },
     "execution_count": 24,
     "metadata": {},
     "output_type": "execute_result"
    },
    {
     "data": {
      "image/png": "[encoded data removed]",
      "text/plain": [
       "<matplotlib.figure.Figure at 0x7ff1cc63d990>"
      ]
     },
     "metadata": {
      "needs_background": "light"
     },
     "output_type": "display_data"
    }
   ],
   "source": [
    "plt.imshow(plane_mask , cmap='prism')"
   ]
  },
  {
   "cell_type": "code",
   "execution_count": 25,
   "metadata": {},
   "outputs": [
    {
     "data": {
      "text/plain": [
       "(0.002042488463562206, 0.002104329772307832, 157.06195834832835)"
      ]
     },
     "execution_count": 25,
     "metadata": {},
     "output_type": "execute_result"
    }
   ],
   "source": [
    "plane_mask[200,1], plane_mask[-1,1],plane_mask[1,1]"
   ]
  },
  {
   "cell_type": "code",
   "execution_count": 26,
   "metadata": {},
   "outputs": [
    {
     "data": {
      "text/plain": [
       "(480, 640)"
      ]
     },
     "execution_count": 26,
     "metadata": {},
     "output_type": "execute_result"
    }
   ],
   "source": [
    "plane_mask.shape\n"
   ]
  },
  {
   "cell_type": "code",
   "execution_count": 27,
   "metadata": {},
   "outputs": [],
   "source": [
    "ret,thresh = cv2.threshold(plane_mask,3,255,0)\n"
   ]
  },
  {
   "cell_type": "code",
   "execution_count": 28,
   "metadata": {},
   "outputs": [
    {
     "data": {
      "text/plain": [
       "<matplotlib.image.AxesImage at 0x7ff1ccffaed0>"
      ]
     },
     "execution_count": 28,
     "metadata": {},
     "output_type": "execute_result"
    },
    {
     "data": {
      "image/png": "[encoded data removed]",
      "text/plain": [
       "<matplotlib.figure.Figure at 0x7ff1cdd70f50>"
      ]
     },
     "metadata": {
      "needs_background": "light"
     },
     "output_type": "display_data"
    }
   ],
   "source": [
    "#FLOOR MASK\n",
    "plt.imshow(thresh) "
   ]
  },
  {
   "cell_type": "code",
   "execution_count": 29,
   "metadata": {},
   "outputs": [
    {
     "name": "stdout",
     "output_type": "stream",
     "text": [
      "('contour', 0, 'area', 1107.5)\n",
      "('contour', 1, 'area', 1991.5)\n",
      "('contour', 3, 'area', 1465.5)\n",
      "('contour', 4, 'area', 209.5)\n",
      "('contour', 5, 'area', 461.5)\n",
      "('contour', 6, 'area', 288.5)\n",
      "('contour', 7, 'area', 849.0)\n",
      "('contour', 9, 'area', 447.0)\n"
     ]
    },
    {
     "data": {
      "text/plain": [
       "<matplotlib.image.AxesImage at 0x7ff1cdda30d0>"
      ]
     },
     "execution_count": 29,
     "metadata": {},
     "output_type": "execute_result"
    },
    {
     "data": {
      "image/png": "[encoded data removed]",
      "text/plain": [
       "<matplotlib.figure.Figure at 0x7ff1cdd70910>"
      ]
     },
     "metadata": {
      "needs_background": "light"
     },
     "output_type": "display_data"
    }
   ],
   "source": [
    "cv2_img=plane_mask.astype('uint8')\n",
    "img=plane_mask.astype('uint8')\n",
    "contours, hierarchy = cv2.findContours(thresh.astype('uint8'),cv2.RETR_TREE,cv2.CHAIN_APPROX_SIMPLE)\n",
    "i=0\n",
    "cents=[]\n",
    "for i, contour in enumerate(contours):\n",
    "    area = cv2.contourArea(contour)\n",
    "    \n",
    "    if area > 200 and area < 50000 :\n",
    "        print('contour',i,'area',area)\n",
    "        \n",
    "        boundRect = cv2.boundingRect(contour)\n",
    "        #just for drawing rect, dont waste too much time on this\n",
    "        img=cv2.rectangle(img,(boundRect[0], boundRect[1]),(boundRect[0]+boundRect[2], boundRect[1]+boundRect[3]), (255,0,0), 2)\n",
    "        # calculate moments for each contour\n",
    "        xyz=[]\n",
    "        \n",
    "        \n",
    "        for jy in range (boundRect[0], boundRect[0]+boundRect[2]):\n",
    "            for ix in range(boundRect[1], boundRect[1]+boundRect[3]):\n",
    "                xyz.append(np.asarray((points_data['x'][ix,jy],points_data['y'][ix,jy],points_data['z'][ix,jy])))\n",
    "        xyz=np.asarray(xyz)\n",
    "        cent=xyz.mean(axis=0)\n",
    "        cents.append(cent)\n",
    "        M = cv2.moments(contour)\n",
    "        # calculate x,y coordinate of center\n",
    "        cX = int(M[\"m10\"] / M[\"m00\"])\n",
    "        cY = int(M[\"m01\"] / M[\"m00\"])\n",
    "        cv2.circle(img, (cX, cY), 5, (255, 255, 255), -1)\n",
    "        cv2.putText(img, \"centroid_\"+str(i)+\"_\"+str(cX)+','+str(cY)    ,    (cX - 25, cY - 25)   ,cv2.FONT_HERSHEY_SIMPLEX, 0.5, (255, 255, 255), 2)\n",
    "cents=np.asarray(cents)\n",
    "plt.imshow(img ,cmap='prism')"
   ]
  },
  {
   "cell_type": "code",
   "execution_count": 30,
   "metadata": {},
   "outputs": [],
   "source": [
    "x,y,z=cents[np.argmin(np.linalg.norm((cents-trans),axis=1))]\n",
    "broadcaster.sendTransform((x,y,z),rot, rospy.Time.now(), 'Closest_Object',\"head_rgbd_sensor_link\")\n",
    "rospy.sleep(.2)"
   ]
  },
  {
   "cell_type": "code",
   "execution_count": 31,
   "metadata": {},
   "outputs": [],
   "source": [
    "###Run again the appropriate blocks to try to look for legos on the way\n",
    "\n",
    "\n",
    "###CAn you navigate through?\n",
    "\n",
    "### Can we pick em up?\n",
    "\n",
    "\n",
    "#PLEASE TRY THINGS HERE"
   ]
  },
  {
   "cell_type": "code",
   "execution_count": 32,
   "metadata": {},
   "outputs": [],
   "source": [
    "cent_map,cent_quat= listener.lookupTransform('/map', 'Closest_Object',rospy.Time(0))\n",
    "cent_euler=tf.transformations.euler_from_quaternion(cent_quat)\n"
   ]
  },
  {
   "cell_type": "code",
   "execution_count": 33,
   "metadata": {},
   "outputs": [],
   "source": [
    "whole_body = moveit_commander.MoveGroupCommander('whole_body')\n",
    "whole_body.allow_replanning(True)\n",
    "whole_body.set_workspace([-3.0, -3.0, 3.0, 3.0])"
   ]
  },
  {
   "cell_type": "code",
   "execution_count": 34,
   "metadata": {},
   "outputs": [
    {
     "data": {
      "text/plain": [
       "True"
      ]
     },
     "execution_count": 34,
     "metadata": {},
     "output_type": "execute_result"
    }
   ],
   "source": [
    "p = PoseStamped()\n",
    "p.header.frame_id = \"hand_palm_link\"#'head_rgbd_sensor_link'   ## ODOM NOR MAP SEEM TO WORK; RRT CONNECT?\n",
    "p.pose.position.x += -0.2\n",
    "p.pose.orientation.w = 1\n",
    "whole_body.set_joint_value_target(p)\n",
    "whole_body.go()"
   ]
  },
  {
   "cell_type": "code",
   "execution_count": 35,
   "metadata": {},
   "outputs": [
    {
     "data": {
      "text/plain": [
       "True"
      ]
     },
     "execution_count": 35,
     "metadata": {},
     "output_type": "execute_result"
    }
   ],
   "source": [
    "p=[0.033749214744071214,\n",
    " -2.1204421063180217,\n",
    " -1.3982377978814715,\n",
    " -1.7296544561013807,\n",
    " 2.135675364707808,\n",
    " 0.0]#whole_body.get_current_pose()\n",
    "\n",
    "arm.set_joint_value_target(p)\n",
    "arm.go()\n"
   ]
  },
  {
   "cell_type": "code",
   "execution_count": null,
   "metadata": {},
   "outputs": [],
   "source": [
    "arm.set_named_target('neutral')\n",
    "arm.go()\n",
    "head.set_named_target('neutral')\n",
    "head.go()"
   ]
  },
  {
   "cell_type": "code",
   "execution_count": null,
   "metadata": {},
   "outputs": [],
   "source": [
    "scene = moveit_commander.PlanningSceneInterface()"
   ]
  },
  {
   "cell_type": "code",
   "execution_count": null,
   "metadata": {},
   "outputs": [],
   "source": [
    "scene_pub = rospy.Publisher('planning_scene',\n",
    "                                         moveit_msgs.msg.PlanningScene,\n",
    "                                         queue_size=5)\n",
    "        "
   ]
  },
  {
   "cell_type": "code",
   "execution_count": null,
   "metadata": {},
   "outputs": [],
   "source": [
    "p_s = moveit_msgs.msg.PlanningScene()\n"
   ]
  },
  {
   "cell_type": "code",
   "execution_count": null,
   "metadata": {},
   "outputs": [],
   "source": [
    "p_s.is_diff = True\n",
    "color = moveit_msgs.msg.ObjectColor()\n",
    "color.id = \"floor\"\n",
    "color.color.g = 0.6\n",
    "color.color.a = 0.9\n",
    "p_s.object_colors.append(color)\n",
    "scene_pub.publish(p_s)"
   ]
  },
  {
   "cell_type": "code",
   "execution_count": null,
   "metadata": {},
   "outputs": [],
   "source": [
    "p = PoseStamped()\n",
    "p.header.frame_id = '/map'\n",
    "p.pose.position.x =cent_map[0]-.1\n",
    "p.pose.position.y = cent_map[1]-.1\n",
    "p.pose.position.z = cent_map[2]\n",
    "p.pose.orientation.w = 1.0\n",
    "scene.add_box('floor', p,(1,1,.02))"
   ]
  },
  {
   "cell_type": "code",
   "execution_count": null,
   "metadata": {},
   "outputs": [],
   "source": [
    "whole_body.set_support_surface_name('floor')"
   ]
  },
  {
   "cell_type": "code",
   "execution_count": null,
   "metadata": {},
   "outputs": [],
   "source": [
    "p = PoseStamped()\n",
    "p.header.frame_id = '/map'\n",
    "p.pose.position.x =cent_map[0]\n",
    "p.pose.position.y = cent_map[1]\n",
    "p.pose.position.z = cent_map[2]\n",
    "p.pose.orientation.w = 1.0\n",
    "scene.add_box('CLOSEST OBJ', p,(.1,.1,.05))"
   ]
  },
  {
   "cell_type": "code",
   "execution_count": null,
   "metadata": {},
   "outputs": [],
   "source": []
  },
  {
   "cell_type": "code",
   "execution_count": null,
   "metadata": {},
   "outputs": [],
   "source": []
  },
  {
   "cell_type": "code",
   "execution_count": null,
   "metadata": {},
   "outputs": [],
   "source": [
    "????"
   ]
  },
  {
   "cell_type": "code",
   "execution_count": null,
   "metadata": {},
   "outputs": [],
   "source": [
    "scene.remove_world_object()"
   ]
  },
  {
   "cell_type": "code",
   "execution_count": null,
   "metadata": {},
   "outputs": [],
   "source": [
    "w\n"
   ]
  },
  {
   "cell_type": "code",
   "execution_count": null,
   "metadata": {},
   "outputs": [],
   "source": [
    "### GO TO TAKESHI NEUTRAL\n",
    "arm.set_named_target(\"go\")\n",
    "arm.go()\n",
    "head.set_named_target(\"neutral\")\n",
    "head.go()"
   ]
  },
  {
   "cell_type": "code",
   "execution_count": null,
   "metadata": {},
   "outputs": [],
   "source": [
    "p = PoseStamped()\n",
    "p.header.frame_id = '/odom'\n",
    "p.pose.position.x =cent_map[0]\n",
    "p.pose.position.y = cent_map[1]\n",
    "p.pose.position.z = cent_map[2]+.4\n",
    "p.pose.orientation.w = 1.0"
   ]
  },
  {
   "cell_type": "code",
   "execution_count": null,
   "metadata": {},
   "outputs": [],
   "source": [
    "whole_body.set_goal_tolerance(.1)"
   ]
  },
  {
   "cell_type": "code",
   "execution_count": null,
   "metadata": {},
   "outputs": [],
   "source": [
    "whole_body.clear_pose_targets()"
   ]
  },
  {
   "cell_type": "code",
   "execution_count": null,
   "metadata": {},
   "outputs": [],
   "source": [
    "whole_body.set_pose_target(p)\n"
   ]
  },
  {
   "cell_type": "code",
   "execution_count": null,
   "metadata": {},
   "outputs": [],
   "source": [
    "whole_body.plan()"
   ]
  },
  {
   "cell_type": "code",
   "execution_count": null,
   "metadata": {},
   "outputs": [],
   "source": []
  }
 ],
 "metadata": {
  "kernelspec": {
   "display_name": "Python 2",
   "language": "python",
   "name": "python2"
  },
  "language_info": {
   "codemirror_mode": {
    "name": "ipython",
    "version": 2
   },
   "file_extension": ".py",
   "mimetype": "text/x-python",
   "name": "python",
   "nbconvert_exporter": "python",
   "pygments_lexer": "ipython2",
   "version": "2.7.17"
  },
  "nbTranslate": {
   "displayLangs": [
    "ja"
   ],
   "hotkey": "alt-t",
   "langInMainMenu": true,
   "sourceLang": "ja",
   "targetLang": "en",
   "useGoogleTranslate": true
  },
  "toc": {
   "base_numbering": 1,
   "nav_menu": {},
   "number_sections": true,
   "sideBar": true,
   "skip_h1_title": false,
   "title_cell": "Table of Contents",
   "title_sidebar": "Contents",
   "toc_cell": false,
   "toc_position": {},
   "toc_section_display": true,
   "toc_window_display": true
  }
 },
 "nbformat": 4,
 "nbformat_minor": 2
}

