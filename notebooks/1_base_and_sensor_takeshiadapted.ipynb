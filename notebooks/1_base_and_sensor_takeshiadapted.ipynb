{
 "cells": [
  {
   "cell_type": "markdown",
   "metadata": {
    "lang": "ja"
   },
   "source": [
    "# 台車の制御とセンサ情報の取得\n",
    "\n",
    "<div class=\"alert alert-block alert-info\">\n",
    "    <b>この章の目的</b>\n",
    "    <p>HSRの台車の制御方法と、センサ情報へのアクセス方法を学習します。</p>\n",
    "</div> "
   ]
  },
  {
   "cell_type": "markdown",
   "metadata": {
    "lang": "en"
   },
   "source": [
    "# Controlling the moving base and capturing sensor information\n",
    "\n",
    "<div class=\"alert alert-block alert-info\">\n",
    "    <b>Objective</b>\n",
    "    <p>In this notebook, we will learn how to control the HSR's moving base and access sensor information.</p>\n",
    "</div>"
   ]
  },
  {
   "cell_type": "markdown",
   "metadata": {
    "lang": "ja"
   },
   "source": [
    "# 台車を制御する"
   ]
  },
  {
   "cell_type": "markdown",
   "metadata": {
    "lang": "en"
   },
   "source": [
    "# Control the moving base   Takeshi  osccicoded (beware)"
   ]
  },
  {
   "cell_type": "markdown",
   "metadata": {
    "lang": "ja"
   },
   "source": [
    "HSRの台車は速度司令で制御することができます。\n",
    "まず、この章で用いるライブラリをインポートし、初期化をします。"
   ]
  },
  {
   "cell_type": "markdown",
   "metadata": {
    "lang": "en"
   },
   "source": [
    "The HSR's moving base can be controlled using velocity commands.\n",
    "First, let's import the library used in this notebook and initialize it."
   ]
  },
  {
   "cell_type": "code",
   "execution_count": 1,
   "metadata": {},
   "outputs": [],
   "source": [
    "import math\n",
    "import rospy\n",
    "import time\n",
    "from geometry_msgs.msg import Twist\n"
   ]
  },
  {
   "cell_type": "code",
   "execution_count": 2,
   "metadata": {},
   "outputs": [],
   "source": [
    "rospy.init_node('base_and_sensor')\n",
    "base_vel_pub = rospy.Publisher('/hsrb/command_velocity', Twist, queue_size=1)\n"
   ]
  },
  {
   "cell_type": "code",
   "execution_count": 3,
   "metadata": {},
   "outputs": [],
   "source": [
    "def move_base_vel(vx, vy, vw):\n",
    "    u\"\"\"台車を速度制御する関数\n",
    "\n",
    "    引数:\n",
    "        vx (float): 直進方向の速度指令値 [m/s]（前進が正、後進が負）\n",
    "        vy (float): 横方向の速度指令値 [m/s]（左が正、右が負）\n",
    "        vw (float): 回転方向の速度指令値 [deg/s]（左回転が正、右回転が負）\n",
    "\n",
    "    \"\"\"\n",
    "\n",
    "    # 速度指令値をセットします\n",
    "    twist = Twist()\n",
    "    twist.linear.x = vx\n",
    "    twist.linear.y = vy\n",
    "    twist.angular.z = vw / 180.0 * math.pi  # 「度」から「ラジアン」に変換します\n",
    "    base_vel_pub.publish(twist)"
   ]
  },
  {
   "cell_type": "markdown",
   "metadata": {
    "lang": "ja"
   },
   "source": [
    "**上級者向け** 台車を動かすには`utils`パッケージで定義された`move_base`関数を使用します。理解できそうな人は中身を読んでみましょう。\n",
    "\n",
    "```python\n",
    "from geometry_msgs.msg import Twist\n",
    "\n",
    "# 速度指令のパブリッシャーを作成\n",
    "base_vel_pub = rospy.Publisher('/hsrb/command_velocity', Twist, queue_size=1)\n",
    "\n",
    "def move_base_vel(vx, vy, vw):\n",
    "    u\"\"\"台車を速度制御する関数\n",
    "\n",
    "    引数:\n",
    "        vx (float): 直進方向の速度指令値 [m/s]（前進が正、後進が負）\n",
    "        vy (float): 横方向の速度指令値 [m/s]（左が正、右が負）\n",
    "        vw (float): 回転方向の速度指令値 [deg/s]（左回転が正、右回転が負）\n",
    "\n",
    "    \"\"\"\n",
    "\n",
    "    # 速度指令値をセットします\n",
    "    twist = Twist()\n",
    "    twist.linear.x = vx\n",
    "    twist.linear.y = vy\n",
    "    twist.angular.z = vw / 180.0 * math.pi  # 「度」から「ラジアン」に変換します\n",
    "    base_vel_pub.publish(twist)  # 速度指令をパブリッシュします\n",
    "```"
   ]
  },
  {
   "cell_type": "markdown",
   "metadata": {
    "lang": "en"
   },
   "source": [
    "**For advanced users**: To move the moving base, we use the `move_base` function defined in the `utils` package. The code is as follows:\n",
    "\n",
    "```python\n",
    "from geometry_msgs.msg import Twist\n",
    "\n",
    "# Create a velocity command publisher\n",
    "base_vel_pub = rospy.Publisher ('/hsrb/command_velocity', Twist, queue_size=1)\n",
    "\n",
    "def move_base_vel (vx, vy, vw):\n",
    "    u \"\"\"Function that controls the velocity of the move base\n",
    "\n",
    "    argument:\n",
    "        vx (float): Velocity command value in the straight direction [m/s] (forward is positive, reverse is negative)\n",
    "        vy (float): Velocity command value in the lateral direction [m/s] (left is positive, right is negative)\n",
    "        vw (float): Velocity command value in the rotation direction [deg/s] (anticlockwise rotation is positive, clockwise rotation is negative)\n",
    "\n",
    "    \"\"\"\n",
    "\n",
    "    # Set velocity command values\n",
    "    twist = Twist ()\n",
    "    twist.linear.x = vx\n",
    "    twist.linear.y = vy\n",
    "    twist.angular.z = vw / 180.0 * math.pi # Convert from \"degree\" to \"radian\"\n",
    "    base_vel_pub.publish (twist) # Publish velocity command\n",
    "```"
   ]
  },
  {
   "cell_type": "markdown",
   "metadata": {
    "lang": "ja"
   },
   "source": [
    "まず、台車を前進させてみましょう。直進させたい場合は以下のようにの速度司令を入力します。ロボットが少し前進すると思います。"
   ]
  },
  {
   "cell_type": "markdown",
   "metadata": {
    "lang": "en"
   },
   "source": [
    "First, let's move the moving base forward. If you want to go straight, enter the velocity command as shown below. The robot should move forward a little:"
   ]
  },
  {
   "cell_type": "code",
   "execution_count": 4,
   "metadata": {},
   "outputs": [],
   "source": [
    "move_base_vel(0, 1, 0)"
   ]
  },
  {
   "cell_type": "markdown",
   "metadata": {
    "lang": "ja"
   },
   "source": [
    "これは、1m/秒の速度で直進することを意味します。\n",
    "\n",
    "台車を後進させるにはマイナスの指令値を入力します。"
   ]
  },
  {
   "cell_type": "markdown",
   "metadata": {
    "lang": "en"
   },
   "source": [
    "The above command means: go forward at a speed of 1 m/sec.\n",
    "\n",
    "You can enter a negative command value to move the move base backward:"
   ]
  },
  {
   "cell_type": "code",
   "execution_count": 5,
   "metadata": {},
   "outputs": [],
   "source": [
    "move_base_vel(-1, 0, 0)"
   ]
  },
  {
   "cell_type": "markdown",
   "metadata": {
    "lang": "ja"
   },
   "source": [
    "HSRの台車は全方向に移動可能です。以下のように速度司令を入力し、左方向に移動させてみましょう。"
   ]
  },
  {
   "cell_type": "markdown",
   "metadata": {
    "lang": "en"
   },
   "source": [
    "The HSR can move in all directions. Enter the velocity command as shown below and move to the left:"
   ]
  },
  {
   "cell_type": "code",
   "execution_count": 6,
   "metadata": {},
   "outputs": [],
   "source": [
    "move_base_vel(0, 1, 0)"
   ]
  },
  {
   "cell_type": "markdown",
   "metadata": {
    "lang": "ja"
   },
   "source": [
    "右方向に移動させるにはマイナスの指令値を入力します。"
   ]
  },
  {
   "cell_type": "markdown",
   "metadata": {
    "lang": "en"
   },
   "source": [
    "Enter a negative command value to move to the right:"
   ]
  },
  {
   "cell_type": "code",
   "execution_count": 7,
   "metadata": {
    "lang": "ja"
   },
   "outputs": [],
   "source": [
    "# 自分で考えてみましょう。この下に入力できます。 Write your code here:\n"
   ]
  },
  {
   "cell_type": "markdown",
   "metadata": {
    "lang": "ja"
   },
   "source": [
    "回転して向いている方向を変えたい場合は、以下のように制御値を設定してください。マイナスの指令値で逆回転することもできます。"
   ]
  },
  {
   "cell_type": "markdown",
   "metadata": {
    "lang": "en"
   },
   "source": [
    "If you want to rotate to change the direction, set the control value as follows. It is also possible to rotate in the reverse direction with a negative command value:"
   ]
  },
  {
   "cell_type": "code",
   "execution_count": 8,
   "metadata": {},
   "outputs": [],
   "source": [
    "move_base_vel(0 , 0, 90)"
   ]
  },
  {
   "cell_type": "markdown",
   "metadata": {
    "lang": "ja"
   },
   "source": [
    "台車を直進させ続けてみましょう。while文を用いることでロボットを動かし続けることができます。"
   ]
  },
  {
   "cell_type": "markdown",
   "metadata": {
    "lang": "en"
   },
   "source": [
    "Let's keep the moving base going forward. You can keep the robot moving by using the `while` statement:"
   ]
  },
  {
   "cell_type": "code",
   "execution_count": 9,
   "metadata": {},
   "outputs": [
    {
     "ename": "KeyboardInterrupt",
     "evalue": "",
     "output_type": "error",
     "traceback": [
      "\u001b[0;31m---------------------------------------------------------------------------\u001b[0m",
      "\u001b[0;31mKeyboardInterrupt\u001b[0m                         Traceback (most recent call last)",
      "\u001b[0;32m<ipython-input-9-4b188e31f2d1>\u001b[0m in \u001b[0;36m<module>\u001b[0;34m()\u001b[0m\n\u001b[1;32m      1\u001b[0m \u001b[0;32mwhile\u001b[0m \u001b[0mTrue\u001b[0m\u001b[0;34m:\u001b[0m\u001b[0;34m\u001b[0m\u001b[0m\n\u001b[0;32m----> 2\u001b[0;31m     \u001b[0mmove_base_vel\u001b[0m\u001b[0;34m(\u001b[0m\u001b[0;36m1\u001b[0m\u001b[0;34m,\u001b[0m \u001b[0;36m0\u001b[0m\u001b[0;34m,\u001b[0m \u001b[0;36m0\u001b[0m\u001b[0;34m)\u001b[0m\u001b[0;34m\u001b[0m\u001b[0m\n\u001b[0m",
      "\u001b[0;32m<ipython-input-3-b0b1495e7690>\u001b[0m in \u001b[0;36mmove_base_vel\u001b[0;34m(vx, vy, vw)\u001b[0m\n\u001b[1;32m     14\u001b[0m     \u001b[0mtwist\u001b[0m\u001b[0;34m.\u001b[0m\u001b[0mlinear\u001b[0m\u001b[0;34m.\u001b[0m\u001b[0my\u001b[0m \u001b[0;34m=\u001b[0m \u001b[0mvy\u001b[0m\u001b[0;34m\u001b[0m\u001b[0m\n\u001b[1;32m     15\u001b[0m     \u001b[0mtwist\u001b[0m\u001b[0;34m.\u001b[0m\u001b[0mangular\u001b[0m\u001b[0;34m.\u001b[0m\u001b[0mz\u001b[0m \u001b[0;34m=\u001b[0m \u001b[0mvw\u001b[0m \u001b[0;34m/\u001b[0m \u001b[0;36m180.0\u001b[0m \u001b[0;34m*\u001b[0m \u001b[0mmath\u001b[0m\u001b[0;34m.\u001b[0m\u001b[0mpi\u001b[0m  \u001b[0;31m# 「度」から「ラジアン」に変換します\u001b[0m\u001b[0;34m\u001b[0m\u001b[0m\n\u001b[0;32m---> 16\u001b[0;31m     \u001b[0mbase_vel_pub\u001b[0m\u001b[0;34m.\u001b[0m\u001b[0mpublish\u001b[0m\u001b[0;34m(\u001b[0m\u001b[0mtwist\u001b[0m\u001b[0;34m)\u001b[0m\u001b[0;34m\u001b[0m\u001b[0m\n\u001b[0m",
      "\u001b[0;32m/opt/ros/melodic/lib/python2.7/dist-packages/rospy/topics.pyc\u001b[0m in \u001b[0;36mpublish\u001b[0;34m(self, *args, **kwds)\u001b[0m\n\u001b[1;32m    880\u001b[0m         \u001b[0;32mtry\u001b[0m\u001b[0;34m:\u001b[0m\u001b[0;34m\u001b[0m\u001b[0m\n\u001b[1;32m    881\u001b[0m             \u001b[0mself\u001b[0m\u001b[0;34m.\u001b[0m\u001b[0mimpl\u001b[0m\u001b[0;34m.\u001b[0m\u001b[0macquire\u001b[0m\u001b[0;34m(\u001b[0m\u001b[0;34m)\u001b[0m\u001b[0;34m\u001b[0m\u001b[0m\n\u001b[0;32m--> 882\u001b[0;31m             \u001b[0mself\u001b[0m\u001b[0;34m.\u001b[0m\u001b[0mimpl\u001b[0m\u001b[0;34m.\u001b[0m\u001b[0mpublish\u001b[0m\u001b[0;34m(\u001b[0m\u001b[0mdata\u001b[0m\u001b[0;34m)\u001b[0m\u001b[0;34m\u001b[0m\u001b[0m\n\u001b[0m\u001b[1;32m    883\u001b[0m         \u001b[0;32mexcept\u001b[0m \u001b[0mgenpy\u001b[0m\u001b[0;34m.\u001b[0m\u001b[0mSerializationError\u001b[0m \u001b[0;32mas\u001b[0m \u001b[0me\u001b[0m\u001b[0;34m:\u001b[0m\u001b[0;34m\u001b[0m\u001b[0m\n\u001b[1;32m    884\u001b[0m             \u001b[0;31m# can't go to rospy.logerr(), b/c this could potentially recurse\u001b[0m\u001b[0;34m\u001b[0m\u001b[0;34m\u001b[0m\u001b[0m\n",
      "\u001b[0;32m/opt/ros/melodic/lib/python2.7/dist-packages/rospy/topics.pyc\u001b[0m in \u001b[0;36mpublish\u001b[0;34m(self, message, connection_override)\u001b[0m\n\u001b[1;32m   1073\u001b[0m                 \u001b[0;32mtry\u001b[0m\u001b[0;34m:\u001b[0m\u001b[0;34m\u001b[0m\u001b[0m\n\u001b[1;32m   1074\u001b[0m                     \u001b[0;32mif\u001b[0m \u001b[0;32mnot\u001b[0m \u001b[0mis_shutdown\u001b[0m\u001b[0;34m(\u001b[0m\u001b[0;34m)\u001b[0m\u001b[0;34m:\u001b[0m\u001b[0;34m\u001b[0m\u001b[0m\n\u001b[0;32m-> 1075\u001b[0;31m                         \u001b[0mc\u001b[0m\u001b[0;34m.\u001b[0m\u001b[0mwrite_data\u001b[0m\u001b[0;34m(\u001b[0m\u001b[0mdata\u001b[0m\u001b[0;34m)\u001b[0m\u001b[0;34m\u001b[0m\u001b[0m\n\u001b[0m\u001b[1;32m   1076\u001b[0m                 \u001b[0;32mexcept\u001b[0m \u001b[0mTransportTerminated\u001b[0m \u001b[0;32mas\u001b[0m \u001b[0me\u001b[0m\u001b[0;34m:\u001b[0m\u001b[0;34m\u001b[0m\u001b[0m\n\u001b[1;32m   1077\u001b[0m                     \u001b[0mlogdebug\u001b[0m\u001b[0;34m(\u001b[0m\u001b[0;34m\"publisher connection to [%s] terminated, see errorlog for details:\\n%s\"\u001b[0m\u001b[0;34m%\u001b[0m\u001b[0;34m(\u001b[0m\u001b[0mc\u001b[0m\u001b[0;34m.\u001b[0m\u001b[0mendpoint_id\u001b[0m\u001b[0;34m,\u001b[0m \u001b[0mtraceback\u001b[0m\u001b[0;34m.\u001b[0m\u001b[0mformat_exc\u001b[0m\u001b[0;34m(\u001b[0m\u001b[0;34m)\u001b[0m\u001b[0;34m)\u001b[0m\u001b[0;34m)\u001b[0m\u001b[0;34m\u001b[0m\u001b[0m\n",
      "\u001b[0;32m/opt/ros/melodic/lib/python2.7/dist-packages/rospy/impl/tcpros_pubsub.pyc\u001b[0m in \u001b[0;36mwrite_data\u001b[0;34m(self, data)\u001b[0m\n\u001b[1;32m    416\u001b[0m                 \u001b[0;32mdel\u001b[0m \u001b[0mself\u001b[0m\u001b[0;34m.\u001b[0m\u001b[0m_queue\u001b[0m\u001b[0;34m[\u001b[0m\u001b[0;36m0\u001b[0m\u001b[0;34m]\u001b[0m\u001b[0;34m\u001b[0m\u001b[0m\n\u001b[1;32m    417\u001b[0m             \u001b[0mself\u001b[0m\u001b[0;34m.\u001b[0m\u001b[0m_queue\u001b[0m\u001b[0;34m.\u001b[0m\u001b[0mappend\u001b[0m\u001b[0;34m(\u001b[0m\u001b[0mdata\u001b[0m\u001b[0;34m)\u001b[0m\u001b[0;34m\u001b[0m\u001b[0m\n\u001b[0;32m--> 418\u001b[0;31m             \u001b[0mself\u001b[0m\u001b[0;34m.\u001b[0m\u001b[0m_cond_data_available\u001b[0m\u001b[0;34m.\u001b[0m\u001b[0mnotify\u001b[0m\u001b[0;34m(\u001b[0m\u001b[0;34m)\u001b[0m\u001b[0;34m\u001b[0m\u001b[0m\n\u001b[0m\u001b[1;32m    419\u001b[0m         \u001b[0;31m# effectively yields the rest of the thread quantum\u001b[0m\u001b[0;34m\u001b[0m\u001b[0;34m\u001b[0m\u001b[0m\n\u001b[1;32m    420\u001b[0m         \u001b[0mtime\u001b[0m\u001b[0;34m.\u001b[0m\u001b[0msleep\u001b[0m\u001b[0;34m(\u001b[0m\u001b[0;36m0\u001b[0m\u001b[0;34m)\u001b[0m\u001b[0;34m\u001b[0m\u001b[0m\n",
      "\u001b[0;31mKeyboardInterrupt\u001b[0m: "
     ]
    }
   ],
   "source": [
    "while True:\n",
    "    move_base_vel(1, 0, 0)"
   ]
  },
  {
   "cell_type": "markdown",
   "metadata": {
    "lang": "ja"
   },
   "source": [
    "壁にぶつかってしまいました。上の■ボタンを押して動作を停止させましょう。\n",
    "![title](./imgs/2_stop_button.png)"
   ]
  },
  {
   "cell_type": "markdown",
   "metadata": {
    "lang": "en"
   },
   "source": [
    "Oops! The robot bumped into the wall. Press the ■ button above to stop our code.\n",
    "![title](./imgs/2_stop_button.png)"
   ]
  },
  {
   "cell_type": "markdown",
   "metadata": {
    "lang": "ja"
   },
   "source": [
    "一定時間動かし続けてみましょう。以下を実行すると3秒間直進させることができます。"
   ]
  },
  {
   "cell_type": "markdown",
   "metadata": {
    "lang": "en"
   },
   "source": [
    "Let's keep it running for a limited period of time. The following code will make the robot go forward for 3 seconds:"
   ]
  },
  {
   "cell_type": "code",
   "execution_count": 10,
   "metadata": {
    "lang": "ja"
   },
   "outputs": [],
   "source": [
    "start_time = rospy.Time.now().to_sec()  # 現在時刻を取得 Get the current time\n",
    "while rospy.Time.now().to_sec() - start_time < 3:  # 3秒経過後ループを抜ける Exit the loop after 3 seconds\n",
    "    move_base_vel(0.5, 0, 0)"
   ]
  },
  {
   "cell_type": "markdown",
   "metadata": {
    "lang": "ja"
   },
   "source": [
    "0.5m/sの速度で3秒間直進させたので、約1.5m前方に進みます。"
   ]
  },
  {
   "cell_type": "markdown",
   "metadata": {
    "lang": "en"
   },
   "source": [
    "The robot went forward for 3 seconds at the speed of 0.5m/s, so it went forward for about 1.5m."
   ]
  },
  {
   "cell_type": "markdown",
   "metadata": {
    "lang": "ja"
   },
   "source": [
    "<div class=\"alert alert-block alert-info\">\n",
    "    <b>課題</b>\n",
    "    <p>初期位置から人の前まで移動をするプログラムを書いてみましょう。</p>\n",
    "    <p>以下のコマンドでHSRを初期位置に戻すことができます。</p>\n",
    "</div>"
   ]
  },
  {
   "cell_type": "markdown",
   "metadata": {
    "lang": "en"
   },
   "source": [
    "<div class=\"alert alert-block alert-info\">\n",
    "    <b>Task</b>\n",
    "    <p>Let's write some code to move the robot from the initial position to the front of the human.</p>\n",
    "    <p>By entering the following command, we can move the robot to the initial position.</p>\n",
    "</div>"
   ]
  },
  {
   "cell_type": "code",
   "execution_count": 11,
   "metadata": {
    "lang": "ja"
   },
   "outputs": [],
   "source": [
    "# 初期位置に戻す Move to the initial position\n"
   ]
  },
  {
   "cell_type": "code",
   "execution_count": 12,
   "metadata": {
    "lang": "ja"
   },
   "outputs": [],
   "source": [
    "# 自分で考えてみましょう。この下に入力できます。 Write your code here:\n"
   ]
  },
  {
   "cell_type": "markdown",
   "metadata": {
    "lang": "ja"
   },
   "source": [
    "# センサ情報を取得する\n",
    "前章ではロボットの動きを人間が教えていました。次はセンサを用いて環境情報を取得して、ロボットを動かしてみましょう。\n",
    "\n",
    "HSRには、例えば以下のセンサが搭載されています。\n",
    "\n",
    "- レーザスキャナ：障害物までの距離を2次元的に測定\n",
    "\n",
    "\n",
    "- RGB-Dカメラ：色情報(RGB)+深度情報(Depth)を測定可能なカメラ\n",
    "\n",
    "\n",
    "- IMU：加速度、角加速度、磁力を測定\n",
    "\n",
    "\n",
    "- エンコーダ：ロボットの各関節角度を測定"
   ]
  },
  {
   "cell_type": "markdown",
   "metadata": {
    "lang": "en"
   },
   "source": [
    "# Capturing sensor information\n",
    "In the previous section, we controlled the movement of the robot using our prior knowledge about the environment. In this section, we will use sensors to acquire environmental information to move the robot.\n",
    "\n",
    "We can use the following sensors installed in HSR:\n",
    "\n",
    "- Laser scanner: Two-dimensional measurement of distance to obstacles\n",
    "\n",
    "- RGB-D camera: A camera that can measure color information (RGB) + depth information (Depth)\n",
    "\n",
    "- IMU: Measures acceleration, angular acceleration, and magnetic force\n",
    "\n",
    "- Encoders: Measures each joint angle of the robot"
   ]
  },
  {
   "cell_type": "markdown",
   "metadata": {
    "lang": "ja"
   },
   "source": [
    "## センサ情報の確認方法"
   ]
  },
  {
   "cell_type": "markdown",
   "metadata": {
    "lang": "en"
   },
   "source": [
    "## How to visualize sensor information"
   ]
  },
  {
   "cell_type": "markdown",
   "metadata": {
    "lang": "ja"
   },
   "source": [
    "rvizを使ってセンサ情報を視覚的に確認してみましょう。\n",
    "\n",
    "まずは、以下のコマンドを実行してrvizを起動します。"
   ]
  },
  {
   "cell_type": "markdown",
   "metadata": {
    "lang": "en"
   },
   "source": [
    "Let's check the sensor information visually using RViz.\n",
    "\n",
    "First, launch RViz by executing the following command:"
   ]
  },
  {
   "cell_type": "code",
   "execution_count": 13,
   "metadata": {},
   "outputs": [
    {
     "name": "stdout",
     "output_type": "stream",
     "text": [
      "Starting job # 0 in a separate thread.\n"
     ]
    }
   ],
   "source": [
    "%%script bash --bg\n",
    "rviz -d data/2_base_and_sensor.rviz > /dev/null 2>&1"
   ]
  },
  {
   "cell_type": "markdown",
   "metadata": {
    "lang": "ja"
   },
   "source": [
    "左の「Displays」の中から興味のあるデータにチェックを入れて、表示してみてください。それぞれのデータの意味は以下のとおりです。\n",
    "\n",
    "- RobotModel: ロボットの自己位置推定、関節角度情報を反映したロボットのCGモデル\n",
    "\n",
    "\n",
    "- LaserScan: レーザスキャナにより測定された障害物までの2次元距離\n",
    "\n",
    "\n",
    "- Image: 頭部に搭載されたRGB-Dカメラからの映像\n",
    "\n",
    "\n",
    "- PointCloud2: RGB-Dカメラから生成された環境の点群情報(ポイントクラウド)"
   ]
  },
  {
   "cell_type": "markdown",
   "metadata": {
    "lang": "en"
   },
   "source": [
    "Please check the data you are interested in using the \"Displays\" panel on the left side of the screen. The meaning of each item is as follows:\n",
    "\n",
    "- RobotModel: Robot CG model that reflects robot position estimation and joint angles.\n",
    "\n",
    "- LaserScan: Two-dimensional distance to obstacles measured by the laser scanner.\n",
    "\n",
    "- Image: Image from the RGB-D camera mounted on the head.\n",
    "\n",
    "- PointCloud2: Point cloud information of the environment generated from the RGB-D camera."
   ]
  },
  {
   "cell_type": "markdown",
   "metadata": {
    "lang": "ja"
   },
   "source": [
    "シミュレータの様子と表示されたデータを比較してみましょう。\n",
    "\n",
    "![title](./imgs/2_rviz_topics.png)"
   ]
  },
  {
   "cell_type": "markdown",
   "metadata": {
    "lang": "en"
   },
   "source": [
    "Let's compare the state of the simulator (in Gazebo) with the displayed data (in RViz).\n",
    "\n",
    "![title](./imgs/2_rviz_topics.png)"
   ]
  },
  {
   "cell_type": "markdown",
   "metadata": {
    "lang": "ja"
   },
   "source": [
    "<div class=\"alert alert-block alert-info\">\n",
    "    <b>課題</b>\n",
    "    <p>HSRが搭載している各種センサ情報をrviz上で確認し、スクリーンショット、スクリーンキャストを表示してみましょう。</p>\n",
    "</div>"
   ]
  },
  {
   "cell_type": "markdown",
   "metadata": {
    "lang": "en"
   },
   "source": [
    "<div class=\"alert alert-block alert-info\">\n",
    "    <b>Task</b>\n",
    "    <p>Check the information from the sensors mounted on the HSR and take screenshots.</p>\n",
    "</div>"
   ]
  },
  {
   "cell_type": "code",
   "execution_count": 14,
   "metadata": {
    "lang": "ja"
   },
   "outputs": [],
   "source": [
    "from sensor_msgs.msg import LaserScan\n",
    "\n",
    "class Laser():\n",
    "    u\"\"\"Class that handles laser information\"\"\"\n",
    "\n",
    "    def __init__(self):\n",
    "        # Register the _laser_cb method as a callback to the laser scan topic events\n",
    "        self._laser_sub = rospy.Subscriber ('/hsrb/base_scan',\n",
    "                                           LaserScan, self._laser_cb)\n",
    "        self._scan_data = None\n",
    "\n",
    "    def _laser_cb (self, msg):\n",
    "        # Laser scan callback function\n",
    "        self._scan_data = msg\n",
    "\n",
    "    def get_data(self):\n",
    "        u\"\"\"Function to get the laser value\"\"\"\n",
    "        return self._scan_data"
   ]
  },
  {
   "cell_type": "code",
   "execution_count": null,
   "metadata": {
    "lang": "ja"
   },
   "outputs": [],
   "source": []
  },
  {
   "cell_type": "markdown",
   "metadata": {
    "lang": "ja"
   },
   "source": [
    "# センサ情報をプログラム上で利用する"
   ]
  },
  {
   "cell_type": "markdown",
   "metadata": {
    "lang": "en"
   },
   "source": [
    "# Using sensor information programmatically"
   ]
  },
  {
   "cell_type": "markdown",
   "metadata": {
    "lang": "ja"
   },
   "source": [
    "センサ情報をプログラム上で利用してみましょう。ここでは、レーザスキャナの情報を利用してみます。\n",
    "\n",
    "**上級者向け** 情報の取得には以下の「クラス」を使用します。興味のある人は見てみてください。\n",
    "\n",
    "\n",
    "```python\n",
    "from sensor_msgs.msg import LaserScan\n",
    "\n",
    "class Laser():\n",
    "    u\"\"\"レーザ情報を扱うクラス\"\"\"\n",
    "\n",
    "    def __init__(self):\n",
    "        # レーザースキャンのサブスクライバのコールバックに_laser_cbメソッドを登録\n",
    "        self._laser_sub = rospy.Subscriber('/hsrb/base_scan',\n",
    "                                           LaserScan, self._laser_cb)\n",
    "        self._scan_data = None\n",
    "\n",
    "    def _laser_cb(self, msg):\n",
    "        # レーザスキャンのコールバック関数\n",
    "        self._scan_data = msg\n",
    "\n",
    "    def get_data(self):\n",
    "        u\"\"\"レーザの値を取得する関数\"\"\"\n",
    "        return self._scan_data\n",
    "```"
   ]
  },
  {
   "cell_type": "markdown",
   "metadata": {
    "lang": "en"
   },
   "source": [
    "Let's use the sensor information in a program. Here, we will use the information from the laser scanner.\n",
    "\n",
    "**For advanced users**: We use the following Python \"class\" to capture the sensor information. If you are interested, please take a look:\n",
    "\n",
    "\n",
    "```python\n",
    "from sensor_msgs.msg import LaserScan\n",
    "\n",
    "class Laser():\n",
    "    u\"\"\"Class that handles laser information\"\"\"\n",
    "\n",
    "    def __init__(self):\n",
    "        # Register the _laser_cb method as a callback to the laser scan topic events\n",
    "        self._laser_sub = rospy.Subscriber ('/hsrb/base_scan',\n",
    "                                           LaserScan, self._laser_cb)\n",
    "        self._scan_data = None\n",
    "\n",
    "    def _laser_cb (self, msg):\n",
    "        # Laser scan callback function\n",
    "        self._scan_data = msg\n",
    "\n",
    "    def get_data(self):\n",
    "        u\"\"\"Function to get the laser value\"\"\"\n",
    "        return self._scan_data\n",
    "```"
   ]
  },
  {
   "cell_type": "markdown",
   "metadata": {
    "lang": "ja"
   },
   "source": [
    "レーザスキャナの情報を取得するために以下を実行します。"
   ]
  },
  {
   "cell_type": "markdown",
   "metadata": {
    "lang": "en"
   },
   "source": [
    "Run the following code to start capturing the laser scanner information:"
   ]
  },
  {
   "cell_type": "code",
   "execution_count": 15,
   "metadata": {},
   "outputs": [],
   "source": [
    "laser = Laser()"
   ]
  },
  {
   "cell_type": "markdown",
   "metadata": {
    "lang": "ja"
   },
   "source": [
    "以下を実行することで、データを取得することができます。取得されたセンサ値を、`scan_data`変数に格納しています。"
   ]
  },
  {
   "cell_type": "markdown",
   "metadata": {
    "lang": "en"
   },
   "source": [
    "We can get the data by calling the `get_data()` member function. Here, we store the sensor value in the `scan_data` variable:"
   ]
  },
  {
   "cell_type": "code",
   "execution_count": 16,
   "metadata": {
    "scrolled": false
   },
   "outputs": [],
   "source": [
    "scan_data = laser.get_data()"
   ]
  },
  {
   "cell_type": "markdown",
   "metadata": {
    "lang": "ja"
   },
   "source": [
    "`scan_data`変数に格納されたセンサ値の中身を見てみましょう。"
   ]
  },
  {
   "cell_type": "markdown",
   "metadata": {
    "lang": "en"
   },
   "source": [
    "Let's take a look at the contents of the sensor value stored in the `scan_data` variable:"
   ]
  },
  {
   "cell_type": "code",
   "execution_count": 17,
   "metadata": {},
   "outputs": [
    {
     "data": {
      "text/plain": [
       "header: \n",
       "  seq: 1689\n",
       "  stamp: \n",
       "    secs: 57\n",
       "    nsecs: 462000000\n",
       "  frame_id: \"base_range_sensor_link\"\n",
       "angle_min: -2.09999990463\n",
       "angle_max: 2.09999990463\n",
       "angle_increment: 0.00583333335817\n",
       "time_increment: 0.0\n",
       "scan_time: 0.0\n",
       "range_min: 0.0500000007451\n",
       "range_max: 60.0\n",
       "ranges: [0.6184132099151611, 0.5193091034889221, 0.5060182213783264, 0.49340638518333435, 0.48142340779304504, 0.47002550959587097, 0.4591693878173828, 0.4488186836242676, 0.438938170671463, 0.30424657464027405, 0.29785171151161194, 0.2917298674583435, 0.28586411476135254, 0.2863180637359619, 0.28681933879852295, 0.2873321771621704, 0.28785666823387146, 0.28839290142059326, 0.28894099593162537, 0.28950104117393494, 0.2900731563568115, 0.2906574606895447, 0.2912540137767792, 0.29186299443244934, 0.2924845218658447, 0.2931186854839325, 0.2937656044960022, 0.29442542791366577, 0.29509830474853516, 0.2957843542098999, 0.29648369550704956, 0.29719647765159607, 0.29792287945747375, 0.29866302013397217, 0.29941707849502563, 0.3001851737499237, 0.3009675145149231, 0.30176421999931335, 0.3025754690170288, 0.3034014403820038, 0.304242342710495, 0.305098295211792, 0.3059695363044739, 0.306856244802475, 0.3077585995197296, 0.3086768388748169, 0.30961111187934875, 0.3105616569519043, 0.3115287125110626, 0.31251245737075806, 0.3135131299495697, 0.31453099846839905, 0.3155662417411804, 0.3166191279888153, 0.3176899254322052, 0.3187788724899292, 0.3198862373828888, 0.3210122883319855, 0.3221572935581207, 0.32332152128219604, 0.3245052993297577, 0.32570886611938477, 0.3269326090812683, 0.32817673683166504, 0.3294416666030884, 0.3307276666164398, 0.332035094499588, 0.3333642780780792, 0.3347155749797821, 0.3360893726348877, 0.33748602867126465, 0.3389059007167816, 0.340349406003952, 0.3418169617652893, 0.3433089554309845, 0.344825804233551, 0.3463679552078247, 0.34793585538864136, 0.3495299518108368, 0.3511507511138916, 0.3527987003326416, 0.3544743061065674, 0.35617807507514954, 0.3579105734825134, 0.35967227816581726, 0.3614637553691864, 0.363285630941391, 0.365138441324234, 0.3670227825641632, 0.3689393103122711, 0.3708886206150055, 0.37287142872810364, 0.3748883605003357, 0.37694013118743896, 0.37902745604515076, 0.3811510503292084, 0.3833116888999939, 0.3855101764202118, 0.38774728775024414, 0.3900238871574402, 0.3923407793045044, 0.3946988880634308, 0.397099107503891, 0.39954236149787903, 0.4020296335220337, 0.40456193685531616, 0.4071402847766876, 0.40976572036743164, 0.41243937611579895, 0.4151623845100403, 0.41793587803840637, 0.4207611083984375, 0.42363929748535156, 0.4265717566013336, 0.4295597970485687, 0.4326048493385315, 0.43570828437805176, 0.4388716220855713, 0.1265907883644104, 0.1260116696357727, 0.12544208765029907, 0.12488186359405518, 0.12433082610368729, 0.12378882616758347, 0.12325570732355118, 0.12273132055997849, 0.12221551686525345, 0.12170815467834473, 0.12120909988880157, 0.12071820348501205, 0.12023534625768661, 0.11976039409637451, 0.1192932203412056, 0.11883371323347092, 0.11838173866271973, 0.11793719232082367, 0.1174999475479126, 0.11706990748643875, 0.11664696037769318, 0.11623099446296692, 0.11582191288471222, 0.11623581498861313, 0.11739352345466614, 0.11857859790325165, 0.11979196220636368, 0.12103457003831863, 0.1223074421286583, 0.12361161410808563, 0.12494820356369019, 0.12631835043430328, 0.12772327661514282, 0.12916426360607147, 0.1306426078081131, 0.1321597546339035, 0.6134427189826965, 0.6116858720779419, 0.6099597215652466, 0.6082639694213867, 0.6065981984138489, 0.6049619913101196, 0.6033551096916199, 0.601777195930481, 0.6002278327941895, 0.5987067818641663, 0.5972136855125427, 0.595748245716095, 0.5943101644515991, 0.5928990840911865, 0.5915148258209229, 0.5901569724082947, 0.5888254046440125, 0.5875197649002075, 0.5862398147583008, 0.5849852561950684, 0.5837559103965759, 0.5825514793395996, 0.5813717246055603, 0.5802164673805237, 0.5790854692459106, 0.5779784917831421, 0.5768953561782837, 0.5758358240127563, 0.574799656867981, 0.573786735534668, 0.5727968215942383, 0.5718297958374023, 0.5708853602409363, 0.5699633955955505, 0.5690637826919556, 0.5681862831115723, 0.5673307776451111, 0.5664970874786377, 0.5656850337982178, 0.5648944973945618, 0.5641253590583801, 0.5633774995803833, 0.5626506805419922, 0.561944842338562, 0.5612598657608032, 0.5605955719947815, 0.559951901435852, 0.5593287348747253, 0.5587259531021118, 0.5581434369087219, 0.5575810670852661, 0.48562243580818176, 0.485169380903244, 0.4847336709499359, 0.4843151867389679, 0.4839138984680176, 0.4835296869277954, 0.483162522315979, 0.4919324517250061, 0.553412139415741, 0.5530465841293335, 0.5527003407478333, 0.5523732900619507, 0.5520654320716858, 0.551776647567749, 0.5515069365501404, 0.5512562394142151, 0.5510244965553284, 0.5508117079734802, 0.5506177544593811, 0.5504426956176758, 0.5502864718437195, 0.5501490831375122, 0.5500304698944092, 0.5499305725097656, 0.5498494505882263, 0.5497870445251465, 0.5497433543205261, 0.5497183799743652, 0.5497121214866638, 0.5497245192527771, 0.5497556924819946, 0.5498055219650269, 0.5498741269111633, 0.5499614477157593, 0.5500674843788147, 0.5501922965049744, 0.5503359436988831, 0.550498366355896, 0.550679624080658, 0.5508797764778137, 0.5510988235473633, 0.5513367652893066, 0.5515937805175781, 0.5518697500228882, 0.5521648526191711, 0.5524790287017822, 0.552812397480011, 0.5531650185585022, 0.5535368919372559, 0.5539281964302063, 0.5543388724327087, 0.5547690987586975, 0.5552188754081726, 0.5556883215904236, 0.5561774969100952, 0.5566864609718323, 0.5572153925895691, 0.5577642917633057, 0.5583332777023315, 0.5589224696159363, 0.5595319867134094, 0.5601618885993958, 0.5608123540878296, 0.5614834427833557, 0.5621752738952637, 0.5628880262374878, 0.5636217594146729, 0.5643766522407532, 0.5651528239250183, 0.5659503936767578, 0.566769540309906, 0.5676104426383972, 0.568473219871521, 0.5693579912185669, 0.5702649354934692, 0.5711942911148071, 0.5721461772918701, 0.5731207132339478, 0.5741181969642639, 0.5751387476921082, 0.5761826038360596, 0.5772498846054077, 0.5783408880233765, 0.5794557929039001, 0.5805947184562683, 0.5817580223083496, 0.5829458832740784, 0.5841584801673889, 0.5853961110115051, 0.5866590142250061, 0.587947428226471, 0.5892615914344788, 0.5906018018722534, 0.591968297958374, 0.5933613777160645, 0.5947813391685486, 0.5962284207344055, 0.5977029800415039, 0.5992052555084229, 0.600735604763031, 0.6022943258285522, 0.6038817763328552, 0.6054982542991638, 0.6071441769599915, 0.6088197827339172, 0.6105255484580994, 0.6122617721557617, 0.614028811454773, 0.6158271431922913, 0.6176571249961853, 0.6195191144943237, 0.6214135885238647, 0.6233409643173218, 0.625301718711853, 0.6272962093353271, 0.6293249726295471, 0.6313884258270264, 0.6334871053695679, 0.6356214880943298, 0.6377920508384705, 0.6399993896484375, 0.6422439813613892, 0.6445263624191284, 0.6468470692634583, 0.6492067575454712, 0.651606023311615, 0.6540453433990479, 0.6565254926681519, 0.65904700756073, 0.6616105437278748, 0.6642168164253235, 0.6668664813041687, 0.6695602536201477, 0.6722988486289978, 0.6750829815864563, 0.6779134273529053, 0.6807909607887268, 0.6837164163589478, 0.686690628528595, 0.6897143721580505, 0.6927885413169861, 0.6959139704704285, 0.6990916728973389, 0.7023225426673889, 0.705607533454895, 0.7089475989341736, 0.7123438715934753, 0.7157972455024719, 0.7193088531494141, 0.7228798270225525, 0.7265112996101379, 0.7302044034004211, 0.7339603304862976, 0.7377803325653076, 0.7416657209396362, 0.745617687702179, 0.7496377229690552, 0.7537270784378052, 0.7578871846199036, 0.7621195912361145, 0.7664257884025574, 0.7708072662353516, 0.775265634059906, 0.7798026204109192, 0.7844198346138, 0.7891190648078918, 0.7939020991325378, 0.7987708449363708, 0.8037272095680237, 0.8087731599807739, 0.813910722732544, 0.8191419839859009, 0.8244692087173462, 0.8298946022987366, 0.8354204893112183, 0.8410492539405823, 0.8467833995819092, 0.8526254892349243, 0.8585781455039978, 0.8646441698074341, 0.8708263039588928, 0.8771275877952576, 0.8835510015487671, 0.8900997042655945, 0.8967769145965576, 0.9035860896110535, 0.910530686378479, 0.9176142811775208, 0.9248406887054443, 0.9322137832641602, 0.9397376179695129, 0.9474164247512817, 0.9552544951438904, 0.9632564187049866, 0.9714268445968628, 0.9797706604003906, 0.9882929921150208, 0.9969991445541382, 1.0058945417404175, 1.0149849653244019, 1.0242763757705688, 1.033774971961975, 1.0434871912002563, 1.053419828414917, 1.0635799169540405, 1.0739747285842896, 1.0846121311187744, 1.0954999923706055, 1.1066466569900513, 1.1180609464645386, 1.1297519207000732, 1.1417293548583984, 1.1540030241012573, 1.1665836572647095, 1.1794822216033936, 1.192710280418396, 1.2062797546386719, 1.2202036380767822, 1.2344952821731567, 1.2491686344146729, 1.2642384767532349, 1.2797205448150635, 1.2956310510635376, 1.3119874000549316, 1.208619236946106, 1.205451250076294, 1.2023407220840454, 1.2074123620986938, 1.401131510734558, 1.420583724975586, 1.4406334161758423, 1.4613075256347656, 1.4826349020004272, 1.5046459436416626, 1.527373194694519, 1.3159511089324951, 1.3109357357025146, 1.3081161975860596, 1.3053531646728516, 1.3026460409164429, 1.2999941110610962, 1.2973971366882324, 1.2948544025421143, 1.2923656702041626, 1.2899301052093506, 1.2875475883483887, 1.2852174043655396, 1.2829391956329346, 1.280712604522705, 1.2785371541976929, 1.2764124870300293, 1.2743381261825562, 1.2723137140274048, 1.2703388929367065, 1.2684131860733032, 1.2665364742279053, 1.2647082805633545, 1.2629281282424927, 1.2611960172653198, 1.2595113515853882, 1.2578738927841187, 1.2562834024429321, 1.2547396421432495, 1.2532421350479126, 1.2517908811569214, 1.2503854036331177, 1.249025583267212, 1.2477110624313354, 1.2464417219161987, 1.2452173233032227, 1.2440375089645386, 1.2429022789001465, 1.2418112754821777, 1.2407643795013428, 1.239761471748352, 1.238802194595337, 1.2378865480422974, 1.2370142936706543, 1.2361853122711182, 1.106828212738037, 1.1061679124832153, 1.1055458784103394, 1.507169246673584, 1.6136832237243652, 1.7364606857299805, 1.8795291185379028, 2.0483651161193848, 2.1742923259735107, 2.1735804080963135, 2.172942638397217, 2.172379493713379, 2.1718902587890625, 2.1714751720428467, 2.1711342334747314, 2.1708672046661377, 2.1706740856170654, 2.1705546379089355, 2.1705093383789062, 2.1705377101898193, 2.170640230178833, 2.170816421508789, 2.1710665225982666, 2.1713905334472656, 2.1717886924743652, 2.1722607612609863, 2.172807216644287, 2.1734278202056885, 2.1741225719451904, 2.174891948699951, 2.17573618888855, 2.176654815673828, 2.1776485443115234, 2.1787171363830566, 2.179861307144165, 2.1810808181762695, 2.182375907897949, 2.183746814727783, 2.1851940155029297, 2.1867175102233887, 2.1883177757263184, 2.1899948120117188, 2.191749095916748, 2.1935808658599854, 2.195490598678589, 2.1974785327911377, 2.199544668197632, 2.2016899585723877, 2.2039144039154053, 2.2062184810638428, 2.2086026668548584, 2.2110674381256104, 2.2136130332946777, 2.2162399291992188, 2.2189486026763916, 2.2217397689819336, 2.224613666534424, 2.2275710105895996, 2.23061203956604, 2.2337377071380615, 2.236948251724243, 2.2402443885803223, 2.243626594543457, 2.247095823287964, 2.250652313232422, 2.2542970180511475, 2.258030652999878, 2.2618534564971924, 2.2657666206359863, 2.269770860671997, 2.2738664150238037, 2.278054714202881, 2.2823362350463867, 2.2867119312286377, 2.291182279586792, 2.295748710632324, 2.3004117012023926, 2.3051722049713135, 2.3100311756134033, 2.3149898052215576, 2.3200488090515137, 2.325209140777588, 2.330471992492676, 2.335838556289673, 2.3413095474243164, 2.346886396408081, 2.352570056915283, 2.3583617210388184, 2.364262819290161, 2.370274305343628, 2.3763973712921143, 2.3826334476470947, 2.388983964920044, 2.3954501152038574, 2.4020333290100098, 2.4087350368499756, 2.4155566692352295, 2.422499656677246, 2.4295654296875, 2.436755895614624, 2.4440724849700928, 2.45151686668396, 2.4590904712677, 2.4667954444885254, 2.47463321685791, 2.4826056957244873, 2.4907145500183105, 2.498962163925171, 2.507349967956543, 2.5158803462982178, 2.524554967880249, 2.5333762168884277, 2.542346239089966, 2.551466941833496, 2.5607409477233887, 2.5701704025268555, 2.5797574520111084, 2.5895049571990967, 2.5994150638580322, 2.609490394592285, 2.6197338104248047, 2.630147695541382, 2.640734910964966, 2.651498317718506, 2.662440776824951, 2.67356538772583, 2.684875011444092, 2.6963729858398438, 2.708062171936035, 2.7199461460113525, 2.7320284843444824, 2.744312286376953, 2.756801128387451, 2.7694990634918213, 2.78240966796875, 2.795536518096924, 2.8088841438293457, 2.822456121444702, 2.836256980895996, 2.8502907752990723, 2.8645622730255127, 2.879075765609741, 2.893836259841919, 2.9088480472564697, 2.924116611480713, 2.9396469593048096, 2.955444097518921, 2.971513509750366, 2.987861156463623, 3.0044922828674316, 3.0214128494262695, 3.0386292934417725, 3.056147575378418, 3.073974132537842, 3.092115640640259, 3.110579252243042, 3.1293716430664062, 3.148500442504883, 3.167973041534424, 3.1877968311309814, 3.2079803943634033, 3.2285315990448, 3.2494592666625977, 3.2707719802856445, 3.2924787998199463, 3.314589262008667, 3.3371129035949707, 3.360059976577759, 3.3834407329559326, 3.4072659015655518, 3.431546449661255, 3.456294298171997, 3.481520652770996, 3.5072383880615234, 3.5334601402282715, 3.5601987838745117, 3.587468385696411, 3.6152827739715576, 3.6436567306518555, 3.6726057529449463, 3.7021453380584717, 3.7322919368743896, 3.7630627155303955, 3.7944753170013428, 3.8265480995178223, 3.859299898147583, 3.8927509784698486, 3.926921844482422, 3.9618337154388428, 3.997509479522705, 4.033971786499023, 4.0712456703186035, 4.109355449676514, 4.1483283042907715, 4.188190937042236, 4.228972434997559, 4.270702838897705, 4.313413619995117, 4.3571367263793945, 4.401906490325928, 4.44775915145874, 4.494731426239014, 4.542862415313721, 4.592193603515625, 4.642767906188965, 4.694629669189453, 4.74782657623291, 4.802408218383789, 4.858427047729492, 4.9159369468688965, 4.974996089935303, 5.035665035247803, 5.098007678985596, 5.16209077835083, 5.2279863357543945, 5.295767784118652, 5.365515232086182, 5.43731164932251, 2.556934118270874, 2.550602674484253, 2.544389009475708, 2.5382914543151855, 2.5323092937469482, 2.5264408588409424, 2.5206851959228516, 2.5150411128997803, 2.509507179260254, 2.5040829181671143, 2.4987666606903076, 2.4935576915740967, 2.488455057144165, 2.483457326889038, 2.4785640239715576, 2.473773956298828, 1.9958457946777344, 1.9952207803726196, 2.4600138664245605]\n",
       "intensities: [0.0, 0.0, 0.0, 0.0, 0.0, 0.0, 0.0, 0.0, 0.0, 0.0, 0.0, 0.0, 0.0, 0.0, 0.0, 0.0, 0.0, 0.0, 0.0, 0.0, 0.0, 0.0, 0.0, 0.0, 0.0, 0.0, 0.0, 0.0, 0.0, 0.0, 0.0, 0.0, 0.0, 0.0, 0.0, 0.0, 0.0, 0.0, 0.0, 0.0, 0.0, 0.0, 0.0, 0.0, 0.0, 0.0, 0.0, 0.0, 0.0, 0.0, 0.0, 0.0, 0.0, 0.0, 0.0, 0.0, 0.0, 0.0, 0.0, 0.0, 0.0, 0.0, 0.0, 0.0, 0.0, 0.0, 0.0, 0.0, 0.0, 0.0, 0.0, 0.0, 0.0, 0.0, 0.0, 0.0, 0.0, 0.0, 0.0, 0.0, 0.0, 0.0, 0.0, 0.0, 0.0, 0.0, 0.0, 0.0, 0.0, 0.0, 0.0, 0.0, 0.0, 0.0, 0.0, 0.0, 0.0, 0.0, 0.0, 0.0, 0.0, 0.0, 0.0, 0.0, 0.0, 0.0, 0.0, 0.0, 0.0, 0.0, 0.0, 0.0, 0.0, 0.0, 0.0, 0.0, 0.0, 0.0, 0.0, 0.0, 0.0, 0.0, 0.0, 0.0, 0.0, 0.0, 0.0, 0.0, 0.0, 0.0, 0.0, 0.0, 0.0, 0.0, 0.0, 0.0, 0.0, 0.0, 0.0, 0.0, 0.0, 0.0, 0.0, 0.0, 0.0, 0.0, 0.0, 0.0, 0.0, 0.0, 0.0, 0.0, 0.0, 0.0, 0.0, 0.0, 0.0, 0.0, 0.0, 0.0, 0.0, 0.0, 0.0, 0.0, 0.0, 0.0, 0.0, 0.0, 0.0, 0.0, 0.0, 0.0, 0.0, 0.0, 0.0, 0.0, 0.0, 0.0, 0.0, 0.0, 0.0, 0.0, 0.0, 0.0, 0.0, 0.0, 0.0, 0.0, 0.0, 0.0, 0.0, 0.0, 0.0, 0.0, 0.0, 0.0, 0.0, 0.0, 0.0, 0.0, 0.0, 0.0, 0.0, 0.0, 0.0, 0.0, 0.0, 0.0, 0.0, 0.0, 0.0, 0.0, 0.0, 0.0, 0.0, 0.0, 0.0, 0.0, 0.0, 0.0, 0.0, 0.0, 0.0, 0.0, 0.0, 0.0, 0.0, 0.0, 0.0, 0.0, 0.0, 0.0, 0.0, 0.0, 0.0, 0.0, 0.0, 0.0, 0.0, 0.0, 0.0, 0.0, 0.0, 0.0, 0.0, 0.0, 0.0, 0.0, 0.0, 0.0, 0.0, 0.0, 0.0, 0.0, 0.0, 0.0, 0.0, 0.0, 0.0, 0.0, 0.0, 0.0, 0.0, 0.0, 0.0, 0.0, 0.0, 0.0, 0.0, 0.0, 0.0, 0.0, 0.0, 0.0, 0.0, 0.0, 0.0, 0.0, 0.0, 0.0, 0.0, 0.0, 0.0, 0.0, 0.0, 0.0, 0.0, 0.0, 0.0, 0.0, 0.0, 0.0, 0.0, 0.0, 0.0, 0.0, 0.0, 0.0, 0.0, 0.0, 0.0, 0.0, 0.0, 0.0, 0.0, 0.0, 0.0, 0.0, 0.0, 0.0, 0.0, 0.0, 0.0, 0.0, 0.0, 0.0, 0.0, 0.0, 0.0, 0.0, 0.0, 0.0, 0.0, 0.0, 0.0, 0.0, 0.0, 0.0, 0.0, 0.0, 0.0, 0.0, 0.0, 0.0, 0.0, 0.0, 0.0, 0.0, 0.0, 0.0, 0.0, 0.0, 0.0, 0.0, 0.0, 0.0, 0.0, 0.0, 0.0, 0.0, 0.0, 0.0, 0.0, 0.0, 0.0, 0.0, 0.0, 0.0, 0.0, 0.0, 0.0, 0.0, 0.0, 0.0, 0.0, 0.0, 0.0, 0.0, 0.0, 0.0, 0.0, 0.0, 0.0, 0.0, 0.0, 0.0, 0.0, 0.0, 0.0, 0.0, 0.0, 0.0, 0.0, 0.0, 0.0, 0.0, 0.0, 0.0, 0.0, 0.0, 0.0, 0.0, 0.0, 0.0, 0.0, 0.0, 0.0, 0.0, 0.0, 0.0, 0.0, 0.0, 0.0, 0.0, 0.0, 0.0, 0.0, 0.0, 0.0, 0.0, 0.0, 0.0, 0.0, 0.0, 0.0, 0.0, 0.0, 0.0, 0.0, 0.0, 0.0, 0.0, 0.0, 0.0, 0.0, 0.0, 0.0, 0.0, 0.0, 0.0, 0.0, 0.0, 0.0, 0.0, 0.0, 0.0, 0.0, 0.0, 0.0, 0.0, 0.0, 0.0, 0.0, 0.0, 0.0, 0.0, 0.0, 0.0, 0.0, 0.0, 0.0, 0.0, 0.0, 0.0, 0.0, 0.0, 0.0, 0.0, 0.0, 0.0, 0.0, 0.0, 0.0, 0.0, 0.0, 0.0, 0.0, 0.0, 0.0, 0.0, 0.0, 0.0, 0.0, 0.0, 0.0, 0.0, 0.0, 0.0, 0.0, 0.0, 0.0, 0.0, 0.0, 0.0, 0.0, 0.0, 0.0, 0.0, 0.0, 0.0, 0.0, 0.0, 0.0, 0.0, 0.0, 0.0, 0.0, 0.0, 0.0, 0.0, 0.0, 0.0, 0.0, 0.0, 0.0, 0.0, 0.0, 0.0, 0.0, 0.0, 0.0, 0.0, 0.0, 0.0, 0.0, 0.0, 0.0, 0.0, 0.0, 0.0, 0.0, 0.0, 0.0, 0.0, 0.0, 0.0, 0.0, 0.0, 0.0, 0.0, 0.0, 0.0, 0.0, 0.0, 0.0, 0.0, 0.0, 0.0, 0.0, 0.0, 0.0, 0.0, 0.0, 0.0, 0.0, 0.0, 0.0, 0.0, 0.0, 0.0, 0.0, 0.0, 0.0, 0.0, 0.0, 0.0, 0.0, 0.0, 0.0, 0.0, 0.0, 0.0, 0.0, 0.0, 0.0, 0.0, 0.0, 0.0, 0.0, 0.0, 0.0, 0.0, 0.0, 0.0, 0.0, 0.0, 0.0, 0.0, 0.0, 0.0, 0.0, 0.0, 0.0, 0.0, 0.0, 0.0, 0.0, 0.0, 0.0, 0.0, 0.0, 0.0, 0.0, 0.0, 0.0, 0.0, 0.0, 0.0, 0.0, 0.0, 0.0, 0.0, 0.0, 0.0, 0.0, 0.0, 0.0, 0.0, 0.0, 0.0, 0.0, 0.0, 0.0, 0.0, 0.0, 0.0, 0.0, 0.0, 0.0, 0.0, 0.0, 0.0, 0.0, 0.0, 0.0, 0.0, 0.0, 0.0, 0.0, 0.0, 0.0, 0.0, 0.0, 0.0, 0.0, 0.0, 0.0, 0.0, 0.0, 0.0, 0.0, 0.0, 0.0, 0.0, 0.0, 0.0, 0.0, 0.0, 0.0, 0.0, 0.0, 0.0, 0.0, 0.0, 0.0, 0.0, 0.0, 0.0, 0.0, 0.0, 0.0, 0.0, 0.0, 0.0, 0.0, 0.0, 0.0, 0.0, 0.0, 0.0, 0.0, 0.0, 0.0, 0.0, 0.0, 0.0, 0.0, 0.0, 0.0, 0.0, 0.0, 0.0, 0.0, 0.0, 0.0, 0.0, 0.0, 0.0, 0.0, 0.0, 0.0, 0.0, 0.0, 0.0, 0.0, 0.0, 0.0, 0.0, 0.0, 0.0, 0.0, 0.0, 0.0, 0.0, 0.0, 0.0, 0.0, 0.0, 0.0, 0.0, 0.0, 0.0, 0.0, 0.0, 0.0, 0.0, 0.0, 0.0, 0.0, 0.0, 0.0]"
      ]
     },
     "execution_count": 17,
     "metadata": {},
     "output_type": "execute_result"
    }
   ],
   "source": [
    "scan_data"
   ]
  },
  {
   "cell_type": "markdown",
   "metadata": {
    "lang": "ja"
   },
   "source": [
    "センサ値は、Pythonの「構造体」を使って格納されます。\n",
    "\n",
    "構造体の中身は「変数名.構造体の要素名」でアクセスできます。"
   ]
  },
  {
   "cell_type": "markdown",
   "metadata": {
    "lang": "en"
   },
   "source": [
    "Sensor values are stored using Python \"data structures\".\n",
    "\n",
    "The contents of a data structure can be accessed via \"[variable name].[structure element name]\"."
   ]
  },
  {
   "cell_type": "markdown",
   "metadata": {
    "lang": "ja"
   },
   "source": [
    "例えば、`angle_min`, `angle_max`には、レーザスキャナのスキャン範囲（-120度から120度）がラジアンで格納されています。"
   ]
  },
  {
   "cell_type": "markdown",
   "metadata": {
    "lang": "en"
   },
   "source": [
    "For example, `angle_min` and` angle_max` contain the scan range of the laser scanner (-120 to 120 degrees) in radians:"
   ]
  },
  {
   "cell_type": "code",
   "execution_count": 18,
   "metadata": {
    "lang": "ja"
   },
   "outputs": [
    {
     "data": {
      "text/plain": [
       "120.32113151332155"
      ]
     },
     "execution_count": 18,
     "metadata": {},
     "output_type": "execute_result"
    }
   ],
   "source": [
    "# scan_data.angle_maxの値をラジアンからdegに変換します Convert value of scan_data.angle_max from radians to deg\n",
    "scan_data.angle_max / math.pi * 180  # math.pi = π"
   ]
  },
  {
   "cell_type": "markdown",
   "metadata": {
    "lang": "ja"
   },
   "source": [
    "レーザスキャナのデータ本体は、`ranges`という名前の配列に格納されており、配列の長さは721のようです。"
   ]
  },
  {
   "cell_type": "markdown",
   "metadata": {
    "lang": "en"
   },
   "source": [
    "The actual laser scanner data is stored in the array named `ranges`, and the length of the array seems to be 721:"
   ]
  },
  {
   "cell_type": "code",
   "execution_count": 19,
   "metadata": {
    "lang": "ja"
   },
   "outputs": [
    {
     "data": {
      "text/plain": [
       "721"
      ]
     },
     "execution_count": 19,
     "metadata": {},
     "output_type": "execute_result"
    }
   ],
   "source": [
    "# データの配列の長さを取得 Get length of the array\n",
    "len(scan_data.ranges)"
   ]
  },
  {
   "cell_type": "markdown",
   "metadata": {
    "lang": "ja"
   },
   "source": [
    "スキャン範囲（-120度から120度）上の各観測点がデータ化されているので、配列の真ん中（=361番目）の要素が「ロボット正面から壁までの距離」を表します。\n",
    "\n",
    "センサ値の単位はメートルです。"
   ]
  },
  {
   "cell_type": "markdown",
   "metadata": {
    "lang": "en"
   },
   "source": [
    "Since each observation point on the scan range (-120 degrees to 120 degrees) is digitized from left to right, the element in the middle of the array (= 361th) represents the \"distance from the front of the robot to the wall\".\n",
    "\n",
    "The unit of sensor value is meters."
   ]
  },
  {
   "cell_type": "code",
   "execution_count": 20,
   "metadata": {
    "lang": "ja"
   },
   "outputs": [
    {
     "data": {
      "text/plain": [
       "0.745617687702179"
      ]
     },
     "execution_count": 20,
     "metadata": {},
     "output_type": "execute_result"
    }
   ],
   "source": [
    "# 361番目のデータにアクセス Access the 361th data\n",
    "scan_data.ranges[360]"
   ]
  },
  {
   "cell_type": "markdown",
   "metadata": {
    "lang": "ja"
   },
   "source": [
    "# センサ値を使ってロボットを制御する"
   ]
  },
  {
   "cell_type": "markdown",
   "metadata": {
    "lang": "en"
   },
   "source": [
    "# Controlling the robot using sensor values"
   ]
  },
  {
   "cell_type": "markdown",
   "metadata": {
    "lang": "ja"
   },
   "source": [
    "センサ値を使ってロボットを制御してみましょう。"
   ]
  },
  {
   "cell_type": "markdown",
   "metadata": {
    "lang": "en"
   },
   "source": [
    "Let's control the robot using sensor values."
   ]
  },
  {
   "cell_type": "markdown",
   "metadata": {
    "lang": "ja"
   },
   "source": [
    "壁の1メートル手前で止まる（壁の1メートル手前まで前進する）プログラムを書いてみましょう。\n",
    "\n",
    "while文を使うと以下のように書けると思います。"
   ]
  },
  {
   "cell_type": "markdown",
   "metadata": {
    "lang": "en"
   },
   "source": [
    "Let's write a program that stops 1 meter before the wall (go straight until the robot reaches 1 meter before the wall).\n",
    "\n",
    "You can use `while` statement to write your code:"
   ]
  },
  {
   "cell_type": "code",
   "execution_count": 21,
   "metadata": {
    "lang": "ja"
   },
   "outputs": [],
   "source": [
    "while True:\n",
    "    scan_data = laser.get_data()\n",
    "    if scan_data.ranges[360] < 1.0:  # 1メートル以内になったらwhileループを抜ける Exit the while loop if within 1 meter\n",
    "        break\n",
    "        \n",
    "    move_base_vel(0.5, 0, 0)"
   ]
  },
  {
   "cell_type": "markdown",
   "metadata": {
    "lang": "ja"
   },
   "source": [
    "<div class=\"alert alert-block alert-info\">\n",
    "    <b>課題</b>\n",
    "    <p>初期位置から人の前まで移動するプログラムを書いてみましょう。今回はレーザの値を用いましょう。</p>\n",
    "</div>"
   ]
  },
  {
   "cell_type": "markdown",
   "metadata": {
    "lang": "en"
   },
   "source": [
    "<div class=\"alert alert-block alert-info\">\n",
    "    <b>Task</b>\n",
    "    <p>Let's write some code to move the robot from the initial position to the front of the human.</p>\n",
    "    <p>This time, use the laser scanner value to ensure the movement.</p>\n",
    "</div>"
   ]
  },
  {
   "cell_type": "code",
   "execution_count": 22,
   "metadata": {
    "lang": "ja"
   },
   "outputs": [],
   "source": [
    "# 自分で考えてみましょう。この下に入力できます。 Write your code here:\n"
   ]
  },
  {
   "cell_type": "markdown",
   "metadata": {
    "lang": "ja"
   },
   "source": [
    "<div class=\"alert alert-block alert-info\">\n",
    "    <b>アドバンスド課題</b>\n",
    "    <p>余裕がある人は「壁にぶつからないで部屋を動き回る」プログラムを書いてみましょう。</p>\n",
    "</div>"
   ]
  },
  {
   "cell_type": "markdown",
   "metadata": {
    "lang": "en"
   },
   "source": [
    "<div class=\"alert alert-block alert-info\">\n",
    "    <b>Advanced task</b>\n",
    "    <p>If possible, write code to \"move around the room without hitting the wall\".</p>\n",
    "</div>"
   ]
  },
  {
   "cell_type": "code",
   "execution_count": 23,
   "metadata": {
    "lang": "ja"
   },
   "outputs": [],
   "source": [
    "# 自分で考えてみましょう。この下に入力できます。 Write your code here:\n"
   ]
  },
  {
   "cell_type": "markdown",
   "metadata": {
    "lang": "ja"
   },
   "source": [
    "<div class=\"alert alert-block alert-info\">\n",
    "    <b>次の学習</b>\n",
    "    <p>レーザスキャナの値と部屋の形状をマッチングすることで、ロボットの絶対位置を計算する「自己位置推定」が可能になります。</p>\n",
    "    <p>HSRに搭載されている自己位置推定に基づいた高度な移動機能を使ってみましょう。</p>\n",
    "</div>"
   ]
  },
  {
   "cell_type": "markdown",
   "metadata": {
    "lang": "en"
   },
   "source": [
    "<div class=\"alert alert-block alert-info\">\n",
    "    <b>What's next?</b>\n",
    "    <p>By comparing the laser scan variable to the room shape, it is possible to \"localize\" the robot's absolute position in the room.</p>\n",
    "    <p>We will learn how to use high level moving function, based on the localization function installed in HSR.</p>\n",
    "</div>"
   ]
  },
  {
   "cell_type": "code",
   "execution_count": 24,
   "metadata": {},
   "outputs": [],
   "source": [
    "## GET TF .. moveit gaze poiunt for takeshi version example"
   ]
  },
  {
   "cell_type": "code",
   "execution_count": null,
   "metadata": {},
   "outputs": [],
   "source": []
  },
  {
   "cell_type": "code",
   "execution_count": null,
   "metadata": {},
   "outputs": [],
   "source": []
  },
  {
   "cell_type": "code",
   "execution_count": null,
   "metadata": {},
   "outputs": [],
   "source": []
  }
 ],
 "metadata": {
  "kernelspec": {
   "display_name": "Python 2",
   "language": "python",
   "name": "python2"
  },
  "language_info": {
   "codemirror_mode": {
    "name": "ipython",
    "version": 2
   },
   "file_extension": ".py",
   "mimetype": "text/x-python",
   "name": "python",
   "nbconvert_exporter": "python",
   "pygments_lexer": "ipython2",
   "version": "2.7.17"
  },
  "nbTranslate": {
   "displayLangs": [
    "ja",
    "en"
   ],
   "hotkey": "alt-t",
   "langInMainMenu": true,
   "sourceLang": "ja",
   "targetLang": "en",
   "useGoogleTranslate": true
  },
  "toc": {
   "base_numbering": 1,
   "nav_menu": {},
   "number_sections": true,
   "sideBar": true,
   "skip_h1_title": false,
   "title_cell": "Table of Contents",
   "title_sidebar": "Contents",
   "toc_cell": false,
   "toc_position": {},
   "toc_section_display": true,
   "toc_window_display": true
  }
 },
 "nbformat": 4,
 "nbformat_minor": 2
}
