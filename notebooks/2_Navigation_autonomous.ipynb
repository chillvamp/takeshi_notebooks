{
 "cells": [
  {
   "cell_type": "code",
   "execution_count": 1,
   "metadata": {},
   "outputs": [],
   "source": [
    "from geometry_msgs.msg import Point, PoseStamped, Quaternion\n",
    "import rospy\n",
    "import tf.transformations\n",
    "\n",
    "rospy.init_node('test')\n",
    "\n"
   ]
  },
  {
   "cell_type": "code",
   "execution_count": 5,
   "metadata": {},
   "outputs": [],
   "source": [
    "# initialize ROS publisher\n",
    "pub = rospy.Publisher('goal', PoseStamped, queue_size=10)\n",
    "\n",
    "# wait to establish connection between the navigation interface\n",
    "# move_base and navigation_log_recorder node\n",
    "\n"
   ]
  },
  {
   "cell_type": "code",
   "execution_count": 3,
   "metadata": {},
   "outputs": [],
   "source": [
    "def move_base(x,y,th, ref='map'):\n",
    "    # input goal pose\n",
    "    goal_x = x\n",
    "    goal_y = y\n",
    "    goal_yaw =th\n",
    "\n",
    "    # fill ROS message\n",
    "    goal = PoseStamped()\n",
    "    goal.header.stamp = rospy.Time.now()\n",
    "    goal.header.frame_id = ref\n",
    "    goal.pose.position = Point(goal_x, goal_y, 0)\n",
    "    quat = tf.transformations.quaternion_from_euler(0, 0, goal_yaw)\n",
    "    goal.pose.orientation = Quaternion(*quat)\n",
    "    # publish ROS message\n",
    "    pub.publish(goal)\n",
    "    "
   ]
  },
  {
   "cell_type": "code",
   "execution_count": 4,
   "metadata": {},
   "outputs": [],
   "source": [
    "move_base(1,0,1.57)"
   ]
  },
  {
   "cell_type": "code",
   "execution_count": 5,
   "metadata": {},
   "outputs": [],
   "source": [
    "### Homework   Move robot around using the recently created move base function. Try moving things around in gazebo. what would happen if a person steped in fron of the robot\n",
    "#### Can you think in a way to avoid obstacles?\n",
    "#### Would be usefull to check on progress and cancel routes, etc. right?\n",
    "### can you implement a movement pose relative to the robot rather tan the map?\n",
    "#### Check action lib\n"
   ]
  },
  {
   "cell_type": "code",
   "execution_count": null,
   "metadata": {},
   "outputs": [],
   "source": []
  },
  {
   "cell_type": "code",
   "execution_count": 4,
   "metadata": {},
   "outputs": [],
   "source": [
    "import rospy\n",
    "import actionlib\n",
    "import tf\n",
    "#rospy.init_node('navigation')"
   ]
  },
  {
   "cell_type": "code",
   "execution_count": 5,
   "metadata": {},
   "outputs": [],
   "source": [
    "from move_base_msgs.msg import MoveBaseAction, MoveBaseGoal\n",
    "from geometry_msgs.msg import PoseStamped, Point , Quaternion\n",
    "from actionlib_msgs.msg import GoalStatus"
   ]
  },
  {
   "cell_type": "code",
   "execution_count": 6,
   "metadata": {},
   "outputs": [
    {
     "data": {
      "text/plain": [
       "True"
      ]
     },
     "execution_count": 6,
     "metadata": {},
     "output_type": "execute_result"
    }
   ],
   "source": [
    "goal = MoveBaseGoal()\n",
    "navclient = actionlib.SimpleActionClient('/move_base/move', MoveBaseAction)\n",
    "navclient.wait_for_server()"
   ]
  },
  {
   "cell_type": "code",
   "execution_count": 8,
   "metadata": {},
   "outputs": [
    {
     "name": "stdout",
     "output_type": "stream",
     "text": [
      "[INFO] [1611671352.513398, 81.703000]: Navigation Succeeded.\n"
     ]
    }
   ],
   "source": [
    "goal_x = 1.3\n",
    "goal_y = 3.5\n",
    "goal_yaw = -1.57\n",
    "\n",
    "# fill ROS message\n",
    "pose = PoseStamped()\n",
    "pose.header.stamp = rospy.Time.now()\n",
    "pose.header.frame_id = \"map\"\n",
    "pose.pose.position = Point(goal_x, goal_y, 0)\n",
    "quat = tf.transformations.quaternion_from_euler(0, 0, goal_yaw)\n",
    "pose.pose.orientation = Quaternion(*quat)\n",
    "\n",
    "goal = MoveBaseGoal()\n",
    "goal.target_pose = pose\n",
    "\n",
    "# send message to the action server\n",
    "navclient.send_goal(goal)\n",
    "\n",
    "# wait for the action server to complete the order\n",
    "navclient.wait_for_result()\n",
    "\n",
    "# print result of navigation\n",
    "action_state = navclient.get_state()\n",
    "if action_state == GoalStatus.SUCCEEDED:\n",
    "    rospy.loginfo(\"Navigation Succeeded.\")\n"
   ]
  },
  {
   "cell_type": "code",
   "execution_count": 9,
   "metadata": {},
   "outputs": [],
   "source": [
    "def move_base(x,y,th,ref='map'):\n",
    "    goal_x = x\n",
    "    goal_y = y\n",
    "    goal_yaw = th\n",
    "\n",
    "    # fill ROS message\n",
    "    pose = PoseStamped()\n",
    "    pose.header.stamp = rospy.Time.now()\n",
    "    pose.header.frame_id =ref\n",
    "    pose.pose.position = Point(goal_x, goal_y, 0)\n",
    "    quat = tf.transformations.quaternion_from_euler(0, 0, goal_yaw)\n",
    "    pose.pose.orientation = Quaternion(*quat)\n",
    "    #Creeate a MOVE BASE GOAL (Actionlib messge)\n",
    "    goal = MoveBaseGoal()\n",
    "    goal.target_pose = pose\n",
    "\n",
    "    # send message to the action server\n",
    "    navclient.send_goal(goal)\n",
    "\n",
    "    # wait for the action server to complete the order\n",
    "    navclient.wait_for_result()\n",
    "\n",
    "    # print result of navigation\n",
    "    action_state = navclient.get_state()\n",
    "    if action_state == GoalStatus.SUCCEEDED:\n",
    "        rospy.loginfo(\"Navigation Succeeded.\")"
   ]
  },
  {
   "cell_type": "code",
   "execution_count": 10,
   "metadata": {},
   "outputs": [],
   "source": [
    "#### Homework. Try placing a person to block the way ( or part of th way in the door. ) Can you think of ways to navigate?\n",
    "\n",
    "### Sensor reading,  stay tunned\n",
    "\n",
    "### ACtin lib is The actionlib stack provides a standardized interface for interfacing with preemptable tasks. Examples of this include moving the base to a target location, performing a laser scan and returning the resulting point cloud, detecting the handle of a door, etc.\n",
    "### PLEASE CHECK SOME ACTION LIB CAPABILITES HERE  \n",
    "####HIGHLY recommended http://wiki.ros.org/actionlib"
   ]
  },
  {
   "cell_type": "code",
   "execution_count": 10,
   "metadata": {},
   "outputs": [
    {
     "name": "stdout",
     "output_type": "stream",
     "text": [
      "[INFO] [1611671601.366585, 116.405000]: Navigation Succeeded.\n"
     ]
    }
   ],
   "source": [
    "move_base(1.6,3.8,0.0)"
   ]
  },
  {
   "cell_type": "code",
   "execution_count": 11,
   "metadata": {},
   "outputs": [],
   "source": [
    "#reading hokuyo topic\n"
   ]
  },
  {
   "cell_type": "code",
   "execution_count": null,
   "metadata": {},
   "outputs": [],
   "source": [
    "move_base(.2,.3,3.13423)\n",
    "         \n",
    "\n"
   ]
  },
  {
   "cell_type": "code",
   "execution_count": 23,
   "metadata": {},
   "outputs": [],
   "source": []
  },
  {
   "cell_type": "code",
   "execution_count": 6,
   "metadata": {},
   "outputs": [
    {
     "data": {
      "text/plain": []
     },
     "execution_count": 6,
     "metadata": {},
     "output_type": "execute_result"
    }
   ],
   "source": []
  }
 ],
 "metadata": {
  "kernelspec": {
   "display_name": "Python 2",
   "language": "python",
   "name": "python2"
  },
  "language_info": {
   "codemirror_mode": {
    "name": "ipython",
    "version": 2
   },
   "file_extension": ".py",
   "mimetype": "text/x-python",
   "name": "python",
   "nbconvert_exporter": "python",
   "pygments_lexer": "ipython2",
   "version": "2.7.17"
  }
 },
 "nbformat": 4,
 "nbformat_minor": 2
}
