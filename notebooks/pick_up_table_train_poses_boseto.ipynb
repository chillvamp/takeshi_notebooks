{
 "cells": [
  {
   "cell_type": "markdown",
   "metadata": {
    "lang": "en"
   },
   "source": [
    "## Setup"
   ]
  },
  {
   "cell_type": "markdown",
   "metadata": {
    "lang": "ja"
   },
   "source": []
  },
  {
   "cell_type": "markdown",
   "metadata": {
    "lang": "en"
   },
   "source": [
    "Import the required libraries and initialize them:"
   ]
  },
  {
   "cell_type": "code",
   "execution_count": 1,
   "metadata": {},
   "outputs": [],
   "source": [
    "from std_srvs.srv import Empty, Trigger, TriggerRequest\n",
    "import trajectory_msgs.msg\n",
    "from copy import deepcopy\n"
   ]
  },
  {
   "cell_type": "code",
   "execution_count": 2,
   "metadata": {},
   "outputs": [
    {
     "name": "stderr",
     "output_type": "stream",
     "text": [
      "the rosdep view is empty: call 'sudo rosdep init' and 'rosdep update'\n"
     ]
    }
   ],
   "source": [
    "from cv_bridge import CvBridge, CvBridgeError\n",
    "import rospy\n",
    "#import cv2\n",
    "import ros_numpy\n",
    "import numpy as np\n",
    "from tmc_tabletop_segmentator.srv import TabletopSegmentation\n",
    "from tmc_tabletop_segmentator.srv import TabletopSegmentationRequest\n",
    "from sensor_msgs.msg import Image\n",
    "from std_msgs.msg import String\n",
    "import tf\n",
    "import tf2_ros\n",
    "import geometry_msgs.msg\n",
    "from utils_notebooks import *\n"
   ]
  },
  {
   "cell_type": "code",
   "execution_count": 3,
   "metadata": {},
   "outputs": [],
   "source": [
    "%matplotlib inline\n",
    "\n",
    "import matplotlib.pyplot as plt\n",
    "import numpy as np\n",
    "import ros_numpy\n",
    "import rospy\n",
    "import tf\n",
    "from gazebo_ros import gazebo_interface\n",
    "from sensor_msgs.msg import LaserScan, PointCloud2\n",
    "from geometry_msgs.msg import Pose, Quaternion ,TransformStamped\n",
    "import moveit_commander\n",
    "import moveit_msgs.msg\n",
    "\n",
    "import sys\n",
    "\n",
    "from utils_notebooks import *\n",
    "#from utils_task1 import *\n",
    "import cv2\n",
    "import os"
   ]
  },
  {
   "cell_type": "markdown",
   "metadata": {
    "lang": "ja"
   },
   "source": [
    "# REMEMBER TO RUN MOVEIT \n",
    "# roslaunch  hsrb_moveit_config  hsrb_demo_with_controller.launch"
   ]
  },
  {
   "cell_type": "code",
   "execution_count": 4,
   "metadata": {},
   "outputs": [
    {
     "data": {
      "text/plain": [
       "'3.3.1-dev'"
      ]
     },
     "execution_count": 4,
     "metadata": {},
     "output_type": "execute_result"
    }
   ],
   "source": [
    "\n",
    "\n",
    "cv2.__version__\n",
    "\n",
    "## CHECK  CV VERSIONS IN CASE YOU WONT USE SURF \n",
    "## 3.3.1 is an old dependence use sys path remove if needed\n"
   ]
  },
  {
   "cell_type": "code",
   "execution_count": 5,
   "metadata": {},
   "outputs": [],
   "source": [
    "#! roslaunch  hsrb_moveit_config  hsrb_demo_with_controller.launch"
   ]
  },
  {
   "cell_type": "code",
   "execution_count": 6,
   "metadata": {},
   "outputs": [],
   "source": [
    "\n",
    "rospy.init_node(\"recognition\")\n"
   ]
  },
  {
   "cell_type": "code",
   "execution_count": 7,
   "metadata": {},
   "outputs": [],
   "source": [
    "\n",
    "\n",
    "bridge = CvBridge()\n",
    "###might take some time to load all those takeshi meshes in rviz\n",
    "\n",
    "head = moveit_commander.MoveGroupCommander('head')\n",
    "arm = moveit_commander.MoveGroupCommander('arm')\n",
    "whole_body = moveit_commander.MoveGroupCommander('whole_body_weighted')\n",
    "whole_body.set_workspace([-6.0, -6.0, 6.0, 6.0])#whole_body.go(wb)\n",
    "scene = moveit_commander.PlanningSceneInterface()\n",
    "scene.remove_world_object()"
   ]
  },
  {
   "cell_type": "code",
   "execution_count": 8,
   "metadata": {},
   "outputs": [],
   "source": [
    "def add_object(name, size, pose, orientation):\n",
    "    p = PoseStamped()\n",
    "    p.header.frame_id = \"odom\"       # \"head_rgbd_sensor_link\"\n",
    "    \n",
    "    p.pose.position.x = pose[0]\n",
    "    p.pose.position.y = pose[1]\n",
    "    p.pose.position.z = pose[2]\n",
    "\n",
    "     \n",
    "    p.pose.orientation.x = orientation[0] \n",
    "    p.pose.orientation.y = orientation[1] \n",
    "    p.pose.orientation.z = orientation[2] \n",
    "    p.pose.orientation.w = orientation[3]\n",
    "    scene.add_box(name, p, size)\n",
    "\n",
    "\n",
    "\n",
    "def publish_scene():\n",
    "    add_object(\"shelf\", [1.5, 0.04, 0.4],  [2.5, 4.85, 0.78],  [0.5,0,0,0.5])\n",
    "    add_object(\"shelf1\", [1.5, 0.04, 0.4], [2.5, 4.85, 0.49], [0.5,0,0, 0.5])\n",
    "    add_object(\"shelf2\", [1.5, 0.04, 0.4], [2.5, 4.85, 0.18], [0.5,0,0, 0.5])\n",
    "    add_object(\"shelf_wall\", [1, 1, 0.04], [2.5, 4.9, 0.5], [0.5,0,0, 0.5])\n",
    "    add_object(\"shelf_wall1\", [.04, 1, 0.4], [2.7, 4.9, 0.5],[0.5,0,0, 0.5])\n",
    "    add_object(\"shelf_wall2\", [.04, 1, 0.4], [1.8, 4.9, 0.5], [0.5,0,0 ,0.5])    \n",
    "    add_object(\"table_big\", [1.5, 0.13, 0.5], [0.95, 1.9, 0.34],  [0.5,0,0, 0.5])\n",
    "    add_object(\"table_big_legs1\",[.01,.6,.2], [1.55,1.8,0.1],       [0.5,0,0, 0.5])\n",
    "    add_object(\"table_big_legs2\",[.01,.6,.2], [0.45,1.8,0.1],       [0.5,0,0 ,0.5])\n",
    "    add_object(\"table_small\", [0.9, 0.02, 0.4], [-0.2, 1.85, 0.61],  [0.5,0,0 ,0.5])\n",
    "    add_object(\"table_small_legs1\",[.01,.6,.2], [-0.3,1.75,0.3],      [0.5,0,0, 0.5])\n",
    "    add_object(\"table_small_legs2\",[.01,.6,.2], [0.1,1.75,0.3], [0.5,0,0 ,0.5])\n",
    "    add_object(\"table_tray\", [0.65, 0.01, 0.7], [1.8, -0.65, 0.4], [0.5,0,0, 0.5])\n",
    "    add_object(\"containers\", [0.3, 0.3, 0.3], [1.4, -0.65, 0.4], [0.5,0,0, 0.5])\n",
    "    add_object(\"drawers\", [1, 1, 1], [0, -0.65, 0.5], [0.5,0,0, 0.5])\n",
    "\n",
    "    add_object(\"big_wall\" , [6.0, 0.2, 0.2], [3.2,  2.0, 0.0],  [0,0.0,0.707 ,0.707])\n",
    "    add_object(\"mid_wall\" , [4.0, 0.2, 0.2], [0.1,  2.1, 0.0],  [0,0.0,0.0 ,1])\n",
    "    add_object(\"door_wall\" , [5.0, 0.2, 0.2], [-0.8, 2.8, 0.0],  [0,0.0,0.5 ,0.5     ])\n",
    "    add_object(\"close_wall\", [4.0, 0.2, 0.2], [1.1, -0.5, 0.0],  [0,0.0,0.0 ,1])\n",
    "    add_object(\"far_wall\",   [4.0, 0.2, 0.2], [1.1, 5.0, 0.0],  [0,0.0,0.0 ,1])\n",
    "    return True"
   ]
  },
  {
   "cell_type": "code",
   "execution_count": 9,
   "metadata": {},
   "outputs": [],
   "source": [
    "def rot_to_euler(R):\n",
    "    import sys\n",
    "    import math as m\n",
    "    tol = sys.float_info.epsilon * 10\n",
    "\n",
    "    if abs(R.item(0,0))< tol and abs(R.item(1,0)) < tol:\n",
    "       eul1 = 0\n",
    "       eul2 = m.atan2(-R.item(2,0), R.item(0,0))\n",
    "       eul3 = m.atan2(-R.item(1,2), R.item(1,1))\n",
    "    else:   \n",
    "       eul1 = m.atan2(R.item(1,0),R.item(0,0))\n",
    "       sp = m.sin(eul1)\n",
    "       cp = m.cos(eul1)\n",
    "       eul2 = m.atan2(-R.item(2,0),cp*R.item(0,0)+sp*R.item(1,0))\n",
    "       eul3 = m.atan2(sp*R.item(0,2)-cp*R.item(1,2),cp*R.item(1,1)-sp*R.item(0,1))\n",
    "\n",
    "    return np.asarray((eul1,eul2,eul3))\n",
    "def pca_xyz(xyz):\n",
    "    quats=[]\n",
    "    for i in range( len(xyz)):\n",
    "        pca= PCA(n_components=3).fit(xyz[i])\n",
    "        vec0= pca.components_[0,:]\n",
    "        vec1= pca.components_[1,:]\n",
    "        vec2= pca.components_[2,:]\n",
    "        R=pca.components_\n",
    "        euler=rot_to_euler(R)\n",
    "        quats.append(tf.transformations.quaternion_from_euler(euler[0],euler[1],euler[2]))\n",
    "    return quats"
   ]
  },
  {
   "cell_type": "code",
   "execution_count": 10,
   "metadata": {},
   "outputs": [],
   "source": [
    "def rot_to_euler(R):\n",
    "    import sys\n",
    "    tol = sys.float_info.epsilon * 10\n",
    "\n",
    "    if abs(R.item(0,0))< tol and abs(R.item(1,0)) < tol:\n",
    "       eul1 = 0\n",
    "       eul2 = m.atan2(-R.item(2,0), R.item(0,0))\n",
    "       eul3 = m.atan2(-R.item(1,2), R.item(1,1))\n",
    "    else:   \n",
    "       eul1 = m.atan2(R.item(1,0),R.item(0,0))\n",
    "       sp = m.sin(eul1)\n",
    "       cp = m.cos(eul1)\n",
    "       eul2 = m.atan2(-R.item(2,0),cp*R.item(0,0)+sp*R.item(1,0))\n",
    "       eul3 = m.atan2(sp*R.item(0,2)-cp*R.item(1,2),cp*R.item(1,1)-sp*R.item(0,1))\n",
    "\n",
    "    return np.asarray((eul1,eul2,eul3))\n",
    "def pca_xyz(xyz):\n",
    "    quats=[]\n",
    "    for i in range( len(xyz)):\n",
    "        pca= PCA(n_components=3).fit(xyz[i])\n",
    "        vec0= pca.components_[0,:]\n",
    "        vec1= pca.components_[1,:]\n",
    "        vec2= pca.components_[2,:]\n",
    "        R=pca.components_\n",
    "        euler=rot_to_euler(R)\n",
    "        quats.append(tf.transformations.quaternion_from_euler(euler[0],euler[1],euler[2]))\n",
    "    return quats\n",
    "def static_tf_publish(cents, quaternions=[],label=''):\n",
    "    if (len(quaternions))==0:\n",
    "        quats=np.zeros((len(cents),4)) \n",
    "        quats[:,3]=1\n",
    "        #print quats\n",
    "    else:\n",
    "        quats=np.asarray(quaternions)\n",
    "        #print quats\n",
    "    for  i ,cent  in enumerate(cents):\n",
    "        x,y,z=cent\n",
    "        if np.isnan(x) or np.isnan(y) or np.isnan(z):\n",
    "            print('nan , rejected')\n",
    "        else:\n",
    "            #### first place a \"dissolving\" tf wrt head sensor  in centroids\n",
    "\n",
    "            broadcaster.sendTransform((x,y,z),(0,0,0,1), rospy.Time.now(), 'Object'+str(i),\"head_rgbd_sensor_link\")\n",
    "            rospy.sleep(.2)\n",
    "            \n",
    "            #### then place each centr wrt map\n",
    "            xyz_map,cent_quat= listener.lookupTransform('/map', 'Object'+str(i),rospy.Time(0))\n",
    "            map_euler=tf.transformations.euler_from_quaternion(cent_quat)\n",
    "            rospy.sleep(.2)\n",
    "            static_transformStamped = TransformStamped()\n",
    "\n",
    "            ##FIXING TF TO MAP ( ODOM REALLY)    \n",
    "            #tf_broadcaster1.sendTransform( (xyz[0],xyz[1],xyz[2]),tf.transformations.quaternion_from_euler(0, 0, 0), rospy.Time.now(), \"obj\"+str(ind), \"head_rgbd_sensor_link\")\n",
    "            ## Finally boiradcast a static tf  in cents and with quaternion found  in pca\n",
    "            if xyz_map[-1] <.2:\n",
    "                static_transformStamped.header.stamp = rospy.Time.now()\n",
    "                static_transformStamped.header.frame_id = \"map\"\n",
    "                static_transformStamped.child_frame_id = \"Floor_Object\"+str(i)+label \n",
    "                static_transformStamped.transform.translation.x = float(xyz_map[0])\n",
    "                static_transformStamped.transform.translation.y = float(xyz_map[1])\n",
    "                static_transformStamped.transform.translation.z = float(xyz_map[2])\n",
    "                #quat = tf.transformations.quaternion_from_euler(-euler[0],0,1.5)\n",
    "                static_transformStamped.transform.rotation.x = quats [i,0]#-quat[0]#trans.transform.rotation.x\n",
    "                static_transformStamped.transform.rotation.y = quats [i,1]#-quat[1]#trans.transform.rotation.y\n",
    "                static_transformStamped.transform.rotation.z = quats [i,2]#-quat[2]#trans.transform.rotation.z\n",
    "                static_transformStamped.transform.rotation.w = quats [i,3]#-quat[3]#trans.transform.rotation.w\n",
    "\n",
    "\n",
    "                tf_static_broadcaster.sendTransform(static_transformStamped)\n",
    "                print ('images[]',i)\n",
    "            if    (xyz_map[-1] >.4)and (xyz_map[-1] <.6):\n",
    "                static_transformStamped.header.stamp = rospy.Time.now()\n",
    "                static_transformStamped.header.frame_id = \"map\"\n",
    "                static_transformStamped.child_frame_id = \"Table_Object\"+str(i)+label \n",
    "                static_transformStamped.transform.translation.x = float(xyz_map[0])\n",
    "                static_transformStamped.transform.translation.y = float(xyz_map[1])\n",
    "                static_transformStamped.transform.translation.z = float(xyz_map[2])\n",
    "                #quat = tf.transformations.quaternion_from_euler(-euler[0],0,1.5)\n",
    "                static_transformStamped.transform.rotation.x = quats [i,0]#-quat[0]#trans.transform.rotation.x\n",
    "                static_transformStamped.transform.rotation.y = quats [i,1]#-quat[1]#trans.transform.rotation.y\n",
    "                static_transformStamped.transform.rotation.z = quats [i,2]#-quat[2]#trans.transform.rotation.z\n",
    "                static_transformStamped.transform.rotation.w = quats [i,3]#-quat[3]#trans.transform.rotation.w\n",
    "\n",
    "\n",
    "                tf_static_broadcaster.sendTransform(static_transformStamped)\n",
    "                print ('images[]',i)\n",
    "    return True\n"
   ]
  },
  {
   "cell_type": "code",
   "execution_count": null,
   "metadata": {},
   "outputs": [],
   "source": []
  },
  {
   "cell_type": "code",
   "execution_count": null,
   "metadata": {},
   "outputs": [],
   "source": []
  },
  {
   "cell_type": "code",
   "execution_count": 11,
   "metadata": {},
   "outputs": [],
   "source": [
    "def pose_2_np(wp_p):\n",
    "   \n",
    "    return np.asarray((wp_p.pose.position.x,wp_p.pose.position.y,wp_p.pose.position.z)) , np.asarray((wp_p.pose.orientation.w,wp_p.pose.orientation.x,wp_p.pose.orientation.y, wp_p.pose.orientation.z)) \n",
    "def np_2_pose(position,orientation):\n",
    "    wb_p= geometry_msgs.msg.PoseStamped()\n",
    "    \n",
    "    wb_p.pose.position.x= position[0]\n",
    "    wb_p.pose.position.y= position[1]\n",
    "    wb_p.pose.position.z= position[2]\n",
    "    wb_p.pose.orientation.w= orientation[0]\n",
    "    wb_p.pose.orientation.x= orientation[1]\n",
    "    wb_p.pose.orientation.y= orientation[2]\n",
    "    wb_p.pose.orientation.z= orientation[3]\n",
    "    return wb_p"
   ]
  },
  {
   "cell_type": "code",
   "execution_count": 12,
   "metadata": {},
   "outputs": [],
   "source": [
    "rgbd = RGBD()\n",
    "#a listener xtion rgbd listener class , (check utils for methods )\n",
    "# TF is one of the most powerfull underated Ros tools, I recomend to understand it and use it as often as possible.\n",
    "listener = tf.TransformListener()\n",
    "broadcaster= tf.TransformBroadcaster()\n",
    "tf_static_broadcaster= tf2_ros.StaticTransformBroadcaster()\n"
   ]
  },
  {
   "cell_type": "code",
   "execution_count": 13,
   "metadata": {},
   "outputs": [],
   "source": [
    "goal = MoveBaseGoal()\n",
    "navclient = actionlib.SimpleActionClient('/move_base/move', MoveBaseAction)\n",
    "    "
   ]
  },
  {
   "cell_type": "code",
   "execution_count": 14,
   "metadata": {},
   "outputs": [],
   "source": [
    "def gaze_point(x,y,z):\n",
    "    \n",
    "    \n",
    "    \n",
    "    head_pose = head.get_current_joint_values()\n",
    "    head_pose[0]=0.0\n",
    "    head_pose[1]=0.0\n",
    "    head.set_joint_value_target(head_pose)\n",
    "    head.go()\n",
    "    \n",
    "    trans , rot = listener.lookupTransform('/map', '/head_rgbd_sensor_gazebo_frame', rospy.Time(0)) #\n",
    "    \n",
    "   \n",
    "    e =tf.transformations.euler_from_quaternion(rot)\n",
    "    print('i am at',trans,np.rad2deg(e)[2])\n",
    "    print('gaze goal',x,y,z)\n",
    "    #tf.transformations.euler_from_quaternion(rot)\n",
    "\n",
    "\n",
    "    x_rob,y_rob,z_rob,th_rob= trans[0], trans[1] ,trans[2] ,  e[2]\n",
    "\n",
    "\n",
    "    D_x=x_rob-x\n",
    "    D_y=y_rob-y\n",
    "    D_z=z_rob-z\n",
    "\n",
    "    D_th= np.arctan2(D_y,D_x)\n",
    "    print('relative to robot',(D_x,D_y,np.rad2deg(D_th)))\n",
    "\n",
    "    pan_correct= (- th_rob + D_th + np.pi) % (2*np.pi)\n",
    "\n",
    "    if(pan_correct > np.pi):\n",
    "        pan_correct=-2*np.pi+pan_correct\n",
    "    if(pan_correct < -np.pi):\n",
    "        pan_correct=2*np.pi+pan_correct\n",
    "\n",
    "    if ((pan_correct) > .5 * np.pi):\n",
    "        print ('Exorcist alert')\n",
    "        pan_correct=.5*np.pi\n",
    "    head_pose[0]=pan_correct\n",
    "    tilt_correct=np.arctan2(D_z,np.linalg.norm((D_x,D_y)))\n",
    "\n",
    "    head_pose [1]=-tilt_correct\n",
    "    \n",
    "    \n",
    "    \n",
    "    head.set_joint_value_target(head_pose)\n",
    "    succ=head.go()\n",
    "    return succ"
   ]
  },
  {
   "cell_type": "code",
   "execution_count": 15,
   "metadata": {},
   "outputs": [],
   "source": [
    "clear_octo_client = rospy.ServiceProxy('/clear_octomap', Empty)\n",
    "\n",
    "clear_octo_client.wait_for_service(timeout=1.0)\n"
   ]
  },
  {
   "cell_type": "code",
   "execution_count": 16,
   "metadata": {},
   "outputs": [],
   "source": [
    "# initialize ROS publisher\n",
    "pub = rospy.Publisher('goal', PoseStamped, queue_size=10)\n",
    "\n",
    "# wait to establish connection between the navigation interface\n",
    "# move_base and navigation_log_recorder node\n",
    "\n",
    "def move_base(x,y,th, ref='map'): ###DE\n",
    "    # input goal pose\n",
    "    goal_x = x\n",
    "    goal_y = y\n",
    "    goal_yaw =th\n",
    "\n",
    "    # fill ROS message\n",
    "    goal = PoseStamped()\n",
    "    goal.header.stamp = rospy.Time.now()\n",
    "    goal.header.frame_id = ref\n",
    "    goal.pose.position = Point(goal_x, goal_y, 0)\n",
    "    quat = tf.transformations.quaternion_from_euler(0, 0, goal_yaw)\n",
    "    goal.pose.orientation = Quaternion(*quat)\n",
    "    # publish ROS message\n",
    "    pub.publish(goal)\n",
    "    "
   ]
  },
  {
   "cell_type": "code",
   "execution_count": 17,
   "metadata": {},
   "outputs": [],
   "source": [
    "goal_x,goal_y,goal_yaw = 1,1,np.pi\n",
    "#Create a POSE  msg\n",
    "def move_base(goal_x,goal_y,goal_yaw,time_out=10):\n",
    "    pose = PoseStamped()\n",
    "    pose.header.stamp = rospy.Time.now()\n",
    "    pose.header.frame_id = \"map\"\n",
    "    pose.pose.position = Point(goal_x, goal_y, 0)\n",
    "    quat = tf.transformations.quaternion_from_euler(0, 0, goal_yaw)\n",
    "    pose.pose.orientation = Quaternion(*quat)\n",
    "\n",
    "\n",
    "    # create a MOVE BASE GOAL\n",
    "    goal = MoveBaseGoal()\n",
    "    goal.target_pose = pose\n",
    "\n",
    "    # send message to the action server\n",
    "    navclient.send_goal(goal)\n",
    "\n",
    "    # wait for the action server to complete the order\n",
    "    navclient.wait_for_result(timeout=rospy.Duration(time_out))\n",
    "\n",
    "    # print result of navigation\n",
    "    action_state = navclient.get_state()\n",
    "    return navclient.get_state()"
   ]
  },
  {
   "cell_type": "code",
   "execution_count": 18,
   "metadata": {},
   "outputs": [
    {
     "data": {
      "text/plain": [
       "1"
      ]
     },
     "execution_count": 18,
     "metadata": {},
     "output_type": "execute_result"
    }
   ],
   "source": [
    "move_base(2,3.5,0.5*np.pi,2)"
   ]
  },
  {
   "cell_type": "code",
   "execution_count": 19,
   "metadata": {},
   "outputs": [],
   "source": [
    "def seg_pca(lower=2000,higher=50000,reg_ly=0,reg_hy=1000,plt_images=False): \n",
    "    image= rgbd.get_h_image()\n",
    "    iimmg= rgbd.get_image()\n",
    "    points_data= rgbd.get_points()\n",
    "    values=image.reshape((-1,3))\n",
    "    values= np.float32(values)\n",
    "    criteria= (  cv2.TERM_CRITERIA_EPS + cv2.TERM_CRITERIA_MAX_ITER  ,1000,0.1)\n",
    "    k=3\n",
    "    _ , labels , cc =cv2.kmeans(values , k ,None,criteria,30,cv2.KMEANS_RANDOM_CENTERS)\n",
    "    cc=np.uint8(cc)\n",
    "    segmented_image= cc[labels.flatten()]\n",
    "    segmented_image=segmented_image.reshape(image.shape)\n",
    "    th3 = cv2.adaptiveThreshold(segmented_image,255,cv2.ADAPTIVE_THRESH_GAUSSIAN_C,cv2.THRESH_BINARY,11,2)\n",
    "    kernel = np.ones((5,5),np.uint8)\n",
    "    im4=cv2.erode(th3,kernel,iterations=4)\n",
    "    plane_mask=points_data['z']\n",
    "    cv2_img=plane_mask.astype('uint8')\n",
    "    img=im4\n",
    "    _,contours, hierarchy = cv2.findContours(im4.astype('uint8'),cv2.RETR_TREE,cv2.CHAIN_APPROX_SIMPLE)\n",
    "    i=0\n",
    "    cents=[]\n",
    "    points=[]\n",
    "    images=[]\n",
    "    for i, contour in enumerate(contours):\n",
    "        \n",
    "        area = cv2.contourArea(contour)\n",
    "\n",
    "        if area > lower and area < higher :\n",
    "            M = cv2.moments(contour)\n",
    "            # calculate x,y coordinate of center\n",
    "            cX = int(M[\"m10\"] / M[\"m00\"])\n",
    "            cY = int(M[\"m01\"] / M[\"m00\"])\n",
    "            \n",
    "    \n",
    "            boundRect = cv2.boundingRect(contour)\n",
    "            #just for drawing rect, dont waste too much time on this\n",
    "            image_aux= iimmg[boundRect[1]:boundRect[1]+boundRect[3],boundRect[0]:boundRect[0]+boundRect[2]]\n",
    "            images.append(image_aux)\n",
    "            img=cv2.rectangle(img,(boundRect[0], boundRect[1]),(boundRect[0]+boundRect[2], boundRect[1]+boundRect[3]), (0,0,0), 2)\n",
    "            # calculate moments for each contour\n",
    "            if (cY > reg_ly and cY < reg_hy  ):\n",
    "                \n",
    "                cv2.circle(img, (cX, cY), 5, (255, 255, 255), -1)\n",
    "                cv2.putText(img, \"centroid_\"+str(i)+\"_\"+str(cX)+','+str(cY)    ,    (cX - 25, cY - 25)   ,cv2.FONT_HERSHEY_SIMPLEX, 0.9, (0, 0, 0), 2)\n",
    "                print ('cX,cY',cX,cY)\n",
    "                xyz=[]\n",
    "\n",
    "\n",
    "                for jy in range (boundRect[0], boundRect[0]+boundRect[2]):\n",
    "                    for ix in range(boundRect[1], boundRect[1]+boundRect[3]):\n",
    "                        aux=(np.asarray((points_data['x'][ix,jy],points_data['y'][ix,jy],points_data['z'][ix,jy])))\n",
    "                        if np.isnan(aux[0]) or np.isnan(aux[1]) or np.isnan(aux[2]):\n",
    "                            'reject point'\n",
    "                        else:\n",
    "                            xyz.append(aux)\n",
    "\n",
    "                xyz=np.asarray(xyz)\n",
    "                cent=xyz.mean(axis=0)\n",
    "                cents.append(cent)\n",
    "                print (cent)\n",
    "                points.append(xyz)\n",
    "            else:\n",
    "                print ('cent out of region... rejected')\n",
    "    sub_plt=0\n",
    "    if plt_images:\n",
    "        for image in images:\n",
    "\n",
    "            sub_plt+=1\n",
    "            ax = plt.subplot(5, 5, sub_plt )\n",
    "\n",
    "            plt.imshow(image)\n",
    "            plt.axis(\"off\")\n",
    "\n",
    "    cents=np.asarray(cents)\n",
    "    ### returns centroids found and a group of 3d coordinates that conform the centroid\n",
    "    return(cents,np.asarray(points), images)"
   ]
  },
  {
   "cell_type": "code",
   "execution_count": null,
   "metadata": {},
   "outputs": [],
   "source": []
  },
  {
   "cell_type": "code",
   "execution_count": null,
   "metadata": {},
   "outputs": [],
   "source": []
  },
  {
   "cell_type": "code",
   "execution_count": null,
   "metadata": {},
   "outputs": [],
   "source": []
  },
  {
   "cell_type": "code",
   "execution_count": null,
   "metadata": {},
   "outputs": [],
   "source": []
  },
  {
   "cell_type": "code",
   "execution_count": 20,
   "metadata": {},
   "outputs": [],
   "source": [
    "service_client = rospy.ServiceProxy('/tabletop_segmentator_node/execute', TabletopSegmentation)\n",
    "service_client.wait_for_service(timeout=1.0)\n"
   ]
  },
  {
   "cell_type": "code",
   "execution_count": 21,
   "metadata": {},
   "outputs": [],
   "source": [
    "def res_to_cents(res, plt_images=False):\n",
    "    objs_depth_centroids=[]\n",
    "    xyz=[]\n",
    "    images=[]\n",
    "    for i in range (len(res.segmented_objects_array.table_objects_array\t)):\n",
    "        print ( 'Plane',i,'has', len(res.segmented_objects_array.table_objects_array[i].depth_image_array), 'objects')\n",
    "        for j in range (len(res.segmented_objects_array.table_objects_array[i].points_array)):\n",
    "            cv2_img_depth = bridge.imgmsg_to_cv2(res.segmented_objects_array.table_objects_array[i].depth_image_array[0] )\n",
    "            cv2_img = bridge.imgmsg_to_cv2(res.segmented_objects_array.table_objects_array[i].rgb_image_array[j],\"rgb8\" )\n",
    "            pc= ros_numpy.numpify (res.segmented_objects_array.table_objects_array[i].points_array[j])\n",
    "            points=np.zeros((pc.shape[0],3))\n",
    "            points[:,0]=pc['x']\n",
    "            points[:,1]=pc['y']\n",
    "            points[:,2]=pc['z']\n",
    "\n",
    "            points_mean=np.mean(points,axis=0)\n",
    "            if np.isnan(points_mean).max():\n",
    "                print('nan reject')\n",
    "            else:\n",
    "\n",
    "                objs_depth_centroids.append(points_mean)\n",
    "                xyz.append(points)\n",
    "                images.append(cv2_img)\n",
    "\n",
    "    print objs_depth_centroids\n",
    "\n",
    "    #lets publish a tf to this centroids ( lot of false positives) !!!!\n",
    "    sub_plt=0\n",
    "    if plt_images:\n",
    "        for image in images:\n",
    "\n",
    "            sub_plt+=1\n",
    "            ax = plt.subplot(5, 5, sub_plt )\n",
    "\n",
    "            plt.imshow(image)\n",
    "            plt.axis(\"off\")\n",
    "    return(np.asarray(objs_depth_centroids), np.asarray(xyz))\n",
    "        "
   ]
  },
  {
   "cell_type": "code",
   "execution_count": 22,
   "metadata": {},
   "outputs": [],
   "source": [
    "\n",
    "#define a tabletop segmentation request.\n",
    "# Play with these parameters\n",
    "\n",
    "\n",
    "req = TabletopSegmentationRequest()\n",
    "req.crop_enabled = True  # limit the processing area\n",
    "req.crop_x_max = 0.7     # X coordinate maximum value in the area [m]\n",
    "req.crop_x_min = -0.7    # X coordinate minimum value in the area [m]\n",
    "req.crop_y_max = 1.0     # Y coordinate maximum value in the area [m]\n",
    "req.crop_y_min = -1.0    # Y coordinate minimum value in the area [m]\n",
    "req.crop_z_max = 1.0     # Z coordinate maximum value in the area [m]\n",
    "req.crop_z_min = 0.0     # Z coordinate minimum value in the area [m]\n",
    "req.cluster_z_max = 3  # maximum height value of cluster on table [m]\n",
    "req.cluster_z_min = 0.0  # minimum height value of cluster on table [m]\n",
    "req.remove_bg = False    # remove the background of the segment image    THIS IS AN IMPORTANT PARAMETER PLEASE NOTICE\n",
    "\n"
   ]
  },
  {
   "cell_type": "code",
   "execution_count": 24,
   "metadata": {},
   "outputs": [
    {
     "data": {
      "text/plain": [
       "True"
      ]
     },
     "execution_count": 24,
     "metadata": {},
     "output_type": "execute_result"
    }
   ],
   "source": [
    "arm.set_named_target('go')\n",
    "arm.go()\n",
    "head.set_named_target('neutral')\n",
    "head.go()\n"
   ]
  },
  {
   "cell_type": "code",
   "execution_count": 27,
   "metadata": {},
   "outputs": [
    {
     "data": {
      "text/plain": [
       "3"
      ]
     },
     "execution_count": 27,
     "metadata": {},
     "output_type": "execute_result"
    }
   ],
   "source": [
    "move_base(1.5,1.13,.5*np.pi)"
   ]
  },
  {
   "cell_type": "code",
   "execution_count": 28,
   "metadata": {},
   "outputs": [
    {
     "data": {
      "text/plain": []
     },
     "execution_count": 28,
     "metadata": {},
     "output_type": "execute_result"
    }
   ],
   "source": [
    "clear_octo_client.call()"
   ]
  },
  {
   "cell_type": "code",
   "execution_count": 29,
   "metadata": {},
   "outputs": [
    {
     "name": "stdout",
     "output_type": "stream",
     "text": [
      "('i am at', [1.470647213421638, 1.0632227720817358, 0.9671310718818371], 91.12016467160542)\n",
      "('gaze goal', 1.16, 1.6, 0.4)\n",
      "('relative to robot', (0.31064721342163804, -0.5367772279182643, -59.94089551768121))\n"
     ]
    },
    {
     "data": {
      "text/plain": [
       "True"
      ]
     },
     "execution_count": 29,
     "metadata": {},
     "output_type": "execute_result"
    }
   ],
   "source": [
    "\n",
    "head_val=head.get_current_joint_values()\n",
    "#head_val[0]=np.deg2rad(0)\n",
    "head_val[1]=np.deg2rad(-45)\n",
    "\n",
    "#head.go(head_val)\n",
    "#If head didnt move, MOVE IT isnt running  properly\n",
    "\n",
    "\n",
    "gaze_point(1.16,1.6,.4)  #center of table 1' ish\n",
    "#gaze_point(-.03,1.6,0.7)  #center of table 2' ish\n"
   ]
  },
  {
   "cell_type": "code",
   "execution_count": 30,
   "metadata": {},
   "outputs": [
    {
     "data": {
      "text/plain": [
       "<matplotlib.image.AxesImage at 0x7f66a1d93c10>"
      ]
     },
     "execution_count": 30,
     "metadata": {},
     "output_type": "execute_result"
    },
    {
     "data": {
      "image/png": "[encoded data removed]",
      "text/plain": [
       "<matplotlib.figure.Figure at 0x7f66a1904290>"
      ]
     },
     "metadata": {
      "needs_background": "light"
     },
     "output_type": "display_data"
    }
   ],
   "source": [
    "plt.imshow(rgbd.get_image())"
   ]
  },
  {
   "cell_type": "code",
   "execution_count": 31,
   "metadata": {},
   "outputs": [
    {
     "name": "stdout",
     "output_type": "stream",
     "text": [
      "('Plane', 0, 'has', 5, 'objects')\n",
      "('Plane', 1, 'has', 2, 'objects')\n",
      "('Plane', 2, 'has', 0, 'objects')\n",
      "('Plane', 3, 'has', 0, 'objects')\n",
      "[array([ 0.31608732, -0.34043993,  0.90988334]), array([-0.05916133, -0.19799521,  0.96755584]), array([-0.37246006, -0.12871588,  0.91625378]), array([ 0.25752004, -0.03795994,  0.79782117]), array([ 0.00647471, -0.02153574,  0.81584384]), array([0.14796345, 0.19717462, 0.78824498]), array([0.28169959, 0.3923939 , 0.99786044])]\n",
      "('images[]', 1)\n",
      "('images[]', 2)\n",
      "('images[]', 3)\n",
      "('images[]', 4)\n",
      "('images[]', 6)\n",
      "1\n",
      "2\n",
      "3\n",
      "4\n"
     ]
    },
    {
     "data": {
      "image/png": "[encoded data removed]",
      "text/plain": [
       "<matplotlib.figure.Figure at 0x7f66a15e0150>"
      ]
     },
     "metadata": {
      "needs_background": "light"
     },
     "output_type": "display_data"
    }
   ],
   "source": [
    "res = service_client(req)\n",
    "cents,xyz=res_to_cents(res,plt_images=True)\n",
    "quats= pca_xyz(xyz)\n",
    "static_tf_publish(cents,quats, 'tmc_plane_segmentation')\n",
    "for i in range (13):\n",
    "    try:\n",
    "        p, r =listener.lookupTransform( 'map','Table_Object'+str(i)+'tmc_plane_segmentation', rospy.Time(0))\n",
    "    except(tf.LookupException):\n",
    "        continue\n",
    "    \n",
    "    pp=np_2_pose(p,r)\n",
    "    pp.header.frame_id= \"map\"\n",
    "    scene.add_box('Object'+str(i)+'_tmc',pp ,(.05,.1,.3))\n",
    "    print i\n",
    "\n",
    "\n"
   ]
  },
  {
   "cell_type": "code",
   "execution_count": null,
   "metadata": {},
   "outputs": [],
   "source": []
  },
  {
   "cell_type": "code",
   "execution_count": null,
   "metadata": {},
   "outputs": [],
   "source": []
  },
  {
   "cell_type": "code",
   "execution_count": null,
   "metadata": {},
   "outputs": [],
   "source": []
  },
  {
   "cell_type": "code",
   "execution_count": null,
   "metadata": {},
   "outputs": [],
   "source": []
  },
  {
   "cell_type": "code",
   "execution_count": 41,
   "metadata": {},
   "outputs": [
    {
     "name": "stdout",
     "output_type": "stream",
     "text": [
      "('i am at', [0.9519317807131412, 0.8814299898778544, 1.2037980323242414], 27.99712998707833)\n",
      "('gaze goal', 1.16, 1.6, 0.4)\n",
      "('relative to robot', (-0.2080682192868587, -0.7185700101221457, -106.14883467969342))\n"
     ]
    },
    {
     "data": {
      "text/plain": [
       "True"
      ]
     },
     "execution_count": 41,
     "metadata": {},
     "output_type": "execute_result"
    }
   ],
   "source": [
    "gaze_point(1.16,1.6,.4)  #center of table 1' ish\n",
    "#gaze_point(-.03,1.6,0.7)  #center of table 2' ish\n"
   ]
  },
  {
   "cell_type": "code",
   "execution_count": 42,
   "metadata": {},
   "outputs": [
    {
     "name": "stdout",
     "output_type": "stream",
     "text": [
      "('cX,cY', 571, 414)\n",
      "[0.47161204 0.25049478 1.377497  ]\n",
      "('cX,cY', 272, 222)\n",
      "[-0.09468546 -0.03472062  1.0935245 ]\n",
      "('cX,cY', 167, 173)\n",
      "[-0.32235578 -0.14078476  1.1760631 ]\n",
      "('cX,cY', 358, 152)\n",
      "[ 0.08552222 -0.19464171  1.2320901 ]\n",
      "('cX,cY', 123, 15)\n",
      "[-0.58156234 -0.84674054  2.1382694 ]\n",
      "('images[]', 0)\n",
      "('images[]', 1)\n",
      "('images[]', 2)\n",
      "('images[]', 3)\n",
      "0\n",
      "1\n",
      "2\n",
      "3\n"
     ]
    },
    {
     "data": {
      "image/png": "[encoded data removed]",
      "text/plain": [
       "<matplotlib.figure.Figure at 0x7f66a085d050>"
      ]
     },
     "metadata": {
      "needs_background": "light"
     },
     "output_type": "display_data"
    }
   ],
   "source": [
    "centroids,xyz, images=seg_pca(plt_images=True)\n",
    "quats= pca_xyz(xyz)\n",
    "static_tf_publish(centroids,quats,'kmeans')\n",
    "for i in range (13):\n",
    "    try:\n",
    "        p, r =listener.lookupTransform( 'map','Table_Object'+str(i)+'kmeans', rospy.Time(0))\n",
    "    except(tf.LookupException):\n",
    "        continue\n",
    "    \n",
    "    pp=np_2_pose(p,r)\n",
    "    pp.header.frame_id= \"map\"\n",
    "    scene.add_box('Object'+str(i)+'_kmeans',pp ,(0.3,.1,.05))\n",
    "    print i\n"
   ]
  },
  {
   "cell_type": "code",
   "execution_count": null,
   "metadata": {},
   "outputs": [],
   "source": []
  },
  {
   "cell_type": "code",
   "execution_count": 43,
   "metadata": {},
   "outputs": [
    {
     "data": {
      "text/plain": [
       "header: \n",
       "  seq: 0\n",
       "  stamp: \n",
       "    secs: 278\n",
       "    nsecs: 416000000\n",
       "  frame_id: \"odom\"\n",
       "pose: \n",
       "  position: \n",
       "    x: 1.31234757659\n",
       "    y: 1.10893481931\n",
       "    z: 0.671870232643\n",
       "  orientation: \n",
       "    x: 0.999975867087\n",
       "    y: -0.00679866510589\n",
       "    z: -0.00139624340631\n",
       "    w: 0.000306430890037"
      ]
     },
     "execution_count": 43,
     "metadata": {},
     "output_type": "execute_result"
    }
   ],
   "source": [
    "whole_body.get_current_pose()"
   ]
  },
  {
   "cell_type": "code",
   "execution_count": null,
   "metadata": {},
   "outputs": [],
   "source": []
  },
  {
   "cell_type": "code",
   "execution_count": 44,
   "metadata": {},
   "outputs": [
    {
     "data": {
      "text/plain": [
       "True"
      ]
     },
     "execution_count": 44,
     "metadata": {},
     "output_type": "execute_result"
    }
   ],
   "source": [
    "arm.set_named_target('go')\n",
    "arm.go()\n",
    "head.set_named_target('neutral')\n",
    "head.go()\n"
   ]
  },
  {
   "cell_type": "code",
   "execution_count": 45,
   "metadata": {},
   "outputs": [],
   "source": [
    "wbp=whole_body.get_current_pose()\n",
    "p, o =pose_2_np(wbp)\n",
    "tf.transformations.euler_from_quaternion(o)\n",
    "rotated= tf.transformations.quaternion_from_euler(-np.pi,0,np.pi)"
   ]
  },
  {
   "cell_type": "code",
   "execution_count": 46,
   "metadata": {},
   "outputs": [
    {
     "name": "stdout",
     "output_type": "stream",
     "text": [
      "scc\n"
     ]
    }
   ],
   "source": [
    "\n",
    "wbt= np_2_pose(p,rotated)\n",
    "\n",
    "wbt.header.frame_id='odom'\n",
    "\n",
    "whole_body.set_pose_target(wbt)\n",
    "plan=whole_body.plan()\n",
    "if len(plan.joint_trajectory.points)!=0:\n",
    "    succ=whole_body.go()\n",
    "    print 'scc'\n",
    "else:\n",
    "    print 'plan failed'\n"
   ]
  },
  {
   "cell_type": "code",
   "execution_count": 37,
   "metadata": {},
   "outputs": [],
   "source": [
    "#publish_scene()\n",
    "\n",
    "clear_octo_client.call()\n",
    "scene.remove_world_object()"
   ]
  },
  {
   "cell_type": "code",
   "execution_count": null,
   "metadata": {},
   "outputs": [],
   "source": []
  },
  {
   "cell_type": "code",
   "execution_count": 47,
   "metadata": {},
   "outputs": [],
   "source": [
    "wbp=whole_body.get_current_pose()\n",
    "p, o =pose_2_np(wbp)\n",
    "r=tf.transformations.quaternion_from_euler(0,np.pi*0.5,0)#grasp from above\n",
    "rotated=tf.transformations.quaternion_multiply(r,o)\n"
   ]
  },
  {
   "cell_type": "code",
   "execution_count": 48,
   "metadata": {},
   "outputs": [],
   "source": [
    "target_name= 'Object1_kmeans'\n",
    "target_pose =scene.get_object_poses([target_name])\n",
    "\n",
    "tpos = np.asarray((target_pose[target_name].position.x,\n",
    "                   target_pose[target_name].position.y,\n",
    "                   target_pose[target_name].position.z,\n",
    "                  ))"
   ]
  },
  {
   "cell_type": "code",
   "execution_count": 49,
   "metadata": {},
   "outputs": [
    {
     "data": {
      "text/plain": [
       "{'Object1_kmeans': position: \n",
       "   x: 1.0827720035\n",
       "   y: 1.71022719966\n",
       "   z: 0.416188258779\n",
       " orientation: \n",
       "   x: 0.293313279218\n",
       "   y: 0.246572394082\n",
       "   z: 0.601762946833\n",
       "   w: 0.700750119893}"
      ]
     },
     "execution_count": 49,
     "metadata": {},
     "output_type": "execute_result"
    }
   ],
   "source": [
    "target_pose"
   ]
  },
  {
   "cell_type": "code",
   "execution_count": 50,
   "metadata": {},
   "outputs": [],
   "source": [
    "p,tpos\n",
    "scene.remove_world_object(target_name)"
   ]
  },
  {
   "cell_type": "code",
   "execution_count": 51,
   "metadata": {},
   "outputs": [
    {
     "name": "stdout",
     "output_type": "stream",
     "text": [
      "plan failed\n"
     ]
    }
   ],
   "source": [
    "tpos[2]+=.08\n",
    "\n",
    "wbt= np_2_pose(tpos,o)\n",
    "\n",
    "wbt.header.frame_id='odom'\n",
    "\n",
    "whole_body.set_pose_target(wbt)\n",
    "plan=whole_body.plan()\n",
    "if len(plan.joint_trajectory.points)!=0:\n",
    "    succ=whole_body.go()\n",
    "    print 'scc'\n",
    "else:\n",
    "    print 'plan failed'\n"
   ]
  },
  {
   "cell_type": "code",
   "execution_count": 52,
   "metadata": {},
   "outputs": [],
   "source": [
    "\n",
    "clear_octo_client.call()\n",
    "scene.remove_world_object()\n"
   ]
  },
  {
   "cell_type": "code",
   "execution_count": 53,
   "metadata": {},
   "outputs": [],
   "source": [
    "wbp=whole_body.get_current_pose()\n",
    "p, o =pose_2_np(wbp)\n",
    "p,  tf.transformations.euler_from_quaternion(o)\n",
    "rotated=np.asarray(tf.transformations.quaternion_from_euler(np.pi,0,np.pi*0.5))"
   ]
  },
  {
   "cell_type": "code",
   "execution_count": 54,
   "metadata": {},
   "outputs": [
    {
     "data": {
      "text/plain": [
       "0"
      ]
     },
     "execution_count": 54,
     "metadata": {},
     "output_type": "execute_result"
    }
   ],
   "source": [
    "len(plan.joint_trajectory.points)"
   ]
  },
  {
   "cell_type": "code",
   "execution_count": 55,
   "metadata": {},
   "outputs": [],
   "source": [
    "if len(plan.joint_trajectory.points)!=0:\n",
    "    whole_body.go()"
   ]
  },
  {
   "cell_type": "code",
   "execution_count": null,
   "metadata": {},
   "outputs": [],
   "source": []
  },
  {
   "cell_type": "code",
   "execution_count": 56,
   "metadata": {},
   "outputs": [],
   "source": [
    "wbp=whole_body.get_current_pose()\n",
    "p, o =pose_2_np(wbp)\n",
    "tf.transformations.euler_from_quaternion(o)\n",
    "rotated= tf.transformations.quaternion_from_euler(.12*np.pi,0,np.pi)"
   ]
  },
  {
   "cell_type": "code",
   "execution_count": 57,
   "metadata": {},
   "outputs": [
    {
     "data": {
      "text/plain": [
       "True"
      ]
     },
     "execution_count": 57,
     "metadata": {},
     "output_type": "execute_result"
    }
   ],
   "source": [
    "arm.set_named_target('go')\n",
    "arm.go()"
   ]
  },
  {
   "cell_type": "code",
   "execution_count": 58,
   "metadata": {},
   "outputs": [
    {
     "name": "stdout",
     "output_type": "stream",
     "text": [
      "plan failed\n"
     ]
    }
   ],
   "source": [
    "wbt= np_2_pose(p,rotated)\n",
    "\n",
    "wbt.header.frame_id='odom'\n",
    "\n",
    "whole_body.set_pose_target(wbt)\n",
    "plan=whole_body.plan()\n",
    "if len(plan.joint_trajectory.points)!=0:\n",
    "    succ=whole_body.go()\n",
    "    print 'scc'\n",
    "else:\n",
    "    print 'plan failed'\n"
   ]
  },
  {
   "cell_type": "code",
   "execution_count": 59,
   "metadata": {},
   "outputs": [
    {
     "name": "stdout",
     "output_type": "stream",
     "text": [
      "('i am at', [0.5418375214009735, 0.4562422372463622, 0.9672481213005929], 27.10602925519354)\n",
      "('gaze goal', 1.16, 1.8, 0.4)\n",
      "('relative to robot', (-0.6181624785990264, -1.343757762753638, -114.7036234929498))\n"
     ]
    },
    {
     "data": {
      "text/plain": [
       "True"
      ]
     },
     "execution_count": 59,
     "metadata": {},
     "output_type": "execute_result"
    }
   ],
   "source": [
    "gaze_point(1.16,1.8,.4)  #center of table 1' ish\n"
   ]
  },
  {
   "cell_type": "code",
   "execution_count": 60,
   "metadata": {},
   "outputs": [
    {
     "name": "stdout",
     "output_type": "stream",
     "text": [
      "('cX,cY', 145, 290)\n",
      "[-0.419272    0.12318692  1.3421482 ]\n",
      "('cX,cY', 299, 253)\n",
      "[-0.05634838  0.03472693  1.5239294 ]\n",
      "('cX,cY', 217, 234)\n",
      "[-0.29310173 -0.01687726  1.5947337 ]\n",
      "('cX,cY', 350, 221)\n",
      "[ 0.09781139 -0.06089326  1.7471932 ]\n",
      "('cX,cY', 273, 72)\n",
      "[-0.31901804 -1.4137576   4.498993  ]\n",
      "('images[]', 1)\n",
      "('images[]', 2)\n",
      "('images[]', 3)\n",
      "1\n",
      "2\n",
      "3\n"
     ]
    },
    {
     "data": {
      "image/png": "[encoded data removed]",
      "text/plain": [
       "<matplotlib.figure.Figure at 0x7f66a06d8150>"
      ]
     },
     "metadata": {
      "needs_background": "light"
     },
     "output_type": "display_data"
    }
   ],
   "source": [
    "centroids,xyz, images=seg_pca(plt_images=True)\n",
    "quats= pca_xyz(xyz)\n",
    "static_tf_publish(centroids,quats)\n",
    "for i in range (13):\n",
    "    try:\n",
    "        p, r =listener.lookupTransform( 'odom','Table_Object'+str(i), rospy.Time(0))\n",
    "    except(tf.LookupException):\n",
    "        continue\n",
    "    \n",
    "    pp=np_2_pose(p,r)\n",
    "    pp.header.frame_id= \"odom\"\n",
    "    scene.add_box('Object'+str(i),pp ,(.3,.1,.01))\n",
    "    print i\n"
   ]
  },
  {
   "cell_type": "code",
   "execution_count": 61,
   "metadata": {},
   "outputs": [],
   "source": [
    "obj_ind=1\n",
    "obj_key='Object'+str(obj_ind)\n",
    "target_pose =scene.get_object_poses([obj_key])\n",
    "tpos = np.asarray((target_pose[obj_key].position.x,\n",
    "                   target_pose[obj_key].position.y,\n",
    "                   target_pose[obj_key].position.z,\n",
    "                  ))\n",
    "wbp=whole_body.get_current_pose()\n",
    "p, o =pose_2_np(wbp)\n",
    "\n",
    "r=tf.transformations.quaternion_from_euler(0,np.pi*.5,0) #grasp from above\n",
    "rotated=tf.transformations.quaternion_multiply(r,o)\n"
   ]
  },
  {
   "cell_type": "code",
   "execution_count": 62,
   "metadata": {},
   "outputs": [],
   "source": [
    "tpos[2]+=.1\n",
    "\n",
    "wbt= np_2_pose(tpos,rotated)\n",
    "clear_octo_client.call()\n",
    "scene.remove_world_object()\n",
    "wbt\n",
    "wbt.header.frame_id='odom'\n",
    "whole_body.set_pose_target(wbt)\n",
    "plan=whole_body.plan()"
   ]
  },
  {
   "cell_type": "code",
   "execution_count": 63,
   "metadata": {},
   "outputs": [
    {
     "name": "stdout",
     "output_type": "stream",
     "text": [
      "failed \n"
     ]
    }
   ],
   "source": [
    "if len(plan.joint_trajectory.points)!=0:\n",
    "    whole_body.go()\n",
    "else:\n",
    "    print('failed ')"
   ]
  },
  {
   "cell_type": "code",
   "execution_count": 64,
   "metadata": {},
   "outputs": [
    {
     "data": {
      "text/plain": [
       "array([1.09663097, 1.73958953, 0.50379962])"
      ]
     },
     "execution_count": 64,
     "metadata": {},
     "output_type": "execute_result"
    }
   ],
   "source": [
    "tpos"
   ]
  },
  {
   "cell_type": "code",
   "execution_count": 65,
   "metadata": {},
   "outputs": [
    {
     "data": {
      "text/plain": [
       "array([0.74072914, 0.39234493, 0.67295763])"
      ]
     },
     "execution_count": 65,
     "metadata": {},
     "output_type": "execute_result"
    }
   ],
   "source": [
    "p"
   ]
  },
  {
   "cell_type": "code",
   "execution_count": 66,
   "metadata": {},
   "outputs": [
    {
     "data": {
      "text/plain": [
       "header: \n",
       "  seq: 0\n",
       "  stamp: \n",
       "    secs: 345\n",
       "    nsecs:  62000000\n",
       "  frame_id: \"odom\"\n",
       "pose: \n",
       "  position: \n",
       "    x: 0.740729135104\n",
       "    y: 0.392344931987\n",
       "    z: 0.672957633667\n",
       "  orientation: \n",
       "    x: 0.607414756452\n",
       "    y: -0.362307867011\n",
       "    z: 0.607179545214\n",
       "    w: 0.362095737368"
      ]
     },
     "execution_count": 66,
     "metadata": {},
     "output_type": "execute_result"
    }
   ],
   "source": [
    "wbp"
   ]
  },
  {
   "cell_type": "code",
   "execution_count": null,
   "metadata": {},
   "outputs": [],
   "source": []
  },
  {
   "cell_type": "code",
   "execution_count": null,
   "metadata": {},
   "outputs": [],
   "source": [
    "\n"
   ]
  },
  {
   "cell_type": "code",
   "execution_count": 67,
   "metadata": {},
   "outputs": [
    {
     "data": {
      "text/plain": [
       "(array([0.74072914, 0.39234493, 0.67295763]),\n",
       " array([1.09663097, 1.73958953, 0.50379962]))"
      ]
     },
     "execution_count": 67,
     "metadata": {},
     "output_type": "execute_result"
    }
   ],
   "source": [
    "p,tpos"
   ]
  },
  {
   "cell_type": "code",
   "execution_count": 68,
   "metadata": {},
   "outputs": [],
   "source": [
    "#1.5*p-.5*tpos\n",
    "dif=tpos-p"
   ]
  },
  {
   "cell_type": "code",
   "execution_count": 69,
   "metadata": {},
   "outputs": [
    {
     "data": {
      "text/plain": [
       "75.20220784285901"
      ]
     },
     "execution_count": 69,
     "metadata": {},
     "output_type": "execute_result"
    }
   ],
   "source": [
    "np.rad2deg(np.arctan2(dif[1],dif[0]))"
   ]
  },
  {
   "cell_type": "code",
   "execution_count": 70,
   "metadata": {},
   "outputs": [
    {
     "data": {
      "text/plain": [
       "28.494775881360912"
      ]
     },
     "execution_count": 70,
     "metadata": {},
     "output_type": "execute_result"
    }
   ],
   "source": [
    "np.rad2deg(whole_body.get_current_joint_values()[2])"
   ]
  },
  {
   "cell_type": "code",
   "execution_count": 71,
   "metadata": {},
   "outputs": [
    {
     "data": {
      "text/plain": [
       "(array([0.74072914, 0.39234493, 0.67295763]),\n",
       " array([1.09663097, 1.73958953, 0.50379962]))"
      ]
     },
     "execution_count": 71,
     "metadata": {},
     "output_type": "execute_result"
    }
   ],
   "source": [
    "p,tpos\n"
   ]
  },
  {
   "cell_type": "code",
   "execution_count": 72,
   "metadata": {},
   "outputs": [
    {
     "data": {
      "text/plain": [
       "-0.8150679755779903"
      ]
     },
     "execution_count": 72,
     "metadata": {},
     "output_type": "execute_result"
    }
   ],
   "source": [
    "dif=tpos-p\n",
    "whole_body.get_current_joint_values()[2]-np.arctan2(dif[1],dif[0])"
   ]
  },
  {
   "cell_type": "code",
   "execution_count": 73,
   "metadata": {},
   "outputs": [
    {
     "data": {
      "text/plain": [
       "3"
      ]
     },
     "execution_count": 73,
     "metadata": {},
     "output_type": "execute_result"
    }
   ],
   "source": [
    "move_base(whole_body.get_current_joint_values()[0],whole_body.get_current_joint_values()[1],whole_body.get_current_joint_values()[2]-np.arctan2(dif[1],dif[0]))"
   ]
  },
  {
   "cell_type": "code",
   "execution_count": 74,
   "metadata": {},
   "outputs": [],
   "source": [
    "def face_point(tpos):\n",
    "    wbp=whole_body.get_current_pose()\n",
    "    p, o =pose_2_np(wbp)\n",
    "    dif=tpos-p\n",
    "    move_base(whole_body.get_current_joint_values()[0],whole_body.get_current_joint_values()[1],whole_body.get_current_joint_values()[2]-np.arctan2(dif[1],dif[0]))\n",
    "    "
   ]
  },
  {
   "cell_type": "code",
   "execution_count": null,
   "metadata": {},
   "outputs": [],
   "source": [
    "face_point (tpos)"
   ]
  },
  {
   "cell_type": "code",
   "execution_count": null,
   "metadata": {},
   "outputs": [],
   "source": [
    "wbp=whole_body.get_current_pose()\n",
    "p, o =pose_2_np(wbp)\n",
    "dif=tpos-p\n",
    "move_base(whole_body.get_current_joint_values()[0],whole_body.get_current_joint_values()[1],whole_body.get_current_joint_values()[2]-np.arctan2(dif[1],dif[0]))\n"
   ]
  },
  {
   "cell_type": "code",
   "execution_count": null,
   "metadata": {},
   "outputs": [],
   "source": [
    "p, tpos"
   ]
  },
  {
   "cell_type": "code",
   "execution_count": null,
   "metadata": {},
   "outputs": [],
   "source": []
  },
  {
   "cell_type": "code",
   "execution_count": null,
   "metadata": {},
   "outputs": [],
   "source": [
    "wbp=whole_body.get_current_pose()\n",
    "p, o =pose_2_np(wbp)\n",
    "dif=tpos-p"
   ]
  },
  {
   "cell_type": "code",
   "execution_count": null,
   "metadata": {},
   "outputs": [],
   "source": [
    "dif"
   ]
  },
  {
   "cell_type": "code",
   "execution_count": null,
   "metadata": {},
   "outputs": [],
   "source": [
    "np.arctan2(dif[1],dif[0])"
   ]
  },
  {
   "cell_type": "code",
   "execution_count": null,
   "metadata": {},
   "outputs": [],
   "source": [
    "tf.transformations.euler_from_quaternion(o)"
   ]
  },
  {
   "cell_type": "code",
   "execution_count": null,
   "metadata": {},
   "outputs": [],
   "source": [
    "wbp=whole_body.get_current_pose()\n",
    "p, o =pose_2_np(wbp)\n",
    "tf.transformations.euler_from_quaternion(o)"
   ]
  },
  {
   "cell_type": "code",
   "execution_count": null,
   "metadata": {},
   "outputs": [],
   "source": [
    "whole_body.get_current_joint_values()[2]"
   ]
  },
  {
   "cell_type": "code",
   "execution_count": 192,
   "metadata": {},
   "outputs": [
    {
     "data": {
      "text/plain": [
       "3"
      ]
     },
     "execution_count": 192,
     "metadata": {},
     "output_type": "execute_result"
    }
   ],
   "source": [
    "move_base( p[0],p[1],np.arctan2(dif[1],dif[0]))"
   ]
  },
  {
   "cell_type": "code",
   "execution_count": 193,
   "metadata": {},
   "outputs": [],
   "source": [
    "wbp=whole_body.get_current_pose()\n",
    "p, o =pose_2_np(wbp)\n",
    "dif=tpos-p"
   ]
  },
  {
   "cell_type": "code",
   "execution_count": 195,
   "metadata": {},
   "outputs": [
    {
     "data": {
      "text/plain": [
       "(array([2.10485314, 1.23697572, 0.67300865]), array([1., 1., 1.]))"
      ]
     },
     "execution_count": 195,
     "metadata": {},
     "output_type": "execute_result"
    }
   ],
   "source": [
    "p, tpos"
   ]
  },
  {
   "cell_type": "code",
   "execution_count": 199,
   "metadata": {},
   "outputs": [],
   "source": [
    "def face_point(tpos):\n",
    "    wbp=whole_body.get_current_pose()\n",
    "    p, o =pose_2_np(wbp)\n",
    "    dif=tpos-p\n",
    "    np.arctan2(dif[1],dif[0])\n",
    "    move_base( p[0],p[1],np.arctan2(dif[1],dif[0]))"
   ]
  },
  {
   "cell_type": "code",
   "execution_count": null,
   "metadata": {},
   "outputs": [],
   "source": [
    "face_point()"
   ]
  }
 ],
 "metadata": {
  "kernelspec": {
   "display_name": "Python 2",
   "language": "python",
   "name": "python2"
  },
  "language_info": {
   "codemirror_mode": {
    "name": "ipython",
    "version": 2
   },
   "file_extension": ".py",
   "mimetype": "text/x-python",
   "name": "python",
   "nbconvert_exporter": "python",
   "pygments_lexer": "ipython2",
   "version": "2.7.17"
  },
  "nbTranslate": {
   "displayLangs": [
    "ja"
   ],
   "hotkey": "alt-t",
   "langInMainMenu": true,
   "sourceLang": "ja",
   "targetLang": "en",
   "useGoogleTranslate": true
  },
  "toc": {
   "base_numbering": 1,
   "nav_menu": {},
   "number_sections": true,
   "sideBar": true,
   "skip_h1_title": false,
   "title_cell": "Table of Contents",
   "title_sidebar": "Contents",
   "toc_cell": false,
   "toc_position": {},
   "toc_section_display": true,
   "toc_window_display": true
  }
 },
 "nbformat": 4,
 "nbformat_minor": 2
}
