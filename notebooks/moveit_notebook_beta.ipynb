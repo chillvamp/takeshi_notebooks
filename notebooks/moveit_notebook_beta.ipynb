{
 "cells": [
  {
   "cell_type": "code",
   "execution_count": 4,
   "metadata": {},
   "outputs": [],
   "source": [
    "import sys\n",
    "\n",
    "import moveit_commander\n",
    "import moveit_msgs.msg\n",
    "import rospy\n",
    "import trajectory_msgs.msg\n",
    "from geometry_msgs.msg import PoseStamped\n",
    "import tf\n",
    "import actionlib\n",
    "### ALL OF THESE IMPORTS MUST BE HANDELD BY TAKESHI INSTALL"
   ]
  },
  {
   "cell_type": "code",
   "execution_count": 5,
   "metadata": {},
   "outputs": [],
   "source": [
    "rospy.init_node('moveiteando')"
   ]
  },
  {
   "cell_type": "code",
   "execution_count": 6,
   "metadata": {},
   "outputs": [],
   "source": [
    "arm = moveit_commander.MoveGroupCommander('arm')\n",
    "base=  moveit_commander.MoveGroupCommander('base')\n",
    "gripper = moveit_commander.MoveGroupCommander('gripper')"
   ]
  },
  {
   "cell_type": "code",
   "execution_count": 31,
   "metadata": {},
   "outputs": [
    {
     "data": {
      "text/plain": [
       "'position: \\n  x: 0.566861051976\\n  y: -0.0908725062498\\n  z: 0.138482882727\\norientation: \\n  x: 0.451871900734\\n  y: -0.591944952696\\n  z: 0.411952261826\\n  w: 0.52507931999'"
      ]
     },
     "execution_count": 31,
     "metadata": {},
     "output_type": "execute_result"
    }
   ],
   "source": [
    "## SET A KNOW POSE T OOPEN GRIPPER\n",
    "### joint values to variable\n",
    "open_gripper = [0.0069694317211350665,\n",
    " -0.7520135334314333,\n",
    " 0.6650135334314333,\n",
    " 0.010709631553152299,\n",
    " -0.7520135334314333]#gripper.get_current_joint_values()\n",
    "\n",
    "\"\"\"position: \n",
    "  x: 0.566861051976\n",
    "  y: -0.0908725062498\n",
    "  z: 0.138482882727\n",
    "orientation: \n",
    "  x: 0.451871900734\n",
    "  y: -0.591944952696\n",
    "  z: 0.411952261826\n",
    "  w: 0.52507931999\"\"\""
   ]
  },
  {
   "cell_type": "code",
   "execution_count": 32,
   "metadata": {},
   "outputs": [
    {
     "data": {
      "text/plain": [
       "True"
      ]
     },
     "execution_count": 32,
     "metadata": {},
     "output_type": "execute_result"
    }
   ],
   "source": [
    "#set GOAL\n",
    "gripper.set_joint_value_target(open_gripper)\n",
    "#PLAN AND EXECUTE\n",
    "gripper.go()\n"
   ]
  },
  {
   "cell_type": "code",
   "execution_count": 33,
   "metadata": {},
   "outputs": [],
   "source": [
    "\n",
    "### ARM \n",
    "\n",
    "hand_train_pose=[0.033749214744071214,\n",
    " -2.1204421063180217,\n",
    " -1.3982377978814715,\n",
    " -1.7296544561013807,\n",
    " 2.135675364707808,\n",
    " 0.0]"
   ]
  },
  {
   "cell_type": "code",
   "execution_count": 34,
   "metadata": {},
   "outputs": [
    {
     "data": {
      "text/plain": [
       "True"
      ]
     },
     "execution_count": 34,
     "metadata": {},
     "output_type": "execute_result"
    }
   ],
   "source": [
    "arm.set_joint_value_target(hand_train_pose)\n",
    "arm.go()"
   ]
  },
  {
   "cell_type": "code",
   "execution_count": 35,
   "metadata": {},
   "outputs": [
    {
     "data": {
      "text/plain": [
       "True"
      ]
     },
     "execution_count": 35,
     "metadata": {},
     "output_type": "execute_result"
    }
   ],
   "source": [
    "odom =[0, 0, 0]\n",
    "base.set_joint_value_target(odom)\n",
    "base.go()"
   ]
  },
  {
   "cell_type": "code",
   "execution_count": 34,
   "metadata": {},
   "outputs": [
    {
     "data": {
      "text/plain": [
       "[-0.0028984389622044335, -0.0018986101263445472, 0.02756601542286352]"
      ]
     },
     "execution_count": 34,
     "metadata": {},
     "output_type": "execute_result"
    }
   ],
   "source": [
    "base.get_current_joint_values()\n"
   ]
  },
  {
   "cell_type": "code",
   "execution_count": 30,
   "metadata": {},
   "outputs": [
    {
     "data": {
      "text/plain": [
       "True"
      ]
     },
     "execution_count": 30,
     "metadata": {},
     "output_type": "execute_result"
    }
   ],
   "source": [
    "arm.set_named_target('go')\n",
    "arm.go()"
   ]
  },
  {
   "cell_type": "code",
   "execution_count": 40,
   "metadata": {},
   "outputs": [
    {
     "ename": "MoveItCommanderException",
     "evalue": "Error setting joint target. Is the target within bounds?",
     "output_type": "error",
     "traceback": [
      "\u001b[0;31m\u001b[0m",
      "\u001b[0;31mMoveItCommanderException\u001b[0mTraceback (most recent call last)",
      "\u001b[0;32m<ipython-input-40-a1d72ecd20a0>\u001b[0m in \u001b[0;36m<module>\u001b[0;34m()\u001b[0m\n\u001b[1;32m      1\u001b[0m \u001b[0;34m\u001b[0m\u001b[0m\n\u001b[0;32m----> 2\u001b[0;31m \u001b[0marm\u001b[0m\u001b[0;34m.\u001b[0m\u001b[0mset_joint_value_target\u001b[0m\u001b[0;34m(\u001b[0m\u001b[0mhand_train_pose\u001b[0m\u001b[0;34m)\u001b[0m\u001b[0;34m\u001b[0m\u001b[0m\n\u001b[0m\u001b[1;32m      3\u001b[0m \u001b[0marm\u001b[0m\u001b[0;34m.\u001b[0m\u001b[0mgo\u001b[0m\u001b[0;34m(\u001b[0m\u001b[0;34m)\u001b[0m\u001b[0;34m\u001b[0m\u001b[0m\n",
      "\u001b[0;32m/opt/ros/melodic/lib/python2.7/dist-packages/moveit_commander/move_group.pyc\u001b[0m in \u001b[0;36mset_joint_value_target\u001b[0;34m(self, arg1, arg2, arg3)\u001b[0m\n\u001b[1;32m    225\u001b[0m                 \u001b[0;32mraise\u001b[0m \u001b[0mMoveItCommanderException\u001b[0m\u001b[0;34m(\u001b[0m\u001b[0;34m\"Too many arguments specified\"\u001b[0m\u001b[0;34m)\u001b[0m\u001b[0;34m\u001b[0m\u001b[0m\n\u001b[1;32m    226\u001b[0m             \u001b[0;32mif\u001b[0m \u001b[0;32mnot\u001b[0m \u001b[0mself\u001b[0m\u001b[0;34m.\u001b[0m\u001b[0m_g\u001b[0m\u001b[0;34m.\u001b[0m\u001b[0mset_joint_value_target\u001b[0m\u001b[0;34m(\u001b[0m\u001b[0marg1\u001b[0m\u001b[0;34m)\u001b[0m\u001b[0;34m:\u001b[0m\u001b[0;34m\u001b[0m\u001b[0m\n\u001b[0;32m--> 227\u001b[0;31m                 \u001b[0;32mraise\u001b[0m \u001b[0mMoveItCommanderException\u001b[0m\u001b[0;34m(\u001b[0m\u001b[0;34m\"Error setting joint target. Is the target within bounds?\"\u001b[0m\u001b[0;34m)\u001b[0m\u001b[0;34m\u001b[0m\u001b[0m\n\u001b[0m\u001b[1;32m    228\u001b[0m \u001b[0;34m\u001b[0m\u001b[0m\n\u001b[1;32m    229\u001b[0m         \u001b[0;32melse\u001b[0m\u001b[0;34m:\u001b[0m\u001b[0;34m\u001b[0m\u001b[0m\n",
      "\u001b[0;31mMoveItCommanderException\u001b[0m: Error setting joint target. Is the target within bounds?"
     ]
    }
   ],
   "source": [
    "\n",
    "arm.set_joint_value_target(hand_train_pose)\n",
    "arm.go()\n"
   ]
  },
  {
   "cell_type": "code",
   "execution_count": 12,
   "metadata": {},
   "outputs": [],
   "source": [
    "hand_train_pose[0]=0"
   ]
  },
  {
   "cell_type": "code",
   "execution_count": 13,
   "metadata": {},
   "outputs": [],
   "source": [
    "#whole_body.gaze_point((.8,.8,0),'map')\n",
    "# gripper.set_distance(1)\n",
    "\n",
    "#IHSRB"
   ]
  },
  {
   "cell_type": "code",
   "execution_count": 26,
   "metadata": {},
   "outputs": [],
   "source": [
    "whole_body = arm = moveit_commander.MoveGroupCommander('whole_body_weighted')\n"
   ]
  },
  {
   "cell_type": "code",
   "execution_count": 13,
   "metadata": {},
   "outputs": [],
   "source": [
    "pose_body=whole_body.get_current_pose()"
   ]
  },
  {
   "cell_type": "code",
   "execution_count": 14,
   "metadata": {},
   "outputs": [
    {
     "data": {
      "text/plain": [
       "header: \n",
       "  seq: 0\n",
       "  stamp: \n",
       "    secs: 291\n",
       "    nsecs: 864000000\n",
       "  frame_id: \"odom\"\n",
       "pose: \n",
       "  position: \n",
       "    x: 0.397969338594\n",
       "    y: -0.0219568702969\n",
       "    z: 0.0387414219371\n",
       "  orientation: \n",
       "    x: 0.999645471845\n",
       "    y: 0.000370017886957\n",
       "    z: -0.00169964978838\n",
       "    w: 0.0265688708436"
      ]
     },
     "execution_count": 14,
     "metadata": {},
     "output_type": "execute_result"
    }
   ],
   "source": [
    "pose_body"
   ]
  },
  {
   "cell_type": "code",
   "execution_count": 17,
   "metadata": {},
   "outputs": [
    {
     "data": {
      "text/plain": [
       "'pose: \\n  position: \\n    x: 0.397969338594\\n    y: -0.0219568702969\\n    z: 0.0387414219371\\n  orientation: \\n    x: 0.999645471845\\n    y: 0.000370017886957\\n    z: -0.00169964978838\\n    w: 0.0265688708436'"
      ]
     },
     "execution_count": 17,
     "metadata": {},
     "output_type": "execute_result"
    }
   ],
   "source": [
    "\n",
    "pose_body.pose.position.x= 0.6\n",
    "pose_body.pose.position.z= 0.1\n",
    "#pose_body.pose.orientation.x= 0.45\n",
    "#pose_body.pose.orientation.y=-0.6314947481327097\n",
    "#pose_body.pose.orientation.z=0.4\n",
    "#pose_body.pose.orientation.w=0.5\n",
    "\"\"\"position: \n",
    "  x: 0.566861051976\n",
    "  y: -0.0908725062498\n",
    "  z: 0.138482882727\n",
    "orientation: \n",
    "  x: 0.451871900734\n",
    "  y: -0.591944952696\n",
    "  z: 0.411952261826\n",
    "  w: 0.52507931999\"\"\"\n",
    "\"\"\"pose: \n",
    "  position: \n",
    "    x: 0.397969338594\n",
    "    y: -0.0219568702969\n",
    "    z: 0.0387414219371\n",
    "  orientation: \n",
    "    x: 0.999645471845\n",
    "    y: 0.000370017886957\n",
    "    z: -0.00169964978838\n",
    "    w: 0.0265688708436\"\"\"\n"
   ]
  },
  {
   "cell_type": "code",
   "execution_count": 27,
   "metadata": {},
   "outputs": [],
   "source": [
    "whole_body.set_pose_target(pose_body)"
   ]
  },
  {
   "cell_type": "code",
   "execution_count": 29,
   "metadata": {},
   "outputs": [
    {
     "data": {
      "text/plain": [
       "joint_trajectory: \n",
       "  header: \n",
       "    seq: 0\n",
       "    stamp: \n",
       "      secs: 0\n",
       "      nsecs:         0\n",
       "    frame_id: ''\n",
       "  joint_names: []\n",
       "  points: []\n",
       "multi_dof_joint_trajectory: \n",
       "  header: \n",
       "    seq: 0\n",
       "    stamp: \n",
       "      secs: 0\n",
       "      nsecs:         0\n",
       "    frame_id: ''\n",
       "  joint_names: []\n",
       "  points: []"
      ]
     },
     "execution_count": 29,
     "metadata": {},
     "output_type": "execute_result"
    }
   ],
   "source": [
    "whole_body.plan()"
   ]
  },
  {
   "cell_type": "code",
   "execution_count": 28,
   "metadata": {},
   "outputs": [
    {
     "data": {
      "text/plain": [
       "False"
      ]
     },
     "execution_count": 28,
     "metadata": {},
     "output_type": "execute_result"
    }
   ],
   "source": [
    "whole_body.set_goal_tolerance(.1)\n",
    "\n",
    "whole_body.go()"
   ]
  },
  {
   "cell_type": "code",
   "execution_count": null,
   "metadata": {},
   "outputs": [],
   "source": []
  },
  {
   "cell_type": "code",
   "execution_count": 52,
   "metadata": {},
   "outputs": [
    {
     "ename": "MoveItCommanderException",
     "evalue": "Unable to set target go. Is the target within bounds?",
     "output_type": "error",
     "traceback": [
      "\u001b[0;31m\u001b[0m",
      "\u001b[0;31mMoveItCommanderException\u001b[0mTraceback (most recent call last)",
      "\u001b[0;32m<ipython-input-52-9d001f523a9d>\u001b[0m in \u001b[0;36m<module>\u001b[0;34m()\u001b[0m\n\u001b[0;32m----> 1\u001b[0;31m \u001b[0mwhole_body\u001b[0m\u001b[0;34m.\u001b[0m\u001b[0mset_named_target\u001b[0m\u001b[0;34m(\u001b[0m\u001b[0;34m'go'\u001b[0m\u001b[0;34m)\u001b[0m\u001b[0;34m\u001b[0m\u001b[0m\n\u001b[0m\u001b[1;32m      2\u001b[0m \u001b[0mwhole\u001b[0m\u001b[0;34m.\u001b[0m\u001b[0mgo\u001b[0m\u001b[0;34m(\u001b[0m\u001b[0;34m)\u001b[0m\u001b[0;34m\u001b[0m\u001b[0m\n",
      "\u001b[0;32m/opt/ros/melodic/lib/python2.7/dist-packages/moveit_commander/move_group.pyc\u001b[0m in \u001b[0;36mset_named_target\u001b[0;34m(self, name)\u001b[0m\n\u001b[1;32m    324\u001b[0m         \u001b[0;34m\"\"\" Set a joint configuration by name. The name can be a name previlusy remembered with remember_joint_values() or a configuration specified in the SRDF. \"\"\"\u001b[0m\u001b[0;34m\u001b[0m\u001b[0m\n\u001b[1;32m    325\u001b[0m         \u001b[0;32mif\u001b[0m \u001b[0;32mnot\u001b[0m \u001b[0mself\u001b[0m\u001b[0;34m.\u001b[0m\u001b[0m_g\u001b[0m\u001b[0;34m.\u001b[0m\u001b[0mset_named_target\u001b[0m\u001b[0;34m(\u001b[0m\u001b[0mname\u001b[0m\u001b[0;34m)\u001b[0m\u001b[0;34m:\u001b[0m\u001b[0;34m\u001b[0m\u001b[0m\n\u001b[0;32m--> 326\u001b[0;31m             \u001b[0;32mraise\u001b[0m \u001b[0mMoveItCommanderException\u001b[0m\u001b[0;34m(\u001b[0m\u001b[0;34m\"Unable to set target %s. Is the target within bounds?\"\u001b[0m \u001b[0;34m%\u001b[0m \u001b[0mname\u001b[0m\u001b[0;34m)\u001b[0m\u001b[0;34m\u001b[0m\u001b[0m\n\u001b[0m\u001b[1;32m    327\u001b[0m \u001b[0;34m\u001b[0m\u001b[0m\n\u001b[1;32m    328\u001b[0m     \u001b[0;32mdef\u001b[0m \u001b[0mget_named_target_values\u001b[0m\u001b[0;34m(\u001b[0m\u001b[0mself\u001b[0m\u001b[0;34m,\u001b[0m \u001b[0mtarget\u001b[0m\u001b[0;34m)\u001b[0m\u001b[0;34m:\u001b[0m\u001b[0;34m\u001b[0m\u001b[0m\n",
      "\u001b[0;31mMoveItCommanderException\u001b[0m: Unable to set target go. Is the target within bounds?"
     ]
    }
   ],
   "source": [
    "whole_body.set_named_target('go')\n",
    "whole.go()"
   ]
  },
  {
   "cell_type": "code",
   "execution_count": 24,
   "metadata": {},
   "outputs": [],
   "source": [
    "arm = moveit_commander.MoveGroupCommander('arm')\n"
   ]
  },
  {
   "cell_type": "code",
   "execution_count": 49,
   "metadata": {},
   "outputs": [
    {
     "data": {
      "text/plain": [
       "True"
      ]
     },
     "execution_count": 49,
     "metadata": {},
     "output_type": "execute_result"
    }
   ],
   "source": [
    "arm.set_named_target('go')\n",
    "arm.go()"
   ]
  },
  {
   "cell_type": "code",
   "execution_count": 55,
   "metadata": {},
   "outputs": [],
   "source": [
    "pp=whole_body.get_current_joint_values()"
   ]
  },
  {
   "cell_type": "code",
   "execution_count": 56,
   "metadata": {},
   "outputs": [],
   "source": [
    "pp[0]=1"
   ]
  },
  {
   "cell_type": "code",
   "execution_count": null,
   "metadata": {},
   "outputs": [],
   "source": [
    "\n",
    "whole_body.set_joint_value_target(joint_values_body_pick_floor)\n",
    "whole_body.go()"
   ]
  },
  {
   "cell_type": "code",
   "execution_count": 36,
   "metadata": {},
   "outputs": [],
   "source": [
    "joint_values_body_pick_floor=whole_body.get_current_joint_values()"
   ]
  },
  {
   "cell_type": "code",
   "execution_count": 37,
   "metadata": {},
   "outputs": [],
   "source": [
    "\n",
    "import numpy as np"
   ]
  },
  {
   "cell_type": "code",
   "execution_count": 38,
   "metadata": {},
   "outputs": [],
   "source": [
    "np.save('joint_values_body_pick_floor.npy',joint_values_body_pick_floor)"
   ]
  },
  {
   "cell_type": "code",
   "execution_count": 39,
   "metadata": {},
   "outputs": [],
   "source": []
  },
  {
   "cell_type": "code",
   "execution_count": 45,
   "metadata": {},
   "outputs": [
    {
     "data": {
      "text/plain": [
       "['odom_y',\n",
       " 'odom_x',\n",
       " 'odom_r',\n",
       " 'arm_lift_joint',\n",
       " 'arm_flex_joint',\n",
       " 'arm_roll_joint',\n",
       " 'wrist_flex_joint',\n",
       " 'wrist_roll_joint',\n",
       " 'wrist_ft_sensor_frame_joint']"
      ]
     },
     "execution_count": 45,
     "metadata": {},
     "output_type": "execute_result"
    }
   ],
   "source": [
    "whole_body.get_active_joints()"
   ]
  },
  {
   "cell_type": "code",
   "execution_count": 52,
   "metadata": {},
   "outputs": [],
   "source": [
    "joint_values_body_pick_floor[1]+=.3"
   ]
  },
  {
   "cell_type": "code",
   "execution_count": null,
   "metadata": {},
   "outputs": [],
   "source": []
  }
 ],
 "metadata": {
  "kernelspec": {
   "display_name": "Python 2",
   "language": "python",
   "name": "python2"
  },
  "language_info": {
   "codemirror_mode": {
    "name": "ipython",
    "version": 2
   },
   "file_extension": ".py",
   "mimetype": "text/x-python",
   "name": "python",
   "nbconvert_exporter": "python",
   "pygments_lexer": "ipython2",
   "version": "2.7.17"
  },
  "nbTranslate": {
   "displayLangs": [
    "*"
   ],
   "hotkey": "alt-t",
   "langInMainMenu": true,
   "sourceLang": "en",
   "targetLang": "fr",
   "useGoogleTranslate": true
  },
  "toc": {
   "base_numbering": 1,
   "nav_menu": {},
   "number_sections": true,
   "sideBar": true,
   "skip_h1_title": false,
   "title_cell": "Table of Contents",
   "title_sidebar": "Contents",
   "toc_cell": false,
   "toc_position": {},
   "toc_section_display": true,
   "toc_window_display": false
  }
 },
 "nbformat": 4,
 "nbformat_minor": 2
}
