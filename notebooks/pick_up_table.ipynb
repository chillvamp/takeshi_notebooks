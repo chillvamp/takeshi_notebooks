{
 "cells": [
  {
   "cell_type": "markdown",
   "metadata": {
    "lang": "en"
   },
   "source": [
    "## Setup"
   ]
  },
  {
   "cell_type": "markdown",
   "metadata": {
    "lang": "ja"
   },
   "source": []
  },
  {
   "cell_type": "markdown",
   "metadata": {
    "lang": "en"
   },
   "source": [
    "Import the required libraries and initialize them:"
   ]
  },
  {
   "cell_type": "code",
   "execution_count": 1,
   "metadata": {},
   "outputs": [],
   "source": [
    "from std_srvs.srv import Empty"
   ]
  },
  {
   "cell_type": "code",
   "execution_count": 2,
   "metadata": {},
   "outputs": [],
   "source": [
    "from cv_bridge import CvBridge, CvBridgeError\n",
    "import rospy\n",
    "import cv2\n",
    "import ros_numpy\n",
    "import numpy as np\n",
    "from tmc_tabletop_segmentator.srv import TabletopSegmentation\n",
    "from tmc_tabletop_segmentator.srv import TabletopSegmentationRequest\n",
    "from sensor_msgs.msg import Image\n",
    "from std_msgs.msg import String\n",
    "import tf\n",
    "import tf2_ros\n",
    "import geometry_msgs.msg\n",
    "from utils_notebooks import *\n"
   ]
  },
  {
   "cell_type": "code",
   "execution_count": 3,
   "metadata": {},
   "outputs": [],
   "source": [
    "%matplotlib inline\n",
    "\n",
    "import matplotlib.pyplot as plt\n",
    "import numpy as np\n",
    "import ros_numpy\n",
    "import rospy\n",
    "import tf\n",
    "from gazebo_ros import gazebo_interface\n",
    "from sensor_msgs.msg import LaserScan, PointCloud2\n",
    "from geometry_msgs.msg import Pose, Quaternion ,TransformStamped\n",
    "import moveit_commander\n",
    "import moveit_msgs.msg\n",
    "\n",
    "import sys\n",
    "\n",
    "from utils_notebooks import *\n",
    "#from utils_task1 import *\n",
    "import cv2\n",
    "import os"
   ]
  },
  {
   "cell_type": "markdown",
   "metadata": {
    "lang": "ja"
   },
   "source": [
    "# REMEMBER TO RUN MOVEIT \n",
    "# roslaunch  hsrb_moveit_config  hsrb_demo_with_controller.launch"
   ]
  },
  {
   "cell_type": "code",
   "execution_count": 4,
   "metadata": {},
   "outputs": [],
   "source": [
    "#! roslaunch  hsrb_moveit_config  hsrb_demo_with_controller.launch"
   ]
  },
  {
   "cell_type": "code",
   "execution_count": 5,
   "metadata": {},
   "outputs": [],
   "source": [
    "\n",
    "\n",
    "bridge = CvBridge()\n",
    "###might take some time to load all those takeshi meshes in rviz\n",
    "\n",
    "head = moveit_commander.MoveGroupCommander('head')\n",
    "arm = moveit_commander.MoveGroupCommander('arm')\n",
    "whole_body = moveit_commander.MoveGroupCommander('whole_body_light')\n",
    "whole_body.set_workspace([-6.0, -6.0, 6.0, 6.0])#whole_body.go(wb)\n"
   ]
  },
  {
   "cell_type": "code",
   "execution_count": null,
   "metadata": {},
   "outputs": [],
   "source": []
  },
  {
   "cell_type": "code",
   "execution_count": 6,
   "metadata": {},
   "outputs": [],
   "source": [
    "#!python /home/oscar/Codes/catkin_mio_ws/src/hsrb_samples/hsrb_vision_samples/src/hsrb_vision_samples/execute_tabletop_segmentation.py"
   ]
  },
  {
   "cell_type": "code",
   "execution_count": 7,
   "metadata": {},
   "outputs": [],
   "source": [
    "#! python /home/oscar/Codes/catkin_mio_ws/src/hsrb_samples/hsrb_vision_samples/src/hsrb_vision_samples/execute_tabletop_segmentation_backup.py\n",
    "\n"
   ]
  },
  {
   "cell_type": "code",
   "execution_count": 8,
   "metadata": {},
   "outputs": [],
   "source": [
    "\n",
    "rospy.init_node(\"recognition\")\n"
   ]
  },
  {
   "cell_type": "code",
   "execution_count": 9,
   "metadata": {},
   "outputs": [],
   "source": [
    "def pose_2_np(wp_p):\n",
    "   \n",
    "    return np.asarray((wp_p.pose.position.x,wp_p.pose.position.y,wp_p.pose.position.z)) , np.asarray((wp_p.pose.orientation.w,wp_p.pose.orientation.x,wp_p.pose.orientation.y, wp_p.pose.orientation.z)) \n",
    "def np_2_pose(position,orientation):\n",
    "    wb_p= geometry_msgs.msg.PoseStamped()\n",
    "    \n",
    "    wb_p.pose.position.x= position[0]\n",
    "    wb_p.pose.position.y= position[1]\n",
    "    wb_p.pose.position.z= position[2]\n",
    "    wb_p.pose.orientation.w= orientation[0]\n",
    "    wb_p.pose.orientation.x= orientation[1]\n",
    "    wb_p.pose.orientation.y= orientation[2]\n",
    "    wb_p.pose.orientation.z= orientation[3]\n",
    "    return wb_p"
   ]
  },
  {
   "cell_type": "code",
   "execution_count": 10,
   "metadata": {},
   "outputs": [],
   "source": [
    "rgbd = RGBD()\n",
    "#a listener xtion rgbd listener class , (check utils for methods )\n",
    "# TF is one of the most powerfull underated Ros tools, I recomend to understand it and use it as often as possible.\n",
    "listener = tf.TransformListener()\n",
    "broadcaster= tf.TransformBroadcaster()\n",
    "tf_static_broadcaster= tf2_ros.StaticTransformBroadcaster()\n"
   ]
  },
  {
   "cell_type": "code",
   "execution_count": 11,
   "metadata": {},
   "outputs": [],
   "source": [
    "clear_octo_client = rospy.ServiceProxy('/clear_octomap', Empty)\n",
    "\n",
    "clear_octo_client.wait_for_service(timeout=1.0)\n"
   ]
  },
  {
   "cell_type": "code",
   "execution_count": 12,
   "metadata": {},
   "outputs": [],
   "source": [
    "clear_octo_client = rospy.ServiceProxy('/clear_octomap', Empty)\n",
    "#"
   ]
  },
  {
   "cell_type": "code",
   "execution_count": 13,
   "metadata": {},
   "outputs": [],
   "source": [
    "# initialize ROS publisher\n",
    "pub = rospy.Publisher('goal', PoseStamped, queue_size=10)\n",
    "\n",
    "# wait to establish connection between the navigation interface\n",
    "# move_base and navigation_log_recorder node\n",
    "\n",
    "def move_base(x,y,th, ref='map'):\n",
    "    # input goal pose\n",
    "    goal_x = x\n",
    "    goal_y = y\n",
    "    goal_yaw =th\n",
    "\n",
    "    # fill ROS message\n",
    "    goal = PoseStamped()\n",
    "    goal.header.stamp = rospy.Time.now()\n",
    "    goal.header.frame_id = ref\n",
    "    goal.pose.position = Point(goal_x, goal_y, 0)\n",
    "    quat = tf.transformations.quaternion_from_euler(0, 0, goal_yaw)\n",
    "    goal.pose.orientation = Quaternion(*quat)\n",
    "    # publish ROS message\n",
    "    pub.publish(goal)\n",
    "    "
   ]
  },
  {
   "cell_type": "code",
   "execution_count": 14,
   "metadata": {},
   "outputs": [
    {
     "data": {
      "text/plain": [
       "True"
      ]
     },
     "execution_count": 14,
     "metadata": {},
     "output_type": "execute_result"
    }
   ],
   "source": [
    "arm.set_named_target('go')\n",
    "arm.go()"
   ]
  },
  {
   "cell_type": "code",
   "execution_count": 15,
   "metadata": {},
   "outputs": [],
   "source": [
    "service_client = rospy.ServiceProxy('/tabletop_segmentator_node/execute', TabletopSegmentation)\n",
    "service_client.wait_for_service(timeout=1.0)\n"
   ]
  },
  {
   "cell_type": "code",
   "execution_count": 44,
   "metadata": {},
   "outputs": [],
   "source": [
    "move_base(1.5,1.13,.5*np.pi)"
   ]
  },
  {
   "cell_type": "code",
   "execution_count": 30,
   "metadata": {},
   "outputs": [
    {
     "ename": "NameError",
     "evalue": "name 'wait' is not defined",
     "output_type": "error",
     "traceback": [
      "\u001b[0;31m---------------------------------------------------------------------------\u001b[0m",
      "\u001b[0;31mNameError\u001b[0m                                 Traceback (most recent call last)",
      "\u001b[0;32m<ipython-input-30-817fa7cb0e46>\u001b[0m in \u001b[0;36m<module>\u001b[0;34m()\u001b[0m\n\u001b[0;32m----> 1\u001b[0;31m \u001b[0mwait\u001b[0m\u001b[0;34m\u001b[0m\u001b[0m\n\u001b[0m",
      "\u001b[0;31mNameError\u001b[0m: name 'wait' is not defined"
     ]
    }
   ],
   "source": [
    "wait "
   ]
  },
  {
   "cell_type": "code",
   "execution_count": 45,
   "metadata": {},
   "outputs": [
    {
     "data": {
      "text/plain": [
       "True"
      ]
     },
     "execution_count": 45,
     "metadata": {},
     "output_type": "execute_result"
    }
   ],
   "source": [
    "\n",
    "head_val=head.get_current_joint_values()\n",
    "#head_val[0]=np.deg2rad(0)\n",
    "head_val[1]=np.deg2rad(-45)\n",
    "\n",
    "head.go(head_val)\n",
    "#If head didnt move, MOVE IT isnt running  properly"
   ]
  },
  {
   "cell_type": "code",
   "execution_count": 32,
   "metadata": {},
   "outputs": [
    {
     "data": {
      "text/plain": [
       "<matplotlib.image.AxesImage at 0x7fda0036a810>"
      ]
     },
     "execution_count": 32,
     "metadata": {},
     "output_type": "execute_result"
    },
    {
     "data": {
      "image/png": "[encoded data removed]",
      "text/plain": [
       "<matplotlib.figure.Figure at 0x7fda005805d0>"
      ]
     },
     "metadata": {
      "needs_background": "light"
     },
     "output_type": "display_data"
    }
   ],
   "source": [
    "plt.imshow(rgbd.get_image())"
   ]
  },
  {
   "cell_type": "markdown",
   "metadata": {},
   "source": [
    "# run this in terminal (TABLETOP SEGMENTATION )\n",
    "#  rviz -d `rospack find hsrb_vision_samples`/config/tabletop.rvizro"
   ]
  },
  {
   "cell_type": "code",
   "execution_count": 46,
   "metadata": {},
   "outputs": [
    {
     "name": "stdout",
     "output_type": "stream",
     "text": [
      "position: \n",
      "  x: -0.0738370865583\n",
      "  y: -0.0570905320346\n",
      "  z: 0.844000041485\n",
      "orientation: \n",
      "  x: 0.925420463085\n",
      "  y: -0.000755048706196\n",
      "  z: -0.00184394267853\n",
      "  w: 0.378936678171\n",
      "position: \n",
      "  x: -0.000918138364796\n",
      "  y: 0.335120499134\n",
      "  z: 1.01800000668\n",
      "orientation: \n",
      "  x: 0.925824761391\n",
      "  y: -0.000588588707615\n",
      "  z: -0.00144180457573\n",
      "  w: 0.377949923277\n",
      "position: \n",
      "  x: 0.122230544686\n",
      "  y: -0.264686316252\n",
      "  z: 0.975000023842\n",
      "orientation: \n",
      "  x: 0.916970252991\n",
      "  y: 0.0453236699104\n",
      "  z: -0.109061613679\n",
      "  w: -0.381073236465\n",
      "position: \n",
      "  x: -0.0192132629454\n",
      "  y: 0.155840918422\n",
      "  z: 0.789000034332\n",
      "orientation: \n",
      "  x: 0.913683831692\n",
      "  y: 0.0471348017454\n",
      "  z: -0.110957071185\n",
      "  w: -0.388134837151\n",
      "[INFO] [1634510407.147047, 101.202000]: Number of detected objects=4\n",
      "[INFO] [1634510407.148590, 101.202000]: Number of detected planes=4\n"
     ]
    }
   ],
   "source": [
    "\n",
    "#define a tabletop segmentation request.\n",
    "# Play with these parameters\n",
    "\n",
    "\n",
    "req = TabletopSegmentationRequest()\n",
    "req.crop_enabled = True  # limit the processing area\n",
    "req.crop_x_max = 0.7     # X coordinate maximum value in the area [m]\n",
    "req.crop_x_min = -0.7    # X coordinate minimum value in the area [m]\n",
    "req.crop_y_max = 1.0     # Y coordinate maximum value in the area [m]\n",
    "req.crop_y_min = -1.0    # Y coordinate minimum value in the area [m]\n",
    "req.crop_z_max = 1.1     # Z coordinate maximum value in the area [m]\n",
    "req.crop_z_min = 0.0     # Z coordinate minimum value in the area [m]\n",
    "req.cluster_z_max = 1.0  # maximum height value of cluster on table [m]\n",
    "req.cluster_z_min = 0.0  # minimum height value of cluster on table [m]\n",
    "req.remove_bg = True    # remove the background of the segment image\n",
    "\n",
    "res = service_client(req)\n",
    "for i in range (len(res.table_array.tables)):\n",
    "    print (res.table_array.tables[i].pose)\n",
    "\n",
    "rospy.loginfo('Number of detected objects={0}'.format(\n",
    "    len(   res.segmented_objects_array.table_objects_array)))\n",
    "rospy.loginfo('Number of detected planes={0}'.format(\n",
    "    len(res.table_array.tables)))\n",
    "#(trans,rot)=tf_listener.lookupTransform('hand_palm_link', 'map', rospy.Time(0)) "
   ]
  },
  {
   "cell_type": "code",
   "execution_count": 47,
   "metadata": {},
   "outputs": [
    {
     "name": "stdout",
     "output_type": "stream",
     "text": [
      "('Plane', 0, 'has', 1, 'objects')\n",
      "(0, 0)\n",
      "('Plane', 1, 'has', 2, 'objects')\n",
      "(1, 0)\n",
      "(1, 1)\n",
      "('Plane', 2, 'has', 2, 'objects')\n",
      "(2, 0)\n",
      "(2, 1)\n",
      "('Plane', 3, 'has', 0, 'objects')\n",
      "[array([nan, nan, nan]), array([-0.21838623, -0.11688897,  0.88804111]), array([-0.0332802 ,  0.13413651,  0.78704673]), array([0.34776114, 0.31248026, 1.00367546]), array([0.26671171, 0.31309762, 0.91107036])]\n"
     ]
    }
   ],
   "source": [
    "objs_depth_centroids=[]\n",
    "for i in range (len(res.segmented_objects_array.table_objects_array\t)):\n",
    "    print ( 'Plane',i,'has', len(res.segmented_objects_array.table_objects_array[i].depth_image_array), 'objects')\n",
    "    for j in range (len(res.segmented_objects_array.table_objects_array[i].points_array)):\n",
    "        cv2_img_depth = bridge.imgmsg_to_cv2(res.segmented_objects_array.table_objects_array[i].depth_image_array[0] )\n",
    "        cv2_img = bridge.imgmsg_to_cv2(res.segmented_objects_array.table_objects_array[i].rgb_image_array[0] )\n",
    "        pc= ros_numpy.numpify (res.segmented_objects_array.table_objects_array[i].points_array[j])\n",
    "        points=np.zeros((pc.shape[0],3))\n",
    "        points[:,0]=pc['x']\n",
    "        points[:,1]=pc['y']\n",
    "        points[:,2]=pc['z']\n",
    "        objs_depth_centroids.append(np.mean(points,axis=0))\n",
    "        print(i,j)\n",
    "print objs_depth_centroids\n",
    "\n",
    "#lets publish a tf to this centroids ( lot of false positives) !!!!\n"
   ]
  },
  {
   "cell_type": "code",
   "execution_count": 48,
   "metadata": {},
   "outputs": [
    {
     "name": "stdout",
     "output_type": "stream",
     "text": [
      "(1, 0.8880411063991307)\n",
      "(2, 0.7870467281023498)\n",
      "(3, 1.003675458470329)\n",
      "(4, 0.9110703564947471)\n"
     ]
    }
   ],
   "source": [
    "for i in range(len(objs_depth_centroids)):\n",
    "    #Table is a plane at z=.8 So we consider false positives all the centroids outside the region on axis z ( .79 , .9)\n",
    "    if objs_depth_centroids[i][2] > 0 and objs_depth_centroids[i][2] <44.9: \n",
    "        static_transformStamped = geometry_msgs.msg.TransformStamped()\n",
    "        broadcaster.sendTransform((objs_depth_centroids[i]),(0,0,0,1), rospy.Time.now(), 'Closest_Object'+str(i),\"head_rgbd_sensor_link\")\n",
    "        print (i,objs_depth_centroids[i][2])\n"
   ]
  },
  {
   "cell_type": "code",
   "execution_count": 49,
   "metadata": {},
   "outputs": [],
   "source": [
    "def static_tf_publish(cents):\n",
    "    trans , rot = listener.lookupTransform('/map', '/head_rgbd_sensor_gazebo_frame', rospy.Time(0))\n",
    "    for  i ,cent  in enumerate(cents):\n",
    "        x,y,z=cent\n",
    "        if np.isnan(x) or np.isnan(y) or np.isnan(z):\n",
    "            print('nan')\n",
    "        else:\n",
    "            broadcaster.sendTransform((x,y,z),rot, rospy.Time.now(), 'Object'+str(i),\"head_rgbd_sensor_link\")\n",
    "            rospy.sleep(.2)\n",
    "            xyz_map,cent_quat= listener.lookupTransform('/map', 'Object'+str(i),rospy.Time(0))\n",
    "            map_euler=tf.transformations.euler_from_quaternion(cent_quat)\n",
    "            rospy.sleep(.2)\n",
    "            static_transformStamped = TransformStamped()\n",
    "            \n",
    "\n",
    "            ##FIXING TF TO MAP ( ODOM REALLY)    \n",
    "            #tf_broadcaster1.sendTransform( (xyz[0],xyz[1],xyz[2]),tf.transformations.quaternion_from_euler(0, 0, 0), rospy.Time.now(), \"obj\"+str(ind), \"head_rgbd_sensor_link\")\n",
    "            static_transformStamped.header.stamp = rospy.Time.now()\n",
    "            static_transformStamped.header.frame_id = \"map\"\n",
    "            \n",
    "            static_transformStamped.transform.translation.x = float(xyz_map[0])\n",
    "            static_transformStamped.transform.translation.y = float(xyz_map[1])\n",
    "            static_transformStamped.transform.translation.z = float(xyz_map[2])\n",
    "            #quat = tf.transformations.quaternion_from_euler(-euler[0],0,1.5)\n",
    "            static_transformStamped.transform.rotation.x = 0#-quat[0]#trans.transform.rotation.x\n",
    "            static_transformStamped.transform.rotation.y = 0#-quat[1]#trans.transform.rotation.y\n",
    "            static_transformStamped.transform.rotation.z = 0#-quat[2]#trans.transform.rotation.z\n",
    "            static_transformStamped.transform.rotation.w = 1#-quat[3]#trans.transform.rotation.w\n",
    "\n",
    "            if xyz_map[2] > .4 and xyz_map[2] < .46:   #table 1 \n",
    "                static_transformStamped.child_frame_id = \"Object_\"+str(i)+\"_Table_1\"\n",
    "                tf_static_broadcaster.sendTransform(static_transformStamped)\n",
    "                print xyz_map[2]\n",
    "            if  xyz_map[2] < .15:   #table 1 \n",
    "                static_transformStamped.child_frame_id = \"Object_\"+str(i)+\"_Floor\"\n",
    "                tf_static_broadcaster.sendTransform(static_transformStamped)\n",
    "                print xyz_map[2]\n",
    "    return True\n",
    "    \n",
    "\n",
    "\n",
    "    \n"
   ]
  },
  {
   "cell_type": "code",
   "execution_count": 50,
   "metadata": {},
   "outputs": [
    {
     "name": "stdout",
     "output_type": "stream",
     "text": [
      "nan\n",
      "0.413648546178\n",
      "0.0286793811308\n",
      "0.0938625049976\n"
     ]
    },
    {
     "data": {
      "text/plain": [
       "True"
      ]
     },
     "execution_count": 50,
     "metadata": {},
     "output_type": "execute_result"
    }
   ],
   "source": [
    "static_tf_publish(objs_depth_centroids)"
   ]
  },
  {
   "cell_type": "markdown",
   "metadata": {},
   "source": [
    "# Checkout your rviz. You should be able to see a tf marker on the centroids published above"
   ]
  },
  {
   "cell_type": "markdown",
   "metadata": {},
   "source": [
    "## Now lets add some working surfaces of the collision world scene in moveit"
   ]
  },
  {
   "cell_type": "code",
   "execution_count": 51,
   "metadata": {},
   "outputs": [],
   "source": [
    "def add_object(name, size, pose, orientation):\n",
    "    p = PoseStamped()\n",
    "    p.header.frame_id = \"odom\"       # \"head_rgbd_sensor_link\"\n",
    "    \n",
    "    p.pose.position.x = pose[0]\n",
    "    p.pose.position.y = pose[1]\n",
    "    p.pose.position.z = pose[2]\n",
    "\n",
    "    p.pose.orientation.x = orientation[0] * np.pi\n",
    "    p.pose.orientation.w = orientation[1] * np.pi\n",
    "\n",
    "    scene.add_box(name, p, size)\n",
    "\n",
    "\n",
    "def publish_scene():\n",
    "    add_object(\"shelf\", [1.5, 0.04, 0.4], [2.5, 4.7, 0.78], [0.5, 0.5])\n",
    "    add_object(\"shelf1\", [1.5, 0.04, 0.4], [2.5, 4.7, 0.49], [0.5, 0.5])\n",
    "    add_object(\"shelf2\", [1.5, 0.04, 0.4], [2.5, 4.7, 0.18], [0.5, 0.5])\n",
    "    add_object(\"shelf_wall\", [1, 1, 0.04], [2.5, 4.9, 0.5], [0.5, 0.5])\n",
    "    add_object(\"shelf_wall1\", [.04, 1, 0.4], [2.7, 4.9, 0.5], [0.5, 0.5])\n",
    "    add_object(\"shelf_wall2\", [.04, 1, 0.4], [1.8, 4.9, 0.5], [0.5, 0.5])\n",
    "    \n",
    "    add_object(\"table_big\", [1.7, 0.13, 0.7], [0.95, 1.9, 0.34], [0.5, 0.5])\n",
    "    add_object(\"table_small\", [0.5, 0.01, 0.4], [0.1, 1.9, 0.61], [0.5, 0.5])\n",
    "    add_object(\"table_tray\", [0.65, 0.01, 0.7], [1.8, -0.65, 0.4], [0.5, 0.5])    \n",
    "    return True"
   ]
  },
  {
   "cell_type": "code",
   "execution_count": 52,
   "metadata": {},
   "outputs": [],
   "source": [
    "scene = moveit_commander.PlanningSceneInterface()\n",
    "scene_pub = rospy.Publisher('planning_scene',\n",
    "                                         moveit_msgs.msg.PlanningScene,\n",
    "                                         queue_size=5)\n"
   ]
  },
  {
   "cell_type": "code",
   "execution_count": 53,
   "metadata": {},
   "outputs": [
    {
     "data": {
      "text/plain": [
       "True"
      ]
     },
     "execution_count": 53,
     "metadata": {},
     "output_type": "execute_result"
    }
   ],
   "source": [
    "publish_scene()\n"
   ]
  },
  {
   "cell_type": "code",
   "execution_count": 54,
   "metadata": {},
   "outputs": [
    {
     "data": {
      "text/plain": [
       "True"
      ]
     },
     "execution_count": 54,
     "metadata": {},
     "output_type": "execute_result"
    }
   ],
   "source": [
    "## robot to neutral pose\n",
    "head.set_named_target('neutral')\n",
    "head.go()"
   ]
  },
  {
   "cell_type": "code",
   "execution_count": 55,
   "metadata": {},
   "outputs": [],
   "source": [
    "whole_body.set_workspace((-1,-1,5,5))\n",
    "scene.remove_world_object()\n"
   ]
  },
  {
   "cell_type": "code",
   "execution_count": 57,
   "metadata": {},
   "outputs": [
    {
     "data": {
      "text/plain": [
       "[1.0388664310850901, 1.8043792617985535, 0.41364854617766766]"
      ]
     },
     "execution_count": 57,
     "metadata": {},
     "output_type": "execute_result"
    }
   ],
   "source": [
    "## we already have a object pose belief. Let's take gripper to it\n",
    "xyz_map,quat_map= listener.lookupTransform(  '/odom','Object_1_Table_1',rospy.Time(0))\n",
    "xyz_map\n"
   ]
  },
  {
   "cell_type": "code",
   "execution_count": 58,
   "metadata": {},
   "outputs": [
    {
     "data": {
      "text/plain": [
       "header: \n",
       "  seq: 0\n",
       "  stamp: \n",
       "    secs: 134\n",
       "    nsecs: 568000000\n",
       "  frame_id: \"odom\"\n",
       "pose: \n",
       "  position: \n",
       "    x: 1.52687412032\n",
       "    y: 1.22964230129\n",
       "    z: 0.672792221937\n",
       "  orientation: \n",
       "    x: -0.703056695851\n",
       "    y: -0.0823091624743\n",
       "    z: -0.701612560592\n",
       "    w: 0.0817086226283"
      ]
     },
     "execution_count": 58,
     "metadata": {},
     "output_type": "execute_result"
    }
   ],
   "source": [
    "wb_p=whole_body.get_current_pose()\n",
    "wb_p"
   ]
  },
  {
   "cell_type": "code",
   "execution_count": 59,
   "metadata": {},
   "outputs": [],
   "source": [
    "wb_p=whole_body.get_current_pose()\n",
    "pose,quat=pose_2_np(wb_p)\n",
    "tf.transformations.euler_from_quaternion(quat),pose\n",
    "wb_t=wb_p\n",
    "wb_t.pose.position.x= xyz_map[0]\n",
    "wb_t.pose.position.y= xyz_map[1]\n",
    "wb_t.pose.position.z=.5\n",
    "wb_t.pose.orientation.w = 0.433\n",
    "wb_t.pose.orientation.x = -0.589\n",
    "wb_t.pose.orientation.y =  -0.429\n",
    "wb_t.pose.orientation.z =  -0.529\n",
    "\n"
   ]
  },
  {
   "cell_type": "code",
   "execution_count": 60,
   "metadata": {},
   "outputs": [
    {
     "data": {
      "text/plain": [
       "False"
      ]
     },
     "execution_count": 60,
     "metadata": {},
     "output_type": "execute_result"
    }
   ],
   "source": [
    "#scene.remove_world_object()\n",
    "\n",
    "whole_body.set_pose_target(wb_t)\n",
    "whole_body.go()"
   ]
  },
  {
   "cell_type": "code",
   "execution_count": 61,
   "metadata": {},
   "outputs": [
    {
     "data": {
      "text/plain": []
     },
     "execution_count": 61,
     "metadata": {},
     "output_type": "execute_result"
    }
   ],
   "source": [
    "clear_octo_client()"
   ]
  },
  {
   "cell_type": "code",
   "execution_count": 62,
   "metadata": {},
   "outputs": [
    {
     "data": {
      "text/plain": [
       "True"
      ]
     },
     "execution_count": 62,
     "metadata": {},
     "output_type": "execute_result"
    }
   ],
   "source": [
    "#scene.remove_world_object()\n",
    "\n",
    "whole_body.set_pose_target(wb_t)\n",
    "whole_body.go()"
   ]
  },
  {
   "cell_type": "code",
   "execution_count": null,
   "metadata": {},
   "outputs": [],
   "source": [
    "arm.set_named_target('go')\n",
    "arm.go()"
   ]
  },
  {
   "cell_type": "code",
   "execution_count": null,
   "metadata": {},
   "outputs": [],
   "source": []
  },
  {
   "cell_type": "code",
   "execution_count": null,
   "metadata": {},
   "outputs": [],
   "source": []
  }
 ],
 "metadata": {
  "kernelspec": {
   "display_name": "Python 2",
   "language": "python",
   "name": "python2"
  },
  "language_info": {
   "codemirror_mode": {
    "name": "ipython",
    "version": 2
   },
   "file_extension": ".py",
   "mimetype": "text/x-python",
   "name": "python",
   "nbconvert_exporter": "python",
   "pygments_lexer": "ipython2",
   "version": "2.7.17"
  },
  "nbTranslate": {
   "displayLangs": [
    "ja"
   ],
   "hotkey": "alt-t",
   "langInMainMenu": true,
   "sourceLang": "ja",
   "targetLang": "en",
   "useGoogleTranslate": true
  },
  "toc": {
   "base_numbering": 1,
   "nav_menu": {},
   "number_sections": true,
   "sideBar": true,
   "skip_h1_title": false,
   "title_cell": "Table of Contents",
   "title_sidebar": "Contents",
   "toc_cell": false,
   "toc_position": {},
   "toc_section_display": true,
   "toc_window_display": true
  }
 },
 "nbformat": 4,
 "nbformat_minor": 2
}
