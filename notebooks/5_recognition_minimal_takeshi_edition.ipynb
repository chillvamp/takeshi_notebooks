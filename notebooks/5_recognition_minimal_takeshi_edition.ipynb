{
 "cells": [
  {
   "cell_type": "markdown",
   "metadata": {
    "lang": "ja"
   },
   "source": [
    "# 画像認識による物体検出\n",
    "\n",
    "<div class=\"alert alert-block alert-info\">\n",
    "    <b>この章の目的</b>\n",
    "    <p>画像処理で物体の座標を検出する方法を学習します</p>\n",
    "</div> "
   ]
  },
  {
   "cell_type": "markdown",
   "metadata": {
    "lang": "en"
   },
   "source": [
    "# Object detection using image recognition\n",
    "\n",
    "<div class=\"alert alert-block alert-info\">\n",
    "    <b>Objective</b>\n",
    "    <p>In this notebook, we will learn how to calculate the position of an object using image recognition.</p>\n",
    "</div>"
   ]
  },
  {
   "cell_type": "markdown",
   "metadata": {
    "lang": "ja"
   },
   "source": [
    "## セットアップ作業"
   ]
  },
  {
   "cell_type": "markdown",
   "metadata": {
    "lang": "en"
   },
   "source": [
    "## Setup"
   ]
  },
  {
   "cell_type": "markdown",
   "metadata": {
    "lang": "ja"
   },
   "source": [
    "必要なライブラリをインポートして、初期化を行います。"
   ]
  },
  {
   "cell_type": "markdown",
   "metadata": {
    "lang": "en"
   },
   "source": [
    "Import the required libraries and initialize them:"
   ]
  },
  {
   "cell_type": "code",
   "execution_count": 1,
   "metadata": {},
   "outputs": [],
   "source": [
    "%matplotlib inline\n",
    "import matplotlib.pyplot as plt\n",
    "import numpy as np\n",
    "import ros_numpy\n",
    "import rospy\n",
    "import tf\n",
    "from gazebo_ros import gazebo_interface\n",
    "from sensor_msgs.msg import LaserScan, PointCloud2\n",
    "from geometry_msgs.msg import Pose, Quaternion\n",
    "import sys\n",
    "\n",
    "from utils_notebooks import *\n",
    "import cv2\n",
    "import os\n"
   ]
  },
  {
   "cell_type": "code",
   "execution_count": 2,
   "metadata": {},
   "outputs": [
    {
     "name": "stdout",
     "output_type": "stream",
     "text": [
      "['ycb_021_bleach_cleanser', 'ycb_065-e_cups', 'wrc_bin_black', 'ycb_057_racquetball', 'wrc_tray', 'ycb_043_phillips_screwdriver', 'wrc_bin_green', 'ycb_073-b_lego_duplo', 'ycb_009_gelatin_box', 'ycb_072-e_toy_airplane', 'ycb_004_sugar_box', 'ycb_073-d_lego_duplo', 'ycb_061_foam_brick', 'ycb_016_pear', 'ycb_065-a_cups', 'training_wall', 'wrc_ground_plane', 'wrc_bookshelf', 'ycb_072-b_toy_airplane', 'trofast', 'ycb_026_sponge', 'ycb_012_strawberry', 'ycb_013_apple', 'ycb_051_large_clamp', 'ycb_022_windex_bottle', 'ycb_065-h_cups', 'ycb_025_mug', 'ycb_036_wood_block', 'ycb_056_tennis_ball', 'ycb_044_flat_screwdriver', 'ycb_031_spoon', 'ycb_072-c_toy_airplane', 'wrc_frame', 'ycb_010_potted_meat_can', 'ycb_073-f_lego_duplo', 'ycb_072-d_toy_airplane', 'ycb_053_mini_soccer_ball', 'ycb_033_spatula', 'ycb_040_large_marker', 'ycb_027_skillet', 'ycb_052_extra_large_clamp', 'wrc_container_b', 'ycb_073-a_lego_duplo', 'ycb_070-a_colored_wood_blocks', 'wrc_stair_like_drawer', 'ycb_032_knife', 'wrc_long_table', 'ycb_063-a_marbles', 'ycb_058_golf_ball', 'ycb_003_cracker_box', 'ycb_070-b_colored_wood_blocks', 'ycb_002_master_chef_can', 'training_floor', 'ycb_055_baseball', 'ycb_073-e_lego_duplo', 'wrc_tall_table', 'ycb_065-d_cups', 'ycb_029_plate', 'ycb_071_nine_hole_peg_test', 'ycb_018_plum', 'ycb_054_softball', 'ycb_050_medium_clamp', 'ycb_006_mustard_bottle', 'ycb_007_tuna_fish_can', 'ycb_042_adjustable_wrench', 'ycb_065-j_cups', 'ycb_024_bowl', 'ycb_038_padlock', 'ycb_065-b_cups', 'ycb_005_tomato_soup_can', 'ycb_062_dice', 'ycb_015_peach', 'ycb_028_skillet_lid', 'ycb_065-f_cups', 'ycb_048_hammer', 'ycb_008_pudding_box', 'wrc_container_a', 'ycb_063-b_marbles', 'person_standing', 'ycb_073-g_lego_duplo', 'ycb_017_orange', 'ycb_014_lemon', 'ycb_035_power_drill', 'ycb_072-a_toy_airplane', 'ycb_065-i_cups', 'ycb_065-c_cups', 'ycb_011_banana', 'ycb_030_fork', 'ycb_065-g_cups', 'ycb_037_scissors', 'ycb_077_rubiks_cube', 'ycb_019_pitcher_base', 'ycb_073-c_lego_duplo', 'ycb_059_chain']\n"
     ]
    }
   ],
   "source": [
    "## THIS PATH MUST BE SET BY USER ()\n",
    "\n",
    "#_path_xml = \"/home/oscar/Codes/ycb_ws/src/robot_object_views/robotobject/models/MODEL_NAME/model-1_4.sdf\"\n",
    "#_path_model = \"/home/oscar/Codes/ycb_ws/src/robot_object_views/robotobject/models\"   Tenshi Version\n",
    "\n",
    "\n",
    "_path_model = \"/home/oscar/Codes/catkin_mio_ws/src/tmc_wrs_gazebo_world/models\"     #Catkin mio version \n",
    "_path_xml = _path_model+\"/MODEL_NAME/model-1_4.sdf\"  #Catkin mio version\n",
    "\n",
    "\n",
    "model_database_template = \"\"\"<sdf version=\"1.4\">\n",
    "  <world name=\"default\">\n",
    "    <include>\n",
    "      <uri>model://MODEL_NAME</uri>\n",
    "    </include>\n",
    "  </world>\n",
    "</sdf>\"\"\"\n",
    "\n",
    "objs=os.listdir(_path_model)\n",
    "print (objs)"
   ]
  },
  {
   "cell_type": "markdown",
   "metadata": {
    "lang": "ja"
   },
   "source": [
    "rvizを起動します．ロボットモデル、カメラ映像、ポイントクラウドが表示されています。"
   ]
  },
  {
   "cell_type": "code",
   "execution_count": 3,
   "metadata": {},
   "outputs": [],
   "source": [
    "\n",
    "rospy.init_node(\"recognition\")\n"
   ]
  },
  {
   "cell_type": "code",
   "execution_count": 4,
   "metadata": {},
   "outputs": [],
   "source": [
    "rgbd = RGBD()"
   ]
  },
  {
   "cell_type": "code",
   "execution_count": 5,
   "metadata": {},
   "outputs": [],
   "source": [
    "listener = tf.TransformListener()\n"
   ]
  },
  {
   "cell_type": "markdown",
   "metadata": {
    "lang": "en"
   },
   "source": [
    "Launch RViz. The robot model, camera image, and point cloud are displayed:"
   ]
  },
  {
   "cell_type": "code",
   "execution_count": 7,
   "metadata": {},
   "outputs": [
    {
     "data": {
      "text/plain": [
       "([0.02730487684085366, 0.020764686006797158, 0.9919613344119191],\n",
       " [-6.835823903869472e-06,\n",
       "  -0.0009633240731435063,\n",
       "  -0.00709589469860048,\n",
       "  0.9999743597905036])"
      ]
     },
     "execution_count": 7,
     "metadata": {},
     "output_type": "execute_result"
    }
   ],
   "source": [
    "trans , rot = listener.lookupTransform('/map', '/head_rgbd_sensor_gazebo_frame', rospy.Time(0))\n",
    "trans,rot"
   ]
  },
  {
   "cell_type": "markdown",
   "metadata": {
    "lang": "ja"
   },
   "source": [
    "## 認識対象の配置"
   ]
  },
  {
   "cell_type": "markdown",
   "metadata": {
    "lang": "en"
   },
   "source": [
    "## Recognition target placement"
   ]
  },
  {
   "cell_type": "markdown",
   "metadata": {
    "lang": "ja"
   },
   "source": [
    "今回、認識対象とするレゴブロックをHSRの前に出現させましょう。"
   ]
  },
  {
   "cell_type": "markdown",
   "metadata": {
    "lang": "en"
   },
   "source": [
    "Enter the following command to make a Lego block appear in front of the HSR."
   ]
  },
  {
   "cell_type": "code",
   "execution_count": 8,
   "metadata": {},
   "outputs": [],
   "source": [
    "#Tenshi Code adapted"
   ]
  },
  {
   "cell_type": "code",
   "execution_count": 9,
   "metadata": {},
   "outputs": [
    {
     "name": "stdout",
     "output_type": "stream",
     "text": [
      "[INFO] [1618520734.053223, 288.314000]: Spawn: ycb_077_rubiks_cube\n",
      "[INFO] [1618520734.055529, 288.315000]: Spawn: [0. 0. 0. 1.]\n",
      "[INFO] [1618520734.058835, 288.316000]: Waiting for service /gazebo/spawn_sdf_model\n",
      "[INFO] [1618520734.080757, 288.318000]: Calling service /gazebo/spawn_sdf_model\n",
      "[INFO] [1618520734.192444, 288.322000]: Spawn status: SpawnModel: Successfully spawned entity\n",
      "[INFO] [1618520734.194029, 288.322000]: Spawn: ycb_077_rubiks_cube\n",
      "[INFO] [1618520734.195233, 288.322000]: Spawn: [ 0.         -0.         -0.48717451 -0.87330464]\n",
      "[INFO] [1618520734.196357, 288.322000]: Waiting for service /gazebo/spawn_sdf_model\n",
      "[INFO] [1618520734.214868, 288.322000]: Calling service /gazebo/spawn_sdf_model\n",
      "[INFO] [1618520734.689803, 288.343000]: Spawn status: SpawnModel: Successfully spawned entity\n",
      "[INFO] [1618520734.691142, 288.343000]: Spawn: ycb_077_rubiks_cube\n",
      "[INFO] [1618520734.692780, 288.343000]: Spawn: [ 0.          0.         -0.70682518  0.70738827]\n",
      "[INFO] [1618520734.695416, 288.344000]: Waiting for service /gazebo/spawn_sdf_model\n",
      "[INFO] [1618520734.702779, 288.344000]: Calling service /gazebo/spawn_sdf_model\n",
      "[INFO] [1618520734.973308, 288.363000]: Spawn status: SpawnModel: Successfully spawned entity\n"
     ]
    }
   ],
   "source": [
    "\n",
    "\n",
    "x_gaz,y_gaz=world_2_gazebo(1,1)\n",
    "\n",
    "\n",
    "model_name= objs[-4]\n",
    "\n",
    "spawn_object(\"lego1\", model_name, x_gaz,  y_gaz, .11, 0)\n",
    "spawn_object(\"lego2\", model_name, x_gaz+.5,  y_gaz+.5, .11, 45)\n",
    "spawn_object(\"lego3\", model_name, x_gaz-.5,  y_gaz-.5, .11, -1.57)### ORigin in gazebo world is in (-2, 1 ) map coords\n",
    "#print (x_gaz,y_gaz)\n",
    "\n",
    "#spawn_object(\"073-g_lego_duplo\", \"073-g_lego_duplo\", x_gaz, y_gaz, .51, 0)\n"
   ]
  },
  {
   "cell_type": "markdown",
   "metadata": {
    "lang": "ja"
   },
   "source": [
    "レゴブロックが頭部カメラの画角に入るように頭を少し下げます。rviz上の頭部カメラの映像が変化することを確認しましょう。"
   ]
  },
  {
   "cell_type": "markdown",
   "metadata": {
    "lang": "en"
   },
   "source": [
    "Lower the head slightly so that the Lego block is within the viewing angle of the head camera. Check that the image in the head camera in RViz changes accordingly:"
   ]
  },
  {
   "cell_type": "code",
   "execution_count": 10,
   "metadata": {},
   "outputs": [],
   "source": [
    "delete_object(\"lego1\")\n",
    "delete_object(\"lego2\")\n",
    "delete_object(\"lego3\")"
   ]
  },
  {
   "cell_type": "code",
   "execution_count": 11,
   "metadata": {},
   "outputs": [
    {
     "ename": "NameError",
     "evalue": "name 'move_head_tilt' is not defined",
     "output_type": "error",
     "traceback": [
      "\u001b[0;31m---------------------------------------------------------------------------\u001b[0m",
      "\u001b[0;31mNameError\u001b[0m                                 Traceback (most recent call last)",
      "\u001b[0;32m<ipython-input-11-fed08e2b2575>\u001b[0m in \u001b[0;36m<module>\u001b[0;34m()\u001b[0m\n\u001b[1;32m      1\u001b[0m \u001b[0;31m# 頭部を動かします\u001b[0m\u001b[0;34m\u001b[0m\u001b[0;34m\u001b[0m\u001b[0m\n\u001b[1;32m      2\u001b[0m \u001b[0;31m# 下向きの場合は負、上向きの場合は正の値を引数に与えます\u001b[0m\u001b[0;34m\u001b[0m\u001b[0;34m\u001b[0m\u001b[0m\n\u001b[0;32m----> 3\u001b[0;31m \u001b[0mmove_head_tilt\u001b[0m\u001b[0;34m(\u001b[0m\u001b[0;34m-\u001b[0m\u001b[0;36m1\u001b[0m\u001b[0;34m)\u001b[0m  \u001b[0;31m###TBD   Use moveit notebook\u001b[0m\u001b[0;34m\u001b[0m\u001b[0m\n\u001b[0m",
      "\u001b[0;31mNameError\u001b[0m: name 'move_head_tilt' is not defined"
     ]
    }
   ],
   "source": [
    "# 頭部を動かします\n",
    "# 下向きの場合は負、上向きの場合は正の値を引数に与えます\n",
    "move_head_tilt(-1)  ###TBD   Use moveit notebook"
   ]
  },
  {
   "cell_type": "code",
   "execution_count": null,
   "metadata": {},
   "outputs": [],
   "source": [
    "x_gaz,y_gaz=2.64,-1.19\n",
    "#x_gaz,y_gaz=world_2_gazebo(0,0)\n",
    "spawn_object(\"lego1\", model_name, x_gaz,  y_gaz, 0.81, 0)\n"
   ]
  },
  {
   "cell_type": "code",
   "execution_count": null,
   "metadata": {},
   "outputs": [],
   "source": [
    "delete_object(\"lego1\")"
   ]
  },
  {
   "cell_type": "code",
   "execution_count": null,
   "metadata": {},
   "outputs": [],
   "source": []
  },
  {
   "cell_type": "code",
   "execution_count": null,
   "metadata": {},
   "outputs": [],
   "source": []
  },
  {
   "cell_type": "markdown",
   "metadata": {
    "lang": "ja"
   },
   "source": [
    "## センサ情報の取得"
   ]
  },
  {
   "cell_type": "markdown",
   "metadata": {
    "lang": "en"
   },
   "source": [
    "## Acquisition of sensor information"
   ]
  },
  {
   "cell_type": "markdown",
   "metadata": {
    "lang": "ja"
   },
   "source": [
    "今回はセンサ情報として、頭部RGB-Dカメラから取得できるポイントクラウド情報を利用します。"
   ]
  },
  {
   "cell_type": "markdown",
   "metadata": {
    "lang": "en"
   },
   "source": [
    "In this notebook, we will use point cloud information that can be obtained from the head RGB-D camera as sensor information."
   ]
  },
  {
   "cell_type": "markdown",
   "metadata": {
    "lang": "ja"
   },
   "source": [
    "以下でRGB-Dカメラから取得したRGB画像を表示することができます。"
   ]
  },
  {
   "cell_type": "markdown",
   "metadata": {
    "lang": "en"
   },
   "source": [
    "You can display the RGB image acquired from the RGB-D camera as follows:"
   ]
  },
  {
   "cell_type": "code",
   "execution_count": 12,
   "metadata": {},
   "outputs": [
    {
     "data": {
      "text/plain": [
       "<matplotlib.image.AxesImage at 0x7fc08193ce50>"
      ]
     },
     "execution_count": 12,
     "metadata": {},
     "output_type": "execute_result"
    },
    {
     "data": {
      "image/png": "[encoded data removed]",
      "text/plain": [
       "<matplotlib.figure.Figure at 0x7fc081acd050>"
      ]
     },
     "metadata": {
      "needs_background": "light"
     },
     "output_type": "display_data"
    }
   ],
   "source": [
    "# 画像を取得します Get image data\n",
    "image_data = rgbd.get_image()\n",
    "# 取得した画像を表示してみます Display the image data\n",
    "plt.imshow(image_data)"
   ]
  },
  {
   "cell_type": "markdown",
   "metadata": {
    "lang": "ja"
   },
   "source": [
    "画像データは、480x640x3の3次元配列です。"
   ]
  },
  {
   "cell_type": "markdown",
   "metadata": {
    "lang": "en"
   },
   "source": [
    "The image data is a 480x640x3 three-dimensional array:"
   ]
  },
  {
   "cell_type": "code",
   "execution_count": 13,
   "metadata": {},
   "outputs": [
    {
     "data": {
      "text/plain": [
       "(480, 640, 3)"
      ]
     },
     "execution_count": 13,
     "metadata": {},
     "output_type": "execute_result"
    }
   ],
   "source": [
    "image_data.shape"
   ]
  },
  {
   "cell_type": "markdown",
   "metadata": {
    "lang": "ja"
   },
   "source": [
    "最初の2次元は（y, x）のピクセルに対応します。最後の1次元はRGB形式のピクセル値です。\n",
    "\n",
    "例えば以下の命令で左上のピクセルのRGB値にアクセスできます。"
   ]
  },
  {
   "cell_type": "markdown",
   "metadata": {
    "lang": "en"
   },
   "source": [
    "The first two dimensions correspond to pixels (y, x). The last dimension is the pixel values in RGB format.\n",
    "\n",
    "For example, you can access the RGB value of the upper left pixel with the following command:"
   ]
  },
  {
   "cell_type": "code",
   "execution_count": 14,
   "metadata": {},
   "outputs": [
    {
     "data": {
      "text/plain": [
       "array([ 31, 184,  31], dtype=uint8)"
      ]
     },
     "execution_count": 14,
     "metadata": {},
     "output_type": "execute_result"
    }
   ],
   "source": [
    "image_data[0][0]"
   ]
  },
  {
   "cell_type": "markdown",
   "metadata": {
    "lang": "ja"
   },
   "source": [
    "ポイントクラウド情報には、各ピクセルの3次元座標値が格納されています。\n",
    "\n",
    "以下を実行することで、深度情報を表示することができます。"
   ]
  },
  {
   "cell_type": "markdown",
   "metadata": {
    "lang": "en"
   },
   "source": [
    "The point cloud information stores the 3D coordinate values of each pixel.\n",
    "\n",
    "You can check the depth information using the following commands:"
   ]
  },
  {
   "cell_type": "code",
   "execution_count": 15,
   "metadata": {},
   "outputs": [
    {
     "data": {
      "text/plain": [
       "<matplotlib.image.AxesImage at 0x7fc080350f10>"
      ]
     },
     "execution_count": 15,
     "metadata": {},
     "output_type": "execute_result"
    },
    {
     "data": {
      "image/png": "[encoded data removed]",
      "text/plain": [
       "<matplotlib.figure.Figure at 0x7fc080658410>"
      ]
     },
     "metadata": {
      "needs_background": "light"
     },
     "output_type": "display_data"
    },
    {
     "name": "stdout",
     "output_type": "stream",
     "text": [
      "shutdown request: [/recognition] Reason: new node registered with same name\n"
     ]
    }
   ],
   "source": [
    "# ポイントクラウドを取得します Get point cloud information\n",
    "points_data = rgbd.get_points()\n",
    "# ポイントクラウドの深度情報を表示してみます Display the depth value of the point cloud information\n",
    "plt.imshow(points_data['z'], cmap='prism')"
   ]
  },
  {
   "cell_type": "code",
   "execution_count": 15,
   "metadata": {},
   "outputs": [
    {
     "data": {
      "text/plain": [
       "<matplotlib.image.AxesImage at 0x7fc72437a1d0>"
      ]
     },
     "execution_count": 15,
     "metadata": {},
     "output_type": "execute_result"
    },
    {
     "data": {
      "image/png": "[encoded data removed]",
      "text/plain": [
       "<matplotlib.figure.Figure at 0x7fc7245ccc10>"
      ]
     },
     "metadata": {
      "needs_background": "light"
     },
     "output_type": "display_data"
    }
   ],
   "source": [
    "# ポイントクラウドを取得します Get point cloud information\n",
    "points_data = rgbd.get_points()\n",
    "# ポイントクラウドの深度情報を表示してみます Display the depth value of the point cloud information\n",
    "plt.imshow(points_data['z'])"
   ]
  },
  {
   "cell_type": "markdown",
   "metadata": {
    "lang": "ja"
   },
   "source": [
    "深度情報は、480x640の2次元配列です。"
   ]
  },
  {
   "cell_type": "markdown",
   "metadata": {
    "lang": "en"
   },
   "source": [
    "The depth information is a 480x640 two-dimensional array:"
   ]
  },
  {
   "cell_type": "code",
   "execution_count": null,
   "metadata": {},
   "outputs": [],
   "source": [
    "points_data['z'].shape"
   ]
  },
  {
   "cell_type": "markdown",
   "metadata": {
    "lang": "ja"
   },
   "source": [
    "画像データと同様に、以下の命令で左上のピクセル値にアクセスできます。単位はメートルです。"
   ]
  },
  {
   "cell_type": "markdown",
   "metadata": {
    "lang": "en"
   },
   "source": [
    "Similar to the image data, we can access the depth value in the upper left with the following command. The unit is meters:"
   ]
  },
  {
   "cell_type": "code",
   "execution_count": null,
   "metadata": {},
   "outputs": [],
   "source": [
    "points_data['z'][0][0]"
   ]
  },
  {
   "cell_type": "markdown",
   "metadata": {
    "lang": "ja"
   },
   "source": [
    "## 色空間の変換と色抽出"
   ]
  },
  {
   "cell_type": "markdown",
   "metadata": {
    "lang": "en"
   },
   "source": [
    "## Color space conversion and color extraction"
   ]
  },
  {
   "cell_type": "markdown",
   "metadata": {
    "lang": "ja"
   },
   "source": [
    "レゴブロックの色は「水色」なので、色を使ってレゴブロックを検出してみましょう。\n",
    "\n",
    "「image_data」にはRGB形式で色のデータが格納されています。\n",
    "RGB形式のデータをそのまま使ってもよいのですが、RGBからHSVに色空間を変換すると照明変化に頑健になることが知られています。\n",
    "\n",
    "HSVは、色相(Hue)、彩度(Saturation)、明度(Value)によって色を表現します。今回は色相情報のみを利用してレゴブロックの水色を抽出します。"
   ]
  },
  {
   "cell_type": "markdown",
   "metadata": {
    "lang": "en"
   },
   "source": [
    "The color of the Lego block is \"light blue\", so let's use the color to detect the Lego block.\n",
    "\n",
    "Color data is stored in RGB format in \"image_data\".\n",
    "We can use the RGB data as is, but it is known that converting the color space from RGB to HSV makes it more robust against changes in lighting.\n",
    "\n",
    "HSV expresses color by Hue, Saturation and Value. This time, we will extract the light blue of the Lego block using the hue channel:"
   ]
  },
  {
   "cell_type": "code",
   "execution_count": null,
   "metadata": {},
   "outputs": [],
   "source": [
    "# 画像の色相の値を取得します Get hue channel\n",
    "h_image = rgbd.get_h_image()\n",
    "# 色相画像を表示してみます Display the hue channel\n",
    "plt.imshow(h_image)"
   ]
  },
  {
   "cell_type": "markdown",
   "metadata": {
    "lang": "ja"
   },
   "source": [
    "色相画像に対して適当な閾値を設定して、レゴブロックのみが抽出されるようにします。"
   ]
  },
  {
   "cell_type": "markdown",
   "metadata": {
    "lang": "en"
   },
   "source": [
    "Set an appropriate threshold for the hue image so that only the light blue Lego block is extracted:"
   ]
  },
  {
   "cell_type": "code",
   "execution_count": null,
   "metadata": {},
   "outputs": [],
   "source": [
    "from ipywidgets import interact\n",
    "\n",
    "def f(lower = 0, upper = 255):\n",
    "    yellow_region = (h_image > lower) & (h_image < upper)\n",
    "    plt.imshow(yellow_region)\n",
    "\n",
    "interact(f, lower=(0, 255, 5), upper=(0, 255, 5))"
   ]
  },
  {
   "cell_type": "markdown",
   "metadata": {
    "lang": "ja"
   },
   "source": [
    "閾値を下限130、上限140ぐらいに設定すると安定して抽出できるようです。"
   ]
  },
  {
   "cell_type": "markdown",
   "metadata": {
    "lang": "en"
   },
   "source": [
    "It seems that stable extraction can be achieved by setting the threshold to the lower limit of 130 and the upper limit of 140."
   ]
  },
  {
   "cell_type": "markdown",
   "metadata": {
    "lang": "ja"
   },
   "source": [
    "<div class=\"alert alert-block alert-info\">\n",
    "    <b>課題</b>\n",
    "    <p>同様にバナナやリンゴを抽出してみましょう。</p>\n",
    "    <p>以下を実行することで、バナナとリンゴを出現させることができます。</p>\n",
    "</div>"
   ]
  },
  {
   "cell_type": "markdown",
   "metadata": {
    "lang": "en"
   },
   "source": [
    "<div class=\"alert alert-block alert-info\">\n",
    "    <b>Task</b>\n",
    "    <p>Try to extract banana and apple as well.</p>\n",
    "    <p>By entering the following commands, we can spawn banana and apple.</p>\n",
    "</div>"
   ]
  },
  {
   "cell_type": "code",
   "execution_count": null,
   "metadata": {},
   "outputs": [],
   "source": [
    "put_object(\"banana\", 0.6, 0.2, 0.0)"
   ]
  },
  {
   "cell_type": "code",
   "execution_count": null,
   "metadata": {},
   "outputs": [],
   "source": [
    "put_object(\"apple\", 1.0, 0.0, 0.0)"
   ]
  },
  {
   "cell_type": "markdown",
   "metadata": {
    "lang": "ja"
   },
   "source": [
    "## レゴブロックの位置の取得"
   ]
  },
  {
   "cell_type": "markdown",
   "metadata": {
    "lang": "en"
   },
   "source": [
    "## Get the position of the Lego block"
   ]
  },
  {
   "cell_type": "markdown",
   "metadata": {
    "lang": "ja"
   },
   "source": [
    "レゴブロックを抽出できる色相画像の閾値を設定します。"
   ]
  },
  {
   "cell_type": "markdown",
   "metadata": {
    "lang": "en"
   },
   "source": [
    "Set the threshold of the hue image from which the light blue Lego block can be extracted:"
   ]
  },
  {
   "cell_type": "code",
   "execution_count": null,
   "metadata": {},
   "outputs": [],
   "source": [
    "rgbd.set_h(130, 140)"
   ]
  },
  {
   "cell_type": "markdown",
   "metadata": {
    "lang": "ja"
   },
   "source": [
    "設定した閾値の色相画像を表示させてみましょう。"
   ]
  },
  {
   "cell_type": "markdown",
   "metadata": {
    "lang": "en"
   },
   "source": [
    "Let's display the configured threshold of the hue image:"
   ]
  },
  {
   "cell_type": "code",
   "execution_count": null,
   "metadata": {},
   "outputs": [],
   "source": [
    "region = rgbd.get_region()\n",
    "plt.imshow(region)"
   ]
  },
  {
   "cell_type": "markdown",
   "metadata": {
    "lang": "ja"
   },
   "source": [
    "ポイントクラウド情報から、レゴブロックと考えられる領域のxyz座標の平均値を計算します。\n",
    "\n",
    "レゴブロックのxyz座標が以下のように計算できました。"
   ]
  },
  {
   "cell_type": "markdown",
   "metadata": {
    "lang": "en"
   },
   "source": [
    "From the point cloud information, calculate the average value of the xyz coordinates of the area considered to be a Lego block.\n",
    "\n",
    "The xyz coordinates of the Lego block can be calculated as follows:"
   ]
  },
  {
   "cell_type": "code",
   "execution_count": null,
   "metadata": {},
   "outputs": [],
   "source": [
    "rgbd.get_xyz()"
   ]
  },
  {
   "cell_type": "markdown",
   "metadata": {
    "lang": "ja"
   },
   "source": [
    "このxyz値は、「head_rgbd_sensor_rgb_frame」基準座標、つまりRGBDカメラ座標上での値です。"
   ]
  },
  {
   "cell_type": "markdown",
   "metadata": {
    "lang": "en"
   },
   "source": [
    "This xyz value is the value in the \"head_rgbd_sensor_rgb_frame\" reference coordinates, that is the RGBD camera coordinates."
   ]
  },
  {
   "cell_type": "markdown",
   "metadata": {
    "lang": "ja"
   },
   "source": [
    "## レゴブロックの座標の出力"
   ]
  },
  {
   "cell_type": "markdown",
   "metadata": {
    "lang": "en"
   },
   "source": [
    "## Display the Lego block coordinates"
   ]
  },
  {
   "cell_type": "markdown",
   "metadata": {
    "lang": "ja"
   },
   "source": [
    "出力される座標の名前を`lego`にセットしましょう。"
   ]
  },
  {
   "cell_type": "markdown",
   "metadata": {
    "lang": "en"
   },
   "source": [
    "Let's set the name of the output coordinates to `lego`."
   ]
  },
  {
   "cell_type": "code",
   "execution_count": null,
   "metadata": {},
   "outputs": [],
   "source": [
    "rgbd.set_coordinate_name(\"lego\")"
   ]
  },
  {
   "cell_type": "markdown",
   "metadata": {
    "lang": "ja"
   },
   "source": [
    "新しいポイントクラウド情報が入力されるたびにbananaの座標情報が出力されます。\n",
    "\n",
    "「TF」の「Frames」から`lego`を選択してが正しくpublishされているか確認しましょう。\n",
    "\n",
    "![title](./imgs/5_lego_tf.png)"
   ]
  },
  {
   "cell_type": "markdown",
   "metadata": {
    "lang": "en"
   },
   "source": [
    "The coordinate information of banana is updated every time on new point cloud information input.\n",
    "\n",
    "Select `lego` from \"Frames\" of \"TF\" and check if it is published correctly:\n",
    "\n",
    "![title](./imgs/5_lego_tf.png)"
   ]
  },
  {
   "cell_type": "markdown",
   "metadata": {
    "lang": "ja"
   },
   "source": [
    "座標情報はPythonでもアクセスできます。\n",
    "\n",
    "例えば、絶対座標（map）上での`lego`の位置(x, y)は以下のように取得できます。"
   ]
  },
  {
   "cell_type": "markdown",
   "metadata": {
    "lang": "en"
   },
   "source": [
    "Coordinate information can also be accessed in Python.\n",
    "\n",
    "For example, the position (x, y) of `lego` on the absolute coordinates (=map) can be obtained as follows:"
   ]
  },
  {
   "cell_type": "code",
   "execution_count": null,
   "metadata": {},
   "outputs": [],
   "source": [
    "trans = get_relative_coordinate(\"map\", \"lego\")\n",
    "x = trans.translation.x\n",
    "y = trans.translation.y\n",
    "x, y"
   ]
  },
  {
   "cell_type": "markdown",
   "metadata": {
    "lang": "ja"
   },
   "source": [
    "`lego`は、絶対座標上で約（x, y）=（0.6, 0.0）の座標に置かれているようです。"
   ]
  },
  {
   "cell_type": "markdown",
   "metadata": {
    "lang": "en"
   },
   "source": [
    "`lego` seems to be placed at about (x, y) = (0.6, 0.0) position in absolute coordinates."
   ]
  },
  {
   "cell_type": "markdown",
   "metadata": {
    "lang": "ja"
   },
   "source": [
    "## 認識結果を用いた制御"
   ]
  },
  {
   "cell_type": "markdown",
   "metadata": {
    "lang": "en"
   },
   "source": [
    "## Control using recognition results"
   ]
  },
  {
   "cell_type": "markdown",
   "metadata": {
    "lang": "ja"
   },
   "source": [
    "以上の認識器を用いて、HSRにレゴブロックを拾わせてみましょう。\n",
    "\n",
    "前章の関数`move_wholebody_ik`に認識結果のx, yを引数として与え、逆運動学によってHSRを制御します。"
   ]
  },
  {
   "cell_type": "markdown",
   "metadata": {
    "lang": "en"
   },
   "source": [
    "Let's make the HSR pick up the light blue Lego block using the above recognizer.\n",
    "\n",
    "The function `move_wholebody_ik` in the previous section is given the recognition result x and y as arguments, and the HSR is controlled by inverse kinematics:"
   ]
  },
  {
   "cell_type": "code",
   "execution_count": null,
   "metadata": {},
   "outputs": [],
   "source": [
    "# ハンドを開く Open the hand\n",
    "move_hand(1)\n",
    "# 逆運動学を使ってHSRの手先を動かします Move the end effector by using inverse kinematics\n",
    "move_wholebody_ik(x, y, 0.1, 180, 0, 0)\n",
    "# ハンドを閉じる Close the hand\n",
    "move_hand(0)\n",
    "# アームを初期姿勢に戻す Move the hand to the initial position\n",
    "move_arm_init()"
   ]
  },
  {
   "cell_type": "markdown",
   "metadata": {
    "lang": "ja"
   },
   "source": [
    "<div class=\"alert alert-block alert-info\">\n",
    "    <b>課題</b>\n",
    "    <p>レゴブロックを出現させる位置を変えても上手く拾えるか試してみましょう。</p>\n",
    "</div>"
   ]
  },
  {
   "cell_type": "markdown",
   "metadata": {
    "lang": "en"
   },
   "source": [
    "<div class=\"alert alert-block alert-info\">\n",
    "    <b>Task</b>\n",
    "    <p>Check that picking up the light blue Lego block will succeed even if we change its position.</p>\n",
    "</div>"
   ]
  },
  {
   "cell_type": "code",
   "execution_count": null,
   "metadata": {},
   "outputs": [],
   "source": [
    "# レゴブロックを削除 Delete Lego block\n",
    "delete_object(\"e_lego_duplo\")"
   ]
  },
  {
   "cell_type": "code",
   "execution_count": null,
   "metadata": {},
   "outputs": [],
   "source": [
    "# レゴブロックを配置 Place the Lego block at the different position\n",
    "put_object(\"e_lego_duplo\", 0.6, 0.2, 0.0)"
   ]
  },
  {
   "cell_type": "code",
   "execution_count": 16,
   "metadata": {},
   "outputs": [],
   "source": [
    "# 自分で考えてみましょう。この下に入力できます。 Write your code here:\n"
   ]
  },
  {
   "cell_type": "code",
   "execution_count": null,
   "metadata": {},
   "outputs": [],
   "source": []
  },
  {
   "cell_type": "code",
   "execution_count": 17,
   "metadata": {},
   "outputs": [],
   "source": [
    "np.save('data-points.npy',points_data)"
   ]
  },
  {
   "cell_type": "code",
   "execution_count": 18,
   "metadata": {},
   "outputs": [
    {
     "data": {
      "text/plain": [
       "(480, 640)"
      ]
     },
     "execution_count": 18,
     "metadata": {},
     "output_type": "execute_result"
    }
   ],
   "source": [
    "points_data.shape"
   ]
  },
  {
   "cell_type": "code",
   "execution_count": null,
   "metadata": {},
   "outputs": [],
   "source": []
  },
  {
   "cell_type": "code",
   "execution_count": 30,
   "metadata": {},
   "outputs": [
    {
     "data": {
      "text/plain": [
       "<matplotlib.image.AxesImage at 0x7fc726c72fd0>"
      ]
     },
     "execution_count": 30,
     "metadata": {},
     "output_type": "execute_result"
    },
    {
     "data": {
      "image/png": "[encoded data removed]",
      "text/plain": [
       "<matplotlib.figure.Figure at 0x7fc726d139d0>"
      ]
     },
     "metadata": {
      "needs_background": "light"
     },
     "output_type": "display_data"
    }
   ],
   "source": [
    "plt.imshow(points_data['z'])"
   ]
  },
  {
   "cell_type": "code",
   "execution_count": 33,
   "metadata": {},
   "outputs": [
    {
     "data": {
      "text/plain": [
       "<matplotlib.image.AxesImage at 0x7fc726be6710>"
      ]
     },
     "execution_count": 33,
     "metadata": {},
     "output_type": "execute_result"
    },
    {
     "data": {
      "image/png": "[encoded data removed]",
      "text/plain": [
       "<matplotlib.figure.Figure at 0x7fc726daa390>"
      ]
     },
     "metadata": {
      "needs_background": "light"
     },
     "output_type": "display_data"
    }
   ],
   "source": [
    "plt.imshow(points_data[150:300, :100]['z'])"
   ]
  },
  {
   "cell_type": "code",
   "execution_count": 35,
   "metadata": {},
   "outputs": [
    {
     "data": {
      "text/plain": [
       "array([(-0.8599178 , -0.54511166, 1.837085 , 1.2630801e-38),\n",
       "       (-0.85613203, -0.5394127 , 1.8289973, 1.2630801e-38),\n",
       "       (-0.8523794 , -0.5337636 , 1.8209803, 1.2630801e-38),\n",
       "       (-0.8486595 , -0.5281638 , 1.8130333, 1.2630801e-38),\n",
       "       (-0.844972  , -0.52261275, 1.8051556, 1.2630801e-38),\n",
       "       (-0.84131646, -0.5171097 , 1.797346 , 1.2630801e-38),\n",
       "       (-0.83769226, -0.511654  , 1.7896035, 1.2630801e-38),\n",
       "       (-0.8340992 , -0.5062452 , 1.7819275, 1.2630801e-38),\n",
       "       (-0.83053684, -0.5008825 , 1.774317 , 1.2630801e-38),\n",
       "       (-0.82700473, -0.49556544, 1.7667712, 1.2630801e-38),\n",
       "       (-0.82350266, -0.49029347, 1.7592895, 1.2630801e-38),\n",
       "       (-0.82003003, -0.4850659 , 1.7518708, 1.2630801e-38),\n",
       "       (-0.81658655, -0.47988227, 1.7445143, 1.2630801e-38),\n",
       "       (-0.8131719 , -0.474742  , 1.7372195, 1.2630801e-38),\n",
       "       (-0.8097857 , -0.46964452, 1.7299854, 1.2630801e-38),\n",
       "       (-0.8064276 , -0.4645893 , 1.7228112, 1.2630801e-38),\n",
       "       (-0.8030972 , -0.45957586, 1.7156963, 1.2630801e-38),\n",
       "       (-0.7997942 , -0.45460364, 1.70864  , 1.2630801e-38),\n",
       "       (-0.7965183 , -0.4496722 , 1.7016416, 1.2630801e-38),\n",
       "       (-0.7932691 , -0.44478095, 1.6947001, 1.2630801e-38),\n",
       "       (-0.7900463 , -0.43992946, 1.6878151, 1.2630801e-38),\n",
       "       (-0.7868496 , -0.43511721, 1.6809858, 1.2630801e-38),\n",
       "       (-0.7836786 , -0.43034372, 1.6742114, 1.2630801e-38),\n",
       "       (-0.7805331 , -0.4256086 , 1.6674916, 1.2630801e-38),\n",
       "       (-0.7774127 , -0.42091134, 1.6608254, 1.2630801e-38),\n",
       "       (-0.7743172 , -0.41625145, 1.6542122, 1.2630801e-38),\n",
       "       (-0.77124625, -0.4116285 , 1.6476516, 1.2630801e-38),\n",
       "       (-0.76819956, -0.40704218, 1.6411428, 1.2630801e-38),\n",
       "       (-0.7651769 , -0.40249187, 1.6346853, 1.2630801e-38),\n",
       "       (-0.76217794, -0.3979773 , 1.6282785, 1.2630801e-38),\n",
       "       (-0.7592023 , -0.3934979 , 1.6219215, 1.2630801e-38),\n",
       "       (-0.75624985, -0.3890534 , 1.615614 , 1.2630801e-38),\n",
       "       (-0.75332016, -0.38464326, 1.6093552, 1.2630801e-38),\n",
       "       (-0.7504132 , -0.38026717, 1.6031449, 1.2630801e-38),\n",
       "       (-0.74752855, -0.37592477, 1.5969824, 1.2630801e-38),\n",
       "       (-0.74466604, -0.37161562, 1.5908669, 1.2630801e-38),\n",
       "       (-0.74182534, -0.3673393 , 1.5847982, 1.2630801e-38),\n",
       "       (-0.7390062 , -0.36309555, 1.5787756, 1.2630801e-38),\n",
       "       (-0.7362084 , -0.35888386, 1.5727985, 1.2630801e-38),\n",
       "       (-0.73343176, -0.354704  , 1.5668666, 1.2630801e-38),\n",
       "       (-0.73067594, -0.3505555 , 1.5609792, 1.2630801e-38),\n",
       "       (-0.7279408 , -0.3464381 , 1.555136 , 1.1801041e-38),\n",
       "       (-0.7276672 , -0.34350377, 1.5545515, 9.4039542e-39),\n",
       "       (-0.72819006, -0.34094447, 1.5556685, 9.4039542e-39),\n",
       "       (-0.7287134 , -0.33838135, 1.5567865, 9.4039542e-39),\n",
       "       (-0.7292375 , -0.3358146 , 1.5579063, 9.4039542e-39),\n",
       "       (-0.7297624 , -0.3332441 , 1.5590276, 9.4039542e-39),\n",
       "       (-0.73028797, -0.33066988, 1.5601504, 9.4039542e-39),\n",
       "       (-0.7308144 , -0.328092  , 1.561275 , 9.4039542e-39),\n",
       "       (-0.8239832 , -0.36674395, 1.7603161, 3.9644121e-39),\n",
       "       (-0.8235123 , -0.3633609 , 1.7593101, 3.2268470e-39),\n",
       "       (-0.8234433 , -0.36015728, 1.7591627, 2.8580645e-39),\n",
       "       (-0.8237576 , -0.35712034, 1.7598342, 2.8580645e-39),\n",
       "       (-0.8245239 , -0.35427523, 1.7614714, 2.8580645e-39),\n",
       "       (-0.82620597, -0.3518141 , 1.7650647, 2.8580645e-39),\n",
       "       (-0.94996357, -0.40085167, 2.0294542, 2.8580645e-39),\n",
       "       (-0.9506521 , -0.39747882, 2.0309253, 2.8580645e-39),\n",
       "       (-0.9513417 , -0.39410108, 2.0323985, 2.8580645e-39),\n",
       "       (-0.9520322 , -0.3907184 , 2.0338736, 3.4112383e-39),\n",
       "       (-0.7932812 , -0.32250932, 1.694726 , 4.7019771e-39),\n",
       "       (-0.7921734 , -0.31900623, 1.6923593, 4.0566077e-39),\n",
       "       (-0.79170376, -0.31576625, 1.691356 , 3.2268470e-39),\n",
       "       (-0.7915834 , -0.31266782, 1.6910989, 2.8580645e-39),\n",
       "       (-0.7918485 , -0.30972108, 1.6916652, 2.8580645e-39),\n",
       "       (-0.7924728 , -0.30691144, 1.6929989, 2.8580645e-39),\n",
       "       (-0.79384476, -0.30438364, 1.6959299, 2.8580645e-39),\n",
       "       (-0.957593  , -0.36347944, 2.0457535, 2.8580645e-39),\n",
       "       (-0.9582928 , -0.3600522 , 2.0472484, 2.8580645e-39),\n",
       "       (-0.95899343, -0.3566199 , 2.0487452, 2.8580645e-39),\n",
       "       (-0.95969516, -0.3531826 , 2.0502443, 2.8580645e-39),\n",
       "       (-0.9603979 , -0.34974027, 2.0517457, 2.8580645e-39),\n",
       "       (-0.96110165, -0.34629288, 2.0532491, 2.8580645e-39),\n",
       "       (-0.96180654, -0.3428405 , 2.054755 , 2.8580645e-39),\n",
       "       (-0.9625123 , -0.33938295, 2.0562627, 2.8580645e-39),\n",
       "       (-0.96321917, -0.33592036, 2.0577729, 2.8580645e-39),\n",
       "       (-0.7510143 , -0.25902033, 1.604429 , 4.7019771e-39),\n",
       "       (-0.7490407 , -0.2554532 , 1.6002128, 4.5175859e-39),\n",
       "       (-0.74824685, -0.25229904, 1.5985168, 3.7800208e-39),\n",
       "       (-0.74786764, -0.24928921, 1.5977067, 3.1346514e-39),\n",
       "       (-0.74783486, -0.24639647, 1.5976367, 2.8580645e-39),\n",
       "       (-0.7481121 , -0.2436049 , 1.5982289, 2.8580645e-39),\n",
       "       (-0.7487529 , -0.2409282 , 1.5995979, 2.8580645e-39),\n",
       "       (-0.7501347 , -0.23848213, 1.6025499, 2.8580645e-39),\n",
       "       (-0.9696281 , -0.30452675, 2.0714645, 2.8580645e-39),\n",
       "       (-0.97034544, -0.30101275, 2.072997 , 2.8580645e-39),\n",
       "       (-0.9710639 , -0.29749358, 2.074532 , 2.8580645e-39),\n",
       "       (-0.97178346, -0.29396918, 2.076069 , 2.8580645e-39),\n",
       "       (-0.972504  , -0.29043955, 2.0776086, 2.8580645e-39),\n",
       "       (-0.97322565, -0.28690466, 2.0791502, 2.8580645e-39),\n",
       "       (-0.97394836, -0.28336456, 2.0806942, 2.8580645e-39),\n",
       "       (-0.97467214, -0.27981916, 2.0822403, 2.8580645e-39),\n",
       "       (-0.97539705, -0.27626854, 2.083789 , 2.8580645e-39),\n",
       "       (-0.9761229 , -0.27271256, 2.0853398, 2.8580645e-39),\n",
       "       (-0.97685003, -0.26915136, 2.086893 , 2.8580645e-39),\n",
       "       (-0.9775781 , -0.2655848 , 2.0884485, 2.8580645e-39),\n",
       "       (-0.9783073 , -0.26201293, 2.0900064, 2.8580645e-39),\n",
       "       (-0.9790376 , -0.25843576, 2.0915666, 2.8580645e-39),\n",
       "       (-0.74878865, -0.19477162, 1.5996743, 7.1001411e-39),\n",
       "       (-0.7468622 , -0.19139242, 1.5955586, 7.6533149e-39),\n",
       "       (-0.7457223 , -0.18822664, 1.5931236, 8.0220960e-39),\n",
       "       (-0.74565977, -0.1853374 , 1.5929899, 7.4689222e-39),\n",
       "       (-0.7460182 , -0.18255165, 1.5937556, 7.7455105e-39),\n",
       "       (-0.7466016 , -0.17981733, 1.5950019, 7.8377061e-39),\n",
       "       (-0.7470361 , -0.17704323, 1.5959302, 7.8373474e-39),\n",
       "       (-0.74751335, -0.17427576, 1.5969498, 7.7451504e-39),\n",
       "       (-0.7481687 , -0.17154543, 1.5983499, 7.9291815e-39),\n",
       "       (-0.74813426, -0.16865455, 1.5982763, 9.0362479e-39),\n",
       "       (-0.74784726, -0.16570796, 1.5976632, 7.5611192e-39),\n",
       "       (-0.7476214 , -0.16277692, 1.5971807, 8.1139329e-39),\n",
       "       (-0.7473005 , -0.15982728, 1.5964952, 8.2983242e-39),\n",
       "       (-0.7469275 , -0.15686917, 1.5956982, 8.2986829e-39),\n",
       "       (-0.7465152 , -0.15390582, 1.5948174, 8.2986843e-39),\n",
       "       (-0.74605006, -0.15093498, 1.5938237, 8.3908799e-39),\n",
       "       (-0.74557716, -0.14796618, 1.5928134, 8.2064873e-39),\n",
       "       (-0.7456191 , -0.14510122, 1.5929031, 7.4682034e-39),\n",
       "       (-0.7464482 , -0.14238608, 1.5946743, 7.5603990e-39),\n",
       "       (-0.74728584, -0.13966614, 1.5964638, 7.5600388e-39),\n",
       "       (-0.7481753 , -0.13694924, 1.598364 , 7.4678432e-39),\n",
       "       (-0.74955684, -0.13431364, 1.6013154, 7.4682034e-39),\n",
       "       (-0.7505879 , -0.13160597, 1.6035181, 7.6522345e-39),\n",
       "       (-0.7513864 , -0.12885046, 1.605224 , 7.7444301e-39),\n",
       "       (-0.75201726, -0.1260607 , 1.6065718, 7.7444301e-39),\n",
       "       (-0.7525208 , -0.12324522, 1.6076475, 7.6525946e-39),\n",
       "       (-0.75296116, -0.12041575, 1.6085882, 7.6525946e-39),\n",
       "       (-0.7533469 , -0.11757437, 1.6094123, 7.6525946e-39),\n",
       "       (-0.75373423, -0.11473025, 1.6102397, 7.7444301e-39),\n",
       "       (-0.7543771 , -0.11192108, 1.6116133, 7.7444301e-39),\n",
       "       (-0.75514543, -0.10912506, 1.6132547, 7.5603990e-39),\n",
       "       (-0.75743526, -0.10653714, 1.6181465, 7.0082930e-39),\n",
       "       (-0.75852424, -0.10376728, 1.6204729, 5.9966452e-39),\n",
       "       (-0.7596093 , -0.10098851, 1.6227909, 5.3516261e-39),\n",
       "       (-0.76074046, -0.09820734, 1.6252075, 5.8097554e-39),\n",
       "       (-0.7618726 , -0.09541757, 1.6276262, 5.0750420e-39),\n",
       "       (-0.7630479 , -0.09262431, 1.630137 , 4.3410405e-39),\n",
       "       (-0.76422936, -0.08982272, 1.6326611, 4.2488406e-39),\n",
       "       (-0.76542556, -0.0870137 , 1.6352166, 4.0633788e-39),\n",
       "       (-0.76662576, -0.0841959 , 1.6377807, 4.4310879e-39),\n",
       "       (-0.76786923, -0.08137342, 1.6404371, 5.0746777e-39),\n",
       "       (-0.7691414 , -0.0785443 , 1.6431549, 5.9019454e-39),\n",
       "       (-0.7704035 , -0.07570439, 1.6458511, 6.4536941e-39),\n",
       "       (-0.7716693 , -0.0728551 , 1.6485554, 6.4533368e-39),\n",
       "       (-0.7729634 , -0.06999861, 1.65132  , 6.3611439e-39),\n",
       "       (-0.77427775, -0.06713391, 1.654128 , 6.6377294e-39),\n",
       "       (-0.7756105 , -0.0642606 , 1.6569752, 6.7299236e-39),\n",
       "       (-0.77693945, -0.06137672, 1.6598142, 6.6377294e-39),\n",
       "       (-0.778316  , -0.05848617, 1.6627551, 6.5455338e-39),\n",
       "       (-0.77969736, -0.05558536, 1.6657062, 6.7299236e-39),\n",
       "       (-0.7810978 , -0.05267519, 1.6686981, 6.6377294e-39),\n",
       "       (-0.78255254, -0.04975767, 1.6718057, 6.3611439e-39),\n",
       "       (-0.78402036, -0.04682973, 1.6749415, 6.3611439e-39),\n",
       "       (-0.7854823 , -0.04389014, 1.6780647, 6.4533396e-39),\n",
       "       (-0.7869755 , -0.04094092, 1.6812547, 6.5455338e-39),\n",
       "       (-0.7884435 , -0.03797897, 1.6843909, 6.5455338e-39),\n",
       "       (-0.78995126, -0.03500747, 1.687612 , 6.5458925e-39),\n",
       "       (-0.7914654 , -0.03202461, 1.6908468, 6.7302838e-39),\n",
       "       (-0.7930538 , -0.0290328 , 1.6942401, 7.0065091e-39),\n",
       "       (-0.79468614, -0.02603018, 1.6977274, 7.0990635e-39),\n",
       "       (-0.7963555 , -0.02301605, 1.7012937, 7.0990621e-39),\n",
       "       (-0.7981365 , -0.01999186, 1.7050985, 6.9128632e-39),\n",
       "       (-0.83462167, -0.01768948, 1.7830436, 7.5549732e-39),\n",
       "       (-0.8324603 , -0.01443573, 1.7784262, 6.2638742e-39),\n",
       "       (-0.83031   , -0.01119879, 1.7738324, 7.6453583e-39),\n",
       "       (-0.8281708 , -0.00797852, 1.7692623, 7.8290307e-39),\n",
       "       (-0.82604265, -0.00477481, 1.7647159, 7.8293908e-39),\n",
       "       (-0.8239254 , -0.00158752, 1.7601926, 7.8293908e-39),\n",
       "       (-0.82181895,  0.00158347, 1.7556926, 7.9223067e-39),\n",
       "       (-0.81972325,  0.00473828, 1.7512155, 8.1066966e-39),\n",
       "       (-0.8176382 ,  0.00787705, 1.7467611, 8.3832835e-39),\n",
       "       (-0.81556374,  0.0109999 , 1.7423292, 8.1988922e-39),\n",
       "       (-0.81349975,  0.01410693, 1.7379198, 8.1059763e-39),\n",
       "       (-0.81144625,  0.01719828, 1.7335329, 8.1985321e-39),\n",
       "       (-0.80940306,  0.02027406, 1.7291678, 8.2910878e-39),\n",
       "       (-0.8073701 ,  0.0233344 , 1.7248248, 8.3832835e-39),\n",
       "       (-0.8053473 ,  0.02637939, 1.7205034, 8.2910864e-39),\n",
       "       (-0.8033348 ,  0.02940917, 1.7162039, 8.1066966e-39),\n",
       "       (-0.8013321 ,  0.03242384, 1.7119255, 8.3832835e-39),\n",
       "       (-0.7993394 ,  0.03542352, 1.7076684, 8.2910878e-39),\n",
       "       (-0.7973567 ,  0.03840832, 1.7034327, 8.4754791e-39),\n",
       "       (-0.79538375,  0.04137835, 1.6992177, 8.2907277e-39),\n",
       "       (-0.7934206 ,  0.04433371, 1.6950238, 8.1981719e-39),\n",
       "       (-0.791467  ,  0.04727452, 1.6908503, 8.1063365e-39),\n",
       "       (-0.7895231 ,  0.05020089, 1.6866974, 8.0145010e-39),\n",
       "       (-0.78758866,  0.05311292, 1.6825647, 8.0145010e-39),\n",
       "       (-0.78566366,  0.0560107 , 1.6784523, 8.0145010e-39),\n",
       "       (-0.7837481 ,  0.05889437, 1.6743599, 8.1063379e-39),\n",
       "       (-0.7818419 ,  0.061764  , 1.6702875, 8.1985321e-39),\n",
       "       (-0.77994484,  0.06461971, 1.6662349, 8.3829233e-39),\n",
       "       (-0.77805704,  0.06746159, 1.6622018, 8.1981734e-39),\n",
       "       (-0.77617836,  0.07028975, 1.6581883, 8.1052575e-39),\n",
       "       (-0.7743087 ,  0.07310428, 1.654194 , 7.9212263e-39),\n",
       "       (-0.77244794,  0.07590529, 1.6502188, 7.9212263e-39),\n",
       "       (-0.77059627,  0.07869288, 1.646263 , 8.0134220e-39),\n",
       "       (-0.76875335,  0.08146711, 1.6423259, 7.9215851e-39),\n",
       "       (-0.7669193 ,  0.08422813, 1.6384077, 8.2910878e-39),\n",
       "       (-0.7650939 ,  0.08697599, 1.634508 , 8.5676747e-39),\n",
       "       (-0.76327723,  0.08971082, 1.630627 , 8.6595074e-39),\n",
       "       (-0.7614691 ,  0.09243266, 1.6267642, 8.4743959e-39),\n",
       "       (-0.75966954,  0.09514166, 1.6229197, 8.0134220e-39),\n",
       "       (-0.7578785 ,  0.09783788, 1.6190934, 8.1059763e-39),\n",
       "       (-0.7560958 ,  0.10052142, 1.615285 , 8.5673132e-39),\n",
       "       (-0.75432163,  0.10319236, 1.6114947, 8.7513443e-39),\n",
       "       (-0.75255567,  0.10585079, 1.6077219, 8.6591501e-39),\n",
       "       (-0.750798  ,  0.10849681, 1.603967 , 8.6598704e-39),\n",
       "       (-0.7490484 ,  0.1111305 , 1.6002293, 8.8442602e-39),\n",
       "       (-0.747307  ,  0.11375193, 1.596509 , 8.8442616e-39),\n",
       "       (-0.7455737 ,  0.11636122, 1.5928061, 8.7517059e-39),\n",
       "       (-0.74384844,  0.11895842, 1.5891203, 8.4751190e-39),\n",
       "       (-0.7421311 ,  0.12154363, 1.5854515, 8.6595088e-39),\n",
       "       (-0.74042165,  0.12411693, 1.5817995, 8.5673132e-39),\n",
       "       (-0.73872006,  0.12667839, 1.5781643, 8.4747588e-39),\n",
       "       (-0.7370264 ,  0.12922813, 1.574546 , 8.4747588e-39),\n",
       "       (-0.73534036,  0.13176619, 1.5709441, 8.4751190e-39),\n",
       "       (-0.7336621 ,  0.13429268, 1.5673587, 8.4754791e-39),\n",
       "       (-0.7319914 ,  0.13680764, 1.5637895, 8.3832835e-39),\n",
       "       (-0.7303284 ,  0.1393112 , 1.5602367, 8.4754791e-39),\n",
       "       (-0.7286728 ,  0.14180338, 1.5566999, 8.5673146e-39),\n",
       "       (-0.72702473,  0.1442843 , 1.553179 , 8.5673118e-39),\n",
       "       (-0.72538424,  0.14675403, 1.5496743, 8.6598662e-39),\n",
       "       (-0.72375095,  0.14921263, 1.546185 , 8.8435400e-39),\n",
       "       (-0.7221251 ,  0.15166019, 1.5427116, 8.9360971e-39),\n",
       "       (-0.7205065 ,  0.15409677, 1.5392537, 8.8442602e-39),\n",
       "       (-0.7188952 ,  0.15652245, 1.5358114, 8.8442616e-39),\n",
       "       (-0.717291  ,  0.1589373 , 1.5323843, 8.8442616e-39),\n",
       "       (-0.71569395,  0.16134141, 1.5289725, 8.9360971e-39),\n",
       "       (-0.71410406,  0.16373484, 1.5255759, 8.9360957e-39),\n",
       "       (-0.71252114,  0.16611765, 1.5221943, 8.8435400e-39),\n",
       "       (-0.71094537,  0.16848993, 1.5188278, 8.9357342e-39),\n",
       "       (-0.7093764 ,  0.17085174, 1.515476 , 8.9357342e-39),\n",
       "       (-0.70781446,  0.17320316, 1.5121391, 8.8431784e-39),\n",
       "       (-0.70625925,  0.1755442 , 1.5088166, 8.6591473e-39),\n",
       "       (-0.70471096,  0.17787501, 1.5055089, 8.8435414e-39),\n",
       "       (-0.7031694 ,  0.18019563, 1.5022156, 8.6591501e-39),\n",
       "       (-0.7016345 ,  0.1825061 , 1.4989367, 8.6598676e-39),\n",
       "       (-0.70010644,  0.18480653, 1.4956721, 8.9364545e-39),\n",
       "       (-0.6985849 ,  0.18709692, 1.4924216, 9.0282885e-39),\n",
       "       (-0.69707006,  0.18937741, 1.4891853, 8.9364531e-39),\n",
       "       (-0.6955617 ,  0.19164802, 1.485963 , 8.9360943e-39),\n",
       "       (-0.69405985,  0.19390883, 1.4827545, 8.9364559e-39),\n",
       "       (-0.69256455,  0.19615991, 1.47956  , 8.9360971e-39),\n",
       "       (-0.69107556,  0.19840127, 1.476379 , 9.0279298e-39),\n",
       "       (-0.6895931 ,  0.20063305, 1.4732119, 9.0279298e-39),\n",
       "       (-0.6881169 ,  0.20285526, 1.4700582, 8.9364545e-39),\n",
       "       (-0.68664706,  0.20506799, 1.4669181, 9.0282914e-39),\n",
       "       (-0.6851834 ,  0.20727128, 1.4637913, 9.1204884e-39),\n",
       "       (-0.683726  ,  0.20946519, 1.4606777, 9.0279326e-39),\n",
       "       (-0.6822749 ,  0.2116498 , 1.4575776, 8.8442574e-39),\n",
       "       (-0.68082976,  0.21382515, 1.4544904, 8.8442574e-39),\n",
       "       (-0.67939085,  0.21599132, 1.4514164, 9.0282899e-39),\n",
       "       (-0.67795795,  0.21814832, 1.4483552, 9.0279312e-39),\n",
       "       (-0.67653114,  0.22029626, 1.445307 , 9.0279298e-39),\n",
       "       (-0.6751102 ,  0.22243516, 1.4422715, 8.9364559e-39),\n",
       "       (-0.6736953 ,  0.2245651 , 1.4392487, 9.0286515e-39),\n",
       "       (-0.6722864 ,  0.22668616, 1.4362388, 9.0290088e-39),\n",
       "       (-0.67088324,  0.22879833, 1.4332411, 9.0290088e-39),\n",
       "       (-0.66948605,  0.23090175, 1.4302562, 8.9364573e-39),\n",
       "       (-0.66809464,  0.23299639, 1.4272836, 8.9364573e-39),\n",
       "       (-0.6667089 ,  0.23508231, 1.4243232, 8.8439029e-39),\n",
       "       (-0.665329  ,  0.23715965, 1.4213753, 8.7513457e-39),\n",
       "       (-0.66395473,  0.23922838, 1.4184394, 8.4743987e-39),\n",
       "       (-0.66258615,  0.2412886 , 1.4155157, 8.2896473e-39),\n",
       "       (-0.66122323,  0.24334034, 1.412604 , 8.3825590e-39),\n",
       "       (-0.6598659 ,  0.24538368, 1.4097043, 8.6587872e-39),\n",
       "       (-0.65851414,  0.2474186 , 1.4068164, 8.7517017e-39),\n",
       "       (-0.65716785,  0.2494452 , 1.4039402, 8.6598662e-39),\n",
       "       (-0.6558271 ,  0.25146356, 1.401076 , 8.8442602e-39),\n",
       "       (-0.6544917 ,  0.25347367, 1.3982232, 8.9368160e-39),\n",
       "       (-0.6531619 ,  0.25547567, 1.3953822, 8.9364573e-39),\n",
       "       (-0.6518374 ,  0.2574695 , 1.3925526, 8.9364573e-39),\n",
       "       (-0.65051836,  0.2594553 , 1.3897346, 8.9368174e-39),\n",
       "       (-0.64920455,  0.26143304, 1.3869278, 9.0286515e-39),\n",
       "       (-0.647896  ,  0.26340282, 1.3841324, 8.9364559e-39),\n",
       "       (-0.6465928 ,  0.26536468, 1.3813483, 8.9364573e-39),\n",
       "       (-0.6452948 ,  0.26731864, 1.3785752, 8.9368160e-39),\n",
       "       (-0.64400196,  0.2692648 , 1.3758134, 9.1208457e-39),\n",
       "       (-0.6427143 ,  0.27120316, 1.3730625, 9.1212072e-39),\n",
       "       (-0.64143187,  0.2731338 , 1.3703227, 9.1208485e-39),\n",
       "       (-0.6401545 ,  0.27505675, 1.3675938, 9.0286529e-39),\n",
       "       (-0.6388821 ,  0.27697203, 1.3648756, 9.1204884e-39),\n",
       "       (-0.6376149 ,  0.27887973, 1.3621683, 8.4743987e-39),\n",
       "       (-0.63635266,  0.28077987, 1.3594717, 8.4743973e-39),\n",
       "       (-0.6350955 ,  0.28267255, 1.3567859, 8.8431784e-39),\n",
       "       (-0.6338431 ,  0.2845577 , 1.3541105, 9.0275683e-39),\n",
       "       (-0.6325958 ,  0.28643546, 1.3514457, 8.9353741e-39),\n",
       "       (-0.6313533 ,  0.28830585, 1.3487914, 8.8431784e-39),\n",
       "       (-0.6301157 ,  0.29016888, 1.3461474, 8.9353727e-39),\n",
       "       (-0.62888294,  0.29202464, 1.3435138, 8.8431770e-39),\n",
       "       (-0.62765497,  0.29387313, 1.3408904, 8.8431770e-39),\n",
       "       (-0.6264319 ,  0.29571447, 1.3382775, 8.7509842e-39),\n",
       "       (-0.62521344,  0.2975486 , 1.3356745, 8.8431812e-39),\n",
       "       (-0.62399983,  0.29937562, 1.3330817, 8.8431784e-39),\n",
       "       (-0.6227908 ,  0.30119556, 1.3304989, 8.8428197e-39),\n",
       "       (-0.6215865 ,  0.30300844, 1.327926 , 8.6587900e-39),\n",
       "       (-0.6203869 ,  0.30481437, 1.3253633, 8.7509842e-39),\n",
       "       (-0.6191919 ,  0.30661333, 1.3228103, 8.7509814e-39),\n",
       "       (-0.61800146,  0.30840537, 1.3202672, 8.8431784e-39),\n",
       "       (-0.6168156 ,  0.3101905 , 1.3177338, 8.8431798e-39),\n",
       "       (-0.6156343 ,  0.31196883, 1.3152101, 8.8431784e-39),\n",
       "       (-0.6144575 ,  0.31374034, 1.312696 , 8.7509828e-39),\n",
       "       (-0.6132852 ,  0.3155051 , 1.3101915, 8.5665915e-39),\n",
       "       (-0.6121174 ,  0.31726316, 1.3076967, 8.4743959e-39),\n",
       "       (-0.6109539 ,  0.3190145 , 1.3052112, 8.4743959e-39),\n",
       "       (-0.609795  ,  0.3207592 , 1.3027352, 8.3822003e-39),\n",
       "       (-0.6086403 ,  0.32249728, 1.3002685, 8.4743959e-39),\n",
       "       (-0.6074901 ,  0.32422882, 1.2978113, 8.6587886e-39),\n",
       "       (-0.6063443 ,  0.32595384, 1.2953633, 8.6584298e-39),\n",
       "       (-0.6052026 ,  0.32767233, 1.2929244, 8.7517045e-39),\n",
       "       (-0.60406536,  0.3293844 , 1.2904948, 8.3836450e-39),\n",
       "       (-0.60293233,  0.33109   , 1.2880743, 8.2918151e-39),\n",
       "       (-0.6018036 ,  0.33278927, 1.2856629, 8.3840065e-39),\n",
       "       (-0.60067904,  0.33448213, 1.2832603, 8.3832877e-39),\n",
       "       (-0.5995586 ,  0.33616868, 1.2808667, 8.3832863e-39),\n",
       "       (-0.5984425 ,  0.33784902, 1.2784823, 8.3836464e-39),\n",
       "       (-0.5973304 ,  0.33952305, 1.2761065, 8.3843667e-39),\n",
       "       (-0.5962225 ,  0.3411909 , 1.2737397, 8.3843667e-39),\n",
       "       (-0.59511864,  0.34285256, 1.2713815, 8.3832877e-39),\n",
       "       (-0.59401894,  0.3445081 , 1.2690321, 8.4751232e-39),\n",
       "       (-0.5929232 ,  0.3461575 , 1.2666913, 8.3832877e-39),\n",
       "       (-0.59183156,  0.34780082, 1.2643591, 8.3836506e-39),\n",
       "       (-0.59074396,  0.34943813, 1.2620356, 8.4754833e-39),\n",
       "       (-0.5896603 ,  0.3510694 , 1.2597204, 8.3832863e-39),\n",
       "       (-0.5885806 ,  0.35269475, 1.257414 , 8.3829275e-39),\n",
       "       (-0.5875049 ,  0.35431415, 1.2551159, 8.2918137e-39),\n",
       "       (-0.5864331 ,  0.35592762, 1.2528261, 8.2921739e-39),\n",
       "       (-0.5853652 ,  0.35753518, 1.2505447, 8.2921725e-39),\n",
       "       (-0.5843011 ,  0.3591369 , 1.2482715, 8.3840065e-39),\n",
       "       (-0.58324105,  0.36073288, 1.2460067, 8.3840079e-39),\n",
       "       (-0.5821847 ,  0.36232302, 1.24375  , 8.4758420e-39),\n",
       "       (-0.58113223,  0.36390746, 1.2415016, 8.4754833e-39),\n",
       "       (-0.5800835 ,  0.36548615, 1.2392612, 8.4754819e-39),\n",
       "       (-0.57903856,  0.36705914, 1.2370288, 8.3832877e-39),\n",
       "       (-0.5779974 ,  0.36862648, 1.2348045, 8.3832877e-39),\n",
       "       (-0.57695997,  0.37018818, 1.2325882, 8.4754833e-39),\n",
       "       (-0.57592624,  0.3717443 , 1.2303798, 8.4762064e-39),\n",
       "       (-0.5748962 ,  0.37329486, 1.2281793, 8.4762064e-39),\n",
       "       (-0.57386994,  0.3748399 , 1.2259868, 8.4762064e-39),\n",
       "       (-0.57284725,  0.3763794 , 1.223802 , 8.2921711e-39),\n",
       "       (-0.57182825,  0.37791345, 1.221625 , 8.2914508e-39),\n",
       "       (-0.57081276,  0.379442  , 1.2194556, 8.2918137e-39),\n",
       "       (-0.5698009 ,  0.38096517, 1.217294 , 8.3840093e-39),\n",
       "       (-0.56879276,  0.38248298, 1.2151401, 8.3840065e-39),\n",
       "       (-0.56778806,  0.38399538, 1.2129937, 8.3840065e-39),\n",
       "       (-0.56678694,  0.3855025 , 1.210855 , 8.3840065e-39),\n",
       "       (-0.56578934,  0.38700426, 1.2087238, 8.3832877e-39),\n",
       "       (-0.56479526,  0.38850078, 1.2066001, 8.5676789e-39),\n",
       "       (-0.5638046 ,  0.38999203, 1.2044837, 8.6605962e-39),\n",
       "       (-0.56281745,  0.39147803, 1.2023748, 8.5687565e-39),\n",
       "       (-0.56183374,  0.39295885, 1.2002733, 8.3843653e-39),\n",
       "       (-0.5608534 ,  0.3944345 , 1.198179 , 8.2921711e-39),\n",
       "       (-0.5598767 ,  0.39590508, 1.1960922, 8.2921711e-39),\n",
       "       (-0.55890316,  0.39737046, 1.1940125, 8.2921711e-39),\n",
       "       (-0.55793315,  0.3988308 , 1.1919402, 8.2918123e-39),\n",
       "       (-0.55696636,  0.40028605, 1.1898749, 8.3829318e-39),\n",
       "       (-0.55600303,  0.4017363 , 1.1878169, 8.4762064e-39),\n",
       "       (-0.555043  ,  0.40318152, 1.1857659, 8.5687621e-39),\n",
       "       (-0.55408627,  0.40462175, 1.1837219, 8.4765623e-39),\n",
       "       (-0.55313283,  0.40605706, 1.1816851, 8.3836492e-39),\n",
       "       (-0.5521827 ,  0.4074874 , 1.1796552, 8.3832891e-39),\n",
       "       (-0.55123574,  0.40891284, 1.1776322, 8.3832877e-39),\n",
       "       (-0.5502921 ,  0.4103334 , 1.1756163, 8.3829275e-39),\n",
       "       (-0.54935163,  0.4117491 , 1.1736071, 8.5673188e-39),\n",
       "       (-0.5484144 ,  0.41316   , 1.1716049, 8.3832863e-39),\n",
       "       (-0.54748034,  0.41456604, 1.1696094, 8.3832863e-39),\n",
       "       (-0.54654956,  0.41596738, 1.1676209, 8.3832863e-39),\n",
       "       (-0.5456218 ,  0.41736388, 1.1656389, 8.3832863e-39),\n",
       "       (-0.5446972 ,  0.41875568, 1.1636637, 8.3829275e-39),\n",
       "       (-0.54377586,  0.42014283, 1.1616954, 8.4754819e-39),\n",
       "       (-0.5428575 ,  0.4215252 , 1.1597334, 8.3832877e-39),\n",
       "       (-0.54194236,  0.42290297, 1.1577783, 8.1988936e-39),\n",
       "       (-0.54103017,  0.42427605, 1.1558295, 8.1070567e-39),\n",
       "       (-0.54012114,  0.42564458, 1.1538875, 8.1992524e-39),\n",
       "       (-0.5392151 ,  0.42700848, 1.1519519, 8.3843653e-39),\n",
       "       (-0.5383121 ,  0.4283678 , 1.1500227, 8.4765609e-39),\n",
       "       (-0.5374121 ,  0.4297226 , 1.1481001, 8.5687551e-39),\n",
       "       (-0.5365151 ,  0.43107283, 1.1461838, 8.5680335e-39),\n",
       "       (-0.53562117,  0.4324186 , 1.144274 , 8.3836422e-39),\n",
       "       (-0.5347302 ,  0.43375993, 1.1423706, 8.3836436e-39),\n",
       "       (-0.53384215,  0.4350968 , 1.1404735, 8.3832863e-39),\n",
       "       (-0.532957  ,  0.43642914, 1.1385825, 8.3840051e-39),\n",
       "       (-0.53207487,  0.43775716, 1.1366979, 8.3843653e-39),\n",
       "       (-0.5311956 ,  0.43908077, 1.1348195, 8.4765609e-39),\n",
       "       (-0.5303193 ,  0.4404    , 1.1329473, 8.5687565e-39),\n",
       "       (-0.5294458 ,  0.4417149 , 1.1310813, 8.3843639e-39),\n",
       "       (-0.52857524,  0.44302547, 1.1292214, 8.2918067e-39),\n",
       "       (-0.52770746,  0.4443317 , 1.1273676, 8.3832835e-39),\n",
       "       (-0.5268426 ,  0.44563374, 1.12552  , 8.3832863e-39),\n",
       "       (-0.5259805 ,  0.4469314 , 1.1236782, 8.3843639e-39),\n",
       "       (-0.5251213 ,  0.4482249 , 1.1218426, 8.1992538e-39),\n",
       "       (-0.5242649 ,  0.44951418, 1.120013 , 8.3829247e-39),\n",
       "       (-0.5234112 ,  0.45079926, 1.1181893, 8.3832849e-39),\n",
       "       (-0.5225603 ,  0.45208013, 1.1163715, 8.2918081e-39),\n",
       "       (-0.5217122 ,  0.45335686, 1.1145597, 8.2910878e-39),\n",
       "       (-0.5208668 ,  0.45462942, 1.1127536, 8.1992509e-39),\n",
       "       (-0.5200242 ,  0.4558979 , 1.1109535, 8.1992509e-39),\n",
       "       (-0.51918435,  0.45716232, 1.1091592, 8.1066966e-39),\n",
       "       (-0.5183471 ,  0.45842257, 1.1073706, 8.0152198e-39),\n",
       "       (-0.5175126 ,  0.45967883, 1.1055878, 8.1070581e-39),\n",
       "       (-0.5166808 ,  0.46093103, 1.1038108, 8.1992552e-39),\n",
       "       (-0.5158517 ,  0.4621792 , 1.1020395, 8.1999726e-39),\n",
       "       (-0.51502514,  0.4634234 , 1.1002737, 8.1066980e-39),\n",
       "       (-0.5142012 ,  0.46466357, 1.0985136, 8.1070581e-39),\n",
       "       (-0.5133801 ,  0.46589985, 1.0967593, 8.1074183e-39),\n",
       "       (-0.5125615 ,  0.46713215, 1.0950105, 8.1992524e-39),\n",
       "       (-0.5117454 ,  0.46836045, 1.0932671, 8.1996139e-39),\n",
       "       (-0.5109321 ,  0.46958497, 1.0915295, 8.2918095e-39),\n",
       "       (-0.5101212 ,  0.47080553, 1.0897973, 8.2921696e-39)],\n",
       "      dtype={'names':['x','y','z','rgb'], 'formats':['<f4','<f4','<f4','<f4'], 'offsets':[0,4,8,16], 'itemsize':32})"
      ]
     },
     "execution_count": 35,
     "metadata": {},
     "output_type": "execute_result"
    }
   ],
   "source": [
    "points_data[75:,60]"
   ]
  },
  {
   "cell_type": "code",
   "execution_count": 16,
   "metadata": {},
   "outputs": [
    {
     "name": "stdout",
     "output_type": "stream",
     "text": [
      "['ycb_021_bleach_cleanser', 'ycb_065-e_cups', 'wrc_bin_black', 'ycb_057_racquetball', 'wrc_tray', 'ycb_043_phillips_screwdriver', 'wrc_bin_green', 'ycb_073-b_lego_duplo', 'ycb_009_gelatin_box', 'ycb_072-e_toy_airplane', 'ycb_004_sugar_box', 'ycb_073-d_lego_duplo', 'ycb_061_foam_brick', 'ycb_016_pear', 'ycb_065-a_cups', 'wrc_ground_plane', 'wrc_bookshelf', 'ycb_072-b_toy_airplane', 'trofast', 'ycb_026_sponge', 'ycb_012_strawberry', 'ycb_013_apple', 'ycb_051_large_clamp', 'ycb_022_windex_bottle', 'ycb_065-h_cups', 'ycb_025_mug', 'ycb_036_wood_block', 'ycb_056_tennis_ball', 'ycb_044_flat_screwdriver', 'ycb_031_spoon', 'ycb_072-c_toy_airplane', 'wrc_frame', 'ycb_010_potted_meat_can', 'ycb_073-f_lego_duplo', 'ycb_072-d_toy_airplane', 'ycb_053_mini_soccer_ball', 'ycb_033_spatula', 'ycb_040_large_marker', 'ycb_027_skillet', 'ycb_052_extra_large_clamp', 'wrc_container_b', 'ycb_073-a_lego_duplo', 'ycb_070-a_colored_wood_blocks', 'wrc_stair_like_drawer', 'ycb_032_knife', 'wrc_long_table', 'ycb_063-a_marbles', 'ycb_058_golf_ball', 'ycb_003_cracker_box', 'ycb_070-b_colored_wood_blocks', 'ycb_002_master_chef_can', 'ycb_055_baseball', 'ycb_073-e_lego_duplo', 'wrc_tall_table', 'ycb_065-d_cups', 'ycb_029_plate', 'ycb_071_nine_hole_peg_test', 'ycb_018_plum', 'ycb_054_softball', 'ycb_050_medium_clamp', 'ycb_006_mustard_bottle', 'ycb_007_tuna_fish_can', 'ycb_042_adjustable_wrench', 'ycb_065-j_cups', 'ycb_024_bowl', 'ycb_038_padlock', 'ycb_065-b_cups', 'ycb_005_tomato_soup_can', 'ycb_062_dice', 'ycb_015_peach', 'ycb_028_skillet_lid', 'ycb_065-f_cups', 'ycb_048_hammer', 'ycb_008_pudding_box', 'wrc_container_a', 'ycb_063-b_marbles', 'person_standing', 'ycb_073-g_lego_duplo', 'ycb_017_orange', 'ycb_014_lemon', 'ycb_035_power_drill', 'ycb_072-a_toy_airplane', 'ycb_065-i_cups', 'ycb_065-c_cups', 'ycb_011_banana', 'ycb_030_fork', 'ycb_065-g_cups', 'ycb_037_scissors', 'ycb_077_rubiks_cube', 'ycb_019_pitcher_base', 'ycb_073-c_lego_duplo', 'ycb_059_chain']\n"
     ]
    }
   ],
   "source": []
  },
  {
   "cell_type": "code",
   "execution_count": 15,
   "metadata": {},
   "outputs": [],
   "source": [
    "import os"
   ]
  },
  {
   "cell_type": "code",
   "execution_count": null,
   "metadata": {},
   "outputs": [],
   "source": []
  }
 ],
 "metadata": {
  "kernelspec": {
   "display_name": "Python 2",
   "language": "python",
   "name": "python2"
  },
  "language_info": {
   "codemirror_mode": {
    "name": "ipython",
    "version": 2
   },
   "file_extension": ".py",
   "mimetype": "text/x-python",
   "name": "python",
   "nbconvert_exporter": "python",
   "pygments_lexer": "ipython2",
   "version": "2.7.17"
  },
  "nbTranslate": {
   "displayLangs": [
    "ja"
   ],
   "hotkey": "alt-t",
   "langInMainMenu": true,
   "sourceLang": "ja",
   "targetLang": "en",
   "useGoogleTranslate": true
  },
  "toc": {
   "base_numbering": 1,
   "nav_menu": {},
   "number_sections": true,
   "sideBar": true,
   "skip_h1_title": false,
   "title_cell": "Table of Contents",
   "title_sidebar": "Contents",
   "toc_cell": false,
   "toc_position": {},
   "toc_section_display": true,
   "toc_window_display": true
  }
 },
 "nbformat": 4,
 "nbformat_minor": 2
}
