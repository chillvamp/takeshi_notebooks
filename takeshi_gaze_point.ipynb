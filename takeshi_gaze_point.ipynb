{
 "cells": [
  {
   "cell_type": "code",
   "execution_count": 1,
   "metadata": {},
   "outputs": [
    {
     "name": "stderr",
     "output_type": "stream",
     "text": [
      "the rosdep view is empty: call 'sudo rosdep init' and 'rosdep update'\n"
     ]
    }
   ],
   "source": [
    "import sys\n",
    "import os\n",
    "import math\n",
    "import moveit_commander\n",
    "import moveit_msgs.msg\n",
    "import rospy\n",
    "import numpy as np\n",
    "import trajectory_msgs.msg\n",
    "from geometry_msgs.msg import PoseStamped\n",
    "import tf\n",
    "import actionlib\n",
    "import subprocess\n",
    "\n",
    "### ALL OF THESE IMPORTS MUST BE HANDLeD BY TAKESHI INSTALL"
   ]
  },
  {
   "cell_type": "code",
   "execution_count": 2,
   "metadata": {},
   "outputs": [],
   "source": [
    "rospy.init_node('moveiteando')"
   ]
  },
  {
   "cell_type": "code",
   "execution_count": 3,
   "metadata": {},
   "outputs": [],
   "source": [
    "listener = tf.TransformListener()"
   ]
  },
  {
   "cell_type": "code",
   "execution_count": 4,
   "metadata": {},
   "outputs": [],
   "source": [
    "arm = moveit_commander.MoveGroupCommander('arm')\n",
    "base=  moveit_commander.MoveGroupCommander('base')\n",
    "gripper = moveit_commander.MoveGroupCommander('gripper')\n",
    "head = moveit_commander.MoveGroupCommander('head')"
   ]
  },
  {
   "cell_type": "code",
   "execution_count": 5,
   "metadata": {},
   "outputs": [],
   "source": [
    "def delete_object(name):\n",
    "    u\"\"\"Gazeboの物体を消す関数\n",
    "\n",
    "    引数:\n",
    "        name (str): 物体の名前\n",
    "\n",
    "    \"\"\"\n",
    "\n",
    "    cmd = ['rosservice', 'call', 'gazebo/delete_model',\n",
    "           '{model_name: ' + str(name) + '}']\n",
    "    subprocess.call(cmd)\n",
    "\n",
    "    \n",
    "\n"
   ]
  },
  {
   "cell_type": "code",
   "execution_count": 6,
   "metadata": {},
   "outputs": [],
   "source": [
    "#####SPAWN OBJECTS\n",
    "from gazebo_ros import gazebo_interface\n",
    "from geometry_msgs.msg import Pose, Quaternion\n",
    "def spawn_object(gazebo_name, name, x, y, z, yaw):\n",
    "    rospy.loginfo('Spawn: {0}'.format(name))\n",
    "    initial_pose = Pose()\n",
    "    initial_pose.position.x = x\n",
    "    initial_pose.position.y = y\n",
    "    initial_pose.position.z = z\n",
    "    roll = 0.0\n",
    "    pitch = 0.0\n",
    "    yaw = 0.0\n",
    "    q = tf.transformations.quaternion_from_euler(roll, pitch, yaw)\n",
    "    initial_pose.orientation = Quaternion(q[0], q[1], q[2], q[3])\n",
    "\n",
    "    path_xml = _path_xml.replace('MODEL_NAME', name)\n",
    "\n",
    "    with open(path_xml, \"r\") as f:\n",
    "        model_xml = f.read()\n",
    "\n",
    "    model_xml = model_xml.replace('PATH_TO_MODEL', _path_model)\n",
    "\n",
    "    gazebo_interface.spawn_sdf_model_client(gazebo_name, model_xml, rospy.get_namespace(),\n",
    "                                            initial_pose, \"\", \"/gazebo\")\n"
   ]
  },
  {
   "cell_type": "code",
   "execution_count": 7,
   "metadata": {},
   "outputs": [
    {
     "name": "stdout",
     "output_type": "stream",
     "text": [
      "['004_sugar_box', '007_tuna_fish_can', '017_orange', '065-h_cups', '070-b_colored_wood_blocks', '077_rubiks_cube', '070-a_colored_wood_blocks', '054_softball', '073-c_lego_duplo', '011_banana', '013_apple', '037_scissors', '065-d_cups', '050_medium_clamp', '012_strawberry', '065-j_cups', '031_spoon', '072-c_toy_airplane', '061_foam_brick', '018_plum', '008_pudding_box', '072-e_toy_airplane', '065-e_cups', '030_fork', '065-b_cups', '056_tennis_ball', '022_windex_bottle', '042_adjustable_wrench', '059_chain', '006_mustard_bottle', '065-i_cups', '073-b_lego_duplo', '072-a_toy_airplane', '038_padlock', '072-b_toy_airplane', '019_pitcher_base', '043_phillips_screwdriver', '052_extra_large_clamp', '073-g_lego_duplo', '002_master_chef_can', '010_potted_meat_can', '029_plate', '051_large_clamp', '040_large_marker', '065-c_cups', '063-a_marbles', '036_wood_block', '033_spatula', '072-d_toy_airplane', '016_pear', '026_sponge', '003_cracker_box', '048_hammer', '063-b_marbles', '015_peach', '065-g_cups', '044_flat_screwdriver', '032_knife', '005_tomato_soup_can', '057_racquetball', '073-a_lego_duplo', '035_power_drill', '024_bowl', '014_lemon', '062_dice', '021_bleach_cleanser', '025_mug', '028_skillet_lid', '009_gelatin_box', '073-d_lego_duplo', '073-f_lego_duplo', '065-f_cups', '065-a_cups', '071_nine_hole_peg_test', '053_mini_soccer_ball', '058_golf_ball', '055_baseball', '027_skillet', '073-e_lego_duplo']\n"
     ]
    }
   ],
   "source": [
    "## THIS PATH MUST BE SET BY USER ()\n",
    "\n",
    "_path_xml = \"/home/roboworks/Codes/ycb_ws/src/robot_object_views/robotobject/models/MODEL_NAME/model-1_4.sdf\"\n",
    "_path_model = \"/home/roboworks/Codes/ycb_ws/src/robot_object_views/robotobject/models\"\n",
    "\n",
    "model_database_template = \"\"\"<sdf version=\"1.4\">\n",
    "  <world name=\"default\">\n",
    "    <include>\n",
    "      <uri>model://MODEL_NAME</uri>\n",
    "    </include>\n",
    "  </world>\n",
    "</sdf>\"\"\"\n",
    "\n",
    "objs=os.listdir(_path_model)\n",
    "print (objs)"
   ]
  },
  {
   "cell_type": "code",
   "execution_count": 8,
   "metadata": {},
   "outputs": [],
   "source": [
    "def gazebo_2_world(x,y):\n",
    "\n",
    "    x_world= x+2.0\n",
    "    y_world= y-1.0\n",
    "    return (x_world,y_world)\n",
    "\n",
    "def world_2_gazebo(x_world,y_world):\n",
    "\n",
    "    x= ( x_world - 2.5)\n",
    "    y= (-y_world + 1.5) \n",
    "    return (x , y)"
   ]
  },
  {
   "cell_type": "code",
   "execution_count": 9,
   "metadata": {},
   "outputs": [
    {
     "name": "stdout",
     "output_type": "stream",
     "text": [
      "('x,y', 1091.3911264536378, -5.065504497537456)\n"
     ]
    }
   ],
   "source": [
    "z= 0 ## QUERY given Z where does the gaze ponits to wrt map\n",
    "\n",
    "\n",
    "(trans,rot) = listener.lookupTransform('/map', '/head_rgbd_sensor_rgb_frame', rospy.Time(0))\n",
    "e = np.rad2deg(tf.transformations.euler_from_quaternion(rot))\n",
    "D_map=np.abs(trans[2]-z)/np.tan(np.deg2rad(e[0]-(-90)))\n",
    "print ('x,y',D_map*-1* np.sin(np.deg2rad(e[2])), D_map* np.cos(np.deg2rad(e[2]))  )\n",
    "\n"
   ]
  },
  {
   "cell_type": "code",
   "execution_count": 10,
   "metadata": {},
   "outputs": [
    {
     "name": "stdout",
     "output_type": "stream",
     "text": [
      "[INFO] [1610125720.293769, 178.143000]: Spawn: 073-g_lego_duplo\n",
      "[INFO] [1610125720.296262, 178.143000]: Waiting for service /gazebo/spawn_sdf_model\n",
      "[INFO] [1610125720.303502, 178.143000]: Calling service /gazebo/spawn_sdf_model\n",
      "[INFO] [1610125720.380390, 178.162000]: Spawn status: SpawnModel: Successfully spawned entity\n"
     ]
    }
   ],
   "source": [
    "model_name= \"073-g_lego_duplo\"\n",
    "\n",
    "\n",
    "\n",
    "\n",
    "x_gaz,y_gaz=world_2_gazebo(1.2,1)\n",
    "\n",
    "\n",
    "spawn_object(model_name, model_name, x_gaz,  y_gaz, .21, 0)  ### ORigin in gazebo world is in (-2, 1 ) map coords\n",
    "#print (x_gaz,y_gaz)\n",
    "\n",
    "#spawn_object(\"073-g_lego_duplo\", \"073-g_lego_duplo\", x_gaz, y_gaz, .51, 0)\n",
    "\n"
   ]
  },
  {
   "cell_type": "code",
   "execution_count": null,
   "metadata": {},
   "outputs": [],
   "source": []
  },
  {
   "cell_type": "code",
   "execution_count": null,
   "metadata": {},
   "outputs": [],
   "source": []
  },
  {
   "cell_type": "code",
   "execution_count": 20,
   "metadata": {},
   "outputs": [],
   "source": [
    "def gaze_point_floor(x,y):\n",
    "    \n",
    "    arm_pose=arm.get_current_joint_values()\n",
    "    arm_pose[0]=.1\n",
    "    arm_pose[1]= -0.3\n",
    "    arm.set_joint_value_target(arm_pose)\n",
    "    arm.go()\n",
    "    head_pose = head.get_current_joint_values()\n",
    "    head_pose[0]=0.0\n",
    "    head_pose[1]=0.0\n",
    "    head.set_joint_value_target(head_pose)\n",
    "    head.go()\n",
    "    trans , rot = listener.lookupTransform('/map', '/head_rgbd_sensor_gazebo_frame', rospy.Time(0)) #\n",
    "    np.rad2deg(head_pose)\n",
    "    e =tf.transformations.euler_from_quaternion(rot)\n",
    "    print('i am at',trans[:2],np.rad2deg(e)[2])\n",
    "    print('gaze goal',x,y)\n",
    "    #tf.transformations.euler_from_quaternion(rot)\n",
    "\n",
    "\n",
    "    x_rob,y_rob,th_rob= trans[0], trans[1] ,  e[2]\n",
    "\n",
    "\n",
    "    D_x=x_rob-x\n",
    "    D_y=y_rob-y\n",
    "    D_th= np.arctan2(D_y,D_x)\n",
    "    print('relative to robot',(D_x,D_y,np.rad2deg(D_th)))\n",
    "\n",
    "    pan_correct= (- th_rob + D_th + np.pi) % (2*np.pi)\n",
    "\n",
    "    if(pan_correct > np.pi):\n",
    "        pan_correct=-2*np.pi+pan_correct\n",
    "    if(pan_correct < -np.pi):\n",
    "        pan_correct=2*np.pi+pan_correct\n",
    "\n",
    "    if ((pan_correct) > .5 * np.pi):\n",
    "        print ('Exorcist alert')\n",
    "        pan_correct=.5*np.pi\n",
    "    head_pose[0]=pan_correct\n",
    "    tilt_correct=np.arctan2(trans[2],np.linalg.norm((D_x,D_y)))\n",
    "\n",
    "    head_pose [1]=-tilt_correct\n",
    "    \n",
    "    \n",
    "    \n",
    "    head.set_joint_value_target(head_pose)\n",
    "    head.go()"
   ]
  },
  {
   "cell_type": "code",
   "execution_count": 21,
   "metadata": {},
   "outputs": [
    {
     "name": "stdout",
     "output_type": "stream",
     "text": [
      "('i am at', [-0.05889733901018696, 0.02140851360943641], -0.6597231147450632)\n",
      "('gaze goal', 1, 1)\n",
      "('relative to robot', (-1.058897339010187, -0.9785914863905636, -137.257095096097))\n"
     ]
    }
   ],
   "source": [
    "gaze_point_floor(1,1)"
   ]
  },
  {
   "cell_type": "code",
   "execution_count": 33,
   "metadata": {},
   "outputs": [
    {
     "data": {
      "text/plain": [
       "1.442411775108887"
      ]
     },
     "execution_count": 33,
     "metadata": {},
     "output_type": "execute_result"
    }
   ],
   "source": [
    "np.linalg.norm((-1.0601638321311557, -0.9780615410155707))\n"
   ]
  },
  {
   "cell_type": "code",
   "execution_count": 34,
   "metadata": {},
   "outputs": [
    {
     "data": {
      "text/plain": [
       "1.4421785195852657"
      ]
     },
     "execution_count": 34,
     "metadata": {},
     "output_type": "execute_result"
    }
   ],
   "source": [
    "trans , rot = listener.lookupTransform('/map', '/head_rgbd_sensor_gazebo_frame', rospy.Time(0)) #\n",
    "D_x,D_y = -1.0596602015879786, -0.9782633283138407\n",
    "np.linalg.norm((D_x,D_y))\n",
    "\n"
   ]
  },
  {
   "cell_type": "code",
   "execution_count": 35,
   "metadata": {},
   "outputs": [],
   "source": [
    "tilt_correct=np.arctan2(trans[2],np.linalg.norm((D_x,D_y)))"
   ]
  },
  {
   "cell_type": "code",
   "execution_count": 76,
   "metadata": {},
   "outputs": [
    {
     "data": {
      "text/plain": [
       "True"
      ]
     },
     "execution_count": 76,
     "metadata": {},
     "output_type": "execute_result"
    }
   ],
   "source": [
    "if(pan_correct > np.pi):\n",
    "    print (pan_correct)\n",
    "    print ('better',-2*np.pi+pan_correct)\n",
    "if(pan_correct < -np.pi):\n",
    "    print (pan_correct)\n",
    "    print ('better',2*np.pi+pan_correct)\n",
    "    head_pose[0]=2*np.pi+pan_correct\n",
    "    if (2*np.pi+pan_correct >np.pi*.5):\n",
    "        print ('exorcist alert')\n",
    "        head_pose[0]=np.pi*.5\n",
    "else:\n",
    "    head_pose[0]=pan_correct\n",
    "head.set_joint_value_target(head_pose)\n",
    "head.go()"
   ]
  },
  {
   "cell_type": "code",
   "execution_count": 37,
   "metadata": {},
   "outputs": [
    {
     "data": {
      "text/plain": [
       "True"
      ]
     },
     "execution_count": 37,
     "metadata": {},
     "output_type": "execute_result"
    }
   ],
   "source": [
    "head_pose = head.get_current_joint_values()\n",
    "head_pose[1]= -tilt_correct\n",
    "head.set_joint_value_target(head_pose)\n",
    "head.go()"
   ]
  },
  {
   "cell_type": "code",
   "execution_count": 29,
   "metadata": {},
   "outputs": [
    {
     "ename": "NameError",
     "evalue": "name 'tilt_correct' is not defined",
     "output_type": "error",
     "traceback": [
      "\u001b[0;31m---------------------------------------------------------------------------\u001b[0m",
      "\u001b[0;31mNameError\u001b[0m                                 Traceback (most recent call last)",
      "\u001b[0;32m<ipython-input-29-a7d27592beda>\u001b[0m in \u001b[0;36m<module>\u001b[0;34m()\u001b[0m\n\u001b[0;32m----> 1\u001b[0;31m \u001b[0mtilt_correct\u001b[0m\u001b[0;34m\u001b[0m\u001b[0m\n\u001b[0m",
      "\u001b[0;31mNameError\u001b[0m: name 'tilt_correct' is not defined"
     ]
    }
   ],
   "source": [
    "tilt_correct"
   ]
  },
  {
   "cell_type": "code",
   "execution_count": 30,
   "metadata": {},
   "outputs": [],
   "source": [
    "head_pose = head.get_current_joint_values()\n"
   ]
  },
  {
   "cell_type": "code",
   "execution_count": 28,
   "metadata": {},
   "outputs": [
    {
     "ename": "NameError",
     "evalue": "name 'tilt_correct' is not defined",
     "output_type": "error",
     "traceback": [
      "\u001b[0;31m---------------------------------------------------------------------------\u001b[0m",
      "\u001b[0;31mNameError\u001b[0m                                 Traceback (most recent call last)",
      "\u001b[0;32m<ipython-input-28-60b87ecf8f57>\u001b[0m in \u001b[0;36m<module>\u001b[0;34m()\u001b[0m\n\u001b[0;32m----> 1\u001b[0;31m \u001b[0mhead_pose\u001b[0m \u001b[0;34m[\u001b[0m\u001b[0;36m1\u001b[0m\u001b[0;34m]\u001b[0m\u001b[0;34m=\u001b[0m\u001b[0;34m-\u001b[0m\u001b[0mtilt_correct\u001b[0m\u001b[0;34m\u001b[0m\u001b[0m\n\u001b[0m\u001b[1;32m      2\u001b[0m \u001b[0mhead\u001b[0m\u001b[0;34m.\u001b[0m\u001b[0mset_joint_value_target\u001b[0m\u001b[0;34m(\u001b[0m\u001b[0mhead_pose\u001b[0m\u001b[0;34m)\u001b[0m\u001b[0;34m\u001b[0m\u001b[0m\n\u001b[1;32m      3\u001b[0m \u001b[0mhead\u001b[0m\u001b[0;34m.\u001b[0m\u001b[0mgo\u001b[0m\u001b[0;34m(\u001b[0m\u001b[0;34m)\u001b[0m\u001b[0;34m\u001b[0m\u001b[0m\n",
      "\u001b[0;31mNameError\u001b[0m: name 'tilt_correct' is not defined"
     ]
    }
   ],
   "source": []
  },
  {
   "cell_type": "code",
   "execution_count": 14,
   "metadata": {},
   "outputs": [
    {
     "data": {
      "text/plain": [
       "(['arm_lift_joint',\n",
       "  'arm_flex_joint',\n",
       "  'arm_roll_joint',\n",
       "  'wrist_flex_joint',\n",
       "  'wrist_roll_joint',\n",
       "  'wrist_ft_sensor_frame_joint'],\n",
       " [0.0913309879955888,\n",
       "  -2.5024671537207652,\n",
       "  -1.5692579000708107,\n",
       "  -1.5701602929505043,\n",
       "  -3.813824795440013e-05,\n",
       "  0.0])"
      ]
     },
     "execution_count": 14,
     "metadata": {},
     "output_type": "execute_result"
    }
   ],
   "source": [
    "arm.get_active_joints(),arm.get_current_joint_values()\n"
   ]
  },
  {
   "cell_type": "code",
   "execution_count": 19,
   "metadata": {},
   "outputs": [
    {
     "data": {
      "text/plain": [
       "True"
      ]
     },
     "execution_count": 19,
     "metadata": {},
     "output_type": "execute_result"
    }
   ],
   "source": []
  },
  {
   "cell_type": "code",
   "execution_count": 41,
   "metadata": {},
   "outputs": [
    {
     "data": {
      "text/plain": [
       "True"
      ]
     },
     "execution_count": 41,
     "metadata": {},
     "output_type": "execute_result"
    }
   ],
   "source": [
    "head_pose = head.get_current_joint_values()\n",
    "head_pose[0]=0.0\n",
    "head_pose[1]=0.0\n",
    "head.set_joint_value_target(head_pose)\n",
    "head.go()"
   ]
  },
  {
   "cell_type": "code",
   "execution_count": 38,
   "metadata": {},
   "outputs": [
    {
     "data": {
      "text/plain": [
       "0.6025695789184932"
      ]
     },
     "execution_count": 38,
     "metadata": {},
     "output_type": "execute_result"
    }
   ],
   "source": [
    "tilt_correct"
   ]
  },
  {
   "cell_type": "code",
   "execution_count": 39,
   "metadata": {},
   "outputs": [
    {
     "ename": "AttributeError",
     "evalue": "'float' object has no attribute 'np'",
     "output_type": "error",
     "traceback": [
      "\u001b[0;31m---------------------------------------------------------------------------\u001b[0m",
      "\u001b[0;31mAttributeError\u001b[0m                            Traceback (most recent call last)",
      "\u001b[0;32m<ipython-input-39-5e86b1b263e5>\u001b[0m in \u001b[0;36m<module>\u001b[0;34m()\u001b[0m\n\u001b[0;32m----> 1\u001b[0;31m \u001b[0mnp\u001b[0m\u001b[0;34m.\u001b[0m\u001b[0mclip\u001b[0m\u001b[0;34m(\u001b[0m\u001b[0mtilt_correct\u001b[0m\u001b[0;34m,\u001b[0m\u001b[0;34m-\u001b[0m\u001b[0;36m.4\u001b[0m\u001b[0;34m*\u001b[0m\u001b[0mnp\u001b[0m\u001b[0;34m.\u001b[0m\u001b[0mpi\u001b[0m\u001b[0;34m,\u001b[0m\u001b[0;36m.4\u001b[0m\u001b[0;34m.\u001b[0m\u001b[0mnp\u001b[0m\u001b[0;34m.\u001b[0m\u001b[0mpi\u001b[0m \u001b[0;34m)\u001b[0m\u001b[0;34m\u001b[0m\u001b[0m\n\u001b[0m",
      "\u001b[0;31mAttributeError\u001b[0m: 'float' object has no attribute 'np'"
     ]
    }
   ],
   "source": []
  },
  {
   "cell_type": "code",
   "execution_count": null,
   "metadata": {},
   "outputs": [],
   "source": []
  }
 ],
 "metadata": {
  "kernelspec": {
   "display_name": "Python 2",
   "language": "python",
   "name": "python2"
  },
  "language_info": {
   "codemirror_mode": {
    "name": "ipython",
    "version": 2
   },
   "file_extension": ".py",
   "mimetype": "text/x-python",
   "name": "python",
   "nbconvert_exporter": "python",
   "pygments_lexer": "ipython2",
   "version": "2.7.17"
  },
  "nbTranslate": {
   "displayLangs": [
    "*"
   ],
   "hotkey": "alt-t",
   "langInMainMenu": true,
   "sourceLang": "en",
   "targetLang": "fr",
   "useGoogleTranslate": true
  },
  "toc": {
   "base_numbering": 1,
   "nav_menu": {},
   "number_sections": true,
   "sideBar": true,
   "skip_h1_title": false,
   "title_cell": "Table of Contents",
   "title_sidebar": "Contents",
   "toc_cell": false,
   "toc_position": {},
   "toc_section_display": true,
   "toc_window_display": false
  }
 },
 "nbformat": 4,
 "nbformat_minor": 2
}
