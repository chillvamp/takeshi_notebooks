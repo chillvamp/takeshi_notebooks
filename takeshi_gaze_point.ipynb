{
 "cells": [
  {
   "cell_type": "code",
   "execution_count": 1,
   "metadata": {},
   "outputs": [
    {
     "name": "stderr",
     "output_type": "stream",
     "text": [
      "the rosdep view is empty: call 'sudo rosdep init' and 'rosdep update'\n"
     ]
    }
   ],
   "source": [
    "import sys\n",
    "import os\n",
    "import math\n",
    "import moveit_commander\n",
    "import moveit_msgs.msg\n",
    "import rospy\n",
    "import numpy as np\n",
    "import trajectory_msgs.msg\n",
    "from geometry_msgs.msg import PoseStamped\n",
    "import tf\n",
    "import actionlib\n",
    "### ALL OF THESE IMPORTS MUST BE HANDLeD BY TAKESHI INSTALL"
   ]
  },
  {
   "cell_type": "code",
   "execution_count": 2,
   "metadata": {},
   "outputs": [],
   "source": [
    "rospy.init_node('moveiteando')"
   ]
  },
  {
   "cell_type": "code",
   "execution_count": 3,
   "metadata": {},
   "outputs": [],
   "source": [
    "listener = tf.TransformListener()"
   ]
  },
  {
   "cell_type": "code",
   "execution_count": 4,
   "metadata": {},
   "outputs": [],
   "source": [
    "arm = moveit_commander.MoveGroupCommander('arm')\n",
    "base=  moveit_commander.MoveGroupCommander('base')\n",
    "gripper = moveit_commander.MoveGroupCommander('gripper')\n",
    "head = moveit_commander.MoveGroupCommander('head')"
   ]
  },
  {
   "cell_type": "code",
   "execution_count": 5,
   "metadata": {},
   "outputs": [
    {
     "name": "stdout",
     "output_type": "stream",
     "text": [
      "('x,y', 1089.8550835887186, -1.2750910684917274)\n"
     ]
    }
   ],
   "source": [
    "z= 0 ## QUERY Z\n",
    "(trans,rot) = listener.lookupTransform('/map', '/head_rgbd_sensor_rgb_frame', rospy.Time(0))\n",
    "e = np.rad2deg(tf.transformations.euler_from_quaternion(rot))\n",
    "D_map=np.abs(trans[2]-z)/np.tan(np.deg2rad(e[0]-(-90)))\n",
    "print ('x,y',D_map*-1* np.sin(np.deg2rad(e[2])), D_map* np.cos(np.deg2rad(e[2]))  )\n",
    "\n"
   ]
  },
  {
   "cell_type": "code",
   "execution_count": 6,
   "metadata": {},
   "outputs": [],
   "source": [
    "#####SPAWN OBJECTS\n",
    "from gazebo_ros import gazebo_interface\n",
    "from geometry_msgs.msg import Pose, Quaternion\n",
    "def spawn_object(gazebo_name, name, x, y, z, yaw):\n",
    "    rospy.loginfo('Spawn: {0}'.format(name))\n",
    "    initial_pose = Pose()\n",
    "    initial_pose.position.x = x\n",
    "    initial_pose.position.y = y\n",
    "    initial_pose.position.z = z\n",
    "    roll = 0.0\n",
    "    pitch = 0.0\n",
    "    yaw = 0.0\n",
    "    q = tf.transformations.quaternion_from_euler(roll, pitch, yaw)\n",
    "    initial_pose.orientation = Quaternion(q[0], q[1], q[2], q[3])\n",
    "\n",
    "    path_xml = _path_xml.replace('MODEL_NAME', name)\n",
    "\n",
    "    with open(path_xml, \"r\") as f:\n",
    "        model_xml = f.read()\n",
    "\n",
    "    model_xml = model_xml.replace('PATH_TO_MODEL', _path_model)\n",
    "\n",
    "    gazebo_interface.spawn_sdf_model_client(gazebo_name, model_xml, rospy.get_namespace(),\n",
    "                                            initial_pose, \"\", \"/gazebo\")\n"
   ]
  },
  {
   "cell_type": "code",
   "execution_count": 7,
   "metadata": {},
   "outputs": [],
   "source": [
    "_path_xml = \"/home/roboworks/Codes/ycb_ws/src/robot_object_views/robotobject/models/MODEL_NAME/model-1_4.sdf\"\n",
    "_path_model = \"/home/roboworks/Codes/ycb_ws/src/robot_object_views/robotobject/models\"\n",
    "\n",
    "model_database_template = \"\"\"<sdf version=\"1.4\">\n",
    "  <world name=\"default\">\n",
    "    <include>\n",
    "      <uri>model://MODEL_NAME</uri>\n",
    "    </include>\n",
    "  </world>\n",
    "</sdf>\"\"\"\n",
    "\n",
    "objs=os.listdir(_path_model)"
   ]
  },
  {
   "cell_type": "code",
   "execution_count": 8,
   "metadata": {},
   "outputs": [
    {
     "name": "stdout",
     "output_type": "stream",
     "text": [
      "[INFO] [1609433573.613004, 345.538000]: Spawn: 073-g_lego_duplo\n",
      "[INFO] [1609433573.615414, 345.538000]: Waiting for service /gazebo/spawn_sdf_model\n",
      "[INFO] [1609433573.628981, 345.544000]: Calling service /gazebo/spawn_sdf_model\n",
      "[INFO] [1609433573.642708, 345.547000]: Spawn status: SpawnModel: Failure - entity already exists.\n"
     ]
    }
   ],
   "source": [
    "model_name= \"073-g_lego_duplo\"\n",
    "spawn_object(\"073-g_lego_duplo\", \"073-g_lego_duplo\", -1.5, 0.5, 1, 0)\n"
   ]
  },
  {
   "cell_type": "code",
   "execution_count": 9,
   "metadata": {},
   "outputs": [
    {
     "data": {
      "text/plain": [
       "[1, -0.00013686033108162583, -0.0011686598826976839]"
      ]
     },
     "execution_count": 9,
     "metadata": {},
     "output_type": "execute_result"
    }
   ],
   "source": [
    "goal=base.get_current_joint_values()\n",
    "goal[0]=1\n",
    "goal\n"
   ]
  },
  {
   "cell_type": "code",
   "execution_count": 12,
   "metadata": {},
   "outputs": [
    {
     "data": {
      "text/plain": [
       "True"
      ]
     },
     "execution_count": 12,
     "metadata": {},
     "output_type": "execute_result"
    }
   ],
   "source": [
    "base.set_joint_value_target(goal)\n",
    "base.go()"
   ]
  },
  {
   "cell_type": "code",
   "execution_count": 22,
   "metadata": {},
   "outputs": [
    {
     "data": {
      "text/plain": [
       "[1, -0.00013641330278248986, -0.001166446439266248]"
      ]
     },
     "execution_count": 22,
     "metadata": {},
     "output_type": "execute_result"
    }
   ],
   "source": []
  },
  {
   "cell_type": "code",
   "execution_count": 10,
   "metadata": {},
   "outputs": [],
   "source": []
  },
  {
   "cell_type": "code",
   "execution_count": 24,
   "metadata": {},
   "outputs": [
    {
     "ename": "NameError",
     "evalue": "name 'whole_body' is not defined",
     "output_type": "error",
     "traceback": [
      "\u001b[0;31m---------------------------------------------------------------------------\u001b[0m",
      "\u001b[0;31mNameError\u001b[0m                                 Traceback (most recent call last)",
      "\u001b[0;32m<ipython-input-24-16d6bcb114b4>\u001b[0m in \u001b[0;36m<module>\u001b[0;34m()\u001b[0m\n\u001b[0;32m----> 1\u001b[0;31m \u001b[0mpp\u001b[0m\u001b[0;34m=\u001b[0m\u001b[0mwhole_body\u001b[0m\u001b[0;34m.\u001b[0m\u001b[0mget_current_joint_values\u001b[0m\u001b[0;34m(\u001b[0m\u001b[0;34m)\u001b[0m\u001b[0;34m\u001b[0m\u001b[0m\n\u001b[0m",
      "\u001b[0;31mNameError\u001b[0m: name 'whole_body' is not defined"
     ]
    }
   ],
   "source": [
    "pp=whole_body.get_current_joint_values()"
   ]
  },
  {
   "cell_type": "code",
   "execution_count": null,
   "metadata": {},
   "outputs": [],
   "source": []
  }
 ],
 "metadata": {
  "kernelspec": {
   "display_name": "Python 2",
   "language": "python",
   "name": "python2"
  },
  "language_info": {
   "codemirror_mode": {
    "name": "ipython",
    "version": 2
   },
   "file_extension": ".py",
   "mimetype": "text/x-python",
   "name": "python",
   "nbconvert_exporter": "python",
   "pygments_lexer": "ipython2",
   "version": "2.7.17"
  },
  "nbTranslate": {
   "displayLangs": [
    "*"
   ],
   "hotkey": "alt-t",
   "langInMainMenu": true,
   "sourceLang": "en",
   "targetLang": "fr",
   "useGoogleTranslate": true
  },
  "toc": {
   "base_numbering": 1,
   "nav_menu": {},
   "number_sections": true,
   "sideBar": true,
   "skip_h1_title": false,
   "title_cell": "Table of Contents",
   "title_sidebar": "Contents",
   "toc_cell": false,
   "toc_position": {},
   "toc_section_display": true,
   "toc_window_display": false
  }
 },
 "nbformat": 4,
 "nbformat_minor": 2
}
